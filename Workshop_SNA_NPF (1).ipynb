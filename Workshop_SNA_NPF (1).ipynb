{
  "nbformat": 4,
  "nbformat_minor": 0,
  "metadata": {
    "colab": {
      "name": "Workshop-SNA-NPF.ipynb",
      "provenance": [],
      "toc_visible": true
    },
    "kernelspec": {
      "name": "python3",
      "display_name": "Python 3.8.6 64-bit",
      "metadata": {
        "interpreter": {
          "hash": "4cd7ab41f5fca4b9b44701077e38c5ffd31fe66a6cab21e0214b68d958d0e462"
        }
      }
    },
    "language_info": {
      "name": "python",
      "version": "3.8.6"
    }
  },
  "cells": [
    {
      "cell_type": "markdown",
      "metadata": {
        "id": "pcW5wuc7UesA"
      },
      "source": [
        "# NPF Network Sci.Workshop-Practical Session\n",
        "\n",
        "Welcome to the hands-on network analysis session. Let's have some fun 😏!\n",
        "\n",
        "\n",
        "*By Yukun   \n",
        "June, 2021*"
      ]
    },
    {
      "cell_type": "markdown",
      "metadata": {
        "id": "cinVRqOnZdAa"
      },
      "source": [
        "# Preparing Data\n",
        "\n"
      ]
    },
    {
      "cell_type": "markdown",
      "metadata": {
        "id": "gFeQkTVpIi9a"
      },
      "source": [
        "## Graph Representation\n",
        "Network are essentially matrix. Adjecency matrix has the crux of two nodes indicating an existing connectin or not. We use binary values for unweighted graph and real values for weighted graph. \n",
        "\n",
        "The problem with this approach is that it is not memory-efficient. Often times the network is sparse and there are way more zeros than ones. Another method is just to store the edges as a list, then we can convert the list to a matrix."
      ]
    },
    {
      "cell_type": "markdown",
      "metadata": {
        "id": "X2nWClQfFRx3"
      },
      "source": [
        "![Graph Representation](https://textbook.coleridgeinitiative.org/ChapterNetworks/figures/fig8-1.png)\n"
      ]
    },
    {
      "cell_type": "code",
      "metadata": {
        "colab": {
          "base_uri": "https://localhost:8080/"
        },
        "id": "jBl8sUezIUJ5",
        "outputId": "378328b2-e8aa-425f-92a3-4ec163ebb32f"
      },
      "source": [
        "!pip install --upgrade plotly"
      ],
      "execution_count": 7,
      "outputs": [
        {
          "output_type": "stream",
          "text": [
            "Requirement already up-to-date: plotly in /usr/local/lib/python3.7/dist-packages (4.14.3)\n",
            "Requirement already satisfied, skipping upgrade: retrying>=1.3.3 in /usr/local/lib/python3.7/dist-packages (from plotly) (1.3.3)\n",
            "Requirement already satisfied, skipping upgrade: six in /usr/local/lib/python3.7/dist-packages (from plotly) (1.15.0)\n"
          ],
          "name": "stdout"
        }
      ]
    },
    {
      "cell_type": "markdown",
      "metadata": {
        "id": "AW2JxMqWIZvc"
      },
      "source": [
        "## Querying Data from Bonusly API "
      ]
    },
    {
      "cell_type": "markdown",
      "metadata": {
        "id": "dMMUWxW3I7JT"
      },
      "source": [
        "You only need to run through the code. I have wrapped up the API calling and data cleaning for you. Basically, we constructing a edge list and a node list by querying real-time Bonusly API."
      ]
    },
    {
      "cell_type": "code",
      "metadata": {
        "id": "Y5OlVUeZB7V_",
        "colab": {
          "base_uri": "https://localhost:8080/",
          "height": 528
        },
        "outputId": "dd8586a7-50db-4bca-cc6d-73cfcc82fd5b"
      },
      "source": [
        "# from google.colab import drive\n",
        "# drive.mount('/content/drive')"
      ],
      "execution_count": 1,
      "outputs": []
    },
    {
      "cell_type": "code",
      "metadata": {
        "id": "eHUAf4Kx8L2y"
      },
      "source": [
        "# import sys\n",
        "# sys.path.append('drive/MyDrive/workshop/')\n",
        "from bonously import generate_network_data"
      ],
      "execution_count": null,
      "outputs": []
    },
    {
      "cell_type": "code",
      "metadata": {
        "colab": {
          "base_uri": "https://localhost:8080/"
        },
        "id": "QVu5OKG8ZlOt",
        "outputId": "34d887b0-6edf-4660-c980-f0ff7c085d16"
      },
      "source": [
        "edge_list, node_list= generate_network_data()"
      ],
      "execution_count": null,
      "outputs": [
        {
          "output_type": "stream",
          "text": [
            "Staring from 0... Scraped 0 records\n",
            "Staring from 100... Scraped 100 records\n",
            "Staring from 200... Scraped 200 records\n",
            "Staring from 300... Scraped 300 records\n",
            "Staring from 400... Scraped 400 records\n",
            "Staring from 500... Scraped 406 records\n",
            "Finished with 742 edges and 49 nodes\n"
          ],
          "name": "stdout"
        }
      ]
    },
    {
      "cell_type": "code",
      "metadata": {
        "id": "XBK8GtGb8Yi_"
      },
      "source": [
        "import plotly.express as px\n",
        "import pandas as pd\n",
        "import plotly\n",
        "# plotly.io.renderers.default = 'colab'"
      ],
      "execution_count": null,
      "outputs": []
    },
    {
      "cell_type": "markdown",
      "metadata": {
        "id": "3YcCxEnd8Zcm"
      },
      "source": [
        "Alternative: if accessing the data scraping script from google drive does not work. Un-comment (removing the # symbol for each line) the following code to load the datasets."
      ]
    },
    {
      "cell_type": "code",
      "metadata": {
        "id": "pGcT7wAI8u5M"
      },
      "source": [
        "# node_list = pd.read_csv('')\n",
        "# edge_list= pd.read.csv('')"
      ],
      "execution_count": null,
      "outputs": []
    },
    {
      "cell_type": "markdown",
      "metadata": {
        "id": "R2Uih8OoJIzg"
      },
      "source": [
        "Let's take a look at our datasets."
      ]
    },
    {
      "cell_type": "code",
      "metadata": {
        "colab": {
          "base_uri": "https://localhost:8080/",
          "height": 394
        },
        "id": "4CB8_gNiFcRC",
        "outputId": "ce6827c7-4e97-4771-9016-38a10da0ef2d"
      },
      "source": [
        "node_list.head()"
      ],
      "execution_count": null,
      "outputs": [
        {
          "output_type": "execute_result",
          "data": {
            "text/html": [
              "<div>\n",
              "<style scoped>\n",
              "    .dataframe tbody tr th:only-of-type {\n",
              "        vertical-align: middle;\n",
              "    }\n",
              "\n",
              "    .dataframe tbody tr th {\n",
              "        vertical-align: top;\n",
              "    }\n",
              "\n",
              "    .dataframe thead th {\n",
              "        text-align: right;\n",
              "    }\n",
              "</style>\n",
              "<table border=\"1\" class=\"dataframe\">\n",
              "  <thead>\n",
              "    <tr style=\"text-align: right;\">\n",
              "      <th></th>\n",
              "      <th>id</th>\n",
              "      <th>short_name</th>\n",
              "      <th>full_name</th>\n",
              "      <th>display_name</th>\n",
              "      <th>username</th>\n",
              "      <th>email</th>\n",
              "      <th>path</th>\n",
              "      <th>full_pic_url</th>\n",
              "      <th>profile_pic_url</th>\n",
              "      <th>first_name</th>\n",
              "      <th>last_name</th>\n",
              "      <th>last_active_at</th>\n",
              "      <th>created_at</th>\n",
              "      <th>external_unique_id</th>\n",
              "      <th>budget_boost</th>\n",
              "      <th>user_mode</th>\n",
              "      <th>country</th>\n",
              "      <th>time_zone</th>\n",
              "      <th>can_receive</th>\n",
              "      <th>can_give</th>\n",
              "      <th>give_amounts</th>\n",
              "      <th>suggested_give_amounts</th>\n",
              "      <th>custom_properties</th>\n",
              "      <th>status</th>\n",
              "      <th>hired_on</th>\n",
              "      <th>manager_email</th>\n",
              "      <th>division</th>\n",
              "      <th>employee_number</th>\n",
              "      <th>job_title</th>\n",
              "      <th>department</th>\n",
              "      <th>location</th>\n",
              "      <th>admin</th>\n",
              "    </tr>\n",
              "  </thead>\n",
              "  <tbody>\n",
              "    <tr>\n",
              "      <th>0</th>\n",
              "      <td>60194850b332a50011c4836e</td>\n",
              "      <td>Travis Taniguchi</td>\n",
              "      <td>Travis Taniguchi</td>\n",
              "      <td>Travis Taniguchi</td>\n",
              "      <td>ttaniguchi</td>\n",
              "      <td>ttaniguchi@policefoundation.org</td>\n",
              "      <td>/company/users/60194850b332a50011c4836e</td>\n",
              "      <td>https://bonusly-fog.s3.amazonaws.com/uploads/u...</td>\n",
              "      <td>https://bonusly-fog.s3.amazonaws.com/uploads/u...</td>\n",
              "      <td>Travis</td>\n",
              "      <td>Taniguchi</td>\n",
              "      <td>2021-06-08T17:30:40Z</td>\n",
              "      <td>2021-02-02T12:40:48Z</td>\n",
              "      <td>117</td>\n",
              "      <td>0</td>\n",
              "      <td>benefactor</td>\n",
              "      <td>US</td>\n",
              "      <td>America/New_York</td>\n",
              "      <td>True</td>\n",
              "      <td>True</td>\n",
              "      <td>[5, 10, 15, 20, 25]</td>\n",
              "      <td>[{'dataValue': 0, 'name': '0 Heroes'}, {'dataV...</td>\n",
              "      <td>{'department': None, 'location': None, 'role':...</td>\n",
              "      <td>active</td>\n",
              "      <td>2020-05-29</td>\n",
              "      <td>jburch@policefoundation.org</td>\n",
              "      <td>research</td>\n",
              "      <td>10003</td>\n",
              "      <td>director, research division</td>\n",
              "      <td>NaN</td>\n",
              "      <td>NaN</td>\n",
              "      <td>NaN</td>\n",
              "    </tr>\n",
              "    <tr>\n",
              "      <th>0</th>\n",
              "      <td>6019484eb332a50011c4835c</td>\n",
              "      <td>Karen Amendola</td>\n",
              "      <td>Karen Amendola</td>\n",
              "      <td>Karen Amendola</td>\n",
              "      <td>kamendola</td>\n",
              "      <td>kamendola@policefoundation.org</td>\n",
              "      <td>/company/users/6019484eb332a50011c4835c</td>\n",
              "      <td>https://bonusly-fog.s3.amazonaws.com/uploads/u...</td>\n",
              "      <td>https://bonusly-fog.s3.amazonaws.com/uploads/u...</td>\n",
              "      <td>Karen</td>\n",
              "      <td>Amendola</td>\n",
              "      <td>2021-06-07T20:38:19Z</td>\n",
              "      <td>2021-02-02T12:40:46Z</td>\n",
              "      <td>116</td>\n",
              "      <td>0</td>\n",
              "      <td>normal</td>\n",
              "      <td>US</td>\n",
              "      <td>America/New_York</td>\n",
              "      <td>True</td>\n",
              "      <td>True</td>\n",
              "      <td>[5, 10, 15, 20, 25]</td>\n",
              "      <td>[{'dataValue': 0, 'name': '0 Heroes'}, {'dataV...</td>\n",
              "      <td>{'department': None, 'location': None, 'role':...</td>\n",
              "      <td>active</td>\n",
              "      <td>2000-06-28</td>\n",
              "      <td>ttaniguchi@policefoundation.org</td>\n",
              "      <td>research</td>\n",
              "      <td>227</td>\n",
              "      <td>chief behavioral scientist</td>\n",
              "      <td>NaN</td>\n",
              "      <td>NaN</td>\n",
              "      <td>NaN</td>\n",
              "    </tr>\n",
              "    <tr>\n",
              "      <th>0</th>\n",
              "      <td>60ad129ec473a800672fa7da</td>\n",
              "      <td>Brianna Sclafani</td>\n",
              "      <td>Brianna Sclafani</td>\n",
              "      <td>Brianna Sclafani</td>\n",
              "      <td>bsclafani</td>\n",
              "      <td>bsclafani@policefoundation.org</td>\n",
              "      <td>/company/users/60ad129ec473a800672fa7da</td>\n",
              "      <td>https://bonusly-fog.s3.amazonaws.com/uploads/u...</td>\n",
              "      <td>https://bonusly-fog.s3.amazonaws.com/uploads/u...</td>\n",
              "      <td>Brianna</td>\n",
              "      <td>Sclafani</td>\n",
              "      <td>2021-06-09T15:37:02Z</td>\n",
              "      <td>2021-05-25T15:07:10Z</td>\n",
              "      <td>158</td>\n",
              "      <td>0</td>\n",
              "      <td>normal</td>\n",
              "      <td>US</td>\n",
              "      <td>America/New_York</td>\n",
              "      <td>True</td>\n",
              "      <td>True</td>\n",
              "      <td>[5, 10, 15, 20, 25]</td>\n",
              "      <td>[{'dataValue': 0, 'name': '0 Heroes'}, {'dataV...</td>\n",
              "      <td>{'department': None, 'location': None, 'role':...</td>\n",
              "      <td>active</td>\n",
              "      <td>2021-05-17</td>\n",
              "      <td>aburstein@policefoundation.org</td>\n",
              "      <td>national programs</td>\n",
              "      <td>10153</td>\n",
              "      <td>NaN</td>\n",
              "      <td>NaN</td>\n",
              "      <td>NaN</td>\n",
              "      <td>NaN</td>\n",
              "    </tr>\n",
              "    <tr>\n",
              "      <th>0</th>\n",
              "      <td>5fe473e9c13b360013265de2</td>\n",
              "      <td>Birthday Bot</td>\n",
              "      <td>Birthday Bot</td>\n",
              "      <td>Birthday Bot</td>\n",
              "      <td>bot+5fe473e9c13b360013265de2</td>\n",
              "      <td>bot+5fe473e9c13b360013265de2@bonus.ly</td>\n",
              "      <td>/company/users/5fe473e9c13b360013265de2</td>\n",
              "      <td>https://production-cdn.bonus.ly/assets/avatar/...</td>\n",
              "      <td>https://production-cdn.bonus.ly/assets/avatar/...</td>\n",
              "      <td>Birthday Bot</td>\n",
              "      <td>None</td>\n",
              "      <td>None</td>\n",
              "      <td>2020-12-24T10:56:41Z</td>\n",
              "      <td>None</td>\n",
              "      <td>1000000</td>\n",
              "      <td>bot</td>\n",
              "      <td>None</td>\n",
              "      <td>America/New_York</td>\n",
              "      <td>False</td>\n",
              "      <td>True</td>\n",
              "      <td>[5, 10, 15, 20, 25]</td>\n",
              "      <td>[{'dataValue': 0, 'name': '0 Heroes'}, {'dataV...</td>\n",
              "      <td>{'department': None, 'location': None, 'role':...</td>\n",
              "      <td>active</td>\n",
              "      <td>None</td>\n",
              "      <td>None</td>\n",
              "      <td>NaN</td>\n",
              "      <td>NaN</td>\n",
              "      <td>NaN</td>\n",
              "      <td>NaN</td>\n",
              "      <td>NaN</td>\n",
              "      <td>NaN</td>\n",
              "    </tr>\n",
              "    <tr>\n",
              "      <th>0</th>\n",
              "      <td>602413972b20160014b86e4b</td>\n",
              "      <td>Katherine</td>\n",
              "      <td>Katherine Hoogesteyn</td>\n",
              "      <td>Katherine Hoogesteyn</td>\n",
              "      <td>khoogesteyn</td>\n",
              "      <td>khoogesteyn@policefoundation.org</td>\n",
              "      <td>/company/users/602413972b20160014b86e4b</td>\n",
              "      <td>https://bonusly-fog.s3.amazonaws.com/uploads/u...</td>\n",
              "      <td>https://bonusly-fog.s3.amazonaws.com/uploads/u...</td>\n",
              "      <td>Katherine</td>\n",
              "      <td>Hoogesteyn</td>\n",
              "      <td>2021-06-08T23:59:33Z</td>\n",
              "      <td>2021-02-10T17:10:47Z</td>\n",
              "      <td>168</td>\n",
              "      <td>0</td>\n",
              "      <td>normal</td>\n",
              "      <td>US</td>\n",
              "      <td>America/Los_Angeles</td>\n",
              "      <td>True</td>\n",
              "      <td>True</td>\n",
              "      <td>[5, 10, 15, 20, 25]</td>\n",
              "      <td>[{'dataValue': 0, 'name': '0 Heroes'}, {'dataV...</td>\n",
              "      <td>{'department': 'research', 'location': 'headqu...</td>\n",
              "      <td>active</td>\n",
              "      <td>2021-01-11</td>\n",
              "      <td>ttaniguchi@policefoundation.org</td>\n",
              "      <td>research</td>\n",
              "      <td>10166</td>\n",
              "      <td>senior research associate</td>\n",
              "      <td>research</td>\n",
              "      <td>headquarters</td>\n",
              "      <td>NaN</td>\n",
              "    </tr>\n",
              "  </tbody>\n",
              "</table>\n",
              "</div>"
            ],
            "text/plain": [
              "                         id        short_name  ...      location admin\n",
              "0  60194850b332a50011c4836e  Travis Taniguchi  ...           NaN   NaN\n",
              "0  6019484eb332a50011c4835c    Karen Amendola  ...           NaN   NaN\n",
              "0  60ad129ec473a800672fa7da  Brianna Sclafani  ...           NaN   NaN\n",
              "0  5fe473e9c13b360013265de2      Birthday Bot  ...           NaN   NaN\n",
              "0  602413972b20160014b86e4b         Katherine  ...  headquarters   NaN\n",
              "\n",
              "[5 rows x 32 columns]"
            ]
          },
          "metadata": {
            "tags": []
          },
          "execution_count": 7
        }
      ]
    },
    {
      "cell_type": "code",
      "metadata": {
        "colab": {
          "base_uri": "https://localhost:8080/",
          "height": 289
        },
        "id": "bPatzcCgFc3T",
        "outputId": "4b48224c-8832-4909-fe43-1637230d144b"
      },
      "source": [
        "edge_list.head()"
      ],
      "execution_count": null,
      "outputs": [
        {
          "output_type": "execute_result",
          "data": {
            "text/html": [
              "<div>\n",
              "<style scoped>\n",
              "    .dataframe tbody tr th:only-of-type {\n",
              "        vertical-align: middle;\n",
              "    }\n",
              "\n",
              "    .dataframe tbody tr th {\n",
              "        vertical-align: top;\n",
              "    }\n",
              "\n",
              "    .dataframe thead th {\n",
              "        text-align: right;\n",
              "    }\n",
              "</style>\n",
              "<table border=\"1\" class=\"dataframe\">\n",
              "  <thead>\n",
              "    <tr style=\"text-align: right;\">\n",
              "      <th></th>\n",
              "      <th>from</th>\n",
              "      <th>to</th>\n",
              "      <th>amount</th>\n",
              "      <th>datetime</th>\n",
              "      <th>reason</th>\n",
              "      <th>hashtags</th>\n",
              "    </tr>\n",
              "  </thead>\n",
              "  <tbody>\n",
              "    <tr>\n",
              "      <th>0</th>\n",
              "      <td>Travis Taniguchi</td>\n",
              "      <td>Katherine Hoogesteyn</td>\n",
              "      <td>20</td>\n",
              "      <td>2021-06-08T17:33:05Z</td>\n",
              "      <td>+20 @khoogesteyn @mlebron for their excellent ...</td>\n",
              "      <td>#excellence-and-quality</td>\n",
              "    </tr>\n",
              "    <tr>\n",
              "      <th>0</th>\n",
              "      <td>Karen Amendola</td>\n",
              "      <td>Yukun Yang</td>\n",
              "      <td>10</td>\n",
              "      <td>2021-06-07T20:36:16Z</td>\n",
              "      <td>+10 @yyang Thank you for your great testing of...</td>\n",
              "      <td>#excellence-and-quality</td>\n",
              "    </tr>\n",
              "    <tr>\n",
              "      <th>0</th>\n",
              "      <td>Karen Amendola</td>\n",
              "      <td>Yukun Yang</td>\n",
              "      <td>0</td>\n",
              "      <td>2021-06-07T20:38:35Z</td>\n",
              "      <td>![](https://media.tenor.com/images/7fb7aefad0...</td>\n",
              "      <td>None</td>\n",
              "    </tr>\n",
              "    <tr>\n",
              "      <th>0</th>\n",
              "      <td>Karen Amendola</td>\n",
              "      <td>Maria Valdovinos Olson Valdovinos</td>\n",
              "      <td>10</td>\n",
              "      <td>2021-06-07T20:35:21Z</td>\n",
              "      <td>+10 @maria.valdovinos.olson.valdovinos Thanks ...</td>\n",
              "      <td>#excellence-and-quality</td>\n",
              "    </tr>\n",
              "    <tr>\n",
              "      <th>0</th>\n",
              "      <td>Karen Amendola</td>\n",
              "      <td>Maria Valdovinos Olson Valdovinos</td>\n",
              "      <td>0</td>\n",
              "      <td>2021-06-07T20:37:42Z</td>\n",
              "      <td>#problem-solving Lineup changes, lol go cubs !...</td>\n",
              "      <td>#problem-solving</td>\n",
              "    </tr>\n",
              "  </tbody>\n",
              "</table>\n",
              "</div>"
            ],
            "text/plain": [
              "               from  ...                 hashtags\n",
              "0  Travis Taniguchi  ...  #excellence-and-quality\n",
              "0    Karen Amendola  ...  #excellence-and-quality\n",
              "0    Karen Amendola  ...                     None\n",
              "0    Karen Amendola  ...  #excellence-and-quality\n",
              "0    Karen Amendola  ...         #problem-solving\n",
              "\n",
              "[5 rows x 6 columns]"
            ]
          },
          "metadata": {
            "tags": []
          },
          "execution_count": 8
        }
      ]
    },
    {
      "cell_type": "code",
      "metadata": {
        "id": "qOJlbY62HAr1"
      },
      "source": [
        "edge_list=edge_list.rename(columns={'amount':'weight'})"
      ],
      "execution_count": null,
      "outputs": []
    },
    {
      "cell_type": "markdown",
      "metadata": {
        "id": "QbB7s7Ahevjn"
      },
      "source": [
        "Get rid of Bots"
      ]
    },
    {
      "cell_type": "code",
      "metadata": {
        "id": "B-SFvHHwexRg"
      },
      "source": [
        "node_list=node_list[node_list['user_mode']!='bot']"
      ],
      "execution_count": null,
      "outputs": []
    },
    {
      "cell_type": "code",
      "metadata": {
        "id": "2VKPm0n7e8Ow"
      },
      "source": [
        "edge_list=edge_list[(edge_list['from'].isin(node_list['display_name']))&\n",
        "          (edge_list['to'].isin(node_list['display_name']))]"
      ],
      "execution_count": null,
      "outputs": []
    },
    {
      "cell_type": "code",
      "metadata": {
        "colab": {
          "base_uri": "https://localhost:8080/",
          "height": 589
        },
        "id": "YcvlCnl80QWH",
        "outputId": "e27935c5-fa34-47a1-d3d2-0ad62dd9560e"
      },
      "source": [
        "edge_list"
      ],
      "execution_count": null,
      "outputs": [
        {
          "output_type": "execute_result",
          "data": {
            "text/html": [
              "<div>\n",
              "<style scoped>\n",
              "    .dataframe tbody tr th:only-of-type {\n",
              "        vertical-align: middle;\n",
              "    }\n",
              "\n",
              "    .dataframe tbody tr th {\n",
              "        vertical-align: top;\n",
              "    }\n",
              "\n",
              "    .dataframe thead th {\n",
              "        text-align: right;\n",
              "    }\n",
              "</style>\n",
              "<table border=\"1\" class=\"dataframe\">\n",
              "  <thead>\n",
              "    <tr style=\"text-align: right;\">\n",
              "      <th></th>\n",
              "      <th>from</th>\n",
              "      <th>to</th>\n",
              "      <th>weight</th>\n",
              "      <th>datetime</th>\n",
              "      <th>reason</th>\n",
              "      <th>hashtags</th>\n",
              "    </tr>\n",
              "  </thead>\n",
              "  <tbody>\n",
              "    <tr>\n",
              "      <th>0</th>\n",
              "      <td>Travis Taniguchi</td>\n",
              "      <td>Katherine Hoogesteyn</td>\n",
              "      <td>20</td>\n",
              "      <td>2021-06-08T17:33:05Z</td>\n",
              "      <td>+20 @khoogesteyn @mlebron for their excellent ...</td>\n",
              "      <td>#excellence-and-quality</td>\n",
              "    </tr>\n",
              "    <tr>\n",
              "      <th>0</th>\n",
              "      <td>Karen Amendola</td>\n",
              "      <td>Yukun Yang</td>\n",
              "      <td>10</td>\n",
              "      <td>2021-06-07T20:36:16Z</td>\n",
              "      <td>+10 @yyang Thank you for your great testing of...</td>\n",
              "      <td>#excellence-and-quality</td>\n",
              "    </tr>\n",
              "    <tr>\n",
              "      <th>0</th>\n",
              "      <td>Karen Amendola</td>\n",
              "      <td>Yukun Yang</td>\n",
              "      <td>0</td>\n",
              "      <td>2021-06-07T20:38:35Z</td>\n",
              "      <td>![](https://media.tenor.com/images/7fb7aefad0...</td>\n",
              "      <td>None</td>\n",
              "    </tr>\n",
              "    <tr>\n",
              "      <th>0</th>\n",
              "      <td>Karen Amendola</td>\n",
              "      <td>Maria Valdovinos Olson Valdovinos</td>\n",
              "      <td>10</td>\n",
              "      <td>2021-06-07T20:35:21Z</td>\n",
              "      <td>+10 @maria.valdovinos.olson.valdovinos Thanks ...</td>\n",
              "      <td>#excellence-and-quality</td>\n",
              "    </tr>\n",
              "    <tr>\n",
              "      <th>0</th>\n",
              "      <td>Karen Amendola</td>\n",
              "      <td>Maria Valdovinos Olson Valdovinos</td>\n",
              "      <td>0</td>\n",
              "      <td>2021-06-07T20:37:42Z</td>\n",
              "      <td>#problem-solving Lineup changes, lol go cubs !...</td>\n",
              "      <td>#problem-solving</td>\n",
              "    </tr>\n",
              "    <tr>\n",
              "      <th>...</th>\n",
              "      <td>...</td>\n",
              "      <td>...</td>\n",
              "      <td>...</td>\n",
              "      <td>...</td>\n",
              "      <td>...</td>\n",
              "      <td>...</td>\n",
              "    </tr>\n",
              "    <tr>\n",
              "      <th>0</th>\n",
              "      <td>Fern Hernberg</td>\n",
              "      <td>Jim Burch</td>\n",
              "      <td>0</td>\n",
              "      <td>2021-01-25T13:26:07Z</td>\n",
              "      <td>Way to go!</td>\n",
              "      <td>None</td>\n",
              "    </tr>\n",
              "    <tr>\n",
              "      <th>0</th>\n",
              "      <td>Jim Burch</td>\n",
              "      <td>Fern Hernberg</td>\n",
              "      <td>5</td>\n",
              "      <td>2021-01-13T17:23:10Z</td>\n",
              "      <td>@fern.hernberg for getting the promo work done...</td>\n",
              "      <td>#problem-solving</td>\n",
              "    </tr>\n",
              "    <tr>\n",
              "      <th>0</th>\n",
              "      <td>Jim Burch</td>\n",
              "      <td>Fern Hernberg</td>\n",
              "      <td>5</td>\n",
              "      <td>2021-01-05T15:11:26Z</td>\n",
              "      <td>+5 @fern.hernberg thank you for taking the tim...</td>\n",
              "      <td>#diverse-and-inclusive</td>\n",
              "    </tr>\n",
              "    <tr>\n",
              "      <th>0</th>\n",
              "      <td>Fern Hernberg</td>\n",
              "      <td>Jim Burch</td>\n",
              "      <td>10</td>\n",
              "      <td>2020-12-30T14:46:24Z</td>\n",
              "      <td>+10 @jburch for spreading the excitement about...</td>\n",
              "      <td>#leadership</td>\n",
              "    </tr>\n",
              "    <tr>\n",
              "      <th>0</th>\n",
              "      <td>Jim Burch</td>\n",
              "      <td>Fern Hernberg</td>\n",
              "      <td>10</td>\n",
              "      <td>2020-12-25T19:30:15Z</td>\n",
              "      <td>@hr great job this year! #unified-and-collabor...</td>\n",
              "      <td>#unified-and-collaborative</td>\n",
              "    </tr>\n",
              "  </tbody>\n",
              "</table>\n",
              "<p>613 rows × 6 columns</p>\n",
              "</div>"
            ],
            "text/plain": [
              "                from  ...                    hashtags\n",
              "0   Travis Taniguchi  ...     #excellence-and-quality\n",
              "0     Karen Amendola  ...     #excellence-and-quality\n",
              "0     Karen Amendola  ...                        None\n",
              "0     Karen Amendola  ...     #excellence-and-quality\n",
              "0     Karen Amendola  ...            #problem-solving\n",
              "..               ...  ...                         ...\n",
              "0      Fern Hernberg  ...                        None\n",
              "0          Jim Burch  ...            #problem-solving\n",
              "0          Jim Burch  ...      #diverse-and-inclusive\n",
              "0      Fern Hernberg  ...                 #leadership\n",
              "0          Jim Burch  ...  #unified-and-collaborative\n",
              "\n",
              "[613 rows x 6 columns]"
            ]
          },
          "metadata": {
            "tags": []
          },
          "execution_count": 12
        }
      ]
    },
    {
      "cell_type": "markdown",
      "metadata": {
        "id": "l4GfHxBJPEvF"
      },
      "source": [
        "Duplicated edges: how to do with it? We need to assign weight to the edges.   \n",
        "Question: How do we want to define weight?"
      ]
    },
    {
      "cell_type": "markdown",
      "metadata": {
        "id": "irCBA8rKPLb0"
      },
      "source": [
        "One way is to use the number of awards given and recieved as weights. Let's try this:"
      ]
    },
    {
      "cell_type": "code",
      "metadata": {
        "colab": {
          "base_uri": "https://localhost:8080/",
          "height": 419
        },
        "id": "4bPLBafaxjLP",
        "outputId": "90d62675-2fec-4e8f-a350-ff193f5f6020"
      },
      "source": [
        "edge_list.groupby(['from','to']).size().reset_index(name='weight')"
      ],
      "execution_count": null,
      "outputs": [
        {
          "output_type": "execute_result",
          "data": {
            "text/html": [
              "<div>\n",
              "<style scoped>\n",
              "    .dataframe tbody tr th:only-of-type {\n",
              "        vertical-align: middle;\n",
              "    }\n",
              "\n",
              "    .dataframe tbody tr th {\n",
              "        vertical-align: top;\n",
              "    }\n",
              "\n",
              "    .dataframe thead th {\n",
              "        text-align: right;\n",
              "    }\n",
              "</style>\n",
              "<table border=\"1\" class=\"dataframe\">\n",
              "  <thead>\n",
              "    <tr style=\"text-align: right;\">\n",
              "      <th></th>\n",
              "      <th>from</th>\n",
              "      <th>to</th>\n",
              "      <th>weight</th>\n",
              "    </tr>\n",
              "  </thead>\n",
              "  <tbody>\n",
              "    <tr>\n",
              "      <th>0</th>\n",
              "      <td>Aisha Jamil</td>\n",
              "      <td>Amanda Burstein</td>\n",
              "      <td>1</td>\n",
              "    </tr>\n",
              "    <tr>\n",
              "      <th>1</th>\n",
              "      <td>Aisha Jamil</td>\n",
              "      <td>Ben Gorban</td>\n",
              "      <td>3</td>\n",
              "    </tr>\n",
              "    <tr>\n",
              "      <th>2</th>\n",
              "      <td>Aisha Jamil</td>\n",
              "      <td>Erica Richardson</td>\n",
              "      <td>5</td>\n",
              "    </tr>\n",
              "    <tr>\n",
              "      <th>3</th>\n",
              "      <td>Aisha Jamil</td>\n",
              "      <td>Karen Amendola</td>\n",
              "      <td>1</td>\n",
              "    </tr>\n",
              "    <tr>\n",
              "      <th>4</th>\n",
              "      <td>Aisha Jamil</td>\n",
              "      <td>Kerry Yerico</td>\n",
              "      <td>1</td>\n",
              "    </tr>\n",
              "    <tr>\n",
              "      <th>...</th>\n",
              "      <td>...</td>\n",
              "      <td>...</td>\n",
              "      <td>...</td>\n",
              "    </tr>\n",
              "    <tr>\n",
              "      <th>339</th>\n",
              "      <td>Yukun Yang</td>\n",
              "      <td>Karen Amendola</td>\n",
              "      <td>1</td>\n",
              "    </tr>\n",
              "    <tr>\n",
              "      <th>340</th>\n",
              "      <td>Yukun Yang</td>\n",
              "      <td>Maria Valdovinos Olson Valdovinos</td>\n",
              "      <td>1</td>\n",
              "    </tr>\n",
              "    <tr>\n",
              "      <th>341</th>\n",
              "      <td>Yukun Yang</td>\n",
              "      <td>Pauline Alvarado</td>\n",
              "      <td>2</td>\n",
              "    </tr>\n",
              "    <tr>\n",
              "      <th>342</th>\n",
              "      <td>Yukun Yang</td>\n",
              "      <td>Sarita Coletrane</td>\n",
              "      <td>3</td>\n",
              "    </tr>\n",
              "    <tr>\n",
              "      <th>343</th>\n",
              "      <td>Yukun Yang</td>\n",
              "      <td>Travis Riddle</td>\n",
              "      <td>2</td>\n",
              "    </tr>\n",
              "  </tbody>\n",
              "</table>\n",
              "<p>344 rows × 3 columns</p>\n",
              "</div>"
            ],
            "text/plain": [
              "            from                                 to  weight\n",
              "0    Aisha Jamil                    Amanda Burstein       1\n",
              "1    Aisha Jamil                         Ben Gorban       3\n",
              "2    Aisha Jamil                   Erica Richardson       5\n",
              "3    Aisha Jamil                     Karen Amendola       1\n",
              "4    Aisha Jamil                       Kerry Yerico       1\n",
              "..           ...                                ...     ...\n",
              "339   Yukun Yang                     Karen Amendola       1\n",
              "340   Yukun Yang  Maria Valdovinos Olson Valdovinos       1\n",
              "341   Yukun Yang                   Pauline Alvarado       2\n",
              "342   Yukun Yang                   Sarita Coletrane       3\n",
              "343   Yukun Yang                      Travis Riddle       2\n",
              "\n",
              "[344 rows x 3 columns]"
            ]
          },
          "metadata": {
            "tags": []
          },
          "execution_count": 13
        }
      ]
    },
    {
      "cell_type": "markdown",
      "metadata": {
        "id": "dz3uq0W4x-FR"
      },
      "source": [
        "Of course, as the bonous has a value, we can also weight it not only based on counts but also the amount that was given in each bonus rewarding. In this way, we need to add up the amount of bonus from one person to the other as the weight."
      ]
    },
    {
      "cell_type": "code",
      "metadata": {
        "colab": {
          "base_uri": "https://localhost:8080/",
          "height": 419
        },
        "id": "Ygmfc45Kx9dA",
        "outputId": "fcf75685-143f-4746-9398-7dbc5565dfe4"
      },
      "source": [
        "edge_list.groupby(['from','to']).agg(weight_sum=('weight','sum'), \n",
        "                                     weight_count=('weight','count')).reset_index()"
      ],
      "execution_count": null,
      "outputs": [
        {
          "output_type": "execute_result",
          "data": {
            "text/html": [
              "<div>\n",
              "<style scoped>\n",
              "    .dataframe tbody tr th:only-of-type {\n",
              "        vertical-align: middle;\n",
              "    }\n",
              "\n",
              "    .dataframe tbody tr th {\n",
              "        vertical-align: top;\n",
              "    }\n",
              "\n",
              "    .dataframe thead th {\n",
              "        text-align: right;\n",
              "    }\n",
              "</style>\n",
              "<table border=\"1\" class=\"dataframe\">\n",
              "  <thead>\n",
              "    <tr style=\"text-align: right;\">\n",
              "      <th></th>\n",
              "      <th>from</th>\n",
              "      <th>to</th>\n",
              "      <th>weight_sum</th>\n",
              "      <th>weight_count</th>\n",
              "    </tr>\n",
              "  </thead>\n",
              "  <tbody>\n",
              "    <tr>\n",
              "      <th>0</th>\n",
              "      <td>Aisha Jamil</td>\n",
              "      <td>Amanda Burstein</td>\n",
              "      <td>10</td>\n",
              "      <td>1</td>\n",
              "    </tr>\n",
              "    <tr>\n",
              "      <th>1</th>\n",
              "      <td>Aisha Jamil</td>\n",
              "      <td>Ben Gorban</td>\n",
              "      <td>55</td>\n",
              "      <td>3</td>\n",
              "    </tr>\n",
              "    <tr>\n",
              "      <th>2</th>\n",
              "      <td>Aisha Jamil</td>\n",
              "      <td>Erica Richardson</td>\n",
              "      <td>70</td>\n",
              "      <td>5</td>\n",
              "    </tr>\n",
              "    <tr>\n",
              "      <th>3</th>\n",
              "      <td>Aisha Jamil</td>\n",
              "      <td>Karen Amendola</td>\n",
              "      <td>15</td>\n",
              "      <td>1</td>\n",
              "    </tr>\n",
              "    <tr>\n",
              "      <th>4</th>\n",
              "      <td>Aisha Jamil</td>\n",
              "      <td>Kerry Yerico</td>\n",
              "      <td>15</td>\n",
              "      <td>1</td>\n",
              "    </tr>\n",
              "    <tr>\n",
              "      <th>...</th>\n",
              "      <td>...</td>\n",
              "      <td>...</td>\n",
              "      <td>...</td>\n",
              "      <td>...</td>\n",
              "    </tr>\n",
              "    <tr>\n",
              "      <th>339</th>\n",
              "      <td>Yukun Yang</td>\n",
              "      <td>Karen Amendola</td>\n",
              "      <td>30</td>\n",
              "      <td>1</td>\n",
              "    </tr>\n",
              "    <tr>\n",
              "      <th>340</th>\n",
              "      <td>Yukun Yang</td>\n",
              "      <td>Maria Valdovinos Olson Valdovinos</td>\n",
              "      <td>15</td>\n",
              "      <td>1</td>\n",
              "    </tr>\n",
              "    <tr>\n",
              "      <th>341</th>\n",
              "      <td>Yukun Yang</td>\n",
              "      <td>Pauline Alvarado</td>\n",
              "      <td>20</td>\n",
              "      <td>2</td>\n",
              "    </tr>\n",
              "    <tr>\n",
              "      <th>342</th>\n",
              "      <td>Yukun Yang</td>\n",
              "      <td>Sarita Coletrane</td>\n",
              "      <td>45</td>\n",
              "      <td>3</td>\n",
              "    </tr>\n",
              "    <tr>\n",
              "      <th>343</th>\n",
              "      <td>Yukun Yang</td>\n",
              "      <td>Travis Riddle</td>\n",
              "      <td>40</td>\n",
              "      <td>2</td>\n",
              "    </tr>\n",
              "  </tbody>\n",
              "</table>\n",
              "<p>344 rows × 4 columns</p>\n",
              "</div>"
            ],
            "text/plain": [
              "            from                                 to  weight_sum  weight_count\n",
              "0    Aisha Jamil                    Amanda Burstein          10             1\n",
              "1    Aisha Jamil                         Ben Gorban          55             3\n",
              "2    Aisha Jamil                   Erica Richardson          70             5\n",
              "3    Aisha Jamil                     Karen Amendola          15             1\n",
              "4    Aisha Jamil                       Kerry Yerico          15             1\n",
              "..           ...                                ...         ...           ...\n",
              "339   Yukun Yang                     Karen Amendola          30             1\n",
              "340   Yukun Yang  Maria Valdovinos Olson Valdovinos          15             1\n",
              "341   Yukun Yang                   Pauline Alvarado          20             2\n",
              "342   Yukun Yang                   Sarita Coletrane          45             3\n",
              "343   Yukun Yang                      Travis Riddle          40             2\n",
              "\n",
              "[344 rows x 4 columns]"
            ]
          },
          "metadata": {
            "tags": []
          },
          "execution_count": 14
        }
      ]
    },
    {
      "cell_type": "code",
      "metadata": {
        "id": "Dl9ljewj42p0"
      },
      "source": [
        "edge_list_weighted=edge_list.groupby(['from','to']).agg(weight_sum=('weight','sum'), \n",
        "                                     weight_count=('weight','count')).reset_index()"
      ],
      "execution_count": null,
      "outputs": []
    },
    {
      "cell_type": "markdown",
      "metadata": {
        "id": "DQ-3XxsD45bM"
      },
      "source": [
        "Now we have processed our data. Before moving forward, it is better to contemplate on the big picture:\n",
        "\n",
        "- What does this network represent:\n",
        "  - Of course it is a appreciation network\n",
        "  - But we can also use this to approximate the collaboration pattern in the NPF\n",
        "\n",
        "- What questions can be answered in this network:\n",
        "  - Who is the important figure in this network? (Centrality analysis)\n",
        "  - Does people like to more like to give awards? How does division/title affect this differnce, if exists. (Centrality analysis & Degree distribution)\n",
        "  - Does people work diversely? (Assortativity & Diameter & Shortest Path)\n",
        "  - Are there small circles formed in the work? (Assortativity & Clustering coefficinet & Transitivity)\n",
        "  - ....\n",
        "\n",
        "\n"
      ]
    },
    {
      "cell_type": "markdown",
      "metadata": {
        "id": "6f12jAGVJcRw"
      },
      "source": [
        "# Importing dataset into Networkx"
      ]
    },
    {
      "cell_type": "markdown",
      "metadata": {
        "id": "7UaQi4hrJbyw"
      },
      "source": [
        "In this section, we will transform the data we have collected into our network analysis package-networkx."
      ]
    },
    {
      "cell_type": "code",
      "metadata": {
        "id": "NcPAMa2RJm4R"
      },
      "source": [
        "import networkx as nx\n",
        "import pandas as pd"
      ],
      "execution_count": null,
      "outputs": []
    },
    {
      "cell_type": "code",
      "metadata": {
        "id": "uuckX8jGoWml"
      },
      "source": [
        "# Decprecated\n",
        "# G=nx.from_pandas_edgelist(edge_list, source='from', target='to', edge_attr=True, create_using=nx.MultiDiGraph())"
      ],
      "execution_count": null,
      "outputs": []
    },
    {
      "cell_type": "markdown",
      "metadata": {
        "id": "MWKq5En17oHT"
      },
      "source": [
        "Let's just use the count as weight as default graph. We will name this network as G. The sum of amount we will call this G_sum."
      ]
    },
    {
      "cell_type": "code",
      "metadata": {
        "id": "o0-nJCiL7QMQ"
      },
      "source": [
        "G=nx.from_pandas_edgelist(edge_list_weighted, source='from', target='to', edge_attr='weight_count', create_using=nx.DiGraph())"
      ],
      "execution_count": null,
      "outputs": []
    },
    {
      "cell_type": "code",
      "metadata": {
        "colab": {
          "base_uri": "https://localhost:8080/"
        },
        "id": "3x6H_vIS0mFR",
        "outputId": "bade596e-3fdf-4913-8d13-1a4470836e1a"
      },
      "source": [
        "len(G.edges)"
      ],
      "execution_count": null,
      "outputs": [
        {
          "output_type": "execute_result",
          "data": {
            "text/plain": [
              "344"
            ]
          },
          "metadata": {
            "tags": []
          },
          "execution_count": 19
        }
      ]
    },
    {
      "cell_type": "code",
      "metadata": {
        "id": "ZYxIh9r47nra"
      },
      "source": [
        "G_sum=nx.from_pandas_edgelist(edge_list_weighted, source='from', target='to', edge_attr='weight_sum', create_using=nx.DiGraph())"
      ],
      "execution_count": null,
      "outputs": []
    },
    {
      "cell_type": "markdown",
      "metadata": {
        "id": "fwEUfM2E8KJB"
      },
      "source": [
        "# Analyzing the Network"
      ]
    },
    {
      "cell_type": "markdown",
      "metadata": {
        "id": "xGZC3zVR_Cvo"
      },
      "source": [
        "## Retrieving node/edge informations"
      ]
    },
    {
      "cell_type": "code",
      "metadata": {
        "colab": {
          "base_uri": "https://localhost:8080/"
        },
        "id": "FpvnmjMJ8_uR",
        "outputId": "46e998af-3e63-43b1-f0cb-fe08d4debd8b"
      },
      "source": [
        "G.nodes(data=True)"
      ],
      "execution_count": null,
      "outputs": [
        {
          "output_type": "execute_result",
          "data": {
            "text/plain": [
              "NodeDataView({'Aisha Jamil': {}, 'Amanda Burstein': {}, 'Ben Gorban': {}, 'Erica Richardson': {}, 'Karen Amendola': {}, 'Kerry Yerico': {}, 'Lorena Singer': {}, 'Maria Valdovinos Olson Valdovinos': {}, 'Mary Kate Murphy': {}, 'Rick Haake': {}, 'Sarita Coletrane': {}, 'Tamara Martin': {}, 'Trenay Wren-Evans': {}, 'Yukun Yang': {}, 'Brett Cowell': {}, 'Brianna Sclafani': {}, 'Danielle Parsons': {}, 'Eiryn Renouard': {}, 'Julia Kessler': {}, 'Sarah Vanselow': {}, 'Travis Taniguchi': {}, 'Christine Johnson': {}, 'Dominique Burton': {}, 'Heather Vovak': {}, 'Jen Zeunik': {}, 'Katherine Hoogesteyn': {}, 'Michael Lebron': {}, 'Pauline Alvarado': {}, 'Scarlett Ojeda Geldres': {}, 'Danielle Boekankamp': {}, 'Garrett Johnson': {}, 'Frank Straub': {}, 'Elizabeth Fontaine': {}, 'Fern Hernberg': {}, 'Jim Burch': {}, 'Travis Riddle': {}, 'Jane Mott-Palmer': {}, 'Rebecca Benson': {}, 'Virgil Young': {}})"
            ]
          },
          "metadata": {
            "tags": []
          },
          "execution_count": 21
        }
      ]
    },
    {
      "cell_type": "code",
      "metadata": {
        "colab": {
          "base_uri": "https://localhost:8080/"
        },
        "id": "ADavG20O9A2b",
        "outputId": "6a0df790-4a37-4661-adae-35e48fd91833"
      },
      "source": [
        "G.edges(data=True)"
      ],
      "execution_count": null,
      "outputs": [
        {
          "output_type": "execute_result",
          "data": {
            "text/plain": [
              "OutEdgeDataView([('Aisha Jamil', 'Amanda Burstein', {'weight_count': 1}), ('Aisha Jamil', 'Ben Gorban', {'weight_count': 3}), ('Aisha Jamil', 'Erica Richardson', {'weight_count': 5}), ('Aisha Jamil', 'Karen Amendola', {'weight_count': 1}), ('Aisha Jamil', 'Kerry Yerico', {'weight_count': 1}), ('Aisha Jamil', 'Lorena Singer', {'weight_count': 1}), ('Aisha Jamil', 'Maria Valdovinos Olson Valdovinos', {'weight_count': 3}), ('Aisha Jamil', 'Mary Kate Murphy', {'weight_count': 1}), ('Aisha Jamil', 'Rick Haake', {'weight_count': 1}), ('Aisha Jamil', 'Sarita Coletrane', {'weight_count': 2}), ('Aisha Jamil', 'Tamara Martin', {'weight_count': 1}), ('Aisha Jamil', 'Trenay Wren-Evans', {'weight_count': 1}), ('Aisha Jamil', 'Yukun Yang', {'weight_count': 1}), ('Amanda Burstein', 'Ben Gorban', {'weight_count': 3}), ('Amanda Burstein', 'Brett Cowell', {'weight_count': 3}), ('Amanda Burstein', 'Brianna Sclafani', {'weight_count': 1}), ('Amanda Burstein', 'Danielle Parsons', {'weight_count': 1}), ('Amanda Burstein', 'Eiryn Renouard', {'weight_count': 3}), ('Amanda Burstein', 'Julia Kessler', {'weight_count': 4}), ('Amanda Burstein', 'Karen Amendola', {'weight_count': 1}), ('Amanda Burstein', 'Kerry Yerico', {'weight_count': 4}), ('Amanda Burstein', 'Sarah Vanselow', {'weight_count': 4}), ('Amanda Burstein', 'Travis Taniguchi', {'weight_count': 1}), ('Ben Gorban', 'Aisha Jamil', {'weight_count': 2}), ('Ben Gorban', 'Brianna Sclafani', {'weight_count': 1}), ('Ben Gorban', 'Christine Johnson', {'weight_count': 2}), ('Ben Gorban', 'Danielle Parsons', {'weight_count': 1}), ('Ben Gorban', 'Dominique Burton', {'weight_count': 2}), ('Ben Gorban', 'Heather Vovak', {'weight_count': 1}), ('Ben Gorban', 'Jen Zeunik', {'weight_count': 1}), ('Ben Gorban', 'Karen Amendola', {'weight_count': 1}), ('Ben Gorban', 'Katherine Hoogesteyn', {'weight_count': 1}), ('Ben Gorban', 'Michael Lebron', {'weight_count': 2}), ('Ben Gorban', 'Pauline Alvarado', {'weight_count': 1}), ('Ben Gorban', 'Sarah Vanselow', {'weight_count': 1}), ('Ben Gorban', 'Scarlett Ojeda Geldres', {'weight_count': 1}), ('Ben Gorban', 'Travis Taniguchi', {'weight_count': 2}), ('Ben Gorban', 'Yukun Yang', {'weight_count': 2}), ('Erica Richardson', 'Aisha Jamil', {'weight_count': 1}), ('Erica Richardson', 'Ben Gorban', {'weight_count': 1}), ('Erica Richardson', 'Danielle Parsons', {'weight_count': 1}), ('Erica Richardson', 'Erica Richardson', {'weight_count': 1}), ('Erica Richardson', 'Frank Straub', {'weight_count': 1}), ('Erica Richardson', 'Sarita Coletrane', {'weight_count': 1}), ('Erica Richardson', 'Yukun Yang', {'weight_count': 1}), ('Karen Amendola', 'Aisha Jamil', {'weight_count': 3}), ('Karen Amendola', 'Ben Gorban', {'weight_count': 2}), ('Karen Amendola', 'Brett Cowell', {'weight_count': 2}), ('Karen Amendola', 'Christine Johnson', {'weight_count': 6}), ('Karen Amendola', 'Danielle Boekankamp', {'weight_count': 1}), ('Karen Amendola', 'Erica Richardson', {'weight_count': 1}), ('Karen Amendola', 'Heather Vovak', {'weight_count': 3}), ('Karen Amendola', 'Jen Zeunik', {'weight_count': 1}), ('Karen Amendola', 'Katherine Hoogesteyn', {'weight_count': 2}), ('Karen Amendola', 'Kerry Yerico', {'weight_count': 1}), ('Karen Amendola', 'Maria Valdovinos Olson Valdovinos', {'weight_count': 5}), ('Karen Amendola', 'Michael Lebron', {'weight_count': 1}), ('Karen Amendola', 'Pauline Alvarado', {'weight_count': 2}), ('Karen Amendola', 'Rick Haake', {'weight_count': 1}), ('Karen Amendola', 'Sarita Coletrane', {'weight_count': 8}), ('Karen Amendola', 'Travis Riddle', {'weight_count': 4}), ('Karen Amendola', 'Travis Taniguchi', {'weight_count': 4}), ('Karen Amendola', 'Yukun Yang', {'weight_count': 8}), ('Kerry Yerico', 'Aisha Jamil', {'weight_count': 2}), ('Kerry Yerico', 'Ben Gorban', {'weight_count': 2}), ('Kerry Yerico', 'Brett Cowell', {'weight_count': 2}), ('Kerry Yerico', 'Eiryn Renouard', {'weight_count': 1}), ('Kerry Yerico', 'Garrett Johnson', {'weight_count': 1}), ('Kerry Yerico', 'Julia Kessler', {'weight_count': 3}), ('Kerry Yerico', 'Kerry Yerico', {'weight_count': 2}), ('Kerry Yerico', 'Sarah Vanselow', {'weight_count': 1}), ('Kerry Yerico', 'Scarlett Ojeda Geldres', {'weight_count': 1}), ('Lorena Singer', 'Aisha Jamil', {'weight_count': 2}), ('Lorena Singer', 'Ben Gorban', {'weight_count': 1}), ('Lorena Singer', 'Brianna Sclafani', {'weight_count': 1}), ('Lorena Singer', 'Danielle Boekankamp', {'weight_count': 2}), ('Lorena Singer', 'Danielle Parsons', {'weight_count': 5}), ('Lorena Singer', 'Garrett Johnson', {'weight_count': 6}), ('Lorena Singer', 'Lorena Singer', {'weight_count': 3}), ('Lorena Singer', 'Rick Haake', {'weight_count': 4}), ('Lorena Singer', 'Sarita Coletrane', {'weight_count': 3}), ('Maria Valdovinos Olson Valdovinos', 'Aisha Jamil', {'weight_count': 4}), ('Maria Valdovinos Olson Valdovinos', 'Ben Gorban', {'weight_count': 3}), ('Maria Valdovinos Olson Valdovinos', 'Brett Cowell', {'weight_count': 1}), ('Maria Valdovinos Olson Valdovinos', 'Heather Vovak', {'weight_count': 2}), ('Maria Valdovinos Olson Valdovinos', 'Karen Amendola', {'weight_count': 3}), ('Maria Valdovinos Olson Valdovinos', 'Katherine Hoogesteyn', {'weight_count': 1}), ('Maria Valdovinos Olson Valdovinos', 'Maria Valdovinos Olson Valdovinos', {'weight_count': 1}), ('Maria Valdovinos Olson Valdovinos', 'Michael Lebron', {'weight_count': 1}), ('Maria Valdovinos Olson Valdovinos', 'Sarita Coletrane', {'weight_count': 1}), ('Maria Valdovinos Olson Valdovinos', 'Travis Riddle', {'weight_count': 1}), ('Maria Valdovinos Olson Valdovinos', 'Travis Taniguchi', {'weight_count': 1}), ('Maria Valdovinos Olson Valdovinos', 'Yukun Yang', {'weight_count': 1}), ('Mary Kate Murphy', 'Rebecca Benson', {'weight_count': 1}), ('Mary Kate Murphy', 'Scarlett Ojeda Geldres', {'weight_count': 1}), ('Mary Kate Murphy', 'Yukun Yang', {'weight_count': 1}), ('Rick Haake', 'Aisha Jamil', {'weight_count': 1}), ('Rick Haake', 'Danielle Parsons', {'weight_count': 6}), ('Rick Haake', 'Garrett Johnson', {'weight_count': 1}), ('Rick Haake', 'Lorena Singer', {'weight_count': 2}), ('Rick Haake', 'Rick Haake', {'weight_count': 3}), ('Rick Haake', 'Sarita Coletrane', {'weight_count': 1}), ('Sarita Coletrane', 'Aisha Jamil', {'weight_count': 1}), ('Sarita Coletrane', 'Ben Gorban', {'weight_count': 2}), ('Sarita Coletrane', 'Brett Cowell', {'weight_count': 1}), ('Sarita Coletrane', 'Christine Johnson', {'weight_count': 1}), ('Sarita Coletrane', 'Danielle Parsons', {'weight_count': 3}), ('Sarita Coletrane', 'Eiryn Renouard', {'weight_count': 1}), ('Sarita Coletrane', 'Elizabeth Fontaine', {'weight_count': 6}), ('Sarita Coletrane', 'Erica Richardson', {'weight_count': 1}), ('Sarita Coletrane', 'Garrett Johnson', {'weight_count': 1}), ('Sarita Coletrane', 'Jane Mott-Palmer', {'weight_count': 1}), ('Sarita Coletrane', 'Jim Burch', {'weight_count': 1}), ('Sarita Coletrane', 'Julia Kessler', {'weight_count': 1}), ('Sarita Coletrane', 'Karen Amendola', {'weight_count': 1}), ('Sarita Coletrane', 'Maria Valdovinos Olson Valdovinos', {'weight_count': 1}), ('Sarita Coletrane', 'Mary Kate Murphy', {'weight_count': 1}), ('Sarita Coletrane', 'Michael Lebron', {'weight_count': 2}), ('Sarita Coletrane', 'Pauline Alvarado', {'weight_count': 1}), ('Sarita Coletrane', 'Sarita Coletrane', {'weight_count': 5}), ('Sarita Coletrane', 'Scarlett Ojeda Geldres', {'weight_count': 1}), ('Sarita Coletrane', 'Trenay Wren-Evans', {'weight_count': 1}), ('Tamara Martin', 'Aisha Jamil', {'weight_count': 3}), ('Tamara Martin', 'Ben Gorban', {'weight_count': 1}), ('Tamara Martin', 'Brett Cowell', {'weight_count': 1}), ('Tamara Martin', 'Erica Richardson', {'weight_count': 4}), ('Tamara Martin', 'Jane Mott-Palmer', {'weight_count': 1}), ('Tamara Martin', 'Mary Kate Murphy', {'weight_count': 1}), ('Trenay Wren-Evans', 'Ben Gorban', {'weight_count': 1}), ('Trenay Wren-Evans', 'Erica Richardson', {'weight_count': 1}), ('Trenay Wren-Evans', 'Michael Lebron', {'weight_count': 1}), ('Trenay Wren-Evans', 'Pauline Alvarado', {'weight_count': 2}), ('Trenay Wren-Evans', 'Sarita Coletrane', {'weight_count': 1}), ('Trenay Wren-Evans', 'Travis Riddle', {'weight_count': 1}), ('Trenay Wren-Evans', 'Trenay Wren-Evans', {'weight_count': 1}), ('Yukun Yang', 'Aisha Jamil', {'weight_count': 1}), ('Yukun Yang', 'Ben Gorban', {'weight_count': 1}), ('Yukun Yang', 'Christine Johnson', {'weight_count': 2}), ('Yukun Yang', 'Danielle Boekankamp', {'weight_count': 1}), ('Yukun Yang', 'Dominique Burton', {'weight_count': 1}), ('Yukun Yang', 'Eiryn Renouard', {'weight_count': 1}), ('Yukun Yang', 'Erica Richardson', {'weight_count': 2}), ('Yukun Yang', 'Heather Vovak', {'weight_count': 1}), ('Yukun Yang', 'Karen Amendola', {'weight_count': 1}), ('Yukun Yang', 'Maria Valdovinos Olson Valdovinos', {'weight_count': 1}), ('Yukun Yang', 'Pauline Alvarado', {'weight_count': 2}), ('Yukun Yang', 'Sarita Coletrane', {'weight_count': 3}), ('Yukun Yang', 'Travis Riddle', {'weight_count': 2}), ('Brett Cowell', 'Aisha Jamil', {'weight_count': 1}), ('Brett Cowell', 'Ben Gorban', {'weight_count': 2}), ('Brett Cowell', 'Christine Johnson', {'weight_count': 1}), ('Brett Cowell', 'Erica Richardson', {'weight_count': 1}), ('Brett Cowell', 'Julia Kessler', {'weight_count': 2}), ('Brett Cowell', 'Karen Amendola', {'weight_count': 2}), ('Brett Cowell', 'Kerry Yerico', {'weight_count': 2}), ('Brett Cowell', 'Maria Valdovinos Olson Valdovinos', {'weight_count': 1}), ('Brianna Sclafani', 'Aisha Jamil', {'weight_count': 1}), ('Brianna Sclafani', 'Ben Gorban', {'weight_count': 1}), ('Brianna Sclafani', 'Sarah Vanselow', {'weight_count': 1}), ('Brianna Sclafani', 'Sarita Coletrane', {'weight_count': 1}), ('Danielle Parsons', 'Garrett Johnson', {'weight_count': 1}), ('Danielle Parsons', 'Lorena Singer', {'weight_count': 1}), ('Danielle Parsons', 'Rick Haake', {'weight_count': 2}), ('Danielle Parsons', 'Sarita Coletrane', {'weight_count': 1}), ('Danielle Parsons', 'Scarlett Ojeda Geldres', {'weight_count': 1}), ('Eiryn Renouard', 'Brianna Sclafani', {'weight_count': 1}), ('Eiryn Renouard', 'Danielle Parsons', {'weight_count': 1}), ('Eiryn Renouard', 'Erica Richardson', {'weight_count': 1}), ('Eiryn Renouard', 'Julia Kessler', {'weight_count': 3}), ('Eiryn Renouard', 'Sarah Vanselow', {'weight_count': 4}), ('Eiryn Renouard', 'Sarita Coletrane', {'weight_count': 1}), ('Julia Kessler', 'Ben Gorban', {'weight_count': 1}), ('Julia Kessler', 'Eiryn Renouard', {'weight_count': 5}), ('Julia Kessler', 'Jane Mott-Palmer', {'weight_count': 1}), ('Julia Kessler', 'Kerry Yerico', {'weight_count': 3}), ('Julia Kessler', 'Sarah Vanselow', {'weight_count': 4}), ('Julia Kessler', 'Sarita Coletrane', {'weight_count': 1}), ('Julia Kessler', 'Travis Riddle', {'weight_count': 1}), ('Sarah Vanselow', 'Ben Gorban', {'weight_count': 1}), ('Sarah Vanselow', 'Julia Kessler', {'weight_count': 3}), ('Sarah Vanselow', 'Kerry Yerico', {'weight_count': 2}), ('Sarah Vanselow', 'Sarah Vanselow', {'weight_count': 1}), ('Travis Taniguchi', 'Ben Gorban', {'weight_count': 2}), ('Travis Taniguchi', 'Christine Johnson', {'weight_count': 2}), ('Travis Taniguchi', 'Eiryn Renouard', {'weight_count': 2}), ('Travis Taniguchi', 'Heather Vovak', {'weight_count': 1}), ('Travis Taniguchi', 'Jen Zeunik', {'weight_count': 1}), ('Travis Taniguchi', 'Karen Amendola', {'weight_count': 5}), ('Travis Taniguchi', 'Katherine Hoogesteyn', {'weight_count': 4}), ('Travis Taniguchi', 'Maria Valdovinos Olson Valdovinos', {'weight_count': 5}), ('Travis Taniguchi', 'Mary Kate Murphy', {'weight_count': 1}), ('Travis Taniguchi', 'Michael Lebron', {'weight_count': 1}), ('Travis Taniguchi', 'Sarita Coletrane', {'weight_count': 1}), ('Travis Taniguchi', 'Travis Riddle', {'weight_count': 2}), ('Travis Taniguchi', 'Travis Taniguchi', {'weight_count': 2}), ('Travis Taniguchi', 'Yukun Yang', {'weight_count': 5}), ('Christine Johnson', 'Aisha Jamil', {'weight_count': 2}), ('Christine Johnson', 'Ben Gorban', {'weight_count': 4}), ('Christine Johnson', 'Dominique Burton', {'weight_count': 3}), ('Christine Johnson', 'Erica Richardson', {'weight_count': 2}), ('Christine Johnson', 'Jen Zeunik', {'weight_count': 1}), ('Christine Johnson', 'Maria Valdovinos Olson Valdovinos', {'weight_count': 1}), ('Christine Johnson', 'Mary Kate Murphy', {'weight_count': 2}), ('Christine Johnson', 'Michael Lebron', {'weight_count': 1}), ('Christine Johnson', 'Pauline Alvarado', {'weight_count': 2}), ('Christine Johnson', 'Yukun Yang', {'weight_count': 1}), ('Dominique Burton', 'Ben Gorban', {'weight_count': 4}), ('Dominique Burton', 'Christine Johnson', {'weight_count': 2}), ('Dominique Burton', 'Erica Richardson', {'weight_count': 1}), ('Dominique Burton', 'Frank Straub', {'weight_count': 1}), ('Dominique Burton', 'Jen Zeunik', {'weight_count': 2}), ('Dominique Burton', 'Mary Kate Murphy', {'weight_count': 1}), ('Dominique Burton', 'Pauline Alvarado', {'weight_count': 1}), ('Heather Vovak', 'Aisha Jamil', {'weight_count': 1}), ('Heather Vovak', 'Ben Gorban', {'weight_count': 1}), ('Heather Vovak', 'Brett Cowell', {'weight_count': 1}), ('Heather Vovak', 'Eiryn Renouard', {'weight_count': 1}), ('Heather Vovak', 'Karen Amendola', {'weight_count': 1}), ('Heather Vovak', 'Maria Valdovinos Olson Valdovinos', {'weight_count': 3}), ('Heather Vovak', 'Michael Lebron', {'weight_count': 1}), ('Heather Vovak', 'Sarita Coletrane', {'weight_count': 2}), ('Heather Vovak', 'Travis Riddle', {'weight_count': 2}), ('Heather Vovak', 'Travis Taniguchi', {'weight_count': 1}), ('Heather Vovak', 'Yukun Yang', {'weight_count': 1}), ('Jen Zeunik', 'Aisha Jamil', {'weight_count': 1}), ('Jen Zeunik', 'Ben Gorban', {'weight_count': 3}), ('Jen Zeunik', 'Brianna Sclafani', {'weight_count': 1}), ('Jen Zeunik', 'Christine Johnson', {'weight_count': 2}), ('Jen Zeunik', 'Dominique Burton', {'weight_count': 2}), ('Jen Zeunik', 'Eiryn Renouard', {'weight_count': 1}), ('Jen Zeunik', 'Elizabeth Fontaine', {'weight_count': 1}), ('Jen Zeunik', 'Katherine Hoogesteyn', {'weight_count': 3}), ('Jen Zeunik', 'Maria Valdovinos Olson Valdovinos', {'weight_count': 2}), ('Jen Zeunik', 'Mary Kate Murphy', {'weight_count': 3}), ('Jen Zeunik', 'Pauline Alvarado', {'weight_count': 4}), ('Jen Zeunik', 'Rebecca Benson', {'weight_count': 1}), ('Jen Zeunik', 'Sarita Coletrane', {'weight_count': 2}), ('Jen Zeunik', 'Travis Riddle', {'weight_count': 2}), ('Jen Zeunik', 'Travis Taniguchi', {'weight_count': 3}), ('Jen Zeunik', 'Yukun Yang', {'weight_count': 2}), ('Katherine Hoogesteyn', 'Aisha Jamil', {'weight_count': 3}), ('Katherine Hoogesteyn', 'Ben Gorban', {'weight_count': 2}), ('Katherine Hoogesteyn', 'Danielle Boekankamp', {'weight_count': 1}), ('Katherine Hoogesteyn', 'Elizabeth Fontaine', {'weight_count': 1}), ('Katherine Hoogesteyn', 'Fern Hernberg', {'weight_count': 1}), ('Katherine Hoogesteyn', 'Karen Amendola', {'weight_count': 2}), ('Katherine Hoogesteyn', 'Maria Valdovinos Olson Valdovinos', {'weight_count': 1}), ('Katherine Hoogesteyn', 'Michael Lebron', {'weight_count': 2}), ('Katherine Hoogesteyn', 'Pauline Alvarado', {'weight_count': 2}), ('Katherine Hoogesteyn', 'Sarita Coletrane', {'weight_count': 3}), ('Katherine Hoogesteyn', 'Travis Riddle', {'weight_count': 1}), ('Katherine Hoogesteyn', 'Travis Taniguchi', {'weight_count': 2}), ('Katherine Hoogesteyn', 'Trenay Wren-Evans', {'weight_count': 1}), ('Michael Lebron', 'Ben Gorban', {'weight_count': 1}), ('Michael Lebron', 'Eiryn Renouard', {'weight_count': 2}), ('Michael Lebron', 'Heather Vovak', {'weight_count': 2}), ('Michael Lebron', 'Julia Kessler', {'weight_count': 1}), ('Michael Lebron', 'Katherine Hoogesteyn', {'weight_count': 2}), ('Michael Lebron', 'Maria Valdovinos Olson Valdovinos', {'weight_count': 1}), ('Michael Lebron', 'Sarita Coletrane', {'weight_count': 3}), ('Michael Lebron', 'Travis Taniguchi', {'weight_count': 1}), ('Pauline Alvarado', 'Ben Gorban', {'weight_count': 1}), ('Pauline Alvarado', 'Brianna Sclafani', {'weight_count': 1}), ('Pauline Alvarado', 'Christine Johnson', {'weight_count': 3}), ('Pauline Alvarado', 'Danielle Boekankamp', {'weight_count': 2}), ('Pauline Alvarado', 'Dominique Burton', {'weight_count': 1}), ('Pauline Alvarado', 'Erica Richardson', {'weight_count': 1}), ('Pauline Alvarado', 'Jen Zeunik', {'weight_count': 2}), ('Pauline Alvarado', 'Katherine Hoogesteyn', {'weight_count': 1}), ('Pauline Alvarado', 'Mary Kate Murphy', {'weight_count': 2}), ('Pauline Alvarado', 'Pauline Alvarado', {'weight_count': 1}), ('Pauline Alvarado', 'Sarita Coletrane', {'weight_count': 2}), ('Pauline Alvarado', 'Travis Riddle', {'weight_count': 2}), ('Pauline Alvarado', 'Travis Taniguchi', {'weight_count': 1}), ('Pauline Alvarado', 'Trenay Wren-Evans', {'weight_count': 2}), ('Scarlett Ojeda Geldres', 'Aisha Jamil', {'weight_count': 1}), ('Scarlett Ojeda Geldres', 'Brett Cowell', {'weight_count': 1}), ('Scarlett Ojeda Geldres', 'Danielle Parsons', {'weight_count': 1}), ('Scarlett Ojeda Geldres', 'Eiryn Renouard', {'weight_count': 1}), ('Scarlett Ojeda Geldres', 'Fern Hernberg', {'weight_count': 1}), ('Scarlett Ojeda Geldres', 'Jen Zeunik', {'weight_count': 1}), ('Scarlett Ojeda Geldres', 'Jim Burch', {'weight_count': 1}), ('Scarlett Ojeda Geldres', 'Mary Kate Murphy', {'weight_count': 1}), ('Scarlett Ojeda Geldres', 'Sarita Coletrane', {'weight_count': 4}), ('Scarlett Ojeda Geldres', 'Scarlett Ojeda Geldres', {'weight_count': 4}), ('Scarlett Ojeda Geldres', 'Trenay Wren-Evans', {'weight_count': 1}), ('Danielle Boekankamp', 'Danielle Boekankamp', {'weight_count': 1}), ('Garrett Johnson', 'Danielle Parsons', {'weight_count': 4}), ('Garrett Johnson', 'Garrett Johnson', {'weight_count': 1}), ('Garrett Johnson', 'Lorena Singer', {'weight_count': 2}), ('Garrett Johnson', 'Sarita Coletrane', {'weight_count': 1}), ('Frank Straub', 'Ben Gorban', {'weight_count': 1}), ('Frank Straub', 'Christine Johnson', {'weight_count': 1}), ('Frank Straub', 'Dominique Burton', {'weight_count': 1}), ('Frank Straub', 'Michael Lebron', {'weight_count': 1}), ('Frank Straub', 'Sarita Coletrane', {'weight_count': 2}), ('Elizabeth Fontaine', 'Christine Johnson', {'weight_count': 1}), ('Elizabeth Fontaine', 'Dominique Burton', {'weight_count': 1}), ('Elizabeth Fontaine', 'Erica Richardson', {'weight_count': 1}), ('Elizabeth Fontaine', 'Jen Zeunik', {'weight_count': 1}), ('Elizabeth Fontaine', 'Maria Valdovinos Olson Valdovinos', {'weight_count': 1}), ('Elizabeth Fontaine', 'Scarlett Ojeda Geldres', {'weight_count': 2}), ('Fern Hernberg', 'Ben Gorban', {'weight_count': 1}), ('Fern Hernberg', 'Brett Cowell', {'weight_count': 1}), ('Fern Hernberg', 'Frank Straub', {'weight_count': 1}), ('Fern Hernberg', 'Jim Burch', {'weight_count': 5}), ('Jim Burch', 'Aisha Jamil', {'weight_count': 1}), ('Jim Burch', 'Ben Gorban', {'weight_count': 1}), ('Jim Burch', 'Christine Johnson', {'weight_count': 1}), ('Jim Burch', 'Dominique Burton', {'weight_count': 2}), ('Jim Burch', 'Elizabeth Fontaine', {'weight_count': 3}), ('Jim Burch', 'Fern Hernberg', {'weight_count': 3}), ('Jim Burch', 'Jane Mott-Palmer', {'weight_count': 1}), ('Jim Burch', 'Julia Kessler', {'weight_count': 2}), ('Jim Burch', 'Karen Amendola', {'weight_count': 1}), ('Jim Burch', 'Katherine Hoogesteyn', {'weight_count': 1}), ('Jim Burch', 'Kerry Yerico', {'weight_count': 2}), ('Jim Burch', 'Maria Valdovinos Olson Valdovinos', {'weight_count': 1}), ('Jim Burch', 'Michael Lebron', {'weight_count': 1}), ('Jim Burch', 'Pauline Alvarado', {'weight_count': 1}), ('Jim Burch', 'Scarlett Ojeda Geldres', {'weight_count': 1}), ('Jim Burch', 'Travis Taniguchi', {'weight_count': 1}), ('Jim Burch', 'Trenay Wren-Evans', {'weight_count': 2}), ('Jim Burch', 'Yukun Yang', {'weight_count': 4}), ('Travis Riddle', 'Heather Vovak', {'weight_count': 1}), ('Travis Riddle', 'Maria Valdovinos Olson Valdovinos', {'weight_count': 1}), ('Travis Riddle', 'Michael Lebron', {'weight_count': 1}), ('Travis Riddle', 'Pauline Alvarado', {'weight_count': 1}), ('Travis Riddle', 'Sarita Coletrane', {'weight_count': 2}), ('Travis Riddle', 'Travis Riddle', {'weight_count': 1}), ('Travis Riddle', 'Yukun Yang', {'weight_count': 2}), ('Jane Mott-Palmer', 'Brett Cowell', {'weight_count': 2}), ('Jane Mott-Palmer', 'Erica Richardson', {'weight_count': 3}), ('Jane Mott-Palmer', 'Jane Mott-Palmer', {'weight_count': 1}), ('Jane Mott-Palmer', 'Maria Valdovinos Olson Valdovinos', {'weight_count': 1}), ('Rebecca Benson', 'Christine Johnson', {'weight_count': 1}), ('Rebecca Benson', 'Dominique Burton', {'weight_count': 2}), ('Rebecca Benson', 'Jen Zeunik', {'weight_count': 1}), ('Rebecca Benson', 'Rebecca Benson', {'weight_count': 1}), ('Virgil Young', 'Danielle Parsons', {'weight_count': 3}), ('Virgil Young', 'Garrett Johnson', {'weight_count': 1}), ('Virgil Young', 'Lorena Singer', {'weight_count': 1}), ('Virgil Young', 'Rick Haake', {'weight_count': 2}), ('Virgil Young', 'Sarita Coletrane', {'weight_count': 3})])"
            ]
          },
          "metadata": {
            "tags": []
          },
          "execution_count": 22
        }
      ]
    },
    {
      "cell_type": "markdown",
      "metadata": {
        "id": "WUtFcl2W9bVb"
      },
      "source": [
        "Note that the node information is empty. Now we add some node attributes from our node list dataset."
      ]
    },
    {
      "cell_type": "code",
      "metadata": {
        "colab": {
          "base_uri": "https://localhost:8080/",
          "height": 204
        },
        "id": "yK3Th4Xs96QA",
        "outputId": "e481bbd6-42e5-47a3-97be-a4425c76db06"
      },
      "source": [
        "selected_node_attributes=node_list[['display_name','division','job_title','time_zone']]\n",
        "selected_node_attributes.head()"
      ],
      "execution_count": null,
      "outputs": [
        {
          "output_type": "execute_result",
          "data": {
            "text/html": [
              "<div>\n",
              "<style scoped>\n",
              "    .dataframe tbody tr th:only-of-type {\n",
              "        vertical-align: middle;\n",
              "    }\n",
              "\n",
              "    .dataframe tbody tr th {\n",
              "        vertical-align: top;\n",
              "    }\n",
              "\n",
              "    .dataframe thead th {\n",
              "        text-align: right;\n",
              "    }\n",
              "</style>\n",
              "<table border=\"1\" class=\"dataframe\">\n",
              "  <thead>\n",
              "    <tr style=\"text-align: right;\">\n",
              "      <th></th>\n",
              "      <th>display_name</th>\n",
              "      <th>division</th>\n",
              "      <th>job_title</th>\n",
              "      <th>time_zone</th>\n",
              "    </tr>\n",
              "  </thead>\n",
              "  <tbody>\n",
              "    <tr>\n",
              "      <th>0</th>\n",
              "      <td>Travis Taniguchi</td>\n",
              "      <td>research</td>\n",
              "      <td>director, research division</td>\n",
              "      <td>America/New_York</td>\n",
              "    </tr>\n",
              "    <tr>\n",
              "      <th>0</th>\n",
              "      <td>Karen Amendola</td>\n",
              "      <td>research</td>\n",
              "      <td>chief behavioral scientist</td>\n",
              "      <td>America/New_York</td>\n",
              "    </tr>\n",
              "    <tr>\n",
              "      <th>0</th>\n",
              "      <td>Brianna Sclafani</td>\n",
              "      <td>national programs</td>\n",
              "      <td>NaN</td>\n",
              "      <td>America/New_York</td>\n",
              "    </tr>\n",
              "    <tr>\n",
              "      <th>0</th>\n",
              "      <td>Katherine Hoogesteyn</td>\n",
              "      <td>research</td>\n",
              "      <td>senior research associate</td>\n",
              "      <td>America/Los_Angeles</td>\n",
              "    </tr>\n",
              "    <tr>\n",
              "      <th>0</th>\n",
              "      <td>Yukun Yang</td>\n",
              "      <td>research</td>\n",
              "      <td>data scientist (senior project associate)</td>\n",
              "      <td>America/New_York</td>\n",
              "    </tr>\n",
              "  </tbody>\n",
              "</table>\n",
              "</div>"
            ],
            "text/plain": [
              "           display_name  ...            time_zone\n",
              "0      Travis Taniguchi  ...     America/New_York\n",
              "0        Karen Amendola  ...     America/New_York\n",
              "0      Brianna Sclafani  ...     America/New_York\n",
              "0  Katherine Hoogesteyn  ...  America/Los_Angeles\n",
              "0            Yukun Yang  ...     America/New_York\n",
              "\n",
              "[5 rows x 4 columns]"
            ]
          },
          "metadata": {
            "tags": []
          },
          "execution_count": 23
        }
      ]
    },
    {
      "cell_type": "markdown",
      "metadata": {
        "id": "yqaTQ4H7-px0"
      },
      "source": [
        "Now we add the attributes of nodes using ```nx.set_node_attributes``` function."
      ]
    },
    {
      "cell_type": "code",
      "metadata": {
        "id": "hS97Aoqr9Sw4"
      },
      "source": [
        "nx.set_node_attributes(G, selected_node_attributes.set_index('display_name').to_dict('index'))"
      ],
      "execution_count": null,
      "outputs": []
    },
    {
      "cell_type": "markdown",
      "metadata": {
        "id": "42JH2keU-wnF"
      },
      "source": [
        "Now let's look at the nodes in the Graph"
      ]
    },
    {
      "cell_type": "code",
      "metadata": {
        "colab": {
          "base_uri": "https://localhost:8080/"
        },
        "id": "JwyXfkMe-cC8",
        "outputId": "83b0f0a0-db90-4442-bf77-bda04d3f3fa5"
      },
      "source": [
        "G.nodes(data=True)"
      ],
      "execution_count": null,
      "outputs": [
        {
          "output_type": "execute_result",
          "data": {
            "text/plain": [
              "NodeDataView({'Aisha Jamil': {'division': 'development & marketing', 'job_title': 'lead editor and content developer (communications specialist)', 'time_zone': 'America/New_York'}, 'Amanda Burstein': {'division': 'national programs', 'job_title': 'interim director, national programs', 'time_zone': 'America/New_York'}, 'Ben Gorban': {'division': 'national programs', 'job_title': 'senior project associate', 'time_zone': 'America/New_York'}, 'Erica Richardson': {'division': 'development & marketing', 'job_title': 'digital communications and media relations lead (communications specialist)', 'time_zone': 'America/New_York'}, 'Karen Amendola': {'division': 'research', 'job_title': 'chief behavioral scientist', 'time_zone': 'America/New_York'}, 'Kerry Yerico': {'division': 'national programs', 'job_title': 'senior program manager', 'time_zone': 'America/New_York'}, 'Lorena Singer': {'division': 'international', 'job_title': 'regional manager', 'time_zone': 'America/Los_Angeles'}, 'Maria Valdovinos Olson Valdovinos': {'division': 'research', 'job_title': 'senior research associate', 'time_zone': 'America/New_York'}, 'Mary Kate Murphy': {'division': 'local programs', 'job_title': 'project coordinator', 'time_zone': 'America/New_York'}, 'Rick Haake': {'division': 'international', 'job_title': 'regional manager', 'time_zone': 'America/Chicago'}, 'Sarita Coletrane': {'division': 'office of the president', 'job_title': 'human resources and operations manager', 'time_zone': 'America/Chicago'}, 'Tamara Martin': {'division': 'development & marketing', 'job_title': 'director, development & marketing', 'time_zone': 'America/New_York'}, 'Trenay Wren-Evans': {'division': 'finance & administration', 'job_title': 'administrative coordinator', 'time_zone': 'America/New_York'}, 'Yukun Yang': {'division': 'research', 'job_title': 'data scientist (senior project associate)', 'time_zone': 'America/New_York'}, 'Brett Cowell': {'division': 'national programs', 'job_title': 'senior project associate', 'time_zone': 'America/New_York'}, 'Brianna Sclafani': {'division': 'national programs', 'job_title': nan, 'time_zone': 'America/New_York'}, 'Danielle Parsons': {'division': 'international', 'job_title': 'specialist, program operations and finance', 'time_zone': 'America/New_York'}, 'Eiryn Renouard': {'division': 'national programs', 'job_title': 'project coordinator', 'time_zone': 'America/New_York'}, 'Julia Kessler': {'division': 'national programs', 'job_title': 'senior project associate', 'time_zone': 'America/Los_Angeles'}, 'Sarah Vanselow': {'division': nan, 'job_title': 'project associate', 'time_zone': 'America/New_York'}, 'Travis Taniguchi': {'division': 'research', 'job_title': 'director, research division', 'time_zone': 'America/New_York'}, 'Christine Johnson': {'division': 'local programs', 'job_title': 'project associate', 'time_zone': 'America/New_York'}, 'Dominique Burton': {'division': nan, 'job_title': 'project associate', 'time_zone': 'America/New_York'}, 'Heather Vovak': {'division': 'research', 'job_title': 'senior research associate', 'time_zone': 'America/New_York'}, 'Jen Zeunik': {'division': 'local programs', 'job_title': 'director of local programs', 'time_zone': 'America/New_York'}, 'Katherine Hoogesteyn': {'division': 'research', 'job_title': 'senior research associate', 'time_zone': 'America/Los_Angeles'}, 'Michael Lebron': {'division': 'research', 'job_title': 'research assistant', 'time_zone': 'America/New_York'}, 'Pauline Alvarado': {'division': nan, 'job_title': 'project associate', 'time_zone': 'America/Los_Angeles'}, 'Scarlett Ojeda Geldres': {'division': nan, 'job_title': 'finance assistant', 'time_zone': 'America/New_York'}, 'Danielle Boekankamp': {'division': 'research', 'job_title': 'intern', 'time_zone': 'America/Los_Angeles'}, 'Garrett Johnson': {'division': 'international', 'job_title': 'project coordinator', 'time_zone': 'America/New_York'}, 'Frank Straub': {'division': 'center for mass violence response studies', 'job_title': 'director, center for mass violence response studies', 'time_zone': 'America/Detroit'}, 'Elizabeth Fontaine': {'division': 'finance & administration', 'job_title': 'senior accounting manager', 'time_zone': 'America/New_York'}, 'Fern Hernberg': {'division': nan, 'job_title': nan, 'time_zone': 'America/New_York'}, 'Jim Burch': {'division': nan, 'job_title': 'president', 'time_zone': 'America/New_York'}, 'Travis Riddle': {'division': 'research', 'job_title': 'research data scientist (senior program manager)', 'time_zone': 'America/New_York'}, 'Jane Mott-Palmer': {'division': 'office of the president', 'job_title': 'chief of staff', 'time_zone': 'America/New_York'}, 'Rebecca Benson': {'division': 'local programs', 'job_title': 'senior project associate', 'time_zone': 'America/New_York'}, 'Virgil Young': {'division': 'international', 'job_title': 'interim director, international division', 'time_zone': 'America/New_York'}})"
            ]
          },
          "metadata": {
            "tags": []
          },
          "execution_count": 25
        }
      ]
    },
    {
      "cell_type": "markdown",
      "metadata": {
        "id": "kBj84zFCCKPB"
      },
      "source": [
        "## Retrieving Neighbors"
      ]
    },
    {
      "cell_type": "code",
      "metadata": {
        "colab": {
          "base_uri": "https://localhost:8080/"
        },
        "id": "k9vv1Iz7-_NU",
        "outputId": "8ec904e3-5036-4c31-9a8b-59ccb94dcfdf"
      },
      "source": [
        "list(G.neighbors('Karen Amendola'))"
      ],
      "execution_count": null,
      "outputs": [
        {
          "output_type": "execute_result",
          "data": {
            "text/plain": [
              "['Aisha Jamil',\n",
              " 'Ben Gorban',\n",
              " 'Brett Cowell',\n",
              " 'Christine Johnson',\n",
              " 'Danielle Boekankamp',\n",
              " 'Erica Richardson',\n",
              " 'Heather Vovak',\n",
              " 'Jen Zeunik',\n",
              " 'Katherine Hoogesteyn',\n",
              " 'Kerry Yerico',\n",
              " 'Maria Valdovinos Olson Valdovinos',\n",
              " 'Michael Lebron',\n",
              " 'Pauline Alvarado',\n",
              " 'Rick Haake',\n",
              " 'Sarita Coletrane',\n",
              " 'Travis Riddle',\n",
              " 'Travis Taniguchi',\n",
              " 'Yukun Yang']"
            ]
          },
          "metadata": {
            "tags": []
          },
          "execution_count": 26
        }
      ]
    },
    {
      "cell_type": "markdown",
      "metadata": {
        "id": "J501k0DbF9_C"
      },
      "source": [
        "## Retrieving Node/Edge Attributes"
      ]
    },
    {
      "cell_type": "code",
      "metadata": {
        "colab": {
          "base_uri": "https://localhost:8080/"
        },
        "id": "e4lVPxlyGM7A",
        "outputId": "f0e781f0-45c5-4c7c-dbf7-3f9ae4486e89"
      },
      "source": [
        "G.nodes['Karen Amendola']"
      ],
      "execution_count": null,
      "outputs": [
        {
          "output_type": "execute_result",
          "data": {
            "text/plain": [
              "{'division': 'research',\n",
              " 'job_title': 'chief behavioral scientist',\n",
              " 'time_zone': 'America/New_York'}"
            ]
          },
          "metadata": {
            "tags": []
          },
          "execution_count": 27
        }
      ]
    },
    {
      "cell_type": "code",
      "metadata": {
        "colab": {
          "base_uri": "https://localhost:8080/",
          "height": 35
        },
        "id": "YabMlBgDF9mk",
        "outputId": "d6cfbc17-5eb4-41db-d480-9e6e28f0ddea"
      },
      "source": [
        "G.nodes['Karen Amendola']['division']"
      ],
      "execution_count": null,
      "outputs": [
        {
          "output_type": "execute_result",
          "data": {
            "application/vnd.google.colaboratory.intrinsic+json": {
              "type": "string"
            },
            "text/plain": [
              "'research'"
            ]
          },
          "metadata": {
            "tags": []
          },
          "execution_count": 28
        }
      ]
    },
    {
      "cell_type": "code",
      "metadata": {
        "colab": {
          "base_uri": "https://localhost:8080/"
        },
        "id": "eKkI1SvEGIrb",
        "outputId": "721c070e-77b8-4b0d-ae0a-46c8c1da43fd"
      },
      "source": [
        "G.edges[('Karen Amendola', 'Maria Valdovinos Olson Valdovinos')]"
      ],
      "execution_count": null,
      "outputs": [
        {
          "output_type": "execute_result",
          "data": {
            "text/plain": [
              "{'weight_count': 5}"
            ]
          },
          "metadata": {
            "tags": []
          },
          "execution_count": 29
        }
      ]
    },
    {
      "cell_type": "code",
      "metadata": {
        "colab": {
          "base_uri": "https://localhost:8080/"
        },
        "id": "dsI54W4zGOVP",
        "outputId": "3cf2aec9-b3ee-4b5d-8c50-7947384c8f17"
      },
      "source": [
        "G.edges[('Karen Amendola', 'Maria Valdovinos Olson Valdovinos')]['weight_count']"
      ],
      "execution_count": null,
      "outputs": [
        {
          "output_type": "execute_result",
          "data": {
            "text/plain": [
              "5"
            ]
          },
          "metadata": {
            "tags": []
          },
          "execution_count": 30
        }
      ]
    },
    {
      "cell_type": "markdown",
      "metadata": {
        "id": "fA7hezSe_P-W"
      },
      "source": [
        "## Summarizing Global Network Statistics"
      ]
    },
    {
      "cell_type": "markdown",
      "metadata": {
        "id": "4vOx9Fou_Yoq"
      },
      "source": [
        "### What is the diameter of the graph?"
      ]
    },
    {
      "cell_type": "code",
      "metadata": {
        "colab": {
          "base_uri": "https://localhost:8080/",
          "height": 307
        },
        "id": "El1D_5w2_Wcw",
        "outputId": "d13870b8-b206-4ab9-b910-48522aec09ef"
      },
      "source": [
        "nx.diameter(G)"
      ],
      "execution_count": null,
      "outputs": [
        {
          "output_type": "error",
          "ename": "NetworkXError",
          "evalue": "ignored",
          "traceback": [
            "\u001b[0;31m---------------------------------------------------------------------------\u001b[0m",
            "\u001b[0;31mNetworkXError\u001b[0m                             Traceback (most recent call last)",
            "\u001b[0;32m<ipython-input-31-6332baa7b858>\u001b[0m in \u001b[0;36m<module>\u001b[0;34m()\u001b[0m\n\u001b[0;32m----> 1\u001b[0;31m \u001b[0mnx\u001b[0m\u001b[0;34m.\u001b[0m\u001b[0mdiameter\u001b[0m\u001b[0;34m(\u001b[0m\u001b[0mG\u001b[0m\u001b[0;34m)\u001b[0m\u001b[0;34m\u001b[0m\u001b[0;34m\u001b[0m\u001b[0m\n\u001b[0m",
            "\u001b[0;32m/usr/local/lib/python3.7/dist-packages/networkx/algorithms/distance_measures.py\u001b[0m in \u001b[0;36mdiameter\u001b[0;34m(G, e, usebounds)\u001b[0m\n\u001b[1;32m    297\u001b[0m         \u001b[0;32mreturn\u001b[0m \u001b[0mextrema_bounding\u001b[0m\u001b[0;34m(\u001b[0m\u001b[0mG\u001b[0m\u001b[0;34m,\u001b[0m \u001b[0mcompute\u001b[0m\u001b[0;34m=\u001b[0m\u001b[0;34m\"diameter\"\u001b[0m\u001b[0;34m)\u001b[0m\u001b[0;34m\u001b[0m\u001b[0;34m\u001b[0m\u001b[0m\n\u001b[1;32m    298\u001b[0m     \u001b[0;32mif\u001b[0m \u001b[0me\u001b[0m \u001b[0;32mis\u001b[0m \u001b[0;32mNone\u001b[0m\u001b[0;34m:\u001b[0m\u001b[0;34m\u001b[0m\u001b[0;34m\u001b[0m\u001b[0m\n\u001b[0;32m--> 299\u001b[0;31m         \u001b[0me\u001b[0m \u001b[0;34m=\u001b[0m \u001b[0meccentricity\u001b[0m\u001b[0;34m(\u001b[0m\u001b[0mG\u001b[0m\u001b[0;34m)\u001b[0m\u001b[0;34m\u001b[0m\u001b[0;34m\u001b[0m\u001b[0m\n\u001b[0m\u001b[1;32m    300\u001b[0m     \u001b[0;32mreturn\u001b[0m \u001b[0mmax\u001b[0m\u001b[0;34m(\u001b[0m\u001b[0me\u001b[0m\u001b[0;34m.\u001b[0m\u001b[0mvalues\u001b[0m\u001b[0;34m(\u001b[0m\u001b[0;34m)\u001b[0m\u001b[0;34m)\u001b[0m\u001b[0;34m\u001b[0m\u001b[0;34m\u001b[0m\u001b[0m\n\u001b[1;32m    301\u001b[0m \u001b[0;34m\u001b[0m\u001b[0m\n",
            "\u001b[0;32m/usr/local/lib/python3.7/dist-packages/networkx/algorithms/distance_measures.py\u001b[0m in \u001b[0;36meccentricity\u001b[0;34m(G, v, sp)\u001b[0m\n\u001b[1;32m    262\u001b[0m             \u001b[0;32melse\u001b[0m\u001b[0;34m:\u001b[0m\u001b[0;34m\u001b[0m\u001b[0;34m\u001b[0m\u001b[0m\n\u001b[1;32m    263\u001b[0m                 \u001b[0mmsg\u001b[0m \u001b[0;34m=\u001b[0m \u001b[0;34m\"Found infinite path length because the graph is not\"\u001b[0m \u001b[0;34m\" connected\"\u001b[0m\u001b[0;34m\u001b[0m\u001b[0;34m\u001b[0m\u001b[0m\n\u001b[0;32m--> 264\u001b[0;31m             \u001b[0;32mraise\u001b[0m \u001b[0mnx\u001b[0m\u001b[0;34m.\u001b[0m\u001b[0mNetworkXError\u001b[0m\u001b[0;34m(\u001b[0m\u001b[0mmsg\u001b[0m\u001b[0;34m)\u001b[0m\u001b[0;34m\u001b[0m\u001b[0;34m\u001b[0m\u001b[0m\n\u001b[0m\u001b[1;32m    265\u001b[0m \u001b[0;34m\u001b[0m\u001b[0m\n\u001b[1;32m    266\u001b[0m         \u001b[0me\u001b[0m\u001b[0;34m[\u001b[0m\u001b[0mn\u001b[0m\u001b[0;34m]\u001b[0m \u001b[0;34m=\u001b[0m \u001b[0mmax\u001b[0m\u001b[0;34m(\u001b[0m\u001b[0mlength\u001b[0m\u001b[0;34m.\u001b[0m\u001b[0mvalues\u001b[0m\u001b[0;34m(\u001b[0m\u001b[0;34m)\u001b[0m\u001b[0;34m)\u001b[0m\u001b[0;34m\u001b[0m\u001b[0;34m\u001b[0m\u001b[0m\n",
            "\u001b[0;31mNetworkXError\u001b[0m: Found infinite path length because the digraph is not strongly connected"
          ]
        }
      ]
    },
    {
      "cell_type": "markdown",
      "metadata": {
        "id": "Kc0FcD4XGbeM"
      },
      "source": [
        "![connectivity](http://www.cs.emory.edu/~cheung/Courses/253/Syllabus/Graph/FIGS/Graphs/graph70.gif)"
      ]
    },
    {
      "cell_type": "code",
      "metadata": {
        "colab": {
          "base_uri": "https://localhost:8080/"
        },
        "id": "8AIWJc7T_-aY",
        "outputId": "38c39eb7-4e63-4957-a7a6-6896f63b3450"
      },
      "source": [
        "nx.is_strongly_connected(G)"
      ],
      "execution_count": null,
      "outputs": [
        {
          "output_type": "execute_result",
          "data": {
            "text/plain": [
              "False"
            ]
          },
          "metadata": {
            "tags": []
          },
          "execution_count": 33
        }
      ]
    },
    {
      "cell_type": "code",
      "metadata": {
        "id": "RgHST2xrOgb2"
      },
      "source": [],
      "execution_count": null,
      "outputs": []
    },
    {
      "cell_type": "code",
      "metadata": {
        "colab": {
          "base_uri": "https://localhost:8080/"
        },
        "id": "jZ5jFHJHAjld",
        "outputId": "de10214a-0c97-45b0-e196-d7401e7e601e"
      },
      "source": [
        "nx.is_weakly_connected(G)"
      ],
      "execution_count": null,
      "outputs": [
        {
          "output_type": "execute_result",
          "data": {
            "text/plain": [
              "True"
            ]
          },
          "metadata": {
            "tags": []
          },
          "execution_count": 34
        }
      ]
    },
    {
      "cell_type": "markdown",
      "metadata": {
        "id": "oAjBjIhxDNGK"
      },
      "source": [
        "The diameter of a graph is the longest shortest path of a connected graph.  It is computed by determining the shortest path length between each set of vertices in the graph and then determining the longest of these.  If two vertices are disconnected and the graph is disconnected, the path length between the two is infinity and the diameter of the graph is infinity. \n",
        "\n"
      ]
    },
    {
      "cell_type": "code",
      "metadata": {
        "colab": {
          "base_uri": "https://localhost:8080/"
        },
        "id": "uyze2aCxFfyf",
        "outputId": "6882c3cb-d5cf-4c2e-cd1c-139c8f3e1748"
      },
      "source": [
        "for com in nx.strongly_connected_components(G):\n",
        "  print(com)"
      ],
      "execution_count": null,
      "outputs": [
        {
          "output_type": "stream",
          "text": [
            "{'Danielle Boekankamp'}\n",
            "{'Michael Lebron', 'Pauline Alvarado', 'Rebecca Benson', 'Sarita Coletrane', 'Travis Taniguchi', 'Aisha Jamil', 'Brianna Sclafani', 'Christine Johnson', 'Maria Valdovinos Olson Valdovinos', 'Jim Burch', 'Eiryn Renouard', 'Scarlett Ojeda Geldres', 'Jen Zeunik', 'Amanda Burstein', 'Lorena Singer', 'Heather Vovak', 'Rick Haake', 'Elizabeth Fontaine', 'Julia Kessler', 'Trenay Wren-Evans', 'Erica Richardson', 'Mary Kate Murphy', 'Danielle Parsons', 'Sarah Vanselow', 'Kerry Yerico', 'Fern Hernberg', 'Frank Straub', 'Ben Gorban', 'Karen Amendola', 'Brett Cowell', 'Garrett Johnson', 'Dominique Burton', 'Yukun Yang', 'Travis Riddle', 'Tamara Martin', 'Jane Mott-Palmer', 'Katherine Hoogesteyn'}\n",
            "{'Virgil Young'}\n"
          ],
          "name": "stdout"
        }
      ]
    },
    {
      "cell_type": "code",
      "metadata": {
        "colab": {
          "base_uri": "https://localhost:8080/"
        },
        "id": "-FMFssjQEIko",
        "outputId": "884bf1b4-62e8-4188-bc19-b9e15c4455de"
      },
      "source": [
        "nx.diameter(G.to_undirected())"
      ],
      "execution_count": null,
      "outputs": [
        {
          "output_type": "execute_result",
          "data": {
            "text/plain": [
              "3"
            ]
          },
          "metadata": {
            "tags": []
          },
          "execution_count": 36
        }
      ]
    },
    {
      "cell_type": "markdown",
      "metadata": {
        "id": "AsyAxJyJFKMs"
      },
      "source": [
        "### What is the Density of the Graph"
      ]
    },
    {
      "cell_type": "code",
      "metadata": {
        "colab": {
          "base_uri": "https://localhost:8080/"
        },
        "id": "7H5FUl1gFNP9",
        "outputId": "4e4cd319-780b-4259-f31b-6577185a90c5"
      },
      "source": [
        "nx.density(G)"
      ],
      "execution_count": null,
      "outputs": [
        {
          "output_type": "execute_result",
          "data": {
            "text/plain": [
              "0.2321187584345479"
            ]
          },
          "metadata": {
            "tags": []
          },
          "execution_count": 38
        }
      ]
    },
    {
      "cell_type": "code",
      "metadata": {
        "id": "Mx7bYkApPK-K",
        "colab": {
          "base_uri": "https://localhost:8080/"
        },
        "outputId": "7025d0c2-0561-4706-848b-6c121b731087"
      },
      "source": [
        "len(G.edges)"
      ],
      "execution_count": null,
      "outputs": [
        {
          "output_type": "execute_result",
          "data": {
            "text/plain": [
              "344"
            ]
          },
          "metadata": {
            "tags": []
          },
          "execution_count": 39
        }
      ]
    },
    {
      "cell_type": "markdown",
      "metadata": {
        "id": "XLCbOlrFjfZX"
      },
      "source": [
        "### What is the degree distribution of the Graph"
      ]
    },
    {
      "cell_type": "code",
      "metadata": {
        "colab": {
          "base_uri": "https://localhost:8080/"
        },
        "id": "1cwyRBVnK4ei",
        "outputId": "60e3c608-3fb1-40fa-eae5-c6ab13f6288d"
      },
      "source": [
        "G.in_degree(weight='weight_count')"
      ],
      "execution_count": null,
      "outputs": [
        {
          "output_type": "execute_result",
          "data": {
            "text/plain": [
              "InDegreeView({'Aisha Jamil': 31, 'Amanda Burstein': 1, 'Ben Gorban': 46, 'Erica Richardson': 25, 'Karen Amendola': 19, 'Kerry Yerico': 17, 'Lorena Singer': 10, 'Maria Valdovinos Olson Valdovinos': 29, 'Mary Kate Murphy': 13, 'Rick Haake': 13, 'Sarita Coletrane': 54, 'Tamara Martin': 1, 'Trenay Wren-Evans': 9, 'Yukun Yang': 29, 'Brett Cowell': 15, 'Brianna Sclafani': 6, 'Danielle Parsons': 26, 'Eiryn Renouard': 18, 'Julia Kessler': 19, 'Sarah Vanselow': 16, 'Travis Taniguchi': 19, 'Christine Johnson': 25, 'Dominique Burton': 15, 'Heather Vovak': 11, 'Jen Zeunik': 11, 'Katherine Hoogesteyn': 15, 'Michael Lebron': 15, 'Pauline Alvarado': 20, 'Scarlett Ojeda Geldres': 12, 'Danielle Boekankamp': 8, 'Garrett Johnson': 12, 'Frank Straub': 3, 'Elizabeth Fontaine': 11, 'Fern Hernberg': 5, 'Jim Burch': 7, 'Travis Riddle': 19, 'Jane Mott-Palmer': 5, 'Rebecca Benson': 3, 'Virgil Young': 0})"
            ]
          },
          "metadata": {
            "tags": []
          },
          "execution_count": 40
        }
      ]
    },
    {
      "cell_type": "code",
      "metadata": {
        "colab": {
          "base_uri": "https://localhost:8080/"
        },
        "id": "S80EezvrK52R",
        "outputId": "79721b5b-c453-4660-fa18-e4d6add2c933"
      },
      "source": [
        "G.out_degree(weight='weight_count')"
      ],
      "execution_count": null,
      "outputs": [
        {
          "output_type": "execute_result",
          "data": {
            "text/plain": [
              "OutDegreeView({'Aisha Jamil': 22, 'Amanda Burstein': 25, 'Ben Gorban': 21, 'Erica Richardson': 7, 'Karen Amendola': 55, 'Kerry Yerico': 15, 'Lorena Singer': 27, 'Maria Valdovinos Olson Valdovinos': 20, 'Mary Kate Murphy': 3, 'Rick Haake': 14, 'Sarita Coletrane': 33, 'Tamara Martin': 11, 'Trenay Wren-Evans': 8, 'Yukun Yang': 19, 'Brett Cowell': 12, 'Brianna Sclafani': 4, 'Danielle Parsons': 6, 'Eiryn Renouard': 11, 'Julia Kessler': 16, 'Sarah Vanselow': 7, 'Travis Taniguchi': 34, 'Christine Johnson': 19, 'Dominique Burton': 12, 'Heather Vovak': 15, 'Jen Zeunik': 33, 'Katherine Hoogesteyn': 22, 'Michael Lebron': 13, 'Pauline Alvarado': 22, 'Scarlett Ojeda Geldres': 17, 'Danielle Boekankamp': 1, 'Garrett Johnson': 8, 'Frank Straub': 6, 'Elizabeth Fontaine': 7, 'Fern Hernberg': 8, 'Jim Burch': 29, 'Travis Riddle': 9, 'Jane Mott-Palmer': 7, 'Rebecca Benson': 5, 'Virgil Young': 10})"
            ]
          },
          "metadata": {
            "tags": []
          },
          "execution_count": 41
        }
      ]
    },
    {
      "cell_type": "code",
      "metadata": {
        "colab": {
          "base_uri": "https://localhost:8080/"
        },
        "id": "-_KgdSZ4qHs9",
        "outputId": "8dc2c88c-43bf-4b23-b65a-61a02a215007"
      },
      "source": [
        "G.out_degree(weight=None)"
      ],
      "execution_count": null,
      "outputs": [
        {
          "output_type": "execute_result",
          "data": {
            "text/plain": [
              "OutDegreeView({'Aisha Jamil': 13, 'Amanda Burstein': 10, 'Ben Gorban': 15, 'Erica Richardson': 7, 'Karen Amendola': 18, 'Kerry Yerico': 9, 'Lorena Singer': 9, 'Maria Valdovinos Olson Valdovinos': 12, 'Mary Kate Murphy': 3, 'Rick Haake': 6, 'Sarita Coletrane': 20, 'Tamara Martin': 6, 'Trenay Wren-Evans': 7, 'Yukun Yang': 13, 'Brett Cowell': 8, 'Brianna Sclafani': 4, 'Danielle Parsons': 5, 'Eiryn Renouard': 6, 'Julia Kessler': 7, 'Sarah Vanselow': 4, 'Travis Taniguchi': 14, 'Christine Johnson': 10, 'Dominique Burton': 7, 'Heather Vovak': 11, 'Jen Zeunik': 16, 'Katherine Hoogesteyn': 13, 'Michael Lebron': 8, 'Pauline Alvarado': 14, 'Scarlett Ojeda Geldres': 11, 'Danielle Boekankamp': 1, 'Garrett Johnson': 4, 'Frank Straub': 5, 'Elizabeth Fontaine': 6, 'Fern Hernberg': 4, 'Jim Burch': 18, 'Travis Riddle': 7, 'Jane Mott-Palmer': 4, 'Rebecca Benson': 4, 'Virgil Young': 5})"
            ]
          },
          "metadata": {
            "tags": []
          },
          "execution_count": 42
        }
      ]
    },
    {
      "cell_type": "code",
      "metadata": {
        "colab": {
          "base_uri": "https://localhost:8080/"
        },
        "id": "aRHs3c183go2",
        "outputId": "a43a5aa6-699b-4d5f-9fe5-1fcd05c47298"
      },
      "source": [
        "G.in_degree(weight=None)"
      ],
      "execution_count": null,
      "outputs": [
        {
          "output_type": "execute_result",
          "data": {
            "text/plain": [
              "InDegreeView({'Aisha Jamil': 18, 'Amanda Burstein': 1, 'Ben Gorban': 26, 'Erica Richardson': 14, 'Karen Amendola': 11, 'Kerry Yerico': 8, 'Lorena Singer': 6, 'Maria Valdovinos Olson Valdovinos': 16, 'Mary Kate Murphy': 9, 'Rick Haake': 6, 'Sarita Coletrane': 24, 'Tamara Martin': 1, 'Trenay Wren-Evans': 7, 'Yukun Yang': 12, 'Brett Cowell': 10, 'Brianna Sclafani': 6, 'Danielle Parsons': 10, 'Eiryn Renouard': 10, 'Julia Kessler': 8, 'Sarah Vanselow': 7, 'Travis Taniguchi': 11, 'Christine Johnson': 13, 'Dominique Burton': 9, 'Heather Vovak': 7, 'Jen Zeunik': 9, 'Katherine Hoogesteyn': 8, 'Michael Lebron': 12, 'Pauline Alvarado': 12, 'Scarlett Ojeda Geldres': 8, 'Danielle Boekankamp': 6, 'Garrett Johnson': 7, 'Frank Straub': 3, 'Elizabeth Fontaine': 4, 'Fern Hernberg': 3, 'Jim Burch': 3, 'Travis Riddle': 11, 'Jane Mott-Palmer': 5, 'Rebecca Benson': 3, 'Virgil Young': 0})"
            ]
          },
          "metadata": {
            "tags": []
          },
          "execution_count": 43
        }
      ]
    },
    {
      "cell_type": "code",
      "metadata": {
        "id": "EuW8HNKyLN_K"
      },
      "source": [
        "from collections import Counter \n",
        "\n",
        "def plot_degree_dist(G=G,weight=False, graph_type='both', include_hist=False, weight_name='weight_count'):\n",
        "  '''\n",
        "  parameters:\n",
        "  weight = True/False. True -> Using weight of the edges for degree calculation. \n",
        "  graph_type = both/indegree/outdegree. both -> Plotting both indegree and outdegree.\n",
        "  include_hist = True/False -> Including the histrogam of the degree distribution or not.\n",
        "  weight_name -> Name of the edge attr that can be used as weight.\n",
        "  '''\n",
        "  \n",
        "  if weight==True:\n",
        "    indegrees=G.in_degree(weight=weight_name)\n",
        "    outdegrees=G.out_degree(weight=weight_name)\n",
        "\n",
        "  else:\n",
        "    indegrees=G.in_degree(weight=None)\n",
        "    outdegrees=G.out_degree(weight=None)\n",
        "  \n",
        "  in_degree_counts=Counter(dict(indegrees).values())\n",
        "  out_degree_counts=Counter(dict(outdegrees).values())\n",
        "  \n",
        "  in_degree_df=pd.DataFrame({'degree':in_degree_counts.keys(), 'count':in_degree_counts.values()})\n",
        "  in_degree_df['type']='indegree'\n",
        "\n",
        "  out_degree_df=pd.DataFrame({'degree':out_degree_counts.keys(), 'count':out_degree_counts.values()})\n",
        "  out_degree_df['type']='outdegree'\n",
        "\n",
        "  degree_df=pd.concat([in_degree_df, out_degree_df])\n",
        "\n",
        "  raw_degrees=pd.concat([pd.DataFrame({'indegrees':dict(indegrees).values(),'type':'indegree'}),\n",
        "                      pd.DataFrame({'indegrees':dict(outdegrees).values(),'type':'outdegree'})])\n",
        "  \n",
        "  \n",
        "\n",
        "  if graph_type!='both':\n",
        "    degree_df=degree_df[degree_df['type']==graph_type]\n",
        "    raw_degrees=raw_degrees[raw_degrees['type']==graph_type]\n",
        "  \n",
        "  fig=px.scatter(degree_df.sort_values('degree'),x='degree', y='count', color='type').update_traces(mode='markers+lines')\n",
        "  fig.show()\n",
        "\n",
        "  if include_hist==True:\n",
        "    hist=px.histogram(raw_degrees, color='type', barmode='overlay',marginal=\"box\")\n",
        "    hist.show()\n"
      ],
      "execution_count": null,
      "outputs": []
    },
    {
      "cell_type": "code",
      "metadata": {
        "colab": {
          "base_uri": "https://localhost:8080/",
          "height": 1000
        },
        "id": "2AVt1LVVehhF",
        "outputId": "72ea7d87-121e-470e-daa0-5545c70d0e64"
      },
      "source": [
        "plot_degree_dist(weight=False, include_hist=True)"
      ],
      "execution_count": null,
      "outputs": [
        {
          "output_type": "display_data",
          "data": {
            "text/html": [
              "<html>\n",
              "<head><meta charset=\"utf-8\" /></head>\n",
              "<body>\n",
              "    <div>            <script src=\"https://cdnjs.cloudflare.com/ajax/libs/mathjax/2.7.5/MathJax.js?config=TeX-AMS-MML_SVG\"></script><script type=\"text/javascript\">if (window.MathJax) {MathJax.Hub.Config({SVG: {font: \"STIX-Web\"}});}</script>                <script type=\"text/javascript\">window.PlotlyConfig = {MathJaxConfig: 'local'};</script>\n",
              "        <script src=\"https://cdn.plot.ly/plotly-latest.min.js\"></script>                <div id=\"df0f9272-7de1-4b3f-9882-994ffd5f40f2\" class=\"plotly-graph-div\" style=\"height:525px; width:100%;\"></div>            <script type=\"text/javascript\">                                    window.PLOTLYENV=window.PLOTLYENV || {};                                    if (document.getElementById(\"df0f9272-7de1-4b3f-9882-994ffd5f40f2\")) {                    Plotly.newPlot(                        \"df0f9272-7de1-4b3f-9882-994ffd5f40f2\",                        [{\"hovertemplate\": \"type=indegree<br>degree=%{x}<br>count=%{y}<extra></extra>\", \"legendgroup\": \"indegree\", \"marker\": {\"color\": \"#636efa\", \"symbol\": \"circle\"}, \"mode\": \"markers+lines\", \"name\": \"indegree\", \"orientation\": \"v\", \"showlegend\": true, \"type\": \"scatter\", \"x\": [0, 1, 3, 4, 5, 6, 7, 8, 9, 10, 11, 12, 13, 14, 16, 18, 24, 26], \"xaxis\": \"x\", \"y\": [1, 2, 4, 1, 1, 4, 4, 4, 3, 3, 3, 3, 1, 1, 1, 1, 1, 1], \"yaxis\": \"y\"}, {\"hovertemplate\": \"type=outdegree<br>degree=%{x}<br>count=%{y}<extra></extra>\", \"legendgroup\": \"outdegree\", \"marker\": {\"color\": \"#EF553B\", \"symbol\": \"circle\"}, \"mode\": \"markers+lines\", \"name\": \"outdegree\", \"orientation\": \"v\", \"showlegend\": true, \"type\": \"scatter\", \"x\": [1, 3, 4, 5, 6, 7, 8, 9, 10, 11, 12, 13, 14, 15, 16, 18, 20], \"xaxis\": \"x\", \"y\": [1, 1, 6, 3, 4, 5, 2, 2, 2, 2, 1, 3, 2, 1, 1, 2, 1], \"yaxis\": \"y\"}],                        {\"legend\": {\"title\": {\"text\": \"type\"}, \"tracegroupgap\": 0}, \"margin\": {\"t\": 60}, \"template\": {\"data\": {\"bar\": [{\"error_x\": {\"color\": \"#2a3f5f\"}, \"error_y\": {\"color\": \"#2a3f5f\"}, \"marker\": {\"line\": {\"color\": \"#E5ECF6\", \"width\": 0.5}}, \"type\": \"bar\"}], \"barpolar\": [{\"marker\": {\"line\": {\"color\": \"#E5ECF6\", \"width\": 0.5}}, \"type\": \"barpolar\"}], \"carpet\": [{\"aaxis\": {\"endlinecolor\": \"#2a3f5f\", \"gridcolor\": \"white\", \"linecolor\": \"white\", \"minorgridcolor\": \"white\", \"startlinecolor\": \"#2a3f5f\"}, \"baxis\": {\"endlinecolor\": \"#2a3f5f\", \"gridcolor\": \"white\", \"linecolor\": \"white\", \"minorgridcolor\": \"white\", \"startlinecolor\": \"#2a3f5f\"}, \"type\": \"carpet\"}], \"choropleth\": [{\"colorbar\": {\"outlinewidth\": 0, \"ticks\": \"\"}, \"type\": \"choropleth\"}], \"contour\": [{\"colorbar\": {\"outlinewidth\": 0, \"ticks\": \"\"}, \"colorscale\": [[0.0, \"#0d0887\"], [0.1111111111111111, \"#46039f\"], [0.2222222222222222, \"#7201a8\"], [0.3333333333333333, \"#9c179e\"], [0.4444444444444444, \"#bd3786\"], [0.5555555555555556, \"#d8576b\"], [0.6666666666666666, \"#ed7953\"], [0.7777777777777778, \"#fb9f3a\"], [0.8888888888888888, \"#fdca26\"], [1.0, \"#f0f921\"]], \"type\": \"contour\"}], \"contourcarpet\": [{\"colorbar\": {\"outlinewidth\": 0, \"ticks\": \"\"}, \"type\": \"contourcarpet\"}], \"heatmap\": [{\"colorbar\": {\"outlinewidth\": 0, \"ticks\": \"\"}, \"colorscale\": [[0.0, \"#0d0887\"], [0.1111111111111111, \"#46039f\"], [0.2222222222222222, \"#7201a8\"], [0.3333333333333333, \"#9c179e\"], [0.4444444444444444, \"#bd3786\"], [0.5555555555555556, \"#d8576b\"], [0.6666666666666666, \"#ed7953\"], [0.7777777777777778, \"#fb9f3a\"], [0.8888888888888888, \"#fdca26\"], [1.0, \"#f0f921\"]], \"type\": \"heatmap\"}], \"heatmapgl\": [{\"colorbar\": {\"outlinewidth\": 0, \"ticks\": \"\"}, \"colorscale\": [[0.0, \"#0d0887\"], [0.1111111111111111, \"#46039f\"], [0.2222222222222222, \"#7201a8\"], [0.3333333333333333, \"#9c179e\"], [0.4444444444444444, \"#bd3786\"], [0.5555555555555556, \"#d8576b\"], [0.6666666666666666, \"#ed7953\"], [0.7777777777777778, \"#fb9f3a\"], [0.8888888888888888, \"#fdca26\"], [1.0, \"#f0f921\"]], \"type\": \"heatmapgl\"}], \"histogram\": [{\"marker\": {\"colorbar\": {\"outlinewidth\": 0, \"ticks\": \"\"}}, \"type\": \"histogram\"}], \"histogram2d\": [{\"colorbar\": {\"outlinewidth\": 0, \"ticks\": \"\"}, \"colorscale\": [[0.0, \"#0d0887\"], [0.1111111111111111, \"#46039f\"], [0.2222222222222222, \"#7201a8\"], [0.3333333333333333, \"#9c179e\"], [0.4444444444444444, \"#bd3786\"], [0.5555555555555556, \"#d8576b\"], [0.6666666666666666, \"#ed7953\"], [0.7777777777777778, \"#fb9f3a\"], [0.8888888888888888, \"#fdca26\"], [1.0, \"#f0f921\"]], \"type\": \"histogram2d\"}], \"histogram2dcontour\": [{\"colorbar\": {\"outlinewidth\": 0, \"ticks\": \"\"}, \"colorscale\": [[0.0, \"#0d0887\"], [0.1111111111111111, \"#46039f\"], [0.2222222222222222, \"#7201a8\"], [0.3333333333333333, \"#9c179e\"], [0.4444444444444444, \"#bd3786\"], [0.5555555555555556, \"#d8576b\"], [0.6666666666666666, \"#ed7953\"], [0.7777777777777778, \"#fb9f3a\"], [0.8888888888888888, \"#fdca26\"], [1.0, \"#f0f921\"]], \"type\": \"histogram2dcontour\"}], \"mesh3d\": [{\"colorbar\": {\"outlinewidth\": 0, \"ticks\": \"\"}, \"type\": \"mesh3d\"}], \"parcoords\": [{\"line\": {\"colorbar\": {\"outlinewidth\": 0, \"ticks\": \"\"}}, \"type\": \"parcoords\"}], \"pie\": [{\"automargin\": true, \"type\": \"pie\"}], \"scatter\": [{\"marker\": {\"colorbar\": {\"outlinewidth\": 0, \"ticks\": \"\"}}, \"type\": \"scatter\"}], \"scatter3d\": [{\"line\": {\"colorbar\": {\"outlinewidth\": 0, \"ticks\": \"\"}}, \"marker\": {\"colorbar\": {\"outlinewidth\": 0, \"ticks\": \"\"}}, \"type\": \"scatter3d\"}], \"scattercarpet\": [{\"marker\": {\"colorbar\": {\"outlinewidth\": 0, \"ticks\": \"\"}}, \"type\": \"scattercarpet\"}], \"scattergeo\": [{\"marker\": {\"colorbar\": {\"outlinewidth\": 0, \"ticks\": \"\"}}, \"type\": \"scattergeo\"}], \"scattergl\": [{\"marker\": {\"colorbar\": {\"outlinewidth\": 0, \"ticks\": \"\"}}, \"type\": \"scattergl\"}], \"scattermapbox\": [{\"marker\": {\"colorbar\": {\"outlinewidth\": 0, \"ticks\": \"\"}}, \"type\": \"scattermapbox\"}], \"scatterpolar\": [{\"marker\": {\"colorbar\": {\"outlinewidth\": 0, \"ticks\": \"\"}}, \"type\": \"scatterpolar\"}], \"scatterpolargl\": [{\"marker\": {\"colorbar\": {\"outlinewidth\": 0, \"ticks\": \"\"}}, \"type\": \"scatterpolargl\"}], \"scatterternary\": [{\"marker\": {\"colorbar\": {\"outlinewidth\": 0, \"ticks\": \"\"}}, \"type\": \"scatterternary\"}], \"surface\": [{\"colorbar\": {\"outlinewidth\": 0, \"ticks\": \"\"}, \"colorscale\": [[0.0, \"#0d0887\"], [0.1111111111111111, \"#46039f\"], [0.2222222222222222, \"#7201a8\"], [0.3333333333333333, \"#9c179e\"], [0.4444444444444444, \"#bd3786\"], [0.5555555555555556, \"#d8576b\"], [0.6666666666666666, \"#ed7953\"], [0.7777777777777778, \"#fb9f3a\"], [0.8888888888888888, \"#fdca26\"], [1.0, \"#f0f921\"]], \"type\": \"surface\"}], \"table\": [{\"cells\": {\"fill\": {\"color\": \"#EBF0F8\"}, \"line\": {\"color\": \"white\"}}, \"header\": {\"fill\": {\"color\": \"#C8D4E3\"}, \"line\": {\"color\": \"white\"}}, \"type\": \"table\"}]}, \"layout\": {\"annotationdefaults\": {\"arrowcolor\": \"#2a3f5f\", \"arrowhead\": 0, \"arrowwidth\": 1}, \"autotypenumbers\": \"strict\", \"coloraxis\": {\"colorbar\": {\"outlinewidth\": 0, \"ticks\": \"\"}}, \"colorscale\": {\"diverging\": [[0, \"#8e0152\"], [0.1, \"#c51b7d\"], [0.2, \"#de77ae\"], [0.3, \"#f1b6da\"], [0.4, \"#fde0ef\"], [0.5, \"#f7f7f7\"], [0.6, \"#e6f5d0\"], [0.7, \"#b8e186\"], [0.8, \"#7fbc41\"], [0.9, \"#4d9221\"], [1, \"#276419\"]], \"sequential\": [[0.0, \"#0d0887\"], [0.1111111111111111, \"#46039f\"], [0.2222222222222222, \"#7201a8\"], [0.3333333333333333, \"#9c179e\"], [0.4444444444444444, \"#bd3786\"], [0.5555555555555556, \"#d8576b\"], [0.6666666666666666, \"#ed7953\"], [0.7777777777777778, \"#fb9f3a\"], [0.8888888888888888, \"#fdca26\"], [1.0, \"#f0f921\"]], \"sequentialminus\": [[0.0, \"#0d0887\"], [0.1111111111111111, \"#46039f\"], [0.2222222222222222, \"#7201a8\"], [0.3333333333333333, \"#9c179e\"], [0.4444444444444444, \"#bd3786\"], [0.5555555555555556, \"#d8576b\"], [0.6666666666666666, \"#ed7953\"], [0.7777777777777778, \"#fb9f3a\"], [0.8888888888888888, \"#fdca26\"], [1.0, \"#f0f921\"]]}, \"colorway\": [\"#636efa\", \"#EF553B\", \"#00cc96\", \"#ab63fa\", \"#FFA15A\", \"#19d3f3\", \"#FF6692\", \"#B6E880\", \"#FF97FF\", \"#FECB52\"], \"font\": {\"color\": \"#2a3f5f\"}, \"geo\": {\"bgcolor\": \"white\", \"lakecolor\": \"white\", \"landcolor\": \"#E5ECF6\", \"showlakes\": true, \"showland\": true, \"subunitcolor\": \"white\"}, \"hoverlabel\": {\"align\": \"left\"}, \"hovermode\": \"closest\", \"mapbox\": {\"style\": \"light\"}, \"paper_bgcolor\": \"white\", \"plot_bgcolor\": \"#E5ECF6\", \"polar\": {\"angularaxis\": {\"gridcolor\": \"white\", \"linecolor\": \"white\", \"ticks\": \"\"}, \"bgcolor\": \"#E5ECF6\", \"radialaxis\": {\"gridcolor\": \"white\", \"linecolor\": \"white\", \"ticks\": \"\"}}, \"scene\": {\"xaxis\": {\"backgroundcolor\": \"#E5ECF6\", \"gridcolor\": \"white\", \"gridwidth\": 2, \"linecolor\": \"white\", \"showbackground\": true, \"ticks\": \"\", \"zerolinecolor\": \"white\"}, \"yaxis\": {\"backgroundcolor\": \"#E5ECF6\", \"gridcolor\": \"white\", \"gridwidth\": 2, \"linecolor\": \"white\", \"showbackground\": true, \"ticks\": \"\", \"zerolinecolor\": \"white\"}, \"zaxis\": {\"backgroundcolor\": \"#E5ECF6\", \"gridcolor\": \"white\", \"gridwidth\": 2, \"linecolor\": \"white\", \"showbackground\": true, \"ticks\": \"\", \"zerolinecolor\": \"white\"}}, \"shapedefaults\": {\"line\": {\"color\": \"#2a3f5f\"}}, \"ternary\": {\"aaxis\": {\"gridcolor\": \"white\", \"linecolor\": \"white\", \"ticks\": \"\"}, \"baxis\": {\"gridcolor\": \"white\", \"linecolor\": \"white\", \"ticks\": \"\"}, \"bgcolor\": \"#E5ECF6\", \"caxis\": {\"gridcolor\": \"white\", \"linecolor\": \"white\", \"ticks\": \"\"}}, \"title\": {\"x\": 0.05}, \"xaxis\": {\"automargin\": true, \"gridcolor\": \"white\", \"linecolor\": \"white\", \"ticks\": \"\", \"title\": {\"standoff\": 15}, \"zerolinecolor\": \"white\", \"zerolinewidth\": 2}, \"yaxis\": {\"automargin\": true, \"gridcolor\": \"white\", \"linecolor\": \"white\", \"ticks\": \"\", \"title\": {\"standoff\": 15}, \"zerolinecolor\": \"white\", \"zerolinewidth\": 2}}}, \"xaxis\": {\"anchor\": \"y\", \"domain\": [0.0, 1.0], \"title\": {\"text\": \"degree\"}}, \"yaxis\": {\"anchor\": \"x\", \"domain\": [0.0, 1.0], \"title\": {\"text\": \"count\"}}},                        {\"responsive\": true}                    ).then(function(){\n",
              "                            \n",
              "var gd = document.getElementById('df0f9272-7de1-4b3f-9882-994ffd5f40f2');\n",
              "var x = new MutationObserver(function (mutations, observer) {{\n",
              "        var display = window.getComputedStyle(gd).display;\n",
              "        if (!display || display === 'none') {{\n",
              "            console.log([gd, 'removed!']);\n",
              "            Plotly.purge(gd);\n",
              "            observer.disconnect();\n",
              "        }}\n",
              "}});\n",
              "\n",
              "// Listen for the removal of the full notebook cells\n",
              "var notebookContainer = gd.closest('#notebook-container');\n",
              "if (notebookContainer) {{\n",
              "    x.observe(notebookContainer, {childList: true});\n",
              "}}\n",
              "\n",
              "// Listen for the clearing of the current output cell\n",
              "var outputEl = gd.closest('.output');\n",
              "if (outputEl) {{\n",
              "    x.observe(outputEl, {childList: true});\n",
              "}}\n",
              "\n",
              "                        })                };                            </script>        </div>\n",
              "</body>\n",
              "</html>"
            ]
          },
          "metadata": {
            "tags": []
          }
        },
        {
          "output_type": "display_data",
          "data": {
            "text/html": [
              "<html>\n",
              "<head><meta charset=\"utf-8\" /></head>\n",
              "<body>\n",
              "    <div>            <script src=\"https://cdnjs.cloudflare.com/ajax/libs/mathjax/2.7.5/MathJax.js?config=TeX-AMS-MML_SVG\"></script><script type=\"text/javascript\">if (window.MathJax) {MathJax.Hub.Config({SVG: {font: \"STIX-Web\"}});}</script>                <script type=\"text/javascript\">window.PlotlyConfig = {MathJaxConfig: 'local'};</script>\n",
              "        <script src=\"https://cdn.plot.ly/plotly-latest.min.js\"></script>                <div id=\"1fe53812-91b4-4e8b-85b1-9da65368c0c8\" class=\"plotly-graph-div\" style=\"height:525px; width:100%;\"></div>            <script type=\"text/javascript\">                                    window.PLOTLYENV=window.PLOTLYENV || {};                                    if (document.getElementById(\"1fe53812-91b4-4e8b-85b1-9da65368c0c8\")) {                    Plotly.newPlot(                        \"1fe53812-91b4-4e8b-85b1-9da65368c0c8\",                        [{\"alignmentgroup\": \"True\", \"bingroup\": \"x\", \"hovertemplate\": \"type=indegree<br>value=%{x}<br>count=%{y}<extra></extra>\", \"legendgroup\": \"indegree\", \"marker\": {\"color\": \"#636efa\", \"opacity\": 0.5}, \"name\": \"indegree\", \"offsetgroup\": \"indegree\", \"orientation\": \"v\", \"showlegend\": true, \"type\": \"histogram\", \"x\": [18, 1, 26, 14, 11, 8, 6, 16, 9, 6, 24, 1, 7, 12, 10, 6, 10, 10, 8, 7, 11, 13, 9, 7, 9, 8, 12, 12, 8, 6, 7, 3, 4, 3, 3, 11, 5, 3, 0], \"xaxis\": \"x\", \"yaxis\": \"y\"}, {\"alignmentgroup\": \"True\", \"hovertemplate\": \"type=indegree<br>value=%{x}<extra></extra>\", \"legendgroup\": \"indegree\", \"marker\": {\"color\": \"#636efa\"}, \"name\": \"indegree\", \"notched\": true, \"offsetgroup\": \"indegree\", \"showlegend\": false, \"type\": \"box\", \"x\": [18, 1, 26, 14, 11, 8, 6, 16, 9, 6, 24, 1, 7, 12, 10, 6, 10, 10, 8, 7, 11, 13, 9, 7, 9, 8, 12, 12, 8, 6, 7, 3, 4, 3, 3, 11, 5, 3, 0], \"xaxis\": \"x2\", \"yaxis\": \"y2\"}, {\"alignmentgroup\": \"True\", \"bingroup\": \"x\", \"hovertemplate\": \"type=outdegree<br>value=%{x}<br>count=%{y}<extra></extra>\", \"legendgroup\": \"outdegree\", \"marker\": {\"color\": \"#EF553B\", \"opacity\": 0.5}, \"name\": \"outdegree\", \"offsetgroup\": \"outdegree\", \"orientation\": \"v\", \"showlegend\": true, \"type\": \"histogram\", \"x\": [13, 10, 15, 7, 18, 9, 9, 12, 3, 6, 20, 6, 7, 13, 8, 4, 5, 6, 7, 4, 14, 10, 7, 11, 16, 13, 8, 14, 11, 1, 4, 5, 6, 4, 18, 7, 4, 4, 5], \"xaxis\": \"x\", \"yaxis\": \"y\"}, {\"alignmentgroup\": \"True\", \"hovertemplate\": \"type=outdegree<br>value=%{x}<extra></extra>\", \"legendgroup\": \"outdegree\", \"marker\": {\"color\": \"#EF553B\"}, \"name\": \"outdegree\", \"notched\": true, \"offsetgroup\": \"outdegree\", \"showlegend\": false, \"type\": \"box\", \"x\": [13, 10, 15, 7, 18, 9, 9, 12, 3, 6, 20, 6, 7, 13, 8, 4, 5, 6, 7, 4, 14, 10, 7, 11, 16, 13, 8, 14, 11, 1, 4, 5, 6, 4, 18, 7, 4, 4, 5], \"xaxis\": \"x2\", \"yaxis\": \"y2\"}],                        {\"barmode\": \"overlay\", \"legend\": {\"title\": {\"text\": \"type\"}, \"tracegroupgap\": 0}, \"margin\": {\"t\": 60}, \"template\": {\"data\": {\"bar\": [{\"error_x\": {\"color\": \"#2a3f5f\"}, \"error_y\": {\"color\": \"#2a3f5f\"}, \"marker\": {\"line\": {\"color\": \"#E5ECF6\", \"width\": 0.5}}, \"type\": \"bar\"}], \"barpolar\": [{\"marker\": {\"line\": {\"color\": \"#E5ECF6\", \"width\": 0.5}}, \"type\": \"barpolar\"}], \"carpet\": [{\"aaxis\": {\"endlinecolor\": \"#2a3f5f\", \"gridcolor\": \"white\", \"linecolor\": \"white\", \"minorgridcolor\": \"white\", \"startlinecolor\": \"#2a3f5f\"}, \"baxis\": {\"endlinecolor\": \"#2a3f5f\", \"gridcolor\": \"white\", \"linecolor\": \"white\", \"minorgridcolor\": \"white\", \"startlinecolor\": \"#2a3f5f\"}, \"type\": \"carpet\"}], \"choropleth\": [{\"colorbar\": {\"outlinewidth\": 0, \"ticks\": \"\"}, \"type\": \"choropleth\"}], \"contour\": [{\"colorbar\": {\"outlinewidth\": 0, \"ticks\": \"\"}, \"colorscale\": [[0.0, \"#0d0887\"], [0.1111111111111111, \"#46039f\"], [0.2222222222222222, \"#7201a8\"], [0.3333333333333333, \"#9c179e\"], [0.4444444444444444, \"#bd3786\"], [0.5555555555555556, \"#d8576b\"], [0.6666666666666666, \"#ed7953\"], [0.7777777777777778, \"#fb9f3a\"], [0.8888888888888888, \"#fdca26\"], [1.0, \"#f0f921\"]], \"type\": \"contour\"}], \"contourcarpet\": [{\"colorbar\": {\"outlinewidth\": 0, \"ticks\": \"\"}, \"type\": \"contourcarpet\"}], \"heatmap\": [{\"colorbar\": {\"outlinewidth\": 0, \"ticks\": \"\"}, \"colorscale\": [[0.0, \"#0d0887\"], [0.1111111111111111, \"#46039f\"], [0.2222222222222222, \"#7201a8\"], [0.3333333333333333, \"#9c179e\"], [0.4444444444444444, \"#bd3786\"], [0.5555555555555556, \"#d8576b\"], [0.6666666666666666, \"#ed7953\"], [0.7777777777777778, \"#fb9f3a\"], [0.8888888888888888, \"#fdca26\"], [1.0, \"#f0f921\"]], \"type\": \"heatmap\"}], \"heatmapgl\": [{\"colorbar\": {\"outlinewidth\": 0, \"ticks\": \"\"}, \"colorscale\": [[0.0, \"#0d0887\"], [0.1111111111111111, \"#46039f\"], [0.2222222222222222, \"#7201a8\"], [0.3333333333333333, \"#9c179e\"], [0.4444444444444444, \"#bd3786\"], [0.5555555555555556, \"#d8576b\"], [0.6666666666666666, \"#ed7953\"], [0.7777777777777778, \"#fb9f3a\"], [0.8888888888888888, \"#fdca26\"], [1.0, \"#f0f921\"]], \"type\": \"heatmapgl\"}], \"histogram\": [{\"marker\": {\"colorbar\": {\"outlinewidth\": 0, \"ticks\": \"\"}}, \"type\": \"histogram\"}], \"histogram2d\": [{\"colorbar\": {\"outlinewidth\": 0, \"ticks\": \"\"}, \"colorscale\": [[0.0, \"#0d0887\"], [0.1111111111111111, \"#46039f\"], [0.2222222222222222, \"#7201a8\"], [0.3333333333333333, \"#9c179e\"], [0.4444444444444444, \"#bd3786\"], [0.5555555555555556, \"#d8576b\"], [0.6666666666666666, \"#ed7953\"], [0.7777777777777778, \"#fb9f3a\"], [0.8888888888888888, \"#fdca26\"], [1.0, \"#f0f921\"]], \"type\": \"histogram2d\"}], \"histogram2dcontour\": [{\"colorbar\": {\"outlinewidth\": 0, \"ticks\": \"\"}, \"colorscale\": [[0.0, \"#0d0887\"], [0.1111111111111111, \"#46039f\"], [0.2222222222222222, \"#7201a8\"], [0.3333333333333333, \"#9c179e\"], [0.4444444444444444, \"#bd3786\"], [0.5555555555555556, \"#d8576b\"], [0.6666666666666666, \"#ed7953\"], [0.7777777777777778, \"#fb9f3a\"], [0.8888888888888888, \"#fdca26\"], [1.0, \"#f0f921\"]], \"type\": \"histogram2dcontour\"}], \"mesh3d\": [{\"colorbar\": {\"outlinewidth\": 0, \"ticks\": \"\"}, \"type\": \"mesh3d\"}], \"parcoords\": [{\"line\": {\"colorbar\": {\"outlinewidth\": 0, \"ticks\": \"\"}}, \"type\": \"parcoords\"}], \"pie\": [{\"automargin\": true, \"type\": \"pie\"}], \"scatter\": [{\"marker\": {\"colorbar\": {\"outlinewidth\": 0, \"ticks\": \"\"}}, \"type\": \"scatter\"}], \"scatter3d\": [{\"line\": {\"colorbar\": {\"outlinewidth\": 0, \"ticks\": \"\"}}, \"marker\": {\"colorbar\": {\"outlinewidth\": 0, \"ticks\": \"\"}}, \"type\": \"scatter3d\"}], \"scattercarpet\": [{\"marker\": {\"colorbar\": {\"outlinewidth\": 0, \"ticks\": \"\"}}, \"type\": \"scattercarpet\"}], \"scattergeo\": [{\"marker\": {\"colorbar\": {\"outlinewidth\": 0, \"ticks\": \"\"}}, \"type\": \"scattergeo\"}], \"scattergl\": [{\"marker\": {\"colorbar\": {\"outlinewidth\": 0, \"ticks\": \"\"}}, \"type\": \"scattergl\"}], \"scattermapbox\": [{\"marker\": {\"colorbar\": {\"outlinewidth\": 0, \"ticks\": \"\"}}, \"type\": \"scattermapbox\"}], \"scatterpolar\": [{\"marker\": {\"colorbar\": {\"outlinewidth\": 0, \"ticks\": \"\"}}, \"type\": \"scatterpolar\"}], \"scatterpolargl\": [{\"marker\": {\"colorbar\": {\"outlinewidth\": 0, \"ticks\": \"\"}}, \"type\": \"scatterpolargl\"}], \"scatterternary\": [{\"marker\": {\"colorbar\": {\"outlinewidth\": 0, \"ticks\": \"\"}}, \"type\": \"scatterternary\"}], \"surface\": [{\"colorbar\": {\"outlinewidth\": 0, \"ticks\": \"\"}, \"colorscale\": [[0.0, \"#0d0887\"], [0.1111111111111111, \"#46039f\"], [0.2222222222222222, \"#7201a8\"], [0.3333333333333333, \"#9c179e\"], [0.4444444444444444, \"#bd3786\"], [0.5555555555555556, \"#d8576b\"], [0.6666666666666666, \"#ed7953\"], [0.7777777777777778, \"#fb9f3a\"], [0.8888888888888888, \"#fdca26\"], [1.0, \"#f0f921\"]], \"type\": \"surface\"}], \"table\": [{\"cells\": {\"fill\": {\"color\": \"#EBF0F8\"}, \"line\": {\"color\": \"white\"}}, \"header\": {\"fill\": {\"color\": \"#C8D4E3\"}, \"line\": {\"color\": \"white\"}}, \"type\": \"table\"}]}, \"layout\": {\"annotationdefaults\": {\"arrowcolor\": \"#2a3f5f\", \"arrowhead\": 0, \"arrowwidth\": 1}, \"autotypenumbers\": \"strict\", \"coloraxis\": {\"colorbar\": {\"outlinewidth\": 0, \"ticks\": \"\"}}, \"colorscale\": {\"diverging\": [[0, \"#8e0152\"], [0.1, \"#c51b7d\"], [0.2, \"#de77ae\"], [0.3, \"#f1b6da\"], [0.4, \"#fde0ef\"], [0.5, \"#f7f7f7\"], [0.6, \"#e6f5d0\"], [0.7, \"#b8e186\"], [0.8, \"#7fbc41\"], [0.9, \"#4d9221\"], [1, \"#276419\"]], \"sequential\": [[0.0, \"#0d0887\"], [0.1111111111111111, \"#46039f\"], [0.2222222222222222, \"#7201a8\"], [0.3333333333333333, \"#9c179e\"], [0.4444444444444444, \"#bd3786\"], [0.5555555555555556, \"#d8576b\"], [0.6666666666666666, \"#ed7953\"], [0.7777777777777778, \"#fb9f3a\"], [0.8888888888888888, \"#fdca26\"], [1.0, \"#f0f921\"]], \"sequentialminus\": [[0.0, \"#0d0887\"], [0.1111111111111111, \"#46039f\"], [0.2222222222222222, \"#7201a8\"], [0.3333333333333333, \"#9c179e\"], [0.4444444444444444, \"#bd3786\"], [0.5555555555555556, \"#d8576b\"], [0.6666666666666666, \"#ed7953\"], [0.7777777777777778, \"#fb9f3a\"], [0.8888888888888888, \"#fdca26\"], [1.0, \"#f0f921\"]]}, \"colorway\": [\"#636efa\", \"#EF553B\", \"#00cc96\", \"#ab63fa\", \"#FFA15A\", \"#19d3f3\", \"#FF6692\", \"#B6E880\", \"#FF97FF\", \"#FECB52\"], \"font\": {\"color\": \"#2a3f5f\"}, \"geo\": {\"bgcolor\": \"white\", \"lakecolor\": \"white\", \"landcolor\": \"#E5ECF6\", \"showlakes\": true, \"showland\": true, \"subunitcolor\": \"white\"}, \"hoverlabel\": {\"align\": \"left\"}, \"hovermode\": \"closest\", \"mapbox\": {\"style\": \"light\"}, \"paper_bgcolor\": \"white\", \"plot_bgcolor\": \"#E5ECF6\", \"polar\": {\"angularaxis\": {\"gridcolor\": \"white\", \"linecolor\": \"white\", \"ticks\": \"\"}, \"bgcolor\": \"#E5ECF6\", \"radialaxis\": {\"gridcolor\": \"white\", \"linecolor\": \"white\", \"ticks\": \"\"}}, \"scene\": {\"xaxis\": {\"backgroundcolor\": \"#E5ECF6\", \"gridcolor\": \"white\", \"gridwidth\": 2, \"linecolor\": \"white\", \"showbackground\": true, \"ticks\": \"\", \"zerolinecolor\": \"white\"}, \"yaxis\": {\"backgroundcolor\": \"#E5ECF6\", \"gridcolor\": \"white\", \"gridwidth\": 2, \"linecolor\": \"white\", \"showbackground\": true, \"ticks\": \"\", \"zerolinecolor\": \"white\"}, \"zaxis\": {\"backgroundcolor\": \"#E5ECF6\", \"gridcolor\": \"white\", \"gridwidth\": 2, \"linecolor\": \"white\", \"showbackground\": true, \"ticks\": \"\", \"zerolinecolor\": \"white\"}}, \"shapedefaults\": {\"line\": {\"color\": \"#2a3f5f\"}}, \"ternary\": {\"aaxis\": {\"gridcolor\": \"white\", \"linecolor\": \"white\", \"ticks\": \"\"}, \"baxis\": {\"gridcolor\": \"white\", \"linecolor\": \"white\", \"ticks\": \"\"}, \"bgcolor\": \"#E5ECF6\", \"caxis\": {\"gridcolor\": \"white\", \"linecolor\": \"white\", \"ticks\": \"\"}}, \"title\": {\"x\": 0.05}, \"xaxis\": {\"automargin\": true, \"gridcolor\": \"white\", \"linecolor\": \"white\", \"ticks\": \"\", \"title\": {\"standoff\": 15}, \"zerolinecolor\": \"white\", \"zerolinewidth\": 2}, \"yaxis\": {\"automargin\": true, \"gridcolor\": \"white\", \"linecolor\": \"white\", \"ticks\": \"\", \"title\": {\"standoff\": 15}, \"zerolinecolor\": \"white\", \"zerolinewidth\": 2}}}, \"xaxis\": {\"anchor\": \"y\", \"domain\": [0.0, 1.0], \"title\": {\"text\": \"value\"}}, \"xaxis2\": {\"anchor\": \"y2\", \"domain\": [0.0, 1.0], \"matches\": \"x\", \"showgrid\": true, \"showticklabels\": false}, \"yaxis\": {\"anchor\": \"x\", \"domain\": [0.0, 0.7326], \"title\": {\"text\": \"count\"}}, \"yaxis2\": {\"anchor\": \"x2\", \"domain\": [0.7426, 1.0], \"matches\": \"y2\", \"showgrid\": false, \"showline\": false, \"showticklabels\": false, \"ticks\": \"\"}},                        {\"responsive\": true}                    ).then(function(){\n",
              "                            \n",
              "var gd = document.getElementById('1fe53812-91b4-4e8b-85b1-9da65368c0c8');\n",
              "var x = new MutationObserver(function (mutations, observer) {{\n",
              "        var display = window.getComputedStyle(gd).display;\n",
              "        if (!display || display === 'none') {{\n",
              "            console.log([gd, 'removed!']);\n",
              "            Plotly.purge(gd);\n",
              "            observer.disconnect();\n",
              "        }}\n",
              "}});\n",
              "\n",
              "// Listen for the removal of the full notebook cells\n",
              "var notebookContainer = gd.closest('#notebook-container');\n",
              "if (notebookContainer) {{\n",
              "    x.observe(notebookContainer, {childList: true});\n",
              "}}\n",
              "\n",
              "// Listen for the clearing of the current output cell\n",
              "var outputEl = gd.closest('.output');\n",
              "if (outputEl) {{\n",
              "    x.observe(outputEl, {childList: true});\n",
              "}}\n",
              "\n",
              "                        })                };                            </script>        </div>\n",
              "</body>\n",
              "</html>"
            ]
          },
          "metadata": {
            "tags": []
          }
        }
      ]
    },
    {
      "cell_type": "code",
      "metadata": {
        "colab": {
          "base_uri": "https://localhost:8080/",
          "height": 1000
        },
        "id": "d6fkCktfqdnL",
        "outputId": "ee361fbe-3ebf-4a30-f9cf-bd833865f943"
      },
      "source": [
        "plot_degree_dist(weight=True, include_hist=True)"
      ],
      "execution_count": null,
      "outputs": [
        {
          "output_type": "display_data",
          "data": {
            "text/html": [
              "<html>\n",
              "<head><meta charset=\"utf-8\" /></head>\n",
              "<body>\n",
              "    <div>            <script src=\"https://cdnjs.cloudflare.com/ajax/libs/mathjax/2.7.5/MathJax.js?config=TeX-AMS-MML_SVG\"></script><script type=\"text/javascript\">if (window.MathJax) {MathJax.Hub.Config({SVG: {font: \"STIX-Web\"}});}</script>                <script type=\"text/javascript\">window.PlotlyConfig = {MathJaxConfig: 'local'};</script>\n",
              "        <script src=\"https://cdn.plot.ly/plotly-latest.min.js\"></script>                <div id=\"d502bf86-dc7e-4d1b-9ee0-eb282e00b5c2\" class=\"plotly-graph-div\" style=\"height:525px; width:100%;\"></div>            <script type=\"text/javascript\">                                    window.PLOTLYENV=window.PLOTLYENV || {};                                    if (document.getElementById(\"d502bf86-dc7e-4d1b-9ee0-eb282e00b5c2\")) {                    Plotly.newPlot(                        \"d502bf86-dc7e-4d1b-9ee0-eb282e00b5c2\",                        [{\"hovertemplate\": \"type=indegree<br>degree=%{x}<br>count=%{y}<extra></extra>\", \"legendgroup\": \"indegree\", \"marker\": {\"color\": \"#636efa\", \"symbol\": \"circle\"}, \"mode\": \"markers+lines\", \"name\": \"indegree\", \"orientation\": \"v\", \"showlegend\": true, \"type\": \"scatter\", \"x\": [0, 1, 3, 5, 6, 7, 8, 9, 10, 11, 12, 13, 15, 16, 17, 18, 19, 20, 25, 26, 29, 31, 46, 54], \"xaxis\": \"x\", \"y\": [1, 2, 2, 2, 1, 1, 1, 1, 1, 3, 2, 2, 4, 1, 1, 1, 4, 1, 2, 1, 2, 1, 1, 1], \"yaxis\": \"y\"}, {\"hovertemplate\": \"type=outdegree<br>degree=%{x}<br>count=%{y}<extra></extra>\", \"legendgroup\": \"outdegree\", \"marker\": {\"color\": \"#EF553B\", \"symbol\": \"circle\"}, \"mode\": \"markers+lines\", \"name\": \"outdegree\", \"orientation\": \"v\", \"showlegend\": true, \"type\": \"scatter\", \"x\": [1, 3, 4, 5, 6, 7, 8, 9, 10, 11, 12, 13, 14, 15, 16, 17, 19, 20, 21, 22, 25, 27, 29, 33, 34, 55], \"xaxis\": \"x\", \"y\": [1, 1, 1, 1, 2, 4, 3, 1, 1, 2, 2, 1, 1, 2, 1, 1, 2, 1, 1, 3, 1, 1, 1, 2, 1, 1], \"yaxis\": \"y\"}],                        {\"legend\": {\"title\": {\"text\": \"type\"}, \"tracegroupgap\": 0}, \"margin\": {\"t\": 60}, \"template\": {\"data\": {\"bar\": [{\"error_x\": {\"color\": \"#2a3f5f\"}, \"error_y\": {\"color\": \"#2a3f5f\"}, \"marker\": {\"line\": {\"color\": \"#E5ECF6\", \"width\": 0.5}}, \"type\": \"bar\"}], \"barpolar\": [{\"marker\": {\"line\": {\"color\": \"#E5ECF6\", \"width\": 0.5}}, \"type\": \"barpolar\"}], \"carpet\": [{\"aaxis\": {\"endlinecolor\": \"#2a3f5f\", \"gridcolor\": \"white\", \"linecolor\": \"white\", \"minorgridcolor\": \"white\", \"startlinecolor\": \"#2a3f5f\"}, \"baxis\": {\"endlinecolor\": \"#2a3f5f\", \"gridcolor\": \"white\", \"linecolor\": \"white\", \"minorgridcolor\": \"white\", \"startlinecolor\": \"#2a3f5f\"}, \"type\": \"carpet\"}], \"choropleth\": [{\"colorbar\": {\"outlinewidth\": 0, \"ticks\": \"\"}, \"type\": \"choropleth\"}], \"contour\": [{\"colorbar\": {\"outlinewidth\": 0, \"ticks\": \"\"}, \"colorscale\": [[0.0, \"#0d0887\"], [0.1111111111111111, \"#46039f\"], [0.2222222222222222, \"#7201a8\"], [0.3333333333333333, \"#9c179e\"], [0.4444444444444444, \"#bd3786\"], [0.5555555555555556, \"#d8576b\"], [0.6666666666666666, \"#ed7953\"], [0.7777777777777778, \"#fb9f3a\"], [0.8888888888888888, \"#fdca26\"], [1.0, \"#f0f921\"]], \"type\": \"contour\"}], \"contourcarpet\": [{\"colorbar\": {\"outlinewidth\": 0, \"ticks\": \"\"}, \"type\": \"contourcarpet\"}], \"heatmap\": [{\"colorbar\": {\"outlinewidth\": 0, \"ticks\": \"\"}, \"colorscale\": [[0.0, \"#0d0887\"], [0.1111111111111111, \"#46039f\"], [0.2222222222222222, \"#7201a8\"], [0.3333333333333333, \"#9c179e\"], [0.4444444444444444, \"#bd3786\"], [0.5555555555555556, \"#d8576b\"], [0.6666666666666666, \"#ed7953\"], [0.7777777777777778, \"#fb9f3a\"], [0.8888888888888888, \"#fdca26\"], [1.0, \"#f0f921\"]], \"type\": \"heatmap\"}], \"heatmapgl\": [{\"colorbar\": {\"outlinewidth\": 0, \"ticks\": \"\"}, \"colorscale\": [[0.0, \"#0d0887\"], [0.1111111111111111, \"#46039f\"], [0.2222222222222222, \"#7201a8\"], [0.3333333333333333, \"#9c179e\"], [0.4444444444444444, \"#bd3786\"], [0.5555555555555556, \"#d8576b\"], [0.6666666666666666, \"#ed7953\"], [0.7777777777777778, \"#fb9f3a\"], [0.8888888888888888, \"#fdca26\"], [1.0, \"#f0f921\"]], \"type\": \"heatmapgl\"}], \"histogram\": [{\"marker\": {\"colorbar\": {\"outlinewidth\": 0, \"ticks\": \"\"}}, \"type\": \"histogram\"}], \"histogram2d\": [{\"colorbar\": {\"outlinewidth\": 0, \"ticks\": \"\"}, \"colorscale\": [[0.0, \"#0d0887\"], [0.1111111111111111, \"#46039f\"], [0.2222222222222222, \"#7201a8\"], [0.3333333333333333, \"#9c179e\"], [0.4444444444444444, \"#bd3786\"], [0.5555555555555556, \"#d8576b\"], [0.6666666666666666, \"#ed7953\"], [0.7777777777777778, \"#fb9f3a\"], [0.8888888888888888, \"#fdca26\"], [1.0, \"#f0f921\"]], \"type\": \"histogram2d\"}], \"histogram2dcontour\": [{\"colorbar\": {\"outlinewidth\": 0, \"ticks\": \"\"}, \"colorscale\": [[0.0, \"#0d0887\"], [0.1111111111111111, \"#46039f\"], [0.2222222222222222, \"#7201a8\"], [0.3333333333333333, \"#9c179e\"], [0.4444444444444444, \"#bd3786\"], [0.5555555555555556, \"#d8576b\"], [0.6666666666666666, \"#ed7953\"], [0.7777777777777778, \"#fb9f3a\"], [0.8888888888888888, \"#fdca26\"], [1.0, \"#f0f921\"]], \"type\": \"histogram2dcontour\"}], \"mesh3d\": [{\"colorbar\": {\"outlinewidth\": 0, \"ticks\": \"\"}, \"type\": \"mesh3d\"}], \"parcoords\": [{\"line\": {\"colorbar\": {\"outlinewidth\": 0, \"ticks\": \"\"}}, \"type\": \"parcoords\"}], \"pie\": [{\"automargin\": true, \"type\": \"pie\"}], \"scatter\": [{\"marker\": {\"colorbar\": {\"outlinewidth\": 0, \"ticks\": \"\"}}, \"type\": \"scatter\"}], \"scatter3d\": [{\"line\": {\"colorbar\": {\"outlinewidth\": 0, \"ticks\": \"\"}}, \"marker\": {\"colorbar\": {\"outlinewidth\": 0, \"ticks\": \"\"}}, \"type\": \"scatter3d\"}], \"scattercarpet\": [{\"marker\": {\"colorbar\": {\"outlinewidth\": 0, \"ticks\": \"\"}}, \"type\": \"scattercarpet\"}], \"scattergeo\": [{\"marker\": {\"colorbar\": {\"outlinewidth\": 0, \"ticks\": \"\"}}, \"type\": \"scattergeo\"}], \"scattergl\": [{\"marker\": {\"colorbar\": {\"outlinewidth\": 0, \"ticks\": \"\"}}, \"type\": \"scattergl\"}], \"scattermapbox\": [{\"marker\": {\"colorbar\": {\"outlinewidth\": 0, \"ticks\": \"\"}}, \"type\": \"scattermapbox\"}], \"scatterpolar\": [{\"marker\": {\"colorbar\": {\"outlinewidth\": 0, \"ticks\": \"\"}}, \"type\": \"scatterpolar\"}], \"scatterpolargl\": [{\"marker\": {\"colorbar\": {\"outlinewidth\": 0, \"ticks\": \"\"}}, \"type\": \"scatterpolargl\"}], \"scatterternary\": [{\"marker\": {\"colorbar\": {\"outlinewidth\": 0, \"ticks\": \"\"}}, \"type\": \"scatterternary\"}], \"surface\": [{\"colorbar\": {\"outlinewidth\": 0, \"ticks\": \"\"}, \"colorscale\": [[0.0, \"#0d0887\"], [0.1111111111111111, \"#46039f\"], [0.2222222222222222, \"#7201a8\"], [0.3333333333333333, \"#9c179e\"], [0.4444444444444444, \"#bd3786\"], [0.5555555555555556, \"#d8576b\"], [0.6666666666666666, \"#ed7953\"], [0.7777777777777778, \"#fb9f3a\"], [0.8888888888888888, \"#fdca26\"], [1.0, \"#f0f921\"]], \"type\": \"surface\"}], \"table\": [{\"cells\": {\"fill\": {\"color\": \"#EBF0F8\"}, \"line\": {\"color\": \"white\"}}, \"header\": {\"fill\": {\"color\": \"#C8D4E3\"}, \"line\": {\"color\": \"white\"}}, \"type\": \"table\"}]}, \"layout\": {\"annotationdefaults\": {\"arrowcolor\": \"#2a3f5f\", \"arrowhead\": 0, \"arrowwidth\": 1}, \"autotypenumbers\": \"strict\", \"coloraxis\": {\"colorbar\": {\"outlinewidth\": 0, \"ticks\": \"\"}}, \"colorscale\": {\"diverging\": [[0, \"#8e0152\"], [0.1, \"#c51b7d\"], [0.2, \"#de77ae\"], [0.3, \"#f1b6da\"], [0.4, \"#fde0ef\"], [0.5, \"#f7f7f7\"], [0.6, \"#e6f5d0\"], [0.7, \"#b8e186\"], [0.8, \"#7fbc41\"], [0.9, \"#4d9221\"], [1, \"#276419\"]], \"sequential\": [[0.0, \"#0d0887\"], [0.1111111111111111, \"#46039f\"], [0.2222222222222222, \"#7201a8\"], [0.3333333333333333, \"#9c179e\"], [0.4444444444444444, \"#bd3786\"], [0.5555555555555556, \"#d8576b\"], [0.6666666666666666, \"#ed7953\"], [0.7777777777777778, \"#fb9f3a\"], [0.8888888888888888, \"#fdca26\"], [1.0, \"#f0f921\"]], \"sequentialminus\": [[0.0, \"#0d0887\"], [0.1111111111111111, \"#46039f\"], [0.2222222222222222, \"#7201a8\"], [0.3333333333333333, \"#9c179e\"], [0.4444444444444444, \"#bd3786\"], [0.5555555555555556, \"#d8576b\"], [0.6666666666666666, \"#ed7953\"], [0.7777777777777778, \"#fb9f3a\"], [0.8888888888888888, \"#fdca26\"], [1.0, \"#f0f921\"]]}, \"colorway\": [\"#636efa\", \"#EF553B\", \"#00cc96\", \"#ab63fa\", \"#FFA15A\", \"#19d3f3\", \"#FF6692\", \"#B6E880\", \"#FF97FF\", \"#FECB52\"], \"font\": {\"color\": \"#2a3f5f\"}, \"geo\": {\"bgcolor\": \"white\", \"lakecolor\": \"white\", \"landcolor\": \"#E5ECF6\", \"showlakes\": true, \"showland\": true, \"subunitcolor\": \"white\"}, \"hoverlabel\": {\"align\": \"left\"}, \"hovermode\": \"closest\", \"mapbox\": {\"style\": \"light\"}, \"paper_bgcolor\": \"white\", \"plot_bgcolor\": \"#E5ECF6\", \"polar\": {\"angularaxis\": {\"gridcolor\": \"white\", \"linecolor\": \"white\", \"ticks\": \"\"}, \"bgcolor\": \"#E5ECF6\", \"radialaxis\": {\"gridcolor\": \"white\", \"linecolor\": \"white\", \"ticks\": \"\"}}, \"scene\": {\"xaxis\": {\"backgroundcolor\": \"#E5ECF6\", \"gridcolor\": \"white\", \"gridwidth\": 2, \"linecolor\": \"white\", \"showbackground\": true, \"ticks\": \"\", \"zerolinecolor\": \"white\"}, \"yaxis\": {\"backgroundcolor\": \"#E5ECF6\", \"gridcolor\": \"white\", \"gridwidth\": 2, \"linecolor\": \"white\", \"showbackground\": true, \"ticks\": \"\", \"zerolinecolor\": \"white\"}, \"zaxis\": {\"backgroundcolor\": \"#E5ECF6\", \"gridcolor\": \"white\", \"gridwidth\": 2, \"linecolor\": \"white\", \"showbackground\": true, \"ticks\": \"\", \"zerolinecolor\": \"white\"}}, \"shapedefaults\": {\"line\": {\"color\": \"#2a3f5f\"}}, \"ternary\": {\"aaxis\": {\"gridcolor\": \"white\", \"linecolor\": \"white\", \"ticks\": \"\"}, \"baxis\": {\"gridcolor\": \"white\", \"linecolor\": \"white\", \"ticks\": \"\"}, \"bgcolor\": \"#E5ECF6\", \"caxis\": {\"gridcolor\": \"white\", \"linecolor\": \"white\", \"ticks\": \"\"}}, \"title\": {\"x\": 0.05}, \"xaxis\": {\"automargin\": true, \"gridcolor\": \"white\", \"linecolor\": \"white\", \"ticks\": \"\", \"title\": {\"standoff\": 15}, \"zerolinecolor\": \"white\", \"zerolinewidth\": 2}, \"yaxis\": {\"automargin\": true, \"gridcolor\": \"white\", \"linecolor\": \"white\", \"ticks\": \"\", \"title\": {\"standoff\": 15}, \"zerolinecolor\": \"white\", \"zerolinewidth\": 2}}}, \"xaxis\": {\"anchor\": \"y\", \"domain\": [0.0, 1.0], \"title\": {\"text\": \"degree\"}}, \"yaxis\": {\"anchor\": \"x\", \"domain\": [0.0, 1.0], \"title\": {\"text\": \"count\"}}},                        {\"responsive\": true}                    ).then(function(){\n",
              "                            \n",
              "var gd = document.getElementById('d502bf86-dc7e-4d1b-9ee0-eb282e00b5c2');\n",
              "var x = new MutationObserver(function (mutations, observer) {{\n",
              "        var display = window.getComputedStyle(gd).display;\n",
              "        if (!display || display === 'none') {{\n",
              "            console.log([gd, 'removed!']);\n",
              "            Plotly.purge(gd);\n",
              "            observer.disconnect();\n",
              "        }}\n",
              "}});\n",
              "\n",
              "// Listen for the removal of the full notebook cells\n",
              "var notebookContainer = gd.closest('#notebook-container');\n",
              "if (notebookContainer) {{\n",
              "    x.observe(notebookContainer, {childList: true});\n",
              "}}\n",
              "\n",
              "// Listen for the clearing of the current output cell\n",
              "var outputEl = gd.closest('.output');\n",
              "if (outputEl) {{\n",
              "    x.observe(outputEl, {childList: true});\n",
              "}}\n",
              "\n",
              "                        })                };                            </script>        </div>\n",
              "</body>\n",
              "</html>"
            ]
          },
          "metadata": {
            "tags": []
          }
        },
        {
          "output_type": "display_data",
          "data": {
            "text/html": [
              "<html>\n",
              "<head><meta charset=\"utf-8\" /></head>\n",
              "<body>\n",
              "    <div>            <script src=\"https://cdnjs.cloudflare.com/ajax/libs/mathjax/2.7.5/MathJax.js?config=TeX-AMS-MML_SVG\"></script><script type=\"text/javascript\">if (window.MathJax) {MathJax.Hub.Config({SVG: {font: \"STIX-Web\"}});}</script>                <script type=\"text/javascript\">window.PlotlyConfig = {MathJaxConfig: 'local'};</script>\n",
              "        <script src=\"https://cdn.plot.ly/plotly-latest.min.js\"></script>                <div id=\"5f01c0f8-9a35-4c3d-ae69-c1a9e07518bc\" class=\"plotly-graph-div\" style=\"height:525px; width:100%;\"></div>            <script type=\"text/javascript\">                                    window.PLOTLYENV=window.PLOTLYENV || {};                                    if (document.getElementById(\"5f01c0f8-9a35-4c3d-ae69-c1a9e07518bc\")) {                    Plotly.newPlot(                        \"5f01c0f8-9a35-4c3d-ae69-c1a9e07518bc\",                        [{\"alignmentgroup\": \"True\", \"bingroup\": \"x\", \"hovertemplate\": \"type=indegree<br>value=%{x}<br>count=%{y}<extra></extra>\", \"legendgroup\": \"indegree\", \"marker\": {\"color\": \"#636efa\", \"opacity\": 0.5}, \"name\": \"indegree\", \"offsetgroup\": \"indegree\", \"orientation\": \"v\", \"showlegend\": true, \"type\": \"histogram\", \"x\": [31, 1, 46, 25, 19, 17, 10, 29, 13, 13, 54, 1, 9, 29, 15, 6, 26, 18, 19, 16, 19, 25, 15, 11, 11, 15, 15, 20, 12, 8, 12, 3, 11, 5, 7, 19, 5, 3, 0], \"xaxis\": \"x\", \"yaxis\": \"y\"}, {\"alignmentgroup\": \"True\", \"hovertemplate\": \"type=indegree<br>value=%{x}<extra></extra>\", \"legendgroup\": \"indegree\", \"marker\": {\"color\": \"#636efa\"}, \"name\": \"indegree\", \"notched\": true, \"offsetgroup\": \"indegree\", \"showlegend\": false, \"type\": \"box\", \"x\": [31, 1, 46, 25, 19, 17, 10, 29, 13, 13, 54, 1, 9, 29, 15, 6, 26, 18, 19, 16, 19, 25, 15, 11, 11, 15, 15, 20, 12, 8, 12, 3, 11, 5, 7, 19, 5, 3, 0], \"xaxis\": \"x2\", \"yaxis\": \"y2\"}, {\"alignmentgroup\": \"True\", \"bingroup\": \"x\", \"hovertemplate\": \"type=outdegree<br>value=%{x}<br>count=%{y}<extra></extra>\", \"legendgroup\": \"outdegree\", \"marker\": {\"color\": \"#EF553B\", \"opacity\": 0.5}, \"name\": \"outdegree\", \"offsetgroup\": \"outdegree\", \"orientation\": \"v\", \"showlegend\": true, \"type\": \"histogram\", \"x\": [22, 25, 21, 7, 55, 15, 27, 20, 3, 14, 33, 11, 8, 19, 12, 4, 6, 11, 16, 7, 34, 19, 12, 15, 33, 22, 13, 22, 17, 1, 8, 6, 7, 8, 29, 9, 7, 5, 10], \"xaxis\": \"x\", \"yaxis\": \"y\"}, {\"alignmentgroup\": \"True\", \"hovertemplate\": \"type=outdegree<br>value=%{x}<extra></extra>\", \"legendgroup\": \"outdegree\", \"marker\": {\"color\": \"#EF553B\"}, \"name\": \"outdegree\", \"notched\": true, \"offsetgroup\": \"outdegree\", \"showlegend\": false, \"type\": \"box\", \"x\": [22, 25, 21, 7, 55, 15, 27, 20, 3, 14, 33, 11, 8, 19, 12, 4, 6, 11, 16, 7, 34, 19, 12, 15, 33, 22, 13, 22, 17, 1, 8, 6, 7, 8, 29, 9, 7, 5, 10], \"xaxis\": \"x2\", \"yaxis\": \"y2\"}],                        {\"barmode\": \"overlay\", \"legend\": {\"title\": {\"text\": \"type\"}, \"tracegroupgap\": 0}, \"margin\": {\"t\": 60}, \"template\": {\"data\": {\"bar\": [{\"error_x\": {\"color\": \"#2a3f5f\"}, \"error_y\": {\"color\": \"#2a3f5f\"}, \"marker\": {\"line\": {\"color\": \"#E5ECF6\", \"width\": 0.5}}, \"type\": \"bar\"}], \"barpolar\": [{\"marker\": {\"line\": {\"color\": \"#E5ECF6\", \"width\": 0.5}}, \"type\": \"barpolar\"}], \"carpet\": [{\"aaxis\": {\"endlinecolor\": \"#2a3f5f\", \"gridcolor\": \"white\", \"linecolor\": \"white\", \"minorgridcolor\": \"white\", \"startlinecolor\": \"#2a3f5f\"}, \"baxis\": {\"endlinecolor\": \"#2a3f5f\", \"gridcolor\": \"white\", \"linecolor\": \"white\", \"minorgridcolor\": \"white\", \"startlinecolor\": \"#2a3f5f\"}, \"type\": \"carpet\"}], \"choropleth\": [{\"colorbar\": {\"outlinewidth\": 0, \"ticks\": \"\"}, \"type\": \"choropleth\"}], \"contour\": [{\"colorbar\": {\"outlinewidth\": 0, \"ticks\": \"\"}, \"colorscale\": [[0.0, \"#0d0887\"], [0.1111111111111111, \"#46039f\"], [0.2222222222222222, \"#7201a8\"], [0.3333333333333333, \"#9c179e\"], [0.4444444444444444, \"#bd3786\"], [0.5555555555555556, \"#d8576b\"], [0.6666666666666666, \"#ed7953\"], [0.7777777777777778, \"#fb9f3a\"], [0.8888888888888888, \"#fdca26\"], [1.0, \"#f0f921\"]], \"type\": \"contour\"}], \"contourcarpet\": [{\"colorbar\": {\"outlinewidth\": 0, \"ticks\": \"\"}, \"type\": \"contourcarpet\"}], \"heatmap\": [{\"colorbar\": {\"outlinewidth\": 0, \"ticks\": \"\"}, \"colorscale\": [[0.0, \"#0d0887\"], [0.1111111111111111, \"#46039f\"], [0.2222222222222222, \"#7201a8\"], [0.3333333333333333, \"#9c179e\"], [0.4444444444444444, \"#bd3786\"], [0.5555555555555556, \"#d8576b\"], [0.6666666666666666, \"#ed7953\"], [0.7777777777777778, \"#fb9f3a\"], [0.8888888888888888, \"#fdca26\"], [1.0, \"#f0f921\"]], \"type\": \"heatmap\"}], \"heatmapgl\": [{\"colorbar\": {\"outlinewidth\": 0, \"ticks\": \"\"}, \"colorscale\": [[0.0, \"#0d0887\"], [0.1111111111111111, \"#46039f\"], [0.2222222222222222, \"#7201a8\"], [0.3333333333333333, \"#9c179e\"], [0.4444444444444444, \"#bd3786\"], [0.5555555555555556, \"#d8576b\"], [0.6666666666666666, \"#ed7953\"], [0.7777777777777778, \"#fb9f3a\"], [0.8888888888888888, \"#fdca26\"], [1.0, \"#f0f921\"]], \"type\": \"heatmapgl\"}], \"histogram\": [{\"marker\": {\"colorbar\": {\"outlinewidth\": 0, \"ticks\": \"\"}}, \"type\": \"histogram\"}], \"histogram2d\": [{\"colorbar\": {\"outlinewidth\": 0, \"ticks\": \"\"}, \"colorscale\": [[0.0, \"#0d0887\"], [0.1111111111111111, \"#46039f\"], [0.2222222222222222, \"#7201a8\"], [0.3333333333333333, \"#9c179e\"], [0.4444444444444444, \"#bd3786\"], [0.5555555555555556, \"#d8576b\"], [0.6666666666666666, \"#ed7953\"], [0.7777777777777778, \"#fb9f3a\"], [0.8888888888888888, \"#fdca26\"], [1.0, \"#f0f921\"]], \"type\": \"histogram2d\"}], \"histogram2dcontour\": [{\"colorbar\": {\"outlinewidth\": 0, \"ticks\": \"\"}, \"colorscale\": [[0.0, \"#0d0887\"], [0.1111111111111111, \"#46039f\"], [0.2222222222222222, \"#7201a8\"], [0.3333333333333333, \"#9c179e\"], [0.4444444444444444, \"#bd3786\"], [0.5555555555555556, \"#d8576b\"], [0.6666666666666666, \"#ed7953\"], [0.7777777777777778, \"#fb9f3a\"], [0.8888888888888888, \"#fdca26\"], [1.0, \"#f0f921\"]], \"type\": \"histogram2dcontour\"}], \"mesh3d\": [{\"colorbar\": {\"outlinewidth\": 0, \"ticks\": \"\"}, \"type\": \"mesh3d\"}], \"parcoords\": [{\"line\": {\"colorbar\": {\"outlinewidth\": 0, \"ticks\": \"\"}}, \"type\": \"parcoords\"}], \"pie\": [{\"automargin\": true, \"type\": \"pie\"}], \"scatter\": [{\"marker\": {\"colorbar\": {\"outlinewidth\": 0, \"ticks\": \"\"}}, \"type\": \"scatter\"}], \"scatter3d\": [{\"line\": {\"colorbar\": {\"outlinewidth\": 0, \"ticks\": \"\"}}, \"marker\": {\"colorbar\": {\"outlinewidth\": 0, \"ticks\": \"\"}}, \"type\": \"scatter3d\"}], \"scattercarpet\": [{\"marker\": {\"colorbar\": {\"outlinewidth\": 0, \"ticks\": \"\"}}, \"type\": \"scattercarpet\"}], \"scattergeo\": [{\"marker\": {\"colorbar\": {\"outlinewidth\": 0, \"ticks\": \"\"}}, \"type\": \"scattergeo\"}], \"scattergl\": [{\"marker\": {\"colorbar\": {\"outlinewidth\": 0, \"ticks\": \"\"}}, \"type\": \"scattergl\"}], \"scattermapbox\": [{\"marker\": {\"colorbar\": {\"outlinewidth\": 0, \"ticks\": \"\"}}, \"type\": \"scattermapbox\"}], \"scatterpolar\": [{\"marker\": {\"colorbar\": {\"outlinewidth\": 0, \"ticks\": \"\"}}, \"type\": \"scatterpolar\"}], \"scatterpolargl\": [{\"marker\": {\"colorbar\": {\"outlinewidth\": 0, \"ticks\": \"\"}}, \"type\": \"scatterpolargl\"}], \"scatterternary\": [{\"marker\": {\"colorbar\": {\"outlinewidth\": 0, \"ticks\": \"\"}}, \"type\": \"scatterternary\"}], \"surface\": [{\"colorbar\": {\"outlinewidth\": 0, \"ticks\": \"\"}, \"colorscale\": [[0.0, \"#0d0887\"], [0.1111111111111111, \"#46039f\"], [0.2222222222222222, \"#7201a8\"], [0.3333333333333333, \"#9c179e\"], [0.4444444444444444, \"#bd3786\"], [0.5555555555555556, \"#d8576b\"], [0.6666666666666666, \"#ed7953\"], [0.7777777777777778, \"#fb9f3a\"], [0.8888888888888888, \"#fdca26\"], [1.0, \"#f0f921\"]], \"type\": \"surface\"}], \"table\": [{\"cells\": {\"fill\": {\"color\": \"#EBF0F8\"}, \"line\": {\"color\": \"white\"}}, \"header\": {\"fill\": {\"color\": \"#C8D4E3\"}, \"line\": {\"color\": \"white\"}}, \"type\": \"table\"}]}, \"layout\": {\"annotationdefaults\": {\"arrowcolor\": \"#2a3f5f\", \"arrowhead\": 0, \"arrowwidth\": 1}, \"autotypenumbers\": \"strict\", \"coloraxis\": {\"colorbar\": {\"outlinewidth\": 0, \"ticks\": \"\"}}, \"colorscale\": {\"diverging\": [[0, \"#8e0152\"], [0.1, \"#c51b7d\"], [0.2, \"#de77ae\"], [0.3, \"#f1b6da\"], [0.4, \"#fde0ef\"], [0.5, \"#f7f7f7\"], [0.6, \"#e6f5d0\"], [0.7, \"#b8e186\"], [0.8, \"#7fbc41\"], [0.9, \"#4d9221\"], [1, \"#276419\"]], \"sequential\": [[0.0, \"#0d0887\"], [0.1111111111111111, \"#46039f\"], [0.2222222222222222, \"#7201a8\"], [0.3333333333333333, \"#9c179e\"], [0.4444444444444444, \"#bd3786\"], [0.5555555555555556, \"#d8576b\"], [0.6666666666666666, \"#ed7953\"], [0.7777777777777778, \"#fb9f3a\"], [0.8888888888888888, \"#fdca26\"], [1.0, \"#f0f921\"]], \"sequentialminus\": [[0.0, \"#0d0887\"], [0.1111111111111111, \"#46039f\"], [0.2222222222222222, \"#7201a8\"], [0.3333333333333333, \"#9c179e\"], [0.4444444444444444, \"#bd3786\"], [0.5555555555555556, \"#d8576b\"], [0.6666666666666666, \"#ed7953\"], [0.7777777777777778, \"#fb9f3a\"], [0.8888888888888888, \"#fdca26\"], [1.0, \"#f0f921\"]]}, \"colorway\": [\"#636efa\", \"#EF553B\", \"#00cc96\", \"#ab63fa\", \"#FFA15A\", \"#19d3f3\", \"#FF6692\", \"#B6E880\", \"#FF97FF\", \"#FECB52\"], \"font\": {\"color\": \"#2a3f5f\"}, \"geo\": {\"bgcolor\": \"white\", \"lakecolor\": \"white\", \"landcolor\": \"#E5ECF6\", \"showlakes\": true, \"showland\": true, \"subunitcolor\": \"white\"}, \"hoverlabel\": {\"align\": \"left\"}, \"hovermode\": \"closest\", \"mapbox\": {\"style\": \"light\"}, \"paper_bgcolor\": \"white\", \"plot_bgcolor\": \"#E5ECF6\", \"polar\": {\"angularaxis\": {\"gridcolor\": \"white\", \"linecolor\": \"white\", \"ticks\": \"\"}, \"bgcolor\": \"#E5ECF6\", \"radialaxis\": {\"gridcolor\": \"white\", \"linecolor\": \"white\", \"ticks\": \"\"}}, \"scene\": {\"xaxis\": {\"backgroundcolor\": \"#E5ECF6\", \"gridcolor\": \"white\", \"gridwidth\": 2, \"linecolor\": \"white\", \"showbackground\": true, \"ticks\": \"\", \"zerolinecolor\": \"white\"}, \"yaxis\": {\"backgroundcolor\": \"#E5ECF6\", \"gridcolor\": \"white\", \"gridwidth\": 2, \"linecolor\": \"white\", \"showbackground\": true, \"ticks\": \"\", \"zerolinecolor\": \"white\"}, \"zaxis\": {\"backgroundcolor\": \"#E5ECF6\", \"gridcolor\": \"white\", \"gridwidth\": 2, \"linecolor\": \"white\", \"showbackground\": true, \"ticks\": \"\", \"zerolinecolor\": \"white\"}}, \"shapedefaults\": {\"line\": {\"color\": \"#2a3f5f\"}}, \"ternary\": {\"aaxis\": {\"gridcolor\": \"white\", \"linecolor\": \"white\", \"ticks\": \"\"}, \"baxis\": {\"gridcolor\": \"white\", \"linecolor\": \"white\", \"ticks\": \"\"}, \"bgcolor\": \"#E5ECF6\", \"caxis\": {\"gridcolor\": \"white\", \"linecolor\": \"white\", \"ticks\": \"\"}}, \"title\": {\"x\": 0.05}, \"xaxis\": {\"automargin\": true, \"gridcolor\": \"white\", \"linecolor\": \"white\", \"ticks\": \"\", \"title\": {\"standoff\": 15}, \"zerolinecolor\": \"white\", \"zerolinewidth\": 2}, \"yaxis\": {\"automargin\": true, \"gridcolor\": \"white\", \"linecolor\": \"white\", \"ticks\": \"\", \"title\": {\"standoff\": 15}, \"zerolinecolor\": \"white\", \"zerolinewidth\": 2}}}, \"xaxis\": {\"anchor\": \"y\", \"domain\": [0.0, 1.0], \"title\": {\"text\": \"value\"}}, \"xaxis2\": {\"anchor\": \"y2\", \"domain\": [0.0, 1.0], \"matches\": \"x\", \"showgrid\": true, \"showticklabels\": false}, \"yaxis\": {\"anchor\": \"x\", \"domain\": [0.0, 0.7326], \"title\": {\"text\": \"count\"}}, \"yaxis2\": {\"anchor\": \"x2\", \"domain\": [0.7426, 1.0], \"matches\": \"y2\", \"showgrid\": false, \"showline\": false, \"showticklabels\": false, \"ticks\": \"\"}},                        {\"responsive\": true}                    ).then(function(){\n",
              "                            \n",
              "var gd = document.getElementById('5f01c0f8-9a35-4c3d-ae69-c1a9e07518bc');\n",
              "var x = new MutationObserver(function (mutations, observer) {{\n",
              "        var display = window.getComputedStyle(gd).display;\n",
              "        if (!display || display === 'none') {{\n",
              "            console.log([gd, 'removed!']);\n",
              "            Plotly.purge(gd);\n",
              "            observer.disconnect();\n",
              "        }}\n",
              "}});\n",
              "\n",
              "// Listen for the removal of the full notebook cells\n",
              "var notebookContainer = gd.closest('#notebook-container');\n",
              "if (notebookContainer) {{\n",
              "    x.observe(notebookContainer, {childList: true});\n",
              "}}\n",
              "\n",
              "// Listen for the clearing of the current output cell\n",
              "var outputEl = gd.closest('.output');\n",
              "if (outputEl) {{\n",
              "    x.observe(outputEl, {childList: true});\n",
              "}}\n",
              "\n",
              "                        })                };                            </script>        </div>\n",
              "</body>\n",
              "</html>"
            ]
          },
          "metadata": {
            "tags": []
          }
        }
      ]
    },
    {
      "cell_type": "markdown",
      "metadata": {
        "id": "jJyIzxg-Pdzv"
      },
      "source": [
        "### What is the average clustering coefficient of the Graph"
      ]
    },
    {
      "cell_type": "code",
      "metadata": {
        "colab": {
          "base_uri": "https://localhost:8080/"
        },
        "id": "AF9Ax4OYPf0O",
        "outputId": "e7c520fa-75d7-4480-a257-9600bba2cf82"
      },
      "source": [
        "nx.average_clustering(G)"
      ],
      "execution_count": null,
      "outputs": [
        {
          "output_type": "execute_result",
          "data": {
            "text/plain": [
              "0.4407959051312966"
            ]
          },
          "metadata": {
            "tags": []
          },
          "execution_count": 47
        }
      ]
    },
    {
      "cell_type": "markdown",
      "metadata": {
        "id": "UR_cazTdxZvm"
      },
      "source": [
        "### What's the average shortest path length of the Graph"
      ]
    },
    {
      "cell_type": "code",
      "metadata": {
        "colab": {
          "base_uri": "https://localhost:8080/"
        },
        "id": "A2B3YtBKPjb1",
        "outputId": "43b6b88c-138b-4c0c-fca8-d491f83bd789"
      },
      "source": [
        "nx.average_shortest_path_length(G)"
      ],
      "execution_count": null,
      "outputs": [
        {
          "output_type": "execute_result",
          "data": {
            "text/plain": [
              "1.8502024291497976"
            ]
          },
          "metadata": {
            "tags": []
          },
          "execution_count": 48
        }
      ]
    },
    {
      "cell_type": "code",
      "metadata": {
        "id": "aOpJR590PnOt"
      },
      "source": [],
      "execution_count": null,
      "outputs": []
    },
    {
      "cell_type": "markdown",
      "metadata": {
        "id": "V-xPe5Jcxevn"
      },
      "source": [
        "### What's the assortativity of the Graph"
      ]
    },
    {
      "cell_type": "code",
      "metadata": {
        "colab": {
          "base_uri": "https://localhost:8080/"
        },
        "id": "yLWzW_GTPnSr",
        "outputId": "003624d1-ec6c-48ab-9ff3-53daa634c431"
      },
      "source": [
        "nx.assortativity.degree_assortativity_coefficient(G)"
      ],
      "execution_count": null,
      "outputs": [
        {
          "output_type": "execute_result",
          "data": {
            "text/plain": [
              "-0.05578910129484883"
            ]
          },
          "metadata": {
            "tags": []
          },
          "execution_count": 49
        }
      ]
    },
    {
      "cell_type": "code",
      "metadata": {
        "colab": {
          "base_uri": "https://localhost:8080/"
        },
        "id": "MEjorydyPdBD",
        "outputId": "c6799e4e-dcc9-4141-ab01-0cea2fe3359a"
      },
      "source": [
        "nx.attribute_assortativity_coefficient(G, \"division\")"
      ],
      "execution_count": null,
      "outputs": [
        {
          "output_type": "execute_result",
          "data": {
            "text/plain": [
              "0.22541298113817207"
            ]
          },
          "metadata": {
            "tags": []
          },
          "execution_count": 50
        }
      ]
    },
    {
      "cell_type": "code",
      "metadata": {
        "colab": {
          "base_uri": "https://localhost:8080/"
        },
        "id": "3jCSTuk7qqa0",
        "outputId": "3a8015a3-decd-42c6-f2c9-2203ccf167ff"
      },
      "source": [
        "nx.attribute_assortativity_coefficient(G, \"job_title\")"
      ],
      "execution_count": null,
      "outputs": [
        {
          "output_type": "execute_result",
          "data": {
            "text/plain": [
              "0.03490310668124697"
            ]
          },
          "metadata": {
            "tags": []
          },
          "execution_count": 51
        }
      ]
    },
    {
      "cell_type": "markdown",
      "metadata": {
        "id": "8wTUTCQJ5VLL"
      },
      "source": [
        "## Acessing Local Network Statisctics"
      ]
    },
    {
      "cell_type": "markdown",
      "metadata": {
        "id": "-DAIc2OWx7rZ"
      },
      "source": [
        "### Degree centrality"
      ]
    },
    {
      "cell_type": "code",
      "metadata": {
        "colab": {
          "base_uri": "https://localhost:8080/"
        },
        "id": "YqkHwKtKPdKy",
        "outputId": "ee358178-fef7-4f9a-db86-d27128e15ba1"
      },
      "source": [
        "sorted(nx.centrality.degree_centrality(G).items(), key=lambda x:x[-1], reverse=True)"
      ],
      "execution_count": null,
      "outputs": [
        {
          "output_type": "execute_result",
          "data": {
            "text/plain": [
              "[('Sarita Coletrane', 1.1578947368421053),\n",
              " ('Ben Gorban', 1.0789473684210527),\n",
              " ('Aisha Jamil', 0.8157894736842105),\n",
              " ('Karen Amendola', 0.763157894736842),\n",
              " ('Maria Valdovinos Olson Valdovinos', 0.7368421052631579),\n",
              " ('Pauline Alvarado', 0.6842105263157894),\n",
              " ('Yukun Yang', 0.6578947368421052),\n",
              " ('Travis Taniguchi', 0.6578947368421052),\n",
              " ('Jen Zeunik', 0.6578947368421052),\n",
              " ('Christine Johnson', 0.6052631578947368),\n",
              " ('Erica Richardson', 0.5526315789473684),\n",
              " ('Katherine Hoogesteyn', 0.5526315789473684),\n",
              " ('Jim Burch', 0.5526315789473684),\n",
              " ('Michael Lebron', 0.5263157894736842),\n",
              " ('Scarlett Ojeda Geldres', 0.5),\n",
              " ('Brett Cowell', 0.47368421052631576),\n",
              " ('Heather Vovak', 0.47368421052631576),\n",
              " ('Travis Riddle', 0.47368421052631576),\n",
              " ('Kerry Yerico', 0.4473684210526315),\n",
              " ('Eiryn Renouard', 0.42105263157894735),\n",
              " ('Dominique Burton', 0.42105263157894735),\n",
              " ('Lorena Singer', 0.39473684210526316),\n",
              " ('Danielle Parsons', 0.39473684210526316),\n",
              " ('Julia Kessler', 0.39473684210526316),\n",
              " ('Trenay Wren-Evans', 0.3684210526315789),\n",
              " ('Mary Kate Murphy', 0.3157894736842105),\n",
              " ('Rick Haake', 0.3157894736842105),\n",
              " ('Amanda Burstein', 0.2894736842105263),\n",
              " ('Sarah Vanselow', 0.2894736842105263),\n",
              " ('Garrett Johnson', 0.2894736842105263),\n",
              " ('Brianna Sclafani', 0.2631578947368421),\n",
              " ('Elizabeth Fontaine', 0.2631578947368421),\n",
              " ('Jane Mott-Palmer', 0.23684210526315788),\n",
              " ('Frank Straub', 0.21052631578947367),\n",
              " ('Tamara Martin', 0.18421052631578946),\n",
              " ('Danielle Boekankamp', 0.18421052631578946),\n",
              " ('Fern Hernberg', 0.18421052631578946),\n",
              " ('Rebecca Benson', 0.18421052631578946),\n",
              " ('Virgil Young', 0.13157894736842105)]"
            ]
          },
          "metadata": {
            "tags": []
          },
          "execution_count": 52
        }
      ]
    },
    {
      "cell_type": "markdown",
      "metadata": {
        "id": "zapBdAz-yBap"
      },
      "source": [
        "#### In-degree centrality"
      ]
    },
    {
      "cell_type": "code",
      "metadata": {
        "colab": {
          "base_uri": "https://localhost:8080/"
        },
        "id": "TRcoz0B9QPFK",
        "outputId": "35a13616-749f-43f2-ea78-d0bb10a7e9d2"
      },
      "source": [
        "nx.in_degree_centrality(G)\n",
        "sorted(nx.in_degree_centrality(G).items(), key=lambda x:x[-1], reverse=True)"
      ],
      "execution_count": null,
      "outputs": [
        {
          "output_type": "execute_result",
          "data": {
            "text/plain": [
              "[('Ben Gorban', 0.6842105263157894),\n",
              " ('Sarita Coletrane', 0.631578947368421),\n",
              " ('Aisha Jamil', 0.47368421052631576),\n",
              " ('Maria Valdovinos Olson Valdovinos', 0.42105263157894735),\n",
              " ('Erica Richardson', 0.3684210526315789),\n",
              " ('Christine Johnson', 0.3421052631578947),\n",
              " ('Yukun Yang', 0.3157894736842105),\n",
              " ('Michael Lebron', 0.3157894736842105),\n",
              " ('Pauline Alvarado', 0.3157894736842105),\n",
              " ('Karen Amendola', 0.2894736842105263),\n",
              " ('Travis Taniguchi', 0.2894736842105263),\n",
              " ('Travis Riddle', 0.2894736842105263),\n",
              " ('Brett Cowell', 0.2631578947368421),\n",
              " ('Danielle Parsons', 0.2631578947368421),\n",
              " ('Eiryn Renouard', 0.2631578947368421),\n",
              " ('Mary Kate Murphy', 0.23684210526315788),\n",
              " ('Dominique Burton', 0.23684210526315788),\n",
              " ('Jen Zeunik', 0.23684210526315788),\n",
              " ('Kerry Yerico', 0.21052631578947367),\n",
              " ('Julia Kessler', 0.21052631578947367),\n",
              " ('Katherine Hoogesteyn', 0.21052631578947367),\n",
              " ('Scarlett Ojeda Geldres', 0.21052631578947367),\n",
              " ('Trenay Wren-Evans', 0.18421052631578946),\n",
              " ('Sarah Vanselow', 0.18421052631578946),\n",
              " ('Heather Vovak', 0.18421052631578946),\n",
              " ('Garrett Johnson', 0.18421052631578946),\n",
              " ('Lorena Singer', 0.15789473684210525),\n",
              " ('Rick Haake', 0.15789473684210525),\n",
              " ('Brianna Sclafani', 0.15789473684210525),\n",
              " ('Danielle Boekankamp', 0.15789473684210525),\n",
              " ('Jane Mott-Palmer', 0.13157894736842105),\n",
              " ('Elizabeth Fontaine', 0.10526315789473684),\n",
              " ('Frank Straub', 0.07894736842105263),\n",
              " ('Fern Hernberg', 0.07894736842105263),\n",
              " ('Jim Burch', 0.07894736842105263),\n",
              " ('Rebecca Benson', 0.07894736842105263),\n",
              " ('Amanda Burstein', 0.02631578947368421),\n",
              " ('Tamara Martin', 0.02631578947368421),\n",
              " ('Virgil Young', 0.0)]"
            ]
          },
          "metadata": {
            "tags": []
          },
          "execution_count": 53
        }
      ]
    },
    {
      "cell_type": "markdown",
      "metadata": {
        "id": "wxAQX7V6yGEe"
      },
      "source": [
        "#### Out-degree centrality"
      ]
    },
    {
      "cell_type": "code",
      "metadata": {
        "colab": {
          "base_uri": "https://localhost:8080/"
        },
        "id": "MNjkiSW-Qm8t",
        "outputId": "6eab55f5-c9c8-4dbd-f9d4-4be2a131d31b"
      },
      "source": [
        "nx.out_degree_centrality(G)\n",
        "sorted(nx.out_degree_centrality(G).items(), key=lambda x:x[-1], reverse=True)"
      ],
      "execution_count": null,
      "outputs": [
        {
          "output_type": "execute_result",
          "data": {
            "text/plain": [
              "[('Sarita Coletrane', 0.5263157894736842),\n",
              " ('Karen Amendola', 0.47368421052631576),\n",
              " ('Jim Burch', 0.47368421052631576),\n",
              " ('Jen Zeunik', 0.42105263157894735),\n",
              " ('Ben Gorban', 0.39473684210526316),\n",
              " ('Travis Taniguchi', 0.3684210526315789),\n",
              " ('Pauline Alvarado', 0.3684210526315789),\n",
              " ('Aisha Jamil', 0.3421052631578947),\n",
              " ('Yukun Yang', 0.3421052631578947),\n",
              " ('Katherine Hoogesteyn', 0.3421052631578947),\n",
              " ('Maria Valdovinos Olson Valdovinos', 0.3157894736842105),\n",
              " ('Heather Vovak', 0.2894736842105263),\n",
              " ('Scarlett Ojeda Geldres', 0.2894736842105263),\n",
              " ('Amanda Burstein', 0.2631578947368421),\n",
              " ('Christine Johnson', 0.2631578947368421),\n",
              " ('Kerry Yerico', 0.23684210526315788),\n",
              " ('Lorena Singer', 0.23684210526315788),\n",
              " ('Brett Cowell', 0.21052631578947367),\n",
              " ('Michael Lebron', 0.21052631578947367),\n",
              " ('Erica Richardson', 0.18421052631578946),\n",
              " ('Trenay Wren-Evans', 0.18421052631578946),\n",
              " ('Julia Kessler', 0.18421052631578946),\n",
              " ('Dominique Burton', 0.18421052631578946),\n",
              " ('Travis Riddle', 0.18421052631578946),\n",
              " ('Rick Haake', 0.15789473684210525),\n",
              " ('Tamara Martin', 0.15789473684210525),\n",
              " ('Eiryn Renouard', 0.15789473684210525),\n",
              " ('Elizabeth Fontaine', 0.15789473684210525),\n",
              " ('Danielle Parsons', 0.13157894736842105),\n",
              " ('Frank Straub', 0.13157894736842105),\n",
              " ('Virgil Young', 0.13157894736842105),\n",
              " ('Brianna Sclafani', 0.10526315789473684),\n",
              " ('Sarah Vanselow', 0.10526315789473684),\n",
              " ('Garrett Johnson', 0.10526315789473684),\n",
              " ('Fern Hernberg', 0.10526315789473684),\n",
              " ('Jane Mott-Palmer', 0.10526315789473684),\n",
              " ('Rebecca Benson', 0.10526315789473684),\n",
              " ('Mary Kate Murphy', 0.07894736842105263),\n",
              " ('Danielle Boekankamp', 0.02631578947368421)]"
            ]
          },
          "metadata": {
            "tags": []
          },
          "execution_count": 54
        }
      ]
    },
    {
      "cell_type": "markdown",
      "metadata": {
        "id": "bq2hPWBd9svF"
      },
      "source": [
        "### Eigenvector Centrality"
      ]
    },
    {
      "cell_type": "code",
      "metadata": {
        "colab": {
          "base_uri": "https://localhost:8080/"
        },
        "id": "MNHfKmVuQqO_",
        "outputId": "39a2f253-3a89-400e-9d17-bfe3a5cfd4d2"
      },
      "source": [
        "nx.centrality.eigenvector_centrality(G, weight='weight_count')\n",
        "sorted(nx.centrality.eigenvector_centrality(G, weight='weight_count').items(), key=lambda x:x[-1], reverse=True)"
      ],
      "execution_count": null,
      "outputs": [
        {
          "output_type": "execute_result",
          "data": {
            "text/plain": [
              "[('Sarita Coletrane', 0.4696718374127965),\n",
              " ('Ben Gorban', 0.36094969836157076),\n",
              " ('Maria Valdovinos Olson Valdovinos', 0.26755783701591934),\n",
              " ('Aisha Jamil', 0.25917701415389893),\n",
              " ('Yukun Yang', 0.25737420673573225),\n",
              " ('Christine Johnson', 0.23342004370729794),\n",
              " ('Erica Richardson', 0.2121849266458605),\n",
              " ('Karen Amendola', 0.18724178007306333),\n",
              " ('Pauline Alvarado', 0.1827821114796691),\n",
              " ('Michael Lebron', 0.1672799176869452),\n",
              " ('Elizabeth Fontaine', 0.16488953946049248),\n",
              " ('Travis Taniguchi', 0.16443972497505452),\n",
              " ('Travis Riddle', 0.16384006307717727),\n",
              " ('Danielle Parsons', 0.15578036086007827),\n",
              " ('Katherine Hoogesteyn', 0.13096097071540447),\n",
              " ('Heather Vovak', 0.12453098158509415),\n",
              " ('Dominique Burton', 0.12204135002122837),\n",
              " ('Eiryn Renouard', 0.11889150718207095),\n",
              " ('Mary Kate Murphy', 0.11789306173709387),\n",
              " ('Scarlett Ojeda Geldres', 0.10177710419345304),\n",
              " ('Jen Zeunik', 0.09605271885572662),\n",
              " ('Julia Kessler', 0.08979537367345475),\n",
              " ('Brett Cowell', 0.08444884839901806),\n",
              " ('Trenay Wren-Evans', 0.07715842640714603),\n",
              " ('Sarah Vanselow', 0.07517148486761785),\n",
              " ('Kerry Yerico', 0.06776120182672186),\n",
              " ('Rick Haake', 0.05694551598480529),\n",
              " ('Danielle Boekankamp', 0.05639080503952144),\n",
              " ('Garrett Johnson', 0.05460096323083944),\n",
              " ('Brianna Sclafani', 0.042517233177266266),\n",
              " ('Lorena Singer', 0.039642522314830404),\n",
              " ('Jim Burch', 0.034537985779561506),\n",
              " ('Jane Mott-Palmer', 0.033576145397333945),\n",
              " ('Frank Straub', 0.018425198915909515),\n",
              " ('Fern Hernberg', 0.017614212255283684),\n",
              " ('Amanda Burstein', 0.013572596923426853),\n",
              " ('Tamara Martin', 0.013572596923426853),\n",
              " ('Rebecca Benson', 0.011823059515520845),\n",
              " ('Virgil Young', 1.1435165891432205e-23)]"
            ]
          },
          "metadata": {
            "tags": []
          },
          "execution_count": 55
        }
      ]
    },
    {
      "cell_type": "code",
      "metadata": {
        "id": "NvuuV8-SRJ2m"
      },
      "source": [],
      "execution_count": null,
      "outputs": []
    },
    {
      "cell_type": "markdown",
      "metadata": {
        "id": "qno9SJzU9zk1"
      },
      "source": [
        "### Closeness Centrality"
      ]
    },
    {
      "cell_type": "code",
      "metadata": {
        "colab": {
          "base_uri": "https://localhost:8080/"
        },
        "id": "3kJl2iguRPV-",
        "outputId": "1a4de7de-aa98-4e92-fc59-dc4906d33ff6"
      },
      "source": [
        "# nx.centrality.closeness_centrality(G)\n",
        "sorted(nx.centrality.closeness_centrality(G).items(), key=lambda x:x[-1], reverse=True)"
      ],
      "execution_count": null,
      "outputs": [
        {
          "output_type": "execute_result",
          "data": {
            "text/plain": [
              "[('Ben Gorban', 0.7505482456140351),\n",
              " ('Sarita Coletrane', 0.7063983488132095),\n",
              " ('Aisha Jamil', 0.6433270676691729),\n",
              " ('Maria Valdovinos Olson Valdovinos', 0.6004385964912281),\n",
              " ('Christine Johnson', 0.590595340811044),\n",
              " ('Erica Richardson', 0.5810696095076401),\n",
              " ('Michael Lebron', 0.5718462823725982),\n",
              " ('Karen Amendola', 0.5629111842105263),\n",
              " ('Pauline Alvarado', 0.5629111842105263),\n",
              " ('Yukun Yang', 0.554251012145749),\n",
              " ('Danielle Parsons', 0.554251012145749),\n",
              " ('Brett Cowell', 0.54585326953748),\n",
              " ('Eiryn Renouard', 0.5377062058130401),\n",
              " ('Mary Kate Murphy', 0.5297987616099071),\n",
              " ('Scarlett Ojeda Geldres', 0.5221205186880244),\n",
              " ('Brianna Sclafani', 0.5146616541353384),\n",
              " ('Julia Kessler', 0.5146616541353384),\n",
              " ('Travis Taniguchi', 0.5146616541353384),\n",
              " ('Jen Zeunik', 0.5146616541353384),\n",
              " ('Dominique Burton', 0.5074128984432913),\n",
              " ('Trenay Wren-Evans', 0.5003654970760234),\n",
              " ('Katherine Hoogesteyn', 0.5003654970760234),\n",
              " ('Travis Riddle', 0.4935111751982697),\n",
              " ('Heather Vovak', 0.4868421052631579),\n",
              " ('Garrett Johnson', 0.4740304709141275),\n",
              " ('Jane Mott-Palmer', 0.4740304709141275),\n",
              " ('Sarah Vanselow', 0.4678742310321258),\n",
              " ('Elizabeth Fontaine', 0.4678742310321258),\n",
              " ('Kerry Yerico', 0.4618758434547908),\n",
              " ('Danielle Boekankamp', 0.4578313253012048),\n",
              " ('Jim Burch', 0.45602931379080613),\n",
              " ('Rick Haake', 0.4393453145057767),\n",
              " ('Lorena Singer', 0.43405199746353834),\n",
              " ('Frank Straub', 0.41409558378705386),\n",
              " ('Amanda Burstein', 0.3958935801041064),\n",
              " ('Tamara Martin', 0.39159038901601834),\n",
              " ('Fern Hernberg', 0.38737973967176004),\n",
              " ('Rebecca Benson', 0.37140531741725447),\n",
              " ('Virgil Young', 0.0)]"
            ]
          },
          "metadata": {
            "tags": []
          },
          "execution_count": 56
        }
      ]
    },
    {
      "cell_type": "markdown",
      "metadata": {
        "id": "a5hg-EjA-AOV"
      },
      "source": [
        "### Betweeness Centrality"
      ]
    },
    {
      "cell_type": "code",
      "metadata": {
        "id": "KjHJs-KARUZb"
      },
      "source": [],
      "execution_count": null,
      "outputs": []
    },
    {
      "cell_type": "code",
      "metadata": {
        "colab": {
          "base_uri": "https://localhost:8080/"
        },
        "id": "pxSi9jqnRYMS",
        "outputId": "434f5fb3-a001-4983-bc33-b069db604f22"
      },
      "source": [
        "nx.centrality.betweenness_centrality(G)\n",
        "sorted(nx.centrality.betweenness_centrality(G).items(), key=lambda x:x[-1], reverse=True)"
      ],
      "execution_count": null,
      "outputs": [
        {
          "output_type": "execute_result",
          "data": {
            "text/plain": [
              "[('Sarita Coletrane', 0.19706860317478556),\n",
              " ('Ben Gorban', 0.13770716357148619),\n",
              " ('Aisha Jamil', 0.11626047893564596),\n",
              " ('Jen Zeunik', 0.04777269140238586),\n",
              " ('Scarlett Ojeda Geldres', 0.038268476322492945),\n",
              " ('Erica Richardson', 0.034138712060538694),\n",
              " ('Karen Amendola', 0.0337787656163013),\n",
              " ('Maria Valdovinos Olson Valdovinos', 0.03220390334907766),\n",
              " ('Yukun Yang', 0.031757289062276275),\n",
              " ('Pauline Alvarado', 0.025923983905108725),\n",
              " ('Katherine Hoogesteyn', 0.02286457989154038),\n",
              " ('Christine Johnson', 0.02079311119642927),\n",
              " ('Brett Cowell', 0.01964187475430754),\n",
              " ('Jim Burch', 0.018781879966090494),\n",
              " ('Danielle Parsons', 0.018266845829172703),\n",
              " ('Mary Kate Murphy', 0.017782677283451277),\n",
              " ('Julia Kessler', 0.015279477929096069),\n",
              " ('Kerry Yerico', 0.014705757399663216),\n",
              " ('Lorena Singer', 0.014665964665964667),\n",
              " ('Eiryn Renouard', 0.013855358557574624),\n",
              " ('Michael Lebron', 0.013552385520348903),\n",
              " ('Travis Taniguchi', 0.012379095756471758),\n",
              " ('Dominique Burton', 0.01234283073527925),\n",
              " ('Heather Vovak', 0.0056880332136086615),\n",
              " ('Travis Riddle', 0.004172242988032461),\n",
              " ('Brianna Sclafani', 0.004151392568982597),\n",
              " ('Frank Straub', 0.0036256437572227043),\n",
              " ('Fern Hernberg', 0.0035715226504700187),\n",
              " ('Trenay Wren-Evans', 0.003190395165257193),\n",
              " ('Rick Haake', 0.002795302137407401),\n",
              " ('Sarah Vanselow', 0.002659497028692075),\n",
              " ('Elizabeth Fontaine', 0.002560788744999271),\n",
              " ('Garrett Johnson', 0.001959598012229591),\n",
              " ('Rebecca Benson', 0.001760620839568208),\n",
              " ('Amanda Burstein', 0.0015019505151084099),\n",
              " ('Jane Mott-Palmer', 0.0014756020947971412),\n",
              " ('Tamara Martin', 0.0005976371107950055),\n",
              " ('Danielle Boekankamp', 0.0),\n",
              " ('Virgil Young', 0.0)]"
            ]
          },
          "metadata": {
            "tags": []
          },
          "execution_count": 57
        }
      ]
    },
    {
      "cell_type": "code",
      "metadata": {
        "id": "ffROyl2ERaOG"
      },
      "source": [],
      "execution_count": null,
      "outputs": []
    },
    {
      "cell_type": "markdown",
      "metadata": {
        "id": "T22YZh-_-Lp2"
      },
      "source": [
        "### Page Rank"
      ]
    },
    {
      "cell_type": "code",
      "metadata": {
        "colab": {
          "base_uri": "https://localhost:8080/"
        },
        "id": "XvGev7laRrkG",
        "outputId": "8e19023b-d081-4faa-84a4-dbdd9a1f1ce8"
      },
      "source": [
        "nx.pagerank(G)\n",
        "sorted(nx.pagerank(G, weight='weight_count', alpha=0.9).items(), key=lambda x:x[-1], reverse=True)"
      ],
      "execution_count": null,
      "outputs": [
        {
          "output_type": "execute_result",
          "data": {
            "text/plain": [
              "[('Danielle Boekankamp', 0.08947403019296277),\n",
              " ('Sarita Coletrane', 0.08053420876820445),\n",
              " ('Ben Gorban', 0.06408080638071328),\n",
              " ('Danielle Parsons', 0.04565195167276047),\n",
              " ('Aisha Jamil', 0.043385815660098644),\n",
              " ('Erica Richardson', 0.04028430337549752),\n",
              " ('Yukun Yang', 0.03651788706965848),\n",
              " ('Scarlett Ojeda Geldres', 0.03301911926827147),\n",
              " ('Maria Valdovinos Olson Valdovinos', 0.032734473816677594),\n",
              " ('Christine Johnson', 0.03223741158854089),\n",
              " ('Julia Kessler', 0.03151457147006244),\n",
              " ('Sarah Vanselow', 0.028499078265842408),\n",
              " ('Rick Haake', 0.027023354897772706),\n",
              " ('Pauline Alvarado', 0.026555656088821437),\n",
              " ('Eiryn Renouard', 0.024921446765045877),\n",
              " ('Dominique Burton', 0.024664632882550955),\n",
              " ('Michael Lebron', 0.024130565514888607),\n",
              " ('Kerry Yerico', 0.023904489806659525),\n",
              " ('Karen Amendola', 0.023198236542419336),\n",
              " ('Lorena Singer', 0.02201588848346829),\n",
              " ('Garrett Johnson', 0.02187509227943266),\n",
              " ('Travis Riddle', 0.02136685705981364),\n",
              " ('Jen Zeunik', 0.019492870976926063),\n",
              " ('Travis Taniguchi', 0.019205854667687282),\n",
              " ('Elizabeth Fontaine', 0.017838735420128447),\n",
              " ('Mary Kate Murphy', 0.01781868677121528),\n",
              " ('Heather Vovak', 0.017111685658063654),\n",
              " ('Brett Cowell', 0.016243565898950367),\n",
              " ('Katherine Hoogesteyn', 0.015903506784085968),\n",
              " ('Trenay Wren-Evans', 0.01320130438431091),\n",
              " ('Rebecca Benson', 0.01029449150336447),\n",
              " ('Frank Straub', 0.010254633634317098),\n",
              " ('Brianna Sclafani', 0.009857665483022068),\n",
              " ('Jim Burch', 0.00981427056192736),\n",
              " ('Jane Mott-Palmer', 0.008254134975675027),\n",
              " ('Fern Hernberg', 0.005876580644007912),\n",
              " ('Amanda Burstein', 0.004339016111025865),\n",
              " ('Tamara Martin', 0.004339016111025865),\n",
              " ('Virgil Young', 0.0025641025641025632)]"
            ]
          },
          "metadata": {
            "tags": []
          },
          "execution_count": 58
        }
      ]
    },
    {
      "cell_type": "markdown",
      "metadata": {
        "id": "scLImOKU_l6v"
      },
      "source": [
        "### Hubs & Authorities"
      ]
    },
    {
      "cell_type": "code",
      "metadata": {
        "id": "D4oMGEV9R7TR"
      },
      "source": [
        "hubs, authorities=nx.hits(G)"
      ],
      "execution_count": null,
      "outputs": []
    },
    {
      "cell_type": "code",
      "metadata": {
        "id": "L1D1kAxG-t0Z",
        "colab": {
          "base_uri": "https://localhost:8080/"
        },
        "outputId": "5fb689e8-a21f-4828-8c59-7acda1cbd569"
      },
      "source": [
        "sorted(hubs.items(), key=lambda x:x[-1], reverse=True)"
      ],
      "execution_count": null,
      "outputs": [
        {
          "output_type": "execute_result",
          "data": {
            "text/plain": [
              "[('Karen Amendola', 0.05516972832992043),\n",
              " ('Sarita Coletrane', 0.053833597265213286),\n",
              " ('Jim Burch', 0.049099653945345705),\n",
              " ('Jen Zeunik', 0.048516585967119046),\n",
              " ('Travis Taniguchi', 0.045910331339507005),\n",
              " ('Yukun Yang', 0.043740870235471636),\n",
              " ('Maria Valdovinos Olson Valdovinos', 0.04228603900109314),\n",
              " ('Katherine Hoogesteyn', 0.04151660895319366),\n",
              " ('Pauline Alvarado', 0.04075802266584032),\n",
              " ('Heather Vovak', 0.04032562554546524),\n",
              " ('Ben Gorban', 0.038478302239982755),\n",
              " ('Christine Johnson', 0.03397304242591593),\n",
              " ('Aisha Jamil', 0.032633763473530364),\n",
              " ('Brett Cowell', 0.02742322722222017),\n",
              " ('Michael Lebron', 0.02707816233472295),\n",
              " ('Trenay Wren-Evans', 0.025714698677701427),\n",
              " ('Scarlett Ojeda Geldres', 0.025167667381848342),\n",
              " ('Amanda Burstein', 0.024411525149647128),\n",
              " ('Travis Riddle', 0.024337397703407745),\n",
              " ('Erica Richardson', 0.023555704215938826),\n",
              " ('Lorena Singer', 0.0225765995474172),\n",
              " ('Kerry Yerico', 0.021972705790657514),\n",
              " ('Julia Kessler', 0.020398457156189112),\n",
              " ('Dominique Burton', 0.02034235571416742),\n",
              " ('Frank Straub', 0.01980088473571396),\n",
              " ('Tamara Martin', 0.01884123252662472),\n",
              " ('Brianna Sclafani', 0.016395377891257314),\n",
              " ('Elizabeth Fontaine', 0.01636991595394329),\n",
              " ('Rick Haake', 0.013890548129024372),\n",
              " ('Eiryn Renouard', 0.013768258930476228),\n",
              " ('Jane Mott-Palmer', 0.01051238568106393),\n",
              " ('Sarah Vanselow', 0.010274826220318008),\n",
              " ('Virgil Young', 0.009460632093416826),\n",
              " ('Danielle Parsons', 0.009359222467674566),\n",
              " ('Fern Hernberg', 0.009036443137679111),\n",
              " ('Garrett Johnson', 0.008432881151041854),\n",
              " ('Rebecca Benson', 0.007986895112561813),\n",
              " ('Mary Kate Murphy', 0.00517571156042474),\n",
              " ('Danielle Boekankamp', 0.0014741121272628256)]"
            ]
          },
          "metadata": {
            "tags": []
          },
          "execution_count": 60
        }
      ]
    },
    {
      "cell_type": "code",
      "metadata": {
        "id": "QjcRwdPMAIJV"
      },
      "source": [],
      "execution_count": null,
      "outputs": []
    },
    {
      "cell_type": "code",
      "metadata": {
        "colab": {
          "base_uri": "https://localhost:8080/"
        },
        "id": "W1aYlw9i_sgG",
        "outputId": "5f215441-59af-49cb-e62c-00bcce7035c3"
      },
      "source": [
        "sorted(authorities.items(), key=lambda x:x[-1], reverse=True)"
      ],
      "execution_count": null,
      "outputs": [
        {
          "output_type": "execute_result",
          "data": {
            "text/plain": [
              "[('Ben Gorban', 0.07192191039790828),\n",
              " ('Sarita Coletrane', 0.062137117958347525),\n",
              " ('Aisha Jamil', 0.05438884168295672),\n",
              " ('Maria Valdovinos Olson Valdovinos', 0.05226922715816777),\n",
              " ('Pauline Alvarado', 0.04192996101918596),\n",
              " ('Michael Lebron', 0.04148595698241981),\n",
              " ('Christine Johnson', 0.041220033659386895),\n",
              " ('Travis Taniguchi', 0.039996054108767755),\n",
              " ('Karen Amendola', 0.038771081971502266),\n",
              " ('Yukun Yang', 0.038753651575175366),\n",
              " ('Travis Riddle', 0.037802361345548166),\n",
              " ('Erica Richardson', 0.03674083699814316),\n",
              " ('Eiryn Renouard', 0.030984051544896654),\n",
              " ('Katherine Hoogesteyn', 0.03062613759462347),\n",
              " ('Mary Kate Murphy', 0.02821692170329452),\n",
              " ('Brett Cowell', 0.026592597321415393),\n",
              " ('Dominique Burton', 0.026342790815204437),\n",
              " ('Jen Zeunik', 0.025058129259063346),\n",
              " ('Heather Vovak', 0.024427132466885774),\n",
              " ('Trenay Wren-Evans', 0.023697246756115602),\n",
              " ('Kerry Yerico', 0.021286276169214167),\n",
              " ('Danielle Parsons', 0.020597717837999394),\n",
              " ('Julia Kessler', 0.020093853806851344),\n",
              " ('Scarlett Ojeda Geldres', 0.019352648623303242),\n",
              " ('Danielle Boekankamp', 0.01809859384877227),\n",
              " ('Elizabeth Fontaine', 0.017016616598776346),\n",
              " ('Brianna Sclafani', 0.01662356567420632),\n",
              " ('Jane Mott-Palmer', 0.013464453095508018),\n",
              " ('Sarah Vanselow', 0.012848408556629116),\n",
              " ('Rick Haake', 0.012618339229239071),\n",
              " ('Garrett Johnson', 0.012304023158148622),\n",
              " ('Fern Hernberg', 0.010210328217455357),\n",
              " ('Lorena Singer', 0.008496881716106717),\n",
              " ('Jim Burch', 0.0077635462026735165),\n",
              " ('Rebecca Benson', 0.00543913822380591),\n",
              " ('Frank Straub', 0.004667993642280174),\n",
              " ('Amanda Burstein', 0.0028777865400107195),\n",
              " ('Tamara Martin', 0.0028777865400107195),\n",
              " ('Virgil Young', 0.0)]"
            ]
          },
          "metadata": {
            "tags": []
          },
          "execution_count": 61
        }
      ]
    },
    {
      "cell_type": "code",
      "metadata": {
        "id": "chG26GvH_uj4"
      },
      "source": [
        "\n",
        "def tabulate_node_metrics(G, weight_name=None):\n",
        "    degree=pd.DataFrame(nx.centrality.degree_centrality(G).items())\n",
        "    degree.columns=['node','degree_centrality']\n",
        "    in_degree=pd.DataFrame(nx.centrality.in_degree_centrality(G).items())\n",
        "    in_degree.columns=['node','indegree_centrality']\n",
        "    out_degree=pd.DataFrame(nx.centrality.out_degree_centrality(G).items())\n",
        "    out_degree.columns=['node','outdegree_centrality']\n",
        "    eigen=pd.DataFrame(nx.eigenvector_centrality(G, weight=weight_name).items())\n",
        "    eigen.columns=['node','eigenvector_centrality']\n",
        "    closeness=pd.DataFrame(nx.closeness_centrality(G).items())\n",
        "    closeness.columns=['node','closeness_centrality']\n",
        "    betweenness=pd.DataFrame(nx.betweenness_centrality(G).items())\n",
        "    betweenness.columns=['node','btwness_centrality']\n",
        "    pagerank=pd.DataFrame(nx.pagerank(G, weight=weight_name).items())\n",
        "    pagerank.columns=['node','page_rank']\n",
        "    hits=nx.hits(G)\n",
        "    hubs=pd.DataFrame(hits[0].items())\n",
        "    hubs.columns=['node','hubs_centrality']\n",
        "    auth=pd.DataFrame(hits[-1].items())\n",
        "    auth.columns=['node','authority_centrality']\n",
        "\n",
        "    all_df=pd.concat([df.set_index('node') for df in [degree, in_degree, out_degree, eigen, \n",
        "                     closeness, betweenness, pagerank, hubs, auth]],axis=1)\n",
        "    \n",
        "    return all_df\n",
        "\n",
        "\n"
      ],
      "execution_count": null,
      "outputs": []
    },
    {
      "cell_type": "code",
      "metadata": {
        "id": "KgQIbBy0VE6c"
      },
      "source": [],
      "execution_count": null,
      "outputs": []
    },
    {
      "cell_type": "markdown",
      "metadata": {
        "id": "W2iaSJJ0VF-x"
      },
      "source": [
        "### Metrics Comparison"
      ]
    },
    {
      "cell_type": "code",
      "metadata": {
        "id": "RA42dcaGVFDx"
      },
      "source": [],
      "execution_count": null,
      "outputs": []
    },
    {
      "cell_type": "code",
      "metadata": {
        "colab": {
          "base_uri": "https://localhost:8080/",
          "height": 1000
        },
        "id": "ZGDaFeGSQ9xx",
        "outputId": "21985db9-dc49-4c3a-e5e4-5efc18330a2e"
      },
      "source": [
        "all_node_metrics=tabulate_node_metrics(G)\n",
        "\n",
        "def highlight_topn(s, n=10):\n",
        "    is_top = s.isin(s.nlargest(n))\n",
        "    return ['background: lightgreen'  if cell else '' for cell in is_top]\n",
        "\n",
        "all_node_metrics.sort_values('degree_centrality', ascending=False).style.apply(highlight_topn)"
      ],
      "execution_count": null,
      "outputs": [
        {
          "output_type": "execute_result",
          "data": {
            "text/html": [
              "<style  type=\"text/css\" >\n",
              "#T_6a711cfc_c9f4_11eb_b60d_0242ac1c0002row0_col0,#T_6a711cfc_c9f4_11eb_b60d_0242ac1c0002row0_col1,#T_6a711cfc_c9f4_11eb_b60d_0242ac1c0002row0_col2,#T_6a711cfc_c9f4_11eb_b60d_0242ac1c0002row0_col3,#T_6a711cfc_c9f4_11eb_b60d_0242ac1c0002row0_col4,#T_6a711cfc_c9f4_11eb_b60d_0242ac1c0002row0_col5,#T_6a711cfc_c9f4_11eb_b60d_0242ac1c0002row0_col6,#T_6a711cfc_c9f4_11eb_b60d_0242ac1c0002row0_col7,#T_6a711cfc_c9f4_11eb_b60d_0242ac1c0002row0_col8,#T_6a711cfc_c9f4_11eb_b60d_0242ac1c0002row1_col0,#T_6a711cfc_c9f4_11eb_b60d_0242ac1c0002row1_col1,#T_6a711cfc_c9f4_11eb_b60d_0242ac1c0002row1_col2,#T_6a711cfc_c9f4_11eb_b60d_0242ac1c0002row1_col3,#T_6a711cfc_c9f4_11eb_b60d_0242ac1c0002row1_col4,#T_6a711cfc_c9f4_11eb_b60d_0242ac1c0002row1_col5,#T_6a711cfc_c9f4_11eb_b60d_0242ac1c0002row1_col6,#T_6a711cfc_c9f4_11eb_b60d_0242ac1c0002row1_col8,#T_6a711cfc_c9f4_11eb_b60d_0242ac1c0002row2_col0,#T_6a711cfc_c9f4_11eb_b60d_0242ac1c0002row2_col1,#T_6a711cfc_c9f4_11eb_b60d_0242ac1c0002row2_col2,#T_6a711cfc_c9f4_11eb_b60d_0242ac1c0002row2_col3,#T_6a711cfc_c9f4_11eb_b60d_0242ac1c0002row2_col4,#T_6a711cfc_c9f4_11eb_b60d_0242ac1c0002row2_col5,#T_6a711cfc_c9f4_11eb_b60d_0242ac1c0002row2_col6,#T_6a711cfc_c9f4_11eb_b60d_0242ac1c0002row2_col8,#T_6a711cfc_c9f4_11eb_b60d_0242ac1c0002row3_col0,#T_6a711cfc_c9f4_11eb_b60d_0242ac1c0002row3_col1,#T_6a711cfc_c9f4_11eb_b60d_0242ac1c0002row3_col2,#T_6a711cfc_c9f4_11eb_b60d_0242ac1c0002row3_col3,#T_6a711cfc_c9f4_11eb_b60d_0242ac1c0002row3_col4,#T_6a711cfc_c9f4_11eb_b60d_0242ac1c0002row3_col5,#T_6a711cfc_c9f4_11eb_b60d_0242ac1c0002row3_col7,#T_6a711cfc_c9f4_11eb_b60d_0242ac1c0002row3_col8,#T_6a711cfc_c9f4_11eb_b60d_0242ac1c0002row4_col0,#T_6a711cfc_c9f4_11eb_b60d_0242ac1c0002row4_col1,#T_6a711cfc_c9f4_11eb_b60d_0242ac1c0002row4_col3,#T_6a711cfc_c9f4_11eb_b60d_0242ac1c0002row4_col4,#T_6a711cfc_c9f4_11eb_b60d_0242ac1c0002row4_col5,#T_6a711cfc_c9f4_11eb_b60d_0242ac1c0002row4_col6,#T_6a711cfc_c9f4_11eb_b60d_0242ac1c0002row4_col7,#T_6a711cfc_c9f4_11eb_b60d_0242ac1c0002row4_col8,#T_6a711cfc_c9f4_11eb_b60d_0242ac1c0002row5_col0,#T_6a711cfc_c9f4_11eb_b60d_0242ac1c0002row5_col1,#T_6a711cfc_c9f4_11eb_b60d_0242ac1c0002row5_col2,#T_6a711cfc_c9f4_11eb_b60d_0242ac1c0002row5_col3,#T_6a711cfc_c9f4_11eb_b60d_0242ac1c0002row5_col4,#T_6a711cfc_c9f4_11eb_b60d_0242ac1c0002row5_col5,#T_6a711cfc_c9f4_11eb_b60d_0242ac1c0002row5_col6,#T_6a711cfc_c9f4_11eb_b60d_0242ac1c0002row5_col7,#T_6a711cfc_c9f4_11eb_b60d_0242ac1c0002row5_col8,#T_6a711cfc_c9f4_11eb_b60d_0242ac1c0002row6_col0,#T_6a711cfc_c9f4_11eb_b60d_0242ac1c0002row6_col1,#T_6a711cfc_c9f4_11eb_b60d_0242ac1c0002row6_col2,#T_6a711cfc_c9f4_11eb_b60d_0242ac1c0002row6_col7,#T_6a711cfc_c9f4_11eb_b60d_0242ac1c0002row6_col8,#T_6a711cfc_c9f4_11eb_b60d_0242ac1c0002row7_col0,#T_6a711cfc_c9f4_11eb_b60d_0242ac1c0002row7_col2,#T_6a711cfc_c9f4_11eb_b60d_0242ac1c0002row7_col5,#T_6a711cfc_c9f4_11eb_b60d_0242ac1c0002row7_col7,#T_6a711cfc_c9f4_11eb_b60d_0242ac1c0002row8_col0,#T_6a711cfc_c9f4_11eb_b60d_0242ac1c0002row8_col1,#T_6a711cfc_c9f4_11eb_b60d_0242ac1c0002row8_col2,#T_6a711cfc_c9f4_11eb_b60d_0242ac1c0002row8_col3,#T_6a711cfc_c9f4_11eb_b60d_0242ac1c0002row8_col4,#T_6a711cfc_c9f4_11eb_b60d_0242ac1c0002row8_col5,#T_6a711cfc_c9f4_11eb_b60d_0242ac1c0002row8_col6,#T_6a711cfc_c9f4_11eb_b60d_0242ac1c0002row8_col7,#T_6a711cfc_c9f4_11eb_b60d_0242ac1c0002row8_col8,#T_6a711cfc_c9f4_11eb_b60d_0242ac1c0002row9_col0,#T_6a711cfc_c9f4_11eb_b60d_0242ac1c0002row9_col1,#T_6a711cfc_c9f4_11eb_b60d_0242ac1c0002row9_col3,#T_6a711cfc_c9f4_11eb_b60d_0242ac1c0002row9_col4,#T_6a711cfc_c9f4_11eb_b60d_0242ac1c0002row9_col6,#T_6a711cfc_c9f4_11eb_b60d_0242ac1c0002row9_col8,#T_6a711cfc_c9f4_11eb_b60d_0242ac1c0002row10_col2,#T_6a711cfc_c9f4_11eb_b60d_0242ac1c0002row10_col7,#T_6a711cfc_c9f4_11eb_b60d_0242ac1c0002row11_col1,#T_6a711cfc_c9f4_11eb_b60d_0242ac1c0002row11_col3,#T_6a711cfc_c9f4_11eb_b60d_0242ac1c0002row11_col4,#T_6a711cfc_c9f4_11eb_b60d_0242ac1c0002row11_col5,#T_6a711cfc_c9f4_11eb_b60d_0242ac1c0002row11_col6,#T_6a711cfc_c9f4_11eb_b60d_0242ac1c0002row12_col2,#T_6a711cfc_c9f4_11eb_b60d_0242ac1c0002row12_col7,#T_6a711cfc_c9f4_11eb_b60d_0242ac1c0002row13_col1,#T_6a711cfc_c9f4_11eb_b60d_0242ac1c0002row13_col3,#T_6a711cfc_c9f4_11eb_b60d_0242ac1c0002row13_col4,#T_6a711cfc_c9f4_11eb_b60d_0242ac1c0002row13_col8,#T_6a711cfc_c9f4_11eb_b60d_0242ac1c0002row14_col5,#T_6a711cfc_c9f4_11eb_b60d_0242ac1c0002row16_col1,#T_6a711cfc_c9f4_11eb_b60d_0242ac1c0002row17_col7,#T_6a711cfc_c9f4_11eb_b60d_0242ac1c0002row22_col4,#T_6a711cfc_c9f4_11eb_b60d_0242ac1c0002row22_col6,#T_6a711cfc_c9f4_11eb_b60d_0242ac1c0002row34_col6{\n",
              "            background:  lightgreen;\n",
              "        }</style><table id=\"T_6a711cfc_c9f4_11eb_b60d_0242ac1c0002\" ><thead>    <tr>        <th class=\"blank level0\" ></th>        <th class=\"col_heading level0 col0\" >degree_centrality</th>        <th class=\"col_heading level0 col1\" >indegree_centrality</th>        <th class=\"col_heading level0 col2\" >outdegree_centrality</th>        <th class=\"col_heading level0 col3\" >eigenvector_centrality</th>        <th class=\"col_heading level0 col4\" >closeness_centrality</th>        <th class=\"col_heading level0 col5\" >btwness_centrality</th>        <th class=\"col_heading level0 col6\" >page_rank</th>        <th class=\"col_heading level0 col7\" >hubs_centrality</th>        <th class=\"col_heading level0 col8\" >authority_centrality</th>    </tr>    <tr>        <th class=\"index_name level0\" >node</th>        <th class=\"blank\" ></th>        <th class=\"blank\" ></th>        <th class=\"blank\" ></th>        <th class=\"blank\" ></th>        <th class=\"blank\" ></th>        <th class=\"blank\" ></th>        <th class=\"blank\" ></th>        <th class=\"blank\" ></th>        <th class=\"blank\" ></th>    </tr></thead><tbody>\n",
              "                <tr>\n",
              "                        <th id=\"T_6a711cfc_c9f4_11eb_b60d_0242ac1c0002level0_row0\" class=\"row_heading level0 row0\" >Sarita Coletrane</th>\n",
              "                        <td id=\"T_6a711cfc_c9f4_11eb_b60d_0242ac1c0002row0_col0\" class=\"data row0 col0\" >1.157895</td>\n",
              "                        <td id=\"T_6a711cfc_c9f4_11eb_b60d_0242ac1c0002row0_col1\" class=\"data row0 col1\" >0.631579</td>\n",
              "                        <td id=\"T_6a711cfc_c9f4_11eb_b60d_0242ac1c0002row0_col2\" class=\"data row0 col2\" >0.526316</td>\n",
              "                        <td id=\"T_6a711cfc_c9f4_11eb_b60d_0242ac1c0002row0_col3\" class=\"data row0 col3\" >0.352969</td>\n",
              "                        <td id=\"T_6a711cfc_c9f4_11eb_b60d_0242ac1c0002row0_col4\" class=\"data row0 col4\" >0.706398</td>\n",
              "                        <td id=\"T_6a711cfc_c9f4_11eb_b60d_0242ac1c0002row0_col5\" class=\"data row0 col5\" >0.197069</td>\n",
              "                        <td id=\"T_6a711cfc_c9f4_11eb_b60d_0242ac1c0002row0_col6\" class=\"data row0 col6\" >0.066069</td>\n",
              "                        <td id=\"T_6a711cfc_c9f4_11eb_b60d_0242ac1c0002row0_col7\" class=\"data row0 col7\" >0.053834</td>\n",
              "                        <td id=\"T_6a711cfc_c9f4_11eb_b60d_0242ac1c0002row0_col8\" class=\"data row0 col8\" >0.062137</td>\n",
              "            </tr>\n",
              "            <tr>\n",
              "                        <th id=\"T_6a711cfc_c9f4_11eb_b60d_0242ac1c0002level0_row1\" class=\"row_heading level0 row1\" >Ben Gorban</th>\n",
              "                        <td id=\"T_6a711cfc_c9f4_11eb_b60d_0242ac1c0002row1_col0\" class=\"data row1 col0\" >1.078947</td>\n",
              "                        <td id=\"T_6a711cfc_c9f4_11eb_b60d_0242ac1c0002row1_col1\" class=\"data row1 col1\" >0.684211</td>\n",
              "                        <td id=\"T_6a711cfc_c9f4_11eb_b60d_0242ac1c0002row1_col2\" class=\"data row1 col2\" >0.394737</td>\n",
              "                        <td id=\"T_6a711cfc_c9f4_11eb_b60d_0242ac1c0002row1_col3\" class=\"data row1 col3\" >0.354262</td>\n",
              "                        <td id=\"T_6a711cfc_c9f4_11eb_b60d_0242ac1c0002row1_col4\" class=\"data row1 col4\" >0.750548</td>\n",
              "                        <td id=\"T_6a711cfc_c9f4_11eb_b60d_0242ac1c0002row1_col5\" class=\"data row1 col5\" >0.137707</td>\n",
              "                        <td id=\"T_6a711cfc_c9f4_11eb_b60d_0242ac1c0002row1_col6\" class=\"data row1 col6\" >0.062201</td>\n",
              "                        <td id=\"T_6a711cfc_c9f4_11eb_b60d_0242ac1c0002row1_col7\" class=\"data row1 col7\" >0.038478</td>\n",
              "                        <td id=\"T_6a711cfc_c9f4_11eb_b60d_0242ac1c0002row1_col8\" class=\"data row1 col8\" >0.071922</td>\n",
              "            </tr>\n",
              "            <tr>\n",
              "                        <th id=\"T_6a711cfc_c9f4_11eb_b60d_0242ac1c0002level0_row2\" class=\"row_heading level0 row2\" >Aisha Jamil</th>\n",
              "                        <td id=\"T_6a711cfc_c9f4_11eb_b60d_0242ac1c0002row2_col0\" class=\"data row2 col0\" >0.815789</td>\n",
              "                        <td id=\"T_6a711cfc_c9f4_11eb_b60d_0242ac1c0002row2_col1\" class=\"data row2 col1\" >0.473684</td>\n",
              "                        <td id=\"T_6a711cfc_c9f4_11eb_b60d_0242ac1c0002row2_col2\" class=\"data row2 col2\" >0.342105</td>\n",
              "                        <td id=\"T_6a711cfc_c9f4_11eb_b60d_0242ac1c0002row2_col3\" class=\"data row2 col3\" >0.272892</td>\n",
              "                        <td id=\"T_6a711cfc_c9f4_11eb_b60d_0242ac1c0002row2_col4\" class=\"data row2 col4\" >0.643327</td>\n",
              "                        <td id=\"T_6a711cfc_c9f4_11eb_b60d_0242ac1c0002row2_col5\" class=\"data row2 col5\" >0.116260</td>\n",
              "                        <td id=\"T_6a711cfc_c9f4_11eb_b60d_0242ac1c0002row2_col6\" class=\"data row2 col6\" >0.044023</td>\n",
              "                        <td id=\"T_6a711cfc_c9f4_11eb_b60d_0242ac1c0002row2_col7\" class=\"data row2 col7\" >0.032634</td>\n",
              "                        <td id=\"T_6a711cfc_c9f4_11eb_b60d_0242ac1c0002row2_col8\" class=\"data row2 col8\" >0.054389</td>\n",
              "            </tr>\n",
              "            <tr>\n",
              "                        <th id=\"T_6a711cfc_c9f4_11eb_b60d_0242ac1c0002level0_row3\" class=\"row_heading level0 row3\" >Karen Amendola</th>\n",
              "                        <td id=\"T_6a711cfc_c9f4_11eb_b60d_0242ac1c0002row3_col0\" class=\"data row3 col0\" >0.763158</td>\n",
              "                        <td id=\"T_6a711cfc_c9f4_11eb_b60d_0242ac1c0002row3_col1\" class=\"data row3 col1\" >0.289474</td>\n",
              "                        <td id=\"T_6a711cfc_c9f4_11eb_b60d_0242ac1c0002row3_col2\" class=\"data row3 col2\" >0.473684</td>\n",
              "                        <td id=\"T_6a711cfc_c9f4_11eb_b60d_0242ac1c0002row3_col3\" class=\"data row3 col3\" >0.203450</td>\n",
              "                        <td id=\"T_6a711cfc_c9f4_11eb_b60d_0242ac1c0002row3_col4\" class=\"data row3 col4\" >0.562911</td>\n",
              "                        <td id=\"T_6a711cfc_c9f4_11eb_b60d_0242ac1c0002row3_col5\" class=\"data row3 col5\" >0.033779</td>\n",
              "                        <td id=\"T_6a711cfc_c9f4_11eb_b60d_0242ac1c0002row3_col6\" class=\"data row3 col6\" >0.025705</td>\n",
              "                        <td id=\"T_6a711cfc_c9f4_11eb_b60d_0242ac1c0002row3_col7\" class=\"data row3 col7\" >0.055170</td>\n",
              "                        <td id=\"T_6a711cfc_c9f4_11eb_b60d_0242ac1c0002row3_col8\" class=\"data row3 col8\" >0.038771</td>\n",
              "            </tr>\n",
              "            <tr>\n",
              "                        <th id=\"T_6a711cfc_c9f4_11eb_b60d_0242ac1c0002level0_row4\" class=\"row_heading level0 row4\" >Maria Valdovinos Olson Valdovinos</th>\n",
              "                        <td id=\"T_6a711cfc_c9f4_11eb_b60d_0242ac1c0002row4_col0\" class=\"data row4 col0\" >0.736842</td>\n",
              "                        <td id=\"T_6a711cfc_c9f4_11eb_b60d_0242ac1c0002row4_col1\" class=\"data row4 col1\" >0.421053</td>\n",
              "                        <td id=\"T_6a711cfc_c9f4_11eb_b60d_0242ac1c0002row4_col2\" class=\"data row4 col2\" >0.315789</td>\n",
              "                        <td id=\"T_6a711cfc_c9f4_11eb_b60d_0242ac1c0002row4_col3\" class=\"data row4 col3\" >0.267462</td>\n",
              "                        <td id=\"T_6a711cfc_c9f4_11eb_b60d_0242ac1c0002row4_col4\" class=\"data row4 col4\" >0.600439</td>\n",
              "                        <td id=\"T_6a711cfc_c9f4_11eb_b60d_0242ac1c0002row4_col5\" class=\"data row4 col5\" >0.032204</td>\n",
              "                        <td id=\"T_6a711cfc_c9f4_11eb_b60d_0242ac1c0002row4_col6\" class=\"data row4 col6\" >0.037121</td>\n",
              "                        <td id=\"T_6a711cfc_c9f4_11eb_b60d_0242ac1c0002row4_col7\" class=\"data row4 col7\" >0.042286</td>\n",
              "                        <td id=\"T_6a711cfc_c9f4_11eb_b60d_0242ac1c0002row4_col8\" class=\"data row4 col8\" >0.052269</td>\n",
              "            </tr>\n",
              "            <tr>\n",
              "                        <th id=\"T_6a711cfc_c9f4_11eb_b60d_0242ac1c0002level0_row5\" class=\"row_heading level0 row5\" >Pauline Alvarado</th>\n",
              "                        <td id=\"T_6a711cfc_c9f4_11eb_b60d_0242ac1c0002row5_col0\" class=\"data row5 col0\" >0.684211</td>\n",
              "                        <td id=\"T_6a711cfc_c9f4_11eb_b60d_0242ac1c0002row5_col1\" class=\"data row5 col1\" >0.315789</td>\n",
              "                        <td id=\"T_6a711cfc_c9f4_11eb_b60d_0242ac1c0002row5_col2\" class=\"data row5 col2\" >0.368421</td>\n",
              "                        <td id=\"T_6a711cfc_c9f4_11eb_b60d_0242ac1c0002row5_col3\" class=\"data row5 col3\" >0.218736</td>\n",
              "                        <td id=\"T_6a711cfc_c9f4_11eb_b60d_0242ac1c0002row5_col4\" class=\"data row5 col4\" >0.562911</td>\n",
              "                        <td id=\"T_6a711cfc_c9f4_11eb_b60d_0242ac1c0002row5_col5\" class=\"data row5 col5\" >0.025924</td>\n",
              "                        <td id=\"T_6a711cfc_c9f4_11eb_b60d_0242ac1c0002row5_col6\" class=\"data row5 col6\" >0.028944</td>\n",
              "                        <td id=\"T_6a711cfc_c9f4_11eb_b60d_0242ac1c0002row5_col7\" class=\"data row5 col7\" >0.040758</td>\n",
              "                        <td id=\"T_6a711cfc_c9f4_11eb_b60d_0242ac1c0002row5_col8\" class=\"data row5 col8\" >0.041930</td>\n",
              "            </tr>\n",
              "            <tr>\n",
              "                        <th id=\"T_6a711cfc_c9f4_11eb_b60d_0242ac1c0002level0_row6\" class=\"row_heading level0 row6\" >Travis Taniguchi</th>\n",
              "                        <td id=\"T_6a711cfc_c9f4_11eb_b60d_0242ac1c0002row6_col0\" class=\"data row6 col0\" >0.657895</td>\n",
              "                        <td id=\"T_6a711cfc_c9f4_11eb_b60d_0242ac1c0002row6_col1\" class=\"data row6 col1\" >0.289474</td>\n",
              "                        <td id=\"T_6a711cfc_c9f4_11eb_b60d_0242ac1c0002row6_col2\" class=\"data row6 col2\" >0.368421</td>\n",
              "                        <td id=\"T_6a711cfc_c9f4_11eb_b60d_0242ac1c0002row6_col3\" class=\"data row6 col3\" >0.184709</td>\n",
              "                        <td id=\"T_6a711cfc_c9f4_11eb_b60d_0242ac1c0002row6_col4\" class=\"data row6 col4\" >0.514662</td>\n",
              "                        <td id=\"T_6a711cfc_c9f4_11eb_b60d_0242ac1c0002row6_col5\" class=\"data row6 col5\" >0.012379</td>\n",
              "                        <td id=\"T_6a711cfc_c9f4_11eb_b60d_0242ac1c0002row6_col6\" class=\"data row6 col6\" >0.022590</td>\n",
              "                        <td id=\"T_6a711cfc_c9f4_11eb_b60d_0242ac1c0002row6_col7\" class=\"data row6 col7\" >0.045910</td>\n",
              "                        <td id=\"T_6a711cfc_c9f4_11eb_b60d_0242ac1c0002row6_col8\" class=\"data row6 col8\" >0.039996</td>\n",
              "            </tr>\n",
              "            <tr>\n",
              "                        <th id=\"T_6a711cfc_c9f4_11eb_b60d_0242ac1c0002level0_row7\" class=\"row_heading level0 row7\" >Jen Zeunik</th>\n",
              "                        <td id=\"T_6a711cfc_c9f4_11eb_b60d_0242ac1c0002row7_col0\" class=\"data row7 col0\" >0.657895</td>\n",
              "                        <td id=\"T_6a711cfc_c9f4_11eb_b60d_0242ac1c0002row7_col1\" class=\"data row7 col1\" >0.236842</td>\n",
              "                        <td id=\"T_6a711cfc_c9f4_11eb_b60d_0242ac1c0002row7_col2\" class=\"data row7 col2\" >0.421053</td>\n",
              "                        <td id=\"T_6a711cfc_c9f4_11eb_b60d_0242ac1c0002row7_col3\" class=\"data row7 col3\" >0.141555</td>\n",
              "                        <td id=\"T_6a711cfc_c9f4_11eb_b60d_0242ac1c0002row7_col4\" class=\"data row7 col4\" >0.514662</td>\n",
              "                        <td id=\"T_6a711cfc_c9f4_11eb_b60d_0242ac1c0002row7_col5\" class=\"data row7 col5\" >0.047773</td>\n",
              "                        <td id=\"T_6a711cfc_c9f4_11eb_b60d_0242ac1c0002row7_col6\" class=\"data row7 col6\" >0.023623</td>\n",
              "                        <td id=\"T_6a711cfc_c9f4_11eb_b60d_0242ac1c0002row7_col7\" class=\"data row7 col7\" >0.048517</td>\n",
              "                        <td id=\"T_6a711cfc_c9f4_11eb_b60d_0242ac1c0002row7_col8\" class=\"data row7 col8\" >0.025058</td>\n",
              "            </tr>\n",
              "            <tr>\n",
              "                        <th id=\"T_6a711cfc_c9f4_11eb_b60d_0242ac1c0002level0_row8\" class=\"row_heading level0 row8\" >Yukun Yang</th>\n",
              "                        <td id=\"T_6a711cfc_c9f4_11eb_b60d_0242ac1c0002row8_col0\" class=\"data row8 col0\" >0.657895</td>\n",
              "                        <td id=\"T_6a711cfc_c9f4_11eb_b60d_0242ac1c0002row8_col1\" class=\"data row8 col1\" >0.315789</td>\n",
              "                        <td id=\"T_6a711cfc_c9f4_11eb_b60d_0242ac1c0002row8_col2\" class=\"data row8 col2\" >0.342105</td>\n",
              "                        <td id=\"T_6a711cfc_c9f4_11eb_b60d_0242ac1c0002row8_col3\" class=\"data row8 col3\" >0.224413</td>\n",
              "                        <td id=\"T_6a711cfc_c9f4_11eb_b60d_0242ac1c0002row8_col4\" class=\"data row8 col4\" >0.554251</td>\n",
              "                        <td id=\"T_6a711cfc_c9f4_11eb_b60d_0242ac1c0002row8_col5\" class=\"data row8 col5\" >0.031757</td>\n",
              "                        <td id=\"T_6a711cfc_c9f4_11eb_b60d_0242ac1c0002row8_col6\" class=\"data row8 col6\" >0.035422</td>\n",
              "                        <td id=\"T_6a711cfc_c9f4_11eb_b60d_0242ac1c0002row8_col7\" class=\"data row8 col7\" >0.043741</td>\n",
              "                        <td id=\"T_6a711cfc_c9f4_11eb_b60d_0242ac1c0002row8_col8\" class=\"data row8 col8\" >0.038754</td>\n",
              "            </tr>\n",
              "            <tr>\n",
              "                        <th id=\"T_6a711cfc_c9f4_11eb_b60d_0242ac1c0002level0_row9\" class=\"row_heading level0 row9\" >Christine Johnson</th>\n",
              "                        <td id=\"T_6a711cfc_c9f4_11eb_b60d_0242ac1c0002row9_col0\" class=\"data row9 col0\" >0.605263</td>\n",
              "                        <td id=\"T_6a711cfc_c9f4_11eb_b60d_0242ac1c0002row9_col1\" class=\"data row9 col1\" >0.342105</td>\n",
              "                        <td id=\"T_6a711cfc_c9f4_11eb_b60d_0242ac1c0002row9_col2\" class=\"data row9 col2\" >0.263158</td>\n",
              "                        <td id=\"T_6a711cfc_c9f4_11eb_b60d_0242ac1c0002row9_col3\" class=\"data row9 col3\" >0.198412</td>\n",
              "                        <td id=\"T_6a711cfc_c9f4_11eb_b60d_0242ac1c0002row9_col4\" class=\"data row9 col4\" >0.590595</td>\n",
              "                        <td id=\"T_6a711cfc_c9f4_11eb_b60d_0242ac1c0002row9_col5\" class=\"data row9 col5\" >0.020793</td>\n",
              "                        <td id=\"T_6a711cfc_c9f4_11eb_b60d_0242ac1c0002row9_col6\" class=\"data row9 col6\" >0.030325</td>\n",
              "                        <td id=\"T_6a711cfc_c9f4_11eb_b60d_0242ac1c0002row9_col7\" class=\"data row9 col7\" >0.033973</td>\n",
              "                        <td id=\"T_6a711cfc_c9f4_11eb_b60d_0242ac1c0002row9_col8\" class=\"data row9 col8\" >0.041220</td>\n",
              "            </tr>\n",
              "            <tr>\n",
              "                        <th id=\"T_6a711cfc_c9f4_11eb_b60d_0242ac1c0002level0_row10\" class=\"row_heading level0 row10\" >Katherine Hoogesteyn</th>\n",
              "                        <td id=\"T_6a711cfc_c9f4_11eb_b60d_0242ac1c0002row10_col0\" class=\"data row10 col0\" >0.552632</td>\n",
              "                        <td id=\"T_6a711cfc_c9f4_11eb_b60d_0242ac1c0002row10_col1\" class=\"data row10 col1\" >0.210526</td>\n",
              "                        <td id=\"T_6a711cfc_c9f4_11eb_b60d_0242ac1c0002row10_col2\" class=\"data row10 col2\" >0.342105</td>\n",
              "                        <td id=\"T_6a711cfc_c9f4_11eb_b60d_0242ac1c0002row10_col3\" class=\"data row10 col3\" >0.153417</td>\n",
              "                        <td id=\"T_6a711cfc_c9f4_11eb_b60d_0242ac1c0002row10_col4\" class=\"data row10 col4\" >0.500365</td>\n",
              "                        <td id=\"T_6a711cfc_c9f4_11eb_b60d_0242ac1c0002row10_col5\" class=\"data row10 col5\" >0.022865</td>\n",
              "                        <td id=\"T_6a711cfc_c9f4_11eb_b60d_0242ac1c0002row10_col6\" class=\"data row10 col6\" >0.019142</td>\n",
              "                        <td id=\"T_6a711cfc_c9f4_11eb_b60d_0242ac1c0002row10_col7\" class=\"data row10 col7\" >0.041517</td>\n",
              "                        <td id=\"T_6a711cfc_c9f4_11eb_b60d_0242ac1c0002row10_col8\" class=\"data row10 col8\" >0.030626</td>\n",
              "            </tr>\n",
              "            <tr>\n",
              "                        <th id=\"T_6a711cfc_c9f4_11eb_b60d_0242ac1c0002level0_row11\" class=\"row_heading level0 row11\" >Erica Richardson</th>\n",
              "                        <td id=\"T_6a711cfc_c9f4_11eb_b60d_0242ac1c0002row11_col0\" class=\"data row11 col0\" >0.552632</td>\n",
              "                        <td id=\"T_6a711cfc_c9f4_11eb_b60d_0242ac1c0002row11_col1\" class=\"data row11 col1\" >0.368421</td>\n",
              "                        <td id=\"T_6a711cfc_c9f4_11eb_b60d_0242ac1c0002row11_col2\" class=\"data row11 col2\" >0.184211</td>\n",
              "                        <td id=\"T_6a711cfc_c9f4_11eb_b60d_0242ac1c0002row11_col3\" class=\"data row11 col3\" >0.222201</td>\n",
              "                        <td id=\"T_6a711cfc_c9f4_11eb_b60d_0242ac1c0002row11_col4\" class=\"data row11 col4\" >0.581070</td>\n",
              "                        <td id=\"T_6a711cfc_c9f4_11eb_b60d_0242ac1c0002row11_col5\" class=\"data row11 col5\" >0.034139</td>\n",
              "                        <td id=\"T_6a711cfc_c9f4_11eb_b60d_0242ac1c0002row11_col6\" class=\"data row11 col6\" >0.037893</td>\n",
              "                        <td id=\"T_6a711cfc_c9f4_11eb_b60d_0242ac1c0002row11_col7\" class=\"data row11 col7\" >0.023556</td>\n",
              "                        <td id=\"T_6a711cfc_c9f4_11eb_b60d_0242ac1c0002row11_col8\" class=\"data row11 col8\" >0.036741</td>\n",
              "            </tr>\n",
              "            <tr>\n",
              "                        <th id=\"T_6a711cfc_c9f4_11eb_b60d_0242ac1c0002level0_row12\" class=\"row_heading level0 row12\" >Jim Burch</th>\n",
              "                        <td id=\"T_6a711cfc_c9f4_11eb_b60d_0242ac1c0002row12_col0\" class=\"data row12 col0\" >0.552632</td>\n",
              "                        <td id=\"T_6a711cfc_c9f4_11eb_b60d_0242ac1c0002row12_col1\" class=\"data row12 col1\" >0.078947</td>\n",
              "                        <td id=\"T_6a711cfc_c9f4_11eb_b60d_0242ac1c0002row12_col2\" class=\"data row12 col2\" >0.473684</td>\n",
              "                        <td id=\"T_6a711cfc_c9f4_11eb_b60d_0242ac1c0002row12_col3\" class=\"data row12 col3\" >0.047823</td>\n",
              "                        <td id=\"T_6a711cfc_c9f4_11eb_b60d_0242ac1c0002row12_col4\" class=\"data row12 col4\" >0.456029</td>\n",
              "                        <td id=\"T_6a711cfc_c9f4_11eb_b60d_0242ac1c0002row12_col5\" class=\"data row12 col5\" >0.018782</td>\n",
              "                        <td id=\"T_6a711cfc_c9f4_11eb_b60d_0242ac1c0002row12_col6\" class=\"data row12 col6\" >0.010462</td>\n",
              "                        <td id=\"T_6a711cfc_c9f4_11eb_b60d_0242ac1c0002row12_col7\" class=\"data row12 col7\" >0.049100</td>\n",
              "                        <td id=\"T_6a711cfc_c9f4_11eb_b60d_0242ac1c0002row12_col8\" class=\"data row12 col8\" >0.007764</td>\n",
              "            </tr>\n",
              "            <tr>\n",
              "                        <th id=\"T_6a711cfc_c9f4_11eb_b60d_0242ac1c0002level0_row13\" class=\"row_heading level0 row13\" >Michael Lebron</th>\n",
              "                        <td id=\"T_6a711cfc_c9f4_11eb_b60d_0242ac1c0002row13_col0\" class=\"data row13 col0\" >0.526316</td>\n",
              "                        <td id=\"T_6a711cfc_c9f4_11eb_b60d_0242ac1c0002row13_col1\" class=\"data row13 col1\" >0.315789</td>\n",
              "                        <td id=\"T_6a711cfc_c9f4_11eb_b60d_0242ac1c0002row13_col2\" class=\"data row13 col2\" >0.210526</td>\n",
              "                        <td id=\"T_6a711cfc_c9f4_11eb_b60d_0242ac1c0002row13_col3\" class=\"data row13 col3\" >0.212379</td>\n",
              "                        <td id=\"T_6a711cfc_c9f4_11eb_b60d_0242ac1c0002row13_col4\" class=\"data row13 col4\" >0.571846</td>\n",
              "                        <td id=\"T_6a711cfc_c9f4_11eb_b60d_0242ac1c0002row13_col5\" class=\"data row13 col5\" >0.013552</td>\n",
              "                        <td id=\"T_6a711cfc_c9f4_11eb_b60d_0242ac1c0002row13_col6\" class=\"data row13 col6\" >0.028700</td>\n",
              "                        <td id=\"T_6a711cfc_c9f4_11eb_b60d_0242ac1c0002row13_col7\" class=\"data row13 col7\" >0.027078</td>\n",
              "                        <td id=\"T_6a711cfc_c9f4_11eb_b60d_0242ac1c0002row13_col8\" class=\"data row13 col8\" >0.041486</td>\n",
              "            </tr>\n",
              "            <tr>\n",
              "                        <th id=\"T_6a711cfc_c9f4_11eb_b60d_0242ac1c0002level0_row14\" class=\"row_heading level0 row14\" >Scarlett Ojeda Geldres</th>\n",
              "                        <td id=\"T_6a711cfc_c9f4_11eb_b60d_0242ac1c0002row14_col0\" class=\"data row14 col0\" >0.500000</td>\n",
              "                        <td id=\"T_6a711cfc_c9f4_11eb_b60d_0242ac1c0002row14_col1\" class=\"data row14 col1\" >0.210526</td>\n",
              "                        <td id=\"T_6a711cfc_c9f4_11eb_b60d_0242ac1c0002row14_col2\" class=\"data row14 col2\" >0.289474</td>\n",
              "                        <td id=\"T_6a711cfc_c9f4_11eb_b60d_0242ac1c0002row14_col3\" class=\"data row14 col3\" >0.124582</td>\n",
              "                        <td id=\"T_6a711cfc_c9f4_11eb_b60d_0242ac1c0002row14_col4\" class=\"data row14 col4\" >0.522121</td>\n",
              "                        <td id=\"T_6a711cfc_c9f4_11eb_b60d_0242ac1c0002row14_col5\" class=\"data row14 col5\" >0.038268</td>\n",
              "                        <td id=\"T_6a711cfc_c9f4_11eb_b60d_0242ac1c0002row14_col6\" class=\"data row14 col6\" >0.027959</td>\n",
              "                        <td id=\"T_6a711cfc_c9f4_11eb_b60d_0242ac1c0002row14_col7\" class=\"data row14 col7\" >0.025168</td>\n",
              "                        <td id=\"T_6a711cfc_c9f4_11eb_b60d_0242ac1c0002row14_col8\" class=\"data row14 col8\" >0.019353</td>\n",
              "            </tr>\n",
              "            <tr>\n",
              "                        <th id=\"T_6a711cfc_c9f4_11eb_b60d_0242ac1c0002level0_row15\" class=\"row_heading level0 row15\" >Brett Cowell</th>\n",
              "                        <td id=\"T_6a711cfc_c9f4_11eb_b60d_0242ac1c0002row15_col0\" class=\"data row15 col0\" >0.473684</td>\n",
              "                        <td id=\"T_6a711cfc_c9f4_11eb_b60d_0242ac1c0002row15_col1\" class=\"data row15 col1\" >0.263158</td>\n",
              "                        <td id=\"T_6a711cfc_c9f4_11eb_b60d_0242ac1c0002row15_col2\" class=\"data row15 col2\" >0.210526</td>\n",
              "                        <td id=\"T_6a711cfc_c9f4_11eb_b60d_0242ac1c0002row15_col3\" class=\"data row15 col3\" >0.125001</td>\n",
              "                        <td id=\"T_6a711cfc_c9f4_11eb_b60d_0242ac1c0002row15_col4\" class=\"data row15 col4\" >0.545853</td>\n",
              "                        <td id=\"T_6a711cfc_c9f4_11eb_b60d_0242ac1c0002row15_col5\" class=\"data row15 col5\" >0.019642</td>\n",
              "                        <td id=\"T_6a711cfc_c9f4_11eb_b60d_0242ac1c0002row15_col6\" class=\"data row15 col6\" >0.022474</td>\n",
              "                        <td id=\"T_6a711cfc_c9f4_11eb_b60d_0242ac1c0002row15_col7\" class=\"data row15 col7\" >0.027423</td>\n",
              "                        <td id=\"T_6a711cfc_c9f4_11eb_b60d_0242ac1c0002row15_col8\" class=\"data row15 col8\" >0.026593</td>\n",
              "            </tr>\n",
              "            <tr>\n",
              "                        <th id=\"T_6a711cfc_c9f4_11eb_b60d_0242ac1c0002level0_row16\" class=\"row_heading level0 row16\" >Travis Riddle</th>\n",
              "                        <td id=\"T_6a711cfc_c9f4_11eb_b60d_0242ac1c0002row16_col0\" class=\"data row16 col0\" >0.473684</td>\n",
              "                        <td id=\"T_6a711cfc_c9f4_11eb_b60d_0242ac1c0002row16_col1\" class=\"data row16 col1\" >0.289474</td>\n",
              "                        <td id=\"T_6a711cfc_c9f4_11eb_b60d_0242ac1c0002row16_col2\" class=\"data row16 col2\" >0.184211</td>\n",
              "                        <td id=\"T_6a711cfc_c9f4_11eb_b60d_0242ac1c0002row16_col3\" class=\"data row16 col3\" >0.183990</td>\n",
              "                        <td id=\"T_6a711cfc_c9f4_11eb_b60d_0242ac1c0002row16_col4\" class=\"data row16 col4\" >0.493511</td>\n",
              "                        <td id=\"T_6a711cfc_c9f4_11eb_b60d_0242ac1c0002row16_col5\" class=\"data row16 col5\" >0.004172</td>\n",
              "                        <td id=\"T_6a711cfc_c9f4_11eb_b60d_0242ac1c0002row16_col6\" class=\"data row16 col6\" >0.025353</td>\n",
              "                        <td id=\"T_6a711cfc_c9f4_11eb_b60d_0242ac1c0002row16_col7\" class=\"data row16 col7\" >0.024337</td>\n",
              "                        <td id=\"T_6a711cfc_c9f4_11eb_b60d_0242ac1c0002row16_col8\" class=\"data row16 col8\" >0.037802</td>\n",
              "            </tr>\n",
              "            <tr>\n",
              "                        <th id=\"T_6a711cfc_c9f4_11eb_b60d_0242ac1c0002level0_row17\" class=\"row_heading level0 row17\" >Heather Vovak</th>\n",
              "                        <td id=\"T_6a711cfc_c9f4_11eb_b60d_0242ac1c0002row17_col0\" class=\"data row17 col0\" >0.473684</td>\n",
              "                        <td id=\"T_6a711cfc_c9f4_11eb_b60d_0242ac1c0002row17_col1\" class=\"data row17 col1\" >0.184211</td>\n",
              "                        <td id=\"T_6a711cfc_c9f4_11eb_b60d_0242ac1c0002row17_col2\" class=\"data row17 col2\" >0.289474</td>\n",
              "                        <td id=\"T_6a711cfc_c9f4_11eb_b60d_0242ac1c0002row17_col3\" class=\"data row17 col3\" >0.153444</td>\n",
              "                        <td id=\"T_6a711cfc_c9f4_11eb_b60d_0242ac1c0002row17_col4\" class=\"data row17 col4\" >0.486842</td>\n",
              "                        <td id=\"T_6a711cfc_c9f4_11eb_b60d_0242ac1c0002row17_col5\" class=\"data row17 col5\" >0.005688</td>\n",
              "                        <td id=\"T_6a711cfc_c9f4_11eb_b60d_0242ac1c0002row17_col6\" class=\"data row17 col6\" >0.021030</td>\n",
              "                        <td id=\"T_6a711cfc_c9f4_11eb_b60d_0242ac1c0002row17_col7\" class=\"data row17 col7\" >0.040326</td>\n",
              "                        <td id=\"T_6a711cfc_c9f4_11eb_b60d_0242ac1c0002row17_col8\" class=\"data row17 col8\" >0.024427</td>\n",
              "            </tr>\n",
              "            <tr>\n",
              "                        <th id=\"T_6a711cfc_c9f4_11eb_b60d_0242ac1c0002level0_row18\" class=\"row_heading level0 row18\" >Kerry Yerico</th>\n",
              "                        <td id=\"T_6a711cfc_c9f4_11eb_b60d_0242ac1c0002row18_col0\" class=\"data row18 col0\" >0.447368</td>\n",
              "                        <td id=\"T_6a711cfc_c9f4_11eb_b60d_0242ac1c0002row18_col1\" class=\"data row18 col1\" >0.210526</td>\n",
              "                        <td id=\"T_6a711cfc_c9f4_11eb_b60d_0242ac1c0002row18_col2\" class=\"data row18 col2\" >0.236842</td>\n",
              "                        <td id=\"T_6a711cfc_c9f4_11eb_b60d_0242ac1c0002row18_col3\" class=\"data row18 col3\" >0.089520</td>\n",
              "                        <td id=\"T_6a711cfc_c9f4_11eb_b60d_0242ac1c0002row18_col4\" class=\"data row18 col4\" >0.461876</td>\n",
              "                        <td id=\"T_6a711cfc_c9f4_11eb_b60d_0242ac1c0002row18_col5\" class=\"data row18 col5\" >0.014706</td>\n",
              "                        <td id=\"T_6a711cfc_c9f4_11eb_b60d_0242ac1c0002row18_col6\" class=\"data row18 col6\" >0.021692</td>\n",
              "                        <td id=\"T_6a711cfc_c9f4_11eb_b60d_0242ac1c0002row18_col7\" class=\"data row18 col7\" >0.021973</td>\n",
              "                        <td id=\"T_6a711cfc_c9f4_11eb_b60d_0242ac1c0002row18_col8\" class=\"data row18 col8\" >0.021286</td>\n",
              "            </tr>\n",
              "            <tr>\n",
              "                        <th id=\"T_6a711cfc_c9f4_11eb_b60d_0242ac1c0002level0_row19\" class=\"row_heading level0 row19\" >Dominique Burton</th>\n",
              "                        <td id=\"T_6a711cfc_c9f4_11eb_b60d_0242ac1c0002row19_col0\" class=\"data row19 col0\" >0.421053</td>\n",
              "                        <td id=\"T_6a711cfc_c9f4_11eb_b60d_0242ac1c0002row19_col1\" class=\"data row19 col1\" >0.236842</td>\n",
              "                        <td id=\"T_6a711cfc_c9f4_11eb_b60d_0242ac1c0002row19_col2\" class=\"data row19 col2\" >0.184211</td>\n",
              "                        <td id=\"T_6a711cfc_c9f4_11eb_b60d_0242ac1c0002row19_col3\" class=\"data row19 col3\" >0.123919</td>\n",
              "                        <td id=\"T_6a711cfc_c9f4_11eb_b60d_0242ac1c0002row19_col4\" class=\"data row19 col4\" >0.507413</td>\n",
              "                        <td id=\"T_6a711cfc_c9f4_11eb_b60d_0242ac1c0002row19_col5\" class=\"data row19 col5\" >0.012343</td>\n",
              "                        <td id=\"T_6a711cfc_c9f4_11eb_b60d_0242ac1c0002row19_col6\" class=\"data row19 col6\" >0.022401</td>\n",
              "                        <td id=\"T_6a711cfc_c9f4_11eb_b60d_0242ac1c0002row19_col7\" class=\"data row19 col7\" >0.020342</td>\n",
              "                        <td id=\"T_6a711cfc_c9f4_11eb_b60d_0242ac1c0002row19_col8\" class=\"data row19 col8\" >0.026343</td>\n",
              "            </tr>\n",
              "            <tr>\n",
              "                        <th id=\"T_6a711cfc_c9f4_11eb_b60d_0242ac1c0002level0_row20\" class=\"row_heading level0 row20\" >Eiryn Renouard</th>\n",
              "                        <td id=\"T_6a711cfc_c9f4_11eb_b60d_0242ac1c0002row20_col0\" class=\"data row20 col0\" >0.421053</td>\n",
              "                        <td id=\"T_6a711cfc_c9f4_11eb_b60d_0242ac1c0002row20_col1\" class=\"data row20 col1\" >0.263158</td>\n",
              "                        <td id=\"T_6a711cfc_c9f4_11eb_b60d_0242ac1c0002row20_col2\" class=\"data row20 col2\" >0.157895</td>\n",
              "                        <td id=\"T_6a711cfc_c9f4_11eb_b60d_0242ac1c0002row20_col3\" class=\"data row20 col3\" >0.151667</td>\n",
              "                        <td id=\"T_6a711cfc_c9f4_11eb_b60d_0242ac1c0002row20_col4\" class=\"data row20 col4\" >0.537706</td>\n",
              "                        <td id=\"T_6a711cfc_c9f4_11eb_b60d_0242ac1c0002row20_col5\" class=\"data row20 col5\" >0.013855</td>\n",
              "                        <td id=\"T_6a711cfc_c9f4_11eb_b60d_0242ac1c0002row20_col6\" class=\"data row20 col6\" >0.023960</td>\n",
              "                        <td id=\"T_6a711cfc_c9f4_11eb_b60d_0242ac1c0002row20_col7\" class=\"data row20 col7\" >0.013768</td>\n",
              "                        <td id=\"T_6a711cfc_c9f4_11eb_b60d_0242ac1c0002row20_col8\" class=\"data row20 col8\" >0.030984</td>\n",
              "            </tr>\n",
              "            <tr>\n",
              "                        <th id=\"T_6a711cfc_c9f4_11eb_b60d_0242ac1c0002level0_row21\" class=\"row_heading level0 row21\" >Julia Kessler</th>\n",
              "                        <td id=\"T_6a711cfc_c9f4_11eb_b60d_0242ac1c0002row21_col0\" class=\"data row21 col0\" >0.394737</td>\n",
              "                        <td id=\"T_6a711cfc_c9f4_11eb_b60d_0242ac1c0002row21_col1\" class=\"data row21 col1\" >0.210526</td>\n",
              "                        <td id=\"T_6a711cfc_c9f4_11eb_b60d_0242ac1c0002row21_col2\" class=\"data row21 col2\" >0.184211</td>\n",
              "                        <td id=\"T_6a711cfc_c9f4_11eb_b60d_0242ac1c0002row21_col3\" class=\"data row21 col3\" >0.102520</td>\n",
              "                        <td id=\"T_6a711cfc_c9f4_11eb_b60d_0242ac1c0002row21_col4\" class=\"data row21 col4\" >0.514662</td>\n",
              "                        <td id=\"T_6a711cfc_c9f4_11eb_b60d_0242ac1c0002row21_col5\" class=\"data row21 col5\" >0.015279</td>\n",
              "                        <td id=\"T_6a711cfc_c9f4_11eb_b60d_0242ac1c0002row21_col6\" class=\"data row21 col6\" >0.023943</td>\n",
              "                        <td id=\"T_6a711cfc_c9f4_11eb_b60d_0242ac1c0002row21_col7\" class=\"data row21 col7\" >0.020398</td>\n",
              "                        <td id=\"T_6a711cfc_c9f4_11eb_b60d_0242ac1c0002row21_col8\" class=\"data row21 col8\" >0.020094</td>\n",
              "            </tr>\n",
              "            <tr>\n",
              "                        <th id=\"T_6a711cfc_c9f4_11eb_b60d_0242ac1c0002level0_row22\" class=\"row_heading level0 row22\" >Danielle Parsons</th>\n",
              "                        <td id=\"T_6a711cfc_c9f4_11eb_b60d_0242ac1c0002row22_col0\" class=\"data row22 col0\" >0.394737</td>\n",
              "                        <td id=\"T_6a711cfc_c9f4_11eb_b60d_0242ac1c0002row22_col1\" class=\"data row22 col1\" >0.263158</td>\n",
              "                        <td id=\"T_6a711cfc_c9f4_11eb_b60d_0242ac1c0002row22_col2\" class=\"data row22 col2\" >0.131579</td>\n",
              "                        <td id=\"T_6a711cfc_c9f4_11eb_b60d_0242ac1c0002row22_col3\" class=\"data row22 col3\" >0.134657</td>\n",
              "                        <td id=\"T_6a711cfc_c9f4_11eb_b60d_0242ac1c0002row22_col4\" class=\"data row22 col4\" >0.554251</td>\n",
              "                        <td id=\"T_6a711cfc_c9f4_11eb_b60d_0242ac1c0002row22_col5\" class=\"data row22 col5\" >0.018267</td>\n",
              "                        <td id=\"T_6a711cfc_c9f4_11eb_b60d_0242ac1c0002row22_col6\" class=\"data row22 col6\" >0.031661</td>\n",
              "                        <td id=\"T_6a711cfc_c9f4_11eb_b60d_0242ac1c0002row22_col7\" class=\"data row22 col7\" >0.009359</td>\n",
              "                        <td id=\"T_6a711cfc_c9f4_11eb_b60d_0242ac1c0002row22_col8\" class=\"data row22 col8\" >0.020598</td>\n",
              "            </tr>\n",
              "            <tr>\n",
              "                        <th id=\"T_6a711cfc_c9f4_11eb_b60d_0242ac1c0002level0_row23\" class=\"row_heading level0 row23\" >Lorena Singer</th>\n",
              "                        <td id=\"T_6a711cfc_c9f4_11eb_b60d_0242ac1c0002row23_col0\" class=\"data row23 col0\" >0.394737</td>\n",
              "                        <td id=\"T_6a711cfc_c9f4_11eb_b60d_0242ac1c0002row23_col1\" class=\"data row23 col1\" >0.157895</td>\n",
              "                        <td id=\"T_6a711cfc_c9f4_11eb_b60d_0242ac1c0002row23_col2\" class=\"data row23 col2\" >0.236842</td>\n",
              "                        <td id=\"T_6a711cfc_c9f4_11eb_b60d_0242ac1c0002row23_col3\" class=\"data row23 col3\" >0.057137</td>\n",
              "                        <td id=\"T_6a711cfc_c9f4_11eb_b60d_0242ac1c0002row23_col4\" class=\"data row23 col4\" >0.434052</td>\n",
              "                        <td id=\"T_6a711cfc_c9f4_11eb_b60d_0242ac1c0002row23_col5\" class=\"data row23 col5\" >0.014666</td>\n",
              "                        <td id=\"T_6a711cfc_c9f4_11eb_b60d_0242ac1c0002row23_col6\" class=\"data row23 col6\" >0.022862</td>\n",
              "                        <td id=\"T_6a711cfc_c9f4_11eb_b60d_0242ac1c0002row23_col7\" class=\"data row23 col7\" >0.022577</td>\n",
              "                        <td id=\"T_6a711cfc_c9f4_11eb_b60d_0242ac1c0002row23_col8\" class=\"data row23 col8\" >0.008497</td>\n",
              "            </tr>\n",
              "            <tr>\n",
              "                        <th id=\"T_6a711cfc_c9f4_11eb_b60d_0242ac1c0002level0_row24\" class=\"row_heading level0 row24\" >Trenay Wren-Evans</th>\n",
              "                        <td id=\"T_6a711cfc_c9f4_11eb_b60d_0242ac1c0002row24_col0\" class=\"data row24 col0\" >0.368421</td>\n",
              "                        <td id=\"T_6a711cfc_c9f4_11eb_b60d_0242ac1c0002row24_col1\" class=\"data row24 col1\" >0.184211</td>\n",
              "                        <td id=\"T_6a711cfc_c9f4_11eb_b60d_0242ac1c0002row24_col2\" class=\"data row24 col2\" >0.184211</td>\n",
              "                        <td id=\"T_6a711cfc_c9f4_11eb_b60d_0242ac1c0002row24_col3\" class=\"data row24 col3\" >0.121577</td>\n",
              "                        <td id=\"T_6a711cfc_c9f4_11eb_b60d_0242ac1c0002row24_col4\" class=\"data row24 col4\" >0.500365</td>\n",
              "                        <td id=\"T_6a711cfc_c9f4_11eb_b60d_0242ac1c0002row24_col5\" class=\"data row24 col5\" >0.003190</td>\n",
              "                        <td id=\"T_6a711cfc_c9f4_11eb_b60d_0242ac1c0002row24_col6\" class=\"data row24 col6\" >0.017296</td>\n",
              "                        <td id=\"T_6a711cfc_c9f4_11eb_b60d_0242ac1c0002row24_col7\" class=\"data row24 col7\" >0.025715</td>\n",
              "                        <td id=\"T_6a711cfc_c9f4_11eb_b60d_0242ac1c0002row24_col8\" class=\"data row24 col8\" >0.023697</td>\n",
              "            </tr>\n",
              "            <tr>\n",
              "                        <th id=\"T_6a711cfc_c9f4_11eb_b60d_0242ac1c0002level0_row25\" class=\"row_heading level0 row25\" >Rick Haake</th>\n",
              "                        <td id=\"T_6a711cfc_c9f4_11eb_b60d_0242ac1c0002row25_col0\" class=\"data row25 col0\" >0.315789</td>\n",
              "                        <td id=\"T_6a711cfc_c9f4_11eb_b60d_0242ac1c0002row25_col1\" class=\"data row25 col1\" >0.157895</td>\n",
              "                        <td id=\"T_6a711cfc_c9f4_11eb_b60d_0242ac1c0002row25_col2\" class=\"data row25 col2\" >0.157895</td>\n",
              "                        <td id=\"T_6a711cfc_c9f4_11eb_b60d_0242ac1c0002row25_col3\" class=\"data row25 col3\" >0.069403</td>\n",
              "                        <td id=\"T_6a711cfc_c9f4_11eb_b60d_0242ac1c0002row25_col4\" class=\"data row25 col4\" >0.439345</td>\n",
              "                        <td id=\"T_6a711cfc_c9f4_11eb_b60d_0242ac1c0002row25_col5\" class=\"data row25 col5\" >0.002795</td>\n",
              "                        <td id=\"T_6a711cfc_c9f4_11eb_b60d_0242ac1c0002row25_col6\" class=\"data row25 col6\" >0.018797</td>\n",
              "                        <td id=\"T_6a711cfc_c9f4_11eb_b60d_0242ac1c0002row25_col7\" class=\"data row25 col7\" >0.013891</td>\n",
              "                        <td id=\"T_6a711cfc_c9f4_11eb_b60d_0242ac1c0002row25_col8\" class=\"data row25 col8\" >0.012618</td>\n",
              "            </tr>\n",
              "            <tr>\n",
              "                        <th id=\"T_6a711cfc_c9f4_11eb_b60d_0242ac1c0002level0_row26\" class=\"row_heading level0 row26\" >Mary Kate Murphy</th>\n",
              "                        <td id=\"T_6a711cfc_c9f4_11eb_b60d_0242ac1c0002row26_col0\" class=\"data row26 col0\" >0.315789</td>\n",
              "                        <td id=\"T_6a711cfc_c9f4_11eb_b60d_0242ac1c0002row26_col1\" class=\"data row26 col1\" >0.236842</td>\n",
              "                        <td id=\"T_6a711cfc_c9f4_11eb_b60d_0242ac1c0002row26_col2\" class=\"data row26 col2\" >0.078947</td>\n",
              "                        <td id=\"T_6a711cfc_c9f4_11eb_b60d_0242ac1c0002row26_col3\" class=\"data row26 col3\" >0.154648</td>\n",
              "                        <td id=\"T_6a711cfc_c9f4_11eb_b60d_0242ac1c0002row26_col4\" class=\"data row26 col4\" >0.529799</td>\n",
              "                        <td id=\"T_6a711cfc_c9f4_11eb_b60d_0242ac1c0002row26_col5\" class=\"data row26 col5\" >0.017783</td>\n",
              "                        <td id=\"T_6a711cfc_c9f4_11eb_b60d_0242ac1c0002row26_col6\" class=\"data row26 col6\" >0.022328</td>\n",
              "                        <td id=\"T_6a711cfc_c9f4_11eb_b60d_0242ac1c0002row26_col7\" class=\"data row26 col7\" >0.005176</td>\n",
              "                        <td id=\"T_6a711cfc_c9f4_11eb_b60d_0242ac1c0002row26_col8\" class=\"data row26 col8\" >0.028217</td>\n",
              "            </tr>\n",
              "            <tr>\n",
              "                        <th id=\"T_6a711cfc_c9f4_11eb_b60d_0242ac1c0002level0_row27\" class=\"row_heading level0 row27\" >Garrett Johnson</th>\n",
              "                        <td id=\"T_6a711cfc_c9f4_11eb_b60d_0242ac1c0002row27_col0\" class=\"data row27 col0\" >0.289474</td>\n",
              "                        <td id=\"T_6a711cfc_c9f4_11eb_b60d_0242ac1c0002row27_col1\" class=\"data row27 col1\" >0.184211</td>\n",
              "                        <td id=\"T_6a711cfc_c9f4_11eb_b60d_0242ac1c0002row27_col2\" class=\"data row27 col2\" >0.105263</td>\n",
              "                        <td id=\"T_6a711cfc_c9f4_11eb_b60d_0242ac1c0002row27_col3\" class=\"data row27 col3\" >0.073096</td>\n",
              "                        <td id=\"T_6a711cfc_c9f4_11eb_b60d_0242ac1c0002row27_col4\" class=\"data row27 col4\" >0.474030</td>\n",
              "                        <td id=\"T_6a711cfc_c9f4_11eb_b60d_0242ac1c0002row27_col5\" class=\"data row27 col5\" >0.001960</td>\n",
              "                        <td id=\"T_6a711cfc_c9f4_11eb_b60d_0242ac1c0002row27_col6\" class=\"data row27 col6\" >0.024840</td>\n",
              "                        <td id=\"T_6a711cfc_c9f4_11eb_b60d_0242ac1c0002row27_col7\" class=\"data row27 col7\" >0.008433</td>\n",
              "                        <td id=\"T_6a711cfc_c9f4_11eb_b60d_0242ac1c0002row27_col8\" class=\"data row27 col8\" >0.012304</td>\n",
              "            </tr>\n",
              "            <tr>\n",
              "                        <th id=\"T_6a711cfc_c9f4_11eb_b60d_0242ac1c0002level0_row28\" class=\"row_heading level0 row28\" >Sarah Vanselow</th>\n",
              "                        <td id=\"T_6a711cfc_c9f4_11eb_b60d_0242ac1c0002row28_col0\" class=\"data row28 col0\" >0.289474</td>\n",
              "                        <td id=\"T_6a711cfc_c9f4_11eb_b60d_0242ac1c0002row28_col1\" class=\"data row28 col1\" >0.184211</td>\n",
              "                        <td id=\"T_6a711cfc_c9f4_11eb_b60d_0242ac1c0002row28_col2\" class=\"data row28 col2\" >0.105263</td>\n",
              "                        <td id=\"T_6a711cfc_c9f4_11eb_b60d_0242ac1c0002row28_col3\" class=\"data row28 col3\" >0.084445</td>\n",
              "                        <td id=\"T_6a711cfc_c9f4_11eb_b60d_0242ac1c0002row28_col4\" class=\"data row28 col4\" >0.467874</td>\n",
              "                        <td id=\"T_6a711cfc_c9f4_11eb_b60d_0242ac1c0002row28_col5\" class=\"data row28 col5\" >0.002659</td>\n",
              "                        <td id=\"T_6a711cfc_c9f4_11eb_b60d_0242ac1c0002row28_col6\" class=\"data row28 col6\" >0.025144</td>\n",
              "                        <td id=\"T_6a711cfc_c9f4_11eb_b60d_0242ac1c0002row28_col7\" class=\"data row28 col7\" >0.010275</td>\n",
              "                        <td id=\"T_6a711cfc_c9f4_11eb_b60d_0242ac1c0002row28_col8\" class=\"data row28 col8\" >0.012848</td>\n",
              "            </tr>\n",
              "            <tr>\n",
              "                        <th id=\"T_6a711cfc_c9f4_11eb_b60d_0242ac1c0002level0_row29\" class=\"row_heading level0 row29\" >Amanda Burstein</th>\n",
              "                        <td id=\"T_6a711cfc_c9f4_11eb_b60d_0242ac1c0002row29_col0\" class=\"data row29 col0\" >0.289474</td>\n",
              "                        <td id=\"T_6a711cfc_c9f4_11eb_b60d_0242ac1c0002row29_col1\" class=\"data row29 col1\" >0.026316</td>\n",
              "                        <td id=\"T_6a711cfc_c9f4_11eb_b60d_0242ac1c0002row29_col2\" class=\"data row29 col2\" >0.263158</td>\n",
              "                        <td id=\"T_6a711cfc_c9f4_11eb_b60d_0242ac1c0002row29_col3\" class=\"data row29 col3\" >0.025679</td>\n",
              "                        <td id=\"T_6a711cfc_c9f4_11eb_b60d_0242ac1c0002row29_col4\" class=\"data row29 col4\" >0.395894</td>\n",
              "                        <td id=\"T_6a711cfc_c9f4_11eb_b60d_0242ac1c0002row29_col5\" class=\"data row29 col5\" >0.001502</td>\n",
              "                        <td id=\"T_6a711cfc_c9f4_11eb_b60d_0242ac1c0002row29_col6\" class=\"data row29 col6\" >0.006725</td>\n",
              "                        <td id=\"T_6a711cfc_c9f4_11eb_b60d_0242ac1c0002row29_col7\" class=\"data row29 col7\" >0.024412</td>\n",
              "                        <td id=\"T_6a711cfc_c9f4_11eb_b60d_0242ac1c0002row29_col8\" class=\"data row29 col8\" >0.002878</td>\n",
              "            </tr>\n",
              "            <tr>\n",
              "                        <th id=\"T_6a711cfc_c9f4_11eb_b60d_0242ac1c0002level0_row30\" class=\"row_heading level0 row30\" >Elizabeth Fontaine</th>\n",
              "                        <td id=\"T_6a711cfc_c9f4_11eb_b60d_0242ac1c0002row30_col0\" class=\"data row30 col0\" >0.263158</td>\n",
              "                        <td id=\"T_6a711cfc_c9f4_11eb_b60d_0242ac1c0002row30_col1\" class=\"data row30 col1\" >0.105263</td>\n",
              "                        <td id=\"T_6a711cfc_c9f4_11eb_b60d_0242ac1c0002row30_col2\" class=\"data row30 col2\" >0.157895</td>\n",
              "                        <td id=\"T_6a711cfc_c9f4_11eb_b60d_0242ac1c0002row30_col3\" class=\"data row30 col3\" >0.065471</td>\n",
              "                        <td id=\"T_6a711cfc_c9f4_11eb_b60d_0242ac1c0002row30_col4\" class=\"data row30 col4\" >0.467874</td>\n",
              "                        <td id=\"T_6a711cfc_c9f4_11eb_b60d_0242ac1c0002row30_col5\" class=\"data row30 col5\" >0.002561</td>\n",
              "                        <td id=\"T_6a711cfc_c9f4_11eb_b60d_0242ac1c0002row30_col6\" class=\"data row30 col6\" >0.009655</td>\n",
              "                        <td id=\"T_6a711cfc_c9f4_11eb_b60d_0242ac1c0002row30_col7\" class=\"data row30 col7\" >0.016370</td>\n",
              "                        <td id=\"T_6a711cfc_c9f4_11eb_b60d_0242ac1c0002row30_col8\" class=\"data row30 col8\" >0.017017</td>\n",
              "            </tr>\n",
              "            <tr>\n",
              "                        <th id=\"T_6a711cfc_c9f4_11eb_b60d_0242ac1c0002level0_row31\" class=\"row_heading level0 row31\" >Brianna Sclafani</th>\n",
              "                        <td id=\"T_6a711cfc_c9f4_11eb_b60d_0242ac1c0002row31_col0\" class=\"data row31 col0\" >0.263158</td>\n",
              "                        <td id=\"T_6a711cfc_c9f4_11eb_b60d_0242ac1c0002row31_col1\" class=\"data row31 col1\" >0.157895</td>\n",
              "                        <td id=\"T_6a711cfc_c9f4_11eb_b60d_0242ac1c0002row31_col2\" class=\"data row31 col2\" >0.105263</td>\n",
              "                        <td id=\"T_6a711cfc_c9f4_11eb_b60d_0242ac1c0002row31_col3\" class=\"data row31 col3\" >0.089304</td>\n",
              "                        <td id=\"T_6a711cfc_c9f4_11eb_b60d_0242ac1c0002row31_col4\" class=\"data row31 col4\" >0.514662</td>\n",
              "                        <td id=\"T_6a711cfc_c9f4_11eb_b60d_0242ac1c0002row31_col5\" class=\"data row31 col5\" >0.004151</td>\n",
              "                        <td id=\"T_6a711cfc_c9f4_11eb_b60d_0242ac1c0002row31_col6\" class=\"data row31 col6\" >0.016508</td>\n",
              "                        <td id=\"T_6a711cfc_c9f4_11eb_b60d_0242ac1c0002row31_col7\" class=\"data row31 col7\" >0.016395</td>\n",
              "                        <td id=\"T_6a711cfc_c9f4_11eb_b60d_0242ac1c0002row31_col8\" class=\"data row31 col8\" >0.016624</td>\n",
              "            </tr>\n",
              "            <tr>\n",
              "                        <th id=\"T_6a711cfc_c9f4_11eb_b60d_0242ac1c0002level0_row32\" class=\"row_heading level0 row32\" >Jane Mott-Palmer</th>\n",
              "                        <td id=\"T_6a711cfc_c9f4_11eb_b60d_0242ac1c0002row32_col0\" class=\"data row32 col0\" >0.236842</td>\n",
              "                        <td id=\"T_6a711cfc_c9f4_11eb_b60d_0242ac1c0002row32_col1\" class=\"data row32 col1\" >0.131579</td>\n",
              "                        <td id=\"T_6a711cfc_c9f4_11eb_b60d_0242ac1c0002row32_col2\" class=\"data row32 col2\" >0.105263</td>\n",
              "                        <td id=\"T_6a711cfc_c9f4_11eb_b60d_0242ac1c0002row32_col3\" class=\"data row32 col3\" >0.054949</td>\n",
              "                        <td id=\"T_6a711cfc_c9f4_11eb_b60d_0242ac1c0002row32_col4\" class=\"data row32 col4\" >0.474030</td>\n",
              "                        <td id=\"T_6a711cfc_c9f4_11eb_b60d_0242ac1c0002row32_col5\" class=\"data row32 col5\" >0.001476</td>\n",
              "                        <td id=\"T_6a711cfc_c9f4_11eb_b60d_0242ac1c0002row32_col6\" class=\"data row32 col6\" >0.013979</td>\n",
              "                        <td id=\"T_6a711cfc_c9f4_11eb_b60d_0242ac1c0002row32_col7\" class=\"data row32 col7\" >0.010512</td>\n",
              "                        <td id=\"T_6a711cfc_c9f4_11eb_b60d_0242ac1c0002row32_col8\" class=\"data row32 col8\" >0.013464</td>\n",
              "            </tr>\n",
              "            <tr>\n",
              "                        <th id=\"T_6a711cfc_c9f4_11eb_b60d_0242ac1c0002level0_row33\" class=\"row_heading level0 row33\" >Frank Straub</th>\n",
              "                        <td id=\"T_6a711cfc_c9f4_11eb_b60d_0242ac1c0002row33_col0\" class=\"data row33 col0\" >0.210526</td>\n",
              "                        <td id=\"T_6a711cfc_c9f4_11eb_b60d_0242ac1c0002row33_col1\" class=\"data row33 col1\" >0.078947</td>\n",
              "                        <td id=\"T_6a711cfc_c9f4_11eb_b60d_0242ac1c0002row33_col2\" class=\"data row33 col2\" >0.131579</td>\n",
              "                        <td id=\"T_6a711cfc_c9f4_11eb_b60d_0242ac1c0002row33_col3\" class=\"data row33 col3\" >0.035455</td>\n",
              "                        <td id=\"T_6a711cfc_c9f4_11eb_b60d_0242ac1c0002row33_col4\" class=\"data row33 col4\" >0.414096</td>\n",
              "                        <td id=\"T_6a711cfc_c9f4_11eb_b60d_0242ac1c0002row33_col5\" class=\"data row33 col5\" >0.003626</td>\n",
              "                        <td id=\"T_6a711cfc_c9f4_11eb_b60d_0242ac1c0002row33_col6\" class=\"data row33 col6\" >0.012815</td>\n",
              "                        <td id=\"T_6a711cfc_c9f4_11eb_b60d_0242ac1c0002row33_col7\" class=\"data row33 col7\" >0.019801</td>\n",
              "                        <td id=\"T_6a711cfc_c9f4_11eb_b60d_0242ac1c0002row33_col8\" class=\"data row33 col8\" >0.004668</td>\n",
              "            </tr>\n",
              "            <tr>\n",
              "                        <th id=\"T_6a711cfc_c9f4_11eb_b60d_0242ac1c0002level0_row34\" class=\"row_heading level0 row34\" >Danielle Boekankamp</th>\n",
              "                        <td id=\"T_6a711cfc_c9f4_11eb_b60d_0242ac1c0002row34_col0\" class=\"data row34 col0\" >0.184211</td>\n",
              "                        <td id=\"T_6a711cfc_c9f4_11eb_b60d_0242ac1c0002row34_col1\" class=\"data row34 col1\" >0.157895</td>\n",
              "                        <td id=\"T_6a711cfc_c9f4_11eb_b60d_0242ac1c0002row34_col2\" class=\"data row34 col2\" >0.026316</td>\n",
              "                        <td id=\"T_6a711cfc_c9f4_11eb_b60d_0242ac1c0002row34_col3\" class=\"data row34 col3\" >0.089036</td>\n",
              "                        <td id=\"T_6a711cfc_c9f4_11eb_b60d_0242ac1c0002row34_col4\" class=\"data row34 col4\" >0.457831</td>\n",
              "                        <td id=\"T_6a711cfc_c9f4_11eb_b60d_0242ac1c0002row34_col5\" class=\"data row34 col5\" >0.000000</td>\n",
              "                        <td id=\"T_6a711cfc_c9f4_11eb_b60d_0242ac1c0002row34_col6\" class=\"data row34 col6\" >0.083526</td>\n",
              "                        <td id=\"T_6a711cfc_c9f4_11eb_b60d_0242ac1c0002row34_col7\" class=\"data row34 col7\" >0.001474</td>\n",
              "                        <td id=\"T_6a711cfc_c9f4_11eb_b60d_0242ac1c0002row34_col8\" class=\"data row34 col8\" >0.018099</td>\n",
              "            </tr>\n",
              "            <tr>\n",
              "                        <th id=\"T_6a711cfc_c9f4_11eb_b60d_0242ac1c0002level0_row35\" class=\"row_heading level0 row35\" >Fern Hernberg</th>\n",
              "                        <td id=\"T_6a711cfc_c9f4_11eb_b60d_0242ac1c0002row35_col0\" class=\"data row35 col0\" >0.184211</td>\n",
              "                        <td id=\"T_6a711cfc_c9f4_11eb_b60d_0242ac1c0002row35_col1\" class=\"data row35 col1\" >0.078947</td>\n",
              "                        <td id=\"T_6a711cfc_c9f4_11eb_b60d_0242ac1c0002row35_col2\" class=\"data row35 col2\" >0.105263</td>\n",
              "                        <td id=\"T_6a711cfc_c9f4_11eb_b60d_0242ac1c0002row35_col3\" class=\"data row35 col3\" >0.030660</td>\n",
              "                        <td id=\"T_6a711cfc_c9f4_11eb_b60d_0242ac1c0002row35_col4\" class=\"data row35 col4\" >0.387380</td>\n",
              "                        <td id=\"T_6a711cfc_c9f4_11eb_b60d_0242ac1c0002row35_col5\" class=\"data row35 col5\" >0.003572</td>\n",
              "                        <td id=\"T_6a711cfc_c9f4_11eb_b60d_0242ac1c0002row35_col6\" class=\"data row35 col6\" >0.007752</td>\n",
              "                        <td id=\"T_6a711cfc_c9f4_11eb_b60d_0242ac1c0002row35_col7\" class=\"data row35 col7\" >0.009036</td>\n",
              "                        <td id=\"T_6a711cfc_c9f4_11eb_b60d_0242ac1c0002row35_col8\" class=\"data row35 col8\" >0.010210</td>\n",
              "            </tr>\n",
              "            <tr>\n",
              "                        <th id=\"T_6a711cfc_c9f4_11eb_b60d_0242ac1c0002level0_row36\" class=\"row_heading level0 row36\" >Tamara Martin</th>\n",
              "                        <td id=\"T_6a711cfc_c9f4_11eb_b60d_0242ac1c0002row36_col0\" class=\"data row36 col0\" >0.184211</td>\n",
              "                        <td id=\"T_6a711cfc_c9f4_11eb_b60d_0242ac1c0002row36_col1\" class=\"data row36 col1\" >0.026316</td>\n",
              "                        <td id=\"T_6a711cfc_c9f4_11eb_b60d_0242ac1c0002row36_col2\" class=\"data row36 col2\" >0.157895</td>\n",
              "                        <td id=\"T_6a711cfc_c9f4_11eb_b60d_0242ac1c0002row36_col3\" class=\"data row36 col3\" >0.025679</td>\n",
              "                        <td id=\"T_6a711cfc_c9f4_11eb_b60d_0242ac1c0002row36_col4\" class=\"data row36 col4\" >0.391590</td>\n",
              "                        <td id=\"T_6a711cfc_c9f4_11eb_b60d_0242ac1c0002row36_col5\" class=\"data row36 col5\" >0.000598</td>\n",
              "                        <td id=\"T_6a711cfc_c9f4_11eb_b60d_0242ac1c0002row36_col6\" class=\"data row36 col6\" >0.006725</td>\n",
              "                        <td id=\"T_6a711cfc_c9f4_11eb_b60d_0242ac1c0002row36_col7\" class=\"data row36 col7\" >0.018841</td>\n",
              "                        <td id=\"T_6a711cfc_c9f4_11eb_b60d_0242ac1c0002row36_col8\" class=\"data row36 col8\" >0.002878</td>\n",
              "            </tr>\n",
              "            <tr>\n",
              "                        <th id=\"T_6a711cfc_c9f4_11eb_b60d_0242ac1c0002level0_row37\" class=\"row_heading level0 row37\" >Rebecca Benson</th>\n",
              "                        <td id=\"T_6a711cfc_c9f4_11eb_b60d_0242ac1c0002row37_col0\" class=\"data row37 col0\" >0.184211</td>\n",
              "                        <td id=\"T_6a711cfc_c9f4_11eb_b60d_0242ac1c0002row37_col1\" class=\"data row37 col1\" >0.078947</td>\n",
              "                        <td id=\"T_6a711cfc_c9f4_11eb_b60d_0242ac1c0002row37_col2\" class=\"data row37 col2\" >0.105263</td>\n",
              "                        <td id=\"T_6a711cfc_c9f4_11eb_b60d_0242ac1c0002row37_col3\" class=\"data row37 col3\" >0.030768</td>\n",
              "                        <td id=\"T_6a711cfc_c9f4_11eb_b60d_0242ac1c0002row37_col4\" class=\"data row37 col4\" >0.371405</td>\n",
              "                        <td id=\"T_6a711cfc_c9f4_11eb_b60d_0242ac1c0002row37_col5\" class=\"data row37 col5\" >0.001761</td>\n",
              "                        <td id=\"T_6a711cfc_c9f4_11eb_b60d_0242ac1c0002row37_col6\" class=\"data row37 col6\" >0.014511</td>\n",
              "                        <td id=\"T_6a711cfc_c9f4_11eb_b60d_0242ac1c0002row37_col7\" class=\"data row37 col7\" >0.007987</td>\n",
              "                        <td id=\"T_6a711cfc_c9f4_11eb_b60d_0242ac1c0002row37_col8\" class=\"data row37 col8\" >0.005439</td>\n",
              "            </tr>\n",
              "            <tr>\n",
              "                        <th id=\"T_6a711cfc_c9f4_11eb_b60d_0242ac1c0002level0_row38\" class=\"row_heading level0 row38\" >Virgil Young</th>\n",
              "                        <td id=\"T_6a711cfc_c9f4_11eb_b60d_0242ac1c0002row38_col0\" class=\"data row38 col0\" >0.131579</td>\n",
              "                        <td id=\"T_6a711cfc_c9f4_11eb_b60d_0242ac1c0002row38_col1\" class=\"data row38 col1\" >0.000000</td>\n",
              "                        <td id=\"T_6a711cfc_c9f4_11eb_b60d_0242ac1c0002row38_col2\" class=\"data row38 col2\" >0.131579</td>\n",
              "                        <td id=\"T_6a711cfc_c9f4_11eb_b60d_0242ac1c0002row38_col3\" class=\"data row38 col3\" >0.000000</td>\n",
              "                        <td id=\"T_6a711cfc_c9f4_11eb_b60d_0242ac1c0002row38_col4\" class=\"data row38 col4\" >0.000000</td>\n",
              "                        <td id=\"T_6a711cfc_c9f4_11eb_b60d_0242ac1c0002row38_col5\" class=\"data row38 col5\" >0.000000</td>\n",
              "                        <td id=\"T_6a711cfc_c9f4_11eb_b60d_0242ac1c0002row38_col6\" class=\"data row38 col6\" >0.003846</td>\n",
              "                        <td id=\"T_6a711cfc_c9f4_11eb_b60d_0242ac1c0002row38_col7\" class=\"data row38 col7\" >0.009461</td>\n",
              "                        <td id=\"T_6a711cfc_c9f4_11eb_b60d_0242ac1c0002row38_col8\" class=\"data row38 col8\" >0.000000</td>\n",
              "            </tr>\n",
              "    </tbody></table>"
            ],
            "text/plain": [
              "<pandas.io.formats.style.Styler at 0x7fa8793c2550>"
            ]
          },
          "metadata": {
            "tags": []
          },
          "execution_count": 63
        }
      ]
    },
    {
      "cell_type": "code",
      "metadata": {
        "colab": {
          "base_uri": "https://localhost:8080/",
          "height": 542
        },
        "id": "2tabk7bWUTX4",
        "outputId": "05606bf5-b09d-4934-d21f-9bed4ff25ae4"
      },
      "source": [
        "px.imshow(all_node_metrics.corr(method='spearman'), color_continuous_scale=px.colors.diverging.RdBu)"
      ],
      "execution_count": null,
      "outputs": [
        {
          "output_type": "display_data",
          "data": {
            "text/html": [
              "<html>\n",
              "<head><meta charset=\"utf-8\" /></head>\n",
              "<body>\n",
              "    <div>            <script src=\"https://cdnjs.cloudflare.com/ajax/libs/mathjax/2.7.5/MathJax.js?config=TeX-AMS-MML_SVG\"></script><script type=\"text/javascript\">if (window.MathJax) {MathJax.Hub.Config({SVG: {font: \"STIX-Web\"}});}</script>                <script type=\"text/javascript\">window.PlotlyConfig = {MathJaxConfig: 'local'};</script>\n",
              "        <script src=\"https://cdn.plot.ly/plotly-latest.min.js\"></script>                <div id=\"f4a95e1a-9a45-4338-82f3-3ffc9ea364e8\" class=\"plotly-graph-div\" style=\"height:525px; width:100%;\"></div>            <script type=\"text/javascript\">                                    window.PLOTLYENV=window.PLOTLYENV || {};                                    if (document.getElementById(\"f4a95e1a-9a45-4338-82f3-3ffc9ea364e8\")) {                    Plotly.newPlot(                        \"f4a95e1a-9a45-4338-82f3-3ffc9ea364e8\",                        [{\"coloraxis\": \"coloraxis\", \"hovertemplate\": \"x: %{x}<br>y: %{y}<br>color: %{z}<extra></extra>\", \"name\": \"0\", \"type\": \"heatmap\", \"x\": [\"degree_centrality\", \"indegree_centrality\", \"outdegree_centrality\", \"eigenvector_centrality\", \"closeness_centrality\", \"btwness_centrality\", \"page_rank\", \"hubs_centrality\", \"authority_centrality\"], \"xaxis\": \"x\", \"y\": [\"degree_centrality\", \"indegree_centrality\", \"outdegree_centrality\", \"eigenvector_centrality\", \"closeness_centrality\", \"btwness_centrality\", \"page_rank\", \"hubs_centrality\", \"authority_centrality\"], \"yaxis\": \"y\", \"z\": [[1.0, 0.8551099400188374, 0.8786160073052456, 0.8700711032761372, 0.8079345900916143, 0.8925794974877904, 0.658573309017089, 0.8608518153315424, 0.8509085514472973], [0.8551099400188374, 1.0, 0.5378621398711355, 0.966707792934542, 0.9375275294704608, 0.7929683843860311, 0.8449937696510688, 0.5422547179949831, 0.9574701147704086], [0.8786160073052456, 0.5378621398711355, 1.0, 0.5791712156851009, 0.5010704861781415, 0.7378106730784053, 0.3384172921971198, 0.9566664134868959, 0.5733784872601051], [0.8700711032761372, 0.966707792934542, 0.5791712156851009, 1.0, 0.9266614971391668, 0.7914768701285555, 0.8054458953335358, 0.6044840333668923, 0.9722643992306914], [0.8079345900916143, 0.9375275294704608, 0.5010704861781415, 0.9266614971391668, 1.0, 0.8048016609937342, 0.785757896076576, 0.5281338571344467, 0.9067060626249106], [0.8925794974877904, 0.7929683843860311, 0.7378106730784053, 0.7914768701285555, 0.8048016609937342, 1.0, 0.6377163680534467, 0.6980110338409392, 0.7389411883793906], [0.658573309017089, 0.8449937696510688, 0.3384172921971198, 0.8054458953335358, 0.785757896076576, 0.6377163680534467, 1.0, 0.31135178945689224, 0.7487599959510072], [0.8608518153315424, 0.5422547179949831, 0.9566664134868959, 0.6044840333668923, 0.5281338571344467, 0.6980110338409392, 0.31135178945689224, 1.0, 0.5978035333330317], [0.8509085514472973, 0.9574701147704086, 0.5733784872601051, 0.9722643992306914, 0.9067060626249106, 0.7389411883793906, 0.7487599959510072, 0.5978035333330317, 1.0]]}],                        {\"coloraxis\": {\"colorscale\": [[0.0, \"rgb(103,0,31)\"], [0.1, \"rgb(178,24,43)\"], [0.2, \"rgb(214,96,77)\"], [0.3, \"rgb(244,165,130)\"], [0.4, \"rgb(253,219,199)\"], [0.5, \"rgb(247,247,247)\"], [0.6, \"rgb(209,229,240)\"], [0.7, \"rgb(146,197,222)\"], [0.8, \"rgb(67,147,195)\"], [0.9, \"rgb(33,102,172)\"], [1.0, \"rgb(5,48,97)\"]]}, \"margin\": {\"t\": 60}, \"template\": {\"data\": {\"bar\": [{\"error_x\": {\"color\": \"#2a3f5f\"}, \"error_y\": {\"color\": \"#2a3f5f\"}, \"marker\": {\"line\": {\"color\": \"#E5ECF6\", \"width\": 0.5}}, \"type\": \"bar\"}], \"barpolar\": [{\"marker\": {\"line\": {\"color\": \"#E5ECF6\", \"width\": 0.5}}, \"type\": \"barpolar\"}], \"carpet\": [{\"aaxis\": {\"endlinecolor\": \"#2a3f5f\", \"gridcolor\": \"white\", \"linecolor\": \"white\", \"minorgridcolor\": \"white\", \"startlinecolor\": \"#2a3f5f\"}, \"baxis\": {\"endlinecolor\": \"#2a3f5f\", \"gridcolor\": \"white\", \"linecolor\": \"white\", \"minorgridcolor\": \"white\", \"startlinecolor\": \"#2a3f5f\"}, \"type\": \"carpet\"}], \"choropleth\": [{\"colorbar\": {\"outlinewidth\": 0, \"ticks\": \"\"}, \"type\": \"choropleth\"}], \"contour\": [{\"colorbar\": {\"outlinewidth\": 0, \"ticks\": \"\"}, \"colorscale\": [[0.0, \"#0d0887\"], [0.1111111111111111, \"#46039f\"], [0.2222222222222222, \"#7201a8\"], [0.3333333333333333, \"#9c179e\"], [0.4444444444444444, \"#bd3786\"], [0.5555555555555556, \"#d8576b\"], [0.6666666666666666, \"#ed7953\"], [0.7777777777777778, \"#fb9f3a\"], [0.8888888888888888, \"#fdca26\"], [1.0, \"#f0f921\"]], \"type\": \"contour\"}], \"contourcarpet\": [{\"colorbar\": {\"outlinewidth\": 0, \"ticks\": \"\"}, \"type\": \"contourcarpet\"}], \"heatmap\": [{\"colorbar\": {\"outlinewidth\": 0, \"ticks\": \"\"}, \"colorscale\": [[0.0, \"#0d0887\"], [0.1111111111111111, \"#46039f\"], [0.2222222222222222, \"#7201a8\"], [0.3333333333333333, \"#9c179e\"], [0.4444444444444444, \"#bd3786\"], [0.5555555555555556, \"#d8576b\"], [0.6666666666666666, \"#ed7953\"], [0.7777777777777778, \"#fb9f3a\"], [0.8888888888888888, \"#fdca26\"], [1.0, \"#f0f921\"]], \"type\": \"heatmap\"}], \"heatmapgl\": [{\"colorbar\": {\"outlinewidth\": 0, \"ticks\": \"\"}, \"colorscale\": [[0.0, \"#0d0887\"], [0.1111111111111111, \"#46039f\"], [0.2222222222222222, \"#7201a8\"], [0.3333333333333333, \"#9c179e\"], [0.4444444444444444, \"#bd3786\"], [0.5555555555555556, \"#d8576b\"], [0.6666666666666666, \"#ed7953\"], [0.7777777777777778, \"#fb9f3a\"], [0.8888888888888888, \"#fdca26\"], [1.0, \"#f0f921\"]], \"type\": \"heatmapgl\"}], \"histogram\": [{\"marker\": {\"colorbar\": {\"outlinewidth\": 0, \"ticks\": \"\"}}, \"type\": \"histogram\"}], \"histogram2d\": [{\"colorbar\": {\"outlinewidth\": 0, \"ticks\": \"\"}, \"colorscale\": [[0.0, \"#0d0887\"], [0.1111111111111111, \"#46039f\"], [0.2222222222222222, \"#7201a8\"], [0.3333333333333333, \"#9c179e\"], [0.4444444444444444, \"#bd3786\"], [0.5555555555555556, \"#d8576b\"], [0.6666666666666666, \"#ed7953\"], [0.7777777777777778, \"#fb9f3a\"], [0.8888888888888888, \"#fdca26\"], [1.0, \"#f0f921\"]], \"type\": \"histogram2d\"}], \"histogram2dcontour\": [{\"colorbar\": {\"outlinewidth\": 0, \"ticks\": \"\"}, \"colorscale\": [[0.0, \"#0d0887\"], [0.1111111111111111, \"#46039f\"], [0.2222222222222222, \"#7201a8\"], [0.3333333333333333, \"#9c179e\"], [0.4444444444444444, \"#bd3786\"], [0.5555555555555556, \"#d8576b\"], [0.6666666666666666, \"#ed7953\"], [0.7777777777777778, \"#fb9f3a\"], [0.8888888888888888, \"#fdca26\"], [1.0, \"#f0f921\"]], \"type\": \"histogram2dcontour\"}], \"mesh3d\": [{\"colorbar\": {\"outlinewidth\": 0, \"ticks\": \"\"}, \"type\": \"mesh3d\"}], \"parcoords\": [{\"line\": {\"colorbar\": {\"outlinewidth\": 0, \"ticks\": \"\"}}, \"type\": \"parcoords\"}], \"pie\": [{\"automargin\": true, \"type\": \"pie\"}], \"scatter\": [{\"marker\": {\"colorbar\": {\"outlinewidth\": 0, \"ticks\": \"\"}}, \"type\": \"scatter\"}], \"scatter3d\": [{\"line\": {\"colorbar\": {\"outlinewidth\": 0, \"ticks\": \"\"}}, \"marker\": {\"colorbar\": {\"outlinewidth\": 0, \"ticks\": \"\"}}, \"type\": \"scatter3d\"}], \"scattercarpet\": [{\"marker\": {\"colorbar\": {\"outlinewidth\": 0, \"ticks\": \"\"}}, \"type\": \"scattercarpet\"}], \"scattergeo\": [{\"marker\": {\"colorbar\": {\"outlinewidth\": 0, \"ticks\": \"\"}}, \"type\": \"scattergeo\"}], \"scattergl\": [{\"marker\": {\"colorbar\": {\"outlinewidth\": 0, \"ticks\": \"\"}}, \"type\": \"scattergl\"}], \"scattermapbox\": [{\"marker\": {\"colorbar\": {\"outlinewidth\": 0, \"ticks\": \"\"}}, \"type\": \"scattermapbox\"}], \"scatterpolar\": [{\"marker\": {\"colorbar\": {\"outlinewidth\": 0, \"ticks\": \"\"}}, \"type\": \"scatterpolar\"}], \"scatterpolargl\": [{\"marker\": {\"colorbar\": {\"outlinewidth\": 0, \"ticks\": \"\"}}, \"type\": \"scatterpolargl\"}], \"scatterternary\": [{\"marker\": {\"colorbar\": {\"outlinewidth\": 0, \"ticks\": \"\"}}, \"type\": \"scatterternary\"}], \"surface\": [{\"colorbar\": {\"outlinewidth\": 0, \"ticks\": \"\"}, \"colorscale\": [[0.0, \"#0d0887\"], [0.1111111111111111, \"#46039f\"], [0.2222222222222222, \"#7201a8\"], [0.3333333333333333, \"#9c179e\"], [0.4444444444444444, \"#bd3786\"], [0.5555555555555556, \"#d8576b\"], [0.6666666666666666, \"#ed7953\"], [0.7777777777777778, \"#fb9f3a\"], [0.8888888888888888, \"#fdca26\"], [1.0, \"#f0f921\"]], \"type\": \"surface\"}], \"table\": [{\"cells\": {\"fill\": {\"color\": \"#EBF0F8\"}, \"line\": {\"color\": \"white\"}}, \"header\": {\"fill\": {\"color\": \"#C8D4E3\"}, \"line\": {\"color\": \"white\"}}, \"type\": \"table\"}]}, \"layout\": {\"annotationdefaults\": {\"arrowcolor\": \"#2a3f5f\", \"arrowhead\": 0, \"arrowwidth\": 1}, \"autotypenumbers\": \"strict\", \"coloraxis\": {\"colorbar\": {\"outlinewidth\": 0, \"ticks\": \"\"}}, \"colorscale\": {\"diverging\": [[0, \"#8e0152\"], [0.1, \"#c51b7d\"], [0.2, \"#de77ae\"], [0.3, \"#f1b6da\"], [0.4, \"#fde0ef\"], [0.5, \"#f7f7f7\"], [0.6, \"#e6f5d0\"], [0.7, \"#b8e186\"], [0.8, \"#7fbc41\"], [0.9, \"#4d9221\"], [1, \"#276419\"]], \"sequential\": [[0.0, \"#0d0887\"], [0.1111111111111111, \"#46039f\"], [0.2222222222222222, \"#7201a8\"], [0.3333333333333333, \"#9c179e\"], [0.4444444444444444, \"#bd3786\"], [0.5555555555555556, \"#d8576b\"], [0.6666666666666666, \"#ed7953\"], [0.7777777777777778, \"#fb9f3a\"], [0.8888888888888888, \"#fdca26\"], [1.0, \"#f0f921\"]], \"sequentialminus\": [[0.0, \"#0d0887\"], [0.1111111111111111, \"#46039f\"], [0.2222222222222222, \"#7201a8\"], [0.3333333333333333, \"#9c179e\"], [0.4444444444444444, \"#bd3786\"], [0.5555555555555556, \"#d8576b\"], [0.6666666666666666, \"#ed7953\"], [0.7777777777777778, \"#fb9f3a\"], [0.8888888888888888, \"#fdca26\"], [1.0, \"#f0f921\"]]}, \"colorway\": [\"#636efa\", \"#EF553B\", \"#00cc96\", \"#ab63fa\", \"#FFA15A\", \"#19d3f3\", \"#FF6692\", \"#B6E880\", \"#FF97FF\", \"#FECB52\"], \"font\": {\"color\": \"#2a3f5f\"}, \"geo\": {\"bgcolor\": \"white\", \"lakecolor\": \"white\", \"landcolor\": \"#E5ECF6\", \"showlakes\": true, \"showland\": true, \"subunitcolor\": \"white\"}, \"hoverlabel\": {\"align\": \"left\"}, \"hovermode\": \"closest\", \"mapbox\": {\"style\": \"light\"}, \"paper_bgcolor\": \"white\", \"plot_bgcolor\": \"#E5ECF6\", \"polar\": {\"angularaxis\": {\"gridcolor\": \"white\", \"linecolor\": \"white\", \"ticks\": \"\"}, \"bgcolor\": \"#E5ECF6\", \"radialaxis\": {\"gridcolor\": \"white\", \"linecolor\": \"white\", \"ticks\": \"\"}}, \"scene\": {\"xaxis\": {\"backgroundcolor\": \"#E5ECF6\", \"gridcolor\": \"white\", \"gridwidth\": 2, \"linecolor\": \"white\", \"showbackground\": true, \"ticks\": \"\", \"zerolinecolor\": \"white\"}, \"yaxis\": {\"backgroundcolor\": \"#E5ECF6\", \"gridcolor\": \"white\", \"gridwidth\": 2, \"linecolor\": \"white\", \"showbackground\": true, \"ticks\": \"\", \"zerolinecolor\": \"white\"}, \"zaxis\": {\"backgroundcolor\": \"#E5ECF6\", \"gridcolor\": \"white\", \"gridwidth\": 2, \"linecolor\": \"white\", \"showbackground\": true, \"ticks\": \"\", \"zerolinecolor\": \"white\"}}, \"shapedefaults\": {\"line\": {\"color\": \"#2a3f5f\"}}, \"ternary\": {\"aaxis\": {\"gridcolor\": \"white\", \"linecolor\": \"white\", \"ticks\": \"\"}, \"baxis\": {\"gridcolor\": \"white\", \"linecolor\": \"white\", \"ticks\": \"\"}, \"bgcolor\": \"#E5ECF6\", \"caxis\": {\"gridcolor\": \"white\", \"linecolor\": \"white\", \"ticks\": \"\"}}, \"title\": {\"x\": 0.05}, \"xaxis\": {\"automargin\": true, \"gridcolor\": \"white\", \"linecolor\": \"white\", \"ticks\": \"\", \"title\": {\"standoff\": 15}, \"zerolinecolor\": \"white\", \"zerolinewidth\": 2}, \"yaxis\": {\"automargin\": true, \"gridcolor\": \"white\", \"linecolor\": \"white\", \"ticks\": \"\", \"title\": {\"standoff\": 15}, \"zerolinecolor\": \"white\", \"zerolinewidth\": 2}}}, \"xaxis\": {\"anchor\": \"y\", \"constrain\": \"domain\", \"domain\": [0.0, 1.0], \"scaleanchor\": \"y\"}, \"yaxis\": {\"anchor\": \"x\", \"autorange\": \"reversed\", \"constrain\": \"domain\", \"domain\": [0.0, 1.0]}},                        {\"responsive\": true}                    ).then(function(){\n",
              "                            \n",
              "var gd = document.getElementById('f4a95e1a-9a45-4338-82f3-3ffc9ea364e8');\n",
              "var x = new MutationObserver(function (mutations, observer) {{\n",
              "        var display = window.getComputedStyle(gd).display;\n",
              "        if (!display || display === 'none') {{\n",
              "            console.log([gd, 'removed!']);\n",
              "            Plotly.purge(gd);\n",
              "            observer.disconnect();\n",
              "        }}\n",
              "}});\n",
              "\n",
              "// Listen for the removal of the full notebook cells\n",
              "var notebookContainer = gd.closest('#notebook-container');\n",
              "if (notebookContainer) {{\n",
              "    x.observe(notebookContainer, {childList: true});\n",
              "}}\n",
              "\n",
              "// Listen for the clearing of the current output cell\n",
              "var outputEl = gd.closest('.output');\n",
              "if (outputEl) {{\n",
              "    x.observe(outputEl, {childList: true});\n",
              "}}\n",
              "\n",
              "                        })                };                            </script>        </div>\n",
              "</body>\n",
              "</html>"
            ]
          },
          "metadata": {
            "tags": []
          }
        }
      ]
    },
    {
      "cell_type": "markdown",
      "metadata": {
        "id": "4xYxolsKAKqy"
      },
      "source": [
        "### Bridges"
      ]
    },
    {
      "cell_type": "code",
      "metadata": {
        "colab": {
          "base_uri": "https://localhost:8080/"
        },
        "id": "QkNr37GQAOgE",
        "outputId": "96dc5fb0-a12a-49c2-c8c3-ac80ad4cb14f"
      },
      "source": [
        "nx.has_bridges(G.to_undirected())"
      ],
      "execution_count": null,
      "outputs": [
        {
          "output_type": "execute_result",
          "data": {
            "text/plain": [
              "False"
            ]
          },
          "metadata": {
            "tags": []
          },
          "execution_count": 65
        }
      ]
    },
    {
      "cell_type": "code",
      "metadata": {
        "id": "89fDUY2iAMME"
      },
      "source": [
        "for bridge in nx.bridges(G.to_undirected()):\n",
        "  print(bridge)"
      ],
      "execution_count": null,
      "outputs": []
    },
    {
      "cell_type": "code",
      "metadata": {
        "id": "xmJtX0erA5QJ"
      },
      "source": [],
      "execution_count": null,
      "outputs": []
    },
    {
      "cell_type": "markdown",
      "metadata": {
        "id": "jvTfRy_lCAAC"
      },
      "source": [
        "### Triads"
      ]
    },
    {
      "cell_type": "markdown",
      "metadata": {
        "id": "rstwHoM0A9Gf"
      },
      "source": [
        "![image.png](data:image/png;base64,iVBORw0KGgoAAAANSUhEUgAABTIAAAQsCAYAAACi+2MLAAAgAElEQVR4AezdCdxV0/7Hcc1pnucopIlKk0SGVCqiiSg0iW6UomQIkVm5hjKTlCFjuCKZusnQxA1JqFQqDTTPtf6v77r/fe55znPOc84+4z7nfPbr9bzOtIe133s9a6/922uvdYRhQgABBBBAAAEEEEAAAQQQQAABBBBAAAEEPC5whMfTR/IQQAABBBBAAAEEEEAAAQQQQAABBBBAAAFDIJNMgAACCCCAAAIIIIAAAggggAACCCCAAAKeFyCQ6flDRAIRQAABBBBAAAEEEEAAAQQQQAABBBBAgEAmeQABBBBAAAEEEEAAAQQQQAABBBBAAAEEPC9AINPzh4gEIoAAAggggAACCCCAAAIIIIAAAggggACBTPIAAggggAACCCCAAAIIIIAAAggggAACCHhegECm5w8RCUQAAQQQQAABBBBAAAEEEEAAAQQQQAABApnkAQQQQAABBBBAAAEEEEAAAQQQQAABBBDwvACBTM8fIhKIAAIIIIAAAggggAACCCCAAAIIIIAAAgQyyQMIIIAAAggggAACCCCAAAIIIIAAAggg4HkBApmeP0QkEAEEEEAAAQQQQAABBBBAAAEEEEAAAQQIZJIHEEAAAQQQQAABBBBAAAEEEEAAAQQQQMDzAgQyPX+ISCACCCCAAAIIIIAAAggggAACCCCAAAIIEMgkDyCAAAIIIIAAAggggAACCCCAAAIIIICA5wUIZHr+EJFABBBAAAEEEEAAAQQQQAABBBBAAAEEECCQSR5AAAEEEEAAAQQQQAABBBBAAAEEEEAAAc8LEMj0/CEigQgggAACCCCAAAIIIIAAAggggAACCCBAIJM8gAACCCCAAAIIIIAAAggggAACCCCAAAKeFyCQ6flDRAIRQAABBBBAAAEEEEAAAQQQQAABBBBAgEAmeQABBBBAAAEEEEAAAQQQQAABBBBAAAEEPC9AINPzh4gEIoAAAggggAACCCCAAAIIIIAAAggggACBTPIAAggggAACCCCAAAIIIIAAAggggAACCHhegECm5w8RCUQAAQQQQAABBBBAAAEEEEAAAQQQQAABApnkAQQQQAABBBBAAAEEEEAAAQQQQAABBBDwvACBTM8fIhKIAAIIIIAAAggggAACCCCAAAIIIIAAAgQyyQMIIIAAAggggAACCCCAAAIIIIAAAggg4HkBApmeP0QkEAEEEEAAAQQQQAABBBBAAAEEEEAAAQQIZJIHEEAAAQQQQAABBBBAAAEEEEAAAQQQQMDzAgQyPX+ISCACCCCAAAIIIIAAAggggAACCCCAAAIIEMgkDyCAAAIIIIAAAggggAACCCCAAAIIIICA5wUIZHr+EJFABBBAAAEEEEAAAQQQQAABBBBAAAEEECCQSR5AAAEEEEAAAQQQQAABBBBAAAEEEEAAAc8LEMj0/CEigQgggAACCCCAAAIIIIAAAggggAACCCBAIJM8gAACCCCAAAIIIIAAAggggAACCCCAAAKeFyCQ6flDRAIRQAABBBBAAAEEEEAAAQQQQAABBBBAgEAmeQABBBBAAAEEEEAAAQQQQAABBBBAAAEEPC9AINPzh4gEIoAAAggggAACCCCAAAIIIIAAAggggACBTPIAAggggAACCCCAAAIIIIAAAggggAACCHhegECm5w8RCUQAAQQQQAABBBBAAAEEEEAAAQQQQAABApnkAQQQQAABBBBAAAEEEEAAAQQQQAABBBDwvACBTM8fIhKIAAIIIIAAAggggAACCCCAAAIIIIAAAgQyyQMIIIAAAggggAACCCCAAAIIIIAAAggg4HkBApmeP0QkEAEEEEAAAQQQQAABBBBAAAEEEEAAAQQIZJIHEEAAAQQQQAABBBBAAAEEEEAAAQQQQMDzAgQyPX+ISCACCCCAAAIIIIAAAggggAACCCCAAAIIEMgkDyCAAAIIIIAAAggggAACCCCAAAIIIICA5wUIZHr+EJFABBBAAAEEEEAAAQQQQAABBBBAAAEEECCQSR5AAAEEEEAAAQQQQAABBBBAAAEEEEAAAc8LEMj0/CEigQgggAACCCCAAAIIIIAAAggggAACCCBAIJM8gAACCCCAAAIIIIAAAggggAACCCCAAAKeFyCQ6flDRAIRQAABBBBAAAEEEEAAAQQQQAABBBBAgEAmeQABBBBAAAEEEEAAAQQQQAABBBBAAAEEPC9AINPzh4gEIoAAAggggAACCCCAAAIIIIAAAggggACBTPIAAggggAACCCCAAAIIIIAAAggggAACCHhegECm5w8RCUQAAQQQQAABBBBAAAEEEEAAAQQQQAABApnkAQQQQAABBBBAAAEEEEAAAQQQQAABBBDwvACBTM8fIhKIAAIIIIAAAggggAACCCCAAAIIIIAAAgQyyQMIIIAAAggggAACCCCAAAIIIIAAAggg4HkBApmeP0QkEAEEEEAAAQQQQAABBBBAAAEEEEAAAQQIZJIHEEAAAQQQQAABBBBAAAEEEEAAAQQQQMDzAgQyPX+ISCACCCCAAAIIIIAAAggggAACCCCAAAIIEMgkDyCAAAIIIIAAAggggAACCCCAAAIIIICA5wUIZHr+EJFABBBAAAEEEEAAAQQQQAABBBBAAAEEECCQSR5AAAEEEEAAAQQQQAABBBBAAAEEEEAAAc8LEMj0/CEigQgggAAC6SCwadMm8/nnn5v333/ffPrpp2bDhg3pkGzSiAACCLgSOHz4sFm9erX56aefzMqVK82hQ4dcLc/MCCCAQKoE1q5da5YtW2ZWrFhhDhw4kKpksF0EEIhRgEBmjIAsHpvAxo0bzb///W8ze/Zs8+WXX5rt27fHtkKWRgABBJIo8Mcff5hbb73V1KpVyxxxxBG5/qpXr25GjhxpK8xJTBabQgABBOIqsG/fPjN16lTToUMHU7p06RxlXbFixUybNm3MxIkTzY4dO+K6XVaGAAIIxCKgYOX06dNN586dTbly5XKUXUWLFjWtW7c2Dz30kNm6dWssm2FZBBBIsgCBzCSDszlj796PGjXKHHXUUTlOJk4QoEGDBub+++83W7ZsgQsBBBDwpMDBgwfNvffeawoXLmzLsRIlSpiGDRuas88+21aW27VrZ0488URTqlQp+3v+/PnNjTfeaBQMYEIAAQTSSeCtt94yVapU8ZVlen/SSSeZU045xTRr1szUqFHDFCxY0P6uMu+JJ55Ip90jrQggkKECH374oalZs6Ytm/Lly2cqV65smjRpYlq1amWaN29ufytUqJD9XTdkJkyYQAvzDM0L7FbmCRDIzLxj6tk92rt3r1EAUxf0ClqWLFnSXvi3bdvWdOzY0Zx55pmmbt265sgjj/SdUCZNmmT0CBMTAggg4BWBnTt3mrPOOsuWU2XLljU9evQwY8aMMbfffnuuv9tuu81cfPHFplKlSnZ+XfRzk8YrR5J0IIBAXgJ6ZPyqq66yZVeRIkVsPe3666/PVc6p7NONGtXlVLdTHe/cc881u3fvzmv1/IYAAggkTEBllcoiBSrVYnzEiBFBy66bbrrJlldOS3PV73hCMGGHhRUjEDcBAplxo2RFeQnoEfLGjRvbE4ruhvXq1cvoAj/Yhf/NN99sunTp4qsMX3DBBbRiyguX3xBAIGkCe/bsMaeffrotyxo1amRUAQ5WjgV+p0Bny5Yt7XJqDbBt27akpZkNIYAAAm4FdBO5X79+tszSEzTDhw+PqKy74YYbTP369e1yapmuMpMJAQQQSKbA0KFDbRlUrVo1o/eBdbJgn3UzRvU6BT/V2pxuMpJ5xNgWAu4FCGS6N2MJlwJqfXTCCSf4TgyhWi4FnlRUGVYLTZ1QzjvvPKNHOZkQQACBVAqov0uVSXqsMtTNmMCyzP/zqaeeapdXgIAJAQQQ8KrAo48+asuq2rVrG91g9i/Hwr1X2ejcvFYAlAkBBBBIlsALL7xgyy51eaHgZLjyKvD3Fi1a2OX79++frCSzHQQQiEKAQGYUaCziTuCiiy6yJwS1Ygo8WYT7rEE0nDv7d999t7sNMzcCCCAQR4FFixYZp4+lSG/IBJZxusA/+uijbZmoQc6YEEAAAa8JrFq1ynbzo/4uR48e7brupnJP9beqVavask6DOTIhgAACiRbYsGGD7Ztc/V3qxnNgHSySz6qnOeM4qI9NJgQQ8KYAgUxvHpeMSdW7775rK7HHHntsVCcTnXDUEkD90KmPk+XLl2eMDTuCAALpJdCnTx9bng0cODDq8kxl2jXXXGMDouecc056AZBaBBDICgH1JaeW57oRHcmFf6h5nP411UUQEwIIIJBoAZVFKrtU5oQqlyL5Xo+j68a1xm9gQgABbwoQyPTmccmYVKlzZQ3uc+2118Z0Qundu7c9MSkAwIQAAggkW0B9WupmivpbiqQSHG6eOnXq2DJt9erVyd4VtocAAgiEFNi3b5/RoBe6gRxN9xmBZV+tWrVsPXDt2rUht8kPCCCAQKwC6te3SpUqpkSJEiEHYAwsn/L6XK9ePVtPW7ZsWaxJY3kEEEiAAIHMBKCyyv8KqODXXbEGDRrEfOGvynT58uXtyUmVbCYEEEAgmQKffPKJLc80mmVeFd9If1O/vyofp0+fnszdYFsIIIBAngILFiywZZP68420PMtrPsq6PLn5EQEE4iTw888/27KrWbNmcSm7evToYdf39NNPxymFrAYBBOIpQCAznpqsK4fAc889Z08A3bt3j8sJpXXr1nZ9CxcuzLEdPiCAAAKJFpgwYYItf/R4eV4X7ZH+duWVV9r1qf85JgQQQMArAk8++aQtmy688MK4lnWjRo3yyi6SDgQQyECBV155xZZd559/flzKLmfkc3WRwYQAAt4TIJDpvWOSMSm6+uqr7QlFj4NHenGf13yqVKsFE3fGMiaLsCMIpI2ABvdR+aMKbV7lVKS/OX3QUUFOmyxAQhHICoFx48bZsi7WvoCdslADbqjs7NevX1b4sZMIIJAagUcffdSWNZdeemlc6mlOvU8NcpgQQMB7AgQyvXdMMiZFTr+WN954Y1xOKP3797cnqPvuuy9jjNgRBBBID4GxY8fa8ueKK66IS3mmfoN1cT9kyJD0ACCVCCCQFQJ33XWXLZsGDBgQl7Lu+uuv960vKwDZSQQQSInAY489ZsuaeD05c8stt9j19ezZMyX7w0YRQCBvAQKZefvwawwCl112mT0B6HEi5858LK+XX365Xd/48eNjSBWLIoAAAu4FpkyZYsufrl27xqU8c2706JF1JgQQQMArAvEu65yb0OrrnAkBBBBIlMCMGTNsPa1Tp05xqacNHjzYrm/48OGJSjLrRQCBGAQIZMaAx6J5C6jSqhZHqsTGEsB0lu3cubNd35tvvpn3hvkVAQQQiLPAjz/+aMufeHUi36ZNG7u+OXPmxDmlrA4BBBCIXsAp65o3bx6Xulv79u1tWffee+9FnyiWRAABBMIIrFmzxpY1J554YlzKri5dutj1TZs2LcyW+RkBBFIhQCAzFepZsk1VWhXIbNeuXVxOKDoxaX2rV6/OEkF2EwEEvCJw+PBhc+yxx5qiRYuam266KaYy7dZbbzWlSpUyFSpUMHv37vXKLpIOBBBAwBw6dMjUrFnTFCtWzOjRSudmcrSvlStXNkceeaT5+++/0UUAAQQSKlC/fn1TuHBho4EUoy2znOVUDhYoUMCsW7cuoWlm5QggEJ0Agczo3FgqAoHt27ebEiVK2It1tc50TgzRvN5www2mUKFCRsFMJgQQQCAVAg899JC9mXLWWWfFVJ6dd955dj0333xzKnaDbSKAAAJ5Ctxzzz22jOrYsWNMZZ3ThYb6FmZCAAEEEi0wceLEuNTTnC4xLrrookQnmfUjgECUAgQyo4RjscgENJCFWlGqo+RoApjOMqeddppdz1NPPRXZhpkLAQQQiLPArl27zDHHHGPv0Ec7evmwYcNMkSJFTKVKlczmzZvjnEJWhwACCMQuoNaTVapUsS2bVGY5dTE3r2oRpZbnao3566+/xp4o1oAAAgiEEVA9rVatWqZgwYLmH//4R1Rll566KVeunG1As2TJkjBb5GcEEEiVAIHMVMlnyXbVX4kqsnpE6brrrovqhKI7+fnz5zf16tXjMcwsyTfsJgJeFZg7d64tj4oXL25HHHdzYa+RysuUKWNvyrzzzjte3UXShQACCJipU6fasqps2bJmxIgRrupvN954o6lRo4Zd/tFHH0UTAQQQSJqA+h7Ply+fKV26tBk6dKirsktPyigQqkY4d911V9LSzIYQQMC9AIFM92Ys4VLghRdesCeEihUrmuuvv97VCUUjxikIqjtr8+fPd7llZkcAAQTiL/DKK6/YYKb6yzz//PMjKtMuvPBCo+CnKseTJk2Kf6JYIwIIIBAngY0bN5oGDRrY8kpllgICl112WURlnVqrq8W5llMQgQkBBBBItsCzzz5ryyDVuy655JKIyi49RVi1alW7nB4tV3/BTAgg4F0BApnePTYZlbJx48bZE4Mqw5deemlEJxSNFqdHMBXEZKTyjMoO7AwCaS2wc+dOM3nyZNv/ry7W9Qim+r0MfARz+PDhpmvXrqZ69eq2/CtZsqRh9Mu0PvQkHoGMF1CXF40aNbJlllokPf7447YuprKubt26NqA5ZsyYHPU4DWA2cOBAu5yeoNGfvmNCAAEEUiWgJ/pUbunvuOOOM+qzN3AAM43hMGjQIHPSSSfZboM0rwYMIoiZqqPGdhGIXIBAZuRWzBmjgFohqQWTThK1a9c2aqE0atSoHJVhXfgrgKnAgObTXf2ZM2fGuGUWRwABBOIj8PXXX9uyaf369UatllQBdso1lVl6rxs26hdOn/WnmzGqQK9evTo+iWAtCCCAQAIE/vrrL3tBr3JLgciDBw8a1cuWLVtm2rdv7yvTNJKv6mlHH320qVatmu1LzinvmjVrZr766qsEpI5VIoAAApEJ/Pbbb74BZzt06OAru3STpXLlyrbs0k1mjXDulF0aUFYBTX1+4403ItsQcyGAQMoECGSmjD47N/zzzz+bCy64wPZd4pw4NLK5+mDyv/BXS0zdSdu0aVN2QrHXCCDgKQHdnR87dqyvwuufuC1btpinn37allknn3yyUWW4RYsWpm/fvkYjaCroyYQAAgh4WUCDZKj8Ut1MfVxquuaaa+xnJ90//vij0UAYbdu2NeouSF3/qP526qmn2oAnAUxHilcEEEiVgOprKpNUlv3rX/+yyfjll1/szRndkFEjGafsatWqle0CQ/1qatINZ/VlXr58eepuqTqAbBeBCAUIZEYIxWzxFVi5cqUZP3686dWrl30USY8r6S5+v379zBNPPMFovvHlZm0IIBCDwO+//26aNm1qK76qGKsfJSYEEEAgUwR04a/+flW+aVAyTd9++62vpWWm7Cf7gQACmS9wzz332LLsyiuvjGpn1QWQysJOnTpFtTwLIYBAcgQIZCbHma0ggAACCKShwMsvv2wfT9KjlKrYlipVyrz//vtpuCckGQEEEAguoP59Vb51797dHD582Ozdu9c3cq+6xti+fXvwBfkWAQQQ8JCAcwNGfWKqP/NoJzW0UZmoPoKZEEDAmwIEMr15XEgVAggggEAKBXTh3qNHD18rTFVo9af+lGKpHKdwl9g0AgggkEvgkUcesWWbHivfvXu3/V2jjTvd/aj7n19//TXXcnyBAAIIeElgz549pmHDhnbQnli7uVB/wer/V4+gL1++3Eu7SVoQQOD/BQhkkhUQQAABBBDwE5g3b57tQ0l99ToBTOe1cePGfnPyFgEEEEhfgXfeeceOMK4BGP/880+7I+orzgliqtzT4GUqE5kQQAABLwtoYDKVWWPGjIlLMmfNmmXHdGjZsqU5cOBAXNbJShBAIH4CBDLjZ8maEEAAAQTSWEAj9GogC/+LeCeAqVc9Ynn77ben8R6SdAQQQOC/AgsWLPANePHTTz/ZL9USXQNh+Jd76k7j7bffhg0BBBDwrMAnn3xig47NmzePa9DRGfBMgz0yIYCAtwQIZHrreJAaBBBAAIEUCKxYscKONq7HiPwv4v3flyxZ0nz99dcpSB2bRAABBOInsGrVKlOlShXbVcbnn3/uW/HFF19sAlui68bOk08+6ZuHNwgggICXBP7++29Ts2ZNexPauSkTr/Spu4169erZG9nz58+P12pZDwIIxEGAQGYcEFkFAggggED6CkyePNkUL17cPmLpH7gMfK8LerXaZEIAAQTSVWDr1q2mQYMG9obN1KlTfbsxY8aMXH0CqwzMly+foTWSj4k3CCDgMYHevXvb8uzRRx9NSMoWLlxoChUqZI4//niza9euhGyDlSKAgHsBApnuzVgCAQQQQCADBHQXv0uXLkEv3gODmPp89tlnZ8BeswsIIJCtAvv377flmMqzO+64w8ewceNG2xdmsHJP3w0cONA3L28QQAABrwi8+uqrNojZoUMHc/jw4YQl684777TbGTJkSMK2wYoRQMCdAIFMd17MjQACCCCQAQIzZ860lVL1exnq4t3/e7XGnDRpUgbsObuAAALZKtCvXz9b3vXt2zcHgYIAanHkX+b5vz/nnHNyzM8HBBBAINUCf/zxhylbtqwpV66c0ftETnoap1WrVraM/OCDDxK5KdaNAAIRChDIjBCK2RBAAAEEMkNg+fLlpkePHrZCWrlyZXsBr4t49YGpP/8LeOe9+s7UckwIIIBAOgqMGzfOlm1t27Y1apnpTM8//7ztWsMp64K9NmrUyJmdVwQQQCDlAmp9qRswKq/UKjMZ0y+//GLLyqpVq5otW7YkY5NsAwEE8hAgkJkHDj8hgAACCGSHgPqNUyfxLVu2tBXjwNZJ5cuXzw4I9hIBBDJOYNq0abZcq1+/vlGXGs70+++/hw1iKlBQrVo1ZxFeEUAAgZQLqD9MlU2XXHJJUtOigc+03QsvvDCp22VjCCCQW4BAZm4TvkEAAQQQyEKBxx9/3FZQu3btmqvfzGRXlrOQn11GAIEECMybN8+OTq7W5ytXrvRtQS2aWrRoYQoUKGDLPV2ch/pTi3QmBBBAwAsCuums7n5q1KiR48ZMstLWuXNnW1b6D5aWrG2zHQQQ+J8Agcz/WfAOAQQQQCBLBfTYuC7W1fJIjwyNHDnSFClSxFZW9bh5sh5dylJ+dhsBBBIgsG7dOqPHIIsWLWq++eabHFt44IEHcrTG9O8vWEEC/6Bm/vz5zYEDB3IszwcEEEAg2QLqFqNZs2YmX7585uOPP0725u321q9fbypUqGAHSFu9enVK0sBGEUDAGAKZ5AIEEEAAgawW0AW6HilXxXjWrFnWYvPmzfaOvy7mCxcubDZt2pTVRuw8Agikl8C+fftM69atbUBy8uTJORL/448/2u8VvFT5dvLJJ5tTTjnFfvfMM8+Ybt265WiVrsBmogfTyJFAPiCAAAJBBMaMGWPLqWuvvTbIr8n76q233rLpOOussxI6Wnry9ogtIZB+AgQy0++YkWIEEEAAgTgKjB071lZIr7766hxrHTZsmH3s8phjjsnxPR8QQAABrwtcddVVtlwbMmRIjqTqkXK1OB88eLCZO3euHfhHfWWqBXrDhg3NoUOH7F+fPn18wcxSpUqZb7/9Nsd6+IAAAggkU+Crr76ydbIGDRqYPXv2JHPTQbfVt29fW8ZOmDAh6O98iQACiRUgkJlYX9aOAAIIIOBhgfnz5xu1Sqpbt67ZvXt3jpT++eeftpJK/5g5WPiAAAIeF1CrSrUmP+2003KMUB4q2f3797fzz5gxwzeLAp5XXnmlDWYWL17cfPjhh77feIMAAggkU2Dnzp3muOOOMxqIcfHixcncdMhtbdu2zdSqVcveBPrhhx9CzscPCCCQGAECmYlxZa0IIIAAAh4X2LVrlzn++ONtIHPBggVBU3vNNdeYjz76KOhvfIkAAgh4TeDrr7+2F9bVq1c3GzZsCJu8pUuX2lZOrVq1Cjrv8OHDbZBz4sSJQX/nSwQQQCDRArqpopszd999d6I35Wr9c+bMMepDuEmTJkbdeTAhgEDyBAhkJs+aLSGAAAIIeEhAj1yqYnzHHXeETJUGywhsqRlyZn5AAAEEUiigwKUCmOr3UgHNSKYePXrYcvCzzz4LObtu6IwfPz7k7/yAAAIIJErgX//6ly2jTj31VHPw4MFEbSbq9Y4aNcqmb/To0VGvgwURQMC9AIFM92YsgQACCCCQ5gIffPCBrXhqkAsvVozTnJfkI4BAkgU0mm+bNm1suaZHyyOZ1BJdN3M6dOgQdnb1o8mEAAIIJFNAAy1WrlzZlChRwvz222/J3HTE21JLzEaNGtmWmep3mAkBBJIjQCAzOc5sBQEEEEDAIwJbtmwxVatWNer3bfny5R5JFclAAAEEohfQYGUKSuoRzEindu3amXz58plFixZFugjzIYAAAkkT6Natm6ubM0lLWMCGlixZYrv0qF27ttm+fXvAr3xEAIFECBDITIQq60QAAQQQ8KxAz549bcX4iSee8GwaSRgCCCAQqcDkyZNtmXbKKadE3E/b66+/bpfp1atXpJthPgQQQCBpAs8//7wto84///ykbTOWDT344IM2vRo8jQkBBBIvQCAz8cZsAQEEEEDAIwIvvviirWh27tzZIykiGQgggED0Ano8vGjRoraVufr0jWTSaLvVqlUzJUuWNGvXro1kEeZBAAEEkiawcuVKWz5VqlTJ/Pnnn0nbbiwbOnTokDnzzDNtHfPtt9+OZVUsiwACEQgQyIwAiVkQQAABBNJfQH28lS5d2lSoUMGsX78+/XeIPUAAgawW2Lhxo6lZs6YpVKiQ+eKLLyK2cB5Df+SRRyJehhkRQACBZAgoIOj09/vOO+8kY5Nx24bqmaVKlTIVK1Y0GnyNCQEEEidAIDNxtqwZAQQQQMAjAocPH/bdKX/rrbc8kiqSgQACCEQncODAAV+ZNmnSpIhX8s033+bHZ2sAACAASURBVNhBKZo3b24UMGBCAAEEvCRw33332VaNAwcO9FKyIk7LlClTbPrPO++8iJdhRgQQcC9AINO9GUsggAACCKSZwPjx423Fsm/fvmmWcpKLAAII5BYYPny4LdMGDBiQ+8cQ3yj42bhxY1OgQAGzePHiEHPxNQIIIJAage+++84ULlzYHHPMMWbHjh2pSUQcttqjRw9bPj/99NNxWBurQACBYAIEMoOp8B0CCCCAQMYIfP/993Y0yVq1ahn1DceEAAIIpLPAK6+8Yi+SW7RoYfbu3RvxrjiDUVx33XURL8OMCCCAQDIEVJadcMIJ9kbLvHnzkrHJhG1j8+bNpkqVKqZEiRLm119/Tdh2WDEC2SxAIDObjz77jgACCGS4wL59+2wLpPz585s5c+Zk+N6yewggkOkCy5cvt4NgqK/fNWvWRLy7q1atMsWLFzdHHXWU2blzZ8TLMSMCCCCQDAHdYDniiCPMTTfdlIzNJXwbM2fOtPvTunVrc/DgwYRvjw0gkG0CBDKz7YizvwgggEAWCdxwww22Ijlq1Kgs2mt2FQEEMlFALZaaNGli8uXLZ3SR7GY699xzbVn43nvvuVmMeRFAAIGEC3z66ae2XDvppJPM/v37E769ZG1g8ODBtty96667krVJtoNA1ggQyMyaQ82OIoAAAtkl8O9//9sOatGoUSOjlplMCCCAQDoLDBkyxF4U6waNm+m1116zy3Xv3t3NYsyLAAIIJFxg69attqV40aJFzY8//pjw7SVzA7t27TJ16tQxhQoVMosWLUrmptkWAhkvQCAz4w8xO4gAAghkn8D27duN+sQsUqSIWbJkSfYBsMcIIJBRAq+//roNRp5yyilGg/ZEOqlf4KpVq5pSpUqZP/74I9LFmA8BBBBIisCll15qy7Z//vOfSdlesjfyzTffmIIFC5r69eubPXv2JHvzbA+BjBUgkJmxh5YdQwABBLJXoF+/frZirMEtmBBAAIF0Fvjtt99M6dKlTbly5czvv//ualecVpyPPvqoq+WYGQEEEEi0gNNa/OyzzzaHDx9O9OZStv7bbrvN1kmHDRuWsjSwYQQyTYBAZqYdUfYHAQQQyHKBt956y1YYzzzzTHPo0KEs12D3EUAgnQXULUbz5s1tmfbOO++42pWvv/7adq+h0c0pC13RMTMCCCRYQC3EdXOmTJkyrgYuS3CyErJ6taJXOaz+jWfPnp2QbbBSBLJNgEBmth1x9hcBBBDIYIENGzYYjearxyjdtlzKYBZ2DQEE0lRg+PDhNoipVzeTLpwbN25sChQoYL799ls3izIvAgggkHCBc845x5ZtL730UsK35YUN/Pzzz6ZYsWKmevXq5q+//vJCkkgDAmktQCAzrQ8fiUcAAQQQ8BdwRuadMmWK/9e8RwABBNJOYMaMGfZCXy153A5YNm7cOLvsddddl3b7TYIRQCCzBSZOnGjLp4svvjizdzRg77J1vwMY+IhAXAQIZMaFkZUggAACCKRa4Mknn7QV4549e6Y6KWwfAQQQiElALcrLli1r+8ZcsWKFq3VpdFyNknv88ccbjZrLhAACCHhFYNmyZVndMrFjx462rvryyy975ZCQDgTSUoBAZloeNhKNAAIIIOAv8Msvv5jixYvb0Xk3b97s/xPvEUAAgbQS0GPhGp38iCOOMBqt3M2kUXE1Oq4eKVcfmUwIIICAVwToK9KYdevW2b5BdaNqzZo1Xjk0pAOBtBMgkJl2h4wEI4AAAgj4Cxw8eNC0atXKXvR/8MEH/j/xHgEEEEg7gRtuuMGWZxpx3O107bXX2mXHjBnjdlHmRwABBBIqcPvtt9vyaejQoQndjtdX7ozW3q5du4werd3rx4H0pbcAgcz0Pn6kHgEEEMh6gTvvvDPqi/6sxwMAAQQ8JTBz5kw7sm2TJk3M3r17XaXt448/tss2a9bMqOUTEwIIIOAVgW+++cYULFjQthjfvXu3V5KVsnT06dPH1l0feeSRlKWBDSOQzgIEMtP56JF2BBBAIMsFFixYYCvGdevWpS+4LM8L7D4C6S6wdu1aU6FCBVOyZEmzfPlyV7uzdetWU7NmTVO0aFGzdOlSV8syMwIIIJBIAfXVqz571XfvwoULE7mptFm3U2YfeeSRlNlpc9RIqJcECGR66WiQFgQQQACBiAV0R79evXo2kDl//vyIl2NGBBBAwGsC6iLj9NNPty10ohkE4tJLL7XLPvzww17bNdKDAAJZLvCPf/zDlk/jxo3Lcomcu//pp5/6WtHv378/5498QgCBPAUIZObJw48IIIAAAl4VuOaaa2zFeOzYsV5NIulCAAEEIhK47bbbbHk2cODAiOb3n0kDAmlgoLPPPpv+1vxheI8AAikXUN/lKp80gJlu2DDlFBgxYoT1ueWWW3L+wCcEEMhTgEBmnjz8iAACCCDgRYFZs2bZu9gnn3wyfcF58QCRJgQQiFhAo4trlHGNNu6277j169eb8uXLm9KlS5vVq1dHvE1mRAABBBItsHnzZlO1alVTvHhx8+uvvyZ6c2m5fvWF3LBhQ3sO+PLLL9NyH0g0AqkQIJCZCnW2iQACCCAQtcCWLVtMtWrVTLFixVz3Ixf1RlkQAQQQSICA+o6rU6eO7Ttu0aJFrrfQuXNn25pn6tSprpdlAQQQQCCRAj169LDl01NPPZXIzaT9ur/99ltTuHBhc+yxx5qdO3em/f6wAwgkQ4BAZjKU2QYCCCCAQNwELrroIlsxfvzxx+O2TlaEAAIIpEJgyJAhtjyLpu+4J5980i7bs2fPVCSdbSKAAAIhBaZMmWLLp/POOy/kPPzwP4F7773Xeg0aNOh/X/IOAQRCChDIDEnDDwgggAACXhOYNm2areh16tTJa0kjPQgggIArgQ8//NCWZ61atXLdd9wvv/xiH9esUqWK0eObTAgggIBXBFatWmVKlSplKlasaDZs2OCVZHk6HYcOHTKnnXaaPSe89957nk4riUPACwIEMr1wFEgDAggggEBYAfX/VqZMGdsfnPqFY0IAAQTSVSCWLjI0YIYGztAAGu+//366EpBuBBDIQAEF5M444wxbPr399tsZuIeJ26UVK1aYkiVLmsqVK5uNGzcmbkOsGYEMECCQmQEHkV1AAAEEMl3g8OHDpm3btrZi/Oabb2b67rJ/CCCQ4QK9evWy5Vk0XWTcfffddtmrrroqw5XYPQQQSDeBBx980JZP/fv3T7ekeyK9zz33nPXr2rWrJ9JDIhDwqgCBTK8eGdKFAAIIIOATeOihh2zF7vLLL/d9xxsEEEAgHQVefvllW5517NjRdfIXL15sBwY67rjjGBTCtR4LIIBAIgWWLFliihQpYmrXrm22b9+eyE1l9LoVxFSLewU1mRBAILgAgczgLnyLAAIIIOARgR9++MEULVrUHH300Wbbtm0eSRXJQAABBNwLrF271pQtW9aUK1fOrFu3ztUKduzYYY4//nhToEABM2/ePFfLMjMCCCCQSIF9+/aZRo0amfz585u5c+cmclMZv249Vq7Hy/WYuR43Z0IAgdwCBDJzm/ANAggggIBHBFQxbtKkia0Yz5kzxyOpIhkIIICAewF1kdG+fXvb0mb69OmuV9CnTx+7bDQjnLveGAsggAACLgRGjRply6fRo0e7WIpZQwlowB+1ytQAQOp3lAkBBHIKEMjM6cEnBBBAAAEPCdx44422Ijdy5EgPpYqkIIAAAu4FHnvsMVue9e7d2/XCzz77rF22Xbt2XNS61mMBBBBIpIBuNKslpm486wY0U3wErrjiClvu33vvvfFZIWtBIIMECGRm0MFkVxBAAIFMEvjiiy9sxViPKlExzqQjy74gkH0Cy5YtM0ceeaSpUaOG+fvvv10BqHuNYsWKmSpVqpgNGza4WpaZEUAAgUQKqMsfdf2jvjFVVjHFT0DdiRx77LGmcOHC5ttvv43filkTAhkgQCAzAw4iu4AAAghkmoA6iVdn8aoY/+c//8m03WN/EEAgiwQOHDhgWrRoYfLly2dmz57tas937dplGjRoYG/qfPLJJ66WZWYEEEAg0QJ9+/a1rQYnTJiQ6E1l5frVH7L6RW7YsKHZu3dvVhqw0wgEEyCQGUyF7xBAAAEEUiowYMAAWzF+4IEHUpoONo4AAgjEKjB27Fhbng0bNsz1qvr372+XvfXWW10vywIIIIBAIgXefPNNWz61bdvWqA9gpsQI3HzzzdZ5xIgRidkAa0UgDQUIZKbhQSPJCCCAQCYLzJgxw1bYzjjjDPqCy+QDzb4hkAUC8+fPNwULFjT16tUzu3fvdrXHU6dO9ZWFBw8edLUsMyOAAAKJFFi/fr2pUKGCKV26tFm9enUiN5X1696/f79p2rSpbdVPy/yszw4A/L8AgUyyAgIIIICAZwT+/PNPU7FiRVOqVCmzatUqz6SLhCCAAAJuBdS3rx4LVyBzwYIFrhZXn5olSpSw5eEff/zhallmRgABBBIt0LlzZ3ujRTdcmBIvsHTpUlO0aFFTs2ZNs3Xr1sRvkC0g4HEBApkeP0AkDwEEEMgmgS5dutiK8QsvvJBNu82+IoBABgqMGzfOlmd6LNDNtGfPHqNBztSn5ocffuhmUeZFAAEEEi7wxBNP2LLtoosuSvi22MD/BB5++GHr3qdPn/99yTsEslSAQGaWHnh2GwEEEPCawNNPP20raD169PBa0kgPAggg4Epg+fLltvWMRpxVYNLNdNVVV9mycPTo0W4WY14EEEAg4QIq24oXL26qVatmtmzZkvDtsYH/Cagf0nbt2tnzw/Tp0//3A+8QyEIBAplZeNDZZQQQQMBrAr/++qt9jLJKlSpm8+bNXkse6UEAAQRcCZx99tn2YvOjjz5ytZwuTo844ghz6qmnGo12zoQAAgh4RUB99Z588sm2tfisWbO8kqysSsfatWtN2bJlTbly5QzdjmTVoWdnAwQIZAaA8BEBBBBAILkCqhi3bt3aXrzPnDkzuRtnawgggECcBV588UVbnvXu3dvVmnVDR/0D6wKVwTNc0TEzAggkQeCOO+6wZdvVV1+dhK2xiVACL7/8sj0OHTp0YLT4UEh8n/ECBDIz/hCzgwgggIC3Be666y5bIRs8eLC3E0rqEEAAgTACetRSA5apxYwGL4t00sBAzZo1s2Xhu+++G+lizIcAAggkRUADlmngsrp165rdu3cnZZtsJLTAxRdfbM8Xjz32WOiZ+AWBDBYgkJnBB5ddQwABBLwusGjRIlOoUCFTp04ds2vXLq8nl/QhgAACeQoMGDDAXlyqz18307Bhw+xyI0aMcLMY8yKAAAIJF1DgUgFMBTIV0GRKvcBff/1latSoYY488kizbNmy1CeIFCCQZAECmUkGZ3MIIIAAAv8V0AAY9evXtxXjb775BhYEEEAgrQXmzJlj+4477bTTXD3u9/bbb9sgZsuWLc3+/fvT2oDEI4BA5gnoUXL13Tt27NjM27k03qPZs2fbc07z5s3pUzmNjyNJj06AQGZ0biyFAAIIIBCjgNMC6bbbbotxTSyOAAIIpFZAj4bXq1fPFC5c2CxdujTixKgljfrFLFOmjFmxYkXEyzEjAgggkAyBDz/80AbLNMgPA5AlQ9zdNoYOHWqDzNSl3bkxd/oLEMhM/2PIHiCAAAJpJ+DcRW7RogUV47Q7eiQYAQQCBZxBMG655ZbAn0J+3r59u22Vnj9/fvP++++HnI8fEEAAgVQIqM/fatWqmWLFipnly5enIglsM4yAHvt3nm76+uuvw8zNzwhkjgCBzMw5luwJAgggkBYC6tenevXqtmL8888/p0WaSSQCCCAQSkAX+EWKFDHHHXecUZcZkUyHDx823bp1sy1p7rzzzkgWYR4EEEAgqQIXXnihLaMef/zxpG6XjbkTWLhwIf3NuyNj7gwQIJCZAQeRXUAAAQTSScAZaXHixInplGzSigACCAQVaNu2rb3YV0vzSKdx48bZZbp27eqqP81I1898CCCAQCwCU6dOtWVUp06dYlkNyyZJwDmnDB48OElbZDMIpFaAQGZq/dk6AgggkFUCL7/8sq0Yd+zYMav2m51FAIHMFJgyZYot0/r06RPxDs6cOdPocXL1qanHy5kQQAABLwmsXr3alC5d2pQvX96sX7/eS0kjLSEEDh48aE455RR7PtI5hgmBTBcgkJnpR5j9QwABBDwisGbNGlO2bFlTrlw5s27dOo+kimQggAAC0Qn8/fffpmLFirZM27hxY0Qr+fXXX+3APhrgRwP9MCGAAAJeElC3F2eddZYNiL355pteShppCSOg80vx4sVNlSpVzObNm8PMzc8IpLcAgcz0Pn6kHgEEEEgLAVWM27VrZyvGr7/+elqkmUQigAACeQncdNNNtkyLtP+4nTt3mhNOOMGOAPzOO+/ktWp+QwABBFIiMGHCBFuuXX755SnZPhuNTeCpp56yx6979+6xrYilEfC4AIFMjx8gkocAAghkgsDDDz9sK1aXXnppJuwO+4AAAhkusGvXrjz3UI9baiTfOnXqmAMHDuQ5r/OjM3DGrbfe6nzFKwIIIOAZgR9++MEOXHb00Uebbdu2eSZdJMSdwHnnnWfr3C+88IK7BZkbgTQSIJCZRgeLpCKAAALpKLB06VJTtGhRc9RRR5mtW7em4y6QZgQQyDIBXQj+9ddfIfd6yJAh9kLxlVdeCTmP/w/33Xefnf/cc89lcB9/GN4jgEDSBDZs2BByW/v27TNNmjSx/ffOmTMn5Hz84H0BHWd1e6IuTFatWhUywXnlh5AL8QMCHhEgkOmRA0EyEEAAgUwU2L9/v2natKl9lPKzzz7LxF1knxBAIAMFjjjiCHtBv2nTplx799tvv5lChQqZk046KaKg5KxZs+y61HqTmzm5OPkCAQSSJHDZZZeZ33//PejWRo8ebW+2jBw5MujvfJleAm+//bY9nqeffro5dOhQrsRrcCD1hcqEQLoKEMhM1yNHuhFAAIE0ELj55pttReq6665Lg9SSRAQQQOC/AroBo5HF9Yhl4Ki9GqFcgc5IRoZdsWKFHQyoRIkS5scff4QXAQQQSImA+ipXudWxY8dc2587d64t7xo1amTUMpMpMwT69+9vj/kDDzyQa4defPFF+xuDzuWi4Ys0ESCQmSYHimQigAAC6SYwb948U6BAATu4xd69e9Mt+aQXAQSyWKBz5872Iq9gwYKmWrVqZvXq1VZjyZIl9oJfrVycafny5WbSpEnmiy++cL6yr+pns3HjxrZFOqP/5qDhAwIIJFlg8eLFtiW5uvpZu3atb+vbt283tWvXtn1j/uc///F9z5v0F3CObeHChY3/sVULzRo1athz2WOPPZb+O8oeZKUAgcysPOzsNAIIIJBYgR07dphjjz3WqPL03XffJXZjrB0BBBCIs8DgwYNtINN5xLxSpUpGj5Q7gyhoxPKuXbuaMmXK+OZTVxr+0yWXXGJ/07xMCCCAQCoF1E+v6mTqFmPQoEG+pOTVas83E2/SVsBpbXviiScap1GB+nbWUwI6v/F4edoe2qxPOIHMrM8CACCAAALxF7jiiitsBUkVZyYEEEAg3QTuuusu21pFF3r6y5cvnw0COIHN4sWL2+/1+cgjjzQa7dd/mjBhgv1dj3EG65/Mf17eI4AAAokWaNmypa/MUqtMdZnh9KN4xhlnUE4l+gCkcP3+/Z+qiwF1meKc25QX1F8mEwLpJkAgM92OGOlFAAEEPC7w7rvv2gpSmzZtqBh7/FiRPAQQCC7wzDPPmGLFivku9pyLvsBXBTTvv//+HCt55513bBBUrdLzGvk8x0J8QAABBBIksGfPHt+NGJVhapnZr1+/iEa2TlCSWG0SBfxHpL/jjjt8rTGVF0qWLGm+/PLLJKaGTSEQHwECmfFxZC0IIIAAAsaYjRs3Gj2CqYrRypUrMUEAAQTSUkA3ZEqVKpVnIFN9ADdv3jzHyOULFy40Cm6WLVvW/PTTT2m57yQaAQQyS2D27Nm5yjMNZqZA1vjx4xngJ7MOd6690VMBn332me1WQOct/xty6mrgtttuy7UMXyDgdQECmV4/QqQPAQQQSCOBCy64wFaQnn/++TRKNUlFAAEEcgp8/fXXpnTp0jku+Pwv/vReActVq1b5Fvz9999NlSpVbGunzz//3Pc9bxBAAIFUCowYMSJHVxlOWabBzNTyXEFNlWd65FiPoJ9wwglG3WPwyHEqj1p0237ttdeMBqNr2rSpOe644+x5TMdXj5AXKVIk6DlNo9UzIZBuAgQy0+2IkV4EEEDAowLPPvusrSB169bNoykkWQgggEBkAitWrLAX9s4Ff+CrLvqfe+4538q2bt1qGjZsaMvAqVOn+r7nDQIIIJBqAXVzEViGhfu8Zs2aVCeb7UchsHv3bvukQLjj6/+7uhrQIJ1MCKSTAIHMdDpapBUBBBDwqIBG89UIiJUrVzabNm3yaCpJFgIIIBCZwK5du4xaK/lf7Dnv9She+/btfSvSaOVnn322nVf9jzEhgAACXhHYvHlzjv4xnXIs2KsGLtNAZwxQ5pWjF3061FezukcJdR7zP/6a71//+lf0G2NJBFIgQCAzBehsEgEEEMgkAVV4Tz31VHsRT0Uok44s+4JAdguolYr/xZ7zXo+cqz9gZ+rfv7+dr2/fvs5XvCKAAAKeEJg+fbrtt9wpv4K96rHj6tWrG/Xxy5Q5AhqZXvVzPUEQ7Lg73+XLl88MHjw4c3acPckKAQKZWXGY2UkEEEAgcQL33HOPrSBdeeWVidsIa0YAAQSSLFChQoVcF3/qT27GjBm+lNx55512nrZt2xq1zGRCAAEEvCTQu3fvXOWYE8DSq8q0yy+/3KgVOlPmCRw+fNg8+OCDRq1t/Y974PuaNWtm3s6zRxktQCAzow8vO4cAAggkVuDbb7+1oyCqQ/GdO3cmdmOsHQEEEEiiQL169XJc+GmghF69evlSMG3aNPt7gwYNzN9//+37njcIIICAVwTKly+foxxzAlh65FiPFPvfmPFKmklH/AWWLFliatWqFTKgqfPbH3/8Ef8Ns0YEEiRAIDNBsKwWAQQQyHSBPXv22MEtChQoYL766qtM3132DwEEskzgjDPOyBEAqFSpktm+fbtVmDNnju13Tv0C+49cnmVE7C4CCHhY4JdffrEtLp3gpfOqR431yLEePWbKHgHV2/X0lFrhOnnBeVU/91OmTMkeDPY07QUIZKb9IWQHEEAAgdQIDB8+3FaExowZk5oEsFUEEEAggQL+j2TqsTwFLzUtW7bMlC1b1l4Mzp8/P4EpYNUIIIBA9AKTJk3KFbRSWaZHjfXIMVN2CsycOdOUKVPGPlHlBDL12q1bt+wEYa/TUoBAZloeNhKNAAIIpFbgk08+MeocvHnz5ubAgQOpTQxbRwABBBIgcOONN9qbNbrwv/rqq+0WNMjPMcccY/Lnz88jmQkwZ5UIIBA/gXbt2vla3qkc06PFesSYCQGdy9S3s/9AQBrIjgmBdBEgkJkuR4p0IoAAAh4RUF9w6hRcleKffvrJI6kiGQgggEB8BR599FF7w+boo482e/futYNhtGrVygYG/vnPf8Z3Y6wNAQQQiKPAwYMHff0h6lFiPVKsR4uZEPAXmDhxom21q8YJCmp+//33/j/zHgHPChDI9OyhIWEIIIBA8gTUqvLNN9+0rY50oa679vo77bTTzLXXXmvee+89c+jQIZsg53FLXeQzIRCtgB5rmz17trn++uvNmWeeaWrXrm3zXIsWLcxVV11lXnrpJRs8inb9LIdAKAG1SFIg8tJLLzVnn322/dP7hx9+OMdF3OTJk23QUoOaKQCgefX43dChQ0Otmu8RCCqwYsUK88QTT5iBAwcatZJTXrrooovMfffdZ7788sugy/AlAoECunn82GOPmb59+/rykepkEyZMMIsXL84x+9y5c215pUeI9SgxEwKhBJSv6tSpY/PLzTffnGO21atXm6efftoGwtu3b29bcfbs2dPcfffdvu5WcizABwSSJEAgMwZo3Z1/+eWXzT/+8Q+jC//jjz/eaITLDh06GBUC8+bNi2HtLIpAbgEFkhRQGjFihDn99NNtnlO+UxBAwQBVVJxgU+6l+QaB3ALKL4888oipWrWqrcDoIl0jF1aoUMH+FSpUyPe9WiXpjr7mUTlH/0q5PfkmMoFXX33Vll/KS/rT6KkaWVX5rmjRor48p+/uuusus3///shWzFwI5CHw4Ycf2gEunHynVw1Wpj//73QDZ9asWeazzz6z+U/1vXPOOcfO069fP8q+PIz5KafAggULzLnnnmtb9jp5TN0SqMxzPuv1hBNOMNOmTcu5MJ8Q+H+Bzz//3Jx11lk58kywsks3At9991271NixY025cuWMHiFmQiCcwL59+4wClYppaFLLTPWZqfLKKauClV1169Y1zz77LOfFcMD8HncBAplRkOqCShdWuuBy/rF14a+ThTp/9/+Hb9KkCXfBojBmkZwCChg99dRTRoEkJ8+pEqz8pj//CrH67nr++edzroBPCAQR+OOPP2yLS+UpPU7Spk0bM2TIEHPbbbeZ22+/3f7deuutZvDgwaZ169a+R5QU3OTRkyCgfBVWYMeOHebCCy+05ZjOm7roGjRokFE+c/Kc8p9avKnvplKlStl5dS7V6KtMCEQjsGvXLjNgwACbl1RHa9iwobn44ovNdddd58t3et+rVy/ToEEDXz3u8ssvN1u2bDHnnXeeXVYtn7hZGM0RyL5llE80EJ4TJFfdrEePHvYJB6esu+GGG2yr4KZNm/oG3VBe+/PPP7MPjD0OKqCbKNdcc40tf/Tor4JGasmrBg1OPlJDhksuucSceOKJvvymsurTTz8Nuk6+RCAvga+//trce++9vjJJ154KaKpe5uS50aNHm8suu8zW4VSX03WEWpmvXbs2r1XzGwJxFSCQ6ZJTI1U2atTI/sOqQ1xdaKkDLaUlIwAAIABJREFUeP8Lf7XG1B17XXg5ASY9SqKTERMCbgVUoXU661afhKeccoptFed/4a/KslrK6S6a05qpU6dOZvPmzW43x/xZIqAg5nHHHWfLspNOOsloUAunghLqddSoUTYAoAqLykHyV5ZkljjtpoKYaumm/KO85x9ECpXndD5VuaYLuGrVqhHMjNOxyKbVKIipJxiU74466qgcF2Oh8p0u2NQPsJapWLGifdWjdOpzjgmBcAIKYuoi38k/V1xxRdjz68iRI039+vXtMnrdsGFDuM3we4YL6LpRrXmVj6pXr25vNIcqs5zvhw8fbgcj0zInn3yy2bZtW4YrsXvxFFDDGTVoUP5RAy3FM5y8FepVN2Sc2Ii6CPr999/jmSTWhUBIAQKZIWly/7B06VJTuXJle0Gl1km33HJL2H/uYcOG2YqzCoTOnTsTzMzNyjd5CCiI6VRsdadVJ4tQJxLnewWb1KJEea5x48YEm/Lwzdaf1KpceUN5RI+ROHkn0le13NSyCkrROilbc5H7/e7atavNN82aNctx8y+SfHfBBRfYc68qyQqIMiEQqYATCNANG/+bzuHynebVDWmVdVWqVDHqR5gJgUgEFExSvlErTN2MCZfX/H9XAwktq8CAHvVkyl4Bpz9ytSD3b7zgn19CvVcQU/lIXU/RDVD25iG3e678pHyjG3mRNHDwz39qQKNldaN6586dbjfN/Ai4FiCQGSGZRunV3TC1CunevburSolOPjoJ6Z+7f//+EW6R2bJdQC0/9NilUxHxP1lE8p5gU7bnoND7rxa8yldq3RtJXgo2j3OBrw7mmRAIJ/Diiy/aPKfH4twEk/zznjPQiro6YEIgEgENUKCyTv2XR5PvtIzyrNZBly2RiDOPHudVflEL8kgaPPiXcc57nZu1DgUSmLJTYPr06TYPKBjuNojp5COnlZwGNmNCIJyA+vNVVxh6CuGmm26K6vpAgXOVXRo/hAmBRAsQyIxQWKPD6R+zY8eOUf1j6yTk9G/odMIc4aaZLUsF1A+r8pyCmU6lxO0rwaYszTx57LYeB1d/NhpEJdqLLOVDXWCp/0KNhqlHN5kQCCWgmzJ6pFddY+jxSbflmDO/gkrODcWVK1eG2hzfI2AFNMq4yjn1/6snFZx85PZVeVbr0MUdLeTIXOEE1PJX3Urp8Uy3ec2ZXzcbK1WqZIMK9DkXTjzzftc5Uy3i1FWUf1+YTv6I9FX1NHWDVqJECbN9+/bMg2KP4iqgIKQabKnf8kjzWOB8ineonqbr159//jmu6WNlCAQKEMgMFAnyWY+U6x9Sgcho7ug7/+TXXnut7ThXrTOZEMhLYOvWraZYsWJ2IB+3jyU5+U2vBJvyUs7O3x544AFbnnXp0iXqioqTx5y+W5955pnsxGSvIxKYMWOGzXPqksXJO9G+ajAWnY/VzQYTAnkJTJ482eYVPaobbX5zlnNamUydOjWvTfJblgvMmzfP5jl13eLknWhfNTCQyjoFBpiyS+Ctt96yx/7UU0+NOR+pAY7y0cSJE7MLkb11JaABPJVP9PRCtGWWs1yfPn3sutS9HhMCiRQgkBmBrgbz0T+3Ou52/kmjfVXfYFoXI8lFAJ/Fszz88MM2n6hf1WjzmrOc+kBUntOo50wInHHGGba1SCwBcidvqZWT8pb6PmRCIJSA7u4rn+hc6uSdaF91M1E3edQPMBMCeQmcf/75tnVJLK2AnXyqUYGVh9W1EBMCoQSU15RPBgwYEHNZp1aZasVO44dQ2pn7vTNQlAJBThkU7asaNOhxYXXNwoRAKIE777zTll0KQkab15zlVE9TS+AaNWqE2hzfIxAXAQKZETDqkTj9Qzr/oLG8auRCVXJUKWZCIJSAWrrlz58/6j5K/POoWi7pUQG1wGPKbgF1+K5HjNR3l38eieW9RjXUYyRMCIQS0KOWuiCPJZ/5L6uO5FU+0pl8KHG+l4AG6KlQoULc8p3KOi7MyFt5CTg3ChWE9C+zon1PWZeXdub+pn55VVeLNt8ELle1alXbFRCD/mRunol1z3SNqGtFBb4D8080n0844QQb79iwYUOsSWN5BEIKEMgMSfPfHzZt2mT/EXVHNJp/5MBlVLlR3zmq7DAhEEpA/Q7qIiww/0T7WRdzWh9Tdguof0zdSFEH8NHmpcDljj/+eLtORi/P7ryV196rPFOwOzDvRPvZGQjjp59+ymuz/JbFAuq3V2Vd/fr145bvnEF/9u7dm8Wy7HpeAgoYqW/LaMu2wOXUHYfy8ZIlS/LaLL9lmIBu1GmQn8D8EO1ndXWgfERQKcMyShx3R+dK1dWizWOBy6lLF+W5uXPnxjGVrAqBnAIEMnN65Po0f/58+4+owGPgP2m0n9VhvFp5MiEQTED9Y6rw192saPNY4HLq80TrZKCCYOLZ892ff/5p84EGgQrMI9F+dvLW/v37sweSPXUlULJkSXvOizaPBS6nfsNUnv3www+u0sHM2SPgnEdPPPHEuJV1uqGtfLdjx47sgWRPXQnopnE8n3g4/fTTbZ5btGiRq3Qwc/oK6KawyhndJA4890X72enWbM2aNekLQ8oTKnDsscfawfGizWOBy3Xo0MHmY7rSS+hhy/qVE8gMkwW++uor+4941llnxe2EUrlyZR7FDOOezT9v2bLF5rl4tppTf3KqGO3evTubabN+39WSSHf69bhaYKUj2s961FIj+jIhEEqgVq1aduCyaPNY4HIqG1WerVu3LtQm+T7LBXRjRWWdLs4C80+0n2vXrm2fqNGIwkwIBBNQK7qyZcvGLc81b97clnW//PJLsM3xXYYKqE6lulW0ZVXgcmptp3Pmtm3bMlSM3YpVoGnTprb/8cC8E+3n0047zea5hQsXxpo0lkcgpACBzJA0//3h559/tv+ILVq0iNsJRScotbZjQiCYgC7A1DF3PB8rUQvgokWLGvrHCSaeXd+p7NFgKdFWTvyX02iq6ipDrUaYEAgloAFSdBGl/nr980+07/VUA11lhNLme0dAZZ3qW9Hms8Dl1M+r+ntlQiCUgFPWjR49Oi75Tl1yqK9Eum4JJZ6Z3+upg0KFCtkR6wPLoWg+65Fh3VBkQiCUQP/+/W09bfjw4XEpu3QNq+uDPXv2hNok3yMQswCBzDCEqjyoEhGv/r1GjBhhC4rLL788zJb5OZsF1OIoXsEmjR5XuHBh06pVq2wmZd//X+Af//iHLYNUaYmmQuy/zMUXX2zXpRHQmRAIJfDPf/7T5hONIu2ff6J5r5HPFRTt2bNnqM3xPQJW4Morr7R5ZdCgQTHnu4EDB9p1qfxkQiCUwIMPPmjziQKa0ZRv/stoUFC1Kma06VDamfv9yJEjbT7S6OX+eSKa90OGDLHr6t27d+aCsWcxCzz99NM2n3Tu3DnmPKcbObruVJcGTAgkUoBAZgS66udBlQkFIaM5ifgv06lTJ1tQqMBgQiCUgHOx3q9fv5jzXJ8+fWyeU8WICYHFixfb/BCPQTB0h1+jHK5YsQJYBEIKaJCpIkWKGHWrohsr/udEt++dvr4++uijkNvjBwQk8OWXX9qyLh7dtKh1pwLoCxYsABeBkALr16+3rZDi0fhBffMrz02bNi3k9vghMwV+/PFHe+zj0U+m0z3B7NmzMxOLvYqLgPqVVgMaPfESaz3tnHPOsfl30qRJcUkbK0EglACBzFAyft+//vrr9h9STf3dXnT5z6/HMMuXL29beG7fvt1vC7xFIKfAd999Z/OcBlLxz0PRvFcfYaoMq5sEJgQk0K5dO5snLrnkkqjzV9euXe06LrroIlARCCvgtArRjcFoyjEtM2DAABs412BVdJMRlpwZjDEnn3yyzTOx3BTs27evLetUB2RCIJyAnrhSnSuWFuhDhw61jxYrIMogjeHEM/N3JxiklpTRnjPVGl0NcTToGRMC4QRU7qjsUt6LNs+p0Ze6MitXrhwD44UD5/eYBQhkRkB44MAB22G8+i0cPHhw1P/cGjBIBQQt4yJAZxbTvn17m19iCTbp8UvluQsuuABRBHwCakGpvuN091WPSrqtsFxxxRW2hZ0qKhs2bPCtlzcIhBLQzTv11as+ky699FLXeW7YsGGmdOnS9uJeN3qYEIhE4Pvvv7d5Rn3ERdP317XXXmvznVoUL126NJJNMk+WC2zcuNFo9HLlGXVv4Pb8qscyq1atautuH374YZZrZu/u//bbb7aOpu7NFGBym4/UNYHqaLp2pSV59uYjN3uuwaA0yJT6Z42m+yl1M6V6nq47p0+f7mbTzItAVAIEMiNkmzt3rr2rrxaVOjm4PaEoGKW7YhoteNeuXRFuldmyWSDWYNNVV11lNDiBLv7Xrl2bzZTsexCBN954w1ZwFdBUC5JIyzSVZbrbqv5vZs2aFWTNfIVAcIFvvvnGPpGgYGa3bt0iznMKnKscU+WYblmC2/JtaIEnnnjC5h2NJq2WwZGWdbrJo2XId6Ft+SW4wAcffGCDAaqDuWkNrNZMaoWpPDdq1KjgK+fbrBF46aWX7LVnqVKlXAXFFfhUMF35aPz48VnjxY7GLvDvf//bV8dX12SRni/VSOvoo4+2eU43cJgQSIYAgUwXyvfff7/9B9XJwU1lWI9g6sJNF2KLFi1ysUVmzXYBdWugALiCTW4qw+ogXBVo5bt333032xnZ/xACr732mm01osquRuNV36yhKi1qje70E6f8qAs1JgTcCqjfQic4pP6/NIhKqDynVpjOo8FqVfLUU0+53RzzI2AFHnnkEVt/Uz7S0zE33HBDyHyn384880x7/lTZOHHiRBQRcC3wzjvv2Bt+6ke6ZcuWefazr5ZMGmRDNwmV59R6mAkBCTz//PP2OkDXAm3atLFP9YU6Z95444226yC1qFM+uueee0BEwLXAJ598Yq8hnWsDPZkQKs/dcsstthsNXRdoftXp6PrHNTkLRClAINMlnBPMVIBIJ5Trrrsu5D+3/pl1oaZ/bDXvnz9/vsutMTsCxjbPV+s35SMNdHHNNdeEzHMKRCkgpXlVIZ4xYwaECOQpoMclW7RoYfOM8k2VKlVM06ZNTdu2be2f+iOsVKmS73cNQMDgPnmS8mMYgXXr1pnzzjvPl6d0c1ADsijApHyn/FitWjXbEkV5smHDhmbhwoVh1srPCOQt8Omnn/pajOhCXwOeaURodcGiP71Xv9ROEKB27dpmzpw5ea+UXxHIQ0BdGzh1MuepLJ1De/ToYfOc+qJT/4W68ayyTtcKPJKZB2iW/vTVV1+ZOnXq2DyimzF169a150onH6krqgYNGtjAufKRWvXyxEyWZpY47fby5cvNKaecYvOcbsbofHj66aeb7t2727KrY8eOtt6mLqqU59RqePLkyXHaOqtBIDIBApmROeWYSxVb/UPrH1cVEzWl1j+7TiQaREMX/hr1S7/rT/0T0o9cDkI+uBT44YcfbBDTyVO6yNfFvvKc/jQqodOnkuZRKyYG93GJnMWz6+6pRoHW477qS87JZ86rutTo1asXF/VZnEcSseu6uaeBVDSauZPXnNeSJUvaFkpq1XTo0KFEbJ51ZqHA7t27bfcEjRs3zpXnnLynwNMzzzxjNC8TArEKqJ99Pf2gAKYCAk4+83/VoIwPPvig+euvv2LdHMtnqMDevXvNCy+8kOPGs38e0nvd9NNI0Tt27MhQBXYrmQKqe6lBjGIbincE5jd9Vgzk7rvvNuobmAmBZAsQyIxSfP/+/ebll1+2jx+pQ+/Af261MFG/c+oTjAmBeAgo2DRz5kzTpUsX289cYJ7T3TB1Y6C7sDTrj4d49q7j119/NfPmzbN/K1euzF4I9jxpAmvWrDF67PyLL76wN2Eow5JGn7UbUtBIN3BefPFF+zd79mwCSVmbG5Kz4zt37jTqg27q1KlmypQp5v333zfr169PzsbZSsYIbN261ejxX+UjlV8aFGrTpk0Zs3/siPcENL6HrgumTZtmyy51W8b4C947TtmWIgKZcTjiutu6ZMkS89lnn9kKyqpVq+KwVlaBQGgBXeQvW7bMfP755/ZPrS+58A/txS8IIIAAAggggAACCCCAAAIIIJD+AgQy0/8YsgcIIIAAAggggAACCCCAAAIIIIAAAghkvACBzIw/xOwgAggggAACCCCAAAIIIIAAAggggAAC6S9AIDP9jyF7gAACCCCAAAIIIIAAAggggAACCCCAQMYLEMjM+EPMDiKAAAIIIIAAAggggAACCCCAAAIIIJD+AgQy0/8YsgcIIIAAAggggAACCCCAAAIIIIAAAghkvACBzIw/xOwgAggggAACCCCAAAIIIIAAAggggAAC6S9AIDP9jyF7gAACCCCAAAIIIIAAAggggAACCCCAQMYLEMjM+EPMDiKAAAIIIIAAAggggAACCCCAAAIIIJD+AgQy0/8YsgcIIIAAAggggAACCCCAAAIIIIAAAghkvACBzIw/xOwgAggggAACCCCAAAIIIIAAAggggAAC6S9AIDP9jyF7gAACCCCAAAIIIIAAAggggAACCCCAQMYLEMjM+EPMDiKAAAIIIIAAAggggAACCCCAAAIIIJD+AgQy0/8YsgcIIIAAAggggAACCCCAAAIIIIAAAghkvACBzIw/xOwgAggggAACCCCAAAIIIIAAAggggAAC6S9AIDP9jyF7gAACCCCAAAIIIIAAAggggAACCCCAQMYLEMjM+EPMDiKAAAIIIIAAAggggAACCCCAAAIIIJD+AgQy0/8YsgcIIIAAAggggAACCCCAAAIIIIAAAghkvACBzIw/xOwgAggggAACCCCAAAIIIIAAAggggAAC6S9AIDP9jyF7gAACCCCAAAIIIIAAAggggAACCCCAQMYLEMjM+EPMDiKAAAIIIIAAAggggAACCCCAAAIIIJD+AgQy0/8YsgcIIIBAVgvs2LHDTJs2zdx2221myJAh5oYbbjDPPfecWbt2bcpcVq9ebSZMmGAGDx5shg0bZl555RWzZs0a1+kZM2aMueSSS8LuixcNXO8sCyCAQJ4C27ZtM88++6y5/vrrzcCBA82TTz5pfvjhB3P48OE8l0vmj5GWWUrz22+/bW6++WbTt29f88ADD5h58+aZffv2hU3uggULzMMPP2yuvvpqc+2119plZ82aFXY5ZkAAgcQLqO41dOhQ+7dx48bEbzDIFqItX+JVlwpXDv7999+2bug4+b+qTNPyKhPfeOONiMrEIAR8hUDGCxDIzPhDHNkOhitwI1tLbHNFe9KJdrl0uCCITZSlEch8gZdeeslUqVLFHHHEEbn+ihcvbiuCKiOSOY0fP94ULVo0V3oKFixoXnzxxYiTMmXKFN86li5dGnI5LxqETCw/IIBAVAKvv/66qVSpkq9M8C/zOnXqZHbu3BnVeuO5UKRllm70nHTSSUH3pVWrVuavv/4KmqwNGzaYnj17Bl1OHm3atDE//fRT0GX5EgEEEi+g+la7du18/6PLly9P/EYDthBt+RKvulQk5eCSJUt8Rv5lebD3NWvWNBMnTjR79+4N2FM+IpDdAgQys/v4272PpMBNNFO0J51ol0uHC4JEm7N+BNJd4OOPPzb58+e3lcF8+fKZ9u3bm2uuucZccMEFRkFDp0L4yCOPJG1Xn3/+ed92y5QpYy666CLTvXt3U6pUKV861aIq3PTmm2+aQoUK+dYVKpDpRYNw+8bvCCDgTuCLL77wlQcq87p162Zb87Ro0cJXRpx88slGrYlSNUVaZimNDRs29KW7efPm5oorrjCNGzf2fXfiiSca3Wz2nw4dOmTOOuss3zw1atSwLTkHDRpkjj/+eN/3tWrVyrWs/3p4jwACiRN46KGHfP+LqoMlO5AZbfkSr7pUpOWgfyBT9cOjjjrK91e1alVTokSJHI6y7NKlS+IOHGtGIA0FCGSm4UGLZ5IjLXDjuc3AdUV70ol2uXS4IAg04jMCCOQU0F1/3aVW5a5IkSLm008/zTGDKonly5e3v6t1pFryJHratWuXqVChgt2m0uZfgVcrIV14K71qVRXq8cmtW7caXZgrMKt5nb9ggUwvGiTamPUjkI0CTpBPN2g+//xzH4HKgJEjR/rKiVdffdX3W7LeuCmzlCY9LumUazfeeGOOZPrvix4d9590A8hZToFc/xao+/fvt92KOL+PGDHCf1HeI4BAEgRU71J9zPk/1Kt/PSgJSYiqfIlHXcptOegfyFR3SMGm9evXGwWGS5Ys6TN95plngs3KdwhkpQCBzKw87Ma4LXATyRRtpTba5bx8QZBIZ9aNQCYJqF84p7KsPtaCTU899ZRvnvfeey/YLHH9zn97jz32WK51q59MJ816hClwUhqrV6/um8eZV6/BApleNAjcJz4jgEBsAsuWLfOVCWpxHjgpiKduNFRO9OvXL/DnhH52W2YpMdWqVbNprVy5sjl48GCu9NWtW9f+rlaWCjA4k/NIuS7qN2/e7Hzte5WDWjXJoVmzZr7veYMAAokX0GPPakntX2/R+2QHMqMpX2KtS0VTDkYSyHSO2sKFC82RRx5pbdVS87fffnN+4hWBrBYgkJmFhz+aAjeRTNGcdJSeaJbz8gVBIo1ZNwKZJuD/CLceCQo2aUAIp1L94IMPBpslrt/17t3bbk+PhG/atCnXutVi0wk4nHPOObl+r127ti+9HTp0MPfee6/vc7BAphcNcu0UXyCAQEwCCgSoxY76wZw7d27QdVWsWNGWFW3btg36e6K+dFtmaV+cMjlUq8k77rjDN89XX33lS7oTpDzttNN83wW+Offcc+2yKmeZEEAgeQL6f9b/tgJtamnt/J8nM5AZbfkSa13KbTmoo+ImkKn51fe6YxrshlbyjjRbQsA7AgQyvXMskpaSaArcRCUu2pNOLMt59YIgUcasF4FMFdizZ4+9Mx2qA3QNrONU/N56662EMxx77LF2ey1btgy5LQUolSYNUBQ4qWw+5phj7Ijraok0efJkX/qDBTK1vNcMAveJzwggkFgBBTedck43P5I5uS2zpk6d6kvrzJkzgyb1yy+/9M2jUdmdSWWiRkDWiMihJqcMbtSoUahZ+B4BBOIsMHv2bF93OHr0WX9OmZTMQGYs5UssdSm35aD43QYy1Qq9cOHC1lV9BTMhgIAxBDKzMBdEU+Amiinak060y4Xbj1ReEIRLG78jgEDkAnpk0X9AibwufiNfa95zOo/+qFVQqMlptalKvirO/tO8efPMgQMHfF9FEsj0zRzkTSoMgiSDrxBAIM4CCuotXrzY3HXXXaZcuXL24latEH/++ec4bynv1bkts+6//35fgEMt5oNN/jeqR48eHWyWoN/5d92hwYOYEEAg8QJbtmzxdYnjDEaTqkBmosqXcHUpt+WgjorbQKaWad26tS0/1S0HEwIIEMjMyjwQTYGbKKhoTzrRLhdsP7xyQRAsbXyHAALRCQwfPtx3wTxgwIDoVuJiKfXP5rRA6Nu3b8glr776at98wR4/918w1kBmsg380857BBBInIAuZJ3yRq/6/P333ydugxGuOVyZpf6MnXSvXLky6FpVLjrzqLyMZFLw03m8XjeUkh3QjSSNzINAJgo4fdfq/+/PP/+0u5iqQGaiyhe3dalw5aCQoglk9ujRw1c2KoDMhEC2C9AiM9tzgDERPb6YKKZoTzrRLhdsP7x6QRAsrXyHAALhBe655x5fZU8jhWtws0RP27Zt820zVN9vSsOYMWN88/3+++95JiuSynCoFaTCIFRa+B4BBOIn4B/ocwJ++fLlM127djWpvrgNV2Zdd911vvIvVLms1k/OfvXv3z8snFrb60kjZ5kJEyaEXYYZEEAgdoEXXnjB9383Y8YM3wpTFchMRPkSTV0qXDkoqGgCmWpp7pRz8+fP93nzBoFsFSCQma1H3m+/Iylw/WaP69toTzrRLheYeC9fEASmlc8IIJC3gFpXjxw50lfRK126tHFT2VOryt27dwf908V1XpOWcyqYQ4cODTmrHpV05lu3bl3I+fRDNGVzrAZ5JogfEUAg5QLqfuKjjz6yrQ7ff/99o8FvnDKlcePGQUcCD0y0yrNQZV1glxeBy+b1OVyZpT7KnbSGCrpq+848V155ZV6bMxpt2BkESMv06dPHHDp0KM9l+BEBBGIXWLFihSlZsqT9Xw186iXaQGYsdTDtUTzLl1jqUuHKQaU1mkCmM5iZyjpGLo89D7OG9BcgkJn+xzDmPYikwA21kVSddOJ1sorHBUEoG75HAIHkCWjAn169evkugMuXL2+++eYbVwk46aSTfMs7F9LO60svvRR2XWXKlLHL62I61DRo0CDfNnbu3BlqNvu927I5HgZ5JogfEUDAcwK64G7fvr2vXJk2bVrYNE6fPt03v1PGOa916tQJu3yoGcKVWQ8//LBvu7/88kvQ1fzxxx++eXRjKtT02WefGafMVdrVpUe4G06h1sX3CCAQuYD+z0499VT7f6rW0Nu3b8+xcLSBzFjrYPEqX2KtS4UrB4UVTSCzXr161rxAgQI5+lPPgc8HBLJIgEBmFh3sULsaSYEbatlUnXTidbIK3K9oLggC18FnBBBIroBa9rRp08Z38auKdTR9pNWvX9+3Duei3nmNJJDZoEEDu3ynTp1CAjh9HBUsWDDkPM4PbsrmeBk42+YVAQTSR0AD5zhlVST9SqYqkPnaa6/50hnqRpP6+nT2Zdy4cUEPgoK1zgi+mveWW24JOh9fIoBA/AXee+893/9opUqV7I0U3Uxx/vzrUk2bNrXfjx8/PmxC/JdzygDnNZI6WDzKl3jUpSKpu7kNZKqleZEiRax7rVq1wloyAwLZIEAgMxuOcph9jKTADbWKVJ104nGyCrVPbi8IQq2H7xFAIPECar1Tt25dX6W6ZcuWZsOGDVFt+JFHHrF9WKofy8C///znP2HX6bSKOuGEE0LOq/SpYq6gZ7gp0rI5ngbh0sTvCCCQXIGNGzeajz+FC3EjAAAgAElEQVT+2Dz77LMhWxyqv0nngr9bt25hE6gbPYFlnPN50qRJYZcPNUO4MkuDTTrpfOONN4KuZubMmb55VNcLnB588EHf77oh9PTTTwfOwmcEEEigwJtvvun7H3T+n8O9Bj5+Hix5sdbBYi1f4lWXClcOat/dBjJ188YxvuCCC4Lx8R0CWSdAIDPrDnnuHY6kwM291H+/SdVJJ9qTVSIuCELZ8D0CCCRWQHfOnUdtVMHr3r277fctsVsNvfZhw4b5KprLli3LNaMG99GgHEprJJX6SMpmrxnk2mm+QACBmATuu+8+X7nyySefBF3XwoULffOoH95UTeHKLI1qrOCjysCLL744aDJVNjoX7KtXr84xj4Kszm+lSpWyfYXmmIEPCCCQcAGVN/369Qv517p1a9//qeplmvfVV19NeLpiKV/iWZcKVw4Kwk0gU90QVa9e3Wf66aefJtySDSCQDgIEMtPhKCU4jZEUuIlKQrQnnWiXS6cLgkSZs14EMkXA/4L38ssvT/kgDwpeOoHKUaNG5WK+/fbbfRXRt99+O9fvgV9EUjZ7zSBwH/iMAAKxCegRbCd416VLl6ArO//8833zvPvuu0HnScaXkZRZvXv3tmktVqyY0c1l/+nvv/82GqRN+6uBi/wn9anpPFqpeRRMYUIAAe8JRNtHZjz2JNryJZ51qUjKwUgDmatWrTL+g/zoqR4mBBD4rwCBTHJCVCPjxpMt2pNONMul0wVBPI1ZFwKZJqBW2U7QUBe9d999t9Ejh6H+3IxeHouVE1BQ2h544AHbQlQdxz/66KMmf/789gJdXXKoP95wU7jKsFcNwu0XvyOAQOQC6hutRYsWvkClWn7v2LHDrkA3dTW4mBPoVEuoVA54E67MUqIXLVrkS6+62Pjpp5/svihQ2aRJE99vr7zySg6kc845x/eb+kQOVdbrez0txIQAAqkRSGUgM5ryJd51qUjKQf9A5plnnpmjPBs7dqx9aqddu3amaNGivnJPg1h+9913qTmobBUBDwoQyPTgQUl2kiIpcBOZpmhOOkpPNMul0wVBIs1ZNwLpLtCzZ09f5c65iM/r9bbbbkvKLquSWbFiRV/a1ILIvyJasmRJs3jx4ojSEq5s9qpBRDvHTAggELHAypUrTbly5Xzlih7Prly5su+zyr4aNWoYtd5J5RSuzHLSNmjQoBxpd1phOmX4ZZdd5sxqX3/44Ycc8zvz5fUayc2iHBvhAwIIxEUglYFM7YDb8iXedalIykH/QGZe5ZjzW5UqVQhixiV3spJMEiCQmUlHM8p9iaTAjXLVES/m9qTjrDia5dLlgsDZR14RQCC3gH/LHaeil9drsgKZSqn6wjz99NN9LTCddKm1lAYTi3TyL5uDjcLuZYNI95H5EEAgMoF169YZPYni3xJdZYtulgwdOtRs3749shUlcK5wZZb/ptVqsmzZsjkClCVKlDDqgmP//v3+s5oZM2bkmM8pU/N6JZCZg5APCCRN4IUXXvD9vy5fvjxp2/XfkJvyJd51qUjKwbwCmSrjdUNc6dLAPlOnTk1p/+/+rrxHwEsCBDK9dDRSlJZICtxkJM3NScc/PdEslw4XBP77yHsEEEg/AXXQPnfuXKMBOgIHrUi/vSHFCCDgBQE9Vq4bIuoLU49lHzhwwAvJijoNv/32m3n//ffNt99+a3bt2hX1elgQAQQQCBSgfAkU4TMCmSNAIDNzjmXG7Em0J51olsu0C4KMyQTsCAIIIIAAAggggAACCCCAAAIIIBAgQCAzAISPCCCAAAIIIIAAAggggAACCCCAAAIIIOA9AQKZ3jsmpAgBBBBAAAEEEEAAAQQQQAABBBBAAAEEAgQIZAaA8BEBBBBAAAEEEEAAAQQQQAABBBBAAAEEvCdAINN7x4QUIYAAAggggAACCCCAAAIIIIAAAggggECAAIHMABA+IoAAAggggAACCCCAAAIIIIAAAggggID3BAhkeu+YkCIEEEAAAQQQQAABBBBAAAEEEEAAAQQQCBAgkBkAwkcEEEAAAQQQQAABBBBAAAEEEEAAAQQQ8J4AgUzvHRNShAACCCCAAAIIIIAAAggggAACCCCAAAIBAgQyA0D4iAACCCCAAAIIIIAAAggggAACCCCAAALeEyCQ6b1jQooQQAABBBBAAAEEEEAAAQQQQAABBBBAIECAQGYACB8RQAABBBBAAAEEEEAAAQQQQAABBBBAwHsCBDK9d0xIEQIIIIAAAggggAACCCCAAAIIIIAAAggECBDIDADhIwIIIIAAAggggAACCCCAAAIIIIAAAgh4T4BApveOCSlCAAEEEEAAAQQQQAABBBBAAAEEEEAAgQABApkBIHxEAAEEEEAAAQQQQAABBBBAAAEEEEAAAe8JEMj03jEhRQgggAACCCCAAAIIIIAAAggggAACCCAQIEAgMwCEjwgggAACCCCAAAIIIIAAAggggAACCCDgPQECmd47JqQIAQQQQAABBBBAAAEEEEAAAQQQQAABBAIECGQGgPARAQQQQAABBBBAAAEEEEAAAQQQQAABBLwnQCDTe8eEFCGAAAIIIIAAAggggAACCCCAAAIIIIBAgACBzAAQPiKAAAIIIIAAAggggAACCCCAAAIIIICA9wQIZHrvmJAiBBBAAAEEEEAAAQQQQAABBBBAAAEEEAgQIJAZAMJHBBBAAAEEEEAAAQQQQAABBBBAAAEEEPCeAIFM7x0TUoQAAggggAACCCCAAAIIIIAAAggggAACAQIEMgNA+IgAAggggAACCCCAAAIIIIAAAggggAAC3hMgkOm9Y0KKEEAAAQQQQAABBBBAAAEEEEAAAQQQQCBAgEBmAAgfEUAAAQQQQAABBBBAAAEEEEAAAQQQQMB7AgQyvXdMSBECCCCAAAIIIIAAAggggAACCCCAAAIIBAgQyAwA4SMCCCCAAAIIIIAAAggggAACCCCAAAIIeE+AQKb3jgkpQgABBBBAAAEEEEAAAQQQQAABBBBAAIEAAQKZASB8RAABBBBAAAEEEEAAAQT+j70zgb+p6v5/5jlT5swhGSKUUCqRUkmpkGZSiUTPU9JcDxokolQoSZNSGUpJpRBKeJJZZJYhMo/7//rs53/u77q+w/3e8Zxz3/v1uq87nHP2Xvt99l1n77XXXhsCEIAABCAAAQi4jwCGTPfdEySCAAQgAAEIQAACEIAABCAAAQhAAAIQgAAEQghgyAwBwlcIQAACEIAABCAAAQhAAAIQgAAEIAABCEDAfQQwZLrvniARBCAAAQhAAAIQgAAEIAABCEAAAhCAAAQgEEIAQ2YIEL5CAAIQgAAEIAABCEAAAhCAAAQgAAEIQAAC7iOAIdN99wSJIAABCEAAAhCAAAQgAAEIQAACEIAABCAAgRACGDJDgPAVAhCAAAQgAAEIQAACEIAABCAAAQhAAAIQcB8BDJnuuydIBAEIQAACEIAABCAAAQhAAAIQgAAEIAABCIQQwJAZAoSvEIAABCAAAQhAAAIQgAAEIAABCEAAAhCAgPsIYMh03z1BIghAAAIQgAAEIAABCEAAAhCAAAQgAAEIQCCEAIbMECB8hQAEIAABCEAAAhCAAAQgAAEIQAACEIAABNxHAEOm++4JEkEAAhCAAAQgAAEIQAACEIAABCAAAQhAAAIhBDBkhgDhKwQgAAEIQAACEIAABCAAAQhAAAIQgAAEIOA+Ahgy3XdPkAgCEIAABCAAAQhAAAIQgAAEIAABCEAAAhAIIYAhMwQIXyEAAQhAAAIQgAAEIAABCEAAAhCAAAQgAAH3EcCQ6b57gkQQgAAEIAABCEAAAhCAAAQgAAEIQAACEIBACAEMmSFA+AoBCEAAAhCAAAQgAAEIQAACEIAABCAAAQi4jwCGTPfdEySCAAQgAAEIQAACEIAABCAAAQhAAAIQgAAEQghgyAwBwlcIQAACEIAABCAAAQhAAAIQgAAEIAABCEDAfQQwZLrvniARBCAAAQhAAAIQgAAEIAABCEAAAhCAAAQgEEIAQ2YIEL5CAAIQgAAEIAABCEAAAhCAAAQgAAEIQAAC7iOAIdN99wSJIAABCEAAAhCAAAQgAAEIQAACEIAABCAAgRACGDJDgPAVAhCAAAQgAAEIQAACEIAABCAAAQhAAAIQcB8BDJnuuydIBAEIQAACEIAABCAAAQhAAAIQgAAEIAABCIQQwJAZAoSvEIAABCAAAQhAAAIQgAAEIAABCEAAAhCAgPsIYMh03z1BIghAAAIQgAAEIAABCEAAAhCAAAQgAAEIQCCEAIbMECB8hQAEIAABCEAAAhCAAAQgAAEIQAACEIAABNxHAEOm++4JEkEAAhCAAAQgAAEIQAACEIAABCAAAQhAAAIhBDBkhgDhKwQgAAEIQAACEIAABCAAAQhAAAIQgAAEIOA+Ahgy3XdPkAgCEIAABCAAAQhAAAIQgAAEIAABCEAAAhAIIYAhMwQIXyEAAQhAAAIQgAAEIAABCEAAAhCAAAQgAAH3EcCQ6b57gkQQgAAEIAABCEAAAhCAAAQgAAEIQAACEIBACAEMmSFA+AoBCEAAAhCAAAQgAAEIQAACEIAABCAAAQi4jwCGTPfdEySCAAQgAAEIQAACEIAABCAAAQhAAAIQgAAEQghgyAwBwlcIQAACEIAABCAAAQhAAAIQgAAEIAABCEDAfQQwZLrvniARBCAAAQhAAAIQgAAEIAABCEAAAhCAAAQgEEIAQ2YIEL5CAAIQgAAEIAABCEAAAhCAAAQgAAEIQAAC7iOAIdN99wSJIAABCEAAAhCAAAQgAAEIQAACEIAABCAAgRACGDJDgPAVAhCAAAQgAAEIQAACEIAABCAAAQhAAAIQcB8BDJnuuydIBAEIQAACEIAABCAAAQhAAAIQgAAEIAABCIQQwJAZAoSvEIAABCAAAQhAAAIQgAAEIAABCEAAAhCAgPsIYMh03z1BIghAAAIQgAAEIAABCEAAAhCAAAQgAAEIQCCEAIbMECB8hQAEIAABCEAAAhCAAAQgAAEIQAACEIAABNxHAEOm++4JEkEAAhCAAAQgAAEIQAACEIAABCAAAQhAAAIhBDBkhgDhKwQgAAEIQAACEIAABCAAAQhAAAIQgAAEIOA+Ahgy3XdPkAgCEIAABCAAAQhAAAIQgAAEIAABCEAAAhAIIYAhMwQIXyEAAQhAAAIQgAAEIAABCEAAAhCAAAQgAAH3EcCQ6b57gkQQgAAEIAABCEAAAhCAAAQgAAEIQAACEIBACAEMmSFA+AoBCEAAAhCAAAQgAAEIQAACEIAABCAAAQi4jwCGTPfdEySCAAQgAAEIQAACEIAABCAAAQhAAAIQgAAEQghgyAwBwlcIQAACEIAABCAAAQhAAAIQgAAEIAABCEDAfQQwZLrvniARBCAAAQhAAAIQgAAEIAABCEAAAhCAAAQgEEIAQ2YIEL5CAAIQgAAEIAABCEAAAhCAAAQgAAEIQAAC7iOAIdN99wSJIAABCEAAAhCAAAQgAAEIQAACEIAABCAAgRACGDJDgPAVAhCAAAQgAAEIQAACEIAABCAAAQhAAAIQcB8BDJnuuydIBAEIQAACEIAABCAAAQhAAAIQgAAEIAABCIQQwJAZAoSvEIAABCAAAQhAAAIQgAAEIAABCPiDwN69e82PP/5oPvroI/v64YcfzJ49e/xROWoBgRQkgCEzBW86VYYABCAAgdgQ2LVrlxk2bJi57rrrTKVKlUy+fPlM/vz5TbVq1UzHjh3N6NGjzf79+2NTGLlAAAIQSCKB48ePm2+++cY89NBDpkWLFqZmzZrmzDPPNM2bNze9e/c2kydPNseOHUuihBQNAQhA4P8IHDp0yLz77rvm/PPPN9mzZzennHLKCa9s2bKZ8847z4wZM8YcPHjw/y7kEwQg4HoCGDJdf4sQEAIQgAAE3EbgwIEDdjBfoECBQKe4aNGi1phZsWJFc+qpp57w+8CBA83Ro0fdVg3kgQAEIBAWARkDqlevHtBrOXLkMEWKFDHSezlz5gz8XqFCBfPaa68ZGT1JEIAABJJFYO7cuaZGjRpWN0lfnXHGGXbSpW3btkYvTcBo0lnHZODU8dmzZydLXMqFAASySABDZhaBcToEIAABCKQ2gaVLlwY6x8WLFzdXXHGF+fe//22eeOKJE159+vQxl156acCoee6555oNGzakNjxqDwEIeIqAvM416NdAP0+ePKZRo0amS5cu5tFHHw3ou8cee8zcddddpkmTJtYrXedecsklZvPmzZ6qK8JCAAL+IDBq1CjrgSkvzGbNmhn1x0L7aM73Bx980FxwwQX2fHlojhgxwh8QqAUEfE4AQ6bPb7Cbq7dt2zYzZcoU079/f/Pwww+bxx9/3IwdO9YsW7bMzWIjGwQgkMIElixZYkqWLGnU2b3wwgtPGMw7neLQ9759+9rBvzPjjzEzhRsQVYeAhwjIiNmwYUNrxJQ3ZkbGAEfvadl53bp17TXyhsKY6aEbjqgQ8AEBLRNXf0srYzTB4uimzN67detmvcx17ciRI31AgipAwN8EMGT6+/66snbfffedueqqq6whQA+LtF5nnXWWXZqk2CYkCEAAAm4goKDwioMpI+a1114bdufY6Ty3bNnS6rsGDRqYI0eOuKFKyAABCEAgTQJaGi6PcvXRGjdunGV9pxiaurZ+/frm8OHDaZbBjxCAAARiSWDFihUmb968plChQqZHjx5Z1ls9e/a0BlB5n2vimgQBCLiXAIZM994b30mmmf1bb701YLisXLmyadWqlf3tnnvusUuVrr76alOvXj2TO3due16dOnXMggULfMeCCkEAAt4jcPfdd1u9pMG9Y5zM6ruWl2tw/+yzz3oPABJDAAIpQ2D48OGBflhW9Zxzvgyg0nf6ToIABCAQbwIKaSGd07lz54j7abfccovNo2nTpvEWl/whAIEoCGDIjAIel4ZP4K+//jK1atWyDwZthHHvvfdm+IDR0iTFWpLnk2bFvvrqq/AL40wIQAACMSawbt06Gz+pbNmyNgyGM1DP6vsjjzxily5pyZM8PEkQgAAE3EZAu/cq/m/BggXtpmZZ1XPO+f369bP5yENqx44dbqsm8kAAAj4iIMcXGTFr1qyZ4RjT0U8ZvcuRRnnNmzfPR4SoCgT8RQBDpr/upytrs3fvXlO7dm37QFAwZcXCzOjhEXzstttus4ZMGTNnzZrlyvohFAQg4H8CGpCrU3v99deHrb+CdVnw58suu8zmRUB5/7cbaggBLxJwYszJuylYd0XyWaGEpDtfeOEFL6JAZghAwCMEtJRcukZjx0h0VfA1d955p81LMTZJEICAOwlgyHTnffGVVN27d7cPA+0aF/yQCPfzHXfcYXLkyGG0FF1GURIEIACBRBPQTr2aUNHuvOHqrvTO0w7n6mwrziYJAhCAgNsIaMJGOiqczX3S03PO7/JCz5kzp2nevLnbqok8EICAjwgo/ri8v7PiMOPoqbTe8+fPbx1xfISIqkDAVwQwZPrqdrqvMo6bf7ly5aIyADhB4x999FH3VRKJIAABXxPQRhWK26uNftLq7EbyW7FixUz58uV9zY3KQQAC3iSgEEBFihSJmb5TH1DL1I8dO+ZNIEgNAQi4moB0S65cuWLaT6tataoNKcRmZa6+9QiXwgQwZKbwzU9E1eVNqVn922+/PaoOsbygFFPutNNOM4rdRIIABCCQKAIbN260euycc86JSo8FGzzPOOMMGwM4UXWgHAhAAALhENBu5eq3SUcF66xoPp999tk2z61bt4YjAudAAAIQyBIBrdiT3jrrrLNiprfq1q1r89y5c2eWZOFkCEAgMQQwZCaGc0qWcuTIESO3/FKlSsXkoXLxxRfbB8rEiRNTkieVhgAEkkNgw4YNVvdo2VI0g/nga6tVq2bzTE6NKBUCEIBA2gSOHj1qdVONGjVipu80CSQjgyaFSBCAAARiTUBOLtIxsdRbMooqTzZmjPXdIj8IxIYAhszYcCSXNAgsXLjQPgAaN24ck86w493J8vI0YPMTBCAQNwL79++3y4ti6aFUsmRJ62EeN6HJGAIQgECEBLQMXMvBgydfovlcvXp164G+b9++CCXiMghAAAIZE5DOUtieaHRV8LUlSpQw6quRIAABdxLAkOnO++ILqcaNG2cNmddcc01MHioKGK+ZsXbt2vmCD5WAAAS8Q0Az8wUKFIiZLsuWLZtp3bq1dwAgKQQgkDIEtDGPNujRxHHwwD7SzzKMnnnmmSnDj4pCAAKJJ6DxocaJDz74YNR6S5syqp/Wpk2bxFeEEiEAgbAIYMgMCxMnRULgzTfftA+UG2+8MeoHitN5zp49u7nssssiEYdrIAABCERMoHv37laf3XLLLVHrM03uqLM9YMCAiOXhQghAAALxItCvXz+rozp06BC1vuvSpYvNS+8kCEAAAvEiMGbMGKtrLrnkkqj1VsuWLW1eGsuSIAABdxLAkOnO++ILqd599137ENAMmWOIjObd6VjLCECCAAQgkEgCv/32m9Vnim0ZjR57/PHHTenSpe3ummx8kcg7SFkQgEC4BFavXm29kSpXrhyVvpOurF27ttWdc+fODbd4zoMABCCQZQKKk6lNYeUB/q9//Sti3fXQQw+ZQoUKmSJFihiFFiJBAALuJIAh0533xRdSzZ8/33Zezz///IgfJsEGgzvvvNPm17dvX1/woRIQgIC3CFx55ZVWB7Vv3z5indaqVSubx9133+2tyiMtBCCQUgSk5+Q5fu2110as7zp37mzzuOCCC1KKHZWFAASSQ+D111+3OkfhgDRxHDyODPezM/kybNiw5FSCUiEAgbAIYMgMCxMnRULg8OHDJk+ePKZMmTIRPUhCHzgtWrSwD6cJEyZEIg7XQAACEIiKgHYvL1y4sMmbN6/RxEqojsrse8eOHU2OHDlMhQoVzD///BOVLFwMAQhAIJ4ENm/ebIoWLWr1XdeuXbOs7+677z7rGSV9uXz58niKSt4QgAAEAgQuv/xyO15s0KBBlo2Z5557rr320ksvNcePHw/kyQcIQMB9BDBkuu+e+Eqim266yT4QFBsps0F+Rsc1qyYXf9z8fdU8qAwEPEdg6tSpJnfu3HZwf/3114et1+TNKSOmDKG//PKL5+qNwBCAQOoR+OKLL2wYjHz58hl5V2bUTws+dscdd9ilmdosQ2GGSBCAAAQSRWDPnj2mWbNmdvxZqVIlc//992equ3r16mWqVKlir2ncuLHZvXt3osSlHAhAIEICGDIjBMdl4RFQTCQtTapYsWKWZ8WCO8Xa3Vf5KOYJCQIQgEAyCUyaNMmceuqpVidpJ97bb789zU6yJmA0maOOtPRXrly5zE8//ZRM0SkbAhCAQJYISN/Jq1I6rF69ekYbnwX3z4I/9+zZ0zgeTTJijho1KktlcTIEIACBWBCQMVObM0pvaRK5Tp06tj+m3cgdnaXPmqCpW7euPUfndurUycycOTMWIpAHBCAQZwIYMuMMmOyNHeTr4RDpLnLdunWzBoBy5cqZXbt2gRQCEIBA0giMHz/ePP3002bdunXGWb4k/SbDpoya5513nh3Ia1OgAgUK2E60juuY3h955JGkyU7BEIAABCIhsGLFCqN459JheilkUMOGDY1i/uol4+Xpp59uNwjS8RIlStjzmHyOhDbXQAACsSKgiZhGjRoFdJf0kyZmnMkZR6edc8455rPPPrPFqp8m78y///47VmKQDwQgEAcCGDLjAJUsTyQg9/yqVavah0jLli0DM2HOjFhG74rLlD9/fpMzZ07zzTffnJgx3yAAAQgkiMDevXvtzL06vR9//HGg1F9//dVIT51xxhkndJTljaRg81rSpPhw2k2zVq1adtZ/9uzZgev5AAEIQMALBBQv7uuvvzbXXHONXTbuGACcd/XVtHpGxoADBw5YL6fs2bObH374wQvVQ0YIQMDHBBTS5/nnnzcKCaRl53ppQ7OBAweaefPmnVBz6TnpNe2APmPGjBOO8QUCEHAPAQyZ7rkXvpZk/fr1AWNm9erVjWKRZGTA7Nevn/Xg1HIAGTE/+eQTX/OhchCAgHsJ/Pzzz0Ye4dq8TJ1bLVlKK2nSZtWqVWb16tVGhs/QtGDBAhtfU0bPtI6Hns93CEAAAm4kIKPmsmXLzLfffmumT59uFi9ebI4ePXqCqIsWLbI6U6E12NzsBDR8gQAEXExAm9U6HpuKD9ynTx9z5MgRF0uMaBBITQIYMlPzvie81n/88YedyW/Xrp01BMhbSUstr7rqKnPXXXdZw6Z2uNRMmZZm6sEhg4E8OadNm2YmT56ccJkpEAIQSG0Cx44dM0899VRAH0knKc5SNKl///5Wt0nvkSAAAQj4mYA8oKQ3b7vtNj9Xk7pBAAI+I9C0aVOru6S/5G1es2ZNoxAbJAhAwD0EMGS65174VpK3337bPgzkpaSkZUfNmzcPPCD0kAh9VahQwTz33HNm37599hodb9Kkidm/f79vOVExCEDAPQQUA7NBgwa2A+voJ3mHP/bYY1EJKeOo00FmgiYqlFwMAQi4nID0ndPfmzBhgsulRTwIQAAC/yMwaNCgwCoc9QHlgCOD5ogRI0AEAQi4hACGTJfcCD+KoSDJ8rh0jAChdZSX5vvvv28eeughc++991qvzOHDhxvtdB66ROnmm2+2+ZQvX95oeSYJAhCAQLwISC8VLFgwsIulo8MKFSpkYhHfUrpPeZUqVcps27YtXtUgXwhAAAJJJ7B27Vq7GZrizW3ZsiXp8iAABCAAgcwIKFxG8IaNTj9Qv1122WVmx44dmWXBcQhAIM4EMGTGGXCqZq/gyOq05s6d2xogZYiMJn3xxRe2I6wHiZadDxgwwChGEwkCEIBArAgojpuCv2vW3em0Br8rZlLoJEukZY8cOdKWoXAbJAhAAAJ+JuCszGnTpo2fq0ndIAABHxEoXLhwmn1BjfVkTqkAACAASURBVG2LFStmQ5/5qLpUBQKeI4Ah03O3zN0CK0By7969T4gpJ8+jjz76KCrBtTFGrly5Ag8UGRoUS3Pjxo1R5cvFEIAABERAnpbykHQ29Ak2YDqfL7744pjCatu2rdVpo0ePjmm+ZAYBCEDAbQSuu+46q+9Ymum2O4M8EIBAWgScfR2cPmDouxxrtKLw0KFDaV3ObxCAQJwJYMiMM+BUyl5BkBUMOdSbSTNXsXDBP/vsswOGTD1MFK9ORtKPP/44lTBTVwhAIIYE5GHZt2/fEyZfQjur+q4O69ChQ2NYsjF//fWXKVmypNVja9asiWneZAYBCEDATQS2b99uSpcubZdrrly50k2iIQsEIACBkwiMGTPGhhlKq0/o/Ka+4RlnnGF+//33k67nBwhAIL4EMGTGl2/K5K4ZdhkwFQzZUe7Oe7Vq1WLCQbsHB3tlOvmr3I4dOxp5bZIgAAEIhEtAsSrr1q170uSLo1uC36Vnli1bFm7WYZ83ceJEqzMvuOACo40xSBCAAAT8SkBhgqRXGzduHLMwHX5lRb0gAIHkEtCqv4xW6Th9RGcjoCFDhiRXYEqHQIoRwJCZYjc81tXVDHurVq3SNQRkz57d9OnTJybFzpkzx3ouOQ+O4HfFritbtqyZN29eTMoiEwhAwN8E3nrrLesZJB0VrEvS+6x4SPFKXbp0sTIMHDgwXkWQLwQgAAFXELj77rutvnv66addIQ9CQAACEEiPgDaZTa9fmNbv2gxo69at6WXH7xCAQAwJYMiMIcxUy2ratGmmaNGiaXpJOsr91FNPNdOnT48JGi0BlQu/k3da7zr+xBNP4NkUE+JkAgH/EThy5Ii57777AnpEwdylpzKbdb/hhhviBmPPnj2matWqdnO0hQsXxq0cMoYABCCQbAL79u0zWqmj8EA///xzssWhfAhAAALpEtDES1qrDbVCsGDBglaPqf9YpkwZu8KncuXK5oUXXmAcmi5RDkAgdgQwZMaOZcrkpKDGCm6cmVFRhkbFxzx48GDM2LRo0SJggEjLkKnftAS0fv365s8//4xZuWQEAQj4i4D00tq1a+0mP4qzq/iXd955p5GHZminVbF433vvvbgCmDVrlsmRI4epXbt2THVmXIUmcwhAAAIREJg7d641AJx55plm//79EeTAJRCAAATiT2Dy5Ml2sjt4zOms5HnllVcIaxb/W0AJEEiXAIbMdNFwIC0CCmYsz6FwjJhS+tpZPJZp+PDhYZUtg4BmysaNGxfL4skLAhDwKQF5ajZq1MgaMStVqnTChIkmZLQxT7zTI488Ysvt3bt3vIsifwhAAAJJJfD4449bfScPeRIEIAABNxLQihn1AR1Dpj7fdtttRqt5ihcvbjZv3uxGsZEJAilBAENmStzm2FTy5ZdfDihyR6Fn9C5X+1jHfNPO6PK4zKjc0GPazGP37t2xgUAuEICALwk4g+oePXoYbUihOEeOLpFhMxHp8OHD5pxzzrHG1G+//TYRRVIGBCAAgaQQCJ48+uqrr5IiA4VCAAIQyIxAnTp1Av1BOfJs2bLFjB071v52+eWXZ3Y5xyEAgTgRwJAZJ7B+y1YzTiNHjrRLym+99VbTvHlzc8YZZ9gZqdBlmM7gXx6RCxYsiDkKzYA5ZQS/O7vGKTDzueeea9q3b2969uxpBgwYQBymmN8FMoSAfwhoIzHFa6tZs2ZgmaOWPEq/aAmR9Eii0pIlS4w2L6tQoYLZtWtXooqlHAhAAAIJJ7B8+XI7Oa3NGnfs2JHw8ikQAhCAQGYENNGtmJh6devWLXC6Yqern/jqq68GfuMDBCCQOAIYMhPH2pclHTt2zDRp0sQqcg2+gw2Liit3/PjxmNe7U6dOJ5QjA4TKlqfmqlWrYl4eGUIAAv4l4Gw8oQ7qL7/8Eqjo559/bsNTaCOgqVOnBn5PxIfBgwdbHXfzzTcnojjKgAAEIJA0AsOGDbP6Lp4bqiWtchQMAQh4nsDs2bPthpAaa27cuDFQH02+aBJG40+tGCRBAAKJJYAhM7G8fVda//79bQf0rrvuMrVq1TrBwNimTZu41PeDDz4wMpI6RlM9WMaMGWO/n3/++Ua7m5MgAAEIhENAO1JKlzzzzDMnna4Oqo4lejMKTQA5G5uNHz/+JLn4AQIQgICfCLRu3drq2nfffddP1aIuEICADwhoXKm+YNu2bU+qjcJiaEWgVgIqXAYJAhBIHAEMmYlj7buStGxcXkxaYr53714zZcoU68EkZa/4cqNGjYpLnbdt2xYIvCxvzM6dO9tyMjJIxEUQMoUABDxNQLEwpa/SmwB54403TNGiRZNSx/Xr15siRYrYYPKbNm1KigwUCgEIQCARBKTjihUrZnXeunXrElEkZUAAAhAIm8D1119v0tNN3bt3t33JJ598Muz8OBECEIieAIbM6BmmZA4HDhywHpjaHfynn34KMKhRo4ZV5vKS/PPPPwO/x/pDlSpVAuWsWbPGZp/eEtFYl01+EICA9wls377dlC5d2k66pBeSQp6REydOTFplx40bZ/WcvJVIEIAABPxMQN7nmli65JJL4hKWyM/sqBsEIBBfAsFLykNL0qodjX/lXDNv3rzQw3yHAATiRABDZpzA+j3bXr162Q7no48+ekJVFVdOHVEZCOKZnPJvvPHGE4qZO3fuSZt2nHACXyAAAQgYY6699lqrq15//XVX8+jQoYOVc/jw4a6WE+EgAAEIREtAK2zUh3zppZeizYrrIQABCCSMgAyYMmTKoJnocEQJqyQFQcBlBDBkuuyGeEGc6dOn23ggDRs2PCkeiDyY1Alt2rRpXKuimCQqZ+XKlSeVo93ldKxHjx4nHeMHCEAAAm+//bbVEVdeeaXrYezcudOUK1fOBpPXDr8kCEAAAn4lsGvXLlOhQgW7gePixYv9Wk3qBQEI+JCAlpZr/Kml5iQIQCD+BDBkxp+xr0r4+++/Tfny5U2+fPnM0qVL06zbxx9/bD799NM0j8XqRy1t79q1a5rZKdhyo0aNrLH166+/TvMcfoQABFKTwNq1a412Ii9RooTZsmWLJyBMmzaNYPKeuFMICQEIREvgu+++s/quXr165tChQ9Fmx/UQgAAEEkJA48/zzjvP6q+pU6cmpEwKgUAqE8CQmcp3P4K6d+rUyc42DR06NN2r5ZWZCLd6bTCUXpLnUv78+a0nkzyaSBCAAASOHTtmLrzwQqvD4j3ZEmva8jDXTP8TTzwR66zJDwIQgICrCPTu3dvqu4cffthVciEMBCAAgYwIrFixwo4/y5Yta3bs2JHRqRyDAASiJIAhM0qAqXT5Bx98YDuWrVq18kQg9mHDhll5Q+NoptI9o64QgMD/EXj++eetTrj99tv/70ePfNLkUM2aNW0MJsUCJkEAAhDwK4GDBw+a2rVrm+zZs5uZM2f6tZrUCwIQ8CGBV1991fY1tdM5CQIQiB8BDJnxY+urnLVbW9GiRU2xYsVMRju3ua3S2u1XXkza/ZcEAQikLoFFixaZ3Llzm8qVK5t//vnHkyB++eUXkytXLlO9enWzb98+T9YBoSEAAQiEQ2DhwoWe19nh1JNzIAAB/xG4/PLL7fhz7Nix/qscNYKASwhgyHTJjXCzGFoqLi9MGQQ//PBDN4t6kmybNm2yxtciRYqY9evXn3ScHyAAAf8TkHdPnTp1rHfPjz/+6OkKP/PMM1YX33PPPZ6uB8JDAAIQyIzAwIEDrb674447MjuV4xCAAARcQ2Dz5s2mePHipnDhwmbdunWukQtBIOAnAhgy/XQ341QXxcOUEVPxMb2Yxo8fb+Vv0aKFJ5bEe5ExMkPAzQQefPBBqwMeeughN4sZlmxHjx41559/vq3Pl19+GdY1nAQBCEDAiwQU1/iCCy6w+u6zzz7zYhWQGQIQSFECn3zyidVdF198MePPFG0DVDu+BDBkxpev53PXzuTaofz000832rHcq6lz5872YTJ48GCvVgG5IQCBCAjMmDHDemKeffbZvtkBd9WqVaZAgQKmTJkyZvv27RFQ4RIIQAAC3iCwZs0aU6hQIVOiRAmzdetWbwiNlBCAAASMMbfccosdfw4aNAgeEIBAjAlgyIwxUD9ld+TIEdOwYUOTLVs2M23aNE9XbdeuXaZ8+fImb968ZsmSJZ6uC8JDAALhEVAszEqVKpk8efKY3377LbyLPHLW66+/bjvH7du394jEiAkBCEAgMgKjR4+2+u6qq66KLAOuggAEIJAEArt37zYVK1a0/dDFixcnQQKKhIB/CWDI9O+9jbpmjz32mO049uzZM+q83JDB9OnTrVG2QYMG5vDhw24QCRkgAIE4ErjtttusDnvxxRfjWErysm7Tpo2t3zvvvJM8ISgZAhCAQAIItGvXzuq7N998MwGlUQQEIACB2BD4/vvv7cqgevXq+WZlUGzIkAsEoiOAITM6fr69es6cOSZHjhymZs2a5sCBA76pZ69evWxHuF+/fr6pExWBAAROJjBhwgT7X/dzbKItW7aY0047zQaT//PPP0+GwC8QgAAEfEJg27ZtplSpUqZgwYJm9erVPqkV1YAABFKBQJ8+fWyf9OGHH06F6lJHCCSEAIbMhGD2ViF79+411apVM7ly5TLz58/3lvCZSCujbK1atayRdvbs2ZmczWEIQMCLBFLJwOcYbC+66CKCyXuxsSIzBCAQNoHJkydbY0CTJk2MNj4jQQACEPACgYMHD5o6depYz8yZM2d6QWRkhIDrCWDIdP0tSryA3bp1sx3FZ599NvGFJ6DEBQsWmNy5c5uqVasaGW1JEICAvwik2pJrvy+h91frpDYQgEA0BO666y7bR/3Pf/4TTTZcCwEIQCChBBYtWmTHn5UrVzaK4U6CAASiI4AhMzp+vrt6ypQpKTHb3b9/f1vPrl27+u4eUiEIpDKBESNG2P/29ddfnzIY/LypUcrcRCoKAQiERUAT0GeccYZdNfTrr7+GdQ0nQQACEHADgeeee872Ue+44w43iIMMEPA0AQyZnr59sRVe8YdKly5t4w+tWrUqtpm7LLdjx46Zpk2b2ofJpEmTXCYd4kAAApEQWLlypSlQoIApW7as2bFjRyRZePaaH374wS5ZOvvsswkm79m7iOAQgEA4BH766ScbIuiss87yVRz3cOrOORCAgHcJaPx54YUX2vHnZ5995t2KIDkEXEAAQ6YLboJbRHB2hHzjjTfcIlJc5fjjjz9MoUKFbPD4v/76K65lkTkEIBBfAoqX1rhxY9s5nDp1anwLc2nu//73v2399U6CAAQg4GcCjz76qNV3999/v5+rSd0gAAGfEVi7dq059dRTTYkSJczWrVt9VjuqA4HEEcCQmTjWri7prbfesh3Cq666ytVyxlq4kSNH2npfc801sc6a/CAAgQQSePrpp+1/+d57701gqe4q6tChQ0YemdmzZzfy0CRBAAIQ8CuBI0eOmIYNG5ps2bKZb775xq/VpF4QgIAPCaTquNuHt5IqJZEAhswkwndL0WvWrEnpmaG2bdtaA8ioUaPcckuQAwIQyAKBn3/+2eTMmdPUqFHD7Nu3LwtX+u/U3377zeTJk8dUqlSJYPL+u73UCAIQCCKwdOlSky9fPnP66aebv//+O+gIHyEAAQi4m8C1115rx5+pshLS3XcD6bxIAEOmF+9aDGUmVocxWlZesmRJu8xcy81JEICAdwjs37/fnHnmmdaQOW/ePO8IHkdJX3zxRds51m7mJAhAAAJ+JjB06FCr7zp27OjnalI3CEDAZwRSaW8Kn906quMSAhgyXXIjkiUGu6f9j/zEiRNtR7hZs2ZGxl0SBCDgDQL33Xef/e8+8cQT3hA4AVJKh1100UWWy4QJExJQIkVAAAIQSA6B48ePm1atWll99/777ydHCEqFAAQgEAGBKVOmWN3VpEkTo1jvJAhAIHwCGDLDZ+W7MxctWmRy585tqlSpYvbs2eO7+mW1Ql26dLEPkwEDBmT1Us6HAASSQOCrr76y8dHOPfdco3hppP8j8Oeff9qQIaeddprZsmXL/x3gEwQgAAGfEdi4caMpVqyYKVq0qNmwYYPPakd1IAABPxPo1q2bHX8+++yzfq4mdYNAzAlgyIw5Um9kePDgQVOnTh27KcTMmTO9IXScpZQxt2rVqta4u2DBgjiXRvYQgEA0BHbs2GHKli1r8ufPb5YvXx5NVr69dsyYMbZz3KZNG9/WkYpBAAIQEIEPP/zQ6rtLL73UyEuTBAEIQMALBPbu3WuqVatmcuXKZebPn+8FkZERAq4ggCHTFbch8UL06dPHdvgefvjhxBfu4hJnzZplcuTIYWrVqmVk7CVBAALuJHDDDTdYHTZ8+HB3CugSqdq3b285jRgxwiUSIQYEIACB+BDo1KmT1XdDhgyJTwHkCgEIQCAOBObMmWPHnzVr1jQHDhyIQwlkCQH/EcCQ6b97mmmNvv/+e+uJWa9ePXP48OFMz0+1Ex555BHbEX7ggQdSrerUFwKeIDBu3Dj7H23durUn5E2mkNu3bzdlypQxBQoUMCtXrkymKJQNAQhAIK4EtHN5+fLl7U7mS5YsiWtZZA4BCEAglgQee+wx27ft2bNnLLMlLwj4lgCGTN/e2rQrtnv3blOxYkWTJ08es3jx4rRPSvFfZdw955xzbOy96dOnpzgNqg8BdxFYv369KVKkiClevLjZtGmTu4RzqTRffvml7Rw3btyYYPIuvUeIBQEIxIaA+m3ZsmUzDRo0YLI+NkjJBQIQSAABxXpv2LCh1V/Tpk1LQIkUAQFvE8CQ6e37l2Xpb7nlFjugHTRoUJavTaULNJOfN29eO7O/a9euVKo6dYWAawko7lmLFi2sDvv4449dK6cbBbvnnnsst2eeecaN4iETBCAAgZgR6NWrl9V3/fr1i1meZAQBCEAg3gSWLl1qPcpPP/10Iw9zEgQgkD4BDJnps/HdEQ38TznlFHPJJZcQCD2Mu/vyyy9bXjfddFMYZ3MKBCAQbwKDBw+2/8mbb7453kX5Lv99+/aZ6tWr22Dyv/zyi+/qR4UgAAEIOAQUY06xzhXzfPbs2c7PvEMAAhBwPYGhQ4favm7Hjh1dLysCQiCZBDBkJpN+AsvevHmzXYpZuHBhs27dugSW7N2i5P2l3S9l/NVumCQIQCB5BH7//XfrJa3QGAqRQco6gblz55qcOXMaBZPfv39/1jPgCghAAAIeIbBgwQKTO3duU7VqVaNdgUkQgAAEvEBA489WrVrZ8ef777/vBZGREQJJIYAhMynYE1/o5ZdfbhXi2LFjE1+4h0vcsGGDKVq0qClWrJjZuHGjh2uC6BDwLgHFra1fv77dpEyblZEiJ/DEE0/YZ0GPHj0iz4QrIQABCHiAQP/+/a2+69q1qwekRUQIQAAC/yOgMafGnhqDaixKggAETiaAIfNkJr775dVXX7UduRtuuMF3dUtEhd577z3LT7NjmiUjQQACiSXQt29f+x/s06dPYgv2YWkKJt+oUSMbTP7rr7/2YQ2pEgQgAIH/ETh27Jhp2rSpfX5MmjQJLBCAAAQ8Q0CrAbUqUKsDGX965rYhaAIJYMhMIOxkFLVixQqTP39+U7ZsWbNjx45kiOCLMjt06GAfJq+88oov6kMlIOAVAjNnzrRxzmrXrm0OHjzoFbFdLefy5cvtc6FcuXJm586drpYV4SAAAQhEQ+CPP/4whQoVMqVKlTJ//fVXNFlxLQQgAIGEEujUqZMdfw4ZMiSh5VIYBLxAAEOmF+5ShDLK8+bcc8+1njdfffVVhLlwmQhosK8d5PLly2eWLVsGFAhAIAEE9uzZY6pUqWLjnC1cuDABJaZOEcOGDbOd4xtvvDF1Kk1NIQCBlCQwcuRIq++uueaalKw/lYYABLxJQDuXly9f3o4/lyxZ4s1KIDUE4kQAQ2acwLoh2yeffNJ23Lp37+4GcTwvw7Rp06xRuGHDhkZGYhIEIBBfAnfeeafVYQMHDoxvQSmae+vWrS3fcePGpSgBqg0BCKQKgbZt21p9N2rUqFSpMvWEAAR8QGD69Ol2/NmgQQOjmPEkCEDgfwQwZPq0JcybN8/uTlujRg12p43hPe7Zs6ftCD/22GMxzJWsIACBUAKff/65/a9dcMEFRnHOSLEnsGnTJhtMvkiRImb9+vWxL4AcIQABCLiEgJaVlyxZ0i4z13JzEgQgAAGvEOjVq5ftE/fr188rIiMnBOJOAENm3BEnvoB9+/aZ6tWrW0Pmzz//nHgBfFzigQMHTM2aNW3Mvjlz5vi4plQNAskjsHXr1sCAc82aNckTJAVKHj9+vO0ct2jRgmDyKXC/qSIEUpnAxIkTrb5r1qwZE2Sp3BCoOwQ8RkDjz1q1atnx5+zZsz0mPeJCID4EMGTGh2tSc7333nttR+2pp55Kqhx+LXz+/PkmV65cplq1ambv3r1+rSb1gkDSCFx99dVWh40ePTppMqRSwZ07d7a8Bw8enErVpq4QgEAKEujSpYvVdwMGDEjB2lNlCEDAqwQWLFhgY8ZXrVqV8adXbyJyx5QAhsyY4kx+Zl9++aXtoJ133nnm6NGjyRfIpxI8++yzlnO3bt18WkOqBYHkEHjzzTftf6tdu3bJESAFS921a5epUKGCyZs3r/n9999TkABVhgAEUoWANpGTISB37txGhgESBCAAAa8Q6N+/v+0jd+3a1SsiIycE4kYAQ2bc0CY+4x07dpgyZcqYAgUKmBUrViRegBQqUUbiJk2a2IfJlClTUqjmVBUC8SOwevVqU7BgQVOqVCmzbdu2+BVEzicR+O6772ww+fr16xNM/iQ6/AABCPiJwKxZs+wSTS3VPHjwoJ+qRl0gAAEfE1DM+KZNm9rx56RJk3xcU6oGgcwJYMjMnJFnzmjfvr1VbK+99ppnZPayoKtWrbJGl9KlS2N08fKNRHZXEAieHJg8ebIrZEo1IXr37m2fIX379k21qlNfCEAgxQg88sgjVt898MADKVZzqgsBCHiZgDYrK1SokJ301yZmJAikKgEMmT6582PHjrUdsiuuuMInNfJGNd544w3LnWWw3rhfSOleAs5ymbvuusu9QvpcMnkm1a5d23oqzZw50+e1pXoQgEAqEzh8+LA555xzrCf69OnTUxkFdYcABDxGYOTIkXb8ec0113hMcsSFQOwIYMiMHcuk5bRu3TpTuHBhU7x4cbN58+akyZGqBV911VX2YfLWW2+lKgLqDYGoCChOmTbQIoB5VBhjcvHChQtt7LgqVaoYxZIjQQACEPArgSVLltjYwOXLlzeKFUyCAAQg4BUCbIzplTuFnPEigCEzXmQTlO/x48fNxRdfbA1pn3zySYJKpZhgAlu2bDElSpQwp556qlmzZk3wIT5DAAKZEDhw4IBRnLIcOXKY2bNnZ3I2hxNBQLv5nnLKKUa7+5IgAAEI+JnA4MGDrb676aab/FxN6gYBCPiMwNatW03JkiXtMnPGnz67uVQnLAIYMsPC5N6TBg0aZDtgt9xyi3uFTAHJPv30U3sfLrzwQqNAzCQIQCA8Ar169bL/nX79+oV3AWfFnYB0WLNmzex9mThxYtzLowAIQAACySIgh4AWLVpYfffhhx8mSwzKhQAEIJBlAp9//rnVXRdccAHjzyzT4wKvE8CQ6eE7uHjxYpMnTx5TsWJFs3v3bg/XxB+i33777fZh8txzz/mjQtQCAnEmoLhk2bJlMw0aNGCn7Dizzmr2TjB5zfYTTD6r9DgfAhDwEoH169ebIkWKmGLFipmNGzd6SXRkhQAEUpzAnXfeacefAwcOTHESVD/VCGDI9OgdP3TokKlXr57Jnj27mTFjhkdr4S+x//nnH1O5cmUbX27RokX+qhy1gUCMCfz9999Gccny5ctnFKeM5D4Co0aNsp3jtm3buk84JIIABCAQQwLjxo2z+q5Vq1ZGXpokCEAAAl4goHjmimueO3duozjnJAikCgEMmR690w899JDtcD344IMerYE/xf7xxx+tcblOnTpGOwCTIACBtAl06tTJ6rAhQ4akfQK/uoKAdsRUvEztkEmCAAQg4GcCHTp0sPrulVde8XM1qRsEIOAzArNmzbKx5mvXrs3402f3luqkTwBDZvpsXHvEMZbVrVvXyDOT5C4CjpG5T58+7hIMaSDgEgIffPCBHSy2bNkSzxeX3JP0xNCy8lKlSpmCBQua1atXp3cav0MAAhDwPIGdO3eacuXK2ZUCy5Yt83x9qAAEIJA6BPr27Wv71r17906dSlPTlCaAIdNjt99ZvqzYmCxfdufNC172/91337lTSKSCQJIIKP5Y0aJF7WvDhg1JkoJis0Jg0qRJtnPctGlTgslnBRznQgACniMwbdo0G7u5YcOG5siRI56TH4EhAIHUJHD48GFTv359q7++/fbb1IRArVOKAIZMj91uZ0OZ559/3mOSp5a4zkZMFSpUYCOm1Lr11DYDAoo7pvhjWqosr0ySdwh07drV3rf+/ft7R2gkhQAEIBABgR49elh999hjj0VwNZdAAAIQSA6B33//3eTNm9do/Llr167kCEGpEEgQAQyZCQIdi2I+/fRT27Fq3rw5XjGxABrnPAYNGmTv18033xznksgeAt4gMHToUPuf6NixozcERsoAgb1795qqVauaXLlymQULFgR+5wMEIAABvxHYv3+/qVmzpo05N2fOHL9Vj/pAAAI+JjB48GDb1+7cubOPa0nVIGAMhkyPtIItW7aYEiVKmFNPPdWsXbvWI1KntpjyPrvkkkvsw2T8+PGpDYPapzyBpUuX2rhjp59+utGO5STvEZg9e7Yd2NeqVcscOHDAexVAYghAAAJhEvjll1/sxE21atWMJnJIEIAABLxAQOPPFi1a2PHnRx995AWRkRECERHAkBkRtsRfdOWVV1qF9Pbbbye+cEqMmMC6detM4cKFTfHixc2mTZsizocLIeBlAorb06BBAxu355tvEtw9VAAAIABJREFUvvFyVVJe9n79+tlnUa9evVKeBQAgAAF/E3jmmWesvuvWrZu/K0rtIAABXxFYv369KVKkiClWrJhRbHoSBPxIAEOmB+7q66+/bjtS1113nQekRcRQAmPHjrX3r3Xr1qGH+A6BlCDw6KOP2v/A/fffnxL19XMlg43S06dPT7eqeGymi4YDEICARwgcPXrUnH/++fb5NWXKlAyl1rkkCEAAAm4hMG7cOKu7LrvsMreIhBwQiCkBDJkxxRn7zFatWmUKFChgSpcubbZv3x77AsgxIQRuuOEG+zAZPnx4QsqjEAi4hcBPP/1klyOfddZZLEd2y02JUo4lS5bYMAHly5dPN0zACy+8YJYtWxZlSVwOAQhAILkEgvvh27ZtS1OYqVOnmh9++CHNY/wIAQhAIFkEOnToYMefw4YNS5YIlAuBuBHAkBk3tNFnrNndJk2ahDUTHH1p5BBPAjt27DBly5Y1+fPnN8uXL49nUeQNAdcQUFwxxRfTBjHz5893jVwIEj2BIUOG2GdTp06dTspMG2VoZ/onn3zypGP8AAEIQMBrBJyVUe3atUtTdOk7GQxIEIAABNxEYOfOnaZcuXKMP910U5AlZgQwZMYMZewzevbZZ+1gkNg8sWebjBy/+uorGyPw3HPPNUeOHEmGCJQJgYQSkO7SAE+6jOQvAgom37JlS3t/P/jggxMq9+KLL9rfL7roohN+5wsEIAABrxJwYtW/9dZbJ1RBcZ/1nDvzzDNP+J0vEIAABNxAgPGnG+4CMsSDAIbMeFCNQZ7yXpIXE7slxgCmi7Lo3r277fA+8cQTLpIKUSAQewKKJ6bBnbzKiR0We75uyHHDhg2maNGi9uUEkz948KANMK97nzdvXiZt3HCjkAECEIiawJYtW0yJEiXMqaeeatasWRPI75xzzrHPuty5c5vdu3cHfucDBCAAAbcQuO+++xh/uuVmIEfMCGDIjBnK2GWkTRJq1qxp48rNmTMndhmTU9IJaMlljRo1TM6cOc3cuXOTLg8CQCAeBBRHTHF9CxYsaBRfjORfAvLGlNGyVatWRl6aQ4cOtXGd9VuhQoXMrFmz/Ft5agYBCKQUgU8//dTquwsvvNAcO3bMzJgxI6DvZOD87LPPUooHlYUABLxBQONPeY0z/vTG/ULK8AhgyAyPU0LP6tmzp+0oPfbYYwktl8ISQ+Dnn3+2D5Lq1aubffv2JaZQSoFAAgkojpgMWW+88UYCS6WoZBHo2LGjvd8vvfSSKVasmP2s+68OM8+xZN0VyoUABOJB4Pbbb7c67rnnnjMKFSRd57zuvPPOeBRJnhCAAASiJvDLL7/Y1Z6MP6NGSQYuIYAh0yU3whFj2rRpNo5iw4YNWZLnQPHh+1NPPWU7vvfcc48Pa0eVUpmA4odpUHfVVVelMoaUqvvff/9tTj/9dNtBzpcvX2BQr3ZQp06dlGJBZSEAAX8T+Oeff0zlypXtRI3CZzhGTL1rU0cSBCAAAbcSePrppxl/uvXmIFeWCWDIzDKy+F3g7CymgeCyZcviVxA5J52AYgaed9559mHy5ZdfJl0eBIBALAgobpiW1ymO2NatW2ORJXm4iIDCBIwePdr06dPHdOnSxbRo0cKGQSlevLjJnj37CQN6Z3CvWM8a+JMgAAEIeInAjh077NLxMWPGGHmba7WUNvypV6+ekc5zdFzwuwyb69at81I1kRUCEEghAhp/Nm7cmPFnCt1zP1cVQ6aL7m6HDh2sYnnllVdcJBWixIvAihUrbGylMmXKmO3bt8erGPKFQEIIKF6Y4oZpUEecsIQgT3ghhw4dMp07d05zAB88mA/+LMP2pEmTEi4rBUIAAhCIhoBiymmpuPRZehM1wbpOnwsUKGBGjRoVTbFcCwEIQCCuBFauXMn4M66EyTxRBDBkJop0JuW89957trN02WWX2Q0TMjmdwz4h8Nprr9n7ft111/mkRlQjVQkoXpgGcnfccUeqIkiZen/99dd2p3J5W4YO5EO/Z8uWzdx1110pw4aKQgAC/iIwceJEU7hwYbuUPFS/pfVdXpskCEAAAm4mMGLECMafbr5ByBYWAQyZYWGK70nr16+3g0JtkrBx48b4FkburiNwxRVX2IeJli+RIOBFAosWLTK5c+c2VapUMXv27PFiFZA5iwTkRa6dyuWBlNZgPvg3xc8kQQACEPAqgS1btphmzZqFpe8KFSqEQ4JXbzRyQyCFCLRp04bxZwrdbz9WFUNmku/q8ePHzaWXXmoVyUcffZRkaSg+GQQ2b95sTjvtNBtbcO3atckQgTIhEDGBgwcP2g1dtPRu5syZEefDhd4koFn9/Pnz203qgo2XwZ/z5MljNmzY4M0KIjUEIAABY6xxctCgQSZ0Q7NgXafPBQsWNAsXLoQZBCAAAVcT0AQN409X3yKEy4QAhsxMAMX78Msvv2yNmDfddFO8iyJ/FxOYMGGCbQfNmzc3ijVIgoBXCGjjFw3eHn74Ya+IjJwxJrB8+XJz5plnpjvA18D+7bffjnGpZAcBCEAg8QR+++03u2t5egZNTdwo1AoJAhCAgNsJMP50+x1CvowIYMjMiE6cjy1ZssRoh8Py5cubXbt2xbk0snc7gVtvvdUahF544QW3i4p8ELAEvvvuO7sJgnZxPXz4MFRSmIDu/wMPPJCuMfOaa65JYTpUHQIQ8BMBrUTo1q2b9UYP9cjUd+0KTIIABCDgBQK33XYb408v3ChkPIkAhsyTkCTmBw36zjnnHLscb/r06YkplFJcTWD37t2mUqVKRrP5//3vf10tK8JBQO21QoUKtr0uXrwYIBCwBL7//nu7VEkxU4MH+Nq9nAQBCEDATwSmTp1qihQpYkI3PpP+k7GTBAEIQMDtBP755x/Gn26/SciXJgEMmWliif+P/fr1s4O8Xr16xb8wSvAMgRkzZlgPt7p165pDhw55Rm4ETT0Ct9xyi9VhihlGgkAwgb///tto597gjYD0mQmaYEp8TkUCK1euNOhMf935bdu2mRYtWpyg7zRxg5OCv+5zqtZGjjfnnXeeeeKJJ1IVQUrU+4cffmD8mRJ32l+VxJCZhPs5e/ZskyNHDlOrVi1z4MCBJEhAkW4m8K9//csaiP7973+7WUxkS2ECH3/8sW2jl1xyCbuzpnA7yKzqb731lh3cayMohVF58cUXM7uE4xDwLQEZtuSl/Oijj/q2jqlcsWHDhgU2PpPOe/DBB1MZB3X3AYHt27ebBg0aWL1FnGsf3NBMqsD4MxNAHHYdAQyZCb4le/fuNVWrVjVadrJgwYIEl05xXiAgT0x5ZKojrBkyEgQSRUBLxGV80sY9vXv3No8//riR0XL9+vUBETZv3myKFy9uChcubNatWxf4nQ8QSIvA6tWr7a72MuDUqFHjpFN0/P333zdapaAYm4888ogZN26ckecaCQLxJLBv3z7z448/mtdff91o48U33njDaKI5HhPMw4cPt/Fjs2XLZr788st4Vou8k0hg2bJlpnr16rb/VrJkyZMkUf/u559/NqNGjTJDhgwxr732mvn222+NQrWQIJAZgYULF9r+mTyAy5QpY4oWLWpOP/10c/nll5snn3wyps/N33//3ZQuXdqGTdCGfYQQyuzueP94WuPPP/74wzz11FPmiiuusHt6FCtWzLa9iy++2MjhZv78+d6vODXwLAEMmQm+dV27drUzW/37909wyRTnJQJagqlYmYqZqdglJAjEi4A6Lhpka9fp4JiGoZ/VcZ48ebLtMOvY2LFj4yUS+fqMwNGjR829995r25fa2/Hjx817771nl6uFtrPg7w0bNjTvvPOOOXbsmM+IUJ1kEtAmZe3atbMrY4Lbm/NZ8Q47dOhgjZrRyqm2r35f/vz5bfvX+5o1a6LNlutdTEBLcR19t2PHDiupDFC333679Ux32lnwuwzcrVu3NlOmTHFxzRAtWQR+/fVXc8EFFwT6aFrVJ0O5jJinnXaa3W/BaU8K66IJwmiS+nrBoWFUnp7dJP8TcMaf5cqVs8ZL6Sa1Lb2rranNqe2pTThtrkmTJnaCxv90qKHbCGDITOAdmTRpkv3TN23alIFZArl7tSjtXq6HhHaTI0EgHgTkFV67dm3bzuQlrg3ItLu0dmO97777zJ133mk7MvIwcTozapNt27aNhzjk6XMC8nZTHGCFJFA7ckKsXHXVVdbYozYno8/VV19tvTidjrKematWrfI5HaoXbwJaJnnDDTfYtqf2p83Kmjdvbm688UZz880322MyFmgAp+N66fm7a9euiERTrFi1XceIqfxkJJUhn+R/AvK0lNH8/vvvD7SnUqVK2TbRvn1707lzZ2swl2dTlSpVAufIoLlhwwb/A6KGYRGQ44ueheqDnXXWWUbxybWCQTErnZdWMnTs2NGcccYZth1J52h1TSTpueees97jjg7UuzwzE532799vpLO3bt1qtBJo48aN9n+hlUBr1661E0Iy2Gr1xvLly428oZcsWWI9R3/77TezaNEiu/JRHoO//PKLmTdvnpkzZ459yTAsj1P1K7Ti6K+//rJe0dqgC/1srF5y7r90kyb2+vbtG2hvancKkXLrrbfaMHlaQag2Ks9NEgQSSQBDZoxoawbWUbJSvqFJSlIdmEKFChm5aZMgkBkBeSFddNFFtlMyYcKEk07XcT3c9RDGa/MkPPyQCYFp06ZZ7xB1jjXY1nJyp1Oc1nvPnj1NtWrVbHuUp3DwcvNMiuIwBCwBLU0rUaKEbUMKn9GnT58M25xizNWvX9+eryV0hGOhIUVKQP2u8uXL27ak8D733HNPhm3vrrvuMhUrVrTnS++pf5eVpMG1PFc0QeQMCPWuQWGskvoAWpIso5cG8HPnzjXS6+ovjBkzxrzyyitGRhANQKW/u3fvbuutiSrVr0uXLuaOO+6wnoIakMqYe9NNN5lOnTrZgauMvtdff7257rrrrAerJrk0ySCPLy0z1Eu/yRAs44omITQZof+1DCta6jpgwADz0ksvWa//kSNHWk/+jz76yHz++edGO37L0KcJDhkbpB/ETc8W1cvrBgUZsp34gloGLI/MtJ6tzm89evSwhiq1E4VvkSGGlNoEHnroIas/1B40sey0lYze9f/VWFPtSKttwk0ax+raYE9MR3dpwifcJC9kGRUVQkHG/M8++8z+71999VUjI6mMsNJH+j9It7Rq1cqcf/751iCmySU963PmzHmC3nTkSNS79LYYygNRE1vS2zVr1jT16tWzK0kuvPBC07JlS6sLVQdxky7VpIXujXSewkd88skn5ptvvrEspNtkCxBnNyeFWBFntQMZMDNqa84x6X6nb6cQQSQIJIoAhswoSGtWSAq5UaNGJ3RWNTOhWTN1Gp1dWtXZk2JQR44EgXAJ/Pnnn0a7X+phumXLFqMOwvPPP2+aNWt2gpeH2pYGZxqMEFczXLqpe55mpbX5isIXyOPI6YyE867Om9PeNFAjQSAcAvKgUEdXhnMt6w2nrTnnyJii56oGOBoMkCCQFQKbNm0KGDEvu+yysNueYgTLW076TsZMZ5lwZmVr4KpBcLAXu/LQS97H6aWdO3caeQp9+umnNmanBoTy2pPxUHIo1IK842UUU8y6tPJ3yknEe7zL139esZhlUNbEh7xlxU9MZDBV/1v9IQ28P/zwQ2sY1bNt6dKlRvc8LaeC9NjH+neV7RgxtePzY489Fna703hBdZfxSp5mpNQk4BiU9H9XLELneRjOuwxqRYoUsTpHEwaZpW3bttkVOfny5bPXhOqPYOOUxiKaNNF/Tv8/hVFo06aNNURKL4Vem9l3GS31bJcRUyuEZNSUcVNeyxrTyEAoI66MZZqE0SSUypQOkEG0V69eNr62JlC0WY2Mv5qY12SKvAalx8VM3oLPPPOMefbZZ+1vOk/XKj+VoUkclSkdo/JlvG3cuLGdTNWYXmMsTU6pH6NxmfrPmdUtvePiLC9XhXSSflB5mjhSHTWBKxk1EaUQTl9//bWd5NHzId7J2ZBOeldsw2lrzjni6axmkOwkCCSCAIbMCCjv2bPHKlN1NKSkZBCQh5KWZarjItf+4BktdcB0HssxI4DNJdazQu1HAym1NX3Wg18PVM0Oqs3pYagHj47pJeO6llaQIBBKQAMs6Sjpr8w8RJwOSui74mWqncmDhwSBzAjIs8pZTp5VI6bT9mTMVJvTIIeYmZkR53gwAXkOqu3o3WlPWXl32q6WbmaWtHN1esYA6Vx5QY4fP94odIwG4vJurFOnjh0YS8b0XloqqlU90t3qa2qQrWslkwb3GvxqoD548GA7YS4jgzYVmjlzpvXs0xJMxebU5Kg8HuVhKmOfjBLyEpIhQ4ZaTU7JG1KrPLQ5pZ4X2vxI8fGOHDliFPMz2FNSv+k8Xav8VIa8sTSJL48sla/B8RdffGENtB988IHt08hIo8Huiy++aP7zn/+cYFi4++67rYeTjCNaLSDjhvo76RmH02Om3+VZJcOD+k/KS3pEA/SBAwfa+LsyOmuJaawn5Zzl5DJSZKWtOefKoCL5zz33XMs8s3bHcX8R0MSfxpEyDMo457SLrLxLvyiUhYxLGYXHkCe0dIvOTeu/pCXDykOb9WWk2/Qf1X9MBkEZPiWr/t/aTE0b+inupkLLaGWFlnRryXg8NlZLdEuQbpS+lB7VRKuWsUuvyBtz9OjR1jtTLKQT5DigPpAmpqTH5empCYtwPVA1BqxcuXJAlylPebnK4Ck9q0mcjO51Rmxk25AxWbLIUJyVtuacK4O7jLxqJ0w6Z0SbY7EigCEziyS1fMdZblS2bFnbKUpvplUzSZo914NBM9fqwJEgkFUCGmg4M6vaLU6zhZppdB4cwe8a0Jx99tm2zakD/+abb2a1OM73OQHNSEsnqSMV3Hay8lkz3Jq8UT4aqJIgkBEBPfvUVjSpl5V2FnquOv7KJ9LYXxnJyDF/EpDRUG1GHjWh7Skr3zXgVD7yjkkrycAnI2VwPEydn9lLxk0ZCbRZgpYnahm4Bv7yopJBUAY25U36HwFNYsgzSQZTbaDz/fff22Xq2hRs6NCh1uNKnlm6FzJaagWBjIHqi2uAndH90L2T15U8P+UdJW8teZy9++67domsjATh7C4uQ43K0RghvfFBOG1PHrjKR8ZxUmoRkJeg7r3aYThtJb1z5IGufGTsSiuFbuqjc9N7yTil/4bGtuoDykgn45kmSdy+XDqturvtN00IaYJJEysKt6GJKG2KqGXqmqjS80HhxqTLnNAB6d0rGcE16aUl8Foe3rt3bzNkyBD7/EovLJQmwZSfHBXSa0/h/C45lY+8aEkQiDcBDJlZICwjpnbqklHy0ksvDbirZ/bH1syqXNBlWJJiIkEgXAKasVRcFj0U1BlPz4AZ2gY16+d4aI4YMSLc4jjP5wTU2dRyFs3ya8lNaLvJyncZzdUu1dEmQSAjAlqeJYNNZjExM2t/8kyRt4A80UkQCIeAPHjV9jSQy6x9ZXRc3k3Sd/LqDE0yNsoTKVwjpvqC8p6UVxI7AYfSjO93GQtWrFhhPcPkJTZo0CCrl+TZKi9XGQkyWx6riWXpNC1HlWetdhpXDFbHU1X9L7WVSFc8OO1Qy2M1dpA3qZN3fOmQuxsIyLtPhih5EjttIdJ3jRlkgJSnXehKhrQ29VG7Te+lfDSZGG6IDTew9LMM8qBU6AnFGR43bpzVRXrOyXApA6YMmek9kzSpozGldJXagTYjVhuRx2fopj6RtD15+CqvRCyH9/M9pm6ZE8CQmTkje4bc3+VWLyPmtddem+WHi2aH9aeW8khvNiRMUTgthQgoboo6FZF4z2n5lIyZGsQpbhQJAl999ZVtT5pVj6RzEnqNlhLJsJTMWGTcVXcTkOeUdFi0HnFO23M8zuUdRYJARgS0tE1tr1atWjHRd/LWUx9QE4xOklFMelDGyfQMAGn9LqOAll2S3ElAxiR5xGqzEsdIoOWy2thIBoC0PKJkNJB+Up9LE4aOzormXWWp/cyaNcudoJAq5gQUhkH3XA4z0bQd51rHs1fOOEqaPJHhPj0jV1r6yvlNy8+l7+SFSfIGAS01173XhIsmXjQBo4kYx9nFubd61+aKTruJ5t3xBNZGTyQIxJMAhsww6SqIrf7kmrGN9M8tzyXl0bp16zBL5bRUJqAd79ReFB8q0jannUnVqZaXAUs/Urk1/a/uzrJy7TAbaZsKvk4GUbVRLYMhQSAtAorVpzaieHfBbSfSz87GedqVmQSBjAgobpjanuKTR9regq9zJhblvaKU0aY+KjezlwwJekaHekplVCeOuYeAnBIUauDll1+2cUr1PHSMA9qQMbjtRPpZBie1I3mOklKDgLy1dc+1hDvSdhN8nfSf8tMzU7Fw9VkTMnqP5qWwDiRvE9BSdj3H1NbUFhS6LLjtRPpZxlLlp5VfJAjEkwCGzDDoajZDHU7tHB3tckxtyqI/t3amJEEgPQJaRiTvD3nxZnW3wtAHj5a8qc0RozU92qnzuzMoirZNOW3M2YCFWKyp04ayWlPF0pL+Ubwkp91E866NQJSflpmTIJARAbURtRW1mWjanHOts2RYO8q+9tprNm/lL+NVVl5amaOXvDJ1vTYT2rdvX0ZV4ZhHCOhZqHuqZ6PTbqJ5VzgO5SdDAyk1COhZqXsebTgMp905RiXFa9XqQOWtJeLy1NTGoPL61aZU8tJTKA69FLNXYwcZ5GWg11JlOfIoRqNWiGmXcfUnZQgjeZ+AlperXegZ57SbaN6dZ6+cJkgQiCcBDJlh0NXOivqDR7rjZbAyUMwc5dW1a9cwSuaUVCXgLAGOdMfL4DanzpC8MtUJIaU2AWdmPpoNCILbVufOna0+0yYLJAikRUBB6vXMi3QXzOD2ps/ObsCKWUiCQEYEnA0ztGlLaDuK5LuTn4xLiksmTxbtwqvXDz/8YH788Ue7+ZmWActL/aeffrJhXebOnWvmzZtnd/HWTt7a1Xb+/Pl2QluT2tq0Zvv27RlVhWMeIeBsmHHzzTfHpM3169fP6s/rrrvOIwQQM1oCjuFRz85I9FToNY7xUp6eJO8T0Aaw8gKXY5U2ApK3tsKU6KWl49qgTIbJgQMHmgEDBpj+/fub//znP0YTcFqV9fTTT9sYzWoPMprruOMFHG1cX6ftOatYNUYgQSCeBDBkhkFXHQgNxGLlxaSZeAXhJUEgPQIKtqw2FysvpsqVKxvFtmFjgfSIp8bvCgKudqVOhtPhiOYdj8zUaDfR1NLxyNRgKpq25lyLR2Y0dyO1rg02ejvtJ5p3xyCgPEjeJ6BltvI40zNRm+poBYxe+uxs0Kl+k16KBe28cuTIYfTSBLFeul4vxYWTMUGf5a0WTVtzrnUMAtoJmJQaBBxvNoWdcNpBNO9OWDNt/HPw4MHUgOjzWsqQKT0jPRSOjlIogfTCCcycOdM4nuSyd0TT1pxrnUk/TSKSIBBPAhgyw6BbsWJF60bv/EGjfXeWl2vJOgkCaRFQLC51kDUbH2170/XO8nJ5g5BSl4ATIzNWsZeIkZm6bSncmiukhTrcV155ZUx0mRMj8+233w5XBM5LUQKvvvqqbXuxWuar+GFqy1qSqclGxeCUdyXLwr3bwLTjvPrkMlzq3kbyUogAeTIdOXLETJs2zeahcAGx6Ls54QyefPJJ70JG8iwRiPUz0zHWq23L8FWtWjVz9dVXm4cfftjGzdS4QDtgk7xFQJv3RLJhk9qB9J0cXNauXWsrrRUC+l1hBWKht5zVX++88463oCKt5whgyAzjlmmGtlKlSjH5c0tBaLmwFIZ21CRBIC0C2vlSnruxeKAoD4VFUJvTg4+UugSckAWKdxSLtsWu5anblsKt+R9//GF1T6x2jnZ2LXd2YA1XDs5LPQIaoOu5pxhwsdB3devWtfkpz+CXPF004X355ZfbuHYyoH766adGS8rXrVtnDVypR987NdZGiNqNPBKjgIyYw4YNC1RWhlG1DcU4j0WbUzxC5UffLYDY9x82bNhgveeqVKkSdRvSiojixYtbw5U81DUW0Hg21DtP30uVKmXq1atn9ZhWgykEkWIBf/755zY0huQ6evSo7/l7qYILFiwwxYoVswbq4GdSRp+l5zTREmy8lg4sUqSIddpSm4lWd8lYLhnU/yNBIJ4EMGSGQVcdFXVSo/1jO9c7hsxVq1aFUTqnpCIBdSYKFSoUszanAZYeKl988UUq4qTO/5+AOiulS5e2bSvajcu6detm25S8nUgQyIiAnnnyMFdsQec5GMm7ltxpeaf0IwkCmRHQbuDyOlEfTssqI2lzzjUKLaQlfDKk792713piyttEnpnyPqlevXq6g0m1/ZIlS9p2K0OClqhrsOgYCWRw1aYZGAkyu6PxPa4VMOF6Zsrwoz6a4qSGppYtW1pDUc+ePaNqc2oj2kRKG6scOHAgtBi++5iA4/2tJbqODork3dngsUePHifQkhe54vO+++67duXXtddeaxo0aGDKlCmTrh7TGEK6TH1IbRbUpk0bu9+D5Hr99dfNpEmTrF6ULsNL/QTcMf2ifvzq1avN9OnTzejRo42WbxcsWPAk43RaxkwZMaWX9GwMTdpPQdcoFEEkbc25pnv37lYWhdogQSDeBDBkhkFY8Sxj6R2nmQp1gtQZJkEgLQLqIKiNRDv4ch4s2o1QDyhtKkBKbQJOUO9olr5pgCUDgdqUNrggQSAjAu+9955tKzICOTopkncNtNTm1HknQSAcAk7MQm12F0mbc65xJqBHjhyZbrGKQf3bb7+ZyZMnmzfeeMNoObDi3Cmsggb+MgDIEKA2nNZLyz5lSFA71zXaFFIGVG3UIK8/GR1kLJDO/e9//2v+/PNPs3v3bnP8+PF0ZeLA/xHQ0m95CH377bfmrbfesu1BS7e1E7MTRzyt+xL6W+7cuU358uXTXVU1ceJEe39r164dVZtzVtKoDZBSi4D+42qn+V09AAAgAElEQVR35cqVs56Rjh7KyruWjsvLTsb5rDjOaEJFxkhNsKgtjxgxwk68aAJGY5P69etb782MdJlk18TPaaedZr2TpdPU52zXrp0Nw+BswKbNsfQ8/+STT6xhTqE6JKvi18pglwpJ+vuff/6xzJctW2a9X2Wk/Oyzz+xzROPAm266yYYI0yqo9Ljr+aFxY6i+cr5rQi+jvpOWmesc2TsijaOvsYFkVJnSsyQIxJsAhswwCDszWtF6k+gBpD95gQIFzFlnnRVGyZySqgTUVvQgUCc7Kx2X9M5Vp1shEtSRJ6U2Ac2Ua3JGnR7tjplem8no90svvdS2T3YkTO22FG7t1VF3lkjK8yOjtpXeMWfDAsVwSsubIFxZOC+1CMiTTd6SGvxFqu+k5/Q8ljEy2meojARaoqldzLVkU16ZWsKppZxaOSFjf4kSJTIckDoDU+dddZPBQiuHtPxdoUPk0aWds++77z7rcaXdbGVc/eijj6xxQmFGvv/+e7uzujyzfv/9d2tAWL9+vfnrr7+sgVQbg7jFSCruO3bssDHdZCzWzvBTp0619Rk1apTdxVe78cprWxuCaXMcMZCRUvdNfSA98xxmwe/qG6mNKDa5jMetW7dO1zNTHk1NmjQxWkKeUZJXpsqIVN/de++9RgZTGbZ37tyZUVEc8ykB/XfVhtR+NXZM79mY1u/yLnaW92oyJx5J/0npC+kyGd0UUkMrffQf0kod/Z80AVSjRg07iSMjWfD/LpzP+r/pP6A4tlqJofyk3/T/0mSPNqfRGF1jJa0SkrehdIDkUEx47eA9ZMgQa4zV5IUmVWU01WST4tnOmDHD6kEZ3WQ81G/SjV9++aVdwabzZMyVrla4EF07fvx4q3cUy1T5jRs3zsZLHjNmjFHsbhkLhw4daiegZBDUf1m6WJ77MuY2atTI1qds2bLWqzsj42MwI3mAa3JE9ZbXo3S69LlCmGzdutXuSq4VK8HX6LOeD/Ls1qY+mSWx0jUKaxDJHg2KH63rNYFHgkAiCGDIDIOylJL+mBq8p/XAyMpvmlVRXopVQoJAegT0wFE70cxnVtpXWudqSYkelBokkSAgArNnz7YDNc3UZ9VYrs6p2qY8WDIbzEEbAg6BNWvWWO8MdaqzOriXEVNGCBlrVqxY4WTJOwTCIqCBnoxCMljJYJjWczK932655RbrWaQB9eLFi8MqLxYnyRtJBk+VKaOdYiRq0CxjwYABA6zHjAx2GsTr2S7jmibI5cGlZYbS0bF6iZ0G0fKuUv4a5NasWfMEw4L6xy1atLATFjIeytigTUa00aAmH2SA0ABeA10ZZmSUkNG2Tp06RvFzlZ+MFTIoaqJNMSb1jJFRV/ct0rrovskTVmXIw1FLdZ977jkjI8ScOXPM5s2bTzLWygMyLeOC8pKRJpwQAIqNqth10ndZXaopw4ezVJRwQLH4N3kzj/3799v/kdq+DFjheslpibCzYkaxX9008SevdU2U6Dkuj0+FZvj444+NJiNeeukla7DV+Fj9Um3spwlQ6QvpBHn6SR/IYzDcEBCR6o14XSddpjpIv0kHasNMebl26NDBGv/kMCVPfrHQTuIynmqiSZM4mSV5u4bKLU5qC86mPpnloYkrZ+JOE2MPPPBAWM9Lef86MaT1LGLFaWakOR4rAhgywyCph4li1GhGQ/GQ0uvwhvO7gixL0SxfvjyMkjkllQnooaClGc4SjHDaV1rnOMsxNbNIgoBD4Ouvv7adQQ3YNOBURySt9uP8ps6lBpnSX+oYaaBGgkBWCGg5rIwhakMyYjz44IMZtjl5VmgQo/NlxNTOmiQIREJABiEZ5GQQl8EtsxjB8kbRIFOGKBmw5LnjpeR4MCqWmgbC3333nR0Uy2tI8ezkMSSPnmeffdZ6hMp4Jx0v46h24JZHo7yd5P0j7ycZJmWM1OBbRkcZM2XU1P9ZRk4NmPWS15VWHek3GRz0v5VBT+dpAK8NReRhpWtlmKhQoYLdfET5aXAvLzJ5cKkMGR+1UZPul4wa8mqSJ5KeVVpu/8orr1gPKHlJ6Xkmw6Q8S/Vs2rVrV1gGx7TuqcqTzgl+qV7Dhw9P6/R0f3M24lA+qkdm4wd53cnYqnaq57JCCZBSm4AMQo53r8agMnql1470H9aEguP5qP9LOEZ3LxOWYVTLsrUUXRM/0nfaCFD/PekD6W3pBoXkkMFU3pNyTpIn/Msvv2w9NuW1Ka9VGQ+11F1eidIt+r9r4khL6+XNLsOiDK7y7JTnpWIk6z+qCab333/ffPjhh9ZbU/pI3uKagJL3uIyIMkRG682f2X1yPHAdvaXnVuimPpnloeMyfGvCT/nI8Cp9qL6YMxYIfteydz0jpOd1viaxdD9IEEgUAQyZYZIeOHCg/ZNqRjn4T5yVz/qz64+uDiIJApkRmDBhgm0v6uBndVmJ0y7lTaI2p3brplnZzOrO8cQQkGFIg0W1EQ1CZfTWrK4Gs/LkdWIiaWDpeKjouJaxkCAQCQHFqFNnV21ORiV5mmgJqJYiqc3p/eqrr7az+zqu8zTDv3LlykiK4xoIBAhopYPjqSRDm4xzekbKACDDpgZr8kaRF6EGgWp7MqgpbhspdQjIyKp7r5eee2oraW3qEw4RxbxzllvKKCBjsMYA8rxSm5OXnbzPZHCQoUplytCrpa0kCIiAvORkXHN0kgzdcopRW9Jki/r3mhRwlhVrl3IZ10ipRUB9eEdvqa1oYiqacZ+WrWvySXmqL6Y2pramNqd9F9QGnTJlPB80aFBU5aXW3aK2sSKAITNMkprV0kNDf2jNjjmGonDftfxHikCz0eG4iIcpFqf5nIATn1UGpqwaM2UQ0MNFD5qlS5f6nBTVi5SAZrQ1+yxjpdMJSutdAy3NapMgEC0BDczkGSEvpbTamvObvDHl+RBNZzxaWbneXwTk4aSle+qLOe0srXcN2rSEW3EiSalDQF5TjkFIBqOMNvUJl4rylAesPE7TamvOb1r5JaM6MTHDJZta5ymUj7wG9dxU23Tajd5luNLEjLwGtYqQlFoEFKvU8cTVe0ab+mSFjGJMKy9NPsvTPrjNacWgDJvy7EdnZYUq58aSAIbMLNDULm6K06E/sv684ewoLeOTDJ8yYmq2lZn9LADnVLNnzx677FdtTvGjMluK6RjWFYNOs//qkCsINwkCmRGQcUnLYNRpkZeIQhpoEwoFNmcZeWb0OB4pAe1QKu8RPU/V5rRsTsu1CL8SKVGuC4eAYlBqUwctrZaHnDzNFcNcxktt+uD3JZnhMErFczTpq8lfGYbkmasl6rFKesZqN2otY9WyX7U5xcZTv02hfzBAxYq0//OR/pK378KFC+1qBfSV/+95RjXU8nmNE2VnCGdTn4zySu+YJpS1MkZtTnpSThAkCCSbAIbMLN4BGTOdZSKKCaGNL9KKHaFBmWL6KMi4lIviAGHEzCJsTrcEZMx0whI4s65pxc3UMiV1ip2lc5rdx4OORgQBCEAAAhCAAAQyJ6BJFfXZw93UJ/McOQMCEIBAfAn079/f6q1wN/WJrzTkDoHEEcCQGQFrLRNRoHEFMleHRy8ZjbRsRB6bWrLkxJOT+792SST4bQSgueQEAvKUcwzjanOK26T4mWpziqnkxJNT22vfvr3ZtGnTCdfzBQIQgAAEIAABCEAgbQJaJqnluyQIQAACEIAABNxNAENmFPdHsZa0+6N2dpTHpXa3lBFJwXEvv/xyow2C2BQjCsBcehIBLSf54IMP7FI47VDnxHKSd7BiGMorU5tpkCAAAQhAAAIQgAAEwiewe/fu8E/mTAhAAAIQgAAEkkYAQ2bS0FMwBCAAAQhAAAIQgAAEIAABCEAAAhCAAAQgEC4BDJnhkuI8CEAAAhCAAAQgAAEIQAACEIAABCAAAQhAIGkEMGQmDT0FQwACEIAABCAAAQhAAAIQgAAEIAABCEAAAuESwJAZLinOgwAEIAABCEAAAhCAAAQgAAEIQAACEIAABJJGAENm0tBTMAQgAAEIQAACEIAABCAAAQhAAAIQgAAEIBAuAQyZ4ZLiPAhAAAIQgAAEIAABCEAAAhCAAAQgAAEIQCBpBDBkJg09BUMAAhCAAAQgAAEIQAACEIAABCAAAQhAAALhEsCQGS4pzoMABCAAAQhAAAIQgAAEIAABCEAAAhCAAASSRgBDZtLQUzAEIAABCEAAAhCAAAQgAAEIQAACEIAABCAQLgEMmeGS4jwIQAACEIAABCAAAQhAAAIQgAAEIAABCEAgaQQwZCYNPQVDAAIQgAAEIAABCEAAAhCAAAQgAAEIQAAC4RLAkBkuKc6DAAQgAAEIQAACEIAABCAAAQhAAAIQgAAEkkYAQ2bS0FMwBCAAAQhAAAIQgAAEIAABCEAAAhCAAAQgEC4BDJnhkuI8CEAAAhCAAAQgAAEIQAACEIAABCAAAQhAIGkEMGQmDT0FQwACEIAABCAAAQhAAAIQgAAEIAABCEAAAuESwJAZLinOgwAEIAABCEAAAhCAAAQgAAEIQAACEIAABJJGAENm0tBTMAQgAAEIQAACEIAABCAAAQhAAAIQgAAEIBAuAQyZ4ZLiPAhAAAIQgAAEIAABCEAAAhCAAAQgAAEIQCBpBDBkJg09BUMAAhCAQGYEli1bZt5++21z//33m169epmXXnrJLF++PLPL4nb8+PHj5tNPPzWPPPKIufXWW83zzz9vZs2aZQ4dOpRhmXv27DHvvvuuefzxx829995r/v3vf5tRo0aZDRs2ZHhd6MEFCxaYjh07miFDhoQeSvf7jBkzzN13321atGhhqlWrZurUqWOuueYa8+ijj5qNGzemex0HIACB+BOYMGGC+fDDD8N+/f333/EXKp0SpDOkfxKhtyRCOPpu5MiRpkePHmm+/vWvf5lnnnnGDB8+3OhZQoIABGJPYPHixbZPcs8999i+xssvv2wWLVoU+4IizNGNemvMmDEBnbV3795MaxZ8/uHDhzM9nxMgkAoEMGT67C6vWLHCfPzxxxm+NAhPdEr24D+zh9i2bdsCD5Tx48dniuevv/4KnP/5559nej4nQAACWSNw7Ngx069fP5MtWzZzyimnnPDKlSuX6du3b9YyjMHZ69atM/Xr1z9BFke2xo0bm507d6ZZyrhx40zp0qXTvK5AgQLWGCodmVmSMbRu3bo2nxtuuCGz060RoFatWmmW68idN29eo8G+eJMgAIHEEyhcuHCG/1Hnv+q8//rrr4kX0hijgbQjw5IlS8KWIat6y8k43OuuvfbagFyOfGm9Z8+e3UhvusnA4tSVdwh4kcCRI0fsBHOOHDlO+g/q/9a9e3dz8ODBpFbNrXqrc+fOAWbbt2/PlFG7du0C5x84cCDT8zkBAqlAAEOmz+7yfffdF1B0aXXk9FuePHkSWutkD/7DeYitWrUqwE0MM0vqCDt8H3roocxO5zgEIJBFAsGD04IFC5r27dubm266yeTPnz/w3xs2bFgWc438dA2qg42CDRs2NF26dDFnn312QB55Ou7evfuEQr755hujDr30hYyyLVu2NNIxbdu2NTlz5gxcm5mH5T///GOaN28eOD8zQ+YHH3xgZKR09NSpp55qxLR3795GXhOS3zmm927dup0gN18gAIHEEChatOgJ/8Xg/2Van5cuXZoYwYJK+eSTT4wmkBx5wjVkZlVvOUVm5brgZ0X58uVNhQoV7EufixcvfoKelfwyusyZM8cpincIQCBCAppsdnRCkSJFzB133GG6du1qSpYsGfhdK2mSldystzBkJqtVUK6fCGDI9NPdNMY0a9Ys8PBwHi6h74k0ZCZ78B/uQwxDps/+CFTH0wRmz54d0GMyFO7bty9QHy0PlFFOek0d56NHjwaOxfODlpA7uvThhx8+oagHH3wwcExLqpwkL0sNpnWd9O63337rHLLv//3vf+1AW8dldNyyZcsJx50vU6dONRUrVgyUofMzMmSKUbDBV8vYd+3a5WQXeP/iiy+MjMROvUaPHh04xgcIQCAxBDZv3mw04Zve67bbbgv8RzURkcgkvSHDRKhnfDiGzKzqLadeWb0u2JC5f/9+J5vAu5Zh6ply8cUXBzgqxEbwcyVwMh8gAIGwCGgFijNJW6lSJbNp06bAdfIwPOuss+z/Tbpj5cqVgWOJ+OAFvYUhMxEtgTL8TgBDpo/usAbNhQoVsg+Om2++Od1O8fr16xNW62QN/rP6EMOQmbAmQUEQyJTA1VdfbfWYjGxpxcPUDL9jfJs5c2am+cXihLJly9oyS5UqlabxtEaNGvZ49erVjbNMXHGjHDkVUzOt9PrrrwfOmTRp0gmnaKCgOJxOHsHvGRkymzZtGrimf//+J+QZ+mXy5MmBc2vWrBmQPfQ8vkMAAoknIKOeYyxQjNtETdyoptJH5cqVC+iHYP2TkSEzUr0V6XWZGTKD79qNN94YqI9iFZMgAIHICEyZMiXwX0prEvSzzz4LHFd88EQlr+gtDJmJahGU42cCGDJ9dHeDjXFvvPGGK2qWjMF/JA+xYHYsLXdF00GIFCWwevXqgPfPwIED06QgDyYtnday7bQ8DdO8KIofFXvYGcQ/8MADaeb01FNPBc756aef7Dnq3DvXSda00s8//xw454UXXjjhlOCwGDLqvvPOOwHPzPQMmVp26pQpw2Q4sS8dw6eWg2VkoDhBOL5AAAJxJaDl1WXKlLH/Z/3/EzkJrYpVrlw5oEtatWplBgwYEPiekZ6IRG+pvEivy4ohU16Ywctew4lNF9ebTOYQ8CgBbVLm9DU++uijk2oxd+7cwPGhQ4eedDxeP3hFb2HIjFcLIN9UIoAh00d3W5vUOA+V+fPnJ71myRr8R/IQw5CZ9OaCABCwBDQR4egxLb12kgb1ydphe+zYsQGZtBw7rRS8HH7EiBGBUxSUXcbZ9ALeyzjp1FcDg+Ckgb3iucnDXnkoOUvM0zNkald0J79BgwYFZ5fuZ+m/tDxf072AAxCAQNwJ9OnTJ/BfHjx4cNzLCy1AfakqVaqYUaNGWU/tt956KyBPZobMrOotlR2JvtN1WTFk6nwtz3d05IwZM0KrzXcIQCAMAppEduLmduzY8aQrtImg8z9TuJtEJa/oLQyZiWoRlONnAhgyfXR3naDLisWmQbOMmXLnf//9962XTSKXJAlrsgb/kTzEMGT66I9AVTxNQEZAdX61EY68CeWl2KhRI2vQ0+/yptEmO6Gb6sSz0s8991ygQy4PyrRS8MRNuBuASScHbyC0YcOGE7KW4Va6KThlZsgM3tnyq6++Cr6UzxCAgEcIaGLB2Qysbt26CV1S7iCaNWuW0a7ETgrXkBmJ3lIZkV6XVUPm1/+PvTOBn2r6//83rdK+q0Qb2lRCSElZikKopEQiS0ikLEXZ9UX2bOFrXyKRJaVF2UoR2VKStGmhffN1/o/X+f3vfOczzXzmzsydmXtnnufxmMfM3Ln3LM975n3PeZ/3eb8//DAkz8eOHes0j3cIQCBBAt27dw/9l+RLd/78+ebbb781GgM5LjEkvzKZgiK3UGRmsldQVq4SQJGZQ3f2lFNOCT1QmjZtGvrsrIg1aNDAZMqfnLBma/KfzEMMRWYO/RFoSqAJjBgxwsquSpUq2SATjvyKfJdzecdKMd0Nln9Lp/ylS5dGLW7t2rWhcwYOHBj1nMiD4b4+Fe3TTYqnyGzdunWoHpneiuqm/pwDAQjEJzBo0KDQ//jZZ5+Nf0EGznCryIxWlXhyK9o1OubmukQVmVK0OPL8iiuuiFU0xyEAgTgEtNh82223hf5Pzv/KeZeiMzwIUJzs0vKzX+UWisy03G4yzTMCKDJz6IZHc8oeHpFWDxatkL366qsZabVfJv9uHmIoMjPSJSgEAnEJ9OvXr8CguGLFikb+leRvacKECSZcUSe/bZlI4VsRY/nklHWlM3hXG+IlBeFxzq9du7ZrX5/xJvbaCqp8Zc1FggAEgkdAO2q0kKP/ceXKlY3cU/ghuRlLxapnPLmVynWJKjJl+e7I3pNPPjlW0RyHAATiEJDv7+bNm4f+T87/ynlv2LChyfbOEL/KLRSZcToXP0PABQEUmS4gBeGUP/74I/QgKVKkiFHgCcdyaPXq1eaSSy4J/V6lShWj89Od/DL5d/MQQ5GZ7t5A/hBwR+Css84KySotxERurdZWx3bt2oXOmTJlStyMpWTctm1b1JcbJcHQoUND5a1fvz5qecrHGbwPGDAg6jk6qIjmQ4YMCZ1bvnx5M2fOnJjnR/4QTyFw6KGHhvJWUCQSBCAQLAIvvvhi6D8s2ZNoSlXexSrPzVgq1rXx5FYq1yWqyAwPsCb/wyQIQCBxAgpqWKJECSur5NJMlpkLFiww8m0ul0D77LOP/U3nfPTRR3ELyDe5hSIzbpfgBAjEJYAiMy6iYJygyfU999xjtKVRg+BoSf5LnIm2rIHipV27dkWd+EshoAdOvOSXyb+bwffPP/8cYkPU8nh3lt8hkD4C2urnyCkFromWNIB2zokV2Tz8OlmhO+dHvstiIF66//77Q9dLVkRL8u/m5C1FZbQkS6uePXuGzpO1lSxNE0nxFAKyMHLqEStSeiLlcS4EIJBZAu3bt7f/Ye2gcRakE6lBqvIuVlluxlKxro0nt1K5LlFF5iuvvBKSkTfffHOsojkOAQgUQqBjx46h/9EHH3ywx5laoHX8/LZs2XKP3yMP5JvcOv/880P8NH6Ml44//vjQ+eG+i+Ndx+8QyGUCKDJz+e5GtC18on322WdH/LrnVz14nAlx5HssZWl4Ln6Z/LsZfP/666+htkrhGy/J16jDREGWSBCAgDcEwn3rvvXWW1EzlULQcSTft2/fqOeEH0x1gPzaa6+F/u+xFI/hftduvfXW8OLtZy02tW3bNpSPgpIlEyk8nkIg3BJeW/LdJNVdck8R1LHidEOMcyCQHgLhQcO6du2aVCGpyrtYhboZS8W6Np7cSuW6RBWZt99+e0gO+8X/aKz2cxwCfiQg35iONaYUbLFSuLJOuwMLS/kmt8J9pP/www+FobG/NW7c2MotWbqSIACB/yOAIjPPekKFChWsINT2w3ipUaNGocGeo7Rz3t0oMv0y+Xcz+JbfO6dtspiKl8Lbpi0UJAhAwBsCL7zwQui/GEvOaDXaWel3E1hHCsPhw4dHfT3yyCNxK64AYo58GD9+fNTz33vvvdA5kg/hSYtIBx10UOj3I444wsQb1IdfH/45nkJg2rRpoXJ69eoVfmnMz1deeWXoGln2kyAAgewQkJxyZE00Kyc3tUpV3sUqw81YKta18eRWKtclosjUsyN8bPvVV1/FKprjEIBADAJa8HTkVGGudO67777QebEWgZ0i8k1u3XLLLSE27777roMh5rv8xYu5fKqTIACB/yOAIjNHeoIUcfJLIj8kslaKlrSCtvfee1tBeNJJJ0U7pcCxBx54IOrEXwNt+UGJl/wy+Xcz+JbfuqJFi1o2hx9+eLymmXBr06eeeiru+ZwAAQi4IxDuvyxWRNnvvvsuNAB8+eWX3WWcwllr1qwJKU5jWbMr6rgzsP/tt99CpckS8+CDDw79pkm33HMkm+IpBDRRr1atmi1PVqtff/11oUUp8IW2uKvusrBQ9HUSBCCQHQKO/1/9F/22fdDNWCoWtXhyK5XrElFkho/dxJoEAQgkTkDzSccH5rHHHhszg2uvvTY09tFYIxvJr3Lr7bffDrG58MILC0WjgEnO+PLUU08t9Fx+hEA+EUCRmSN3W1sZHSEXa2UnfOvjoEGD0t5yv0z+3T7EnCAZsvSK55fqqKOOCvGeP39+2llSAATyiUCbNm3s/0uBcKS0jEzhTtLDlYaR53n5/ZxzzrF1Kl269B7B0v7880+jukoGK4JneApXcGobvCYAqSQ3CoEnn3wyJJ8OOOAA8/3330ctcuPGjUbWoc6zo3fv3lHP4yAEIJB+AvI97igHmjVrlv4CEyzB7VgqWrZu5Fay17lRZGqxWvUvV65cSN7Jip4EAQgkR8CZB2nRJVrAwnXr1pnq1avb/1utWrWSK8SDq/wqtzT+Kl68eEgejR07NmprZajUunXr0HluXQZFzYyDEMgxAigyc+SGfvzxxyEhp2AP0dIpp5wSOkfbDzOR/DD5d/sQCw9OpK1HGzZsiIoo3FG8IsCnqpiIWggHIZDHBN5///2QrJIiTvJK1klbt24tEPG7S5cuGaM0b968UJ3kq8jxaaTgPy1atAj9Fm4hKqv0IkWKhH6Tbza5ooj1ijYZiGygG4WAZFK4P05Ff5d166xZs4wUvypnzJgxIctNKTIV9EgTDxIEIJAdAlpwcBYV3LqFyGRN3Y6lotXJjdxK9rpwRaYCWTrydfTo0Wbw4MHmzDPPLODaQ4zd+EKPVh+OQQAC/0dARjOOvNK254kTJ9oxmn6Vy4ZWrVqFftcOv2wlv8ot8Qi3WNWuwLPOOsuOzWbOnGkmTJhgJM8cZbBYazycyo6ebN0DyoVAugigyEwX2QznqwjjTZs2DT00Lr30UqPVHiX5YuvRo0fot1iKznRU2Q+Tf7cPsZUrV4asqvTAOPDAA+0gWD7xpk+fbp5++mk7IHYe3HqPtYKWDpbkCYF8IhDuCF3/NVkqOX4x9V0r1FJsZjJp8hv+/3esMJ1j5557boHqaFDq/ObmPVaU9vBM3SoEtmzZYuRCxE258rkUKxp7eNl8hgAE0kdgypQpof+rFj38ltyOpaLV263cirzWzXXhikw38u6yyy4zstAkQQACqRGIHKfJOtOJxeD8F7t165bV/5tf5ZbIawx7wgknhOS+wyzae82aNY3m1CQIQOB/BFBk/o9F4D/9+OOPpmzZsiGBqNUdx1eaIxS1FSDTUWmzPflP5CGmFTBna5fDLNa7BsNYYwb+b0MDfEzg9ddfN4ruHf4f1GDuvPPOy5r1oCwLHKfrTr1k8XjzzTcbLSiFp3BLTefcwmGx3bwAACAASURBVN4TUWS6sdiSFevzzz9fYFtSePlVq1Y1d911Fyv84TeNzxDIEoHwqL2ybvJbCh9LKTBHIslRSLqRW+H5urlOfovD5Vr451KlSpl69epZC/Wrr746qquS8PL4DAEIJEZAskr/sfD/nT7LknDcuHFZVWKqJX6VWw5lzSPlu7dJkyZ7MBRHjTflDk5BI0kQgEBBAigyC/II/Ldly5ZZ68vw7YwShNoCra2FO3fuzEobszn5T/QhJp98GmzLF17kg1nfjznmGBMZlTgrUCkUAnlCQAFoZK0UzV9mthAsWbLEaGuVtlBl2jI0mTbLj6f8JGvbvlyRJBs1PZmyuQYCEIAABCAAgdwloHGatkQr6Kx2uJESJyBl5eeff24UCGjGjBl2p0y25u2J154rIJB5AigyM888IyVqYq0JtpyZ//rrrxkp000hQZr8yw+JfFZ9+OGHVmGhoD5E9HVzlzkHAhCAAAQgAAEIQAACEIAABCAAAQh4TwBFpvdMyRECEIAABCAAAQhAAAIQgAAEIAABCEAAAhDwmACKTI+Bkh0EIAABCEAAAhCAAAQgAAEIQAACEIAABCDgPQEUmd4zJUcIQAACEIAABCAAAQhAAAIQgAAEIAABCEDAYwIoMj0GSnYQgAAEIAABCEAAAhCAAAQgAAEIQAACEICA9wRQZHrPlBwhAAEIQAACEIAABCAAAQhAAAIQgAAEIAABjwmgyPQYKNlBAAIQgAAEIAABCEAAAhCAAAQgAAEIQAAC3hNAkek9U3KEAAQgAAEIQAACEIAABCAAAQhAAAIQgAAEPCaAItNjoGQHAQhAAAIQgAAEIAABCEAAAhCAAAQgAAEIeE8ARab3TMkRAhCAAAQgAAEIQAACEIAABCAAAQhAAAIQ8JgAikyPgZIdBCAAAQhAAAIQgAAEIAABCEAAAhCAAAQg4D0BFJneMyVHCEAAAhCAAAQgAAEIQAACEIAABCAAAQhAwGMCKDI9Bkp2EIAABCAAAQhAAAIQgAAEIAABCEAAAhCAgPcEUGR6z5QcIQABCEAAAhCAAAQgAAEIQAACEIAABCAAAY8JoMj0GCjZQQACEIAABCAAAQhAAAIQgAAEIAABCEAAAt4TQJHpPVNyhAAEIAABCEAAAhCAAAQgAAEIQAACEIAABDwmgCLTY6BkBwEIQAACEIAABCAAAQhAAAIQgAAEIAABCHhPAEWm90zJEQIQgAAEIAABCEAAAhCAAAQgAAEIQAACEPCYAIpMj4GSHQQgAAEIQAACEIAABCAAAQhAAAIQgAAEIOA9ARSZ3jMlRwhAAAIQgAAEIAABCEAAAhCAAAQgAAEIQMBjAigyPQZKdhCAAAQgAAEIQAACEIAABCAAAQhAAAIQgID3BFBkes+UHCEAAQhAAAIQgAAEIAABCEAAAhCAAAQgAAGPCaDI9Bgo2UEAAhCAAAQgAAEIQAACEIAABCAAAQhAAALeE0CR6T1TcoQABCAAAQhAAAIQgAAEIAABCEAAAhCAAAQ8JoAi02OgZAcBCEAAAhCAAAQgAAEIQAACEIAABCAAAQh4TwBFpvdMyRECEIAABCAAAQhAAAIQgAAEIAABCEAAAhDwmACKTI+Bkh0EIAABCEAAAhCAAAQgAAEIQAACEIAABCDgPQEUmd4zJUcIQAACEIAABCAAAQhAAAIQgAAEIAABCEDAYwIoMj0GSnYQgAAEIAABCEAAAhCAAAQgAAEIQAACEICA9wRQZHrPlBwhAAEIQAACEIAABCAAAQhAAAIQgAAEIAABjwmgyPQYKNlBAAIQgAAEIAABCEAAAhCAAAQgAAEIQAAC3hNAkek9U3KEAAQgAAEIQAACEIAABCAAAQhAAAIQgAAEPCaAItNjoGQHAQhAAAIQgAAEIAABCEAAAhCAAAQgAAEIeE8ARab3TMkRAhCAAAQgAAEIQAACEIAABCAAAQhAAAIQ8JgAikyPgZIdBCAAAQhAAAIQgAAEIAABCEAAAhCAAAQg4D0BFJneMyVHCEAAAhCAAAQgAAEIQAACEIAABCAAAQhAwGMCKDI9Bkp2EIAABCAAAQhAAAIQgAAEIAABCEAAAhCAgPcEUGR6z5QcIQABCEAAAhCAAAQgAAEIQAACEIAABCAAAY8JoMj0GCjZQQACEIAABCAAAQhAAAIQgAAEIAABCEAAAt4TQJHpPVNyhAAEIAABCEAAAhCAAAQgAAEIQAACEIAABDwmgCLTY6BkBwEIQAACEIAABCAAAQhAAAIQgAAEIAABCHhPAEWm90zJEQIQgAAEIAABCEAAAhCAAAQgAAEIQAACEPCYAIpMj4GSHQQgAAEIQAACEIAABCAAAQhAAAIQgAAEIOA9ARSZ3jMlRwhAAAIQgAAEIAABCEAAAhCAAAQgAAEIQMBjAigyPQZKdhCAAAQgAAEIQAACEIAABCAAAQhAAAIQgID3BFBkes+UHCEAAQhAAAIQgAAEIAABCEAAAhCAAAQgAAGPCaDI9Bgo2UEAAhCAAAQgAAEIQAACEIAABCAAAQhAAALeE0CR6T1TcoQABCAAAQhAAAIQgAAEIAABCEAAAhCAAAQ8JoAi02OgZAcBCEAAAhCAAAQgAAEIQAACEIAABCAAAQh4TwBFpvdMyRECEIAABCAAAQhAAAIQgAAEIAABCEAAAhDwmACKTI+Bkh0EIAABCEAAAhCAAAQgAAEIQAACEIAABCDgPQEUmd4zJUcIQAACEIAABCAAAQhAAAIQgAAEIAABCEDAYwIoMj0GSnYQgAAEIAABCEAAAhCAAAQgAAEIQAACEICA9wRQZHrPlBwhAAEIQAACEIAABCAAAQhAAAIQgAAEIAABjwmgyPQYKNlBAAIQgAAEIAABCEAAAhCAAAQgAAEIQAAC3hNAkek9U3KEAAQgAAEIQAACEIAABCAAAQhAAAIQgAAEPCaAItNjoGQHAQhAAAIQgAAEIAABCEAAAhCAAAQgAAEIeE8ARab3TMkRAhCAAAQgAAEIQAACEIAABCAAAQhAAAIQ8JgAikyPgZIdBCAAAQhAAAIQgAAEIAABCEAAAhCAAAQg4D0BFJneMyVHCEAAAhCAAAQgAAEIQAACEIAABCAAAQhAwGMCKDI9Bkp2EIAABCAAAQhAAAIQgAAEIAABCEAAAhCAgPcEUGR6z5QcIQABCEAAAhCAAAQgAAEIQAACEIAABCAAAY8JoMj0GCjZQQACEIAABCAAAQhAAAIQgAAEIAABCEAAAt4TQJHpPVNyhAAEIAABCEAAAhCAAAQgAAEIQAACEIAABDwmgCLTY6BkBwEIQAACEIAABCAAAQhAAAIQgAAEIAABCHhPAEWm90zJEQIQgAAEIAABCEAAAhCAAAQgAAEIQAACEPCYAIpMj4GSHQQgAAEI5C+BHTt2mO3bt+cvAFoOAQjkPIGlS5eaN954w4wdO9Y89thjZtKkSWb16tU5324aCAEIBJfA7t27zVdffWXee+89+5o/f77ZtWtXcBtEzSGQ5wRQZOZ5B8h28zds2GBmzZplJk+ebD7++GOzbt26bFeJ8iEAAQi4JrB+/Xpzzz33mJNOOslUrlzZ/Otf/7KvsmXLmvbt25tRo0aZ33//3XV+nAgBCEDAjwQk6+68806z//77h+ScI++c96ZNm1rF5rZt2/zYBOoEAQjkGYG///7bTJgwwZx44ommZMmSe8iuEiVKmI4dO9qFGZ1LggAEgkMARWZw7lXO1HTVqlVm5MiRpkGDBns8UDQYrlu3rrnhhhvM8uXLc6bNNAQCEMgtArK8HDZsmClVqpSVY3vttZepXr26adSokX3VrFnTFC1a1P6m9/79+5u//vortyDQGghAIC8IvPbaa6GFmtKlS5sWLVqYU045xfTq1cu+tJDTpEkTI6WAxnH16tWzi9N5AYdGQgACviSwYMEC07x5cyuTihQpYurUqWOOOuoo07lzZ/vSZy3M6DfJLS3EyEqTBAEIBIMAisxg3KecqOV///tfc/fdd4cGuvvss4+d8B933HGmU6dOpkOHDqZx48amTJky9oFSrFgxc/PNN2P2nxN3n0ZAIHcILF682MouDXyrVKliunbtaq6//norrySznNfw4cPNWWedZWrVqmVlmt7nzJmTOyBoCQQgkPMEtGAjWadFGykvb7zxxpCMc2Sd865zZYmuxRspB5588smc50MDIQAB/xF4+eWXTfHixa0cOuKII8ygQYNiyq2rrrrKtG7d2p6ruedzzz3nvwZRIwhAYA8CKDL3QMKBdBDYunWrVVRqMFyhQgVzxhlnGE3yncFv+PuIESNM9+7dQ6v/Rx55JJZM6bgp5AkBCCRMYMmSJaZ27dp2Yt+2bduYcixcpt100012sUYD5HLlyqHMTJg6F0AAAtkgoPGYxm377ruvGTx4cNQxW7iscz5fcsklpnz58vZalALZuHOUCYH8JSALcu2SkcFMv379XMst7ZyRWyAtwrz44ov5C5CWQyAgBFBkBuRGBbmaCnzRrl07O6Bt1qxZVMslZ/Ab/q5V/1atWtnrDj/8cLN58+YgY6DuEIBAwAns3LnTbp/UxF5WmOHyys3nc845x0iZqS3o8jdHggAEIOBXAtOnT7fjL8mroUOHJizvrrzySqsU0FZ0LQCRIAABCKSbgAKRSYGp12WXXZaw3Bo4cKDdGSi5pd03JAhAwL8EUGT6997kTM2GDBliB8MtW7Y0skxyM+EPP0fm/lIcDBgwIGeY0BAIQCB4BLS4IlnUpk2bhOWYI9O6dOli8+jdu3fwAFBjCEAgLwjIFVD9+vXtFvFklAGOvNPijWSmfNKRIAABCKSbgFyVSeacffbZSY/TND5THnJ5RoIABPxLAEWmf+9NTtRs3rx51kS/Ro0arrZgOoPf8HcpP/fbbz/7UJkxY0ZOcKEREIBAsAhs3LjRrvBXqlQpaVnmyDUn6i+r/cHqA9QWAvlC4K233rJjLgXDcORWsu8NGza0ef3www/5go92QgACWSCwcOFCK2sOPPDAlOWWYjZImUnwnyzcSIqEgEsCKDJdguK05Ag4q/HyO5LsIFjXySJADxRZM5EgAAEIZJrAww8/bGXQySefnJIskzxz5OI111yT6WZQHgQgAIG4BLp162YXoQsLkOF2TNenTx8rOxUIiAQBCEAgXQQUtEdzxb59+6Y8TpNvTeWl+ScJAhDwJwEUmf68LzlRq7/++stGjFOkXrcD3sLOq1evnh1Yr1ixIif40AgIQCA4BE4//fTQZLwwOeXmN1mZy/9S8+bNgwOAmkIAAnlDQLtoqlSp4snYTYEdFcVc0cxJEIAABNJFQPEUSpYsmZQbs2hjN8Zp6bpT5AsBbwigyPSGI7lEITBlyhQ78e/YsaMng2FZQml17I033ohSGocgAAEIpI+AIpVXrlzZE1mmAbMWZjS5VzA0EgQgAAG/EPjjjz/sWEvBGaNN7pM5VrNmTVOhQgW/NJF6QAACOUZAfn1LlChh5LonGRkV7RpnnLZr164co0VzIJAbBFBk5sZ99GUr7r77bjsYPvfccz15qFx44YU2PwXcIEEAAhDIJIG99trLBr+INthN5lirVq2sPFu+fHkmm0FZEIAABAol8Msvv1jZdMQRR3gydpN8dAIHFVowP0IAAhBIksCWLVus3JJvy2TGZNGu0WKODGj+/PPPJGvFZRCAQDoJoMhMJ908z/u6666zD4BLL73Uk4eK4/tE+ZEgAAEIZJJAuhSZv/32WyabQVkQgAAECiXw+++/27HboYce6snYTQoCWUntvffehZbLjxCAAASSJbBjxw4rtw466CDP5FaTJk1snps3b062WlwHAQikkQCKzDTCzfesZTmplawBAwZ48lC54oorbH56J0EAAhDIJAFtjfTKZ1y4hRJbyzN5FykLAhCIR0BbNPfZZx/jlX9zyTspMVu0aBGvaH6HAAQgkDSBfffd11MXQNWqVbPjvqQrxIUQgEBaCaDITCve/M583LhxVvF4xhlneKLI7NWrl81vzJgx+Q2W1kMAAhkncOqpp9pgY7I0j7YFKZFjCvYjRYG2LZEgAAEI+I1Au3btTLFixYwX8k67aLSofdFFF/mtmdQHAhDIIQIap0nWXHvttSmP04YNG2bHfJ06dcohQjQFArlFAEVmbt1PX7VmwYIF9oGiKHKJTPJjnXvMMcfY/GbNmuWrdlIZCEAg9wncf//9Vv506dIlZXnWp08fm9egQYNyHxwthAAEAkfggQcesDKqc+fOKcs7+dqUcmHy5MmB40CFIQCB4BB46qmnrKw5/vjjU5ZbJ510ks3r0UcfDQ4AagqBPCOAIjPPbngmm6vtSY5fpBtuuCGlh8qIESNM2bJlTdWqVc3OnTsz2QzKggAEIGA2bNhgt0dqe/nw4cNTkmeKhKmJ/Y8//ghZCEAAAr4jsHHjRms1Xr58+ZSsMuUKSJGEDzzwQPPPP//4rp1UCAIQyB0C27ZtMxUqVLDzRVlUxjKMiXdcluiSfeXKlTMKIkSCAAT8SQBFpj/vS87UyolcnurqmKygNPEnYnnOdA0aAoHAEdB2JckhbbuMNxCO9ftpp51m8+jevXvg2k+FIQCB/CEgNz6Sd3KBEUueFXZc47X99tvP5vHee+/lDzhaCgEIZI3Agw8+aGXOIYcckpTckkyTP1/JvnvuuSdr7aBgCEAgPgEUmfEZcUYKBDZt2mTq1KljfS0lG738yiuvNCVLljRyurxu3boUasOlEIAABJInoMA8iohZpEgR061bt4QHyX379jXFixe3zuP/+OOP5CvClRCAAATSTEBWmbJI0oReLoLk27cwxWX4b1JiNmzY0F578cUXp7mmZA8BCEDg/wjI8vu4446zsufII490LbMc+eW4MdO7dhaSIAAB/xJAkenfe5MzNfvoo4/sxF9bwy+//PKEHipXXXWVqVixon0gTZw4MWeY0BAIQCCYBLQdvHr16lamdejQwcjthTMALuy9a9euVompID/4+Q3mvafWEMgXAtpO2aZNGzv2UiRgKTPlKkhbxQuTc/rtwgsvtG6AdE3Pnj3N33//nS/YaCcEIOADAn/++ac57LDDrNySW4trrrkmrtwaMmSIXaiW3JJF5vr1633QEqoAAQgURgBFZmF0+M0zAs8++6yd+O+9997GbRRzDYDLlCljH0QPP/ywZ3UhIwhAAAKpEFAgM/l904C3Ro0a1jozmt9MWTCdffbZVgGgc2VVPmXKlFSK5loIQAACaSUgP3Pt27e38k07aVavXm2cAGV77bWXadSokZFrDAUrk4zTYs7AgQPN6aefburWrWuvK1q0qPUljBIzrbeKzCEAgRgE5s2bZySHNPbSeK1Vq1amX79+Jjxmgz5fcMEFVunpjOkk4z7//PMYuXIYAhDwEwEUmX66Gzlcl82bN5snn3wyZF1Zs2ZNO+gdPHhwgVUyrZpJ0en4VZIV5yOPPGIDbeQwHpoGAQgEiIDcXWhwrO2WxYoVs5/1XqtWLetPTr6ZZL0klxg6T1vRzznnHOsaQxN/yTQSBCAAAb8R2LFjhznhhBOs3Orfv78N0HPRRReZb775xnzwwQfm2GOPtb9JrkV7SQkgP8Bz5871W9OoDwQgkCcEtICibeWSUQrco8UXR15pPKa5pV6SV85xuQ3Sufpd1py7d+/OE1o0EwLBJYAiM7j3LjA1/+STT+yDYs2aNWblypXG8RPnPDxKly5tFZzacukc0yqaLDJ//fVXs3XrVqssmDRpUmDaTEUhAIHcJCCLyvCB7qpVq8ytt95qAwCFyzApMVu3bm0UOfOXX34JwXjzzTetnOvcuTMLNCEqfIAABLJNQP7gZFWpcZjGafr+zjvv2O+TJ08OVe/77783Y8eOtVvITz31VKu4lEXmM888Y5YtWxY6jw8QgAAEskHglltusXLrsssuCxU/ffp0az2usZe2juvVqVMnG0RWLtCcJEtzyUBZmpMgAAF/E0CR6e/7E+jaaRCsB4GjnAxvjJSa2i6uwfKhhx5qDj74YNOyZUvTu3dvc//995sVK1aEnx7KQw+YXbt2FfiNLxCAAAQyQWDDhg3W6lIuMuQrMzJJ5sk3k86LtZov33OyAtA2pkqVKplp06ZFZsN3CEAAAhknIJ/kGq9JmSmLJgVXrFChgt2e+dJLL2W8PhQIAQhAIFECsgbXDhlZWMoQJtGkoI6NGze2co8t5onS43wIZJYAiszM8s6b0mRJKcWkrC1lvSQH8akkra7pwaT85Lg5mhIhlfy5FgIQgEA8AvJ3qYn+Qw89FO/UQn9v3rx5aHFGSlFtVWeBplBk/AgBCKSRwIMPPmhl0hFHHGHkI1NJlkvFixe3iy5jxoxJY+lkDQEIQCB1ApJdMozRfHHOnDlJZyj/mpJ9DRs2NFp8JkEAAv4kgCLTn/cl0LV64YUXjLZYOr5HypUrZ30rpdIoPZDkz0RKBClGpdDEz1wqRLkWAhBIhIAskiR/TjrpJOs3LpFrI88dNWqUHSQrP72kzGSBJpIS3yEAgUwQePvtt+14TYF6tFtG6T//+Y8dxzky6tprr81EVSgDAhCAQNIELr/8cjumGjlyZNJ5OBfedtttNq+LL77YOcQ7BCDgMwIoMn12Q4JcnY0bN9rovVIyOoNfvWsLpbPCn2z7tGUzMl8pS48//nizdu3aZLPlOghAAAJxCSxfvtz68dVW8Ei3F3EvjnKCtis5CzOOrNQCjRSacrlBggAEIJAJAl9++aVVWFasWNH88MMPtkjJuzJlyhQYx8lnOQkCEICAXwnIj6/GUfJNHsu1TyJ1l3uNo48+2srBd999N5FLORcCEMgQARSZGQKd68XMnj3bVK1aNRSl15mc610+ML1IJ554YoGBtfKW6b98OCmaJgkCEICA1wT++ecfu2AiefPaa695kr0GyFJahstJ57MWbDp27MgCjSekyQQCEIhFQIF5atSoYRebFQhDSfJOigAFXHRkkt7btm0bKxuOQwACEMgqgfXr15uaNWtag5dFixZ5VpfFixfbRR3JSYxmPMNKRhDwjACKTM9Q5mdGWvUaOnRozEm5FI2K6OtFUpTMSKtMZ6Ct45dcconZsWOHF0WRBwQgAAFLQMHHJGcUiMzLJGWlI78i350Fmvfff9/LIskLAhCAgCXw119/mSZNmlgZ9Nxzz4Wo3HvvvVHHWXJ9QYIABCDgRwI9evSwsuzRRx/1vHpPPPGEzbtbt26e502GEIBAagRQZKbGL6+v1kqVBsKxlIuanGv7ZCoOl8MBq7xYVkwqS7/Vq1fPLFy4MPwyPkMAAhBIisD3339vSpUqZfbbbz+jib+XST5+C5NnkmmSrfLPxAKNl+TJCwL5TUCBxZyFlHBfctpaHms8V7ly5fyGRushAAFfElBcBo2XOnXqlLb6de3a1ZbxzDPPpK0MMoYABBIngCIzcWZcYYwZN26cHfA6AX30EIn20qBY/i29Stq+Hq2c8GNSDtx3331eFUk+EIBAHhLQZF9uMeRzadq0aZ4T+Pnnn2MqDSLlmYJwfPvtt57XgQwhAIH8I9CvXz87jjrvvPNCjdfuGkX7lbwLlz/OZ1mJkyAAAQj4iYD8+cq9mBZaVq5cmbaqKQia5p8KXvvrr7+mrRwyhgAEEiOAIjMxXnl/9oYNG8wpp5xSIJqlM9CN9n7CCSd4yqxPnz5RB9mRZSsQkHw6rV692tPyyQwCEMgPAjfccIOVNYMHD05bg6tUqeJKnkm+aYHm9ttvT1tdyBgCEMh9AnL1I3nSoUMHo8UaJ11//fWFLqwUK1bMbN682TmddwhAAAJZJSB/vo5l+fjx49Nel7feesvKznbt2nlqoJP2ilMABHKYAIrMHL65XjftnXfesUJcA9pIxWG077LGlF9LL5OCbWhFLFp5kcccZ/Xh/p+8rAt5QQACuUngk08+scEu5Dojndu6zznnnJiyTHJWkYPLly9fIILwoEGDPInImZt3jlZBAAKxCDhbMBs3bmz+/PPP0Gly/xPPzYVkkdz7kCAAAQj4gcCYMWPs+Oncc8/NWHUuuOACW+bo0aMzViYFQQACsQmgyIzNhl/CCPz000/mzDPPtAK8evXqNlq4thppcCs/mJFKRH3XwHjJkiVhuaT+UZHpSpQoEbU8py76XUoAZxu6rEK/+uqr1AsnBwhAIOcJyOqofv36Vs6kW2688sore8hPbe2Uy46rr77avPjii0bRhCV/N23alPPsaSAEIJAeAjNnzrQyTeO38K2R27ZtM7Vq1Yo6pgof12lB5dNPP01P5cgVAhCAQAIEvvvuO+u/fP/99zcbN25M4MrUTtU4TK5+NM9csGBBaplxNQQgkDIBFJkpI8zfDPTwUDCMVq1a2UFwpKWmFInpSA0aNCgw6HYsL+Xf6ZtvvilgaZCO8skTAhDIXQIXXnihlS933nln2hu5du3aPRZmZC0lRWazZs3Sag2a9sZRAAQg4AsCS5cutT7ktEsmMvhi//79rUIgXGkZ7bN2wkyYMMEX7aESEIBA/hKQS4yWLVvacdKMGTMyDmLWrFmM0TJOnQIhEJ0AiszoXDjqksBDDz1kJ/3dunXbY2uS/FmmI11zzTX2IeIMthVVWFsL9H3UqFHpKJI8IQCBPCDw9ttvWzlyzDHHZMwHkqw/HVkm374aJA8bNsweGzJkSB5Qp4kQgEC6CGzdutU0b97cypPXX3+9QDEffvhhSIkpS3DtrnGC/WhHjfNZ8klK0Mcff7zA9XyBAAQgkGkC8ucrmaS5YLYSY7RskadcCBQkgCKzIA++JUDgxx9/tMrL2rVrGwUBuuqqq0zJkiXtA0YDYvmzTEeaOnVqyE+mrEB79+5tNFg/6KCD7JbyuXPnpqNY8oQABHKYwB9//GGqVatmJ/O//PJLxloquSkLTA3MZd2utHPnTtOiRYusWRxkrPEUBAEIpJVAr169rGy57rrrCpQjH5nOAoq21QiDYAAAIABJREFUSl522WXm2muvtccuvfRSs2jRIqNgZI5sklLzlltuKZAHXyAAAQhkksDs2bOt//Js71hhjJbJu05ZEIhNAEVmbDb8UgiB3bt3m8MOO8yu2E+ZMsWeKUWA4zBe/kPkzzIdScE3HD+ZssZ0lA7aMiXFphSa8vtEggAEIOCWwGmnnWYn8ePGjXN7iSfnSX5q4UfWmNOmTQvluXDhQrswlGkfUKEK8AECEAg0gXvvvdfKtJNOOmkPC/OPPvrIKNKvM07TmO7AAw+0lpcrV6607ZYvzRo1aljFgZSecrtBggAEIJANAvJfXq9ePd/4p2SMlo1eQJkQKEgARWZBHnxzSWDEiBF2gHzllVcWuGLgwIF2Bb9hw4YFjnv9pXXr1laJ2qNHjwJZjxw50tZL9SBBAAIQcEPgqaeesnLj9NNPd3O6p+ds377dli3fv5HJUUT07ds38ie+QwACEIhJQIsi8h+uib92zMRL2jYuZWWk5eaKFSvMfvvtZ8dbnTp1ipcNv0MAAhBICwH585WMuvvuu9OSfzKZMkZLhhrXQMA7AigyvWOZNzl9/vnndoDcqFEjo0l4eFq1apV90KR74u0oUn/++efw4o2sChwl5wcffFDgN75AAAIQiCSwZMkSU6ZMGaNovrIqz0aSoiDSf53q8c8//5gOHTpYmSrrKRIEIACBeASWLVtmt4XLylsBEOMljeMUubxixYpRgyWuWbPGyiApEUgQgAAEMk1g4sSJVga1a9duD+vyTNclvDzGaOE0+AyBzBNgVJJ55oEuccuWLUbWlsWLFzfz5s2L2hb5V9K2pXSmr776yvTs2TNqEfLtJMf0NWvWDG2binoiByEAgbwm8N///te0adPGDpDfeeedrLEI31IeWYnffvvNlC9f3kYd1kIRCQIQgEAsAlJKHnrooVamvfLKK7FOK3B89OjR9vw777yzwPHwL9qCft5554Uf4jMEIACBtBPQQor8l5crV87I3YXfEmM0v90R6pNPBFBk5tPd9qCtF198sR3w3nbbbTFz01Yk+bFMZ9Iq2NKlS2MW8eijj9p6du/ePeY5/AABCOQ3AU3cZWV00UUX+RrE888/b+vZuXNnX9eTykEAAtkloN0wkmlDhgxxVZG//vrLVKpUyey7775xfYsrwAUJAhCAQCYJnHrqqVamPfPMM5ksNqGyGKMlhIuTIeAZARSZnqHM/Yzee+89+zA56qijzN9//+37Bsufkwb0L774ou/rSgUhAIHMEpBVt4KG1a9f38iJvN+TFmUkz8aOHev3qlI/CEAgCwQefPBBKyM6duzoeox2/fXX22u0+EuCAAQg4CcC2fRfnigHZ4z22GOPJXop50MAAkkSQJGZJLh8u2zdunU2eqV8Li1evDgQzVfkTVkaVKhQwSxfvjwQdaaSEIBA+gnIYrxJkybW1+8nn3yS/gI9KEFbO+UuQzJY7jNIEIAABBwCM2fONMWKFTMHHHCA0XjNTfr+++/tYs5BBx1kdu3a5eYSzoEABCCQEQJ+8F+eSEPDx2iR8RsSyYdzIQAB9wRQZLpnlddnnnHGGXbVXpEtg5QUQENWTLJQ0HZ0EgQgAIHBgwdbuXDDDTcECoYCmEmeKaBZEKziAwWXykIgoAS0UCsfcnvvvbeZP3++q1ZoPNS2bVsrT6ZPn+7qGk6CAAQgkAkCfvFfnmhbnTHakUceyRgtUXicD4EkCKDITAJavl3y7LPP2sFuly5dAtn0Pn362PqPGTMmkPWn0hCAgHcEFIisSJEiNiBGEK2QLrvsMivPRo0a5R0UcoIABAJJQNblRxxxhJUJ8tPmNjlbNgng45YY50EAApkicMcdd1iZ5nf/5dF4OGO0W265JdrPHIMABDwkgCLTQ5i5mJUixClSXNWqVc3q1asD2UQ5s69Tp44pVaqU+e677wLZBioNAQikTkCyYL/99rOyQNsqg5i2bt1qtBVU20jnzp0bxCZQZwhAwCMCF1xwgZ3wDxo0yHWOf/zxh3W7U6VKFdfb0F1nzokQgAAEUiAg/+XFixe3/su3bNmSQk7ZuZQxWna4U2p+EkCRmZ/33VWrZdrfrl07O0ieMGGCq2v8epK2TskKq2XLlviC8utNol4QSDOB3r17W3l2//33p7mk9GY/Z84cq8iUQnPbtm3pLYzcIQABXxJQgB65mmjfvr3ZvXu36zo6u1S024YEAQhAwC8Etm/fHvJf/umnn/qlWgnXwxmjHXzwwYzREqbHBRBwTwBFpntWeXfm6NGj7SC5X79+OdH2q6++2rZHUTpJEIBAfhF49dVX7f//+OOPzwl/uSNHjrTtGThwYH7dSFoLAQiYL774wlotycJcFpZu09SpU63cOO6449xewnkQgAAEMkLgqquusvLpxhtvzEh56SzEGaNdfvnl6SyGvCGQ1wRQZOb17Y/d+AULFtholnXr1jWbNm2KfWKAfpEvqaZNm9pIxbNnzw5QzakqBCCQCoEVK1bYrZQVK1Y0v//+eypZ+eZaWWAp6I8szeVgngQBCOQHgT///NNGJ9f2Syk03SZZOzVs2NCULFnS/PTTT24v4zwIQAACaSfg+C9v1apVTuycCx+jTZ48Oe38KAAC+UgARWY+3vU4bZbCr1mzZmavvfYys2bNinN2sH7++uuvrYK2Xr16ZvPmzcGqPLWFAAQSJqDovCeeeKJd5X/ppZcSvt7PFyxatMiULl3a1KxZ06xfv97PVaVuEICARwTOOOMMK8/uu+++hHIcPny4vU6WQiQIQAACfiGgxRlZl++9994mqP7Lo7FkjBaNCscg4B0BFJnescyZnIYMGWIHu8OGDcuZNoU35K677rLt69+/f/hhPkMAAjlI4KGHHrL/97PPPjsHW2eM4yeve/fuOdk+GgUBCPyPgCPPunbt+r+DLj5JOVCiRAkbKGznzp0uruAUCEAAApkhcM4559hx2gMPPJCZAjNYijNG69GjRwZLpSgI5AcBFJn5cZ9dt3LGjBnWErNFixYmVwe7CmLUtm1b+9CcOHGiazacCAEIBIvAjz/+aFf4a9eubTZs2BCsyidQ286dO1t59vzzzydwFadCAAJBIjB//ny7LbxOnToJWWDLKt0Z82iMR4IABCDgFwKvvPKKHb+ccMIJOeG/PBpXZ4z2wgsvRPuZYxCAQJIEUGQmCS4XL9u4caPZf//97UB54cKFudjEUJuWLl1qypYta6pVq2bWrFkTOs4HCEAgNwjIP9Fhhx1mfUhOmTIlNxoVoxWrVq0ylStXNuXLlze//fZbjLM4DAEIBJWAfJU3aNDAFCtWzHzyyScJNeOpp56yioLzzz8/oes4GQIQgEA6Cch/uXyX55L/8mi8nDFahQoVGKNFA8QxCCRJAEVmkuBy8bK+ffvawe69996bi83bo01PP/20be9pp522x28cgAAEgk1gxIgR9v995ZVXBrshLmv/xhtv2PYqGrEssEgQgEDuEJBrjH/9619GrnESSYpoXqlSJVOlShWzbt26RC7lXAhAAAJpI5DL/sujQRs/fryV4R06dGCMFg0QxyCQBAEUmUlAy8VL8lXAduvWzT5YZLFAggAEcoPA559/booWLWoaNWpkFKk3X1K+LUbly32lnflN4PHHH7fjlE6dOiU8Ae7Tp4+99tlnn81viLQeAhDwFQHH32+u+i+PBvvcc8+18jjRQG3R8uIYBCBgDIpMeoFxTN7zcVvi2rVrTfXq1U2ZMmXMkiVL6A0QgEDACWzZssU0bNjQFC9e3MybNy/grUms+vnkHiQxMpwNgWAS+Oabb6yf35o1axpZVyaS3nrrLTtplgUQCQIQgIBfCOSL//JI3s4YrVSpUibXXbhFtp3vEEgHARSZ6aAasDwdJ8T5Gihi0qRJdrDfpk0bo0BAJAhAILgELr74Yvt/vu2224LbiBRqPnPmzJwP2JYCHi6FQGAIaFHm4IMPttbl+l8nkuT7u2rVqtYXuHyCkyAAAQj4gUA++S+PxjsfgupGazfHIJAOAigy00E1QHk++uijdtLfo0ePANXa+6oOGDDAcrjjjju8z5wcIQCBjBB499137f/46KOPNn///XdGyvRjIUOGDLEchg0b5sfqUScIQMAFAcdVxC233OLi7IKnnHrqqVYGyBc4CQIQgIBfCOSb//Jo3K+55horn6+77rpoP3MMAhBwSQBFpktQuXjaokWLTOnSpY22LK1fvz4Xm+i6TbJ8UERQbUf96quvXF/HiRCAgD8IyE1EjRo1rJuIxYsX+6NSWarFzp07zSGHHGItM2fNmpWlWlAsBCCQLIFnnnnGTnQ7duyY8E6RcePG2WtPP/30ZIvnOghAAAKeE8hX/+WRIHfs2GGaNWtmx2izZ8+O/JnvEICASwIoMl2CyrXTZNp/xBFHmCJFipjJkyfnWvOSas+nn35qt3A1adIkrwKEJAWLiyDgMwJO4K4nnnjCZzXLTnUWLFhgSpYsaerWrWs2bdqUnUpQKgQgkDCB77//3uyzzz7Wf7d8mCeSfvnlF7udXL6/E/WpmUg5nAsBCEAgEQL57L88GieN0UqUKGHq1atnNm/eHO0UjkEAAnEIoMiMAyhXfx45cqRdsR84cGCuNjGpdt14442Wy1VXXZXU9VwEAQhknoBjvdS1a9fMF+7jEkePHm3lWb9+/XxcS6oGAQg4BLZt22aaNm1qLXWmTp3qHHb1Lh/fbdu2tf/5t99+29U1nAQBCEAgEwTy3X95NMZ33323ldf9+/eP9jPHIACBOARQZMYBlIs/z5kzxxQrVswcdNBBRoNm0v8I7Nq1y7Rq1cpaqn700Uf/+4FPEICALwkokEW5cuVsYAsFuCD9j4AUG8cee6wdKE+YMOF/P/AJAhDwJYELL7zQ/l+HDx+ecP2chQsmxQmj4wIIQCCNBPBfHh2uxmjt2rWzMn/ixInRT+IoBCAQkwCKzJhocvOHrVu3mgMPPNAqMufOnZubjUyxVdrWtffee5v99tvP/PnnnynmxuUQgEC6CIQPAt966610FRPofH/99deQonf16tWBbguVh0AuE3jttdfshFYT20SDlX3zzTe4ksjlzkHbIBBQAvgvL/zGOWO0atWqGRbjC2fFrxCIJIAiM5JIjn+/7LLL7EB51KhROd7S1Jr3wAMPWE69e/dOLSOuhgAE0kbA2ZZzwQUXpK2MXMj42WeftfKsS5cuudAc2gCBnCOwcuVKU6lSJVOhQgWzfPnyhNpHcK+EcHEyBCCQQQJnnHGGHX/gvzw2dMc90qmnnhr7JH6BAAT2IIAicw8kuXvg/ffftw+T1q1bJ7zan7tUorfsn3/+MSeccILl9eqrr0Y/iaMQgEDWCOAoPTH0Z555ppVnjz/+eGIXcjYEIJB2Ap06dbL/zxdffDHhsoYNG2avHTp0aMLXcgEEIACBdBFgEdU9WSdg5ZNPPun+Is6EQJ4TQJGZJx1g/fr1Zt9997WRMBctWpQnrU6tmb///rupWLGitZJYsWJFaplxNQQg4BmBHTt2mGbNmtmAGLNnz/Ys31zOaN26daZGjRr2GbB48eJcbiptg0CgCIwdO9YqInv06JFwvWfNmmXl4CGHHGJkmUmCAAQg4AcCzpbpqlWrGtzaxL8j2oJfvXp1U6ZMGbNkyZL4F3AGBCBgUGTmSSc466yz7EBZA2aSewKvvPKK5XbiiScaWWmSIACB7BO45ppr7P/yuuuuy35lAlSD9957z3I76qijsMoP0H2jqrlL4Oeff7aLCzVr1jRacE4kbd682dSrV8+UKFHCyEKdBAEIQMAPBML9lxNo0P0dmTRpkh2jHX300YzR3GPjzDwmgCIzD27+c889ZwXjySefnAet9b6JvXr1svweeugh7zMnRwhAICEC06dPtxZILVq0MLt27UroWk425pJLLrHy7NZbbwUHBCCQRQIK6HPkkUfa/6Nc/ySanAjn8hVMggAEIOAXAqNHj7ZyrV+/fn6pUmDqMWDAAMvu9ttvD0ydqSgEskUARWa2yGeo3GXLlpny5cubKlWqmFWrVmWo1NwqRpHLa9eubSOZ//jjj7nVOFoDgQAR2Lhxo6lTp44pVaqUWbhwYYBq7p+qbt261TRs2NAUL17cfPnll/6pGDWBQJ4RuO222+yE9dJLL0245W+//ba9tm3btkbWTyQIQAACfiDg+C+vW7eu2bRpkx+qFKg6bNmyxTRo0MCO0ebPnx+oulNZCGSaAIrMTBPPYHnaCt2+fXs72H3zzTczWHLuFTV16lRTpEgRc9hhh5ndu3fnXgNpEQQCQODcc8+18uy+++4LQG39W8UvvvjCFCtWzDRq1Mhs27bNvxWlZhDIUQLz5s2zE1UtKmhxIZG0Zs0a60utbNmy5pdffknkUs6FAAQgkDYC4f7L5b+XlByBzz77zBQtWtQ0btzYbN++PblMuAoCeUAARWYO3+R77rnHTvrPO++8HG5l5po2aNAgy3PEiBGZK5SSIAABS+D111+3/78OHTrgr9aDPnHTTTdZnldccYUHuZEFBCDgloAmppqgaqL6+eefu73MnqcFavns/te//mXGjRuX0LWcDAEIQCCdBIYMGWJl07Bhw9JZTF7kPXz4cMtSc08SBCAQnQCKzOhcAn/022+/NSVLljQHHHCA0XZMUuoEUpl8pF46OUAgfwmsXLnSVK5c2VSoUMH89ttv+QvCw5bLsvzwww+3luYffvihhzmTFQQgUBiBwYMH2wmqJqqJJvlNkxKzd+/eiV7K+RCAAATSRmDGjBkh/+U7d+5MWzn5krHGaNoFqN2A2hVIggAE9iSAInNPJoE/ogdI8+bN7QNl5syZgW+PnxogfyXyLaftYPJjQoIABNJPoFOnTnby/sILL6S/sDwq4aeffjKlS5c2tWrVMhs2bMijltNUCGSHwLRp0+zE9NBDD004WJm2asqK88ADDzSKWE6CAAQg4AcCMpjZf//9rQEN/su9uyM//PCDjc+gOA2K10CCAAQKEkCRWZBHTnwbOnSonfRfe+21OdEevzXCsYi4+OKL/VY16gOBnCPwyCOPWHnWs2fPnGubHxr08MMPw9cPN4I65DyBv/76KxSs7Pvvv0+ovevWrbNBBxXo7Ouvv07oWk6GAAQgkE4Cffv2teOIe++9N53F5GXeDz74oGXbq1evvGw/jYZAYQRQZBZGJ4C/ffzxx9YS85BDDjGY9qfnBv7999+mTZs29sHy7rvvpqcQcoUABIxjMVizZk0sBtPYHxyL1xdffDGNpZA1BPKbgDPZHzNmTEIg5BezS5cudsyhhR0SBCAAAb8QeOONN6xsOu644/BfnoabEu4X+eWXX05DCWQJgeASQJEZ3Hu3R803bdpk6tata037FyxYsMfvHPCOwJIlS0yZMmVMjRo1zNq1a73LmJwgAAFLQP6BjjjiCLsNc/LkyVBJIwH5IK1UqZL1Qbp8+fI0lkTWEMhPAs5kP5lgZU7gxu7du+cnPFoNAQj4ksCqVatMlSpVTPny5c2yZct8WcdcqNSKFStMxYoV7ev333/PhSbRBgh4QgBFpicY/ZFJv3797KrY6NGj/VGhHK/FE088YXmfccYZOd5SmgeBzBMYOXKk/X8NHDgw84XnYYlOVPiOHTtiVZGH958mp4/A6tWrQ5P9RIOVKaq5/HLXq1fPaGs6CQIQgIBfCJx88sl2nPbcc8/5pUo5W49XXnnFsj7xxBMZo+XsXaZhiRJAkZkoMZ+eP2HCBCvgjj32WPPf//7Xp7XMvWp17drVcn/22Wdzr3G0CAJZIjBnzhxTrFgxc9BBB5lt27ZlqRb5V2yfPn2sPEt062v+kaLFEHBPQJaUijSe6GRfwR0OOOAAU6JECTN37lz3BXImBCAAgTQTGDt2rJVrWIqnGXRY9vKTqWeJ/GaSIAABY1Bk5kAv0Gp/1apVTbly5cyvv/6aAy0KThPWrFkD++DcLmoaAAJbt261UXmlyGTyntkbFh6M5Lvvvsts4ZQGgRwkMGnSJDvx7Ny5c8Kt69atm72WhYWE0XEBBCCQRgKLFi0y++yzj5H/8vXr16exJLIOJ6DFLUUw33vvvY0impMgkO8EUGTmQA9wnMBjFZidm/nWW2/ZyUa7du2whs3OLaDUHCJw2WWX2f/TqFGjcqhVwWnK9OnTrV/Sli1bml27dgWn4tQUAj4joEWZ/fff35QuXdosXbo0odo5kWpPO+20hK7jZAhAAALpJKCAp61bt7bjtA8++CCdRZF3FAJTp061Y7RWrVoxRovCh0P5RQBFZsDv9+OPP24fJmeeeWbAWxLs6l9wwQX2PuCfNNj3kdpnl8D7779v/0caJGuwTMoOgauvvtreh+uvvz47FaBUCOQAgSFDhtj/0V133ZVQa+bNm2eDNtapU8ds2LAhoWs5GQIQgEA6CWiRWdubtehMyg6BQYMG2XswfPjw7FSAUiHgEwIoMn1yI5KpxuLFi61pvyJnr1u3LpksuMYjAps3b7bO+OXLiojxHkElm7wioO1J++67r5Vp2rZEyh6BHTt2mKZNm5qiRYua2bNnZ68ilAyBgBL4+uuvrZ/fZs2amd27d7tuxcaNG039+vXttZ9++qnr6zgRAhCAQLoJyN2P479cFuek7BDYvn27ady4sR2jffbZZ9mpBKVCwAcEUGT64CYkUwVZKx111FF2Rea9995LJguu8ZiAJvx77bWX0cRFigASBCDgnsBZZ51l5ZkcyJOyT0CKGC3MKFqyFmpIEICAOwIKuCir8iJFiphEJ5k9e/a0cvDuu+92VxhnQQACEMgAAQVeVABGKTIVkJGUXQLz5883xYsXNw0aNDBbtmzJbmUoHQJZIoAiM0vgUy321ltvtYPdSy65JNWsuN5DAtddd529L9pSRoIABNwRUDRfbVU6+eST3V3AWRkhoC2xui/9+/fPSHkUAoFcIPDwww/b/82ll16aUHMcV0EKDPTPP/8kdC0nQwACEEgngYEDB1q5NnLkyHQWQ94JELj99tvtPRkwYEACV3EqBHKHAIrMAN7LL7/80q7CNGzY0GDa768bqOAYLVq0sJaZM2bM8FflqA0EfEhg2bJlpnz58qZKlSpm1apVPqxh/lZJlmVt27a1A+WJEyfmLwhaDgGXBFasWGHKlStn3WT89ddfLq8yRhbQpUqVMrVq1TJr1651fR0nQgACEEg3AQX1kYW5LM0TcZWR7nrle/7andmmTRs7Rps0aVK+46D9eUgARWbAbrpM+xs1amRN+7/44ouA1T4/qrtw4UI7IVG0Uvm7IkEAAtEJyOqoffv2dhD25ptvRj+Jo1kloGjLZcuWNdWqVTNr1qzJal0oHAJ+J6DAi7JifvXVV11XVf6B69ata8d1M2fOdH0dJ0IAAhBINwHJp5o1a5rSpUsb/Jenm3bi+S9ZssSUKVPGVK9enUWwxPFxRcAJoMgM2A284oor7CD5pptuCljN86u69913n71Pffv2za+G01oIJEDgnnvusf+T8847L4GrODXTBJ5++ml7n0499dRMF015EAgMgXfeecf+TxJxkSGLmhNOOMFeN2bMmMC0lYpCAAL5QaBHjx5WPj366KP50eAAtvLJJ5+096hbt24BrD1VhkDyBFBkJs8u41d++OGH1rT/8MMPx7Q/4/QTK1CWZh06dLAPljfeeCOxizkbAnlA4NtvvzUlS5Y0BxxwAJbLAbjfGiDL0kwDZhIEIFCQgIItaBeGrJZkxew2DR061P6v+vTp4/YSzoMABCCQEQIvvPCClU+dOnXKSHkUkjwBLTRrjPbMM88knwlXQiBgBFBkBuSGbdiwwfpO0iD5p59+Ckit87uav/32G77/8rsL0PoYBHbu3GmaN29ufcmylTIGJJ8dlt8+bV3SFiZtZSJBAAL/I3DNNdfYSWQi0cZfe+01e03Lli2N3AaRIAABCPiFgOYwFSpUMJUrVzYrV670S7WoRwwCcv1TtWpV66M5kcW0GNlxGAKBIIAiMxC3yZiePXvaAa+iYZKCQ+D555+39y2RrWbBaR01hUByBBwrpGuvvTa5DLgqKwTkTF4r/kcffbTRllgSBCBgzFdffWX9Wx5yyCGud8vIIn2fffaxSoJff/0VjBCAAAR8QyB8V9n48eN9Uy8qUjiBt956y47R2rVrZxSskQSBXCeAIjMAd/jFF1+0ggnT/gDcrChVdPzLjB07NsqvHIJAfhH4+OOPrSWmJv2yzCQFi8CAAQPs8+j2228PVsWpLQTSRECK/b322st89tlnrkrQDpv69eubokWLmqlTp7q6hpMgAAEIZIqA4+f/3HPPzVSRlOMRgQsuuMCO0RLZHeBR0WQDgYwTQJGZceSJFbh8+XJr2l+pUiVM+xND55uznYh/sr4g4p9vbgsVyQKBTZs2WZ+Y8o35zTffZKEGFJkqAfkCbNCggSlevLiZP39+qtlxPQQCTWDixIl20nj++ee7aoesZDp37myv+fe//+3qGk6CAAQgkCkCCxcuNKVKlbI+fzdu3JipYinHIwKbN2829erVMyVKlDALFizwKFeygYA/CaDI9Od9sbWSaX/Hjh3tgPf111/3cU2pWjwCkydPtoGaWrduzZbMeLD4PWcJaLKvrclM4IN9i2V5Jmuyxo0bm+3btwe7MdQeAjEI/PzzzzF++b/DUko2bdrUBi1btmxZoec6P95www1WBp599tnOId4hAAEI+IKAdsm0aNHCWpjPmDHDF3WiEokTmD17tr2HzZo1Mzt27Eg8A66AQEAIoMj08Y0aM2aMHfASzdLHNymBqg0cONDez1GjRiVwFadCIBgEtPCileBY6c0337T9v3379vjuiQUpQMeHDx9u7+egQYMCVGuqCgH3BOTD99JLL415wXPPPZfQf+CNN96wC5pyq7F169aY+fIDBCAAgXQQ0I6K33//PWbW1113nZVpCl5GCjYBN/dy1apVBqvbYN/nfK89ikxCSBatAAAgAElEQVSf9oDvvvvOmvbXqVPH/PXXXz6tJdVKhICikh500EE2KMDcuXMTuZRzIeB7Al9//bWJ5Tdx9erVpkqVKjaaolvLJd83OM8ruHv3bnPYYYdZxQx+/vK8M+Ro852JYLSgZLJcqlu3rilbtqz5448/4hLQmK5MmTJGboKWLFkS93xOgAAEIOA1AQXs69+/f9RsseKLiiWwB3ft2hWyrp0+fXrUdlx88cVGAYJIEAgqARSZPrxzEj4tW7a0E8RYwseH1aZKLghIgVmsWDGr0JRikwSBXCHgRCKPZpV5yimn2FX+//znP7nSXNphjPnhhx/M3nvvbWrXrm3+/PNPmEAgpwi88MILtn+XLl3aaEdFeHrooYesTLv55pvDD0f9rMXoAw880G71k5sZEgQgAIFsEDjrrLOs3JIlXniS/3ItzOBXMZxK8D87/k5lFBVpeakFOLl6Ovnkk4PfUFqQtwRQZPrw1l9//fVWuFx99dU+rB1VSpWAtpbr4RE5MUo1X66HQDYJyP+r+vUdd9xRoBqPPfaYPa4BNCn3CDz44IP2/vbq1Sv3GkeL8prAhx9+aMqXL2/7t5SZ8vErFxranlm9enVrZS4FgKKQT5gwwWjBRj4ww5PO79Kli83jzjvvDP+JzxCAAAQySkAKLfm3jpx/EOk6o7cho4XFikB/1VVXWcOamjVrZrQ+FAYBLwmgyPSSpgd5ybRfDxk5kMdBrwdAfZjF33//baT0KVKkiPnggw98WEOqBIHECEhWaSVfisxy5coZx9pYwTL22Wcfs++++5p169YllilnB4KAFDUnnniivfcvv/xyIOpMJSHghoDcZUieSa7pJWVmjx49rLJS39u0aROKDrvXXnvZc+RGIzzddNNN9nj37t3DD/MZAhCAQEYJrFy50gYmk+zSTgrHJYa2FutYu3bt8F+e0TuSmcI0RuvQoYO9x07gYI3H9TzTfVeE+uXLl2emMpQCAY8JoMj0GGgq2WlLZr169axCQANoUu4SWLRokVXwaCVs/fr1udtQWpYXBD766KPQhF+DI0Ull8L+yCOPtAOl999/Py845GsjV6xYYX3/VaxYsdBAAvnKh3YHk4C2X2rCr8me83K+ayHSOaZ3yb3x48cXaKisNHVekyZNCg2EVuAivkAAAhBIAwEFJ5OfXsmrkiVLGgXqW7Nmjalatar19bt06dI0lEqWfiDw22+/mQoVKpjKlSsbKbTlCkoKTPUFGRs8/fTTfqgmdYBAwgRQZCaMLH0XXHjhhVaosP0ofYz9lPPYsWPt/ZaFBwkCQSYwZMgQ6//NmdhrwDRixAjbvwuL+hvkNlP3ggReeeUVe79POOEEu/224K98g0DwCGgxxrG0dGRbtHcpBSJdZ8gftpSbUu7LMp0EAQhAIJsEzjzzTPuMdmSYFmU6depkj6HIyuadyUzZ8vmse9+xY8eQNabTF7p27ZqZSlAKBDwmgCLTY6DJZvf2229bAXPMMcdg2p8sxABe17lzZ3vf9YAhQSCoBBo2bGj7sTMo0kqvLJEaNGhgtm7dGtRmUe8ECchPpvqA/GaSIJALBJztd45si/ZepUqVAoEUfv31V1OjRg27u2bGjBm5gIE2QAACASegBeZw+aXAo/qunTNffvmltdT773//G/BWUv1IArqn2l0wb94807ZtW3vPnXvv9IeyZcuyAB0Jju+BIIAi0we3SX5KqlWrZk37f/nlFx/UiCpkioAeLjL11wBDpv8kCASNgFwjOP4xnUGR8y5/v7JW0qS+RYsWNuiFLJfuuece8+OPPwatqdQ3DgFFLlcEc1l6KKI5CQJBJ1CrVq0Ck39Htjnv6uvTpk0LNVMRyrWVXL+zQBnCwgcIQCCLBBS9WluIHbkV/i4llnwBS5bJAt0JcKbgZXKDRQoWAekRTjvtNHuvdS81Dte91T3WvQ6/985nuRzApV2w7jO1/T8CKDJ90BMcgTNu3Dgf1IYqZJrAG2+8YR8scsYsp8wkCASJgJyHxxocOYOkyPfBgwdjeR6km5xAXadOnWqtcVu1amV27dqVwJWcCgH/EdACTKT8cr5rcnjJJZeEKq3+rm17+n3UqFGh43yAAAQgkE0Cilzt+ER05Fes9+LFi1sZhjV5Nu9YamV/+umn9h469zLWvXaOy+Bg9OjRqRXK1RDIAgEUmVmAHl7kU089ZYXN6aefHn6Yz3lGoG/fvrYfaLBBgkCQCPTp08f2XWdAFOtdg2gFt5LvOFJuE1AQAfWD4cOH53ZDaV3OE3B8yEWTa3Xq1DHbt28PMejXr5/t9+edd17oGB8gAAEIZJuA3JZFk2GRx+RKQy5itmzZku0qU36KBOTWSXNLN+5R1A/kYoAEgaARQJGZxTu2ZMkSG0GuevXqRtvLSflLYOPGjWb//fe3K6baAkKCQFAIKOJl5GA48rsGUr1792ZwHJSbmmI9pdxp3Lix3dL02WefpZgbl0MgewQuuuiiqPJN1pjyOeakW2+91Z6nnRVYIjtUeIcABLJNQPJIFneR47Lw7/KZqJ0148ePz3Z1Kd9jAm+99ZbdVh7pFzP8/uuzXETt2LHD49LJDgLpJYAiM718Y+Yu57tt2rSxD5Z33nkn5nn8kD8EZs6caf3TaCvbzp0786fhtDSwBLQYowl95IDI+e4MjuU+gZRfBObPn2+0rUkBn7DuyK97n0ut1RZxBS5zZJretTATbm3sRIOV8l5+YkkQgAAE/ELg448/toqscBkW/lm+M1u3bm1+//13v1SZenhMYOXKlVbnEMtPqvqDfGiG+3v2uApkB4G0EECRmRas8TO944477MBYq/0kCDgEhgwZYvvFdddd5xziHQK+JTB27NiY21Y0YDrqqKPMihUrfFt/KpZeArfffruVZwMGDEhvQeQOgTQRePzxxwss1kipqWA+f//9ty1RC5CyZNHOGkUrJ0EAAhDwE4Hrr7/e7o4IV146n7UQfeedd+Kf3083LE11UQwG+cGMZXygQE+ag5IgECQCKDKzcLe++uora6lSv359LFWywN/PRcoS85BDDrGWmbNnz/ZzVakbBMwJJ5xQwFIpfHB89913MzjO8z4iZY+z82DSpEl5ToPmB5GAsy0vXLb99NNPtik//vijqVSpkl3MmTNnThCbR50hAIEcJ9CoUaM9xmnyWb7ffvsZzUdJ+UVgwYIF5oADDoiq0GzYsGF+waC1gSeAIjPDt1C+w7SaX7RoUaOoYiQIRBLQQ0b+bOrWrWs2bdoU+TPfIeALAnKPEelEXCu9CoDx9ddf+6KOVCL7BMJ9Qa9duzb7FaIGEEiAgMZp5cuXt4oAWZk/8MAD9mr5Na9Xr55ddJSy023avXu3+fLLL92eznkQgAAEkibw119/WYtxZyFG7xq3nX/++Wbbtm0J5bt48eKEzudk/xKQLkI7QiPH8NpdsH79ev9WnJpBIIIAiswIIOn+etVVV9kB8Y033pjuosg/wARk/q8BxwUXXBDgVlD1XCYgCyQ5h3cGyFJi9u/fv0AU31xuP21zT+DJJ5+0/aRbt27uL+JMCPiAgCbvUmDK36+si7U9T5NARXiV7BszZozrWm7YsMFOHOWSgwQBCEAg3QQmTJgQ8o8pGSY/iG+//XZCxWrRWs/um2++OaHrONn/BN59911ToUIFu0tUzzON6V9//XX/V5waQuD/E0CRmcGu8NFHH1mn8a1atSKqZQa5B7EoDRyOPfZYO1FKxNojiG2lzsEkcMstt9jBjwK6yGKJrcPBvI+ZqvWpp55q5dnTTz+dqSIpBwIpE9i8ebPtt2XKlLHBMGRRqUm9Jn1XXHGF6/y1Db1mzZr2OvnVJEEAAhBINwEZQ0hWaTGmXbt2ZvXq1QkVqV1h7du3t3loQZKUewS0u+C4446zfUR9pU+fPrnXSFqUswRQZGbo1iqSpfyRyGrp+++/z1CpFBNkAgocoNXTqlWrmjVr1gS5KdQ9AARkafTFF1+Yhx56yFx66aXmvPPOs+8PP/ywkfWlfg9P6pca9GiQS/8MJ8PnaATUR6pVq2ZX/JcuXRo65dtvvzWaIF1++eV2u5sCA91zzz1Gyh4pjUgQ8JqAFgrfeecd298UaVyLMZJlUlbK6vKaa64x6pdO0m9SwMvna69evey5p59+ulE+btLkyZNt3goUpLLYuueGWu6dM2vWLPtMlTGDfBSqX+ld3/XM1e8kCBRGYNGiRea2224zp512mpE/Q80rDz74YNO9e3f73IyMPK4+ptd9991XWLZRf/vll1+sL0W5upIiVG6vSLlL4MEHH7R9Rf0lPCni+b333mt69Ohh9LyU+yj1va5duxoZNGiRjgSBbBEo2FuzVYuAlqtBrazlBg0aZI455hjToEEDc+CBB9qJvQbCH3zwQWjyf84551gB4fhXCmiTqXaGCTz77LO23+iB4SRZ9g4dOtR07NjR9jf1O0WHliJAWwJ27drlnMo7BOISUH+RXFI/cga90d4l26Tk1Plbt2615yoqNQkCbglMnDjR9hs9L//zn/+YQw89tNA+t++++5pRo0bhK9gtYM6LS0B9UL4tHRmnCbr8UWtiVrt27ZBSU78rmJkUB8OGDbNKy759+9rrOnfubBSYz02SAiE8SqyUpaT8IvD555+bli1bhvqclJf777+/7XNSCjhKTfU5nafzSRAIJyADmE6dOoX6kPpKxYoV7eKgDB4ceab4Cz179jTLly83y5YtswuH33zzTXhWrj5//PHH1pBCkayVt/KVSw1SbhP47rvv7A4r+TaXArN3797WrYrTv9TXtCCtvqeFOef4iSeeWGDxL7cp0To/EUCRmcTdkGWSrJQ06HX+xFplV/RKveSHxDku5cBll11mv2tQHGnVlETxXJJnBM444wzbfy6++GITHn1QAws9TNTn5KDZ6XPVq1c3//73v631SJ6horkJEtAK+yGHHGL7jiZTRxxxhB0Ea3Hm2muvNVdeeaVdhT388MNtACr1MU20wq2VEiyS0/OcgCZZjqzSs7J58+bmzDPPtAsx6nODBw82WviTZZyUPjpXk/7p06fnOTmanwoBWfc62yxlYSQfl1r8k9+38NeIESOMFJayclLfkxJy3LhxNjCCvh9//PGuJvQqr1+/fnsEU5C8zVSSxah2A/3222/WakbKkIULFxopNhSQTRGL582bZ+bOnWut7qVAU3CjTz75xFoHyipa/7tp06aZqVOnmg8//NDIuvT999838q2m15QpU4yUHrLmV54//PCDkSXXihUrzLp164y25ufz4urIkSNtQCgphFq0aGH70U033VSgz+m7Am/od52nl64jQUAEZCknmSX5ozmlrMKvu+66An1Iz049R6UY13ly9/Pqq68mBVA7JMIXX5SfduBkI2nBSEGJtmzZYhc0FbxIMk1W7QoeqJ0e2i4vpZusUSXrpMDVrg8p437++We7GCWrQUf+SQZqgUrn6VrlpzLcWthng0Omy3zzzTft/FL3XroOzUPVx8KfleqDGqvJyEHnaR6q3TQkCGSSAIrMBGlLWDq+C7WSL8uSSy65xGjw6/zBhw8fbgclrVu3Dq20StGplQ4SBBIloC3mzoq9HhSHHXaYDaqifub0OQ2EpTBX33QCsEgpFb6FM9FyOT+3CcyePdtuF9Kqqix6r7/++lB/cvpV+LsGLZr863z1sc8++yy3AdE6zwloUlGjRg076G3WrJkZMmRIoX1OMk4LgFJ4auFm/PjxnteJDHOfgJSKzoKglOJaqAmXbbE+y1eY8zzVRE1uNNxE+lVQH43/IiPCKo9zzz3XFXCVI6Wg5LQUh6+99pp56qmnbHAhbefTf0eLm5pIaseGnv2ycJZlqRYzo5Wt8rP1knJO4xgpWGTRoy2xUso0adLE1lvPIPE96aSTjLbtS5ksH6SSAZocS7miHSdSpkpp+tNPP1klxI4dO1zxzMZJukfiLSWQXGbE6mfhx3We47ZF15Pym4D+6+pDCsii/0R4X4n1+ayzzrL/f43VnnnmGdcApcgbOHBgVNmhua7bpIWLVatWWWXhl19+aRdDFGDohRdeMAp0dvfdd9v/teSwFntUX1n0SQY0bdrUKmNlpBFuFJQpuaUyNbeXgYh2hBxwwAHmoIMOsgv+WtAXB+2GO/nkk62v5LPPPtu6YdL/Vgv/CuQrQ5InnnjCKpK18KMFIslyMXHz/HDLOV3n6T5JXkuZLeV4rH4Wfvz8888PKT4ls0kQyBQBFJkJkNYKswaJEqhaOY1cEQv/UzufNRBxVvY1yNTKDwkCbgloFVIPTvW5+vXrW2slp2/FepdCSg9cXaPVWVlHkCAQTkAr0hqsaYFFk/VYfSnacWeriSb4GpyRcouA3Aa8/PLL1n2Aly2T9UStWrWsIlyKl2h9K9YxKWykmJEyU5ZhJAgkQkCuWPQ81IQ0fAEwVn8LP67JqbN1U+6C4iUnqE/4LgmVrZesqpwo5wqiIctI+eqUyw6NFTWh17PbUWQ517l5lzzXIoHGqPK5KKWg/meS11psl7sjWdSIhcauN9xwg510O4vwcuEgpYn8791xxx3mzjvvtAoHTcrlH01b5O+//35rHab6PvLII/al9tx11132Wk3i1Q4pIDWxl59lTfQVHEkTfykANJ5RG2WZqvshRYEUBlIcqA3JKC/EVcpRWQYpby1+iGX//v1tu9Uu1VnKYCmGNSZK9zZZKZ113xTgSa4JwvtUvM863wkMJWtgUn4SeO6552wfkjzQ/ypevwn/XdbmGqNJmelmN4MT1CfWAojkoJP035Gckzx8/PHH7SK4FlSOPvpo+4yXEsyNzAo/R/97KS+10CRlppSaWtTQApT8f8o/o2SJytGYVQtCki9ShOp/fuGFF1qZI1know4pZCWHpCzVLo+rr77aMpT80/9Lx3SerlV+KkMBCVWmZKfK15xdCy1acNFcSgtEUihLwZdMG5326tmge6p8ZZgiuah2aseA6iVrbMlaKaEVdV5W8jJocevOxLlPybxLPqpt2g0jhuF9Kt5nPV/ESO0kMFQy9LkmGQIoMl1S0wqTtsDpD6qtRfH+0JG/Syjq2g4dOrC93CXzIJ320ksv2UG914pqWSao32hiErkdKbKPRX4/5ZRT7LWa2Eg5QYKACMg6yfHXpUluZL9x890JeKFJo3wFk3KLgJQOkjsaXMuiwIt7rJV95am83fSxyHM0QZHiXductL2MBAE3BGQNo8m8JliJKjGdPqhALFKiS+lW2LM0PKiP+nrkS3lUqVIlZLkS+bu+S6GnCbSUf5rUSqkoJZz8ZWu7n7Zyq03a4SM/ePovePH/dMMyU+foGaWto1I4zp8/3ypiNKEXA03wpXSVYkITf8kVKQKkENBYRwqCaErkaKylOJGiQopPKUW0CCzWsvxORXmg+yIlkhSzkdsxnT4V713X6Xrlo/xI+UVA26RlvSzFohYh4vWXaL87ckvKQbl4iJX0P5Nsc7avR/5XJLdkSCErc8lRydPIc/RdCz7aaaEFFCkIJb80b5FFtRSemidNmjTJBvLT/3rx4sV2a3gQrBSjsZOckrGJZJV2a4qj3HXMmDHDxs+QH3C5BdBCiu6hmGiBRfJGY2ctvGgBJhb3SMbiXrlyZctYClcpcbV4pEUlyUdZqktWqF7JJD3bdJ91v7V4HK1PxTsmhbuUoHpJ+UqCQLoJoMh0SVgDYAkVba2M90eO9bsEvPLQQImUWwRkbeQ8dLRFQg+VVFfPnNVYWS0kqsR0+qBWFlWv8NXU3CJPaxIl8Nhjj9k+oUGp00+SeddATH0Li5FE74D/z9fuA0eeaSKtCZWsFzT5SCbJx57yk6Ihmb7mXOMEO5BFBQkCbgg4C3put/Y6fS3y/bjjjrN9WFsjo6XIoD7O/yfau6x6pICTskr+1jW5l9/hwpQN0crkWGwCUo5oK6csx6T41fZ8WTgpQJ0sjaQo1jNQW9y1QBLtPumYlAdSPsuC1FEeSDGhbe7a2RDN/6cUOLpWSovIfpTId12vfJQfKb8IaMyue+92a2+sfiUlv/KJFbVcfnClgHRjYagFAu1GlIHFVVddZa3LNdfRuEDuNEjJE5CLDPnrlMsMKSTlQkMyRlvUJW+0kCuLUS3YaGdLYZbrupdSkOpeaeFY1qqaQ2qsrgWaWAY3ehapr2jeGKs/uTku61nlozqTIJBuAigyXRCWw3KtmGglRKsfbv7I0c7R5EuTQuXjZ78+LpBwShQCetg4viyd1Xj5tJk1a1bCVriysNAAW1sYkl2NVR/UtjFt29KDTU6wSRBo3LixtViRPIomp9we0yRcgykNlki5R0D9I9zhv1bpZSGkLVaSdXKU7zY5luWyEHHbv6KdJ3kmpaqs1tK9NdRt2zjPvwTkI1qKKEUpj9afEjmm/4Mm8tr2GJ5k/aLnfKwtmZrQRb70v5LVJZP/cJLZ+6wgnAoaImsqBTDStvBI5YG2eksGRt5LPQO12CzFqOYHTz/9tLVGkrVnsgvQTr/U9cpHMi+oVmvZu6vBLVlWflIuaq6Yah+SlbHmJbK0iww2KyVZ+DM+sm9HfpeMk5JL9SNll4D8mWqhRsHa5J5EFq+SG1qw69Kli32+yNVILAW15oXaISoXBLLolPsBbXXXM86N2zxHRsV6l2W8+gu7Z7LbT/KhdBSZLu6yHBNLoGs1JNaf1u1xCQ7lpS0ypNwioIm1Vu7DH/6aRMnEXkJdEyFZB7hJWuVUPorc67ZvxTpPvl+Ul3xikfKbgKx+1Be0tTxWf0nkuBPxXKvIpNwiIOswWY6FyzPnsxb2NDmSElsD6Fgr/CKi7UpSAEgBmkjfinWuYxmnwTsJAoURcPwUSskUqz8lclzbkPUfkOWMkrYUKqheIsoA5z8kK0AtVmo7IikYBKQ80BZSLU5LCSSrNFlp6j4699V5b9eunSd9TvkoT0WGJ+UHAfme1D3XfDER+RTrXC2aKD9n/qF+rB0WiSy+OP1az35tidb/gOR/AjKKkZuCOXPm2OBD6iOymNSCXDQXHHKhF6sfJXJc2+fVZxTkiQSBdBJAkemCbtu2ba3lkRRBifyRo50r6zr9uaVcIuUeAW0Hl9WS89APf9fERRMeDQK0zUMWALGSfKnoWq2WRetHiRyTFZPKldKJlN8EZC2ifuXVxF6LO8pPUQ5JuUdA22hjyTNHtul3TW5iudSQ83id69XEXn6hlJ8sVUgQKIyAtrapryjoQyLPzFjnqo8rPynRFehMn7VYqfdUXp999llhzeC3ABDQws/cuXON4z9aQUli9aNEjjv5xdoaHAA0VDFBAgq4JXniNkp5vP4UPk7buHGjDQoWy1LPjRxzZJ4ikpOCS0BKzkWLFll/no6ckTVnvP7k5nfGacHtF0GrOYrMOHdMK1eaqMknhZs/r5tzZOUix8qk3COgrRvaZhRvMCDFoib/ivInJVBkAAEpHXWOm/7k5hxtrZNVFNuTcq/PJdIibQdX39QE302/iXeOtrEoP03w5V+HV24xkKN6bW2MJ8+c36O51FD0Sv2uxbt4/cnN79r2pPzkP44EgcIIKOiE+kqq2zOdfqmoucpPSiX5HdNOC1nkde7c2foikz9OTQRV7mmnnWZ9ycmtghaOFDhL/u70P5BFTM+ePW0UXlnHS9Eq605S8Ak4xgqJRvx1+ljku/JRn1MQDVJ+EJBs0T1XQKvI/pDMdwXFcuSgon3rs+ag2kosv9UyrtC85eCDDzaNGjWyL7kgkgW6LPf0UowHzUtksaedGMpDMk7+tEnBJzB69Gh7TxX0LJk+FnmNM9dQfiQIpJMAisw4dGU1J4Htlbm1/ux6eChPDYp55R4DbQeJ5ktJ9zzaS1vPpbSUKb62lGuVTAoBbVeKfDgk+11O7VW2Vt9I+UtAE2b1AzmST7YvhV/nTLKi9WuORf+/5xMXKbrvvfde2+d69+7tSZ+TUkoMpSwiQaAwAlIqqq94pch0rFYUMI0UfALa1q9AnlLuyJeg3P/opUm4FIdSJCnQzqBBg+wzU89NPUP13NPWXC0IKrqv5Nyxxx5rRo4cac9Tn/NiN42etcpH+UlBSsoPAo41m/pg+Hgr2c+OYnTUqFH5ATDHWynXJnKborGVXFzIvY+eSXppF82jjz5q/V7KsEDBhbUg/cADD5j777/fBmjSQpyu1UuybsyYMVZ2Sc6o7yXbz8KvkxxVfn369Mnxu0Hzsk0ARWacOyA/IPozysdI+J80lc9a/VKevGDg9AEnSJAUjooqJ981+++/v2d97qijjrL9TdvhSPlLwLFm08QrFRnmXOsMkLWNTlFheeUWg4kTJ9pFFUdOFfauoBeSW3Xr1jXyK+1YajjuDFKNvur0uaFDh1pZpkVAEgQKI+C4aJEvQ6f/pPKuCLD6DyjyNRaUhZEPzm+6l4XJtUR+W7x4sZV9ukbK0VT6mnOtY0EnmUrKDwJSYKoPSUnu9INU3mX9rfykaI8M+JMfRHOvlY77AcdlmYxhNI90XtrxF/6SP0znpWv0clwETJkyxSpE1Ue00yWVvuZcq4Ue5afFHxIE0kkARWYcutryqz+7lI/OHzTVd0U/lBXepk2beOUgA61A6SEhIV7YSw8ZPXS0tUzbL8Oju9WuXdtGLEy1rznXa1uI6uIEKYjT7fk5Rwm8+OKLth/Ims3pG6m8ayul+tXrr7+eo8Tyu1my4CgsIICejbIeVxRxKYsUTCoyyW+c+ojcaKTS15xrnYm9FBAkCBRGQJYp6nteuTXQzhzl57yqVatmLfFkmSerF00IHQV+YfXiN38RUKTywuScc7+jves6+dF3xm/qAzrPq0AtToDQqVOn+gsatUkbgZdeesn2Ia/GaU7AKPVL9VcZ5miHhJ6hb775pg0CtHv37rS1h4zTQ+C1115LWm5JqSldhBMAyutxmtypqL8R2Dg9955c/0cAReb/WMT8JN8hUjw6E6lU3rWNRduOFXmVlCKmik8AACAASURBVHsEZPGolbFoA14d072Xz1VF8L311lvNsmXLokJwnHPLgi6V/uZcq2jqemiR8puALEbUD+X7yOkbqbzLp5Lyi9WP85t2sFv/xx9/xBwkS3kpOSeryGnTphn5ko6Vdu7caRdsatSo4Umfa9Omje1zTOxjEee4Q+D777+3fUV+31KRc7pWwR618Cjl5S233GL7vhSbOhb5vNcipXzQaSeELJG1HfnOO++0k7oPP/zQLFy40GzYsMGpJu8+IDB//ny7IJOIWyAphaTEljsgJ8lAQbKxevXqKfc59Tv1N+WnfEn5QUDjKckUuSFLVW7pevnyleJKvjKldK9cufIeMku/qzz9LgtOuVT497//bX346xkvhZcCWpH8RUA7+MqXLx+yrox8FkX7Lrml3X/hzyCN0zSuU9/wwhWLEyvi559/9hcwapNzBFBkurilzvZJbVNK9aHimPhLoUnKPQJSUEeLBqgHhII8yd/RV199FbfhjuNlBQpItc85Jv4KMECCwJFHHmn7aKqO5DXQlUWefIORco/A+eefbyc/zkBYg18paNq3b29effVVs337dteNlsN35aOJVCry7MYbb7TKVVmshysPXFeEE/OOgKyR9EyWMjGVvqeAPurDejaHJynxtUCkSOba/qv/TceOHW3ADE0wnf9PtHcpQeWKQcp5WY1qG95dd91lnnvuOSNFvRSey5cvR4EQDtyjz9piu2rVKqOI8a+88orlLmvvwhaiw++hzovlK9WZM2h3Tip9TterTOVHyi8CnTp1svc+1aBRTh+Swj08aaFyxowZ1p+iZOPxxx9vFZkytAjv55GfZdSjHYoaB8ilkLbBy+fiyy+/bGbOnGmkuNqyZUt4UXxOAwHdP1lRajeU/FHqvjlbxSPvWfh3jePkBzOaBa76gc6VL+hU5JaeY6qLrMlJEEg3ARSZLgh/8cUX9s/thRWTVun1B1+6dKmLkjklSASmT59ewILJCeIjiwxZYRRmtRTZTgWZ0vb0fffdN+XVsVatWtn+qy1PJAho0qbBiiJRpjJYkZWT8tHWJFJuEZBlue6tZJAm7IpgKqfx69atS6qh8+bNs/nVqlXLjBgxIul+d8wxx9h8pOwhQcANgcmTJ9s+o10QyVqayG2ClPiybAq3YnFTvtwTaXL/8ccfW4WZJv2a/EsJoIVPWa5ooVP/t8JeshSUCwcpPhU1WIoERQ3WIoEmjvpfKXiDgkCMHz/ebnPXRFcB/jSekMVNLie1b+3atUYBfBYsWGBmz55t3nvvPbvoIibyKSeFoIIqKlJzNEta8ZfSW/c61r3Q+L1cuXJWCRSLp6zXZOFWsWJFG0Qomeesgg9p8Vv54Ns8FuncPS4rSPVBBf1MVm7JilwWdnqOO1uI3RDbuHGj7XMfffSRef755+0CjWSgjCH0DK5Xr15chb/K1E6w+vXr263sUmppu7EWehyfxZKF8qH9xhtv2IWbL7/80spK/Y937drlpqo5dY4sXhWXQ/dKslt9wFlkkSJai2kad8dSNks26RVLdmksp4A//4+9O4G3qer/OP4kY4ZkLBqE0ixp0KBoMEQpCVF6SCn+VIhCafREIz0padKkmTQnTaKiSBlSKhmSMhSRNKz/67ueZ5/n3HPPuXfvffY+95x9Puv18rrXOXuvvfb73LP22r+9hlRJD+RU36jeUf3jp97S36riHCqD5swnIRC2AIFMl8LOHCPpPGFV7zp9uekZ5xI9hzbT033n4qFGsC72mudGNzF+04UXXmjz1MXLzwVF+6gHlC5suvEhIeAItGrVyv5t+Z2DyZkbUz9J0RPQsCPVZ+oBqcZtEMnpGa7eZ37qM117VZfpgeK2bduCKBJ55ImAroP6e9ZDPa9BAa3qqmHC2j/Mhza6iVXQUb2k1Ha49dZbjRa20sJsGsnTunVro970upHVA071rHHaHG5/Kninc1FQV8E8PcySieavVVBVvcAUHFUbVb0TFfhTjzD13teNrRYL0RB5BSDuvvtuGzRV71H10J4yZYr1URBVc7fpNfXS0rzMCoZMmjTJDq1X4EKBRWe1Xa2yq7yc1XV1o638df7q/arPS73/NSJK5VJ7SHXIIYccYoO6CtTo5tutgQIsCsQosKKeSZoHWPO4yV0dDNRTyWl7Jeap48jOTZ2ohy3aX4Ec1aNe6jxtr/20Pw9t8qSSSnKaTs9eXY+9/P1oWz3YcB42K4gfRtJDnUWLFtmHJvp+q25Qrz59T9XGVLn1oEbTyrjt6Rz/ndM+qus0hZHy0ugf5at2qxal0TyfqtsvueQSGxxVz0TVF5r7U/WH6hTVMyqbAoKqo/RwQwFaPehQsFAPPT799FOjqSUUSNVr6rykntqzZs2y2+khlOoHBRa1rzqF6AGZAnXK76WXXjLTpk0zU6dOtcdQYFbH1Krho0aNsnWn6tEePXrYYK567B955JH289HDXT0YSTaSL95Cv+thlhaBVTxCeekzfuCBB2wQWHWSpjzRoouJ+6ndpI416lBTXNKoAu2vXrcaOer1707XEu2v8pEQyIQAgUyXympgqlJVZeCnq78uSApw6Yk6C664RM+hzdRQV+WtRri6/AeRNm7caOe1VMNbvS68XlAuvfRSO3eKLmy6UJMQcAQ0XFENRDVw2rdv7+lvy1m5Vw0wFrZwRKPzUw9fPvzww8BPSMPNnEXH9KDHS0BJQ51UD+r662ZqjsALT4Y5LaAgoTO3qgLhuuF1cz1VLxj1wtS1PRunA1KvJfVe0k2sej3rJlvBVgUL77jjDht4VO8nBew6duxog3eHH364/R7qRlU3xQoyqOegAqNe5oeUSUn80w2/huxregn1FFeAQ8NidX5qJ2n6HvVEU1BFgQQFWhXAUOBC1z03I2OOOOKIQucmHwUQ1FvNTdJxVG/JSM5OL7Ti/u60nbbXfuq166a8bsrDNrknoHpLAS/9LWhRUP1dF/f3o/f18EXfb+2n+fazZRoW9ZrW/ZHupxUw1PQZevChYJx6k6tNoPsWfY/V8Ue9znXeevCg3p26/qsdoPPK5X9O736dl+ZZ1rykaldrznE9RNGDIz00kokCovEPWYr6K9bov0QXPXyJX9SnqP31nuob1aXKR3OmavSAm785/W3q2qL9tJiUs/hZccfjfQTSFSCQ6UFQT8mdJxtqGLr5cmsbNUb0JFwVymuvvebhiGyaKwJeh5u5Pa+ZM2faGwxdvL2svKqLoYYH6KIyYcIEt4djuzwSWLp0qQ1m6m9ET7w1PLGoOk1P2p0JvBXEdNMrJY84OVUXAgq6OMFMDZnr06dPkX9zgwYNsj3G9Deqmxj1kCAh4EdAQQGnJ7p6wKiHY6qApoJhCiAosKc2nxbmy5ekoIceZqhNozkkly9fbnSt+Oyzz2zwQQFBBUzVE0kBQvV00s22elkqIKEgqno4KoD42GOP2R6Z6pmpHprqqanAhYKt6r30wgsv2LlFtWq4ejepfaxeQwpwqPeTbuDVS0rHV1kyNfeeAruqc5x/CmImLurj5u9BlupJqnwUvFCPslRzU+t1va/ttL32y5YAlJtzZZtwBBQQcnq5qfexhmen6imnXtMaJaNrpf6GFJCK4pQSCrZpjm7ZaNqMFStW2CHpmlNYD3S0AI6m+lJ9op6SmkdSdZHqp/Hjx9uHPOrprN7Y6v2sf86UN3pNPRvVi1W9KbWdeilq4SMFFvWASB1Wxo0bZx+UKD/1Ktd91sSJE+0xHnroIVvXqU5Tm0V1p3p7r1+/PtQh807wOr7eUi9+r/en6pXurOehYezqBZ9qqLn+FvV3pr9NHVfXTa/HC+ebQ675IkAg0+MnrcpQQSU1bvXUtqibf3V31/AXfbnVEFLDj4SAVwFNoK0bL/0dqQeChpqlCjjpab5WSlWvBd2E6QJLQiCVgObjUY9M/W2pTtMTWM0h5gwr1E/1dnGGuWk7PSmnV3kqUV4vTkCr78YP3VRAU8Na9cBPIxfUG0NDXFXXOT3E1BhXMIOEQDoCmgJGvfSc66n+vtQzXb1iNMRaf3PxQSw94CF4no547u2r+il+eKZGYqVa1Mft2Wmoqf7OnOusevnqgY7+5vRT/9f1V+9ruzCnMHBbZrbLHgEFtBVYc3oj6m9SQSv15NMwZfU2V+8+JwiuOXc1pJqUXwLO5696RDEHDbtPtqiPWxU9lHKuleqIpb8x/a3pb0690/U3qOPoeKoz1Ys0neO5LRfbIRAvQCAzXsPl75pTQ3MOOo0S9U5SUFMBAN30q3Gi4Tp6X/80jI7eSy5x2SypgJ44Or1J9DdVq1YtO+RCf2/6u9PwKg21chrDugGbM2dO0rx4EYFEAc3xE//35dRd8T8VXOJhTKIc//croACRepk7wcr4vzXnd9VrenhIzyS/yuyXTEC9M9WTRtfPxJXFNQeieqOoN40Cn6T8ElC7STfvakspIKReoUEkTQOgUV16cKj2m1PH6af+r9fVczUfFzkJwjcf8tADZPUY1NyXTlvf+TvSdVT3peoxyLDefPhrKHiOq1atis1DqkB3UYv6FNyz6P9pKo2xY8fauEb8Ax793elvUKO01LFGnSJICJSEAIFMn+rq2v7iiy8W6MbvXFD0U41jzVehITgkBIIS0FBzzbukuVbj/970u56MKRilp//c+Aclnl/5aP4iBSs1jEbDa/RTN/QaEkxCIAwBNZQ1jFQ3YPqb01AuDVlVw5yEQNgCClZqeKLmTyQAELZ29uevXkhqT7ld1MfvGa1bt87+zeknCQGvAuo5rGkXNNWD5o3WUGtS/goo1qB6S9MKuFnUx4+U/sb0t6a/Oc1x6na+YD/HYh8E3AoQyHQrVcR2CmouWbLEaAiwVjej92URWLwVmMA333xj/97UY0ArB+rvkIQAAggggAACCCDgXUDz9qpHEzfp3u3YAwEESkZAD4AVyGQKnpLx56glJ0Ags+TsOTICCCCAAAIIIIAAAghkgcDrr7/OiJYs+BwoAgIIuBfQSDwW2XHvxZbRESCQGZ3PkjNBAAEEEEAAAQQQQAABBBBAAAEEEEAgsgIEMiP70XJiCCCAAAIIIIAAAggggAACCCCAAAIIREeAQGZ0PkvOBAEEEEAAAQQQQAABBBBAAAEEEEAAgcgKEMiM7EfLiSGAAAIIIIAAAggggAACCCCAAAIIIBAdAQKZ0fksORMEEEAAAQQQQAABBBBAAAEEEEAAAQQiK0AgM7IfLSeGAAIIIIAAAggggAACCCCAAAIIIIBAdAQIZEbns+RMEEAAAQQQQAABBBBAAAEEEEAAAQQQiKwAgczIfrScGAIIIIAAAggggAACCCCAAAIIIIAAAtERIJAZnc+SM0EAAQQQQAABBBBAAAEEEEAAAQQQQCCyAgQyI/vRcmIIIIAAAggggAACCCCAAAIIIIAAAghER4BAZnQ+S84EAQQQQAABBBBAAAEEEEAAAQQQQACByAoQyIzsR8uJIYAAAggggAACCCCAAAIIIIAAAgggEB0BApnR+Sw5EwQQQAABBBBAAAEEEEAAAQQQQAABBCIrQCAzsh8tJ4YAAggggAACCCCAAAIIIIAAAggggEB0BAhkRuez5EwQQAABBBBAAAEEEEAAAQQQQAABBBCIrACBzMh+tJwYAggggAACCCCAAAIIIIAAAggggAAC0REgkBmdz5IzQQABBBBAAAEEEEAAAQQQQAABBBBAILICBDIj+9FyYggggAACCCCAAAIIIIAAAggggAACCERHgEBmdD5LzgQBBBBAAAEEEEAAAQQQQAABBBBAAIHIChDIjOxHy4khgAACuScwYsQIc84555hVq1YVW/gVK1aY2267zVx88cVmwIABZvLkyWblypXF7hfmBn7LNGvWLPOvf/3L9OrVywwbNsy88sor5ueffy62qH6P52S8bt06c8cdd5iOHTuaww8/3Oy9997m+OOPt+V47rnnzN9//+1syk8EECgBgfnz59s6cezYsZ6O7nc/TwdxsfHcuXPNnXfeafr162cuvfRSM2bMGPP6668Xu2e6dZtzAC/XFGcffiKAQGoBL98pv9//1EcP9h0v9aTfc/Fal91///2mf//+Sf9dccUV5oYbbjB33323+eKLL4LFIDcEckyAQGaOfWBui6sb4KeeespcddVV5vzzzzcjR44077zzjtvdQ9lON8RTpkyxN+kqkxqzunn//fffiz1e2Df5Kleqi0Zxr3/99dfFlp8NEECgeIFJkyaZf/zjH/bf4sWLi9zh1ltvNeXLl49t7+xXunRp88gjjxS5b1hv+imT6uozzzyz0HnofCpUqGBeeumllMX1czwnsz/++MMMHTrUlCtXLumxHc9DDjnEfPzxx85u/EQAgQwKbN682eg7qO9j586dXR/Z736uD+Biwx9++MF06tQpZf3SvHlzs2TJkqQ5pVO3xWfo5ZoSvx+/I4BAcgG336l0vv/Jjxz8q27ryXTOxU9dpgfLThusqJ+lSpWy14UFCxYEj0OOCOSAAIHMHPiQvBZx+vTpZvfdd09aCR5zzDGuejp5PWZx2+tpVJMmTZKWqVmzZmbDhg1Js8jUTf6gQYOSlq2oC4jz3syZM5OWnRcRQMC9gHr/lSlTJvY9LCqQ+eCDD8a2q1q1qm3IqeFXpUoV+/oOO+xg9EQ7k8lPmfRwp3379rFzadCggenbt6/p0aOHqVixon1dgdknnnii0Kn4OZ6TiRrvCiI4dZh+qjfmBRdcYPS0v0uXLqZy5cqx96tVq2YWLlzo7M5PBBDIgMCmTZvMCSecEPseug1k+t0vyFP666+/TMuWLWNlV5tUD7AvvPBCs++++8Zer1evnvnll18KHDqdui0+Iy/XlPj9+B0BBJILuP1OpfP9T37k4F91W0+mcy5+67L4QOYee+xh9txzT/tPv1evXt2oXRjffttxxx3Nhx9+GDwSOSKQ5QIEMrP8A/JaPAXVdBPvVHCHHXaY6dOnT4EGpSpEPV3KVNJN84EHHhgrk26Ye/fubRo3bhx77eCDDy7UmM3kTb6GVjoXivifujg4lrvttlvSbebMmZMpSo6DQOQE9LBCN7fx9Za+c6kCmVu2bDE1atSw30s16r788suYiXr3OA9xatWq5aq3d2znNH7xWyb1BHfql9NOO81s27YtVopvvvkmdp777bdf7HX94vd4TiYavu4ct2HDhua9995z3or9XL9+vTn77LNj29WvX9/8+eefsff5BQEEwhN47bXXzF577RX7/un76iaQ6Xe/oM9ED5KcOkY9zn/99dfYIbZv324f2DjvX3755bH30q3blJHXa0rs4PyCAAJJBbx+p/x+/5MePIQXvdSTfs8lnbosPpC5devWQgKqQ2fPnl3g3n6fffaxbcNCG/MCAhEWIJAZoQ9XFdsBBxwQazxq7rj4pKHmTmDuvPPOi38r1N81hNxpsF555ZUFjjV48ODYe5pDKT6V1E1+fBk0NN8pu+ZRISGAQHACL774oqlbt27sO+Z81/QzVSBzwoQJse3vuuuuQoXRPJlOPo8//nih98N4wW+ZunbtasuqejnZw6Wbbropdi7Lly+PFd3v8ZTBG2+8EctTvaFWr14dyzfxF11T1Ivf8ZQtCQEEwhPQ6BT1XHS+c/E/iwpk+t0vrDNxhpSrZ7fm4U1Mqlv00Fjn17Rp09jb6dRtysTPNSV2cH5BAIFCAn6+U36//4UOHvALfupJv+eSTl1WXCAznkUjaJzrhEb0kBDIJwECmRH6tGfMmBGrzNSTJlnSohiq8NT7ae3atck2Cfy1OnXq2GPWrl07aY+eRo0a2fc13Ch+YYmSuMlPPHkCmYki/B+B4AS0sIzTAGvVqpVd7Mb5f6pAZrdu3ew+Gob+008/FSqMnoI7w7Jbt25d6P0wXvBbpokTJ9qghYZ0J0uazN3xiO816fd4OkZ8o9dNYFJTlagMCrbq+kFCAIHwBOLnn6tUqZKd79fpmVlUINPvfmGdiROkPO6441Ieol27drZuUX3tpHTqNuXh55riHJufCCBQWMDPd8rv97/w0YN9xU896fdc0qnLvAQy1ebVCCSnrZjswVGwiuSGQPYIEMjMns8i7ZL8+9//jlVkqeZt1M2wU9m5uYlNt1Aa9ukcL374UHy+1113XWybDz74IPZWSdzkxw7+318IZCaK8H8EghNQA1lDlh944AH7EOOhhx6K1QWpApmaR1J1ypFHHpmyIAqKaptdd9015TZBvhFGmTQv0ymnnGLPQ72a1IPJSX6Pp+GdWkBINjvvvLPRMdwkXTc0RQgJAQTCFdCNth4aaNSMs5Cg20Cmn/3COhs9lP7xxx+LnJPdqce0mJGTnNf81u9+rinOsfmJAAKFBfx8p/x+/wsfPdhX/NSvfs8lnbrMSyBTQgMHDrTtOrXt3n333WDRyA2BLBYgkJnFH47Xol166aWxiizZMEXlt2zZstg2qvjCTo8++mjseK+88krSw2meD1W++nfvvfcm3SbxxTBu8hOPof8TyEymwmsIBCMwa9Yso9WzneQmkOkE4tSbJ1VynoSrTvntt99SbRbY60GWaePGjUbTgDi9lXQOmkM0Pvk9nla2dOrao48+Oj5LfkcAgSwQ0FQPaqfFJzeBTL/7xR8nk7/HTwGiOdOd5Lduc/b3c01x9uUnAggUFgjjO5Xq+1/46MG+EkY9mepc0qnLvAYy46cMuueee4JFIzcEsliAQGYWfzheixY/n9qiRYuS7q4ej86NbM+ePZNuE+SLo0ePjh1v7ty5SbOO77U5dOjQpNs4L4Z5k+8cI/4ngcx4DX5HIFyB4gKZ6pXo1F+aRy5V6tevX2y7ZMPPU+3n5/Ugy6Re9epV5ZyjfmoV8fiek+kc79VXX43lnWo4ux8D9kEAgfAE3AQykx3d737J8gryNbX5atasaesi3ewvXbrUZp9O3ZaqfMVdU1Ltx+sIIJBcIN3vVKrvf/Kjhf9qOvVkqnNJty7zGsj8/PPPY227/v37h4/GERDIEgECmVnyQQRRjOeffz5Wkd1www1Js9RiO85N8hlnnJF0myBfHDZsWOx43377bdKsFWhwyqQARKoU9k1+suMSyEymwmsIhCNQXAP5l19+idUVqaaqUMlGjBgR2+67774Lp7D/zTXIMsUHYJ06UYshxS9alM7xHnnkkZhLqmtEqFhkjgACngX83mj73c9zAT3ssGrVqgLzWMYvSplO3ZaqCMVdU1Ltx+sIIJBcIJ3vVFHf/+RHC/9Vv/VkUeeSbl3mNZCpsjhtxlNPPTV8NI6AQJYIEMjMkg8iiGJoPqIqVarYyqx8+fJ2ddr4fN98801Trly5WGWXiYUw4uft+Pnnn+OLE/v9zz//jJWpqF6iYd/kxwoU9wuBzDgMfkUgZIHiGshbt26N1RVFPXVWz26nUff9998XWWrVP8o32T83w9KDLNPChQvNvHnzzCeffGJGjRpldtppJ3seWpzt6aeftueRzvGmTZsWc+nTp0+RLryJAALZIeD3Rtvvfjpr9ShKVifqNdWZfpLqN2fhDNXP3bt3L9DbPJ26LVV5irumpNqP1xFAILmA3+9Ucd//5Ef7z6vpttOKyttPPVncuaRbl3kNZGrEo9Pm1fzKJATyRYBAZsQ+6bvuuitWmenmt23btkY9lzTfmv5fqlSp2PudOnUq9uzTvXgMGTIkdrz169cnPZ6CBU4FfNFFFyXdRi+GfZOf7MAEMpOp8BoC4Qi4aSBXrVrV1he6CU6VNKekU6dogZuikuajdLZN/LnPPvsUtWvsvaDL5GSsSdtVb6tcDRs2dF42fo83Z86c2LkWtZpw7ED8ggACJS7g50Zbhfa7n/Zt0qRJrK5IrBfje4i7xXn77bdj9Zby09QgyQKifuu2VOVwc01JtS+vI4BAYQE/3ym33//CR/vPK0G001Ll7bWedHsu6dRlXgOZTz75ZKy+HjlyZKpT5XUEIidAIDNiH6nmUtNw7viApdMILVOmjF1EwpmbKH6C9VQM6V487rzzzljl+tVXXyU9jCZfdso4ePDgpNskezHom/xkxyCQmUyF1xAIR8BNA/mAAw6w9YUe0qRKZ511lt2mdOnSqTaJvZ5uHaeMgi5TrHDGFFj0x5nv0+/xNmzYEJuDs1q1avGHKfJ3NYyvu+46o9XL4+frLHIn3kQAgUAEvN5oOwf1u5/233///WPtMqd95vz0Gsh87LHHTNmyZWP5DR8+3ClioZ9+67ZCGf33BTfXlFT78joCCBQW8Pqd8vL9L3y0/7wSRDstVd5e6kkv55JOXeY1kBm/RsbDDz+c6lR5HYHICRDIjNxH+p8T0krgCgqedNJJpn379uaOO+4wX3zxhdmyZUusManeksWldC8eGg7pNH4/+uijpIeLn6TY67xt8Sv7pnuTn6xwBDKTqfAaAuEIuGkgn3LKKbZOOeigg1IW4sgjj7TbqCFZXNJCE5pTM9m/u+++u7jd7ft+y6Qh5M8884zRImyp0qWXXhqrQ9UrXcnv8bTv8ccfH8vPWWQj1bH1uqYsUUBY9biCn7///ntRm/MeAggELODlRjv+0H73Ux5jx45NWieqnlywYEH8YYr8/ZZbbonVN6pH7rvvviK3T6duS5axm2tKsv14DQEEkgt4+U55/f4nP6KxC4Ila6PpNbfttFR5u60nvZ5LOnWZl0DmH3/8UeDB0/z581OdKq8jEDkBApmR+0iLPqFZs2bFGpXOnGtF7ZHuTX788Z599tmkh3rllVeSlqkkbvITC0ggM1GE/yMQnoCbBvKAAQNi9YUeziQmLe7jDMfu1atX4tuh/N9PmTSssmLFivZcmjdvnrJcehClIKKCAM6cnX6O5xxg3LhxMT/1XC0uxc83WtQCS8Xlw/sIIOBPwO2NdmLufvdLzMfv/xVgcB5ka/72N954o9is0qnbkmXu5pqSbD9eQwCB5AJuv1N+vv/Jjxjuq27qST/nkk5dGAVrmQAAIABJREFU5iWQGT/yUQ+qSQjkkwCBzAh92lq17OKLLzZajVw9MpMlDSd3GpYa0h12Wrt2baw3T9euXZMeTsEGp0wrVqyw25TUTX5iAQlkJorwfwTCE3DTQFbw0glUXnHFFYUKo2HQTn0yZcqUQu+H8YLfMml4vMqqqUA0f2Vi0ms77rij3UZz1jnJ7/G0/7Zt20yDBg1iRldeeaX5+++/nawL/HziiSdi1ipjssBxgR34DwIIBC7g5kY72UH97pcsL6+vaSohZ3HJnXfe2Xz88ceuskinbkt2ADfXlGT78RoCCCQXcPOd8vv9T37EcF8trp70ey7p1GVuAplqt+mzcBb5VVtSHYNICOSTAIHMCH3aWhXcGQJ4wQUXFDqzL7/80lSqVMnewLZs2bLQ+2G90K1bN3tMrcCrYYrxaePGjUaNXFXAjRs3jn/LLlSU6Zv8AgUwxhDITBTh/wiEJ+Cmgayjn3766bbOUEBzzJgxdnVdBejU29CZH1hzvKUK0IVxBn7KFL+KeL169ewclCqb5qFUELZ27dqx80zszeTneM55v/rqq7EAqerYI444wkyaNMksXrzYfP3117Yx3KFDB3tsva9/GmpKQgCBzAsUd6OdqkR+90uVn5fXW7duHas/1ONcwzJT/UusW9Kp2xLL6Paakrgf/0cAgeQCbr5T6Xz/kx81vFeLqyfTORe/dVl8IHPUqFGxulPtXY2M0WiaRo0axepYtdG0yCUJgXwTIJAZsU9cc2KqQtMN/ujRo82aNWvM9u3bzYwZM0ydOnVilZ6GfGcqaYi4czOsOeuWLFliD62nXIceemjsvcmTJxcoUknd5McXgkBmvAa/IxCugJsGskrw6aefGmfRMtUt6vlTvnz5WF1SuXJlM2/evHALm5C73zINHDgwVm6di+ah1EMfp87Uz6uvvjrhaOkbqH6tUKFCgePEH9P5XdcSDS8nIYBAyQgUd6OdqlR+90uVn9vXNZevU3+4/Rn/0MlvXZqsfG6vKcn25TUEECgsUNx3Kt3vf+EjhvtKUfVkuufity6LD2S6qUP79u2b0Qf34X4i5I6AewECme6tcmJL9bqM72au3kmJN6vqtZTppCdF8ZWx0wvTee28885LWqSSusl3CkMg05HgJwLhC8Q3kItbiEZzYWo+IKcHplOXHHPMMWbu3LnhFzbJEfyWSQ9x6tatW6CO1PmoV6keQqVKfo/n5KfrRf/+/QtcMxxHuWqyerdDQp08+YkAAsEKODfa55xzjqeM/e7n6SBJNp46dWqhusypV1L9jA9kKst06zanWF6uKc4+/EQAgdQCxX2ngvj+pz568O8UVU8GcS5+6jJNxZaqrtRD+/r16xv1dNc98qJFi4JHIUcEckSAQGaOfFBeiqkVy1TBJVaCBx98sFGlXFJJw4d22WWXAuXSUHfNaadeo6lSSd3kqzzXXHNNrLysBJfqE+J1BEpO4NdffzUzZ860AT9njt2SK81/juynTLqRX758uXnttdfMu+++a9avX+/6NPwcLz5zrXqpxvb7779vXn75Zdsw1lB9EgIIIFCSAunWbSVZdo6NAAIIOALUZY4EPxEIToBAZnCWWZfT999/b95++23z5ptv2hvkxCfeJVVgzcGmm2UFBrds2eKqGCV5k++qgGyEAAIIIIAAAggggAACCCCAAAIIIBCqAIHMUHnJHAEEEEAAAQQQQAABBBBAAAEEEEAAAQSCECCQGYQieSCAAAIIIIAAAggggAACCCCAAAIIIIBAqAIEMkPlJXMEEEAAAQQQQAABBBBAAAEEEEAAAQQQCEKAQGYQiuSBAAIIIIAAAggggAACCCCAAAIIIIAAAqEKEMgMlZfMEUAAAQQQQAABBBBAAAEEEEAAAQQQQCAIAQKZQSiSBwIIIIAAAggggAACCCCAAAIIIIAAAgiEKkAgM1ReMkcAAQQQQAABBBBAAAEEEEAAAQQQQACBIAQIZAahSB4IIIAAAggggAACCCCAAAIIIIAAAgggEKoAgcxQeckcAQQQQAABBBBAAAEEEEAAAQQQQAABBIIQIJAZhCJ5IIAAAggggAACCCCAAAIIIIAAAggggECoAgQyQ+UlcwQQQAABBBBAAAEEEEAAAQQQQAABBBAIQoBAZhCK5IEAAggggAACCCCAAAIIIIAAAggggAACoQoQyAyVl8wRQAABBBBAAAEEEEAAAQQQQAABBBBAIAgBAplBKJIHAggggAACCCCAAAIIIIAAAggggAACCIQqQCAzVF4yRwABBBBAAAEEEEAAAQQQQAABBBBAAIEgBAhkBqFIHggggAACCCCAAAIIIIAAAggggAACCCAQqgCBzFB5yRwBBBBAAAEEEEAAAQQQQAABBBBAAAEEghAgkBmEInkggAACCCCAAAIIIIAAAggggAACCCCAQKgCBDJD5SVzBBBAAAEEEEAAAQQQQAABBBBAAAEEEAhCgEBmEIrkgQACCCCAAAIIIIAAAggggAACCCCAAAKhChDIDJWXzBFAAAEEEEAAAQQQQAABBBBAAAEEEEAgCAECmUEokgcCCCCAAAIIIIAAAggggAACCCCAAAIIhCpAIDNUXjJHAAEEEEAAAQQQQAABBBBAAAEEEEAAgSAECGQGoUgeCCCAAAIIIIAAAggggAACCCCAAAIIIBCqAIHMUHnJHAEEEEAAAQQQQAABBBBAAAEEEEAAAQSCECCQGYQieSCAAAIIIIAAAggggAACCCCAAAIIIIBAqAIEMkPlJXMEEEAAAQQQQAABBBBAAAEEEEAAAQQQCEKAQGYQiuSBAAIIIIAAAggggAACCCCAAAIIIIAAAqEKEMgMlZfMEUAAAQQQQAABBBBAAAEEEEAAAQQQQCAIAQKZQSiSBwIIIIAAAggggAACCCCAAAIIIIAAAgiEKkAgM1ReMkcAAQQQQAABBBBAAAEEEEAAAQQQQACBIAQIZAahSB4IIIAAAggggAACCCCAAAIIIIAAAgggEKoAgcxQeckcAQQQQAABBBBAAAEEEEAAAQQQQAABBIIQIJAZhCJ5IIAAAggggAACCCCAAAIIIIAAAggggECoAgQyQ+UlcwQQQAABBBBAAAEEEEAAAQQQQAABBBAIQoBAZhCK5IEAAggggAACCCCAAAIIIIAAAggggAACoQoQyAyVl8wRQAABBBBAAAEEEEAAAQQQQAABBBBAIAgBAplBKJIHAggggAACCCCAAAIIIIAAAggggAACCIQqQCAzVF4yRwABBBBAAAEEEEAAAQQQQAABBBBAAIEgBAhkBqFIHggggAACCCCAAAIIIIAAAggggAACCCAQqgCBzFB5yRwBBBBAAAEEEEAAAQQQQAABBBBAAAEEghAgkBmEInkggAACCCCAAAIIIIAAAggggAACCCCAQKgCBDJD5SVzBBBAAAEEEEAAAQQQQAABBBBAAAEEEAhCgEBmEIrkgQACCCCAAAIIIIAAAggggAACCCCAAAKhChDIDJWXzBFAAAEEEEAAAQQQQAABBBBAAAEEEEAgCAECmUEokgcCCCCAAAIIIIAAAggggAACCCCAAAIIhCpAIDNUXjJHAAEEEEAAAQQQQAABBBBAAAEEEEAAgSAECGQGoUgeCCCAAAIIIIAAAggggAACCCCAAAIIIBCqAIHMUHnJHAEEEEAAAQQQQAABBBBAAAEEEEAAAQSCECCQGYQieSCAAAIIIIAAAggggAACCCCAAAIIIIBAqAIEMkPlJXMEEEAAAQQQQAABBBBAAAEEEEAAAQQQCEKAQGYQiuSBAAIIIIAAAggggAACCCCAAAIIIIAAAqEKEMgMlZfMEUAAAQQQQAABBBBAAAEEEEAAAQQQQCAIAQKZQSiSBwIIIIAAAggggAACCCCAAAIIIIAAAgiEKkAgM1ReMkcAAQQQQAABBBBAAAEEEEAAAQQQQACBIAQIZAahSB4IIIAAAggggAACCCCAAAIIIIAAAgggEKoAgcxQeckcAQQQQAABBBBAAAEEEEAAAQQQQAABBIIQIJAZhCJ5IIAAAggggAACCCCAAAIIIIAAAggggECoAgQyQ+UlcwQQQAABBBBAAAEEEEAAAQQQQAABBBAIQoBAZhCK5IEAAggggAACCCCAAAIIIIAAAggggAACoQoQyAyVl8wRQAABBBBAAAEEEEAAAQQQQAABBBBAIAgBAplBKJIHAggggAACCCCAAAIIIIAAAggggAACCIQqQCAzVF4yRwABBBBAAAEEEEAAAQQQQAABBBBAAIEgBAhkBqFIHggggAACCCCAAAIIIIAAAggggAACCCAQqgCBzFB5yRwBBBBAAAEEEEAAAQQQQAABBBBAAAEEghAgkBmEInkggAACCCCAAAIIIIAAAggggAACCCCAQKgCBDJD5SVzBBBAAAEEEEAAAQQQQAABBBBAAAEEEAhCgEBmEIrkgQACCCCAAAIIIIAAAggggAACCCCAAAKhChDIDJWXzBFAAAEEEEAAAQQQQAABBBBAAAEEEEAgCAECmUEokgcCCCCAAAIIIIAAAggggAACCCCAAAIIhCpAIDNUXjJHAAEEEEAAAQQQQAABBBBAAAEEEEAAgSAECGQGoUgeCCCAAAIIIIAAAggggAACCCCAAAIIIBCqAIHMUHnJHAEEEEAAAQQQQAABBBBAAAEEEEAAAQSCECCQGYQieSCAAAIIIIAAAggggAACCCCAAAIIIIBAqAIEMkPlJXMEEEAAAQQQQAABBBBAAAEEEEAAAQQQCEKAQGYQiuSBAAIIIIAAAggggAACCCCAAAIIIIAAAqEKEMgMlZfMEUAAAQQQQAABBBBAAAEEEEAAAQQQQCAIAQKZQSiSBwIIIIAAAggggAACCCCAAAIIIIAAAgiEKkAgM1ReMkcAAQQQQAABBBBAAAEEEEAAAQQQQACBIAQIZAahSB4IIIAAAggggAACCCCAAAIIIIAAAgggEKoAgcxQeckcAQQQQAABBBBAAAEEEEAAAQQQQAABBIIQIJAZhCJ5IIAAAggggAACCCCAAAIIIIAAAggggECoAgQyQ+UlcwQQQAABBBBAAAEEEEAAAQQQQAABBBAIQoBAZhCK5IEAAggggAACCCCAAAIIIIAAAggggAACoQoQyAyVl8wRQAABBBBAAAEEEEAAAQQQQAABBBBAIAgBAplBKJIHAggggAACCCCAAAIIIIAAAggggAACCIQqQCAzVF4yRwABBBBAAAEEEEAAAQQQQAABBBBAAIEgBAhkBqFIHggggAACCCCAAAIIIIAAAggggAACCCAQqgCBzFB5yRwBBBBAAAEEEEAAAQQQQAABBBBAAAEEghAgkBmEInkggAACCCCAAAIIIIAAAggggAACCCCAQKgCBDJD5SVzBBBAAAEEEEAAAQQQQAABBBBAAAEEEAhCgEBmEIrkgQACCCCAAAIIIIAAAggggAACCCCAAAKhChDIDJWXzBFAAAEEEEAAAQQQQAABBBBAAAEEEEAgCAECmUEokgcCCCCAAAIIIIAAAggggAACCCCAAAIIhCpAIDNUXjJHAAEEEEAAAQQQQAABBBBAAAEEEEAAgSAECGQGoUgeCCCAAAIIIIAAAggggAACCCCAAAIIIBCqAIHMUHnJHAEEEEAAAQQQQAABBBBAAAEEEEAAAQSCECCQGYQieSCAAAIIIIAAAggggAACCCCAAAIIIIBAqAIEMkPlJXMEEEAAAQQQQAABBBBAAAEEEEAAAQQQCEKAQGYQiuSBAAIIIIAAAggggAACCCCAAAIIIIAAAqEKEMgMlZfMEUAAAQQQQAABBBBAAAEEEEAAAQQQQCAIAQKZQSiSBwIIIIAAAggggAACCCCAAAIIIIAAAgiEKkAgM1ReMkcAAQQQQAABBBBAAAEEEEAAAQQQQACBIAQIZAahSB4IIIAAAggggAACCCCAAAIIIIAAAgggEKoAgcxQeckcAQQQQAABBBBAAAEEEEAAAQQQQAABBIIQIJAZhCJ5IIAAAggggAACCCCQRwJ///13Hp0tp4oAAggggAAC2SJAIDNbPok8LMe2bdvMW2+9ZUaPHm369OljLrjgAjNo0CDzyCOPmGXLluWhCKeMAAK5KPDzzz+bxx57zFx66aWmdevWpkWLFqZdu3Zm6NCh5vnnnzeq60gIIIBArgusXbvW3HzzzaZNmzamRo0a5h//+If9V7duXXPGGWeY8ePHm82bN+f6aVJ+BBCImMD69evNpEmTzP/93/+ZVq1a2XZa+/btzbBhw8y0adPM9u3bI3bGnA4C0RcgkBn9zzjrznDdunXmyiuvNNWrV481gp3GcPzPE044wbz44otZV34KhAACCEhAN/UXX3yx2WmnnWJ1WalSpUzZsmXNDjvsEHtNdd2IESPMr7/+ChwCCCCQcwKbNm0yffv2tXWb2mmq52rVqmX22Wcf07BhwwLtucqVK5vrrrvO/PHHHzl3nhQYAQSiJbBq1SrTq1cvU758+VibLFk7rXbt2ub666/nwXO0Pn7OJuICBDIj/gFn2+m98MILtvGrhvDOO+9sjj/+eNO9e3dz2WWX2d6Yl1xyienQoYPZb7/9YoGAzp07Gz1JIyGAAALZIqCels7DmJo1a5q2bdsa1V9XX321GTlypA1c9u7d27Rs2dLWdarz6tevb2bPnp0tp0A5EEAAgWIF5s2bZ/baay8bBNh1111tz0v1YlI9F/9vyJAhtqfmLrvsYrdt0qSJWbFiRbH5swECCCAQhsDjjz8ea3+p7tJIGT2Queaaa2zdNXz4cDsaUB1n9ABG7TTdf6rOIyGAQPYLEMjM/s8oMiW855577EWiXLlyRt35nRv++IZw/O8aptmgQQO7zwEHHGB7P0UGgxNBAIGcFXjggQdsvaQn/BpOGV9vJftddd2JJ55odtxxR1OhQgUzY8aMnD13Co4AAvkj8Mknn5iqVavauuuUU06JBQCS1XPOawpyNmvWzNaRenhDMDN//l44UwSyRWDcuHG2DtKImU6dOhXbTtOoGXWuUW9NBTU/+OCDbDkVyoEAAikECGSmgOHlYAUmT55sLyhqEPfv37/YC4rTINZPzTenp2QHHnig2bp1a7AFIzcEEEDAg8BLL71k66MqVap4rst69uxph2YqmLlw4UIPR2VTBBBAILMCGgmjXkx6ANO1a1dP7Ta13TSPptpuhx12GMPMM/vRcTQE8lrgySeftHWPeodrxF/8PWVxv5977rmmdOnSNpj59ddf57UjJ49AtgsQyMz2TygC5dP8JBpGrqdiAwYM8HRBcS44xx57rL0oqZcmCQEEECgJAefGXnNgasJ4p37y8vO8887j5r4kPjyOiQACngR0Q69A5KmnnuqrrlO9eNRRR9k8brjhBk/HZmMEEEDAj8CaNWuMAph6YOw1iOm05bp06WLrrebNm5u///7bTzHYBwEEMiBAIDMDyPl+iB49etgLgpuu/c5FJPGnhmbWqVPH5rNkyZJ8J+X8EUCgBASuuuoqWwelc2Mff3P/8MMPl8BZcEgEEECgaIGvvvrK1nWaG9OZTy6xXebm/xpmrpE46sHOYmdFm/MuAgikL9CvXz9bd5155pm+H8Cobjv00ENtPpoPnYQAAtkpQCAzOz+XyJTqxx9/tEMpFYR00+gtahund4B6QpEQQACBTAr89ttvdnEf9S4vbn7fouoxvTd48GA7XLNp06aZPAWOhQACCLgSGDhwoL2J79atW9ptt1atWtm8JkyY4OrYbIQAAgj4Efjll19MxYoVTY0aNdJ6AKN2mnpz7rDDDnZ+cz9lYR8EEAhfgEBm+MZ5fQQ1XDU06fTTT0+7MaxeAdWqVbPBhLxG5eQRQCDjAtOnT7d1mVa3LC5Q6eZ9zfmrunHlypUZPxcOiAACCBQlcPDBB9vpgNLpjenUg3pwo7ru7LPPLuqQvIcAAgikJaDek6pr9PDEqX/S+dmwYUOb38aNG9MqFzsjgEA4AgQyw3El1/8K9O7d214E/M6NmXgBatKkic3v22+/xRgBBBDImMCoUaNs3aM5LhPrJT//b9u2rc2PYUsZ+wg5EAIIuBDQoopa4KdBgwaB1HWqHzW8vF69ei6OziYIIICAPwFn+h/de/pplyXuc+KJJ9p22ptvvumvQOyFAAKhChDIDJWXzLVIT7ly5QK5oOgC46yC+corr4CLAAIIZEygV69etkE7aNCgQOqz888/3+Y3evTojJ0DB0IAAQSKE1i+fLmtm4444ohA6jq13fbee287zVBxx+Z9BBBAwK+Aen2rR6YCmolBST//79q1q83vnnvu8Vsk9kMAgRAFCGSGiEvWxmgOuEqVKgVyQdFFSEPUdZGiFxN/XQggkEkBZ7XxIUOGBFKfXXDBBbYuu/HGGzN5GhwLAQQQKFJAI17UzgoykFm/fn1TpkyZIo/LmwgggEA6AmeccYatu9Kdx9wJejprM4wbNy6dYrEvAgiEJEAgMyRYsv2PwPHHH28br0HMs6QLizNp/GuvvQYxAgggkDEBZyVMLTbmNHLT+ek86b/rrrsydg4cCAEEEChOQKuLa5GLfffdN5C6TvVk9erVTd26dYs7NO8jgAACvgV69OhhA5lBjZzRyud6qDNp0iTfZWJHBBAIT4BAZni25GyM6du3r70IKAiQzk2/s68moNdFZfXq1fgigAACGROYOHGirXvOOuusQOoyLRqkumzmzJkZOwcOhAACCLgRaNSoUWCjaYYOHWrrug4dOrg5NNsggAACvgRuu+02W9ecc845gbTTmjVrZvNbsGCBr/KwEwIIhCtAIDNc37zPXU+xdLOuhS2cYKTfnxoqUKVKFVOnTp28dwUAAQQyK7Bw4UJbl+lhit86LH4/1WNly5Y16v1EQgABBLJJ4JJLLrH1nebyja+3/Pzerl07m9edd96ZTadIWRBAIGICs2fPtnXN4Ycfnna9pZGE6kleuXJl8+eff0ZMitNBIBoCBDKj8Tlm7Vn88ssvpmLFiqZGjRom3eHlnTt3thcoTeJMQgABBDItoDnjtJpvusOWnPkxNQyKhAACCGSbgHog6SH0Pvvsk1ZAQA+ga9asaSpUqGA2bNiQbadJeRBAIGIC++23n31IrJ7gfh68OPs482NqOiESAghkpwCBzOz8XCJVKl0E1CA+9dRTfV9Uhg0bZqpVq2bn21yxYkWkfDgZBBDIDYEnn3zS1mUHHHCA77pMN/a77babnYPuk08+yY0Tp5QIIJB3Au3bt7f1XTrTaThTaAwePDjv/DhhBBDIvIAzDdChhx7qu502fPhw2wFHD66XLl2a+ZPgiAgg4EqAQKYrJjZKR0BP4XfddVf7hOyiiy7yfGFRT05dkBQMveGGG9IpCvsigAACaQnogYzqojZt2niuy/SkX706tf/ll1+eVjnYGQEEEAhTQHORV61a1ZQrV8706tXLc33XqVMn+8BGvTq3bt0aZlHJGwEEELACf//9tznuuONsO+v000/3XG/pnvOQQw6x+6vNRkIAgewVIJCZvZ9NpEr2xhtvmNKlS9vhRRpW6XTdL+7niBEjzGGHHWYvKM2bNzd//PFHpFw4GQQQyC2B77//3tSrV8/WSSeddJLrKTP0hL9p06Z2v6OOOoob+9z62CktAnkp8Oabb5ry5cvbYGbHjh1dtd0UCDjllFNsEFPDyhctWpSXdpw0AghkXmD79u1GbTM9MNY/L2s0aPSfE8Q88cQTjfIiIYBA9goQyMzezyZyJZs6daoNZpYqVcooKFnc/CXqAaCenLoQ6ena5s2bI2fCCSGAQO4JfPfdd2bvvfe2ddNee+1VZG8l3dR369bNDlNSXaZGsuYOJiGAAAK5IPDKK6+YXXbZxdZ3DRo0MOedd17SgKamzTj77LPtgoyq61Q3TpkyxcyfP9+olxQJAQQQCFNAnV30wEX1T+vWrWN1keqtCy+8MGm9pQ41qru6dOlipzDTvi1btjSrVq0Ks6jkjQACAQgQyAwAkSyKF1AjdsKECeajjz4ymohZFwqt2Ksh45qHSUFLXWR0w9+iRYvYxWeHHXYwmltJDWnmKSnemS0QQCBcAdVlt9xyi62Pevbsaesy1We1a9c26mmpoUyaU04r9ao3uRMA0AMcbadVz3///fdwC0nuCCCAQAACDzzwgLnuuuuMeqKfccYZsfpup512MgoOqI5r0qSJDVpqCLrqOLXb+vTpYzZt2mQf2ug1/TvzzDPNo48+atauXRtAycgCAQQQ+J+AVhbv2rWrrWs6dOhge1M+//zzsddUB2l+8mbNmhm977TTVH9VqVLF7lemTBlz00032VXKnbzUS3PWrFmsXP4/an5DIGsECGRmzUcR3YJoniXdxNetW9ee5G+//WbGjx9vtGCG08BN/Kkgp1b0nTdvnt1HT/S1zT333BNdKM4MAQSyWkBP6J3ApFPQjz/+2Jx//vlGN/aJ9Zj+r0XKLrvsMvPVV1+ZIUOG2G2uuOIKZ3d+IoAAAlkn8PPPP8cClxpN46TFixebAQMG2J7lWgjDqfPUZtODHLXz9Pq3337r7GLee++92HaVKlWyw9TVo1314owZM3iwE5PiFwQQ8COgB8zqKa76SPOY62Gx1lTQ6D+l2bNn244ymibDqbPif1asWNG+Hj8n5k8//WRf04OZypUr26nRTj75ZHsfGl+/+Skv+yCAQDACBDKDcSSXFALPPfecvQDogjFmzJhCW+nmfvLkyfYJ2LXXXmvuvPNO88477xQaRq6LlPLQPJutWrUy69atK5QXLyCAAAJhCTz77LOxukyBy8Sk3gCff/65efrpp22vI/UEWLZsWYHN1Lhu3LixfbDz7rvvFniP/yCAAALZIDBz5kyjuS0VnNRN/JYtW5IWSw+l1VNzzZo1sbnkpk2bZttqffv2LbCPgpaJD3v0gFs9odST89hjjzW33367WbJkSYH9+A8CCCBQnIAeDuseUXPzbtu2zSyWRRmWAAAgAElEQVRfvtz+Xw+e45PaaQsWLDBPPfWUbafpIY2Ckpq6TA+d99hjj1hdpv20vkNivaX/V6hQwU591rt3b6M6j6nP4pX5HYHMCRDIzJx1Xh3p119/Nd27d49dAPS0a+HChWkZaKimLlTq+q+Lky4wJAQQQCBMAdVl55xzTqwu0423gpR+k4KdunHX/HHMlelXkf0QQCBoAc0vp4CAbtLV1tI/Dbv0kvTQWdNnqOfTDz/8ENtVD3G0erkCo07eiT+1j4IECiioztVDoQ0bNsTy4BcEEEAgUUAj9VSXaJoLtdf++usvu7CiHpTsueeeiZun/L96YyqfBx98sMA2miYjvk5MrLfUJnSmSlMvUI3SUT1IQgCB8AUIZIZvnHdHmDt3rh1eFN+Ff+edd07bQXM1Od3/dSFRg1dP/fX0jYQAAggELaA5fTWnUnxdpgarhl2mk2699VbbYE7WszOdfNkXAQQQ8COg0TGa7ie+95EeGmt+TK/p8ccft/WbFnSMT1q9vKiAQGKAQMM5Vd9qXnXNo/7+++8bBVtJCCCAgAS0foKmslDAUr3DlW6++eZYPaY6xG1av369vcds1KiRDYY6+6nnuR48J9ZPyf6v+krTZ+jfaaedZh5++OFYuZz8+IkAAsEJEMgMzjLvc9JTMA0PT9ZQ1STv6SatFBwfUNBFRMfShPNqIJMQQACBIARUl2m18WR12f7775/2IfS0Xqtiqg7T9BskBBBAoKQEJk6caG/8E3tLKgighzlek4Zv1q9f3w4bV3AgPt12220FHkgnCwYkvuYslHbjjTfSiz0ek98RyGMBrZ2ggKF6RGqki5JG/sW321R3qD3nNl1++eW2XfbMM88U2OXTTz8tkG9iHVXc/1988cUC+fEfBBAIRoBAZjCOeZ+Lgozq1h//NN+p2HWheeSRRwIxUu8oJ9/4nzqu5tckIYAAAukIaG4lDadMVpfpyf9VV12VTvaxfVVnqqd6jRo17BxzsTf4BQEEEMiAgIZtt23bNmVgUQEBL0GA+CJrBI3aaAoMxCc9xDn66KPtfOfxbbhkv2sETtWqVc0tt9yScp7O+Lz5HQEE8kNACy9qYTH1Gp8+fbo96e3bt9vpK+LrEk3j8+OPP7pGUb7qMKNe4Im9v/UgJVm7MP54zu+quzQFmh7cbN261fXx2RABBLwJEMj05sXWSQSeeOIJ+1QsfgVLpzLXT11InC7/SXb39NIFF1yQNJCp4+jCccIJJxSYl8lT5myMAAJ5LfDYY4/ZuszpARRfj+l3PfkPcpEePeBRvlplk4QAAghkSuCtt96yc1FqKGRiPef8Xyv0+k3qlXnQQQfZoeHffPNNgWxWr14dWzjNOVb8Tz381mJDd999N1MHFZDjPwggsGnTJrtoouoMPTBx0uDBgwsFGtWr3Ov6DEOGDLF1oubejE96qNO0aVM7lD2+vor/XXVXrVq1zL333mtXTo/fn98RQCB4AQKZwZvmTY66mJx11lmFLhzxlbp+1ypwQaUpU6bYYELiMZz/a1Vz9XJ66aWXgjok+SCAQMQFtOiOpr8o7mm7HsroqX+Q6eyzz07aaA7yGOSFAAIISECL7gwYMKDYYZKqC8ePH58W2ssvv2zrtq5duxbKRwv5pKpv1YszsTdUoQx4AQEE8k5A9UKbNm1svTJs2LDY+c+ePTtpnab7QT208ZI0B3r16tVN7dq1C61GrpE08Ws1OPee+qke7Ho4rYc4JAQQyIwAgczMOEfuKLpoqJLXjX18RZ74u+ZcuvjiiwM7f11giupB4BxfDWT13qRLf2D0ZIRAJAW0gISeoBdXl6luOe644wI30BxyderUsY3jL7/8MvD8yRABBBCQwJIlS8y+++6bMoDotJ/0U20oLQCUbjrxxBPtSuVaBDIxderUKWm9u/vuuxv12iQhgAAC8QIXXXSRvec855xzYiuDa6XyVNOOqUfm5MmT47Nw9fsdd9xhj6O50hPTpEmTktahGpU4c+bMxM35PwIIhChAIDNE3ChmrSdNmiMufjLl+MZv4u8aihl070gttpF4nGT/Vxm1kp0maSYhgAAC8QJ6sq8hRG7rMs2bpPmOwkivvfaardOOOuoonuaHAUyeCOS5wLhx4+zNd+KCPsnaTnpNc/cGkT755BMbyGzRokWh7NQTXkPI48vgTOtxyCGHsLBPITFeQCB/BUaPHm3riubNmxeYcuKf//xnoYVgnTpFD6jHjh3rGU0917VgmXpfrlmzptD+7du3L9CpRnN16p/mxVy8eHGh7XkBAQTCESCQGY5rJHPVPEfOxcHtT/We3Lx5c6AeCqSmmo8zVbk0WbwmmSchgAACy5Ytsw1O1RcKULq5uVeD1utcS16k+/bta+vX6667zstubIsAAgikFNADm//7v/+Ltd30cFnDLVWfFVXvdevWLWWeXt9QXqprk63c+9577xV4mKSRPiNGjLDbt2zZknnmvGKzPQIRFNBUFKqv1KNco1ic9MorrxSoP5LdAw4dOtTZ3NPPJ5980tZD6gWamLRQWrVq1WL1qnp+6ji6N1UHGi0aREIAgfAFCGSGbxyZI8ybN8/cf//9tleS5ljSE6lDDz3UdulPFVjUU/Wgkxq+aownu2DpYtKgQQOjJ3bnnXee0bAA9aJSr9CNGzcGXRTyQwCBHBRQQ1g9hVQvTJw40YwcOdL06NHDLhYW3ziNr2O0em6YacuWLaZRo0Z2Nd9kwzDDPDZ5I4BAtAX0IFer92qEim7+1ZbTwxP1gEwMaKod9dRTTwUGsnz5cjuE/IADDkja41xzYjrzZTZp0sQet2fPnraNp/k1eQgd2EdBRgjknMCsWbPsA2f1EtdDaCepHacekPHttGS/axi6n6R658gjj7TByWS9LN98881YvaWHQx988IGZMGGCLc/BBx9sNBUaCQEEwhUgkBmub17kromU1RBWRe4MC9LFRN3sk80vki6KFttInM/OmTfz+OOPN1pZjoQAAgh4FZg/f76ttzTc0bmxdhrGHTt29Jqd5+3nzJljA5kKaDK/r2c+dkAAAZcCGjrZuHFj22bbZ599CgQD1J5at26dy5zcbTZo0CB7jPvuu6/QDmrTOWXo0KGDfV89Sdu2bWv3GThwYKF9eAEBBKIv8PXXX9tpLjRyRmszxKfE4d1OWy3xp+4L/aZ3333X1kGnnXZa0iy0BoSmJ1J7ceXKlXYbepQnpeJFBEIRIJAZCmv+ZKonTupGr4uMVqiMn29OT/UTLzxByWjRDedipeBpu3btTK9evexrmkeFhAACCHgR+O2338yBBx5on76r17ee/jt1TKVKlexqlF7y87vttddea4/br18/v1mwHwIIIFCkgOYHVv2mn9OnTy+wEq9GtQSdNBRTvae0KIcW50hMixYtsuWJ7z2l7Q4//HD7+u233564C/9HAIEIC+j7f9BBB9mOMhpaHp8ee+yxQg+bVZ8l9i7Xa3ownE5SEFP5vPPOO4Wy2bZtm9ljjz3s+3r44iR6lDsS/EQgXAECmeH6Rj73c88911bgWuFN6fTTT4/1ylRwU4sDhZHUqFX+urgoePr555/buTg1ObN6EyxYsCCMw5InAghEVOCyyy6z9cnw4cPtGd59992xm3v1AP/+++8zcuZqDGvRHzXItQgQCQEEEAhSQA9q9ABYPTLVM1NJQyHVntLrGuodRrr11lvtMVLNA3zzzTebf//73wUOvXbtWjtdkOrDoBeOLHAg/oMAAlklcPbZZ9v64uqrry5QLvV8VF2lf+owo/aZHjbr/wo6xneo0WvpLlymYeWaPu2II45IOs2FRtLoOPFJ7bhTTz3Vvn7llVfGv8XvCCAQoEDBb16AGZNV9AX0hEyV90knnRSr3PVU3bmInHjiiaEhaNENZ7L6U045JXacmTNn2oa4GuV6UkZCAAEEihOYMWOGDRw2bdrUaJijkm7wnfmX1Os8k+nLL7+0vQ3q1KlTYGL7TJaBYyGAQPQENm3aZOrVq2dv/vUA2EmvvvqqDQZo/nH10AwjqU2mYyvo8MMPPxQ6hOak++677wq9rvpQ5VJ9/O233xZ6nxcQQCBaAnqooftLjbaLnyNXvx999NH2ve7du5snnnjCaP0G3Xeq56U6zySODtQ0Z+kmLfij8kyePDlpVpovMzGpR6nm/NV+U6dOTXyb/yOAQAACBDIDQMzHLFavXm1XbNMCGM68II6DM6/RXXfd5bwUyk8FMnWB0Lx28Ukrx+n1wYMHx7/M7wgggEAhAS0CpqFBaggnTuiunuaqSy655JJC+4X9wvjx4+2x1SuBhAACCAQh8M9//tPWK+odmZicIZKaZiOs9Pjjj9vja245L+n555+3++lhEw+pvcixLQK5JfD666/bDimaNzdxwRwFB1esWFHghJwg4zPPPBN7PX4hntKlSyedziK2sYtf1qxZYzvPaNSf04vdxW5Gc3zqPllrSMQvVORmX7ZBAIHiBQhkFm/EFkkEWrdubRuVapQmJg3r1s3/0qVLE98K9P8NGza0F5bETHWR0WrqGiKVbE6TxO35PwII5K9At27dbH01duzYQgi6oVdd9txzzxV6LxMvOA+FHn300UwcjmMggECEBZxgYMuWLQv0cnJO+ZFHHrFzWDr/D+OnelQpGKngwhdffOHpEM6CQQpckBBAIHoC33zzje0ko17bGuFXXFJvbdUlmks3vuem9nv//fdj0wMp33TTyJEjbXvQmUrNbX7Tpk2zI350XxrmQyK35WE7BKIkQCAzSp9mhs5Fcxjp5r5r164pjzhgwICU7wX1hm7uNTdJsqSh55o3Za+99jK//PJLsk14DQEE8lzgySeftHWZpqdIbAQ7NKrv1AugJJJ6AVSvXt0+zU/shVAS5eGYCCCQmwIayq254tQzKNnwbees1Bsq7PTWW2/ZelerDntJmneuefPmdt9JkyZ52ZVtEUAgywW2bNli5+3VfLhuHx536dLF1gdvvPFG0rObO3eufT+IhWc3b95sdt11Vxto1eJlXpLmydR9sxalJSGAQHACBDKDs8yLnPQEfaeddjJ169Y1RVXkXrre+4Ur7hi33XabvXD06NHD7yHYDwEEIiqg6TE055r+rVq1KuVZpgpwptwh4DfUoFcDOFUvqoAPR3YIIBBBAc01p3pEvS6zIZ155pm2POqt5CVp0bXatWvbqUA+++wzL7uyLQIIZLHAOeecY+uEq666ylUpNTemgp7FrcegeuKDDz5wlWdxG02cONGW0evUGJq7s0WLFnbfBx54oLjD8D4CCLgUIJDpEorNjNHTcK3apgtHWJPBB+msAIQucGq8P/vss0FmTV4IIJDDAqobWrVqZesG9crM9qSHMarH9HCGhAACCHgRuPfee239kU3z7S5fvtw+FN977709D7d8++237SrCmkOPETde/hLYFoHsFNCcvWrjtGnTxvz111+uCqlttc+HH37oavsgNlLb8aijjrJTl3388ceeslSveC3gWL58+UJrO3jKiI0RQCAmQCAzRsEvxQlcc8019qLRv3//4jbNmvc1HFNDqTQ8U8M0SQgggMC4ceNsXaYeALmQdLOuaTI0XYamzSAhgAACbgS++uorO0+cbqDXr1/vZpeMbXPjjTfaelhtS6/pX//6l933rLPO8ror2yOAQBYJaGGeHXfc0TRo0KDIkX7xRdZQcgUxzzjjjPiXM/K7Aphag+HII49MOSVRqoLMnDnTzumpc01cyCjVPryOAAKpBQhkprbhnTgBPfHShMr777+/2bp1a9w72f+r5tLUBU8LZ5AQQCC/BZYsWWKHJe6+++5GK5bnSnr33Xdt41kTxhc3rUaunBPlRACB8AQ0nLFZs2a2/fPaa6+FdyCfOaseU69K9VDyuqKvekaddtpp9tzoqe7zA2A3BEpYQD2zNXdvxYoVjdupIrRgjgKBqje02E9JJA0t133lfffd5/nwTu/TDh06eA6Eej4YOyAQcQECmRH/gIM4PU3ArMZmmTJljNeu9EEcP4g8OnfubC8648ePDyI78kAAgRwU0PQYWt1S02OoF0CupcGDB9t6bOjQoblWdMqLAAIZFrj++uttfdG3b98MH9n94bS4kAICp556qvud/rulHkTVr1/fPmRXTycSAgjkjoACkocddpj9/nuZ4mfYsGF2H9VvJZW0RkTNmjXtaL9169Z5LoZ6kqveu/nmmz3vyw4IIPA/AQKZ/7PgtxQCl1xySYlfNFIUzfXLGlKloVVaqKiknuC5LiwbIoBAKAJXX321rcsGDBgQSv5hZ6oeTIcccojtmcmNe9ja5I9A7groobMePu+7775GD6OzOXXs2NHWy1OmTPFczPnz59ueWWrfaQ46EgII5IbAeeedZ7/3gwYNcl3gRYsW2XpNowNLemTK/fffb8t/4YUXui6/s6GmC1IHIQ2p15y/JAQQ8CdAINOfW97s9eqrr9qKWsOTNEwpl5OGVukJmCZqzvVzyeXPgbIjUBICmh5DjUY1gNUTIFfTggUL7FyZWiRj06ZNuXoalBsBBEIS0PQ/quc0HdBHH30U0lGCy1Zzmeshs+YB9jN1kRNQaNmyJW274D4WckIgNIGxY8fa+7GTTjrJ9XdW00kcd9xxdkTNe++9F1rZ3Gas8ujeWPNl+qlnNZRe9V7t2rXN999/7/awbIcAAnECBDLjMPi1oIC6y++222527hJNGB+FpCFWCmZed911UTgdzgEBBFwI/Prrr7HpMT755BMXe2T3JmPGjLH1WM+ePbO7oJQOAQQyLqAFGdXOGTlyZMaP7feAzuI9w4cP95WF6kKd81VXXeVrf3ZCAIHMCGi+bz1kqVevnvEyLFvzUeo73qtXr8wU1MVR5s2bZwOZTZs2db3aeny2kyZNsufUvHlzo6mPSAgg4E2AQKY3r7za2pnD4957743MeWuIVaNGjexFdO7cuZE5L04EAQRSC/Tp08c2FrVKbhTSX3/9ZU444QR7Tn6GY0bBgHNAAIHCAlrNV3MAa0XdXLox3r59u9lvv/1sb3M/0/+oJ6cz7YYCJSQEEMg+gR9//NF2kKlQoYJRENBtWrt2rdlll13svJSaKiybUr9+/WxbzO8aDBdddJHdP5cePGWTP2XJbwECmfn9+ac8e+cpUbt27VJuk6tvzJkzxwYyFdD0M4wpV8+bciOQjwIvv/yybSQec8wxrocw5YKTVvusUqWKbdgzN1wufGKUEYFwBbQARd26de1wxaVLl4Z7sBBynz59uq2rW7du7Sv3zz//3AZCNURdc9CREEAgewQ0FFvfbfWqnDhxoqeCdevWze73yCOPeNovExtr0bFatWrZQOtPP/3k+ZDxU4FoCiQSAgi4FyCQ6d4qb7Z0bpBr1KgR2cnTr732WntR1JM0EgIIRFNAjcpdd93VVKpUySxbtixyJ/nwww/beqx9+/aROzdOCAEEvAl06dLF1gd33323tx2zaOvOnTvbc3j22Wd9ler222+3+/fo0cPX/uyEAALhCIwaNcp+NxWU9JLUy1zBT82nma3poYcesmX0O+xdUx5pcbaGDRsaTYVEQgABdwIEMt055c1W8UMWn3/++ciet4ZcadEfDcHSIkAkBBCInsCZZ55pG5eaWymqyZkCZMKECVE9Rc4LAQSKEXj88cdtXdemTZtitszut1etWmUfPO2xxx6+VltXry8FPBT4eOaZZ7L7ZCkdAnki8P7779uRcFqp28sihVqYsUGDBqZ8+fLGz5QTmeJVvXPsscfae8rZs2f7OuxNN91k6y0NNSchgIA7AQKZ7pzyZqtbb73VVqT//Oc/I3/Ouihqxbg6deqYbJtzJfL4nCACIQs4vRVPO+20kI9Ustlrsnz1Oq1YsWIke52WrC5HRyD7BVauXGmqVq1qqlevHonVb2+55RbbDr3yyit94ctD8+lVq1bNrF692lce7IQAAsEIqI2y++6722kf5s+f7ynTYcOG2brg+uuv97RfSWz86aefmh133NEceuihvqYx+vPPP20wVA9hpk2bVhKnwDERyDkBApk595GFV2BnfiGtJJcv8wtpcmZdNM4+++zwYMkZAQQyKuBMj1GzZk2jSeKjnpx5QI8++mhfDeio+3B+CERVIIo9EDVi5sADD7RDLZcsWeLro3N6qLZq1crIiIQAApkX0HdPU9/oPsvrlBcLFy60dcD+++9vfv/998wX3scRBwwYYM913LhxPvY25ptvvjGVK1c2tWvXNloYiYQAAkULEMgs2idv3tVFonHjxqZUqVIm31Z8bNu2rb3wPProo3nzeXOiCERVQNNjHH/88fY7PXXq1KieZqHzitrK7IVOkBcQQKCQwB133GHrunPPPbfQe7n8wttvv23PK5158bp27WrzuOuuu3KZgrIjkLMCzii/Tp06eTqH+KHa7733nqd9S3JjdQLSCJmdd97Z9xoTDzzwgK23Tj/99JI8FY6NQE4IEMjMiY8p/EIOGTLEVpxXXHFF+AfLsiOsWbPGDsnShWfFihVZVjqKgwACXgTGjBlj6zK/k657OVY2basJ4jX/lCaM18TxJAQQiLbAokWL7Nxxe+65p/n5558jd7Ldu3e3dfmDDz7o69y0mrCGtFaoUMEsXrzYVx7shAAC/gS0ArfaI/Xr1/dcP9177732u3/BBRf4O3gJ7vXYY4/ZsmvhMr/Jmd/d6+rufo/HfgjkqgCBzFz95AIst552qSfmIYcckjPd9wM8fZvVc889Zy88LVu2ZBhS0Ljkh0CGBBYsWGDKli1rG86bN2/O0FGz5zC6cdAcTRqKpUnySQggEE2B7du3myZNmtjFJdR7MYrpp59+MjVq1LDzXeqBs580Y8YMa3TYYYcZmZEQQCB8AT1E0DRlao/NnTvX0wGXLVtmF/xSz8ZcXb+gdevW9p7S76gg1X06/0qVKjH3uae/HjbONwECmfn2iSecr1aP08WmXLly5rPPPkt4N7/+26NHD3vhue222/LrxDlbBCIgsG3bNnPwwQfbhzJaITNf09VXX23rMc3VREIAgWgKXHXVVfZ7PnDgwGie4H/PypnrsmPHjr7P8/LLL7dWWjiEhAAC4Qs4PQo19YWXpAVvjjnmGPt91dzfuZo0T7uCkFpM1m9veWfu82bNmjH3ea7+IVDu0AUIZIZOnN0H0OrkmoRZq0Tme9LcJnvttZcN6mqSaRICCOSOwODBg21d5nel29w506JLqoUyDj/8cNsLafr06UVvzLsIIJBzAnpQo57XBx10kNEDnKgnZ7GQZ5991tepykhWMsvnh1y+8NgJAY8CWuhG95UdOnTwuKcxo0aNsvtqzu9cT45D7969fZ/KJZdcYj1yYdV23yfJjgikIUAgMw28XN/1+eeftxVkixYtjBbIIBm70JGG2R966KF5O8yevwMEck3gnXfesT0x9b1l+KAxX3zxhZ0Xrm7dumbDhg259nFSXgQQSCGgKTM055yGbH766acptorWyytXrjRVqlSxQy391mfOtCN777230UgkEgIIBC+g+bk1wk/z9nr9rs6fP9/OqdmwYUOjOb9zPem++thjj7X32Zriwk/asmWL2XfffU3p0qXNnDlz/GTBPghEWoBAZqQ/3tQn98MPP9i5h9Q4/O6771JvmIfvOD27hg4dmodnzykjkFsC9KRO/nlppV71itDKvSQEEIiGgBa/0Pf65ptvjsYJuTyLe+65x563RhH5Tc5CcD179vSbBfshgEAKAbXFGjRoYINus2fPTrFV8pfVa/rAAw+0vaa97ps8x+x4dcmSJTawKxcFJf0kBTAVyFRA028efo7LPgjkggCBzFz4lEIoY7t27WyjcNKkSSHknttZ/v7773bhI/XMnDlzZm6fDKVHIOICzG2b/AP++++/jTPh/BNPPJF8I15FAIGcEXjhhRdsu6158+Z5N4pG9dkJJ5xgz9/vlBnqIeXkoRFJJAQQCE6gS5cu9vs5evRoz5kOGjTI7qu5f6OWbrzxRntu6cxnrKHleoCloeYkBBD4nwCBzP9Z5M1v9957r60QO3XqlDfn7PVENQxJwyMYhuRVju0RyJyA5kxT4+7EE080utElFRRYvXq1qVatml31V8MzSQggkJsCa9euNbVq1TKVK1c23377bW6eRJql/vLLL+2UGWqX+R16qhFIO++8sx2RJFMSAgikLzBhwgTbFmvbtq3ntljUpwbSvOWNGze2vU0/+ugjX9haBOnoo4+2xq+88oqvPNgJgSgKEMiM4qdaxDl99dVXpmLFima33XYz69atK2JL3nKGIfXq1QsMBBDIMoE1a9aY6tWr25vSFStWZFnpsqc4Tz/9tG38nnzyyZ5vMLLnLCgJAvktcPrpp9vv8YMPPpjXEOrtpYdXl156qW+Hhx9+2OahHmQkBBBIT2Dp0qVmp512sit0//TTT54yy5epgTR3qLNAm9953JctW2bv33fffXfm+fX0V8bGURYgkBnlTzfh3PREp1mzZrYB9+qrrya8y38TBeKHIU2dOjXxbf6PAAIlKKAn/7qhffTRR0uwFLlx6O7du1urO++8MzcKTCkRQCAmMHHiRPv9PfPMM2Ov5esvasc2bdrULu6Wzlx6zrQbGq5PQgABfwLqbXjkkUeaHXbYwbzxxhueM9Gct2rH3XrrrZ73zbUdhgwZYs/12muv9V3022+/3eZx8cUX+86DHRGIkgCBzCh9msWcyw033GArQObYKAYq7u3ly5fb1TJr1qxpGIYUB8OvCJSgwPjx421d1rlz5xIsRe4c+ueffzZ77LGHKV++vFm8eHHuFJySIpDnAl9//bWpVKmSqV27tvHa2ymqdJr6p0yZMmb//fc3WiTET1LbTq5169Y1qh9JCCDgXeC6666zbbF+/fp53nnKlCl23xYtWuTFnL+//fab2WeffUzZsmXNwoULPXtpB3WwOeqoo2zg+L333vOVBzshECUBAplR+jSLOJGZxAAAACAASURBVJePP/7YNvxY9awIpBRvPfTQQ/Zie9ppp6XYgpcRQCBTAponzRnGtH79+kwdNueP89Zbb9nG72GHHWb8Dm3KeQROAIEcElDvw2OOOca2P1566aUcKnn4RR0+fLh1GTFihO+DjR071uZx4YUX+s6DHRHIV4G5c+fa1bQbNWpktm7d6onhhx9+MOogUqVKFaN5a/MlKfio3qsKRioo6ScpCKpgqO7nFRwlIZDPAgQy8+DT1wVGT65Lly5t/E40nAdMRZ5ix44dbYP3vvvuK3I73kQAgfAE4ocxvf766+EdKKI5X3755bYeGzZsWETPkNNCIDoCN910k/2+XnTRRdE5qYDORD0x1a5Vz0z10PSTFEhQoFiBBT3oISGAgDsB3Vfut99+9r5yzpw57naK20odQzSkXPPV5lvSqEidu4aJ+00anq48hg4d6jcL9kMgEgIEMiPxMRZ9Ev3797cV3jXXXFP0hrybUkBDunbddVc7FEkTLpMQQCDzAk7jzc8wpsyXNvuOqJv/Aw880E46P2vWrOwrICVCAAErMG/ePBuka9iwoe8VuqNOqTqsVKlS5vDDDzfqveonaaqNcuXKmQYNGnjuVebneOyDQBQEBgwYYO8rR44c6fl07r//frtvvs75u2nTJjvVj0YWffPNN579tING1Rx88ME2kKyFhEgI5KsAgcyIf/KafFlPm4844gij3kwk/wIvv/yyvfjqCb7fRrP/o7MnAvktoKf+6lXuZxhTfssVPPv58+fbYUm6cd+8eXPBN/kfAgiUuICGCx5wwAH2gcMHH3xQ4uXJ5gI4D+rHjBnju5jO/PGDBg3ynQc7IpAvAtOnT/d9X6nAXeXKlfN+zl/nfvKkk07y/WejNrFWQj/00EO5v/etyI65LkAgM9c/wSLKv2HDBjuRuZ76LF26tIgtecutQJ8+fWwwU0O+SAggkBmBLVu22PmAFMjUvEyk9AT+9a9/2Xqsd+/e6WXE3gggELjApZdear+f6cz/GHihsjTDX3/91ey1116mQoUK5osvvvBVSvVuaty4sQ0K+Bkm6+ug7IRADgps3LjR7L777r6+b+pM48z5++KLL+bg2Qdb5O7du9t6Pp0pywYOHMg9abAfC7nlmACBzBz7wLwUt0uXLraC+/e//+1lN7YtQkCNZq06p3mZNPSLhAAC4Qv07dvX1mVaIZOUvoDmhjvuuOOs6bRp09LPkBwQQCAQgTfffNP2dtJwaUbRuCONN/O7kJkWxFTvJg3X9JuHu9KyFQK5K9CtWzfbbrjrrrs8n4Tmc9S8jhdffLHnfaO4w7p162zP1EqVKpmvv/7a1ynqIb9G12h6DL8PcnwdmJ0QyBIBAplZ8kEEXYzHH3/cXjDatGkTdNZ5n9+HH35oG7wa+sWKcXn/5wBAyAKvvvqqrcu0yiNTOgSH7QzxqlWrlvnxxx+Dy5icEEDAl0B8b6clS5b4yiNfd7rsssvsdSKdXqxXXHGFzYMHZvn6V8R5FyXw1FNP2e/HKaecYv7++++iNi30ntpxmuZMPZ+5b/ofjzPEPJ0py7RQmQLExx57rOfP5X8l4TcEclOAQGZufm5FlnrlypWmatWqplq1aub7778vclve9Cdw9dVX2wuHhoCREEAgHIH169eb3XbbzVSsWNF8+eWX4Rwkj3N94IEHbD3WoUOHPFbg1BHIDoFzzjnHfh/HjRuXHQXKoVIoOOIsZDZ79mxfJddKzBpxU7ZsWbNo0SJfebATAlEUWL16tb2n3GWXXcyqVas8naL2rVmzpl0slWnOCtM5U5bdeOONhd90+YqmCVIw009PWZeHYDMEslKAQGZWfiz+C6WnZJo8WBXaM8884z8j9ixSQEO+NPRLTxg1rImEAALBC3Tq1MnWZffcc0/wmZOjFTjjjDOssVYSJSGAQMkITJ482X4PW7VqRa8anx/Bp59+aoOQ9evX972Q2TvvvGPbdc2aNTOagoOEAALGaHSf7iufeOIJTxwaRXPCCSfYfR977DFP++bLxvFTlmmKCz/p559/NnXq1LHB4u+++85PFuyDQE4KEMjMyY8tdaHvuOMOe8E499xzU2/EO4EIaD4STTCvia81JIyEAALBCTzyyCO2Ljv11FODy5ScCgloWHnt2rVtA9jvPE2FMuUFBBBwLaAeTurppFE06r1E8i8wevRoe9244IILfGeiOfwUtFF7moRAvguMHz/efh+07oLX5Ixe69mzp9dd82r7jz76yGgxy/3228+oZ7if9MILL9jPiSnl/OixT64KEMjM1U8uSbk1FKZ8+fJmzz33NHo6QwpfQN341eDVkDASAggEI6AnyjvvvLOpUaOGWbNmTTCZkktKAa0gqnpMcyzRCyklE28gELiARtGcfPLJ9vunOehI6Qmo/jr++OOt59SpU31ltmnTJrPHHnuYnXbayWguYRIC+SqgKX30PVBvvw0bNnhi0Gi1UqVKGa0noEVpSEULXHvttbbe6tevX9EbFvFu586dbR6TJk0qYiveQiA6AgQyI/JZapXFJk2a2CExb7/9dkTOKvtPQzchrVu3thcODQ0jIYBAegL6TrVo0cJ+p55//vn0MmNv1wIXXnihNR81apTrfdgQAQTSExg7dqz93mk1YFIwAsuXLzdVqlSx8/L98MMPvjJ1FuHQVE0kBPJRQA8FNMWCHnK+9tprngj0vdt1111tEHThwoWe9s3XjTVlmRa1lLcWR/KT1q5da6pXr2579+t3EgJRFyCQGZFP+KqrrrKV38CBAyNyRrlzGulMgp07Z0lJEciMwK233mrrsvPPPz8zB+QoVkDzNDVo0MCUKVPGzJ8/HxUEEAhZYPHixXZ6GvX+Y3qaYLHVI0kBgXbt2vnOuHv37jYPTXNCQiDfBLTomL5DmmrBS1IA1OllrgUFSe4F1ANWi1tqkct169a53zFuy0cffdR+bl27do17lV8RiKYAgcwIfK7vv/++2XHHHc1BBx1ktm3bFoEzyr1TePrpp+2FQxdv9SgjIYCAd4HPP//clCtXztSrV8/88ssv3jNgj7QEtNqvriVa/VerAJMQQCAcAY2iadq0qR1FM2PGjHAOkue5OovF3Xvvvb4k1KOpatWqdg5hpmvyRchOOSqgeXvVq1kBNa9tsRtuuMHeD7FWg78PX/WVAsgdO3b0l4ExRovGKQ+uLb4J2TFHBAhk5sgHlaqYmzdvNlqhsWzZskYrNpJKTsB5eq+hYiQEEPAm8Pvvv5vGjRvbOZXeffddbzuzdWACw4cPtw3gyy67LLA8yQgBBAoK8D0r6BHG/9avX2/n9lMPJ/V08pOcedAHDBjgZ3f2QSAnBRREUyBMnTS8JLXd9DC0UaNGRvenJH8C7du3t/4PPfSQrwyWLl1q4wL777+/0UMzEgJRFSCQmeOfrFZm1MXm5ptvzvEzyf3i64m9hohpJXMNGSMhgIB7gSFDhti67IorrnC/E1sGLkBPscBJyRCBAgL0fC7AEep/Xn/9ddvr9cgjjzSag85r+vPPP+388wrOLFiwwOvubI9AzglMmzbNtsW8Tsvw008/mbp169pFZ+lYk97HrjlGa9asaSpXrux7wTFnyrnRo0enVxj2RiCLBQhkZvGHU1zRXnjhBXuxad68OSvNFoeVofffeust22jWkDGegmUIncPkvMB7771ne2IecsghRj0zSSUrwNx9JevP0aMr4MxFq1E0zEWbmc+5f//+tq08cuRIXwf84IMPbLvu2GOPZeogX4LslCsCqp/23HNPu0iPFs1ymzSl1qmnnmq/Z+PHj3e7G9sVIeDc4x933HG+7vG1Urw+S/VIX7lyZRFH4i0EcleAQGaOfnY//vijqVWrVlpPa3L01LO+2Jdffrm9mI8YMSLry0oBEShpgU2bNpm9997bzo352WeflXRxOP5/BZzVlDVlBgkBBIIRuOiii2z7YNSoUcFkSC7FCmzdutVoiGXp0qXNhx9+WOz2yTbo1auX/dz8DvVMlievIZBtAlowVqP8xowZ46lo2l77nX322Z72Y+OiBXr37p3W9eK5557jcymamHdzXIBAZo5+gB06dLCVEyvCZd8HqEUytFiGhiLpST4JAQRSC/Ts2dPWZbfcckvqjXgn4wLqYeGsPPrUU09l/PgcEIGoCbz00ku2rlPPPq3sS8qcwLx580yZMmVMw4YNjXqdeU0aNrvLLrvYDgSsMO9Vj+1zQUDfEd23aK5yL9MwaKoMPSTQeg1eFwbKBZeSLKPmGW3QoIGtu/T5+Elt2rSx153p06f72Z19EMhqAQKZWf3xJC/c/fffbyulM844I/kGvFriAhoypqFjfhvNJX4CFACBDAhMmTLF1mUtWrTgxj4D3l4PoZVLdfNerVo1s3r1aq+7sz0CCPxXQIGw2rVrM4qmBP8i1AtWvcb89jLXkFnt369fvxI8Cw6NQPACerBy+OGH2yl+vPRaVr2m4cu63/n444+DLxg52g4x6Syg9NVXX9kRT1qAiamb+IOKmgCBzBz7RL/++mtTqVIl2yDW8HJS9go4jWYNJSMhgEBBAWcy8ypVqpjvvvuu4Jv8L2sEnnjiCXvz3qpVK+aHy5pPhYLkmsCZZ55pv0d6EE0qGQEFa1SPKRjpZx4/J9ijoILf3lElc+YcFYGiBZypZPr27Vv0hnHvaiGsli1b2u/T3XffHfcOvwYtcMMNN1jnzp07+8p6+PDhdn+mNPHFx05ZLEAgM4s/nMSiqRGlIUlqhL344ouJb/P/LBOI/7w0pIyEAAL/E2jfvr2tyyZNmvS/F/ktKwW6du1qP6u77rorK8tHoRDIZoEHH3zQfn80JRCpZAXUg2yPPfawPcjmzJnjuTDap1SpUqZZs2Y82PGsxw7ZKKCRF1ode7fddvM0NNxZD0DTA5HCFYhfTOnOO+/0fDDNE1yvXj27iBMdBzzzsUMWCxDIzOIPJ7FoTg+/Cy+8MPEt/p+lAt98841tIGhImRrQJAQQMGbChAn2xr5Tp05w5IDAhg0bzO67724qVKhgvvjiixwoMUVEIDsEvv32W9sG0OKMjKLJjs9Ec5drvsy99trLrF+/3nOh1AZXhwJ613qmY4csFHB6iz/99NOuS/f444/b78ARRxxhtm3b5no/NvQvoLpKdZbqrlmzZnnOaOrUqfYz69ixo+d92QGBbBUgkJmtn0xCuTTnoiovTfrrZ6LyhOz4bwYFnDlN1VggIZDvAsuWLTMVK1a0T//XrVuX7xw5c/6aKH6HHXaw82h5WQggZ06QgiIQsIBGZTRv3tzePE6bNi3g3MkuHYFx48bZz6Vt27aee1bqulW9enVTo0YNX4HQdMrNvggEKfDCCy/Y70G7du1cZ6v7UT3U1MOZlStXut6PDdMXmDt3rp3vsm7dur4ejOlz1kOYV199Nf3CkAMCWSBAIDMLPoTiihC/CrZWhyPlnoCzyryGmJEQyFcBzal09NFH05DK0T+AAQMG2M/u6quvztEzoNgIZE7g5ptvtt+X3r17Z+6gHMm1QJcuXeznc/3117vex9nwvvvus/v26dPHeYmfCOSUgDrFaKGenXbaySxfvtxV2RXE1xBlrVL+zjvvuNqHjYIVuOeee2zdc/LJJ3teJFPrbJQvX94uREtP2mA/F3IrGQECmSXj7umol112ma20NFkvKTcFNKRMTy81D42GmpEQyEcBZ8LySy65JB9PP+fPWQ/V9t9/f6PFLrysbJrzJ84JIOBR4NNPP7XzMGoUzebNmz3uzeaZENDnovpMc16+8cYbng6pOeuOOuoou696SZEQyDWBkSNH2nvLMWPGuCq6HkQreKYefX7maXR1EDZyJXDeeefZz2HEiBGuto/fyPnc1R4nIZDrAgQys/wTnDFjhh3O17RpU7N9+/YsLy3FK0pAQ8vUANBQMw05IyGQTwIff/yxnR5j3333NVu2bMmnU4/UuX7yySf2c9xnn32Y5iRSnywnE5SAerocdNBBNuDvZy6zoMpBPsULLF682FSqVMkOE/c6TFbXNAVBNU8gbbrirdkiewQ0Z786Vqh35e+//+6qYFdccYW9h1EQjVSyAmpD6xqj6X5efvllT4XRA+n69evb6QHoWOOJjo2zUIBAZhZ+KE6RNm7caFdX1FwkamyRcl9AQ8wUzNSQMxIC+SKgFRPV80XDkT766KN8Oe3InueNN95o6zGGVUb2I+bE0hAYOHCg/X4MGzYsjVzYNVMCkydPtp+XViL32mFAowvUpps4cWKmistxEChSQKuQv/XWW0Vu44z0mzRpUpHbOW8+9dRT9u+8SZMmRu05UskLLF261FSpUsVUq1bN9dQATqlfeukl+3lq2jMSArksQCAziz+9bt262Ypm7NixWVxKiuZFQEOZ9CSsbNmyRkPPSAjkg0D//v1tXfb/7Z0HuCxFlYB3UQRxkSRBMgqSQXKGlShIhiVnkJzhiWTJCg/JGQQkKkEkP3IOKjmDPJLkKEHE1e39/tqtoW/fnpnunpl7Z+789X3zTU9Px7+rT506dc4pQlosvU+AELPFF188PNN63gB4KBl+1vvP2jsoRwADAl4y888/f2mjWLkzuXU7Cey8885BnpEHuEz54IMPgiHh29/+th7qZcC5bccI4ASDcf3666/PPccrr7wSJozBo6+IJ/Hjjz8eJmhkgquiuTRzT+zKthO4/PLLw7NecMEFS88ev+qqq4Z9b7/99rZflweUwFAR0JA5VKRLnufSSy8NAmaFFVYoPaNiyVO5+RATINSMHHMoESZbHmL4nm7ICZB7jI79wgsvnDjb9ZDj79gJmX2ekMypppoqIUwtW2JC+ux6f0tgpBL46KOPwuQZTKZgFE1vPWXCa8l5iQEI/btMGT16dNjvkEMOKbOb20qgYwSox+OOO25yxRVXDDrHlltuGerrVVddNei/7AoM9eT5pc9yyy23ZP/2dxcQ2GOPPcLz3H777UtdzTPPPBOeK0ZQcv5aJNCLBDRkduFTe/3115NJJpkkfAgRsIw8Avvuu29oeAhBs0hgpBJACZ5mmmnCrJiEwVhGFoE4c+9aa6014MZQipkNlc7U2LFjB/znDwmMVAKbbLJJqPN6IvfmE3711VdDrkwGaOjkFy0MSJNrkP3eeuutoru5nQQ6RoA+JO0vqckuvPDC2nkYYMEoudhii9XWsUC02Pvvvz9gHd6aK6+8cjjOMcccM+A/f3QPARwEllhiifCcLrjgglIXtu2224b9Lr744lL7ubEEuoWAhsxueRL/fx10AFdcccUgWMqOCnfZrXg5DQiQh4lcM3iqNctl0+Aw/iWBriaw/vrrB1l2yimndPV1enHVCay22mrhGZ977rm1g1x22WWhUz/BBBMkZ5xxRm29CxIYqQR++9vfhveAWX31bundpzxmzJgwgQ85nRmIy5aTTz45uyr8vuiii8LzL+sVlXswV0qgRQJ4UWLIjMZMBh0pa6+9dlh34403JkTL7L333rVtMGamCzl+2X+DDTZIr3a5CwngADXFFFMEp4G8tGV33313brv05ptvBl1tpplmKjzpUxfevpfUxwQ0ZHbZwz/xxBNDw7Hhhht22ZV5Oe0m8NRTTyWEoOG5REiaRQIjiUDs2P3whz8cSbflvWQIvP3228nkk08eks4zAyZGHPIAx06Uzz8DzJ8jjgCdSCZcwAvKKJref7xHHnlkkF9LLbXUgPQ/GHqQa8xWni3IvQUWWCBMaPfss89m//a3BIaUAB6XsQ3mm0HFjTfeOKzDc5iwcyaKGWecccK6m2++ecD1EZKOo8U888yTMEO2pfsJ4BTDhJpTTz11Qh7UdCFqZqeddkqvqi2Tu546cuyxx9bWuSCBXiGgIbOLnhShLIQBTDvttAnJmi0jn8Bxxx0XGhBC0iwSGCkEXnvttWTiiSdOSA7/xhtvjJTb8j7qECDXForw0ksvnVx55ZVhhD92or7xjW8UmlCgzqFdLYGuJ7DSSiuF+m94Xtc/qsIXiGclMmzdddetyS90dNZNN910uTM3Y0jg/zXXXLPwedxQAp0gsM4664S6GNthvqPRMr0OA+duu+024BLw6MPYyeDMiy++OOA/f3Q3gfPOOy8896xH+fe+972w/rHHHht0AwzQkOuc563tYRAeV3Q5AQ2ZXfKACDVmNJcRMBMqd8lDGYLLYBR/ueWWCw0MoWkWCfQ6gXSdZkZFS38Q2GqrrYIc+9a3vhW+Y2dpwgknzPVg6g8q3uVIJ0CoMXXd8MuR9aT/+c9/JmussUZ4trvssku4ObzWJppoouBwsM022+Te8CqrrBL2IZTTIoHhIhAngIntcL3vbEgxHuXkNcdjM+ulOVz34nnLETj88MODDFpyySWTzz//POw888wzh3Xk8s2bZPb0008P/48aNarcydxaAsNMQEPmMD+AePoDDjggCJHsyFj83++RSyB6rzEaRoiaRQK9TCB6GW+66aa9fBteew4BjNR0dB588MHk97//fcLM5OTRwojDrPRMIpDtMH3ta19LjjjiiJyjuUoCvU2AEGI8moiiycun2Nt359X/7W9/C5OiINN+8YtfJOQBxsOc3zz3G264YRCkJ598MsjBRRdddNB/rpDAUBEYPXp0MEZm2+P0byIA0x56H3/8cTLvvPOG+n3OOecM1aV6ng4Q2GGHHcJzJCcqkzYxoMyz55nvuOOOg87IwM1ss82WjDfeeMnLL7886H9XSKBbCWjI7IInc//99wfFZ4455qiNnnTBZXkJQ0gg5hMkRM0igV4lkM77+te//rVXb8PrbkCAiZtiZwilOC43+l5wwQUbHNG/JNB7BJgpdqGFFgpRNHou9d7zK3rF7733XjLrrLOG50y4bjo8l5yo/J8tW2+9dZCLTHpmkcBwEGD2asLD67XLGOIPPfTQ2qUhz8hnzfb7779/bb0LvUkA4yUpLniepMlIyy30tltvvXXQjTE4zfamOhuExhVdTEBD5jA/nE8//TSZZZZZwsjZQw89NMxX4+mHk4AzPA8nfc/dKgHSY8w///yhw3f77be3ejj372ICGKyZFbWoIROvTLybLBIYKQQOOuig0OmLYccj5b68j8EEmMSMHHKkfkobhgi/zZvMjMgaDEWEc9IuWiQw1ATGjBkT0iCk62tcxqiF5yXGrli22267ULeZaJbIC0vvE0DnWnzxxcNzRVbF5883+evz8mGS5xw59/DDD/c+AO+gLwhoyBzmxxwbD3JaWPqbAKFpzDaHAvzcc8/1NwzvvucIEGKMgrTnnnv23LV7weUJfPHFFyFECXmVVpDzlpkd9aabbip/EveQQBcSeOCBB8LssEyooIG+Cx9QBy6Jjn1e6gzk369+9atBZ4zpok488cRB/7lCAp0m8Mgjj4RZyfPaY+psehIf0iaw3VJLLZWbP7HT1+rxO0fg/fffT6affvpBOhqDy6uvvvqgE5M2CEMmczdYJNALBDRkDuNTuu6664JwYcSE/BQWCTCKSiNCvjlCPSwS6AUC9957b+jkzTXXXCrCvfDA2niNGCgJscyO+Kc7UHiAmP+5jdA91LAR+Oyzz2pRNH/605+G7To88dARwAN9rbXWyjVkIufImzl27NgBF0S+wSmmmCJh8jPTrAxA448hIPDGG2/kRkxQV0899dTaFTDJKH0OZrXG6GUZWQQwaH//+98fZMhEbmHQJgVBtqy33nph+7wcwNlt/S2B4SagIXOYnsC7774bQlXIYfLnP/95mK7C03YjgZ133jk0IgcffHA3Xp7XJIEBBD755JMQZswI76OPPjrgP3/0BwHyxK244oq1iTDSRsy4/J3vfKc/YHiXI5oA+cao04cddtiIvk9vLgnhlcg1Umikc8xFmRa/+Q9jQTpUF34xn/C+++4rTgkMKQEcIbJ19qtf/WqyzDLL1K7jvvvuS8Yff/xgbLcfWsMyIhZ4tnjYIrswVEdZlf3GsP3qq68OuGe8ddHn55577kEybcCG/pBAFxDQkDlMD4HRXQTKmWeeOUxX4Gm7lQChasweh9KBm79FAt1MYJtttgmy7Oc//3k3X6bXNgQETj/99DDKn6c4MxvmO++8MwRX4Skk0BkC119/fZB1iy22mFE0nUHcFUe94447kiWXXLKpESBtFMC76ZBDDhlw/RiT8HTDmPDWW28N+M8fEug0Aepkuo4yc/Wbb74ZTovhEm9hDJkYvSwjgwCT+DC5YvbZp+tBepl0GWyfHYTZfffdQ90577zzRgYY72LEEtCQOQyP9txzzw0CYrXVVhuGs3vKXiBAyBqhmijBhLJZJNCNBK6++uogyxj5zSpC3Xi9XlPnCTz//PNhICarSNOJuuSSSzp/AZ5BAh0ggNcxE77gwdKq9xL5ZS3dSeDss8+uGX/wSkp3+pstY7DMTtp50UUXhWPss88+3XnDXtWIJTDNNNPU6i/tMWHkFELI6Vsw4BjXjVgIfXJjL7/8chh8aSaj8v6nbhx55JEDSNHeETFKPVG3H4DGH11GQEPmED8QZj9k4oPJJ588efvtt1s6+4UXXtjS/u7c3QQOPfTQoITssMMO3X2hXl1fEsC7jhxgGKiQa60UlCjzBLdCsLv2ZaZeJn2iY59WnJkR1SKBXiSw9tprh7p8xhlntHT5v/nNb5KTTz65pWO4c2cJMGszk/swCef8888fwizR2/M8zdPyjeXppptuwARQtGuk1WD/jz76qLMX7tElkCIQcyMSDUEUIOXvf/97CDmmrjLJT9GCMeuII44ournbDQMBcvH+7ne/S7bYYougm6N/ZXWwrLyKv9nuscceG3DV6HD8f9lllw1Y7w8JdBMBDZlD+DRoCJZeeukgGK666qrKZyb0mFnIZpxxxsrHcMfuJ4ACvOiii4b6YtLl7n9e/XaFa6yxRqibeTO2FmWBLJtzzjnDcYru43a9Q+DOO+8M4WvRs2myySbrnYv3SiXw/wQIr6NDt+qqq7bESNKppQAAIABJREFUZP/99w/HsWPYEsYh3/nTTz9NrrnmmuTHP/5x8u1vfzsYB7Ie59EgQKju1ltvPeAaSbnB/xqCBmDxR4cJ/PCHPwz1jnb3ww8/TDDQM5hIXdxuu+0Kn5086NR79rP0DgEiB8jT+4Mf/CCkEGAwhVDyKKuy39gUMHTH8pe//CUM4jCYY5FAtxJQKrXpyWCkfOGFF0JYyeOPP56g+GQLo18Ijq222ir7V+Hfr7/+ejL77LOH4+ipVxhbz25InSKUDSUCV/9sIZwAzwEmWfnggw+yf/tbAqUJoPDedtttYRT2iiuuSP74xz8m2VDIGH4XR/lLnyRJkrQsIx+ZZWQSoD6RRiV2/J977rlBN0p7ec8994Q6h5GHZVNqDMLkijYSYKCQHNR4R+66664Jk/iMGjUqzOKaDh2njY1RNFXzHDJgE98BJuCgXbf0LgHqBMbJFVZYIRg1iUogp3k0DCDryKcaC8YBdDgisf7whz8ktJ977LFHMCbxzW/6DRYJFCVAf+Dmm28OoeHoaaQ0IBIiXeLs02xH2W233UIdxcBZNAKGuj7TTDOF/Ri8tvQmAfL13nXXXQkpLggXZ3AZuRVlFt94ZWbtCjEH/pgxY5KPP/44HAMd7fLLL0/uv//+Ad7nvUnGq+51AhoyW3iCdO4J715uueVCLom0QCAEZY455kgOOOCAhFENXLYRHISYMLpVpZA3cdJJJw0KE8Ytcm1aRj6BOJq/zjrrhFwl1157bbL66qsnk0wyyYBGiPpH/WLW82eeeWbkg/EO20YABeWkk06qeUemZRnL5GtF+aXu0cknd86UU06ZvPvuu5WuIcoyRoeRleYPq4Sxp3aKXm1xUijazwsuuCB4nWdnV6XOsY5JVWhjs4b0nrpxL7arCGAgpw4S1ZKVc+nfDK7QYYtRNITsVSlxwAZPPY6PwauoEaHK+dxnaAnwLJksBW9bdH70/BiCHgef2Qb9LV2/8pbnmmuuMAGo9WNon2GvnI1BwWOPPTaZddZZc+sSIeT0DW666aZwS0zY8p//+Z9hmUEa6twiiywSDFJF7pkBxYkmmii0xcitbB7FIsdwm+4kgGy69NJLkw022CCZeOKJg8NMjJxJt3VPPvlkkGcYPaNcS8sudPhlllkmIWUKxlKLBIaagIbMisQJ9Y2JlOlwsbzQQgsFpXeJJZZIZpllliAYeOF50ZkdDiFAw1ClIHCiRwvHxEPggQceqHIo9+lBAj/60Y+CEjLttNPWFBgMSfPNN1+oc3S68NSlXsRGZrPNNgvhJD14u17yEBIgzQW5Lqk3KMKzzTZbsuyyyyaMvqMUI89mmGGGWr2Ko7gYNauUrCzDKGq+3yoke2+fsWPHJsccc0wYyccrILaPM888c1CGqXN8UIxZFw2cdNzwnrNIoBUC6F/f/e53Q71DnyJ1C15LDP5FDzlkHgapWPeoo+uvv36l06YHbGK7jAHVMnIJYGzCW2nxxRcPderZZ58NfQOeP8YgdDbyre64447hf775zXoGDNlu4YUXTtjPIoFIgInycGShfjAogoxafvnlkzXXXDN4ezPoR37WKGdwsEHXwhs8prRYYIEFCudpJWVQOr8ifYvf//738XL8HmEEnnrqqWT06NFhIIa2kQi/22+/PaSwo05hx8CugWE86mlM8onzTGwr55577uSRRx4ZYWS8nW4noCGzwhOKI1uMXtDh2muvvZKDDz540OfAAw9M1l133ZqRgLCSN998s/QZ99tvvwFGTIQKCk8nE4d//vnnCZN5vPjii0Ew4ZJ+3XXXhVEXjA6//vWvk/PPPz94hZ5zzjnJWWedFUaS8R489dRTQ7gWHl4nnHBCctxxx4VRRITk0UcfHbwhGNkjX9Bhhx2WMKkNvxlpJMyLY3F8RngwsmA0JtT13nvvTegYPPHEEwkz477yyisJoV4ojjTWI3lmtZiWAGM4Su4uu+wyqL5RBw866KBkk002qRmeMLAzomaRQB6Bn/70p0HxxYC54oorJvzOk2Wso87R2UL+0CGLo/55x623DlmWVo45FgpydqbXevsXXU8uKLxM8YbHOxkj2C233BISoSO3kDNHHXVUcsghhyQ/+9nPwnuD9zzXt++++wYPUeQ8sp2E53g2EH6KwWOnnXYK4TfkmCJnGqE3pAshwfrmm28elgnPYR88TXknkXXIP2TimWeeGWQnnQxGvglBvPXWW8MgF2H8hBgSfk1IF+0FCiVeZNzTSCjIdxRfPgzA7L333nXrHPzZJm5PW2ORQBUC6BLILTpk5Ayjc19P1rEewyaDOsgojI+8j2UKhof04DPH4bPSSiuVOcygbfF6YdZhrgdZgV6EjsTsw7wf6FvoVLxXyKiNNtoo5PZkcAp9FQ9T3ikMbRhy8dBiEB4jB/KdCULmmWeeBO9AjCUMkDKQQCeWwQU6ruRSgwkf1pHnmDxqGFPo6HKPGIT/67/+K+gj5IyMhrvYxjTS+W688cbg5fj000+HFCS9mmYCeY5HG88dxrQHjeoc/7Md27Mf+q6lvwnQ7qN3UCfQnVZZZZWgo9SrR+gnGJTYnkFn3j2W55133iA3mtGkH4Wul5VdDDjT72pn4VxMUIOexruOnkYY/JVXXhl0JPQl9bR2Ei92LFJh0Den3tBeItPRh+vVOdpK2hL6p7Sx6LYWCQwVAQ2ZJUnzwvJyk++mnjEp+7LTQUZpZD8UwqKzlafzKrFv+oOS06xg4GN0BAUeAyNGRIyrdLDpeKNkonBybTR8eF0x4hdHhdPn65VlhChh99wHzwjlG8WQkUtCe2jUMUyg6GNkJdwRPow8kWsSjyE6Cd0U2oNhGP48c4wm2fqV9xvjCaHANCwY0Blts0ggTSCO0vOekDsprx7lraNjjOETrwDemyIFWcZEGVnlmHrNO9uoo4pBkg771VdfHQyBGBrpFG+66aZhZJgOOu84snXqqacOYe/U+16RWUWvE2MeMgA5jaEBgwR59xi4oKPD88TbEUMpg0DkNMJrH88eDKI8g+EueHlEWYaRJa9+5a3bdttta97myGyLBMoQYCAUOYMhgMGHvDpWb12cMAPjXZE81BgekFHZARvqPXKJ9zRb0DcwTN5xxx2hA88ACzoaXlUYFvEipR2P4elFZUZ6O64H3QiDBINHhBOiJzERCMcmwoO2ABlK5AdGSu6Z/HicH10KGYthEwMnhk4+eFYjk9iX43EOWKfP3Y5l9FKulWvBaIoxmhzNDCDF9uuXv/xlgowhZyADVxgCyUfKoHw2f2D2GbT7N4NRyGtYEL5Zr37lrWd7DAjsn5dTuN3X6vG6lwD9TN4f3kn6Lnn1JW8dnubxPeQdLpIGCF0LfaqentaoX4RBkhRqeG2eeOKJYVAcPQ39BA8+3tcFF1wwyBBkBXJopOppyFZkIsZj9DQGddBX0dOwB6CnMaDL4BMOARhw0dNwzElPtjNctRIDMnUOec4zzKtfeetos5D/6Kp4pVskMBQENGSWoEznkJcbL7dmI6t5LzkNBPszotasZPMqsV/6gyJHjgsUNQQG3ow0eAhMOrkoQOnt6y2jLCF0CUlAOWVUhQTmhLqgIHJMFG9ySjH7GZ6SF198cRhxQQiTQwqlEc8iGjCMDYSc4mXEqDqdaUbY8DjC6IGijncnIV7kFSJZMEIcrwI6G3gWYFiENedC2OM9xf0xgg9XRvQxKCNgMUzSUGKU5d7pdNBgYpyFEco3YbMx90c9DnnraWh51nDheCuvvHKY8Q8mjBLi2cW9YSTEaNyJwoh+fEZRWc+rW/XW4RGMssA9dEMD2QlGHrM8AZQn6vxUU02V/OQnPymsqMR6hsJCxxKFtFnnHlmGZ1O9TjiyCgUYGYI3EQMthEvhHZSXBzb7rnJc3nE6uOyD4kgqBmbnxACGVx+GATq5yBNkC/Lp7rvvDrKHdww5GifNwmiK1zfvNd6cdCTxRCA3KAMdGBzwBn/ttdeCtxBGQhRQOsvIZAaqXn311dCBxhsab1NkHfIPmYicRHaSH5JJHpCrXBsyBe9QjCB0WPCsYOACBZhOCe0GcgjvJzo1yKcsi2a/kYMYLZCLdCqQl1tuuWWQ8VwHnhAYP7n+duc7giUGcIwoeLfGulT0G7mLhwnPu92eIeXfIPfoFQJ0sNFvkFfIg6L1Lb0dOhHvFrpGo9JowIb96eThtc1AI6lf8JCkwxsNDtn3l/cFHQT5yWANhk1kIzIB+YAuhF5ExxMDP+8vOgnvMB5OyCgid4YjWoVzwgPdCPmIzOS9RbYibxvpfBhCDj/88OAFhOEZ+UfEAN6jGFNpt/IMxVl+2d90zDG+ciyeA7IWduiw6KJcYzsMnhh8uFbOT1qCdF0qusx+7I9O3siA1Kg++l9vE6BeUgeQAdGTuWj9YTvkBP0HBiXyJqBN03nppZfCoAUyJ/ve8BtdD8cYZAz6Cm04BkqMdfQh8/ZJr+N9RU/DgzvqaQxuo6cxqIkHOXoaOiB6EXoa/UH6ivQRu1lPS/dD6Seip9Hn4rkh89MciizzDGAVHXE4Jjo3RlAcW+gjM2kY8r3dehp6MO0Rujf97DL1jW2JRsIQjq6GHmmRQKcJaMgsSJjOOkoQnagqL3cUBnHGcYx09QpKHueiAaon9OqNZLGeBgflh1FdDK6nnXZa6DzTkaZTjTKJYtnIC6retfXyesLlMTow8kXDiJEVgwIeTIyQ0UgwYkbjj6cTBhEaaToaNNSMMtV7HqynoSbsirAtFG8MMnjBEoqPkZbzMuJZtNARoDHkvGW9SGJ945vr4frwxrVIgI5a7NhT39N1pcwyyhX1CuNAvYLy2UyW1Xun8BCiM8i7hLEVQxvpLTB6YkxEJrdbiat3H926ng4uHuQYWOlkIONRchlkweMcz3MMuSjaDGpgkMEgghcVinI9AwrPhLaEbfAI41lzDGRIbE94thipi3ayyafEcTHglKln6W0xJHEMBqssEihCAGMVdQbjVboulVnG8Bhn7q2X57zZgA3XkP2gM2CkZECBWdMZzCAknYGPN954Y8SkkyjynKpswyRgDCCh0yKP8MJkYJ8Qewa/eW4MAGO0ZKCbtDwMAjWTe+S0xyGA55I2IDDYhu7IORuV6HnOYFGZepbdlnB/6gzHs/QXAQyP0QubvkS2bhT9zeAHdQhDYb3CoC4Dys36OFn5hY7AoEK2v8lAMQPCDAyopyVBT0VPI1UbhkL0NGQJg0/oaRhwGbxGxyJykAhCZEd0xGlkC+CZxfkSGMCnr4jcIwoTxyLsCbQlRQez0Pd4rlxL0TqW3Q6dnbqCzLVIoNMENGQWJIyhixcTr5jsS1vmN40JXjF41eSV7EQY2YYj/RvhhrESQxweVngO6XWXR7U96wgZw7sDpfnOO+8MHQ6UZQwFjCriXUHD08xTiv/ZDg9dRq/wCMBjlcYmXfDc4nljzClTx7LbYqDFEMun34zXaZ4u/x+Biy66KNQrDPXZulLmN8oSSiyjx3lhS/VyxKVlWFymY8n7wAg8Bv9uCIPuh/qCcsugFso1nvS0JXiFYpxmMIeONANjzRRpwlHJoxTlGQaFtDzDyMCzxhuqTB3L25bBHY7FNVsk0IgAg5eEI9NJxwifV5+KruOdoN7lTfxTdsAGmUm7bxkeAlm5h6c+xgQ8w4rKPeoVg8TUC7zIGBjHQ4qCMQAP4CrRDun6SF462kaOZ+kvAhiikDcMPqbrRNll5B51FQ+5Tz75ZBBEvB+LejdTF+kD298chLGjK5BX6FM4Il1zzTXJGWecEeoERkuMl3i4oos3MkSjw+Ehip6NNz+OATjYoP/Fwm/qHNGMZetZdnsipDgW/WWLBDpJQENmQbq8lAh7JoPIvrBlfyMkeMHTI/sYyfImwmC7Rh+uiQbP0l0E8LzEIEPDgEcmnpl48tIJwjOJ+pQXwoGxkYT5jIbhqcHIWJWQ8mydjKFx5557bneB8mqGnACKDAoPBvhsPSn7m9Ai5BOjyrE0yhHXSJYRjkKokYMxkWT3fON1iccZBhtG+WlzMGQT+k7HBu+lvNQBUZ4RDsqzb2WUP9ZNQuE5Fsq4RQKNCNDpo67gwRvrTyvfdAQxUKVlVJkBm7T8Q3djkNHSvQSQexgQ8GpKy72NN944dPbzcgnGUFJkYit1Le7Lcag36JOW/iGARx6ypkoas1h34jeexdShtGcvxjHSteTV4bScyi6zPQ407UjB0D9Pc2juFHnFxEmEnROZQxg6bQx6F1E1DCTn9TuJmlpiiSVC2D/PmwHpWHeqfiMjORYRERYJdJKAhswCdFFkeCGZEKfqS53eL4bHEUZEaZZXKduQZH/TsOCWjgHB0jsEUCTIu4eCzKzkhD8R9snIaXzGeDql607VZYyhHJMwKUv/EqDOIS8Ir6tal9L74WFOvYpeSsgyRojLKsexvmMMI50DuSYtvUWgmTzDcJOuO60scyy8ECwSaEQAb6TY7rVS3+K+MU0L4cXoW+StqyrruC721SjQ6Al293/UAXILkvJk9OjRwWBADkCeLYN8sd608k14Jscjp7KlPwjgSY4HHamqWqk7cV/yWVKHGHik4GjB4E5V2UX7i8MF+XctvUUAYydekhg6sUGQSo3ImzgAQ/RCrDetfNP24sFLpKJFAp0koCGzAF2UFBoBZvhu5cWO+xJuwvGYoAYvF5b54CXFhwaMD0Ig/WF0jg+h6ekP69jfCV0KPMwe2YQJkXimreZYinWOb5QWjESW/iVA+gnqFQbzdN1oZRnFh5yLaVlG+gQM8ukPk7w0+nAc/uf6+DDbrKX3CZDHtJ2dMuoq+QppG1HKLRKoR4B8Y8iSdkTSUO/IM8vx8EiOy/xmAIYP3i7xk9bRWI76W1qnY18+GBU0CtR7ir21PuZkJUy9lXY17htTGujZ1Fv1oJWrxQMYucDASawHrX5jfKQ/geE9yp2yeho6WlZPIw+mpfcJMCkb9YJ5PFqta3F/IhjoA1gk0EkCGjIL0GViHl5wFNf4grb6jTJLiCeu/sy+fcQRR4TZJxkhYYZwPPQIRyY3JyO95GJkpjg+5OM5/vjjQzgnszuSa4lt+BD6Z+l9Asw6Sp1rV0gc9ZWE0DQslv4lQMgJ9Yp8hq3KsLg/ORSpW3fccUeYbZI8v8w4yURal112WfgwAQMzcDLjJUnOGQ0mByzeyHwIASVHI4NGJIpnnbJsZNRTDDTUuXZFNFDvCJHimGUmTxsZNL2LMgRIe0A9ibKq1e+NNtooHI9UGuQWe/vtt8OHyV/IE4wnOZM6MMEFHUPqPh9ya1NXyVHHJB7kqsZ7nQ/eV4Sq49FsGVoCPA8irhiEIySTHJfMtItxhg+TymH4YTI1JuoggoYBNjyaGBQk3PuZZ54JM8QzS/xTTz0VJoykzhG222p9Y38m5ON4pCay9AcBcubzzFuZoCxb9wgfJjf/zTffnKunoaNV0dPMVT0y6iRyjzrXTucZ6hvHtEigkwSsYQXoEtLBy7j22mu3RTGhgcFDhZnJLL1PAI8jQvvxumBiHmbw45sZMvF8o2EgLyqhkCRtxyuSvEd07PnQKefDBFDUM0ZhMQKxjFt+ViGp+psZEJmt2tK/BFA6qVfkaa1aj7L7Ua8IVbeMDAIMqlFH8ODGQM2H2ct5zszmy8QBfOgYTTLJJLUP+TCjt0bas/bGG28MxyNiIFt3qv4mfzDXiBHIIoF6BIh6oZ7gzVa1rqX3QwfkeMw2a+l9AhigY/5ePGqReYRYpj94reV90tEG1Ak+OCHsv//+YRlPynTdqbrMhB4cm+Na+oMAk4nyzJlxvGq9ye5H20wbbOl9AjEPPXUEOdSqnkYUAQ4EHI8+arbuVP1NagRsHRYJdJKAhswCdGOYb7uMSjFfIYYtPJaefPLJ5IsvvihwJW7SrQTwwKARYHIevqt84oxz9913X/D24BgYOKs2Iun9Yr4SDFiW/iUQvePovKXrR9VlEomjqGDoOvTQQ8OIPl4pJoLv7TpG3qQqMizuQ50glBbPcgqKNobQqvUsux+GVDyBLRJoROBnP/tZqMdbbLFFW+re4osvHo7HZH3rrbdeOCbe548//rg6XKMH0cX/4RXLZChV8wUi89iXSAPKxRdfHOoIs59n5VaV3xyHczCplKU/COAdzDNv14RR5PLleERkHX744SEyBm9inDAsvUkAD/6YP5dnW+VDZCgpBx599NEQEcAADnWkipzK2wcjK30NiwQ6SUBDZgG6hJ9goEJ5zXtZy66LeZvSggeBwgu/5pprBu8BvEDpBOLubWNT4CF1wSYYo3l+VRRiGhO8MwlXi4UGBY+nsvUrb/uYZ8nwpEi3f7+ZjAAPE2adzqsrZdYxG2JajsVljFjk2sGDCWMn8uy2224LoXiGA/dG3Tv77LODkhufadHvPFnGBFC0oeSHLlO/8rYdNWpUqHMo8RYJNCJwww03hLqy9NJLt1zvqItTTTVVyGPOd/Z9wHhPKB2TvDBYTXog5B5hooQdM4hk6U4CGAV22mmn0robejsDNI899ljtxgg/p24QYZMnv8qui5E6hLZb+ocAMqZd+n+cYDYrs4gio36RNg198KKLLkpuv/32kDaBFBiW7idAmjl0ruyzbfabfYgaJBVKLLSTyLR2RDBEhy3qnkUCnSSgIbMgXbwx8ZjDEFRWEcluj0GUTh0j+WeddVY4JiPC008/fa5HH+fF4wmXb3I+MfMcHnannXZayDNHLjly/DjxQcGH2cHNcPlnJucyxkxGwTD4kCcrXWJIUTu8SQhxp2G76aab0qdwuQ8JREMQM41nZVPZ38gk6hW5LfFcP+OMM0InntxOhJvXU6YwpNLpR65uuOGGyV577RXyAON1Qq5NcpCRR84yvATIp4V8qvccs+uRewzUZWUZ7RzbrrDCCi3XOcLtOBb5pS0SaEQAz3C8gfEMYUClrHxLbx8HbTbbbLNwSnJgEj2BwR/5tfLKKyczzjhjrg4X3xPeJQaS6DAyWzn6JHnQNSA0eopD8x8DbPvss09IERSfV6NvDAF4zJEnNVtILYTeTr1I16Gyy+zPcTiepb8IbL/99qGdQ96UrTfZ7RlUpi5jpES/ou9IDlfSm0099dThv7y6Hj3qyNVPfmD6NszTQB509D2M9ng0W4aXADnlyxgz0dM233zzQU5SPFvqAQPP2TpU9jcp0jgWeVctEugkAQ2ZBenGnIWtzvYbjVMYJPMKo2AYJplgCMHB9ggVcixGb4C8Bod1eAQQbse2q666aoIXHqFVZ555Zghhp1PKZB8kKUf5ynY2867HdfUJ0ElilByPCzrVPC8aByZSIfSx3nNKr6dBOeSQQ3JPgrs/27bqCUxniRwozCyNodXS3wSYvICBFGQFAyJlFZS4PR4sjN5izKxX6Bwic+ioM3kZdREDKikOqNfNDP7kWiQfIhOjMbKLRx+eTswajNETjyuMCXg8MZijF0G9J1F/PQNgTGxBXi7aHVIEbLXVViE/F8+IZ5yWWfWWeZaHHXZY7ono7JBDk44RxoJYh8p+8/wxgiNfzY+Zi9qVGQK0r9TZViY4w1spDswwo3CjwgAMYZsYDZB7GCrTcg9DZjO5x3tCe81AD57HGDMwPCCvmdSRgQHSEjEwGXU6ojnU6eo/GdL/kCOaEHAmzMRjiAga2i883+rJtbz1GKTxYqvHm7aJ/VoNDSZKh+MYVl7/uY7Uf0g5xrPHwaWV6JntttsuGMMZPKlX8Ba///77gwc5+hXvBvmFMUaR57CZkYz8mxhLGWQkLQ1tPPoeA9sYPcmTzfHR05hcy0Hqek+i/noiM9HdMUSTo5m+/ZZbbhkmhOUZFdXTeJbIv7zC4BxtE7paK16ZDMBwHtpMHazySLuunQQ0ZBakycuIgZCGBWNV2Q4Y25OsmzAURlirzsjLdZA/hf2Z9ZeRNZRbvAUwjqKU4b2JoYJrbfbBwIXHAkozbuZ4zKCg4fWJMKJTy8zo559/fphpGCH6yCOPBIGK4ozgo5PaqzNuYtjD2AJTZp+kU3DLLbcEZZdO/cknn5wwkzxCndkjGZVcYoklgoDmOebxJWk8aQJ4Fo0aFxoMZnFuVOJkBVXzLaEA0XHiOvEAtkgAAjHso2rIJbKM1AfUK96XVgoyBAWX4/DOMWHCrrvuGuQQ79pMM82U8E7lvWt563jnMHSh3CGz8Sagw4pnM/fNO8HI8znnnBNmUue8KNl0csnviZcBs9cyEQSzDdNZ7eYBANoEGGKMpPPDvYwZMyaMhDPAwgzL5MXCCLjDDjsEgzDGEZ49HmT1ZBRhZ8gOvDbqhaZF/nTsmYm+UUGWsn0reX9jmCXtnkUCRQign1CPaa+rRjcw8ELdxUuqXQXjQVrupQ0IUe6V8YaO72Jap2PgPU+n41yEJPIeISMwuOI5c8011wTjKIMapDZC1+MaGbBFR2JmdvSlTuV0R84izxgkRu7y7JDDyGSuBS+wa6+9Nhj2MJJg1EWeYyhGZyVvKZ6x8MOIiHyjLUCWRT7Zb/RldF90LaIVTjnllBAhk90u/qaDXm/AJtYN7iN6jtP2VOkvsB/n5Djd3P7Ee/a7/QQwVFEHqkYy7LfffqE/iOxDL2ilMBCAfsHgCYY0+kUMrhCBsdhiiyUzzDBDw/csvj/xm/RDTB7IYOkCCywQBqvXWmutYJzbfffdwzuDwQ35dMUVVwSHkWZ6Wiv31+l9MUTCED3tiSeeCAPwGHgZkOIekcfIFfQ02pmNN944DGLR9mDMxlEpskt/oxvTf6eOEN2U/i+9jE2AQWB0w0aF58p+6M5V5BbyOM5WfuGFFzY6lf9JoC0ENGSWwIgQRyFCkcFTssxLTsefjjUCYihmH0QRJL/mgw8+GDqY5557bhCUeCeg9OFxQzgzShKzaqPoY2RtpPClhWLeMh1iFG9ms8XbCyUSgx4KJQo1yiWeVSiaKGl4ZuFpAEuMhBhOaXj5YDhkVA/FknAGZgV1EJtWAAAgAElEQVSnccPAQeOJNxidcgQ+nqcosRhzafgxNDMqSOcbwyPCnbxVnJvr4JoIp0CoFzX4pu+X/ehQ4ym74447hpFHjISwTue4xAOWkcr0vizDiQYcj8tmhY4Dz4VGjFC0MnWOBiUa31HwLRKIBBgRR/mhPpLWoky9Qn5FRYX3dqgKuXyQwXRmCaUh/xzGMYx0yAnkCPWcsHZC8fDkxIsdeZ19B6v8RjbiKcW7ixEXeY4XAgMWnA/DIMok3vAo98ieKIN4d7k2Osv8h8KOTMKgyPYMQvEcVlpppXAM5DIGWLzIOC6eEUw0QoeBdxp5zQBUK/eGrIYR58RrAwWWiSrwcMW7Nd15xhMgz4sMWZbNEVevPnA8+MC+bGQDsox2in25XosEyhDAKMe7wjtcJlSTeodXJPWOGX/Jlz7UhQ7we++9F4x5Dz30UMg1zABo1OnwzMnqdBgG2qHTNZKT6E4YTaNMRKdC74sTeyEn0QXx7kEPYjtkDs+BzjfPAvmBblNFD6t3bRhtOB/eQMhnZDODMeiBTHqCNz8GBAauMZTmFWRM3vGRgXFSn7z90uswWESnAmR9mTaW7WHC/hzH0p8EGEjFiEVdRFcoU4foR9EHY1/6U0NVkFUY6hgMQU9jcPqkk04KRjr6cvTV0IPQ0xhAoD+GzCgzWJ33bsZ1Q6Gnce3oMlFPo43I6mlM5ouRlne4FT2N/iZyjH4zfV4G+vFyxaj75ptvDtDTyNWLnI0s4jdGY+QzkQLNCgNJ6Jnsi95Zps7RXtLfZ1/0XIsEhoKAhsySlBmxRiigwBVtWDB2xTwkdGy73XsR5Q4BidCjA8AIDoY6QtQJk8KQgQEDwyH3Q6MECzridL7pcKNI43mDwYOGmIYKhRaBXs+TMQrdTn1zbhoVFHwaGRoejJEouBhDMaRi6MVbi9At7vn6669P7r777mB0HDt2bBhRK1plaLypJ+n74Rqyk/o0Ox6dF9jBDb5FwoEx/HKfnJv7NOS2GeX++5+BDrwdqSMoH0VCfhk44F1mHwxzKD29UPAgwrPnhRdeCN7seGHigYRXJu87xlDeK0bD8drkPhkUwRiJQoaxEcWVd4mOMcZLlEuMmRg16bSjQKJEp9/3Msu833TsY/uCrKDjjyJLiD0yAMMAxlmM0MhY5AGyl9F7lFyun3vBCxNDB/eI/EbpxQjMM8d7s+xzQw5yDen74fqoN3k54urVCTpmiy66aDgO7KLnRSNlmW1iPaVtwSPMIoGyBEgBQ53FQEQd5F1pVO/Q26IhgHe9TD0ve22d3j7qdBjvGHBlMIiBVrwb8XZiAAN5gZEP2UFYKN5B5BVlkIgBZAY78GhFX2IQHN0JAyEeQxgk0KkYZEEuMVCBnKRDzDtLhxjZSYcfmYUBAHmKQQC9kYEcZCyRJxjxGOhB7qJbIoc5P9eCJ+mpp56a4OlDRBLh+4T6ky4JnbVdes500003QNaVGbBJP0u8WdE5kZsMfmNwblTn+D96nbMf+1v6mwA6S4x+4d0qEvKLsRCdhHqH00p6ULKbaaKnIWfJkU50HDIKHYY8xMcee2xpmTTvvPOGwVr0B/rgeGejTw2FnsagDkZaBmCRecg1+su0K+ja6GlEOyJ3kcF4uqKnERWEnobHflk9DQNn1pBJm4d8xhu0aMFpAHbUH3RN+saN5Bb/4WAU5SbtQr1BoqLX4HYSKEpAQ2ZRUqnt6BjihcJLTgOD0pVVilG6aEAQBihBbEuHrNuNmKnb7OgiXgYonQhMcqbg8YPhlBElPBUff/zxMKqHUEf5RlGlcSPECIPiyy+/HEaqCQHFewglFm9IjBWMCCK06bDTccaLgvMNdYlhITx7Phgl8ib1KXJdhFVFwySNMaNz2caF0TAMMHQgogGVNAHtUu6LXKfb9BYBwgVRsqifjIhTd6i3aWWZeob3NAoNRgA+dG7LKlm9Rab61dJpICwS2YMMQiHF+MZ7iHJHbkcUdmQS7UEvdDII4Uwr/8iyRjniGtGDBcYQ6hxtI20kCn7akE57yjoMpXhssS3GWo2Yjcj6XzMC6BWxg8aAAfUL4xkdf9pOojkwsEXDOfWOdbzHlv4gQLsWdXaef5UBmzQpdFQMthyLwSq84NHfaGfjgBm/WU/bynZsz34WCUCAPk8cAKQ+MjhA/xKvy2hgwgiO4T/2E2g3+a8X9IvheMojUU/D7hBlCHIED3IGn6r0f+mbY9vgOLSVDFIRzYBXe6xz9APQy3Baig5KtKUaMYejRvfvOTVkVnz2hPwiIHjBedH54DHDqA8jqbHzxXpGqm+77baKZ3K3XiXAc491gwaFfKOtFMKBaTgwIsTjMvrGyB9eWmlDAyENjM5ZJNCMAAod+caoM7FeoQyhMEeDeFyPJ829997b7JD+P8IIRMMj9QBZhjdBq4UQzbSM5NgY07MhZijQzfJvtnot7t8/BEi7Q8QFRswo17LfdMrwoMHjz9JfBPCAizpWKwM2WWp4lsU0Bdn6Fn/zP95ZFglkCTDoiQcfuShjfamnp2EYbzYpWfb4/u59Ani3x7qB/l5vUp8yd8pEYxgq43H55thZPQ1DOyk7LBIYagIaMlskjhcg3ip4p2AIwFMTYya5zcgHQr4xS38SiKGYdPybTepThhCeXoSAMRLGKD6Gc4yZNCS49xMG6ihsGaJuCwHqDCHXjLbipRRDAqlnKER4Rlv6k0AMd6Rj326jIqGu5OcklJQ8ynxoT1lHeJlFAp0iQIQHHTXyTOLdRJ2j/WSg2tKfBMjrh0cmnfVmk/pUIUQUBIM4HJs6xze/WW+RQDMCGDRvuOGGkGqB9A6kbyC9A/MCYOjEEG/pTwIxnyrh880m9SlL6J577gkD2HhpoqORLoT0UqQhYaJMiwSGi4CGzOEi73lHNAFC0Ri5Ik9NkUl9RjQMb04CEuhpAsgyPL4JzbVIQAISGKkEcEBA3hWd1GekcvC+JCCB3iGAgRu5ReqxIpP69M6deaUSaExAQ2ZjPv4rgUoESNrMxBzpWcwrHcidJCABCQwjAZLv45HZy5OdDCM+Ty0BCfQQAbxzydVukYAEJNArBIguYDKoMpP69Mq9eZ0SaERAQ2YjOv4ngYoEmLyICT8sEpCABHqZAKksmJzIIgEJSGCkE3ASu5H+hL0/CYw8Ahgwq0zqM/JIeEf9RkBDZr89ce9XAhKQgAQkIAEJSEACEpCABCQgAQlIQAI9SEBDZg8+NC9ZAhKQgAQkIAEJSEACEpCABCQgAQlIQAL9RkBDZr89ce9XAhKQgAQkIAEJSEACEpCABCQgAQlIQAI9SEBDZg8+NC9ZAhKQgAQkIAEJSEACEpCABCQgAQlIQAL9RkBDZr89ce9XAhKQgAQkIAEJSEACEpCABCQgAQlIQAI9SEBDZg8+NC9ZAhKQgAQkIAEJSEACEpCABCQgAQlIQAL9RkBDZr89ce9XAhKQgAQkIAEJSEACEpCABCQgAQlIQAI9SEBDZg8+NC9ZAhKQgAQkIAEJSEACEpCABCQgAQlIQAL9RkBDZr89ce9XAhKQgAQkIAEJSEACEpCABCQgAQlIQAI9SEBDZg8+NC9ZAhKQgAQkIAEJSEACEpCABCQgAQlIQAL9RkBDZr89ce9XAhKQgAQkIAEJSEACEpCABCQgAQlIQAI9SEBDZg8+NC9ZAhKQgAQkIAEJSEACEpCABCQgAQlIQAL9RkBDZr89ce9XAhKQgAQkIAEJSEACEpCABCQgAQlIQAI9SEBDZg8+NC9ZAhKQgAQkIAEJSEACEpCABCQgAQlIQAL9RkBDZr89ce9XAhKQgAQkIAEJSEACEpCABCQgAQlIQAI9SEBDZg8+NC9ZAhKQgAQkIAEJSEACEpCABCQgAQlIQAL9RkBDZr89ce9XAhKQgAQkIAEJSEACEpCABCQgAQlIQAI9SEBDZg8+NC9ZAhKQgAQkIAEJSEACEpCABCQgAQlIQAL9RkBDZr89ce9XAhKQQBcTeOSRR5INN9wwOeGEE0pf5V/+8pdkl112CZ933nmn9P7t3qHMvXzyySfJhRdemBx00EHJjjvumPzkJz9JzjnnnIR7alT+53/+J/nd736X7Lfffsnmm2+eHH300cm9996bfPHFF412G/DfnXfemWy//fbJcsstl8wyyyzJ3HPPnay55prJAQcckLz++usDtvWHBCQwtASKypGrrroqufzyyxt+nn322aG9+CRJ/vjHPybHH398stNOOyW77bZbkFFjxowpdR1FGXDQdsjEUhfnxhKQQC4BdAj0uWZ6DDsjm84777wgI3bffffkl7/8ZfLcc8/lHncoVv71r39Nzj777GSvvfZKtt566+T0009PnnzyySBfGp2/Ffnz6quvJscee2zQx3bdddfkkksuSV577bVGp/M/CfQ1AQ2ZI+Txl1Hy6OQeddRRyVZbbRU6v9dff33y0UcfdQ2JMvdSVUEu29Ccf/75NQPJp59+2pRVevt//OMfTbd3AwlIIEkw5s0zzzzJv/3bvyXrrbdeKSS808svv3zYl/2ff/75Uvu3e+My93LRRRclU001Ve3auf74+cY3vhE6/txftqD0zjfffLVt4z58L7rooskHH3yQ3WXAb2TtnHPOmbt/PNb444+fjBo1KvnXv/41YF9/SEACnSdQVI689957Dd/j+D6j+w1Veeutt5J111237nUttdRSyTPPPNP0cooy4ECtysSmF+MGEpBAIQL0g6Lcefrpp+vug26x//77J//+7/9e2z7uN+644yb77rtv3X079cdll12WTDHFFIOuh+taeeWVk3r9wFbkz+jRoxP0rXjv8furX/1q8utf/7pTt+pxJdDTBDRk9vTj+7+LL6rkYaxca621BglJhOXXv/715Nprrx12GkXvpRUFuUpDs8kmm9S40WFoVtKcP//882ab+78E+p7Axx9/nCyzzDK196ysIZPR+6j48T2chswy93LLLbck44wzTrh2FPkVVlgh2XnnnZM11lgjQYGN95T1UEVWpo2QCy64YLLNNtsk8847b20fPCvxKsgrl1566QCl+Zvf/Gay9tprJ3vuuWeyww47JBwvnpvv7bbbLu8wrpOABDpEoKwcSb+v9ZaHypCJceIHP/hBTYZMO+20wWP8xz/+cfK9732vtn7GGWesK6PAWoZBqzKxQ4/Rw0qg7whcccUVCUbIKIcaGTLRO+J2//Ef/xEGPzbeeONkggkmqK0/+eSTh4zhPffcU7t2dDP6c3hHLrTQQrXrWWSRRcLAe/qiWpE/v/rVr2rHnnjiicNAPlzQy2CDboh3qEUCEhhIQEPmQB4996uokoc3z6qrrloTlN/97ndD+OJmm22W4PGDoKTTfPHFFw8bg6L30oqCXLWh0ZA5bNXCE/cBgRtvvDGZYYYZavIJeVTGkPn4448n44033oD9h8uQWeZekMvTTTdduG6u/7bbbhvwtLmvySabLPzPSD0DOLEQQh6V/5/+9Kdxdfjee++9a/8R0pkthHClOwmEsed55eOtT8cingdl2yIBCXSeQBk5wtXgzRPfUzytGbDN+9Qb2Gj3HdHpjteDISDtwUSUCukz4v977LFH7unLMmhFJuZegCslIIFSBNAjGKzIelfWM2Ted999NTnAIOxnn31WOx96SjTkYdz75z//WfuvkwtxMJg+8R133FE7FfpaWrdiMDhdqsof7vlb3/pW4IA+mNZd8VhnEAhZiYdomZRB6WtzWQIjlYCGzB5+smWUPHKoRaVxtdVWS/7+97/X7nzs2LE1ITrbbLPV1g/lQpl7aUVBrtrQaMgcytrgufqFAKHP5HWMsin9XdSQiSzD8zC9L8tpZXAoeFa5F/Itxesmx2VeOeOMM2rbXHPNNbVNpp566rB+yimnzFXwZ5111vA/3k/ZsPQllliidswjjzyydsy8BTz14zXOPvvsg46Vt4/rJCCBagSqyBHOFHUU5EI3lBhSPuGEEyZ5USwYM6effvogWxZYYIEBl1yVQSsyccAF+EMCEihNAP1kmmmmqekLUW/gu54hc/XVVw/bM2Calw+TXJnxOHhKdrpgPI3nIzImW5Bb0flniy22GPB3VfmT1vFOOumkAcfkB3ky4zWRhsgiAQl8SUBD5pcsemapipK3wQYbBEH4la98ZYBXT7zpI444oiYoX3755bi6499V7qUVBblqQxM7CTQmeUp5FpSh5Vki/pbAYALpHEoosuQBip6ZRQ2ZePPwXrI/nolR4RtqQ2aVe0mHExFinlfIAxzv6ZhjjgmbcG9xXT1vpkMOOaS2zf333187NCP8cV8Mk0VyX0bDJx4B9ToktRO4IAEJVCZQRY5wsphmgoHqbijRSLnkkkvWvZwf/ehHQRZhGEiXKgxakYnpc7ssAQlUIzDTTDPVdIsVV1wxzMUQdY08veHFF1+seW7+/Oc/zz3pm2++meD5iH6UFzWSu1MLK5EjRKiQB/Puu+/OPdLkk08e7nPZZZet/d+K/Nloo43C8QjFf/fdd2vHjAt4bEbj6UorrRRX+y0BCSRJoiGzB6tBFSXvrLPOCp5PzLyWV0455ZRaA3TXXXflbdKRdVXupaqC3EpDoyGzI4/fg/Y5Ad5/Blc23XTTBKWWUsaQefPNN9cUYWQcn6g4874PZal6L+TQ5d7TXvLp68a4G+/pyiuvDH9dcMEFtXWEf+eVdMgWs23Gwqzo8XjMjlmk/PnPf871liiyr9tIQALFCVSRI8iQmE+XAYx33nknIcoFeUi6CgaMh7rgBc51NJqtmBRHyCImeEuXKgxakYnpc7ssAQlUI4Ah8zvf+U5yzjnnhMiNc889t6Zr5Bky8eCMughpdGIhzdjrr78ef3bVN8bNeM3pfMOtyJ8oBxdeeOG694phmPMyKaRFAhL4koCGzC9Z9MxSFSWv0c3hkcMEEwhJwoCGcpbtKvdSVUFupaHRkNmoBvmfBKoRQFnFSJYuRQ2Z77//fi2MKXohDachs5V7Sd9/epmcUNHTCvkcjQK/+MUvaso0Hpt5JT1ws88++9Q2SXuLjxkzprbeBQlIYPgJVJEjaa9tOsXZfMHkqyNE829/+9vw3+D/X0E6XJJJytKlCoNWZGL63C5LQALVCNx7773Jf//3f9d2bmbIZIAVvYZBGPqhRJwwoQ6D26wnAgTZMFR5fWsXnlmgz/nwww8nhx9+eDLppJOGa8NDMh0K34r8YbJd7hcP9Xolem2ynRPI1qPk+n4koCGzB596FSUv7zY//PDD5De/+U0QnghHPiRpHsrSrntJX3M9BbmVhkZDZpqwyxLoHIGihsyYYoIwn7fffjtc0HAaMvOIFL2XvH1Zl84PtdVWW9U2I59mlNkvvfRSbX16gRCluM1OO+1U+4vZNuP61157rbbeBQlIoDsJNJMjabkX3+2vfe1rCZ/4m+/555+/KyaLYJAlhmfSiU8bBOo9gWYMWpGJ9c7peglIoDqBZobMAw88MMgnjIP0PdOyKr0844wz1iJ2ql9N9T3JQ56+Hn4/8cQTAw5YVf7gOBSPTb74egUdLm6XF35ebz/XS2CkE9CQOUKecDMlL3ubJ598cm3UKwrHUaNGFcqXlj1Wu3+XvZf0+RspyFUbGo6vITNN2WUJdI5Akff/vPPOqyl1V111Ve1i0h36oQ4tr11EaqHIvaQ2H7DIJDxRNjNrZTo/1J577ln7L70+fQC8OeP+W265Ze0vQr9YjxeERQIS6H4CzeRIegZwPLgJJ8drh07yDTfcUEvXwXt/8MEHD+sN41WezqVXNL1FMwatyMRhBeLJJTBCCTQzZKKXRB2F70kmmSQ58cQTkwcffDBhgtr0oCuh1cNR0gPC8VrxcF9zzTUTooJiqSp/8DaNx62X75xzHHDAAbXtXnnllXhavyXQ9wQ0ZI6QKtBMycveZnp0JwpRZpvrhhnRyt5LvLdmCnLVhobja8iMlP2WQGcJNHv/x44dG1JgILfSXopcVVVDJh1+wi7zPhgEq5Zm95J3XMKY9t5775rSOtFEEyV/+MMfBmxKMvoot9PKdHojDBlxm2233bb2F15ZcT2J9C0SkEB3E2gmR8iHSUcXg2aePCB9x/jjjx/eezwgi8i0TsjEJ598sjZTOTJo4403Ljx43oxBKzKxu5++VyeB3iTQzJAZo2qQBUzWmE0zRJj60ksvXdNXyInerCDb8vQ41lUJyeYabrrppuA1ft111yVMXhb1p3nnnbcmS6vKH64rHm+XXXape3ukB4rbvfHGG3W38w8J9BsBDZkj5Ik3U/Kyt4lCSc6Phx56KMHzZ4IJJghCkpGm3/72t9nNc393QtHlRGXvhX2KKMhVGxqOryEztwq4UgJtJ9Do/UdJjTNo49VDUvh0qWrInG+++WpKYlQW43crgzuN7iV93XGZCX/WX3/92rVMNtlkwTsh/h+/jz/++No2L7zwQlw94Ju0HfEeMIzGssoqq9TW15spPW7rtwQkMPwEysqRvCtOh24+++yzeZsMWNdumXj77bcnE088cU32EEZZxKAaL6oZg1ZkYjyH3xKQQPsINDNkYriLOgqTEOaV+++/v7ZNvZnN0/uRLi0eM/s9yyyzpDettMxAc5xTguNfeOGF4TityJ8oFxnYqVfS8vvTTz+tt5nrJdB3BDRkjpBH3kzJa3abd955Z23235lnnrnZ5uH/diu68aRl76WogtxKQ7PFFlvUGkcMBM3K8ssvX9s+nfy62X7+L4F+J9Do/U/PckkieBTK9Gf22WevvXd4HvLf6NGjmyJN75dVfofKkIkn1VJLLVW7fgy19XLHMdgUr5MwrLxCDqe4zWGHHVbbJO2ZThhXkcKxUKSZQV0vziLE3EYC7SPQSCYWPUta/7n66qub7tZOmUhnP52vc//99296/uwGzRi0IhOz5/K3BCTQOoFmhsz0vAXpFEHpMzO4O8444wRdZrPNNkv/lbvcaUMmJ01Prhbzj7cif+aYY45wfyuvvHLuPbFynXXWCduYEqguIv/oUwIaMkfIg2+m5BW5TWZMix3fIsmE26nopq+vzL2UUZBbaWjSk24888wz6cvNXY4NEzPbWSQggeIEGr3/V1xxRU1GRVnV7Dsbfp53JSeccEIIzSQ8M/t57LHH8nYptK7RvaQPwODIrLPOWru3hRdeOHnrrbfSmwxYZnbQeN+XX375gP/ij+uvv762DbIvFvLnxX033HDDuLrh96677lrbp4hhuOHB/FMCEihFoJEcwUPoxRdfTB544IEQmVLvwEcddVTtHcbLqVlpl0xkJuIob+iEn3nmmc1Onft/Iwbs0IpMzD2hKyUggZYINDNk0n+LsqHegDGOIMgNtotGw0YXxeBvVoeLv0855ZRGu4b/3nnnnYRIlbPPPruuxzh5yeN1r7XWWmG/VuRP9PCca6656l4fOiHnpG9pkYAEviSgIfNLFj291EzJI4T8sssuSxopsLvttltNOBOq3ay0S9HNnqfZvcTtyyrIrTQ0hx56aI0NeVKaFZJW0+gwSYdFAhIoTqDR+/+nP/0pwTu63mfxxRevvadrr7122O7SSy8tfvI2b9noXuKp8MScbbbZBlw3eZMaFWZpj8r9BhtskLspBtyobL/66qu1begY4M3Kf3g6PProo7X/8hbIPUyIO9vjVVVkkCvvOK6TgASqEWgkR3ifY/7LhRZaqO4JokcP7/GHH35Yd7t2/oHhIMqgb37zmyHXXNXjN2LAMVuRiVWvyf0kIIH6BJoZMtOejfXyQz711FM1GXLJJZfUP1mb/iF8PcqsW2+9Nfeo6KFxG3JXUlqRP+mB4ry0H0zuQ9o3zllkYD73ol0pgRFKQEPmCHmwjZQ88hDhGYgQJHSxXll11VXDNnSQqyRFrnfcsusb3Us8VhUFuZWGhlCs2HBts8028TJyv8eMGVPbdvXVV8/dxpUSkEA+gSLvf/6e1Sf7qXe8VtcXuZe0wZHQqX/961+FTrvRRhsFOUN+Y7wI0gVDBZMEIbNISJ8t6VyiM844Y/L0009nNwm/mVEzegJwrEY5nHIP4EoJSKBlAs3kyLLLLhvedTq7eGZmC+knYkeYyTOGopC7d7zxxgvXhSyi899KacaAY7ciE1u5NveVgAQGE2hmyGSPmPMcGYHRMlvS8xOkB2Sz27XrN7Iy9vVWW2213MPSr4vbpNN0VJU/GC+jfB41atSgcx588MG18zGbu0UCEviSgIbML1n09FIzJY/cGwhePHCyM+By46z7yle+ErYh9+Vwlmb30oqCXLWhoUM/7rjj1hqT0047LRcRIQeLLLJIbbuiOehyD+ZKCfQhgWbvfyMkaQPd888/32jTIfmv2b3gJR4VWOTzEUcckeBpXu+Tlt142UdlmnCjmPIC+fj973+/9l+eFwPG0nQ+TmYMxSPi7rvvTugscJ7jjjuu5rnJeUiU/9577w0JN08iAQl8SaCZHOEdj7JguummS6InEYPYV155Zc2jmm3q5dT98mztWVpppZVq14SsqSfTWE90T7PSjAH7tyITm53f/yUggXIEihgyb7jhhpqcYFCV1Dd4mX/22WcJkxRGuYajzVAUdCM82+N58Zb85JNPwqlxhmEwN/5HBFB6wrJW5E80jqIPHn300WHmdfKD0oeMOUJJ50YqEYsEJPAlAQ2ZX7Lo6aVmSl7ao5DG4q677gr3i9BmhGfKKacMwhkhetNNNw0ri2b30oqC3EpDw0hZbMAw+q677rqhs89ESTBk9vfIke3g3CxEdFhBe3IJdCGBZu9/o0vuNUMmMiTKlCLf2Zk90zNZsn/0wozH2nTTTeviYubLtCyN++R9kyKj3uzodU/gHxKQQFsIFJGJ22677QBZwky4X//612vrSAtRNT9l2ZsgNVGeHGm0rlkHvQgDrrMVmVj2Pt1eAhKoT6CIIZO903MQICOIIIypc/iNcwiGzaEqL730UjLppJPWZBjXku7bcU3oRC+//PKgS7p6OJkAAAc8SURBVKoqf0jxM/nkk9fOiTd7TBnC+SaccMLk4YcfHnQ+V0ig3wloyBwhNaCIkpeerRbBiKAmLJHl+DnwwAOHnUije2mHgly1oaEhjUmZI69631NPPXXwDhh2mF6ABHqMQHz/i05Ek7698847rybLuskjs969pD0n68mS9PqsIZN7x5sp5uSN2+JhSTjSP/7xjzSeQct4PlxwwQUDvMjjMfhGsSZnlAMyg9C5QgJDRqCITMQQiPxD90i/wwy6EmVz3333Ddn1MgNx+hqKLBc1ZNaTpemba0Umpo/jsgQkUJ1A2pDJJDyNCnM4zDTTTAPkBrJs8803H5ZIkDfeeCOkqkhHzCDHMDASvfLxxx/XvZ2q8odcmKT+iB6YUW7i+Uk+UYsEJDCYgIbMwUx6ck0RRZcbIwRpmmmmGdBYICxxWY/hSMMNoNG9tEtBrtrQ4MF6/PHHJ3POOecghnDEoMCkScxCbJGABCQwVASYuZiJyB555JFK3gvk1XziiScSQr3w2G80a/pQ3ZPnkYAEyhHAIEh6CGbexXjZz4MQrcrEcuTdWgISaJUAkwnefPPNufkyWz12lf0JK8eISFQj6XsY/C1aqsofomVI80OffCjygha9H7eTQDcS0JDZjU+lw9eEootL/I033pgQFs2suf1aqjY08MJYSWJ9Grg77rgjhF5+8cUX/YrS+5aABCQgAQlIQAISkIAEJCABCUhAAh0loCGzo3g9uAQkIAEJSEACEpCABCQgAQlIQAISkIAEJNAOAhoy20HRY0hAAhKQgAQkIAEJSEACEpCABCQgAQlIQAIdJaAhs6N4PbgEJCABCUhAAhKQgAQkIAEJSEACEpCABCTQDgIaMttB0WNIQAISkIAEJCABCUhAAhKQgAQkIAEJSEACHSWgIbOjeD24BCQgAQlIQAISkIAEJCABCUhAAhKQgAQk0A4CGjLbQdFjSEACEpCABCQgAQlIQAISkIAEJCABCUhAAh0loCGzo3g9uAQkIAEJSEACEpCABCQgAQlIQAISkIAEJNAOAhoy20HRY0hAAhKQgAQkIAEJSEACEpCABCQgAQlIQAIdJaAhs6N4PbgEJCABCUhAAhKQgAQkIAEJSEACEpCABCTQDgIaMttB0WNIQAISkIAEJCABCUhAAhKQgAQkIAEJSEACHSWgIbOjeD24BCQgAQlIQAISkIAEJCABCUhAAhKQgAQk0A4CGjLbQdFjSEACEpCABCQgAQlIQAISkIAEJCABCUhAAh0loCGzo3g9uAQkIAEJSEACEpCABCQgAQlIQAISkIAEJNAOAhoy20HRY0hAAhKQgAQkIAEJSEACEpCABCQgAQlIQAIdJaAhs6N4PbgEJCABCUhAAhKQgAQkIAEJSEACEpCABCTQDgIaMttB0WNIQAISkIAEJCABCUhAAhKQgAQkIAEJSEACHSWgIbOjeD24BCQgAQlIQAISkIAEJCABCUhAAhKQgAQk0A4CGjLbQdFjSEACEpCABCQgAQlIQAISkIAEJCABCUhAAh0loCGzo3g9uAQkIAEJSEACEpCABCQgAQlIQAISkIAEJNAOAhoy20HRY0hAAhKQgAQkIAEJSEACEpCABCQgAQlIQAIdJaAhs6N4PbgEJCABCUhAAhKQgAQkIAEJSEACEpCABCTQDgIaMttB0WNIQAISkIAEJCABCUhAAhKQgAQkIAEJSEACHSWgIbOjeD24BCQgAQlIQAISkIAEJCABCUhAAhKQgAQk0A4CGjLbQdFjSEACEpCABCQgAQlIQAISkIAEJCABCUhAAh0loCGzo3g9uAQkIAEJSEACEpCABCQgAQlIQAISkIAEJNAOAhoy20HRY0hAAhKQgAQkIAEJSEACEpCABCQgAQlIQAIdJaAhs6N4PbgEJCABCUhAAhKQgAQkIAEJSEACEpCABCTQDgIaMttB0WNIQAISkIAEJCABCUhAAhKQgAQkIAEJSEACHSWgIbOjeD24BCQgAQlIQAISkIAEJCABCUhAAhKQgAQk0A4CGjLbQdFjSEACEpCABCQgAQlIQAISkIAEJCABCUhAAh0loCGzo3g9uAQkIAEJSEACEpCABCQgAQlIQAISkIAEJNAOAhoy20HRY0hAAhKQgAQkIAEJSEACEpCABCQgAQlIQAIdJaAhs6N4PbgEJCABCUhAAhKQgAQkIAEJSEACEpCABCTQDgIaMttB0WNIQAISkIAEJCABCUhAAhKQgAQkIAEJSEACHSWgIbOjeD24BCQgAQlIQAISkIAEJCABCUhAAhKQgAQk0A4CGjLbQdFjSEACEpCABCQgAQlIQAISkIAEJCABCUhAAh0loCGzo3g9uAQkIAEJSEACEpCABCQgAQlIQAISkIAEJNAOAhoy20HRY0hAAhKQgAQkIAEJSEACEpCABCQgAQlIQAIdJaAhs6N4PbgEJCABCUhAAhKQgAQkIAEJSEACEpCABCTQDgL/CzDgHqdo8gzOAAAAAElFTkSuQmCC)"
      ]
    },
    {
      "cell_type": "code",
      "metadata": {
        "colab": {
          "base_uri": "https://localhost:8080/"
        },
        "id": "u_V3Oe2QA1Ra",
        "outputId": "4352fd57-55a2-457b-8474-c325710acc91"
      },
      "source": [
        "sorted(nx.triadic_census(G).items(), key=lambda x:x[-1], reverse=True)"
      ],
      "execution_count": null,
      "outputs": [
        {
          "output_type": "execute_result",
          "data": {
            "text/plain": [
              "[('003', 3007),\n",
              " ('012', 2564),\n",
              " ('102', 1221),\n",
              " ('111D', 436),\n",
              " ('111U', 358),\n",
              " ('021C', 303),\n",
              " ('021U', 265),\n",
              " ('021D', 230),\n",
              " ('201', 169),\n",
              " ('210', 145),\n",
              " ('030T', 118),\n",
              " ('120C', 98),\n",
              " ('120D', 92),\n",
              " ('300', 61),\n",
              " ('120U', 55),\n",
              " ('030C', 17)]"
            ]
          },
          "metadata": {
            "tags": []
          },
          "execution_count": 67
        }
      ]
    },
    {
      "cell_type": "code",
      "metadata": {
        "colab": {
          "base_uri": "https://localhost:8080/"
        },
        "id": "bqvQe4gTA37J",
        "outputId": "6b04c389-ddd3-4242-e7f8-3d83b2973eff"
      },
      "source": [
        "nx.transitivity(G)"
      ],
      "execution_count": null,
      "outputs": [
        {
          "output_type": "execute_result",
          "data": {
            "text/plain": [
              "0.39775485436893204"
            ]
          },
          "metadata": {
            "tags": []
          },
          "execution_count": 68
        }
      ]
    },
    {
      "cell_type": "code",
      "metadata": {
        "colab": {
          "base_uri": "https://localhost:8080/"
        },
        "id": "CZOYMhIZV2-Y",
        "outputId": "61373703-64bf-4039-9b16-4001603678f0"
      },
      "source": [
        "169/61"
      ],
      "execution_count": null,
      "outputs": [
        {
          "output_type": "execute_result",
          "data": {
            "text/plain": [
              "2.7704918032786887"
            ]
          },
          "metadata": {
            "tags": []
          },
          "execution_count": 112
        }
      ]
    },
    {
      "cell_type": "markdown",
      "metadata": {
        "id": "znkCH-ozWQ3m"
      },
      "source": [
        "###Cliques"
      ]
    },
    {
      "cell_type": "code",
      "metadata": {
        "colab": {
          "base_uri": "https://localhost:8080/"
        },
        "id": "22mddKHMKQgP",
        "outputId": "b627ea8a-adfd-4111-da5c-510c74f7522b"
      },
      "source": [
        "nx.clique.number_of_cliques(G.to_undirected())"
      ],
      "execution_count": null,
      "outputs": [
        {
          "output_type": "execute_result",
          "data": {
            "text/plain": [
              "{'Aisha Jamil': 27,\n",
              " 'Amanda Burstein': 11,\n",
              " 'Ben Gorban': 59,\n",
              " 'Brett Cowell': 14,\n",
              " 'Brianna Sclafani': 7,\n",
              " 'Christine Johnson': 27,\n",
              " 'Danielle Boekankamp': 3,\n",
              " 'Danielle Parsons': 8,\n",
              " 'Dominique Burton': 9,\n",
              " 'Eiryn Renouard': 14,\n",
              " 'Elizabeth Fontaine': 10,\n",
              " 'Erica Richardson': 16,\n",
              " 'Fern Hernberg': 4,\n",
              " 'Frank Straub': 4,\n",
              " 'Garrett Johnson': 2,\n",
              " 'Heather Vovak': 8,\n",
              " 'Jane Mott-Palmer': 6,\n",
              " 'Jen Zeunik': 26,\n",
              " 'Jim Burch': 24,\n",
              " 'Julia Kessler': 10,\n",
              " 'Karen Amendola': 34,\n",
              " 'Katherine Hoogesteyn': 18,\n",
              " 'Kerry Yerico': 10,\n",
              " 'Lorena Singer': 5,\n",
              " 'Maria Valdovinos Olson Valdovinos': 25,\n",
              " 'Mary Kate Murphy': 6,\n",
              " 'Michael Lebron': 12,\n",
              " 'Pauline Alvarado': 18,\n",
              " 'Rebecca Benson': 1,\n",
              " 'Rick Haake': 3,\n",
              " 'Sarah Vanselow': 4,\n",
              " 'Sarita Coletrane': 76,\n",
              " 'Scarlett Ojeda Geldres': 14,\n",
              " 'Tamara Martin': 3,\n",
              " 'Travis Riddle': 10,\n",
              " 'Travis Taniguchi': 24,\n",
              " 'Trenay Wren-Evans': 8,\n",
              " 'Virgil Young': 1,\n",
              " 'Yukun Yang': 23}"
            ]
          },
          "metadata": {
            "tags": []
          },
          "execution_count": 69
        }
      ]
    },
    {
      "cell_type": "code",
      "metadata": {
        "colab": {
          "base_uri": "https://localhost:8080/"
        },
        "id": "9smOgJDEBbli",
        "outputId": "88017e11-c758-42cb-9a64-2a7e63efa60a"
      },
      "source": [
        "list(nx.find_cliques(G.to_undirected()))"
      ],
      "execution_count": null,
      "outputs": [
        {
          "output_type": "execute_result",
          "data": {
            "text/plain": [
              "[['Amanda Burstein', 'Eiryn Renouard', 'Travis Taniguchi'],\n",
              " ['Amanda Burstein', 'Eiryn Renouard', 'Danielle Parsons'],\n",
              " ['Amanda Burstein',\n",
              "  'Eiryn Renouard',\n",
              "  'Sarah Vanselow',\n",
              "  'Kerry Yerico',\n",
              "  'Julia Kessler'],\n",
              " ['Amanda Burstein', 'Eiryn Renouard', 'Sarah Vanselow', 'Brianna Sclafani'],\n",
              " ['Amanda Burstein',\n",
              "  'Ben Gorban',\n",
              "  'Kerry Yerico',\n",
              "  'Brett Cowell',\n",
              "  'Aisha Jamil',\n",
              "  'Karen Amendola'],\n",
              " ['Amanda Burstein',\n",
              "  'Ben Gorban',\n",
              "  'Kerry Yerico',\n",
              "  'Brett Cowell',\n",
              "  'Julia Kessler'],\n",
              " ['Amanda Burstein',\n",
              "  'Ben Gorban',\n",
              "  'Kerry Yerico',\n",
              "  'Sarah Vanselow',\n",
              "  'Julia Kessler'],\n",
              " ['Amanda Burstein', 'Ben Gorban', 'Travis Taniguchi', 'Karen Amendola'],\n",
              " ['Amanda Burstein', 'Ben Gorban', 'Danielle Parsons'],\n",
              " ['Amanda Burstein', 'Ben Gorban', 'Brianna Sclafani', 'Aisha Jamil'],\n",
              " ['Amanda Burstein', 'Ben Gorban', 'Brianna Sclafani', 'Sarah Vanselow'],\n",
              " ['Rebecca Benson',\n",
              "  'Mary Kate Murphy',\n",
              "  'Christine Johnson',\n",
              "  'Dominique Burton',\n",
              "  'Jen Zeunik'],\n",
              " ['Sarita Coletrane',\n",
              "  'Eiryn Renouard',\n",
              "  'Michael Lebron',\n",
              "  'Travis Taniguchi',\n",
              "  'Heather Vovak'],\n",
              " ['Sarita Coletrane', 'Eiryn Renouard', 'Michael Lebron', 'Julia Kessler'],\n",
              " ['Sarita Coletrane',\n",
              "  'Eiryn Renouard',\n",
              "  'Jen Zeunik',\n",
              "  'Travis Taniguchi',\n",
              "  'Yukun Yang'],\n",
              " ['Sarita Coletrane',\n",
              "  'Eiryn Renouard',\n",
              "  'Jen Zeunik',\n",
              "  'Scarlett Ojeda Geldres'],\n",
              " ['Sarita Coletrane', 'Eiryn Renouard', 'Jen Zeunik', 'Brianna Sclafani'],\n",
              " ['Sarita Coletrane',\n",
              "  'Eiryn Renouard',\n",
              "  'Heather Vovak',\n",
              "  'Yukun Yang',\n",
              "  'Travis Taniguchi'],\n",
              " ['Sarita Coletrane',\n",
              "  'Eiryn Renouard',\n",
              "  'Erica Richardson',\n",
              "  'Danielle Parsons'],\n",
              " ['Sarita Coletrane', 'Eiryn Renouard', 'Erica Richardson', 'Yukun Yang'],\n",
              " ['Sarita Coletrane',\n",
              "  'Eiryn Renouard',\n",
              "  'Danielle Parsons',\n",
              "  'Scarlett Ojeda Geldres'],\n",
              " ['Sarita Coletrane',\n",
              "  'Rick Haake',\n",
              "  'Lorena Singer',\n",
              "  'Danielle Parsons',\n",
              "  'Garrett Johnson',\n",
              "  'Virgil Young'],\n",
              " ['Sarita Coletrane', 'Rick Haake', 'Lorena Singer', 'Aisha Jamil'],\n",
              " ['Sarita Coletrane', 'Rick Haake', 'Karen Amendola', 'Aisha Jamil'],\n",
              " ['Sarita Coletrane',\n",
              "  'Elizabeth Fontaine',\n",
              "  'Erica Richardson',\n",
              "  'Christine Johnson'],\n",
              " ['Sarita Coletrane',\n",
              "  'Elizabeth Fontaine',\n",
              "  'Jim Burch',\n",
              "  'Maria Valdovinos Olson Valdovinos',\n",
              "  'Katherine Hoogesteyn'],\n",
              " ['Sarita Coletrane',\n",
              "  'Elizabeth Fontaine',\n",
              "  'Jim Burch',\n",
              "  'Maria Valdovinos Olson Valdovinos',\n",
              "  'Christine Johnson'],\n",
              " ['Sarita Coletrane',\n",
              "  'Elizabeth Fontaine',\n",
              "  'Jim Burch',\n",
              "  'Scarlett Ojeda Geldres'],\n",
              " ['Sarita Coletrane',\n",
              "  'Elizabeth Fontaine',\n",
              "  'Jen Zeunik',\n",
              "  'Maria Valdovinos Olson Valdovinos',\n",
              "  'Katherine Hoogesteyn'],\n",
              " ['Sarita Coletrane',\n",
              "  'Elizabeth Fontaine',\n",
              "  'Jen Zeunik',\n",
              "  'Maria Valdovinos Olson Valdovinos',\n",
              "  'Christine Johnson'],\n",
              " ['Sarita Coletrane',\n",
              "  'Elizabeth Fontaine',\n",
              "  'Jen Zeunik',\n",
              "  'Scarlett Ojeda Geldres'],\n",
              " ['Sarita Coletrane',\n",
              "  'Travis Riddle',\n",
              "  'Trenay Wren-Evans',\n",
              "  'Katherine Hoogesteyn',\n",
              "  'Michael Lebron'],\n",
              " ['Sarita Coletrane',\n",
              "  'Travis Riddle',\n",
              "  'Trenay Wren-Evans',\n",
              "  'Katherine Hoogesteyn',\n",
              "  'Pauline Alvarado'],\n",
              " ['Sarita Coletrane',\n",
              "  'Travis Riddle',\n",
              "  'Travis Taniguchi',\n",
              "  'Karen Amendola',\n",
              "  'Maria Valdovinos Olson Valdovinos',\n",
              "  'Michael Lebron',\n",
              "  'Katherine Hoogesteyn'],\n",
              " ['Sarita Coletrane',\n",
              "  'Travis Riddle',\n",
              "  'Travis Taniguchi',\n",
              "  'Karen Amendola',\n",
              "  'Maria Valdovinos Olson Valdovinos',\n",
              "  'Michael Lebron',\n",
              "  'Heather Vovak'],\n",
              " ['Sarita Coletrane',\n",
              "  'Travis Riddle',\n",
              "  'Travis Taniguchi',\n",
              "  'Karen Amendola',\n",
              "  'Maria Valdovinos Olson Valdovinos',\n",
              "  'Yukun Yang',\n",
              "  'Heather Vovak'],\n",
              " ['Sarita Coletrane',\n",
              "  'Travis Riddle',\n",
              "  'Travis Taniguchi',\n",
              "  'Karen Amendola',\n",
              "  'Maria Valdovinos Olson Valdovinos',\n",
              "  'Yukun Yang',\n",
              "  'Jen Zeunik'],\n",
              " ['Sarita Coletrane',\n",
              "  'Travis Riddle',\n",
              "  'Travis Taniguchi',\n",
              "  'Karen Amendola',\n",
              "  'Maria Valdovinos Olson Valdovinos',\n",
              "  'Jen Zeunik',\n",
              "  'Katherine Hoogesteyn'],\n",
              " ['Sarita Coletrane',\n",
              "  'Travis Riddle',\n",
              "  'Travis Taniguchi',\n",
              "  'Karen Amendola',\n",
              "  'Pauline Alvarado',\n",
              "  'Jen Zeunik',\n",
              "  'Katherine Hoogesteyn'],\n",
              " ['Sarita Coletrane',\n",
              "  'Travis Riddle',\n",
              "  'Travis Taniguchi',\n",
              "  'Karen Amendola',\n",
              "  'Pauline Alvarado',\n",
              "  'Jen Zeunik',\n",
              "  'Yukun Yang'],\n",
              " ['Sarita Coletrane', 'Travis Riddle', 'Julia Kessler', 'Michael Lebron'],\n",
              " ['Sarita Coletrane',\n",
              "  'Ben Gorban',\n",
              "  'Michael Lebron',\n",
              "  'Jim Burch',\n",
              "  'Trenay Wren-Evans',\n",
              "  'Katherine Hoogesteyn'],\n",
              " ['Sarita Coletrane',\n",
              "  'Ben Gorban',\n",
              "  'Michael Lebron',\n",
              "  'Jim Burch',\n",
              "  'Travis Taniguchi',\n",
              "  'Maria Valdovinos Olson Valdovinos',\n",
              "  'Karen Amendola',\n",
              "  'Katherine Hoogesteyn'],\n",
              " ['Sarita Coletrane',\n",
              "  'Ben Gorban',\n",
              "  'Michael Lebron',\n",
              "  'Jim Burch',\n",
              "  'Travis Taniguchi',\n",
              "  'Maria Valdovinos Olson Valdovinos',\n",
              "  'Karen Amendola',\n",
              "  'Christine Johnson'],\n",
              " ['Sarita Coletrane',\n",
              "  'Ben Gorban',\n",
              "  'Michael Lebron',\n",
              "  'Jim Burch',\n",
              "  'Julia Kessler'],\n",
              " ['Sarita Coletrane',\n",
              "  'Ben Gorban',\n",
              "  'Michael Lebron',\n",
              "  'Heather Vovak',\n",
              "  'Maria Valdovinos Olson Valdovinos',\n",
              "  'Travis Taniguchi',\n",
              "  'Karen Amendola'],\n",
              " ['Sarita Coletrane',\n",
              "  'Ben Gorban',\n",
              "  'Michael Lebron',\n",
              "  'Frank Straub',\n",
              "  'Christine Johnson'],\n",
              " ['Sarita Coletrane',\n",
              "  'Ben Gorban',\n",
              "  'Pauline Alvarado',\n",
              "  'Trenay Wren-Evans',\n",
              "  'Erica Richardson'],\n",
              " ['Sarita Coletrane',\n",
              "  'Ben Gorban',\n",
              "  'Pauline Alvarado',\n",
              "  'Trenay Wren-Evans',\n",
              "  'Katherine Hoogesteyn',\n",
              "  'Jim Burch'],\n",
              " ['Sarita Coletrane',\n",
              "  'Ben Gorban',\n",
              "  'Pauline Alvarado',\n",
              "  'Brianna Sclafani',\n",
              "  'Jen Zeunik'],\n",
              " ['Sarita Coletrane',\n",
              "  'Ben Gorban',\n",
              "  'Pauline Alvarado',\n",
              "  'Karen Amendola',\n",
              "  'Erica Richardson',\n",
              "  'Christine Johnson',\n",
              "  'Yukun Yang'],\n",
              " ['Sarita Coletrane',\n",
              "  'Ben Gorban',\n",
              "  'Pauline Alvarado',\n",
              "  'Karen Amendola',\n",
              "  'Travis Taniguchi',\n",
              "  'Jim Burch',\n",
              "  'Katherine Hoogesteyn'],\n",
              " ['Sarita Coletrane',\n",
              "  'Ben Gorban',\n",
              "  'Pauline Alvarado',\n",
              "  'Karen Amendola',\n",
              "  'Travis Taniguchi',\n",
              "  'Jim Burch',\n",
              "  'Christine Johnson',\n",
              "  'Yukun Yang'],\n",
              " ['Sarita Coletrane',\n",
              "  'Ben Gorban',\n",
              "  'Pauline Alvarado',\n",
              "  'Karen Amendola',\n",
              "  'Travis Taniguchi',\n",
              "  'Jen Zeunik',\n",
              "  'Katherine Hoogesteyn'],\n",
              " ['Sarita Coletrane',\n",
              "  'Ben Gorban',\n",
              "  'Pauline Alvarado',\n",
              "  'Karen Amendola',\n",
              "  'Travis Taniguchi',\n",
              "  'Jen Zeunik',\n",
              "  'Christine Johnson',\n",
              "  'Yukun Yang'],\n",
              " ['Sarita Coletrane',\n",
              "  'Ben Gorban',\n",
              "  'Travis Taniguchi',\n",
              "  'Karen Amendola',\n",
              "  'Maria Valdovinos Olson Valdovinos',\n",
              "  'Yukun Yang',\n",
              "  'Heather Vovak'],\n",
              " ['Sarita Coletrane',\n",
              "  'Ben Gorban',\n",
              "  'Travis Taniguchi',\n",
              "  'Karen Amendola',\n",
              "  'Maria Valdovinos Olson Valdovinos',\n",
              "  'Yukun Yang',\n",
              "  'Christine Johnson',\n",
              "  'Jim Burch'],\n",
              " ['Sarita Coletrane',\n",
              "  'Ben Gorban',\n",
              "  'Travis Taniguchi',\n",
              "  'Karen Amendola',\n",
              "  'Maria Valdovinos Olson Valdovinos',\n",
              "  'Yukun Yang',\n",
              "  'Christine Johnson',\n",
              "  'Jen Zeunik'],\n",
              " ['Sarita Coletrane',\n",
              "  'Ben Gorban',\n",
              "  'Travis Taniguchi',\n",
              "  'Karen Amendola',\n",
              "  'Maria Valdovinos Olson Valdovinos',\n",
              "  'Jen Zeunik',\n",
              "  'Katherine Hoogesteyn'],\n",
              " ['Sarita Coletrane',\n",
              "  'Ben Gorban',\n",
              "  'Aisha Jamil',\n",
              "  'Scarlett Ojeda Geldres',\n",
              "  'Trenay Wren-Evans',\n",
              "  'Jim Burch'],\n",
              " ['Sarita Coletrane',\n",
              "  'Ben Gorban',\n",
              "  'Aisha Jamil',\n",
              "  'Scarlett Ojeda Geldres',\n",
              "  'Brett Cowell'],\n",
              " ['Sarita Coletrane',\n",
              "  'Ben Gorban',\n",
              "  'Aisha Jamil',\n",
              "  'Scarlett Ojeda Geldres',\n",
              "  'Jen Zeunik'],\n",
              " ['Sarita Coletrane',\n",
              "  'Ben Gorban',\n",
              "  'Aisha Jamil',\n",
              "  'Lorena Singer',\n",
              "  'Brianna Sclafani'],\n",
              " ['Sarita Coletrane',\n",
              "  'Ben Gorban',\n",
              "  'Aisha Jamil',\n",
              "  'Brianna Sclafani',\n",
              "  'Jen Zeunik'],\n",
              " ['Sarita Coletrane',\n",
              "  'Ben Gorban',\n",
              "  'Aisha Jamil',\n",
              "  'Karen Amendola',\n",
              "  'Maria Valdovinos Olson Valdovinos',\n",
              "  'Katherine Hoogesteyn',\n",
              "  'Jim Burch'],\n",
              " ['Sarita Coletrane',\n",
              "  'Ben Gorban',\n",
              "  'Aisha Jamil',\n",
              "  'Karen Amendola',\n",
              "  'Maria Valdovinos Olson Valdovinos',\n",
              "  'Katherine Hoogesteyn',\n",
              "  'Jen Zeunik'],\n",
              " ['Sarita Coletrane',\n",
              "  'Ben Gorban',\n",
              "  'Aisha Jamil',\n",
              "  'Karen Amendola',\n",
              "  'Maria Valdovinos Olson Valdovinos',\n",
              "  'Brett Cowell',\n",
              "  'Heather Vovak'],\n",
              " ['Sarita Coletrane',\n",
              "  'Ben Gorban',\n",
              "  'Aisha Jamil',\n",
              "  'Karen Amendola',\n",
              "  'Maria Valdovinos Olson Valdovinos',\n",
              "  'Brett Cowell',\n",
              "  'Christine Johnson'],\n",
              " ['Sarita Coletrane',\n",
              "  'Ben Gorban',\n",
              "  'Aisha Jamil',\n",
              "  'Karen Amendola',\n",
              "  'Maria Valdovinos Olson Valdovinos',\n",
              "  'Yukun Yang',\n",
              "  'Heather Vovak'],\n",
              " ['Sarita Coletrane',\n",
              "  'Ben Gorban',\n",
              "  'Aisha Jamil',\n",
              "  'Karen Amendola',\n",
              "  'Maria Valdovinos Olson Valdovinos',\n",
              "  'Yukun Yang',\n",
              "  'Christine Johnson',\n",
              "  'Jim Burch'],\n",
              " ['Sarita Coletrane',\n",
              "  'Ben Gorban',\n",
              "  'Aisha Jamil',\n",
              "  'Karen Amendola',\n",
              "  'Maria Valdovinos Olson Valdovinos',\n",
              "  'Yukun Yang',\n",
              "  'Christine Johnson',\n",
              "  'Jen Zeunik'],\n",
              " ['Sarita Coletrane',\n",
              "  'Ben Gorban',\n",
              "  'Aisha Jamil',\n",
              "  'Karen Amendola',\n",
              "  'Erica Richardson',\n",
              "  'Christine Johnson',\n",
              "  'Brett Cowell'],\n",
              " ['Sarita Coletrane',\n",
              "  'Ben Gorban',\n",
              "  'Aisha Jamil',\n",
              "  'Karen Amendola',\n",
              "  'Erica Richardson',\n",
              "  'Christine Johnson',\n",
              "  'Yukun Yang'],\n",
              " ['Sarita Coletrane',\n",
              "  'Ben Gorban',\n",
              "  'Aisha Jamil',\n",
              "  'Trenay Wren-Evans',\n",
              "  'Erica Richardson'],\n",
              " ['Sarita Coletrane',\n",
              "  'Ben Gorban',\n",
              "  'Aisha Jamil',\n",
              "  'Trenay Wren-Evans',\n",
              "  'Katherine Hoogesteyn',\n",
              "  'Jim Burch'],\n",
              " ['Sarita Coletrane',\n",
              "  'Ben Gorban',\n",
              "  'Frank Straub',\n",
              "  'Erica Richardson',\n",
              "  'Christine Johnson'],\n",
              " ['Sarita Coletrane', 'Ben Gorban', 'Julia Kessler', 'Brett Cowell'],\n",
              " ['Sarita Coletrane', 'Ben Gorban', 'Danielle Parsons', 'Lorena Singer'],\n",
              " ['Sarita Coletrane', 'Ben Gorban', 'Danielle Parsons', 'Erica Richardson'],\n",
              " ['Sarita Coletrane',\n",
              "  'Ben Gorban',\n",
              "  'Danielle Parsons',\n",
              "  'Scarlett Ojeda Geldres'],\n",
              " ['Sarita Coletrane',\n",
              "  'Jane Mott-Palmer',\n",
              "  'Jim Burch',\n",
              "  'Maria Valdovinos Olson Valdovinos'],\n",
              " ['Sarita Coletrane', 'Jane Mott-Palmer', 'Jim Burch', 'Julia Kessler'],\n",
              " ['Sarita Coletrane',\n",
              "  'Jane Mott-Palmer',\n",
              "  'Brett Cowell',\n",
              "  'Maria Valdovinos Olson Valdovinos'],\n",
              " ['Sarita Coletrane', 'Jane Mott-Palmer', 'Brett Cowell', 'Erica Richardson'],\n",
              " ['Sarita Coletrane', 'Jane Mott-Palmer', 'Brett Cowell', 'Julia Kessler'],\n",
              " ['Sarita Coletrane',\n",
              "  'Mary Kate Murphy',\n",
              "  'Jen Zeunik',\n",
              "  'Yukun Yang',\n",
              "  'Christine Johnson',\n",
              "  'Travis Taniguchi',\n",
              "  'Pauline Alvarado'],\n",
              " ['Sarita Coletrane',\n",
              "  'Mary Kate Murphy',\n",
              "  'Jen Zeunik',\n",
              "  'Yukun Yang',\n",
              "  'Christine Johnson',\n",
              "  'Aisha Jamil'],\n",
              " ['Sarita Coletrane',\n",
              "  'Mary Kate Murphy',\n",
              "  'Jen Zeunik',\n",
              "  'Scarlett Ojeda Geldres',\n",
              "  'Aisha Jamil'],\n",
              " ['Kerry Yerico', 'Eiryn Renouard', 'Scarlett Ojeda Geldres'],\n",
              " ['Kerry Yerico', 'Garrett Johnson'],\n",
              " ['Kerry Yerico',\n",
              "  'Ben Gorban',\n",
              "  'Jim Burch',\n",
              "  'Aisha Jamil',\n",
              "  'Scarlett Ojeda Geldres'],\n",
              " ['Kerry Yerico', 'Ben Gorban', 'Jim Burch', 'Aisha Jamil', 'Karen Amendola'],\n",
              " ['Kerry Yerico', 'Ben Gorban', 'Jim Burch', 'Julia Kessler'],\n",
              " ['Kerry Yerico',\n",
              "  'Ben Gorban',\n",
              "  'Scarlett Ojeda Geldres',\n",
              "  'Brett Cowell',\n",
              "  'Aisha Jamil'],\n",
              " ['Danielle Boekankamp', 'Lorena Singer'],\n",
              " ['Danielle Boekankamp',\n",
              "  'Pauline Alvarado',\n",
              "  'Karen Amendola',\n",
              "  'Katherine Hoogesteyn'],\n",
              " ['Danielle Boekankamp', 'Pauline Alvarado', 'Karen Amendola', 'Yukun Yang'],\n",
              " ['Dominique Burton',\n",
              "  'Christine Johnson',\n",
              "  'Frank Straub',\n",
              "  'Erica Richardson',\n",
              "  'Ben Gorban'],\n",
              " ['Dominique Burton',\n",
              "  'Christine Johnson',\n",
              "  'Pauline Alvarado',\n",
              "  'Yukun Yang',\n",
              "  'Mary Kate Murphy',\n",
              "  'Jen Zeunik'],\n",
              " ['Dominique Burton',\n",
              "  'Christine Johnson',\n",
              "  'Pauline Alvarado',\n",
              "  'Yukun Yang',\n",
              "  'Ben Gorban',\n",
              "  'Erica Richardson'],\n",
              " ['Dominique Burton',\n",
              "  'Christine Johnson',\n",
              "  'Pauline Alvarado',\n",
              "  'Yukun Yang',\n",
              "  'Ben Gorban',\n",
              "  'Jim Burch'],\n",
              " ['Dominique Burton',\n",
              "  'Christine Johnson',\n",
              "  'Pauline Alvarado',\n",
              "  'Yukun Yang',\n",
              "  'Ben Gorban',\n",
              "  'Jen Zeunik'],\n",
              " ['Dominique Burton',\n",
              "  'Christine Johnson',\n",
              "  'Elizabeth Fontaine',\n",
              "  'Erica Richardson'],\n",
              " ['Dominique Burton', 'Christine Johnson', 'Elizabeth Fontaine', 'Jim Burch'],\n",
              " ['Dominique Burton', 'Christine Johnson', 'Elizabeth Fontaine', 'Jen Zeunik'],\n",
              " ['Fern Hernberg', 'Ben Gorban', 'Katherine Hoogesteyn', 'Jim Burch'],\n",
              " ['Fern Hernberg', 'Ben Gorban', 'Frank Straub'],\n",
              " ['Fern Hernberg', 'Ben Gorban', 'Scarlett Ojeda Geldres', 'Jim Burch'],\n",
              " ['Fern Hernberg', 'Ben Gorban', 'Scarlett Ojeda Geldres', 'Brett Cowell'],\n",
              " ['Tamara Martin', 'Brett Cowell', 'Erica Richardson', 'Jane Mott-Palmer'],\n",
              " ['Tamara Martin',\n",
              "  'Brett Cowell',\n",
              "  'Erica Richardson',\n",
              "  'Aisha Jamil',\n",
              "  'Ben Gorban'],\n",
              " ['Tamara Martin', 'Mary Kate Murphy', 'Aisha Jamil']]"
            ]
          },
          "metadata": {
            "tags": []
          },
          "execution_count": 70
        }
      ]
    },
    {
      "cell_type": "markdown",
      "metadata": {
        "id": "t0k66vMRKz8P"
      },
      "source": [
        "## Does NPF show \"small world\" characteristics?"
      ]
    },
    {
      "cell_type": "markdown",
      "metadata": {
        "id": "1kTDTV4tLlHw"
      },
      "source": [
        "We simulate an ER network given the same amount of edges and nodes"
      ]
    },
    {
      "cell_type": "markdown",
      "metadata": {
        "id": "fmGMaSNuMr7G"
      },
      "source": [
        "Small-world networks should have some spatial structure, which is reflected by a high clustering coefficient. By contrast, random networks have no such structure and a low clustering coefficient.\n",
        "\n",
        "Small-world networks are efficient in communicating and similar and thus have a small shortest path length, comparable to that of random networks. By contrast, purely spatial networks have a high shortest path length."
      ]
    },
    {
      "cell_type": "code",
      "metadata": {
        "id": "6k_g_K8lBqoA"
      },
      "source": [
        "G_ER=nx.gnm_random_graph(len(G.nodes), len(G.edges), directed=True)"
      ],
      "execution_count": null,
      "outputs": []
    },
    {
      "cell_type": "code",
      "metadata": {
        "colab": {
          "base_uri": "https://localhost:8080/"
        },
        "id": "0eh4ygj_K5HU",
        "outputId": "579a2096-bffa-4cea-cb0f-50e131dc6ab4"
      },
      "source": [
        "nx.average_shortest_path_length(G_ER)"
      ],
      "execution_count": null,
      "outputs": [
        {
          "output_type": "execute_result",
          "data": {
            "text/plain": [
              "1.8731443994601888"
            ]
          },
          "metadata": {
            "tags": []
          },
          "execution_count": 72
        }
      ]
    },
    {
      "cell_type": "code",
      "metadata": {
        "colab": {
          "base_uri": "https://localhost:8080/"
        },
        "id": "xnJm_zpkK-h_",
        "outputId": "a2ec8d72-4489-49eb-9204-c4075c3654d0"
      },
      "source": [
        "nx.average_clustering(G_ER)"
      ],
      "execution_count": null,
      "outputs": [
        {
          "output_type": "execute_result",
          "data": {
            "text/plain": [
              "0.2350731444244564"
            ]
          },
          "metadata": {
            "tags": []
          },
          "execution_count": 73
        }
      ]
    },
    {
      "cell_type": "code",
      "metadata": {
        "colab": {
          "base_uri": "https://localhost:8080/"
        },
        "id": "-DHv8GOOMcDo",
        "outputId": "4b6d8b81-41ba-410e-ba6e-00632a56ce87"
      },
      "source": [
        "nx.diameter(G_ER)"
      ],
      "execution_count": null,
      "outputs": [
        {
          "output_type": "execute_result",
          "data": {
            "text/plain": [
              "3"
            ]
          },
          "metadata": {
            "tags": []
          },
          "execution_count": 74
        }
      ]
    },
    {
      "cell_type": "code",
      "metadata": {
        "colab": {
          "base_uri": "https://localhost:8080/",
          "height": 1000
        },
        "id": "DVI-Z7FzWyk_",
        "outputId": "2feb76c0-4e04-4150-f1b3-c0d29f3ac2cb"
      },
      "source": [
        "plot_degree_dist(G_ER, include_hist=True)"
      ],
      "execution_count": null,
      "outputs": [
        {
          "output_type": "display_data",
          "data": {
            "text/html": [
              "<html>\n",
              "<head><meta charset=\"utf-8\" /></head>\n",
              "<body>\n",
              "    <div>            <script src=\"https://cdnjs.cloudflare.com/ajax/libs/mathjax/2.7.5/MathJax.js?config=TeX-AMS-MML_SVG\"></script><script type=\"text/javascript\">if (window.MathJax) {MathJax.Hub.Config({SVG: {font: \"STIX-Web\"}});}</script>                <script type=\"text/javascript\">window.PlotlyConfig = {MathJaxConfig: 'local'};</script>\n",
              "        <script src=\"https://cdn.plot.ly/plotly-latest.min.js\"></script>                <div id=\"a8e6332f-2829-487c-9a20-669b02c1e0cc\" class=\"plotly-graph-div\" style=\"height:525px; width:100%;\"></div>            <script type=\"text/javascript\">                                    window.PLOTLYENV=window.PLOTLYENV || {};                                    if (document.getElementById(\"a8e6332f-2829-487c-9a20-669b02c1e0cc\")) {                    Plotly.newPlot(                        \"a8e6332f-2829-487c-9a20-669b02c1e0cc\",                        [{\"hovertemplate\": \"type=outdegree<br>degree=%{x}<br>count=%{y}<extra></extra>\", \"legendgroup\": \"outdegree\", \"marker\": {\"color\": \"#636efa\", \"symbol\": \"circle\"}, \"mode\": \"markers+lines\", \"name\": \"outdegree\", \"orientation\": \"v\", \"showlegend\": true, \"type\": \"scatter\", \"x\": [2, 5, 6, 7, 8, 9, 10, 11, 12, 14, 16], \"xaxis\": \"x\", \"y\": [1, 1, 4, 4, 12, 7, 2, 2, 2, 2, 2], \"yaxis\": \"y\"}, {\"hovertemplate\": \"type=indegree<br>degree=%{x}<br>count=%{y}<extra></extra>\", \"legendgroup\": \"indegree\", \"marker\": {\"color\": \"#EF553B\", \"symbol\": \"circle\"}, \"mode\": \"markers+lines\", \"name\": \"indegree\", \"orientation\": \"v\", \"showlegend\": true, \"type\": \"scatter\", \"x\": [4, 6, 7, 8, 9, 10, 11, 12, 13, 14], \"xaxis\": \"x\", \"y\": [4, 2, 8, 4, 1, 10, 6, 1, 1, 2], \"yaxis\": \"y\"}],                        {\"legend\": {\"title\": {\"text\": \"type\"}, \"tracegroupgap\": 0}, \"margin\": {\"t\": 60}, \"template\": {\"data\": {\"bar\": [{\"error_x\": {\"color\": \"#2a3f5f\"}, \"error_y\": {\"color\": \"#2a3f5f\"}, \"marker\": {\"line\": {\"color\": \"#E5ECF6\", \"width\": 0.5}}, \"type\": \"bar\"}], \"barpolar\": [{\"marker\": {\"line\": {\"color\": \"#E5ECF6\", \"width\": 0.5}}, \"type\": \"barpolar\"}], \"carpet\": [{\"aaxis\": {\"endlinecolor\": \"#2a3f5f\", \"gridcolor\": \"white\", \"linecolor\": \"white\", \"minorgridcolor\": \"white\", \"startlinecolor\": \"#2a3f5f\"}, \"baxis\": {\"endlinecolor\": \"#2a3f5f\", \"gridcolor\": \"white\", \"linecolor\": \"white\", \"minorgridcolor\": \"white\", \"startlinecolor\": \"#2a3f5f\"}, \"type\": \"carpet\"}], \"choropleth\": [{\"colorbar\": {\"outlinewidth\": 0, \"ticks\": \"\"}, \"type\": \"choropleth\"}], \"contour\": [{\"colorbar\": {\"outlinewidth\": 0, \"ticks\": \"\"}, \"colorscale\": [[0.0, \"#0d0887\"], [0.1111111111111111, \"#46039f\"], [0.2222222222222222, \"#7201a8\"], [0.3333333333333333, \"#9c179e\"], [0.4444444444444444, \"#bd3786\"], [0.5555555555555556, \"#d8576b\"], [0.6666666666666666, \"#ed7953\"], [0.7777777777777778, \"#fb9f3a\"], [0.8888888888888888, \"#fdca26\"], [1.0, \"#f0f921\"]], \"type\": \"contour\"}], \"contourcarpet\": [{\"colorbar\": {\"outlinewidth\": 0, \"ticks\": \"\"}, \"type\": \"contourcarpet\"}], \"heatmap\": [{\"colorbar\": {\"outlinewidth\": 0, \"ticks\": \"\"}, \"colorscale\": [[0.0, \"#0d0887\"], [0.1111111111111111, \"#46039f\"], [0.2222222222222222, \"#7201a8\"], [0.3333333333333333, \"#9c179e\"], [0.4444444444444444, \"#bd3786\"], [0.5555555555555556, \"#d8576b\"], [0.6666666666666666, \"#ed7953\"], [0.7777777777777778, \"#fb9f3a\"], [0.8888888888888888, \"#fdca26\"], [1.0, \"#f0f921\"]], \"type\": \"heatmap\"}], \"heatmapgl\": [{\"colorbar\": {\"outlinewidth\": 0, \"ticks\": \"\"}, \"colorscale\": [[0.0, \"#0d0887\"], [0.1111111111111111, \"#46039f\"], [0.2222222222222222, \"#7201a8\"], [0.3333333333333333, \"#9c179e\"], [0.4444444444444444, \"#bd3786\"], [0.5555555555555556, \"#d8576b\"], [0.6666666666666666, \"#ed7953\"], [0.7777777777777778, \"#fb9f3a\"], [0.8888888888888888, \"#fdca26\"], [1.0, \"#f0f921\"]], \"type\": \"heatmapgl\"}], \"histogram\": [{\"marker\": {\"colorbar\": {\"outlinewidth\": 0, \"ticks\": \"\"}}, \"type\": \"histogram\"}], \"histogram2d\": [{\"colorbar\": {\"outlinewidth\": 0, \"ticks\": \"\"}, \"colorscale\": [[0.0, \"#0d0887\"], [0.1111111111111111, \"#46039f\"], [0.2222222222222222, \"#7201a8\"], [0.3333333333333333, \"#9c179e\"], [0.4444444444444444, \"#bd3786\"], [0.5555555555555556, \"#d8576b\"], [0.6666666666666666, \"#ed7953\"], [0.7777777777777778, \"#fb9f3a\"], [0.8888888888888888, \"#fdca26\"], [1.0, \"#f0f921\"]], \"type\": \"histogram2d\"}], \"histogram2dcontour\": [{\"colorbar\": {\"outlinewidth\": 0, \"ticks\": \"\"}, \"colorscale\": [[0.0, \"#0d0887\"], [0.1111111111111111, \"#46039f\"], [0.2222222222222222, \"#7201a8\"], [0.3333333333333333, \"#9c179e\"], [0.4444444444444444, \"#bd3786\"], [0.5555555555555556, \"#d8576b\"], [0.6666666666666666, \"#ed7953\"], [0.7777777777777778, \"#fb9f3a\"], [0.8888888888888888, \"#fdca26\"], [1.0, \"#f0f921\"]], \"type\": \"histogram2dcontour\"}], \"mesh3d\": [{\"colorbar\": {\"outlinewidth\": 0, \"ticks\": \"\"}, \"type\": \"mesh3d\"}], \"parcoords\": [{\"line\": {\"colorbar\": {\"outlinewidth\": 0, \"ticks\": \"\"}}, \"type\": \"parcoords\"}], \"pie\": [{\"automargin\": true, \"type\": \"pie\"}], \"scatter\": [{\"marker\": {\"colorbar\": {\"outlinewidth\": 0, \"ticks\": \"\"}}, \"type\": \"scatter\"}], \"scatter3d\": [{\"line\": {\"colorbar\": {\"outlinewidth\": 0, \"ticks\": \"\"}}, \"marker\": {\"colorbar\": {\"outlinewidth\": 0, \"ticks\": \"\"}}, \"type\": \"scatter3d\"}], \"scattercarpet\": [{\"marker\": {\"colorbar\": {\"outlinewidth\": 0, \"ticks\": \"\"}}, \"type\": \"scattercarpet\"}], \"scattergeo\": [{\"marker\": {\"colorbar\": {\"outlinewidth\": 0, \"ticks\": \"\"}}, \"type\": \"scattergeo\"}], \"scattergl\": [{\"marker\": {\"colorbar\": {\"outlinewidth\": 0, \"ticks\": \"\"}}, \"type\": \"scattergl\"}], \"scattermapbox\": [{\"marker\": {\"colorbar\": {\"outlinewidth\": 0, \"ticks\": \"\"}}, \"type\": \"scattermapbox\"}], \"scatterpolar\": [{\"marker\": {\"colorbar\": {\"outlinewidth\": 0, \"ticks\": \"\"}}, \"type\": \"scatterpolar\"}], \"scatterpolargl\": [{\"marker\": {\"colorbar\": {\"outlinewidth\": 0, \"ticks\": \"\"}}, \"type\": \"scatterpolargl\"}], \"scatterternary\": [{\"marker\": {\"colorbar\": {\"outlinewidth\": 0, \"ticks\": \"\"}}, \"type\": \"scatterternary\"}], \"surface\": [{\"colorbar\": {\"outlinewidth\": 0, \"ticks\": \"\"}, \"colorscale\": [[0.0, \"#0d0887\"], [0.1111111111111111, \"#46039f\"], [0.2222222222222222, \"#7201a8\"], [0.3333333333333333, \"#9c179e\"], [0.4444444444444444, \"#bd3786\"], [0.5555555555555556, \"#d8576b\"], [0.6666666666666666, \"#ed7953\"], [0.7777777777777778, \"#fb9f3a\"], [0.8888888888888888, \"#fdca26\"], [1.0, \"#f0f921\"]], \"type\": \"surface\"}], \"table\": [{\"cells\": {\"fill\": {\"color\": \"#EBF0F8\"}, \"line\": {\"color\": \"white\"}}, \"header\": {\"fill\": {\"color\": \"#C8D4E3\"}, \"line\": {\"color\": \"white\"}}, \"type\": \"table\"}]}, \"layout\": {\"annotationdefaults\": {\"arrowcolor\": \"#2a3f5f\", \"arrowhead\": 0, \"arrowwidth\": 1}, \"autotypenumbers\": \"strict\", \"coloraxis\": {\"colorbar\": {\"outlinewidth\": 0, \"ticks\": \"\"}}, \"colorscale\": {\"diverging\": [[0, \"#8e0152\"], [0.1, \"#c51b7d\"], [0.2, \"#de77ae\"], [0.3, \"#f1b6da\"], [0.4, \"#fde0ef\"], [0.5, \"#f7f7f7\"], [0.6, \"#e6f5d0\"], [0.7, \"#b8e186\"], [0.8, \"#7fbc41\"], [0.9, \"#4d9221\"], [1, \"#276419\"]], \"sequential\": [[0.0, \"#0d0887\"], [0.1111111111111111, \"#46039f\"], [0.2222222222222222, \"#7201a8\"], [0.3333333333333333, \"#9c179e\"], [0.4444444444444444, \"#bd3786\"], [0.5555555555555556, \"#d8576b\"], [0.6666666666666666, \"#ed7953\"], [0.7777777777777778, \"#fb9f3a\"], [0.8888888888888888, \"#fdca26\"], [1.0, \"#f0f921\"]], \"sequentialminus\": [[0.0, \"#0d0887\"], [0.1111111111111111, \"#46039f\"], [0.2222222222222222, \"#7201a8\"], [0.3333333333333333, \"#9c179e\"], [0.4444444444444444, \"#bd3786\"], [0.5555555555555556, \"#d8576b\"], [0.6666666666666666, \"#ed7953\"], [0.7777777777777778, \"#fb9f3a\"], [0.8888888888888888, \"#fdca26\"], [1.0, \"#f0f921\"]]}, \"colorway\": [\"#636efa\", \"#EF553B\", \"#00cc96\", \"#ab63fa\", \"#FFA15A\", \"#19d3f3\", \"#FF6692\", \"#B6E880\", \"#FF97FF\", \"#FECB52\"], \"font\": {\"color\": \"#2a3f5f\"}, \"geo\": {\"bgcolor\": \"white\", \"lakecolor\": \"white\", \"landcolor\": \"#E5ECF6\", \"showlakes\": true, \"showland\": true, \"subunitcolor\": \"white\"}, \"hoverlabel\": {\"align\": \"left\"}, \"hovermode\": \"closest\", \"mapbox\": {\"style\": \"light\"}, \"paper_bgcolor\": \"white\", \"plot_bgcolor\": \"#E5ECF6\", \"polar\": {\"angularaxis\": {\"gridcolor\": \"white\", \"linecolor\": \"white\", \"ticks\": \"\"}, \"bgcolor\": \"#E5ECF6\", \"radialaxis\": {\"gridcolor\": \"white\", \"linecolor\": \"white\", \"ticks\": \"\"}}, \"scene\": {\"xaxis\": {\"backgroundcolor\": \"#E5ECF6\", \"gridcolor\": \"white\", \"gridwidth\": 2, \"linecolor\": \"white\", \"showbackground\": true, \"ticks\": \"\", \"zerolinecolor\": \"white\"}, \"yaxis\": {\"backgroundcolor\": \"#E5ECF6\", \"gridcolor\": \"white\", \"gridwidth\": 2, \"linecolor\": \"white\", \"showbackground\": true, \"ticks\": \"\", \"zerolinecolor\": \"white\"}, \"zaxis\": {\"backgroundcolor\": \"#E5ECF6\", \"gridcolor\": \"white\", \"gridwidth\": 2, \"linecolor\": \"white\", \"showbackground\": true, \"ticks\": \"\", \"zerolinecolor\": \"white\"}}, \"shapedefaults\": {\"line\": {\"color\": \"#2a3f5f\"}}, \"ternary\": {\"aaxis\": {\"gridcolor\": \"white\", \"linecolor\": \"white\", \"ticks\": \"\"}, \"baxis\": {\"gridcolor\": \"white\", \"linecolor\": \"white\", \"ticks\": \"\"}, \"bgcolor\": \"#E5ECF6\", \"caxis\": {\"gridcolor\": \"white\", \"linecolor\": \"white\", \"ticks\": \"\"}}, \"title\": {\"x\": 0.05}, \"xaxis\": {\"automargin\": true, \"gridcolor\": \"white\", \"linecolor\": \"white\", \"ticks\": \"\", \"title\": {\"standoff\": 15}, \"zerolinecolor\": \"white\", \"zerolinewidth\": 2}, \"yaxis\": {\"automargin\": true, \"gridcolor\": \"white\", \"linecolor\": \"white\", \"ticks\": \"\", \"title\": {\"standoff\": 15}, \"zerolinecolor\": \"white\", \"zerolinewidth\": 2}}}, \"xaxis\": {\"anchor\": \"y\", \"domain\": [0.0, 1.0], \"title\": {\"text\": \"degree\"}}, \"yaxis\": {\"anchor\": \"x\", \"domain\": [0.0, 1.0], \"title\": {\"text\": \"count\"}}},                        {\"responsive\": true}                    ).then(function(){\n",
              "                            \n",
              "var gd = document.getElementById('a8e6332f-2829-487c-9a20-669b02c1e0cc');\n",
              "var x = new MutationObserver(function (mutations, observer) {{\n",
              "        var display = window.getComputedStyle(gd).display;\n",
              "        if (!display || display === 'none') {{\n",
              "            console.log([gd, 'removed!']);\n",
              "            Plotly.purge(gd);\n",
              "            observer.disconnect();\n",
              "        }}\n",
              "}});\n",
              "\n",
              "// Listen for the removal of the full notebook cells\n",
              "var notebookContainer = gd.closest('#notebook-container');\n",
              "if (notebookContainer) {{\n",
              "    x.observe(notebookContainer, {childList: true});\n",
              "}}\n",
              "\n",
              "// Listen for the clearing of the current output cell\n",
              "var outputEl = gd.closest('.output');\n",
              "if (outputEl) {{\n",
              "    x.observe(outputEl, {childList: true});\n",
              "}}\n",
              "\n",
              "                        })                };                            </script>        </div>\n",
              "</body>\n",
              "</html>"
            ]
          },
          "metadata": {
            "tags": []
          }
        },
        {
          "output_type": "display_data",
          "data": {
            "text/html": [
              "<html>\n",
              "<head><meta charset=\"utf-8\" /></head>\n",
              "<body>\n",
              "    <div>            <script src=\"https://cdnjs.cloudflare.com/ajax/libs/mathjax/2.7.5/MathJax.js?config=TeX-AMS-MML_SVG\"></script><script type=\"text/javascript\">if (window.MathJax) {MathJax.Hub.Config({SVG: {font: \"STIX-Web\"}});}</script>                <script type=\"text/javascript\">window.PlotlyConfig = {MathJaxConfig: 'local'};</script>\n",
              "        <script src=\"https://cdn.plot.ly/plotly-latest.min.js\"></script>                <div id=\"5261fd3c-bdc1-4581-a7bb-516a5b539ddb\" class=\"plotly-graph-div\" style=\"height:525px; width:100%;\"></div>            <script type=\"text/javascript\">                                    window.PLOTLYENV=window.PLOTLYENV || {};                                    if (document.getElementById(\"5261fd3c-bdc1-4581-a7bb-516a5b539ddb\")) {                    Plotly.newPlot(                        \"5261fd3c-bdc1-4581-a7bb-516a5b539ddb\",                        [{\"alignmentgroup\": \"True\", \"bingroup\": \"x\", \"hovertemplate\": \"type=indegree<br>value=%{x}<br>count=%{y}<extra></extra>\", \"legendgroup\": \"indegree\", \"marker\": {\"color\": \"#636efa\", \"opacity\": 0.5}, \"name\": \"indegree\", \"offsetgroup\": \"indegree\", \"orientation\": \"v\", \"showlegend\": true, \"type\": \"histogram\", \"x\": [10, 10, 7, 8, 4, 10, 11, 4, 11, 13, 9, 11, 12, 4, 7, 10, 11, 7, 8, 8, 11, 6, 10, 7, 10, 10, 11, 7, 14, 10, 4, 7, 7, 6, 10, 7, 10, 14, 8], \"xaxis\": \"x\", \"yaxis\": \"y\"}, {\"alignmentgroup\": \"True\", \"hovertemplate\": \"type=indegree<br>value=%{x}<extra></extra>\", \"legendgroup\": \"indegree\", \"marker\": {\"color\": \"#636efa\"}, \"name\": \"indegree\", \"notched\": true, \"offsetgroup\": \"indegree\", \"showlegend\": false, \"type\": \"box\", \"x\": [10, 10, 7, 8, 4, 10, 11, 4, 11, 13, 9, 11, 12, 4, 7, 10, 11, 7, 8, 8, 11, 6, 10, 7, 10, 10, 11, 7, 14, 10, 4, 7, 7, 6, 10, 7, 10, 14, 8], \"xaxis\": \"x2\", \"yaxis\": \"y2\"}, {\"alignmentgroup\": \"True\", \"bingroup\": \"x\", \"hovertemplate\": \"type=outdegree<br>value=%{x}<br>count=%{y}<extra></extra>\", \"legendgroup\": \"outdegree\", \"marker\": {\"color\": \"#EF553B\", \"opacity\": 0.5}, \"name\": \"outdegree\", \"offsetgroup\": \"outdegree\", \"orientation\": \"v\", \"showlegend\": true, \"type\": \"histogram\", \"x\": [9, 11, 9, 8, 11, 9, 9, 7, 7, 6, 8, 14, 16, 2, 6, 8, 6, 8, 8, 14, 6, 9, 8, 8, 9, 10, 10, 12, 8, 12, 7, 5, 7, 16, 8, 8, 8, 9, 8], \"xaxis\": \"x\", \"yaxis\": \"y\"}, {\"alignmentgroup\": \"True\", \"hovertemplate\": \"type=outdegree<br>value=%{x}<extra></extra>\", \"legendgroup\": \"outdegree\", \"marker\": {\"color\": \"#EF553B\"}, \"name\": \"outdegree\", \"notched\": true, \"offsetgroup\": \"outdegree\", \"showlegend\": false, \"type\": \"box\", \"x\": [9, 11, 9, 8, 11, 9, 9, 7, 7, 6, 8, 14, 16, 2, 6, 8, 6, 8, 8, 14, 6, 9, 8, 8, 9, 10, 10, 12, 8, 12, 7, 5, 7, 16, 8, 8, 8, 9, 8], \"xaxis\": \"x2\", \"yaxis\": \"y2\"}],                        {\"barmode\": \"overlay\", \"legend\": {\"title\": {\"text\": \"type\"}, \"tracegroupgap\": 0}, \"margin\": {\"t\": 60}, \"template\": {\"data\": {\"bar\": [{\"error_x\": {\"color\": \"#2a3f5f\"}, \"error_y\": {\"color\": \"#2a3f5f\"}, \"marker\": {\"line\": {\"color\": \"#E5ECF6\", \"width\": 0.5}}, \"type\": \"bar\"}], \"barpolar\": [{\"marker\": {\"line\": {\"color\": \"#E5ECF6\", \"width\": 0.5}}, \"type\": \"barpolar\"}], \"carpet\": [{\"aaxis\": {\"endlinecolor\": \"#2a3f5f\", \"gridcolor\": \"white\", \"linecolor\": \"white\", \"minorgridcolor\": \"white\", \"startlinecolor\": \"#2a3f5f\"}, \"baxis\": {\"endlinecolor\": \"#2a3f5f\", \"gridcolor\": \"white\", \"linecolor\": \"white\", \"minorgridcolor\": \"white\", \"startlinecolor\": \"#2a3f5f\"}, \"type\": \"carpet\"}], \"choropleth\": [{\"colorbar\": {\"outlinewidth\": 0, \"ticks\": \"\"}, \"type\": \"choropleth\"}], \"contour\": [{\"colorbar\": {\"outlinewidth\": 0, \"ticks\": \"\"}, \"colorscale\": [[0.0, \"#0d0887\"], [0.1111111111111111, \"#46039f\"], [0.2222222222222222, \"#7201a8\"], [0.3333333333333333, \"#9c179e\"], [0.4444444444444444, \"#bd3786\"], [0.5555555555555556, \"#d8576b\"], [0.6666666666666666, \"#ed7953\"], [0.7777777777777778, \"#fb9f3a\"], [0.8888888888888888, \"#fdca26\"], [1.0, \"#f0f921\"]], \"type\": \"contour\"}], \"contourcarpet\": [{\"colorbar\": {\"outlinewidth\": 0, \"ticks\": \"\"}, \"type\": \"contourcarpet\"}], \"heatmap\": [{\"colorbar\": {\"outlinewidth\": 0, \"ticks\": \"\"}, \"colorscale\": [[0.0, \"#0d0887\"], [0.1111111111111111, \"#46039f\"], [0.2222222222222222, \"#7201a8\"], [0.3333333333333333, \"#9c179e\"], [0.4444444444444444, \"#bd3786\"], [0.5555555555555556, \"#d8576b\"], [0.6666666666666666, \"#ed7953\"], [0.7777777777777778, \"#fb9f3a\"], [0.8888888888888888, \"#fdca26\"], [1.0, \"#f0f921\"]], \"type\": \"heatmap\"}], \"heatmapgl\": [{\"colorbar\": {\"outlinewidth\": 0, \"ticks\": \"\"}, \"colorscale\": [[0.0, \"#0d0887\"], [0.1111111111111111, \"#46039f\"], [0.2222222222222222, \"#7201a8\"], [0.3333333333333333, \"#9c179e\"], [0.4444444444444444, \"#bd3786\"], [0.5555555555555556, \"#d8576b\"], [0.6666666666666666, \"#ed7953\"], [0.7777777777777778, \"#fb9f3a\"], [0.8888888888888888, \"#fdca26\"], [1.0, \"#f0f921\"]], \"type\": \"heatmapgl\"}], \"histogram\": [{\"marker\": {\"colorbar\": {\"outlinewidth\": 0, \"ticks\": \"\"}}, \"type\": \"histogram\"}], \"histogram2d\": [{\"colorbar\": {\"outlinewidth\": 0, \"ticks\": \"\"}, \"colorscale\": [[0.0, \"#0d0887\"], [0.1111111111111111, \"#46039f\"], [0.2222222222222222, \"#7201a8\"], [0.3333333333333333, \"#9c179e\"], [0.4444444444444444, \"#bd3786\"], [0.5555555555555556, \"#d8576b\"], [0.6666666666666666, \"#ed7953\"], [0.7777777777777778, \"#fb9f3a\"], [0.8888888888888888, \"#fdca26\"], [1.0, \"#f0f921\"]], \"type\": \"histogram2d\"}], \"histogram2dcontour\": [{\"colorbar\": {\"outlinewidth\": 0, \"ticks\": \"\"}, \"colorscale\": [[0.0, \"#0d0887\"], [0.1111111111111111, \"#46039f\"], [0.2222222222222222, \"#7201a8\"], [0.3333333333333333, \"#9c179e\"], [0.4444444444444444, \"#bd3786\"], [0.5555555555555556, \"#d8576b\"], [0.6666666666666666, \"#ed7953\"], [0.7777777777777778, \"#fb9f3a\"], [0.8888888888888888, \"#fdca26\"], [1.0, \"#f0f921\"]], \"type\": \"histogram2dcontour\"}], \"mesh3d\": [{\"colorbar\": {\"outlinewidth\": 0, \"ticks\": \"\"}, \"type\": \"mesh3d\"}], \"parcoords\": [{\"line\": {\"colorbar\": {\"outlinewidth\": 0, \"ticks\": \"\"}}, \"type\": \"parcoords\"}], \"pie\": [{\"automargin\": true, \"type\": \"pie\"}], \"scatter\": [{\"marker\": {\"colorbar\": {\"outlinewidth\": 0, \"ticks\": \"\"}}, \"type\": \"scatter\"}], \"scatter3d\": [{\"line\": {\"colorbar\": {\"outlinewidth\": 0, \"ticks\": \"\"}}, \"marker\": {\"colorbar\": {\"outlinewidth\": 0, \"ticks\": \"\"}}, \"type\": \"scatter3d\"}], \"scattercarpet\": [{\"marker\": {\"colorbar\": {\"outlinewidth\": 0, \"ticks\": \"\"}}, \"type\": \"scattercarpet\"}], \"scattergeo\": [{\"marker\": {\"colorbar\": {\"outlinewidth\": 0, \"ticks\": \"\"}}, \"type\": \"scattergeo\"}], \"scattergl\": [{\"marker\": {\"colorbar\": {\"outlinewidth\": 0, \"ticks\": \"\"}}, \"type\": \"scattergl\"}], \"scattermapbox\": [{\"marker\": {\"colorbar\": {\"outlinewidth\": 0, \"ticks\": \"\"}}, \"type\": \"scattermapbox\"}], \"scatterpolar\": [{\"marker\": {\"colorbar\": {\"outlinewidth\": 0, \"ticks\": \"\"}}, \"type\": \"scatterpolar\"}], \"scatterpolargl\": [{\"marker\": {\"colorbar\": {\"outlinewidth\": 0, \"ticks\": \"\"}}, \"type\": \"scatterpolargl\"}], \"scatterternary\": [{\"marker\": {\"colorbar\": {\"outlinewidth\": 0, \"ticks\": \"\"}}, \"type\": \"scatterternary\"}], \"surface\": [{\"colorbar\": {\"outlinewidth\": 0, \"ticks\": \"\"}, \"colorscale\": [[0.0, \"#0d0887\"], [0.1111111111111111, \"#46039f\"], [0.2222222222222222, \"#7201a8\"], [0.3333333333333333, \"#9c179e\"], [0.4444444444444444, \"#bd3786\"], [0.5555555555555556, \"#d8576b\"], [0.6666666666666666, \"#ed7953\"], [0.7777777777777778, \"#fb9f3a\"], [0.8888888888888888, \"#fdca26\"], [1.0, \"#f0f921\"]], \"type\": \"surface\"}], \"table\": [{\"cells\": {\"fill\": {\"color\": \"#EBF0F8\"}, \"line\": {\"color\": \"white\"}}, \"header\": {\"fill\": {\"color\": \"#C8D4E3\"}, \"line\": {\"color\": \"white\"}}, \"type\": \"table\"}]}, \"layout\": {\"annotationdefaults\": {\"arrowcolor\": \"#2a3f5f\", \"arrowhead\": 0, \"arrowwidth\": 1}, \"autotypenumbers\": \"strict\", \"coloraxis\": {\"colorbar\": {\"outlinewidth\": 0, \"ticks\": \"\"}}, \"colorscale\": {\"diverging\": [[0, \"#8e0152\"], [0.1, \"#c51b7d\"], [0.2, \"#de77ae\"], [0.3, \"#f1b6da\"], [0.4, \"#fde0ef\"], [0.5, \"#f7f7f7\"], [0.6, \"#e6f5d0\"], [0.7, \"#b8e186\"], [0.8, \"#7fbc41\"], [0.9, \"#4d9221\"], [1, \"#276419\"]], \"sequential\": [[0.0, \"#0d0887\"], [0.1111111111111111, \"#46039f\"], [0.2222222222222222, \"#7201a8\"], [0.3333333333333333, \"#9c179e\"], [0.4444444444444444, \"#bd3786\"], [0.5555555555555556, \"#d8576b\"], [0.6666666666666666, \"#ed7953\"], [0.7777777777777778, \"#fb9f3a\"], [0.8888888888888888, \"#fdca26\"], [1.0, \"#f0f921\"]], \"sequentialminus\": [[0.0, \"#0d0887\"], [0.1111111111111111, \"#46039f\"], [0.2222222222222222, \"#7201a8\"], [0.3333333333333333, \"#9c179e\"], [0.4444444444444444, \"#bd3786\"], [0.5555555555555556, \"#d8576b\"], [0.6666666666666666, \"#ed7953\"], [0.7777777777777778, \"#fb9f3a\"], [0.8888888888888888, \"#fdca26\"], [1.0, \"#f0f921\"]]}, \"colorway\": [\"#636efa\", \"#EF553B\", \"#00cc96\", \"#ab63fa\", \"#FFA15A\", \"#19d3f3\", \"#FF6692\", \"#B6E880\", \"#FF97FF\", \"#FECB52\"], \"font\": {\"color\": \"#2a3f5f\"}, \"geo\": {\"bgcolor\": \"white\", \"lakecolor\": \"white\", \"landcolor\": \"#E5ECF6\", \"showlakes\": true, \"showland\": true, \"subunitcolor\": \"white\"}, \"hoverlabel\": {\"align\": \"left\"}, \"hovermode\": \"closest\", \"mapbox\": {\"style\": \"light\"}, \"paper_bgcolor\": \"white\", \"plot_bgcolor\": \"#E5ECF6\", \"polar\": {\"angularaxis\": {\"gridcolor\": \"white\", \"linecolor\": \"white\", \"ticks\": \"\"}, \"bgcolor\": \"#E5ECF6\", \"radialaxis\": {\"gridcolor\": \"white\", \"linecolor\": \"white\", \"ticks\": \"\"}}, \"scene\": {\"xaxis\": {\"backgroundcolor\": \"#E5ECF6\", \"gridcolor\": \"white\", \"gridwidth\": 2, \"linecolor\": \"white\", \"showbackground\": true, \"ticks\": \"\", \"zerolinecolor\": \"white\"}, \"yaxis\": {\"backgroundcolor\": \"#E5ECF6\", \"gridcolor\": \"white\", \"gridwidth\": 2, \"linecolor\": \"white\", \"showbackground\": true, \"ticks\": \"\", \"zerolinecolor\": \"white\"}, \"zaxis\": {\"backgroundcolor\": \"#E5ECF6\", \"gridcolor\": \"white\", \"gridwidth\": 2, \"linecolor\": \"white\", \"showbackground\": true, \"ticks\": \"\", \"zerolinecolor\": \"white\"}}, \"shapedefaults\": {\"line\": {\"color\": \"#2a3f5f\"}}, \"ternary\": {\"aaxis\": {\"gridcolor\": \"white\", \"linecolor\": \"white\", \"ticks\": \"\"}, \"baxis\": {\"gridcolor\": \"white\", \"linecolor\": \"white\", \"ticks\": \"\"}, \"bgcolor\": \"#E5ECF6\", \"caxis\": {\"gridcolor\": \"white\", \"linecolor\": \"white\", \"ticks\": \"\"}}, \"title\": {\"x\": 0.05}, \"xaxis\": {\"automargin\": true, \"gridcolor\": \"white\", \"linecolor\": \"white\", \"ticks\": \"\", \"title\": {\"standoff\": 15}, \"zerolinecolor\": \"white\", \"zerolinewidth\": 2}, \"yaxis\": {\"automargin\": true, \"gridcolor\": \"white\", \"linecolor\": \"white\", \"ticks\": \"\", \"title\": {\"standoff\": 15}, \"zerolinecolor\": \"white\", \"zerolinewidth\": 2}}}, \"xaxis\": {\"anchor\": \"y\", \"domain\": [0.0, 1.0], \"title\": {\"text\": \"value\"}}, \"xaxis2\": {\"anchor\": \"y2\", \"domain\": [0.0, 1.0], \"matches\": \"x\", \"showgrid\": true, \"showticklabels\": false}, \"yaxis\": {\"anchor\": \"x\", \"domain\": [0.0, 0.7326], \"title\": {\"text\": \"count\"}}, \"yaxis2\": {\"anchor\": \"x2\", \"domain\": [0.7426, 1.0], \"matches\": \"y2\", \"showgrid\": false, \"showline\": false, \"showticklabels\": false, \"ticks\": \"\"}},                        {\"responsive\": true}                    ).then(function(){\n",
              "                            \n",
              "var gd = document.getElementById('5261fd3c-bdc1-4581-a7bb-516a5b539ddb');\n",
              "var x = new MutationObserver(function (mutations, observer) {{\n",
              "        var display = window.getComputedStyle(gd).display;\n",
              "        if (!display || display === 'none') {{\n",
              "            console.log([gd, 'removed!']);\n",
              "            Plotly.purge(gd);\n",
              "            observer.disconnect();\n",
              "        }}\n",
              "}});\n",
              "\n",
              "// Listen for the removal of the full notebook cells\n",
              "var notebookContainer = gd.closest('#notebook-container');\n",
              "if (notebookContainer) {{\n",
              "    x.observe(notebookContainer, {childList: true});\n",
              "}}\n",
              "\n",
              "// Listen for the clearing of the current output cell\n",
              "var outputEl = gd.closest('.output');\n",
              "if (outputEl) {{\n",
              "    x.observe(outputEl, {childList: true});\n",
              "}}\n",
              "\n",
              "                        })                };                            </script>        </div>\n",
              "</body>\n",
              "</html>"
            ]
          },
          "metadata": {
            "tags": []
          }
        }
      ]
    },
    {
      "cell_type": "code",
      "metadata": {
        "id": "K99qeBOqWycY"
      },
      "source": [],
      "execution_count": null,
      "outputs": []
    },
    {
      "cell_type": "code",
      "metadata": {
        "colab": {
          "base_uri": "https://localhost:8080/"
        },
        "id": "zOxejT9cLChx",
        "outputId": "929a533f-e645-46e9-8c08-484c24dada8d"
      },
      "source": [
        "nx.average_shortest_path_length(G)"
      ],
      "execution_count": null,
      "outputs": [
        {
          "output_type": "execute_result",
          "data": {
            "text/plain": [
              "1.8502024291497976"
            ]
          },
          "metadata": {
            "tags": []
          },
          "execution_count": 76
        }
      ]
    },
    {
      "cell_type": "code",
      "metadata": {
        "colab": {
          "base_uri": "https://localhost:8080/"
        },
        "id": "sY1ppWbJLT0J",
        "outputId": "2e8923cc-a71f-4dcc-c2e2-ea7d3984238c"
      },
      "source": [
        "nx.average_clustering(G)"
      ],
      "execution_count": null,
      "outputs": [
        {
          "output_type": "execute_result",
          "data": {
            "text/plain": [
              "0.4407959051312966"
            ]
          },
          "metadata": {
            "tags": []
          },
          "execution_count": 77
        }
      ]
    },
    {
      "cell_type": "code",
      "metadata": {
        "colab": {
          "base_uri": "https://localhost:8080/"
        },
        "id": "Q8GdzVDLLVCK",
        "outputId": "5241bd3c-90d7-4293-9a28-191cda0c4bed"
      },
      "source": [
        "nx.diameter(G.to_undirected())"
      ],
      "execution_count": null,
      "outputs": [
        {
          "output_type": "execute_result",
          "data": {
            "text/plain": [
              "3"
            ]
          },
          "metadata": {
            "tags": []
          },
          "execution_count": 78
        }
      ]
    },
    {
      "cell_type": "code",
      "metadata": {
        "colab": {
          "base_uri": "https://localhost:8080/",
          "height": 1000
        },
        "id": "EVL42K6WMgH5",
        "outputId": "bc7b2147-711b-44eb-d42b-df4a05554f55"
      },
      "source": [
        "plot_degree_dist(G, include_hist=True)"
      ],
      "execution_count": null,
      "outputs": [
        {
          "output_type": "display_data",
          "data": {
            "text/html": [
              "<html>\n",
              "<head><meta charset=\"utf-8\" /></head>\n",
              "<body>\n",
              "    <div>            <script src=\"https://cdnjs.cloudflare.com/ajax/libs/mathjax/2.7.5/MathJax.js?config=TeX-AMS-MML_SVG\"></script><script type=\"text/javascript\">if (window.MathJax) {MathJax.Hub.Config({SVG: {font: \"STIX-Web\"}});}</script>                <script type=\"text/javascript\">window.PlotlyConfig = {MathJaxConfig: 'local'};</script>\n",
              "        <script src=\"https://cdn.plot.ly/plotly-latest.min.js\"></script>                <div id=\"de972b2d-22b1-4cfe-9aea-97c982bcfe1a\" class=\"plotly-graph-div\" style=\"height:525px; width:100%;\"></div>            <script type=\"text/javascript\">                                    window.PLOTLYENV=window.PLOTLYENV || {};                                    if (document.getElementById(\"de972b2d-22b1-4cfe-9aea-97c982bcfe1a\")) {                    Plotly.newPlot(                        \"de972b2d-22b1-4cfe-9aea-97c982bcfe1a\",                        [{\"hovertemplate\": \"type=indegree<br>degree=%{x}<br>count=%{y}<extra></extra>\", \"legendgroup\": \"indegree\", \"marker\": {\"color\": \"#636efa\", \"symbol\": \"circle\"}, \"mode\": \"markers+lines\", \"name\": \"indegree\", \"orientation\": \"v\", \"showlegend\": true, \"type\": \"scatter\", \"x\": [0, 1, 3, 4, 5, 6, 7, 8, 9, 10, 11, 12, 13, 14, 16, 18, 24, 26], \"xaxis\": \"x\", \"y\": [1, 2, 4, 1, 1, 4, 4, 4, 3, 3, 3, 3, 1, 1, 1, 1, 1, 1], \"yaxis\": \"y\"}, {\"hovertemplate\": \"type=outdegree<br>degree=%{x}<br>count=%{y}<extra></extra>\", \"legendgroup\": \"outdegree\", \"marker\": {\"color\": \"#EF553B\", \"symbol\": \"circle\"}, \"mode\": \"markers+lines\", \"name\": \"outdegree\", \"orientation\": \"v\", \"showlegend\": true, \"type\": \"scatter\", \"x\": [1, 3, 4, 5, 6, 7, 8, 9, 10, 11, 12, 13, 14, 15, 16, 18, 20], \"xaxis\": \"x\", \"y\": [1, 1, 6, 3, 4, 5, 2, 2, 2, 2, 1, 3, 2, 1, 1, 2, 1], \"yaxis\": \"y\"}],                        {\"legend\": {\"title\": {\"text\": \"type\"}, \"tracegroupgap\": 0}, \"margin\": {\"t\": 60}, \"template\": {\"data\": {\"bar\": [{\"error_x\": {\"color\": \"#2a3f5f\"}, \"error_y\": {\"color\": \"#2a3f5f\"}, \"marker\": {\"line\": {\"color\": \"#E5ECF6\", \"width\": 0.5}}, \"type\": \"bar\"}], \"barpolar\": [{\"marker\": {\"line\": {\"color\": \"#E5ECF6\", \"width\": 0.5}}, \"type\": \"barpolar\"}], \"carpet\": [{\"aaxis\": {\"endlinecolor\": \"#2a3f5f\", \"gridcolor\": \"white\", \"linecolor\": \"white\", \"minorgridcolor\": \"white\", \"startlinecolor\": \"#2a3f5f\"}, \"baxis\": {\"endlinecolor\": \"#2a3f5f\", \"gridcolor\": \"white\", \"linecolor\": \"white\", \"minorgridcolor\": \"white\", \"startlinecolor\": \"#2a3f5f\"}, \"type\": \"carpet\"}], \"choropleth\": [{\"colorbar\": {\"outlinewidth\": 0, \"ticks\": \"\"}, \"type\": \"choropleth\"}], \"contour\": [{\"colorbar\": {\"outlinewidth\": 0, \"ticks\": \"\"}, \"colorscale\": [[0.0, \"#0d0887\"], [0.1111111111111111, \"#46039f\"], [0.2222222222222222, \"#7201a8\"], [0.3333333333333333, \"#9c179e\"], [0.4444444444444444, \"#bd3786\"], [0.5555555555555556, \"#d8576b\"], [0.6666666666666666, \"#ed7953\"], [0.7777777777777778, \"#fb9f3a\"], [0.8888888888888888, \"#fdca26\"], [1.0, \"#f0f921\"]], \"type\": \"contour\"}], \"contourcarpet\": [{\"colorbar\": {\"outlinewidth\": 0, \"ticks\": \"\"}, \"type\": \"contourcarpet\"}], \"heatmap\": [{\"colorbar\": {\"outlinewidth\": 0, \"ticks\": \"\"}, \"colorscale\": [[0.0, \"#0d0887\"], [0.1111111111111111, \"#46039f\"], [0.2222222222222222, \"#7201a8\"], [0.3333333333333333, \"#9c179e\"], [0.4444444444444444, \"#bd3786\"], [0.5555555555555556, \"#d8576b\"], [0.6666666666666666, \"#ed7953\"], [0.7777777777777778, \"#fb9f3a\"], [0.8888888888888888, \"#fdca26\"], [1.0, \"#f0f921\"]], \"type\": \"heatmap\"}], \"heatmapgl\": [{\"colorbar\": {\"outlinewidth\": 0, \"ticks\": \"\"}, \"colorscale\": [[0.0, \"#0d0887\"], [0.1111111111111111, \"#46039f\"], [0.2222222222222222, \"#7201a8\"], [0.3333333333333333, \"#9c179e\"], [0.4444444444444444, \"#bd3786\"], [0.5555555555555556, \"#d8576b\"], [0.6666666666666666, \"#ed7953\"], [0.7777777777777778, \"#fb9f3a\"], [0.8888888888888888, \"#fdca26\"], [1.0, \"#f0f921\"]], \"type\": \"heatmapgl\"}], \"histogram\": [{\"marker\": {\"colorbar\": {\"outlinewidth\": 0, \"ticks\": \"\"}}, \"type\": \"histogram\"}], \"histogram2d\": [{\"colorbar\": {\"outlinewidth\": 0, \"ticks\": \"\"}, \"colorscale\": [[0.0, \"#0d0887\"], [0.1111111111111111, \"#46039f\"], [0.2222222222222222, \"#7201a8\"], [0.3333333333333333, \"#9c179e\"], [0.4444444444444444, \"#bd3786\"], [0.5555555555555556, \"#d8576b\"], [0.6666666666666666, \"#ed7953\"], [0.7777777777777778, \"#fb9f3a\"], [0.8888888888888888, \"#fdca26\"], [1.0, \"#f0f921\"]], \"type\": \"histogram2d\"}], \"histogram2dcontour\": [{\"colorbar\": {\"outlinewidth\": 0, \"ticks\": \"\"}, \"colorscale\": [[0.0, \"#0d0887\"], [0.1111111111111111, \"#46039f\"], [0.2222222222222222, \"#7201a8\"], [0.3333333333333333, \"#9c179e\"], [0.4444444444444444, \"#bd3786\"], [0.5555555555555556, \"#d8576b\"], [0.6666666666666666, \"#ed7953\"], [0.7777777777777778, \"#fb9f3a\"], [0.8888888888888888, \"#fdca26\"], [1.0, \"#f0f921\"]], \"type\": \"histogram2dcontour\"}], \"mesh3d\": [{\"colorbar\": {\"outlinewidth\": 0, \"ticks\": \"\"}, \"type\": \"mesh3d\"}], \"parcoords\": [{\"line\": {\"colorbar\": {\"outlinewidth\": 0, \"ticks\": \"\"}}, \"type\": \"parcoords\"}], \"pie\": [{\"automargin\": true, \"type\": \"pie\"}], \"scatter\": [{\"marker\": {\"colorbar\": {\"outlinewidth\": 0, \"ticks\": \"\"}}, \"type\": \"scatter\"}], \"scatter3d\": [{\"line\": {\"colorbar\": {\"outlinewidth\": 0, \"ticks\": \"\"}}, \"marker\": {\"colorbar\": {\"outlinewidth\": 0, \"ticks\": \"\"}}, \"type\": \"scatter3d\"}], \"scattercarpet\": [{\"marker\": {\"colorbar\": {\"outlinewidth\": 0, \"ticks\": \"\"}}, \"type\": \"scattercarpet\"}], \"scattergeo\": [{\"marker\": {\"colorbar\": {\"outlinewidth\": 0, \"ticks\": \"\"}}, \"type\": \"scattergeo\"}], \"scattergl\": [{\"marker\": {\"colorbar\": {\"outlinewidth\": 0, \"ticks\": \"\"}}, \"type\": \"scattergl\"}], \"scattermapbox\": [{\"marker\": {\"colorbar\": {\"outlinewidth\": 0, \"ticks\": \"\"}}, \"type\": \"scattermapbox\"}], \"scatterpolar\": [{\"marker\": {\"colorbar\": {\"outlinewidth\": 0, \"ticks\": \"\"}}, \"type\": \"scatterpolar\"}], \"scatterpolargl\": [{\"marker\": {\"colorbar\": {\"outlinewidth\": 0, \"ticks\": \"\"}}, \"type\": \"scatterpolargl\"}], \"scatterternary\": [{\"marker\": {\"colorbar\": {\"outlinewidth\": 0, \"ticks\": \"\"}}, \"type\": \"scatterternary\"}], \"surface\": [{\"colorbar\": {\"outlinewidth\": 0, \"ticks\": \"\"}, \"colorscale\": [[0.0, \"#0d0887\"], [0.1111111111111111, \"#46039f\"], [0.2222222222222222, \"#7201a8\"], [0.3333333333333333, \"#9c179e\"], [0.4444444444444444, \"#bd3786\"], [0.5555555555555556, \"#d8576b\"], [0.6666666666666666, \"#ed7953\"], [0.7777777777777778, \"#fb9f3a\"], [0.8888888888888888, \"#fdca26\"], [1.0, \"#f0f921\"]], \"type\": \"surface\"}], \"table\": [{\"cells\": {\"fill\": {\"color\": \"#EBF0F8\"}, \"line\": {\"color\": \"white\"}}, \"header\": {\"fill\": {\"color\": \"#C8D4E3\"}, \"line\": {\"color\": \"white\"}}, \"type\": \"table\"}]}, \"layout\": {\"annotationdefaults\": {\"arrowcolor\": \"#2a3f5f\", \"arrowhead\": 0, \"arrowwidth\": 1}, \"autotypenumbers\": \"strict\", \"coloraxis\": {\"colorbar\": {\"outlinewidth\": 0, \"ticks\": \"\"}}, \"colorscale\": {\"diverging\": [[0, \"#8e0152\"], [0.1, \"#c51b7d\"], [0.2, \"#de77ae\"], [0.3, \"#f1b6da\"], [0.4, \"#fde0ef\"], [0.5, \"#f7f7f7\"], [0.6, \"#e6f5d0\"], [0.7, \"#b8e186\"], [0.8, \"#7fbc41\"], [0.9, \"#4d9221\"], [1, \"#276419\"]], \"sequential\": [[0.0, \"#0d0887\"], [0.1111111111111111, \"#46039f\"], [0.2222222222222222, \"#7201a8\"], [0.3333333333333333, \"#9c179e\"], [0.4444444444444444, \"#bd3786\"], [0.5555555555555556, \"#d8576b\"], [0.6666666666666666, \"#ed7953\"], [0.7777777777777778, \"#fb9f3a\"], [0.8888888888888888, \"#fdca26\"], [1.0, \"#f0f921\"]], \"sequentialminus\": [[0.0, \"#0d0887\"], [0.1111111111111111, \"#46039f\"], [0.2222222222222222, \"#7201a8\"], [0.3333333333333333, \"#9c179e\"], [0.4444444444444444, \"#bd3786\"], [0.5555555555555556, \"#d8576b\"], [0.6666666666666666, \"#ed7953\"], [0.7777777777777778, \"#fb9f3a\"], [0.8888888888888888, \"#fdca26\"], [1.0, \"#f0f921\"]]}, \"colorway\": [\"#636efa\", \"#EF553B\", \"#00cc96\", \"#ab63fa\", \"#FFA15A\", \"#19d3f3\", \"#FF6692\", \"#B6E880\", \"#FF97FF\", \"#FECB52\"], \"font\": {\"color\": \"#2a3f5f\"}, \"geo\": {\"bgcolor\": \"white\", \"lakecolor\": \"white\", \"landcolor\": \"#E5ECF6\", \"showlakes\": true, \"showland\": true, \"subunitcolor\": \"white\"}, \"hoverlabel\": {\"align\": \"left\"}, \"hovermode\": \"closest\", \"mapbox\": {\"style\": \"light\"}, \"paper_bgcolor\": \"white\", \"plot_bgcolor\": \"#E5ECF6\", \"polar\": {\"angularaxis\": {\"gridcolor\": \"white\", \"linecolor\": \"white\", \"ticks\": \"\"}, \"bgcolor\": \"#E5ECF6\", \"radialaxis\": {\"gridcolor\": \"white\", \"linecolor\": \"white\", \"ticks\": \"\"}}, \"scene\": {\"xaxis\": {\"backgroundcolor\": \"#E5ECF6\", \"gridcolor\": \"white\", \"gridwidth\": 2, \"linecolor\": \"white\", \"showbackground\": true, \"ticks\": \"\", \"zerolinecolor\": \"white\"}, \"yaxis\": {\"backgroundcolor\": \"#E5ECF6\", \"gridcolor\": \"white\", \"gridwidth\": 2, \"linecolor\": \"white\", \"showbackground\": true, \"ticks\": \"\", \"zerolinecolor\": \"white\"}, \"zaxis\": {\"backgroundcolor\": \"#E5ECF6\", \"gridcolor\": \"white\", \"gridwidth\": 2, \"linecolor\": \"white\", \"showbackground\": true, \"ticks\": \"\", \"zerolinecolor\": \"white\"}}, \"shapedefaults\": {\"line\": {\"color\": \"#2a3f5f\"}}, \"ternary\": {\"aaxis\": {\"gridcolor\": \"white\", \"linecolor\": \"white\", \"ticks\": \"\"}, \"baxis\": {\"gridcolor\": \"white\", \"linecolor\": \"white\", \"ticks\": \"\"}, \"bgcolor\": \"#E5ECF6\", \"caxis\": {\"gridcolor\": \"white\", \"linecolor\": \"white\", \"ticks\": \"\"}}, \"title\": {\"x\": 0.05}, \"xaxis\": {\"automargin\": true, \"gridcolor\": \"white\", \"linecolor\": \"white\", \"ticks\": \"\", \"title\": {\"standoff\": 15}, \"zerolinecolor\": \"white\", \"zerolinewidth\": 2}, \"yaxis\": {\"automargin\": true, \"gridcolor\": \"white\", \"linecolor\": \"white\", \"ticks\": \"\", \"title\": {\"standoff\": 15}, \"zerolinecolor\": \"white\", \"zerolinewidth\": 2}}}, \"xaxis\": {\"anchor\": \"y\", \"domain\": [0.0, 1.0], \"title\": {\"text\": \"degree\"}}, \"yaxis\": {\"anchor\": \"x\", \"domain\": [0.0, 1.0], \"title\": {\"text\": \"count\"}}},                        {\"responsive\": true}                    ).then(function(){\n",
              "                            \n",
              "var gd = document.getElementById('de972b2d-22b1-4cfe-9aea-97c982bcfe1a');\n",
              "var x = new MutationObserver(function (mutations, observer) {{\n",
              "        var display = window.getComputedStyle(gd).display;\n",
              "        if (!display || display === 'none') {{\n",
              "            console.log([gd, 'removed!']);\n",
              "            Plotly.purge(gd);\n",
              "            observer.disconnect();\n",
              "        }}\n",
              "}});\n",
              "\n",
              "// Listen for the removal of the full notebook cells\n",
              "var notebookContainer = gd.closest('#notebook-container');\n",
              "if (notebookContainer) {{\n",
              "    x.observe(notebookContainer, {childList: true});\n",
              "}}\n",
              "\n",
              "// Listen for the clearing of the current output cell\n",
              "var outputEl = gd.closest('.output');\n",
              "if (outputEl) {{\n",
              "    x.observe(outputEl, {childList: true});\n",
              "}}\n",
              "\n",
              "                        })                };                            </script>        </div>\n",
              "</body>\n",
              "</html>"
            ]
          },
          "metadata": {
            "tags": []
          }
        },
        {
          "output_type": "display_data",
          "data": {
            "text/html": [
              "<html>\n",
              "<head><meta charset=\"utf-8\" /></head>\n",
              "<body>\n",
              "    <div>            <script src=\"https://cdnjs.cloudflare.com/ajax/libs/mathjax/2.7.5/MathJax.js?config=TeX-AMS-MML_SVG\"></script><script type=\"text/javascript\">if (window.MathJax) {MathJax.Hub.Config({SVG: {font: \"STIX-Web\"}});}</script>                <script type=\"text/javascript\">window.PlotlyConfig = {MathJaxConfig: 'local'};</script>\n",
              "        <script src=\"https://cdn.plot.ly/plotly-latest.min.js\"></script>                <div id=\"b4e3b14f-51f6-411d-b9fc-09f088b35bb3\" class=\"plotly-graph-div\" style=\"height:525px; width:100%;\"></div>            <script type=\"text/javascript\">                                    window.PLOTLYENV=window.PLOTLYENV || {};                                    if (document.getElementById(\"b4e3b14f-51f6-411d-b9fc-09f088b35bb3\")) {                    Plotly.newPlot(                        \"b4e3b14f-51f6-411d-b9fc-09f088b35bb3\",                        [{\"alignmentgroup\": \"True\", \"bingroup\": \"x\", \"hovertemplate\": \"type=indegree<br>value=%{x}<br>count=%{y}<extra></extra>\", \"legendgroup\": \"indegree\", \"marker\": {\"color\": \"#636efa\", \"opacity\": 0.5}, \"name\": \"indegree\", \"offsetgroup\": \"indegree\", \"orientation\": \"v\", \"showlegend\": true, \"type\": \"histogram\", \"x\": [18, 1, 26, 14, 11, 8, 6, 16, 9, 6, 24, 1, 7, 12, 10, 6, 10, 10, 8, 7, 11, 13, 9, 7, 9, 8, 12, 12, 8, 6, 7, 3, 4, 3, 3, 11, 5, 3, 0], \"xaxis\": \"x\", \"yaxis\": \"y\"}, {\"alignmentgroup\": \"True\", \"hovertemplate\": \"type=indegree<br>value=%{x}<extra></extra>\", \"legendgroup\": \"indegree\", \"marker\": {\"color\": \"#636efa\"}, \"name\": \"indegree\", \"notched\": true, \"offsetgroup\": \"indegree\", \"showlegend\": false, \"type\": \"box\", \"x\": [18, 1, 26, 14, 11, 8, 6, 16, 9, 6, 24, 1, 7, 12, 10, 6, 10, 10, 8, 7, 11, 13, 9, 7, 9, 8, 12, 12, 8, 6, 7, 3, 4, 3, 3, 11, 5, 3, 0], \"xaxis\": \"x2\", \"yaxis\": \"y2\"}, {\"alignmentgroup\": \"True\", \"bingroup\": \"x\", \"hovertemplate\": \"type=outdegree<br>value=%{x}<br>count=%{y}<extra></extra>\", \"legendgroup\": \"outdegree\", \"marker\": {\"color\": \"#EF553B\", \"opacity\": 0.5}, \"name\": \"outdegree\", \"offsetgroup\": \"outdegree\", \"orientation\": \"v\", \"showlegend\": true, \"type\": \"histogram\", \"x\": [13, 10, 15, 7, 18, 9, 9, 12, 3, 6, 20, 6, 7, 13, 8, 4, 5, 6, 7, 4, 14, 10, 7, 11, 16, 13, 8, 14, 11, 1, 4, 5, 6, 4, 18, 7, 4, 4, 5], \"xaxis\": \"x\", \"yaxis\": \"y\"}, {\"alignmentgroup\": \"True\", \"hovertemplate\": \"type=outdegree<br>value=%{x}<extra></extra>\", \"legendgroup\": \"outdegree\", \"marker\": {\"color\": \"#EF553B\"}, \"name\": \"outdegree\", \"notched\": true, \"offsetgroup\": \"outdegree\", \"showlegend\": false, \"type\": \"box\", \"x\": [13, 10, 15, 7, 18, 9, 9, 12, 3, 6, 20, 6, 7, 13, 8, 4, 5, 6, 7, 4, 14, 10, 7, 11, 16, 13, 8, 14, 11, 1, 4, 5, 6, 4, 18, 7, 4, 4, 5], \"xaxis\": \"x2\", \"yaxis\": \"y2\"}],                        {\"barmode\": \"overlay\", \"legend\": {\"title\": {\"text\": \"type\"}, \"tracegroupgap\": 0}, \"margin\": {\"t\": 60}, \"template\": {\"data\": {\"bar\": [{\"error_x\": {\"color\": \"#2a3f5f\"}, \"error_y\": {\"color\": \"#2a3f5f\"}, \"marker\": {\"line\": {\"color\": \"#E5ECF6\", \"width\": 0.5}}, \"type\": \"bar\"}], \"barpolar\": [{\"marker\": {\"line\": {\"color\": \"#E5ECF6\", \"width\": 0.5}}, \"type\": \"barpolar\"}], \"carpet\": [{\"aaxis\": {\"endlinecolor\": \"#2a3f5f\", \"gridcolor\": \"white\", \"linecolor\": \"white\", \"minorgridcolor\": \"white\", \"startlinecolor\": \"#2a3f5f\"}, \"baxis\": {\"endlinecolor\": \"#2a3f5f\", \"gridcolor\": \"white\", \"linecolor\": \"white\", \"minorgridcolor\": \"white\", \"startlinecolor\": \"#2a3f5f\"}, \"type\": \"carpet\"}], \"choropleth\": [{\"colorbar\": {\"outlinewidth\": 0, \"ticks\": \"\"}, \"type\": \"choropleth\"}], \"contour\": [{\"colorbar\": {\"outlinewidth\": 0, \"ticks\": \"\"}, \"colorscale\": [[0.0, \"#0d0887\"], [0.1111111111111111, \"#46039f\"], [0.2222222222222222, \"#7201a8\"], [0.3333333333333333, \"#9c179e\"], [0.4444444444444444, \"#bd3786\"], [0.5555555555555556, \"#d8576b\"], [0.6666666666666666, \"#ed7953\"], [0.7777777777777778, \"#fb9f3a\"], [0.8888888888888888, \"#fdca26\"], [1.0, \"#f0f921\"]], \"type\": \"contour\"}], \"contourcarpet\": [{\"colorbar\": {\"outlinewidth\": 0, \"ticks\": \"\"}, \"type\": \"contourcarpet\"}], \"heatmap\": [{\"colorbar\": {\"outlinewidth\": 0, \"ticks\": \"\"}, \"colorscale\": [[0.0, \"#0d0887\"], [0.1111111111111111, \"#46039f\"], [0.2222222222222222, \"#7201a8\"], [0.3333333333333333, \"#9c179e\"], [0.4444444444444444, \"#bd3786\"], [0.5555555555555556, \"#d8576b\"], [0.6666666666666666, \"#ed7953\"], [0.7777777777777778, \"#fb9f3a\"], [0.8888888888888888, \"#fdca26\"], [1.0, \"#f0f921\"]], \"type\": \"heatmap\"}], \"heatmapgl\": [{\"colorbar\": {\"outlinewidth\": 0, \"ticks\": \"\"}, \"colorscale\": [[0.0, \"#0d0887\"], [0.1111111111111111, \"#46039f\"], [0.2222222222222222, \"#7201a8\"], [0.3333333333333333, \"#9c179e\"], [0.4444444444444444, \"#bd3786\"], [0.5555555555555556, \"#d8576b\"], [0.6666666666666666, \"#ed7953\"], [0.7777777777777778, \"#fb9f3a\"], [0.8888888888888888, \"#fdca26\"], [1.0, \"#f0f921\"]], \"type\": \"heatmapgl\"}], \"histogram\": [{\"marker\": {\"colorbar\": {\"outlinewidth\": 0, \"ticks\": \"\"}}, \"type\": \"histogram\"}], \"histogram2d\": [{\"colorbar\": {\"outlinewidth\": 0, \"ticks\": \"\"}, \"colorscale\": [[0.0, \"#0d0887\"], [0.1111111111111111, \"#46039f\"], [0.2222222222222222, \"#7201a8\"], [0.3333333333333333, \"#9c179e\"], [0.4444444444444444, \"#bd3786\"], [0.5555555555555556, \"#d8576b\"], [0.6666666666666666, \"#ed7953\"], [0.7777777777777778, \"#fb9f3a\"], [0.8888888888888888, \"#fdca26\"], [1.0, \"#f0f921\"]], \"type\": \"histogram2d\"}], \"histogram2dcontour\": [{\"colorbar\": {\"outlinewidth\": 0, \"ticks\": \"\"}, \"colorscale\": [[0.0, \"#0d0887\"], [0.1111111111111111, \"#46039f\"], [0.2222222222222222, \"#7201a8\"], [0.3333333333333333, \"#9c179e\"], [0.4444444444444444, \"#bd3786\"], [0.5555555555555556, \"#d8576b\"], [0.6666666666666666, \"#ed7953\"], [0.7777777777777778, \"#fb9f3a\"], [0.8888888888888888, \"#fdca26\"], [1.0, \"#f0f921\"]], \"type\": \"histogram2dcontour\"}], \"mesh3d\": [{\"colorbar\": {\"outlinewidth\": 0, \"ticks\": \"\"}, \"type\": \"mesh3d\"}], \"parcoords\": [{\"line\": {\"colorbar\": {\"outlinewidth\": 0, \"ticks\": \"\"}}, \"type\": \"parcoords\"}], \"pie\": [{\"automargin\": true, \"type\": \"pie\"}], \"scatter\": [{\"marker\": {\"colorbar\": {\"outlinewidth\": 0, \"ticks\": \"\"}}, \"type\": \"scatter\"}], \"scatter3d\": [{\"line\": {\"colorbar\": {\"outlinewidth\": 0, \"ticks\": \"\"}}, \"marker\": {\"colorbar\": {\"outlinewidth\": 0, \"ticks\": \"\"}}, \"type\": \"scatter3d\"}], \"scattercarpet\": [{\"marker\": {\"colorbar\": {\"outlinewidth\": 0, \"ticks\": \"\"}}, \"type\": \"scattercarpet\"}], \"scattergeo\": [{\"marker\": {\"colorbar\": {\"outlinewidth\": 0, \"ticks\": \"\"}}, \"type\": \"scattergeo\"}], \"scattergl\": [{\"marker\": {\"colorbar\": {\"outlinewidth\": 0, \"ticks\": \"\"}}, \"type\": \"scattergl\"}], \"scattermapbox\": [{\"marker\": {\"colorbar\": {\"outlinewidth\": 0, \"ticks\": \"\"}}, \"type\": \"scattermapbox\"}], \"scatterpolar\": [{\"marker\": {\"colorbar\": {\"outlinewidth\": 0, \"ticks\": \"\"}}, \"type\": \"scatterpolar\"}], \"scatterpolargl\": [{\"marker\": {\"colorbar\": {\"outlinewidth\": 0, \"ticks\": \"\"}}, \"type\": \"scatterpolargl\"}], \"scatterternary\": [{\"marker\": {\"colorbar\": {\"outlinewidth\": 0, \"ticks\": \"\"}}, \"type\": \"scatterternary\"}], \"surface\": [{\"colorbar\": {\"outlinewidth\": 0, \"ticks\": \"\"}, \"colorscale\": [[0.0, \"#0d0887\"], [0.1111111111111111, \"#46039f\"], [0.2222222222222222, \"#7201a8\"], [0.3333333333333333, \"#9c179e\"], [0.4444444444444444, \"#bd3786\"], [0.5555555555555556, \"#d8576b\"], [0.6666666666666666, \"#ed7953\"], [0.7777777777777778, \"#fb9f3a\"], [0.8888888888888888, \"#fdca26\"], [1.0, \"#f0f921\"]], \"type\": \"surface\"}], \"table\": [{\"cells\": {\"fill\": {\"color\": \"#EBF0F8\"}, \"line\": {\"color\": \"white\"}}, \"header\": {\"fill\": {\"color\": \"#C8D4E3\"}, \"line\": {\"color\": \"white\"}}, \"type\": \"table\"}]}, \"layout\": {\"annotationdefaults\": {\"arrowcolor\": \"#2a3f5f\", \"arrowhead\": 0, \"arrowwidth\": 1}, \"autotypenumbers\": \"strict\", \"coloraxis\": {\"colorbar\": {\"outlinewidth\": 0, \"ticks\": \"\"}}, \"colorscale\": {\"diverging\": [[0, \"#8e0152\"], [0.1, \"#c51b7d\"], [0.2, \"#de77ae\"], [0.3, \"#f1b6da\"], [0.4, \"#fde0ef\"], [0.5, \"#f7f7f7\"], [0.6, \"#e6f5d0\"], [0.7, \"#b8e186\"], [0.8, \"#7fbc41\"], [0.9, \"#4d9221\"], [1, \"#276419\"]], \"sequential\": [[0.0, \"#0d0887\"], [0.1111111111111111, \"#46039f\"], [0.2222222222222222, \"#7201a8\"], [0.3333333333333333, \"#9c179e\"], [0.4444444444444444, \"#bd3786\"], [0.5555555555555556, \"#d8576b\"], [0.6666666666666666, \"#ed7953\"], [0.7777777777777778, \"#fb9f3a\"], [0.8888888888888888, \"#fdca26\"], [1.0, \"#f0f921\"]], \"sequentialminus\": [[0.0, \"#0d0887\"], [0.1111111111111111, \"#46039f\"], [0.2222222222222222, \"#7201a8\"], [0.3333333333333333, \"#9c179e\"], [0.4444444444444444, \"#bd3786\"], [0.5555555555555556, \"#d8576b\"], [0.6666666666666666, \"#ed7953\"], [0.7777777777777778, \"#fb9f3a\"], [0.8888888888888888, \"#fdca26\"], [1.0, \"#f0f921\"]]}, \"colorway\": [\"#636efa\", \"#EF553B\", \"#00cc96\", \"#ab63fa\", \"#FFA15A\", \"#19d3f3\", \"#FF6692\", \"#B6E880\", \"#FF97FF\", \"#FECB52\"], \"font\": {\"color\": \"#2a3f5f\"}, \"geo\": {\"bgcolor\": \"white\", \"lakecolor\": \"white\", \"landcolor\": \"#E5ECF6\", \"showlakes\": true, \"showland\": true, \"subunitcolor\": \"white\"}, \"hoverlabel\": {\"align\": \"left\"}, \"hovermode\": \"closest\", \"mapbox\": {\"style\": \"light\"}, \"paper_bgcolor\": \"white\", \"plot_bgcolor\": \"#E5ECF6\", \"polar\": {\"angularaxis\": {\"gridcolor\": \"white\", \"linecolor\": \"white\", \"ticks\": \"\"}, \"bgcolor\": \"#E5ECF6\", \"radialaxis\": {\"gridcolor\": \"white\", \"linecolor\": \"white\", \"ticks\": \"\"}}, \"scene\": {\"xaxis\": {\"backgroundcolor\": \"#E5ECF6\", \"gridcolor\": \"white\", \"gridwidth\": 2, \"linecolor\": \"white\", \"showbackground\": true, \"ticks\": \"\", \"zerolinecolor\": \"white\"}, \"yaxis\": {\"backgroundcolor\": \"#E5ECF6\", \"gridcolor\": \"white\", \"gridwidth\": 2, \"linecolor\": \"white\", \"showbackground\": true, \"ticks\": \"\", \"zerolinecolor\": \"white\"}, \"zaxis\": {\"backgroundcolor\": \"#E5ECF6\", \"gridcolor\": \"white\", \"gridwidth\": 2, \"linecolor\": \"white\", \"showbackground\": true, \"ticks\": \"\", \"zerolinecolor\": \"white\"}}, \"shapedefaults\": {\"line\": {\"color\": \"#2a3f5f\"}}, \"ternary\": {\"aaxis\": {\"gridcolor\": \"white\", \"linecolor\": \"white\", \"ticks\": \"\"}, \"baxis\": {\"gridcolor\": \"white\", \"linecolor\": \"white\", \"ticks\": \"\"}, \"bgcolor\": \"#E5ECF6\", \"caxis\": {\"gridcolor\": \"white\", \"linecolor\": \"white\", \"ticks\": \"\"}}, \"title\": {\"x\": 0.05}, \"xaxis\": {\"automargin\": true, \"gridcolor\": \"white\", \"linecolor\": \"white\", \"ticks\": \"\", \"title\": {\"standoff\": 15}, \"zerolinecolor\": \"white\", \"zerolinewidth\": 2}, \"yaxis\": {\"automargin\": true, \"gridcolor\": \"white\", \"linecolor\": \"white\", \"ticks\": \"\", \"title\": {\"standoff\": 15}, \"zerolinecolor\": \"white\", \"zerolinewidth\": 2}}}, \"xaxis\": {\"anchor\": \"y\", \"domain\": [0.0, 1.0], \"title\": {\"text\": \"value\"}}, \"xaxis2\": {\"anchor\": \"y2\", \"domain\": [0.0, 1.0], \"matches\": \"x\", \"showgrid\": true, \"showticklabels\": false}, \"yaxis\": {\"anchor\": \"x\", \"domain\": [0.0, 0.7326], \"title\": {\"text\": \"count\"}}, \"yaxis2\": {\"anchor\": \"x2\", \"domain\": [0.7426, 1.0], \"matches\": \"y2\", \"showgrid\": false, \"showline\": false, \"showticklabels\": false, \"ticks\": \"\"}},                        {\"responsive\": true}                    ).then(function(){\n",
              "                            \n",
              "var gd = document.getElementById('b4e3b14f-51f6-411d-b9fc-09f088b35bb3');\n",
              "var x = new MutationObserver(function (mutations, observer) {{\n",
              "        var display = window.getComputedStyle(gd).display;\n",
              "        if (!display || display === 'none') {{\n",
              "            console.log([gd, 'removed!']);\n",
              "            Plotly.purge(gd);\n",
              "            observer.disconnect();\n",
              "        }}\n",
              "}});\n",
              "\n",
              "// Listen for the removal of the full notebook cells\n",
              "var notebookContainer = gd.closest('#notebook-container');\n",
              "if (notebookContainer) {{\n",
              "    x.observe(notebookContainer, {childList: true});\n",
              "}}\n",
              "\n",
              "// Listen for the clearing of the current output cell\n",
              "var outputEl = gd.closest('.output');\n",
              "if (outputEl) {{\n",
              "    x.observe(outputEl, {childList: true});\n",
              "}}\n",
              "\n",
              "                        })                };                            </script>        </div>\n",
              "</body>\n",
              "</html>"
            ]
          },
          "metadata": {
            "tags": []
          }
        }
      ]
    },
    {
      "cell_type": "code",
      "metadata": {
        "id": "oF_oZiZpWpPq"
      },
      "source": [],
      "execution_count": null,
      "outputs": []
    },
    {
      "cell_type": "markdown",
      "metadata": {
        "id": "xAhAQ6IpSLJ8"
      },
      "source": [
        "# An Interactive Viz of NPF Bonusly Network"
      ]
    },
    {
      "cell_type": "code",
      "metadata": {
        "colab": {
          "base_uri": "https://localhost:8080/"
        },
        "id": "5PfjOm6dXskC",
        "outputId": "cc7cd57b-1363-4c94-e9a2-46fd876956f8"
      },
      "source": [
        "!pip install pyvis"
      ],
      "execution_count": null,
      "outputs": [
        {
          "output_type": "stream",
          "text": [
            "Collecting pyvis\n",
            "  Downloading https://files.pythonhosted.org/packages/07/d1/e87844ec86e96df7364f21af2263ad6030c0d727660ae89935c7af56a540/pyvis-0.1.9-py3-none-any.whl\n",
            "Collecting jsonpickle>=1.4.1\n",
            "  Downloading https://files.pythonhosted.org/packages/bb/1a/f2db026d4d682303793559f1c2bb425ba3ec0d6fd7ac63397790443f2461/jsonpickle-2.0.0-py2.py3-none-any.whl\n",
            "Requirement already satisfied: ipython>=5.3.0 in /usr/local/lib/python3.7/dist-packages (from pyvis) (5.5.0)\n",
            "Requirement already satisfied: networkx>=1.11 in /usr/local/lib/python3.7/dist-packages (from pyvis) (2.5.1)\n",
            "Requirement already satisfied: jinja2>=2.9.6 in /usr/local/lib/python3.7/dist-packages (from pyvis) (2.11.3)\n",
            "Requirement already satisfied: importlib-metadata; python_version < \"3.8\" in /usr/local/lib/python3.7/dist-packages (from jsonpickle>=1.4.1->pyvis) (4.0.1)\n",
            "Requirement already satisfied: pygments in /usr/local/lib/python3.7/dist-packages (from ipython>=5.3.0->pyvis) (2.6.1)\n",
            "Requirement already satisfied: prompt-toolkit<2.0.0,>=1.0.4 in /usr/local/lib/python3.7/dist-packages (from ipython>=5.3.0->pyvis) (1.0.18)\n",
            "Requirement already satisfied: traitlets>=4.2 in /usr/local/lib/python3.7/dist-packages (from ipython>=5.3.0->pyvis) (5.0.5)\n",
            "Requirement already satisfied: simplegeneric>0.8 in /usr/local/lib/python3.7/dist-packages (from ipython>=5.3.0->pyvis) (0.8.1)\n",
            "Requirement already satisfied: pexpect; sys_platform != \"win32\" in /usr/local/lib/python3.7/dist-packages (from ipython>=5.3.0->pyvis) (4.8.0)\n",
            "Requirement already satisfied: decorator in /usr/local/lib/python3.7/dist-packages (from ipython>=5.3.0->pyvis) (4.4.2)\n",
            "Requirement already satisfied: setuptools>=18.5 in /usr/local/lib/python3.7/dist-packages (from ipython>=5.3.0->pyvis) (57.0.0)\n",
            "Requirement already satisfied: pickleshare in /usr/local/lib/python3.7/dist-packages (from ipython>=5.3.0->pyvis) (0.7.5)\n",
            "Requirement already satisfied: MarkupSafe>=0.23 in /usr/local/lib/python3.7/dist-packages (from jinja2>=2.9.6->pyvis) (2.0.1)\n",
            "Requirement already satisfied: typing-extensions>=3.6.4; python_version < \"3.8\" in /usr/local/lib/python3.7/dist-packages (from importlib-metadata; python_version < \"3.8\"->jsonpickle>=1.4.1->pyvis) (3.7.4.3)\n",
            "Requirement already satisfied: zipp>=0.5 in /usr/local/lib/python3.7/dist-packages (from importlib-metadata; python_version < \"3.8\"->jsonpickle>=1.4.1->pyvis) (3.4.1)\n",
            "Requirement already satisfied: six>=1.9.0 in /usr/local/lib/python3.7/dist-packages (from prompt-toolkit<2.0.0,>=1.0.4->ipython>=5.3.0->pyvis) (1.15.0)\n",
            "Requirement already satisfied: wcwidth in /usr/local/lib/python3.7/dist-packages (from prompt-toolkit<2.0.0,>=1.0.4->ipython>=5.3.0->pyvis) (0.2.5)\n",
            "Requirement already satisfied: ipython-genutils in /usr/local/lib/python3.7/dist-packages (from traitlets>=4.2->ipython>=5.3.0->pyvis) (0.2.0)\n",
            "Requirement already satisfied: ptyprocess>=0.5 in /usr/local/lib/python3.7/dist-packages (from pexpect; sys_platform != \"win32\"->ipython>=5.3.0->pyvis) (0.7.0)\n",
            "Installing collected packages: jsonpickle, pyvis\n",
            "Successfully installed jsonpickle-2.0.0 pyvis-0.1.9\n"
          ],
          "name": "stdout"
        }
      ]
    },
    {
      "cell_type": "code",
      "metadata": {
        "colab": {
          "base_uri": "https://localhost:8080/"
        },
        "id": "axJ0u6uPPHVA",
        "outputId": "d0f83b84-1139-4226-efea-ef034376beef"
      },
      "source": [
        "G_vis=G.copy()\n",
        "\n",
        "new_node_list=pd.merge(node_list, all_node_metrics, left_on=['display_name'], right_index=True)\n",
        "new_selected_node_attributes=new_node_list[['display_name','division','job_title','degree_centrality',\n",
        "       'indegree_centrality', 'outdegree_centrality', 'eigenvector_centrality',\n",
        "       'closeness_centrality', 'btwness_centrality', 'page_rank',\n",
        "       'hubs_centrality', 'authority_centrality']]\n",
        "# assign the column group as any of the coloring column you want to use\n",
        "new_selected_node_attributes.loc[:,'group']=new_selected_node_attributes['division'].values\n",
        "\n",
        "# assign the column size as any of the metrics you want to scale\n",
        "new_selected_node_attributes.loc[:,'size']=new_selected_node_attributes['degree_centrality'].values*10\n",
        "\n",
        "nx.set_node_attributes(G_vis, new_selected_node_attributes.set_index('display_name').to_dict('index'))"
      ],
      "execution_count": null,
      "outputs": [
        {
          "output_type": "stream",
          "text": [
            "/usr/local/lib/python3.7/dist-packages/pandas/core/indexing.py:1596: SettingWithCopyWarning:\n",
            "\n",
            "\n",
            "A value is trying to be set on a copy of a slice from a DataFrame.\n",
            "Try using .loc[row_indexer,col_indexer] = value instead\n",
            "\n",
            "See the caveats in the documentation: https://pandas.pydata.org/pandas-docs/stable/user_guide/indexing.html#returning-a-view-versus-a-copy\n",
            "\n",
            "/usr/local/lib/python3.7/dist-packages/pandas/core/indexing.py:1743: SettingWithCopyWarning:\n",
            "\n",
            "\n",
            "A value is trying to be set on a copy of a slice from a DataFrame.\n",
            "Try using .loc[row_indexer,col_indexer] = value instead\n",
            "\n",
            "See the caveats in the documentation: https://pandas.pydata.org/pandas-docs/stable/user_guide/indexing.html#returning-a-view-versus-a-copy\n",
            "\n"
          ],
          "name": "stderr"
        }
      ]
    },
    {
      "cell_type": "code",
      "metadata": {
        "colab": {
          "base_uri": "https://localhost:8080/",
          "height": 1000
        },
        "id": "YVVgmzLsXuLo",
        "outputId": "0d41789b-9ddf-4fde-acf6-706bf5da6f0b"
      },
      "source": [
        "from pyvis.network import Network\n",
        "from IPython.core.display import display, HTML\n",
        "\n",
        "g=Network( notebook=False, directed=True, width=700)\n",
        "g.show_buttons(filter_=['physics'])\n",
        "\n",
        "\n",
        "g.from_nx(G_vis)\n",
        "\n",
        "g.show('network.html')\n",
        "display(HTML('network.html'))"
      ],
      "execution_count": null,
      "outputs": [
        {
          "output_type": "display_data",
          "data": {
            "text/html": [
              "<html>\n",
              "<head>\n",
              "<link rel=\"stylesheet\" href=\"https://cdnjs.cloudflare.com/ajax/libs/vis/4.16.1/vis.css\" type=\"text/css\" />\n",
              "<script type=\"text/javascript\" src=\"https://cdnjs.cloudflare.com/ajax/libs/vis/4.16.1/vis-network.min.js\"> </script>\n",
              "<center>\n",
              "<h1></h1>\n",
              "</center>\n",
              "\n",
              "<!-- <link rel=\"stylesheet\" href=\"../node_modules/vis/dist/vis.min.css\" type=\"text/css\" />\n",
              "<script type=\"text/javascript\" src=\"../node_modules/vis/dist/vis.js\"> </script>-->\n",
              "\n",
              "<style type=\"text/css\">\n",
              "\n",
              "        #mynetwork {\n",
              "            width: 700;\n",
              "            height: 500px;\n",
              "            background-color: #ffffff;\n",
              "            border: 1px solid lightgray;\n",
              "            position: relative;\n",
              "            float: left;\n",
              "        }\n",
              "\n",
              "        \n",
              "\n",
              "        \n",
              "        #config {\n",
              "            float: left;\n",
              "            width: 400px;\n",
              "            height: 600px;\n",
              "        }\n",
              "        \n",
              "\n",
              "        \n",
              "</style>\n",
              "\n",
              "</head>\n",
              "\n",
              "<body>\n",
              "<div id = \"mynetwork\"></div>\n",
              "\n",
              "\n",
              "<div id = \"config\"></div>\n",
              "\n",
              "<script type=\"text/javascript\">\n",
              "\n",
              "    // initialize global variables.\n",
              "    var edges;\n",
              "    var nodes;\n",
              "    var network; \n",
              "    var container;\n",
              "    var options, data;\n",
              "\n",
              "    \n",
              "    // This method is responsible for drawing the graph, returns the drawn network\n",
              "    function drawGraph() {\n",
              "        var container = document.getElementById('mynetwork');\n",
              "        \n",
              "        \n",
              "\n",
              "        // parsing and collecting nodes and edges from the python\n",
              "        nodes = new vis.DataSet([{\"authority_centrality\": 0.05438884168295672, \"btwness_centrality\": 0.11626047893564596, \"closeness_centrality\": 0.6433270676691729, \"degree_centrality\": 0.8157894736842105, \"division\": \"development \\u0026 marketing\", \"eigenvector_centrality\": 0.2728922515707518, \"group\": \"development \\u0026 marketing\", \"hubs_centrality\": 0.032633763473530364, \"id\": \"Aisha Jamil\", \"indegree_centrality\": 0.47368421052631576, \"job_title\": \"lead editor and content developer (communications specialist)\", \"label\": \"Aisha Jamil\", \"outdegree_centrality\": 0.3421052631578947, \"page_rank\": 0.04402318347992633, \"shape\": \"dot\", \"size\": 8, \"time_zone\": \"America/New_York\"}, {\"authority_centrality\": 0.0028777865400107195, \"btwness_centrality\": 0.0015019505151084099, \"closeness_centrality\": 0.3958935801041064, \"degree_centrality\": 0.2894736842105263, \"division\": \"national programs\", \"eigenvector_centrality\": 0.025679131986812802, \"group\": \"national programs\", \"hubs_centrality\": 0.024411525149647128, \"id\": \"Amanda Burstein\", \"indegree_centrality\": 0.02631578947368421, \"job_title\": \"interim director, national programs\", \"label\": \"Amanda Burstein\", \"outdegree_centrality\": 0.2631578947368421, \"page_rank\": 0.00672465502524229, \"shape\": \"dot\", \"size\": 2, \"time_zone\": \"America/New_York\"}, {\"authority_centrality\": 0.07192191039790828, \"btwness_centrality\": 0.13770716357148619, \"closeness_centrality\": 0.7505482456140351, \"degree_centrality\": 1.0789473684210527, \"division\": \"national programs\", \"eigenvector_centrality\": 0.3542622342113545, \"group\": \"national programs\", \"hubs_centrality\": 0.038478302239982755, \"id\": \"Ben Gorban\", \"indegree_centrality\": 0.6842105263157894, \"job_title\": \"senior project associate\", \"label\": \"Ben Gorban\", \"outdegree_centrality\": 0.39473684210526316, \"page_rank\": 0.06220060720831564, \"shape\": \"dot\", \"size\": 10, \"time_zone\": \"America/New_York\"}, {\"authority_centrality\": 0.03674083699814316, \"btwness_centrality\": 0.034138712060538694, \"closeness_centrality\": 0.5810696095076401, \"degree_centrality\": 0.5526315789473684, \"division\": \"development \\u0026 marketing\", \"eigenvector_centrality\": 0.2222009028743848, \"group\": \"development \\u0026 marketing\", \"hubs_centrality\": 0.023555704215938826, \"id\": \"Erica Richardson\", \"indegree_centrality\": 0.3684210526315789, \"job_title\": \"digital communications and media relations lead (communications specialist)\", \"label\": \"Erica Richardson\", \"outdegree_centrality\": 0.18421052631578946, \"page_rank\": 0.03789275038841643, \"shape\": \"dot\", \"size\": 5, \"time_zone\": \"America/New_York\"}, {\"authority_centrality\": 0.038771081971502266, \"btwness_centrality\": 0.0337787656163013, \"closeness_centrality\": 0.5629111842105263, \"degree_centrality\": 0.763157894736842, \"division\": \"research\", \"eigenvector_centrality\": 0.2034497381084552, \"group\": \"research\", \"hubs_centrality\": 0.05516972832992043, \"id\": \"Karen Amendola\", \"indegree_centrality\": 0.2894736842105263, \"job_title\": \"chief behavioral scientist\", \"label\": \"Karen Amendola\", \"outdegree_centrality\": 0.47368421052631576, \"page_rank\": 0.02570479389282882, \"shape\": \"dot\", \"size\": 7, \"time_zone\": \"America/New_York\"}, {\"authority_centrality\": 0.021286276169214167, \"btwness_centrality\": 0.014705757399663216, \"closeness_centrality\": 0.4618758434547908, \"degree_centrality\": 0.4473684210526315, \"division\": \"national programs\", \"eigenvector_centrality\": 0.08952017512196986, \"group\": \"national programs\", \"hubs_centrality\": 0.021972705790657514, \"id\": \"Kerry Yerico\", \"indegree_centrality\": 0.21052631578947367, \"job_title\": \"senior program manager\", \"label\": \"Kerry Yerico\", \"outdegree_centrality\": 0.23684210526315788, \"page_rank\": 0.02169151536959689, \"shape\": \"dot\", \"size\": 4, \"time_zone\": \"America/New_York\"}, {\"authority_centrality\": 0.008496881716106717, \"btwness_centrality\": 0.014665964665964667, \"closeness_centrality\": 0.43405199746353834, \"degree_centrality\": 0.39473684210526316, \"division\": \"international\", \"eigenvector_centrality\": 0.057136594058385164, \"group\": \"international\", \"hubs_centrality\": 0.0225765995474172, \"id\": \"Lorena Singer\", \"indegree_centrality\": 0.15789473684210525, \"job_title\": \"regional manager\", \"label\": \"Lorena Singer\", \"outdegree_centrality\": 0.23684210526315788, \"page_rank\": 0.022861812677460455, \"shape\": \"dot\", \"size\": 3, \"time_zone\": \"America/Los_Angeles\"}, {\"authority_centrality\": 0.05226922715816777, \"btwness_centrality\": 0.03220390334907766, \"closeness_centrality\": 0.6004385964912281, \"degree_centrality\": 0.7368421052631579, \"division\": \"research\", \"eigenvector_centrality\": 0.26746192110596073, \"group\": \"research\", \"hubs_centrality\": 0.04228603900109314, \"id\": \"Maria Valdovinos Olson Valdovinos\", \"indegree_centrality\": 0.42105263157894735, \"job_title\": \"senior research associate\", \"label\": \"Maria Valdovinos Olson Valdovinos\", \"outdegree_centrality\": 0.3157894736842105, \"page_rank\": 0.03712131478124016, \"shape\": \"dot\", \"size\": 7, \"time_zone\": \"America/New_York\"}, {\"authority_centrality\": 0.02821692170329452, \"btwness_centrality\": 0.017782677283451277, \"closeness_centrality\": 0.5297987616099071, \"degree_centrality\": 0.3157894736842105, \"division\": \"local programs\", \"eigenvector_centrality\": 0.15464842656167835, \"group\": \"local programs\", \"hubs_centrality\": 0.00517571156042474, \"id\": \"Mary Kate Murphy\", \"indegree_centrality\": 0.23684210526315788, \"job_title\": \"project coordinator\", \"label\": \"Mary Kate Murphy\", \"outdegree_centrality\": 0.07894736842105263, \"page_rank\": 0.022327572535973374, \"shape\": \"dot\", \"size\": 3, \"time_zone\": \"America/New_York\"}, {\"authority_centrality\": 0.012618339229239071, \"btwness_centrality\": 0.002795302137407401, \"closeness_centrality\": 0.4393453145057767, \"degree_centrality\": 0.3157894736842105, \"division\": \"international\", \"eigenvector_centrality\": 0.06940257694514018, \"group\": \"international\", \"hubs_centrality\": 0.013890548129024372, \"id\": \"Rick Haake\", \"indegree_centrality\": 0.15789473684210525, \"job_title\": \"regional manager\", \"label\": \"Rick Haake\", \"outdegree_centrality\": 0.15789473684210525, \"page_rank\": 0.01879707986313014, \"shape\": \"dot\", \"size\": 3, \"time_zone\": \"America/Chicago\"}, {\"authority_centrality\": 0.062137117958347525, \"btwness_centrality\": 0.19706860317478556, \"closeness_centrality\": 0.7063983488132095, \"degree_centrality\": 1.1578947368421053, \"division\": \"office of the president\", \"eigenvector_centrality\": 0.3529690724909283, \"group\": \"office of the president\", \"hubs_centrality\": 0.053833597265213286, \"id\": \"Sarita Coletrane\", \"indegree_centrality\": 0.631578947368421, \"job_title\": \"human resources and operations manager\", \"label\": \"Sarita Coletrane\", \"outdegree_centrality\": 0.5263157894736842, \"page_rank\": 0.06606853121043034, \"shape\": \"dot\", \"size\": 11, \"time_zone\": \"America/Chicago\"}, {\"authority_centrality\": 0.0028777865400107195, \"btwness_centrality\": 0.0005976371107950055, \"closeness_centrality\": 0.39159038901601834, \"degree_centrality\": 0.18421052631578946, \"division\": \"development \\u0026 marketing\", \"eigenvector_centrality\": 0.025679131986812802, \"group\": \"development \\u0026 marketing\", \"hubs_centrality\": 0.01884123252662472, \"id\": \"Tamara Martin\", \"indegree_centrality\": 0.02631578947368421, \"job_title\": \"director, development \\u0026 marketing\", \"label\": \"Tamara Martin\", \"outdegree_centrality\": 0.15789473684210525, \"page_rank\": 0.00672465502524229, \"shape\": \"dot\", \"size\": 1, \"time_zone\": \"America/New_York\"}, {\"authority_centrality\": 0.023697246756115602, \"btwness_centrality\": 0.003190395165257193, \"closeness_centrality\": 0.5003654970760234, \"degree_centrality\": 0.3684210526315789, \"division\": \"finance \\u0026 administration\", \"eigenvector_centrality\": 0.121576656451481, \"group\": \"finance \\u0026 administration\", \"hubs_centrality\": 0.025714698677701427, \"id\": \"Trenay Wren-Evans\", \"indegree_centrality\": 0.18421052631578946, \"job_title\": \"administrative coordinator\", \"label\": \"Trenay Wren-Evans\", \"outdegree_centrality\": 0.18421052631578946, \"page_rank\": 0.017296411215403262, \"shape\": \"dot\", \"size\": 3, \"time_zone\": \"America/New_York\"}, {\"authority_centrality\": 0.038753651575175366, \"btwness_centrality\": 0.031757289062276275, \"closeness_centrality\": 0.554251012145749, \"degree_centrality\": 0.6578947368421052, \"division\": \"research\", \"eigenvector_centrality\": 0.22441269904678007, \"group\": \"research\", \"hubs_centrality\": 0.043740870235471636, \"id\": \"Yukun Yang\", \"indegree_centrality\": 0.3157894736842105, \"job_title\": \"data scientist (senior project associate)\", \"label\": \"Yukun Yang\", \"outdegree_centrality\": 0.3421052631578947, \"page_rank\": 0.035422378331928905, \"shape\": \"dot\", \"size\": 6, \"time_zone\": \"America/New_York\"}, {\"authority_centrality\": 0.026592597321415393, \"btwness_centrality\": 0.01964187475430754, \"closeness_centrality\": 0.54585326953748, \"degree_centrality\": 0.47368421052631576, \"division\": \"national programs\", \"eigenvector_centrality\": 0.12500144263999569, \"group\": \"national programs\", \"hubs_centrality\": 0.02742322722222017, \"id\": \"Brett Cowell\", \"indegree_centrality\": 0.2631578947368421, \"job_title\": \"senior project associate\", \"label\": \"Brett Cowell\", \"outdegree_centrality\": 0.21052631578947367, \"page_rank\": 0.022473932091389613, \"shape\": \"dot\", \"size\": 4, \"time_zone\": \"America/New_York\"}, {\"authority_centrality\": 0.01662356567420632, \"btwness_centrality\": 0.004151392568982597, \"closeness_centrality\": 0.5146616541353384, \"degree_centrality\": 0.2631578947368421, \"division\": \"national programs\", \"eigenvector_centrality\": 0.08930405082448088, \"group\": \"national programs\", \"hubs_centrality\": 0.016395377891257314, \"id\": \"Brianna Sclafani\", \"indegree_centrality\": 0.15789473684210525, \"job_title\": NaN, \"label\": \"Brianna Sclafani\", \"outdegree_centrality\": 0.10526315789473684, \"page_rank\": 0.016508440545545285, \"shape\": \"dot\", \"size\": 2, \"time_zone\": \"America/New_York\"}, {\"authority_centrality\": 0.020597717837999394, \"btwness_centrality\": 0.018266845829172703, \"closeness_centrality\": 0.554251012145749, \"degree_centrality\": 0.39473684210526316, \"division\": \"international\", \"eigenvector_centrality\": 0.13465691673604152, \"group\": \"international\", \"hubs_centrality\": 0.009359222467674566, \"id\": \"Danielle Parsons\", \"indegree_centrality\": 0.2631578947368421, \"job_title\": \"specialist, program operations and finance\", \"label\": \"Danielle Parsons\", \"outdegree_centrality\": 0.13157894736842105, \"page_rank\": 0.03166132178248431, \"shape\": \"dot\", \"size\": 3, \"time_zone\": \"America/New_York\"}, {\"authority_centrality\": 0.030984051544896654, \"btwness_centrality\": 0.013855358557574624, \"closeness_centrality\": 0.5377062058130401, \"degree_centrality\": 0.42105263157894735, \"division\": \"national programs\", \"eigenvector_centrality\": 0.1516668410873958, \"group\": \"national programs\", \"hubs_centrality\": 0.013768258930476228, \"id\": \"Eiryn Renouard\", \"indegree_centrality\": 0.2631578947368421, \"job_title\": \"project coordinator\", \"label\": \"Eiryn Renouard\", \"outdegree_centrality\": 0.15789473684210525, \"page_rank\": 0.023959568077480422, \"shape\": \"dot\", \"size\": 4, \"time_zone\": \"America/New_York\"}, {\"authority_centrality\": 0.020093853806851344, \"btwness_centrality\": 0.015279477929096069, \"closeness_centrality\": 0.5146616541353384, \"degree_centrality\": 0.39473684210526316, \"division\": \"national programs\", \"eigenvector_centrality\": 0.10252018942699571, \"group\": \"national programs\", \"hubs_centrality\": 0.020398457156189112, \"id\": \"Julia Kessler\", \"indegree_centrality\": 0.21052631578947367, \"job_title\": \"senior project associate\", \"label\": \"Julia Kessler\", \"outdegree_centrality\": 0.18421052631578946, \"page_rank\": 0.023943404897830617, \"shape\": \"dot\", \"size\": 3, \"time_zone\": \"America/Los_Angeles\"}, {\"authority_centrality\": 0.012848408556629116, \"btwness_centrality\": 0.002659497028692075, \"closeness_centrality\": 0.4678742310321258, \"degree_centrality\": 0.2894736842105263, \"division\": NaN, \"eigenvector_centrality\": 0.08444503794981048, \"group\": NaN, \"hubs_centrality\": 0.010274826220318008, \"id\": \"Sarah Vanselow\", \"indegree_centrality\": 0.18421052631578946, \"job_title\": \"project associate\", \"label\": \"Sarah Vanselow\", \"outdegree_centrality\": 0.10526315789473684, \"page_rank\": 0.025144433360431227, \"shape\": \"dot\", \"size\": 2, \"time_zone\": \"America/New_York\"}, {\"authority_centrality\": 0.039996054108767755, \"btwness_centrality\": 0.012379095756471758, \"closeness_centrality\": 0.5146616541353384, \"degree_centrality\": 0.6578947368421052, \"division\": \"research\", \"eigenvector_centrality\": 0.1847089715269173, \"group\": \"research\", \"hubs_centrality\": 0.045910331339507005, \"id\": \"Travis Taniguchi\", \"indegree_centrality\": 0.2894736842105263, \"job_title\": \"director, research division\", \"label\": \"Travis Taniguchi\", \"outdegree_centrality\": 0.3684210526315789, \"page_rank\": 0.022589913987871163, \"shape\": \"dot\", \"size\": 6, \"time_zone\": \"America/New_York\"}, {\"authority_centrality\": 0.041220033659386895, \"btwness_centrality\": 0.02079311119642927, \"closeness_centrality\": 0.590595340811044, \"degree_centrality\": 0.6052631578947368, \"division\": \"local programs\", \"eigenvector_centrality\": 0.19841177531771223, \"group\": \"local programs\", \"hubs_centrality\": 0.03397304242591593, \"id\": \"Christine Johnson\", \"indegree_centrality\": 0.3421052631578947, \"job_title\": \"project associate\", \"label\": \"Christine Johnson\", \"outdegree_centrality\": 0.2631578947368421, \"page_rank\": 0.030324990644795515, \"shape\": \"dot\", \"size\": 6, \"time_zone\": \"America/New_York\"}, {\"authority_centrality\": 0.026342790815204437, \"btwness_centrality\": 0.01234283073527925, \"closeness_centrality\": 0.5074128984432913, \"degree_centrality\": 0.42105263157894735, \"division\": NaN, \"eigenvector_centrality\": 0.12391918349111339, \"group\": NaN, \"hubs_centrality\": 0.02034235571416742, \"id\": \"Dominique Burton\", \"indegree_centrality\": 0.23684210526315788, \"job_title\": \"project associate\", \"label\": \"Dominique Burton\", \"outdegree_centrality\": 0.18421052631578946, \"page_rank\": 0.022401177681236083, \"shape\": \"dot\", \"size\": 4, \"time_zone\": \"America/New_York\"}, {\"authority_centrality\": 0.024427132466885774, \"btwness_centrality\": 0.0056880332136086615, \"closeness_centrality\": 0.4868421052631579, \"degree_centrality\": 0.47368421052631576, \"division\": \"research\", \"eigenvector_centrality\": 0.15344413522977413, \"group\": \"research\", \"hubs_centrality\": 0.04032562554546524, \"id\": \"Heather Vovak\", \"indegree_centrality\": 0.18421052631578946, \"job_title\": \"senior research associate\", \"label\": \"Heather Vovak\", \"outdegree_centrality\": 0.2894736842105263, \"page_rank\": 0.021029964334644706, \"shape\": \"dot\", \"size\": 4, \"time_zone\": \"America/New_York\"}, {\"authority_centrality\": 0.025058129259063346, \"btwness_centrality\": 0.04777269140238586, \"closeness_centrality\": 0.5146616541353384, \"degree_centrality\": 0.6578947368421052, \"division\": \"local programs\", \"eigenvector_centrality\": 0.14155481825995075, \"group\": \"local programs\", \"hubs_centrality\": 0.048516585967119046, \"id\": \"Jen Zeunik\", \"indegree_centrality\": 0.23684210526315788, \"job_title\": \"director of local programs\", \"label\": \"Jen Zeunik\", \"outdegree_centrality\": 0.42105263157894735, \"page_rank\": 0.023623487621397297, \"shape\": \"dot\", \"size\": 6, \"time_zone\": \"America/New_York\"}, {\"authority_centrality\": 0.03062613759462347, \"btwness_centrality\": 0.02286457989154038, \"closeness_centrality\": 0.5003654970760234, \"degree_centrality\": 0.5526315789473684, \"division\": \"research\", \"eigenvector_centrality\": 0.15341727293714671, \"group\": \"research\", \"hubs_centrality\": 0.04151660895319366, \"id\": \"Katherine Hoogesteyn\", \"indegree_centrality\": 0.21052631578947367, \"job_title\": \"senior research associate\", \"label\": \"Katherine Hoogesteyn\", \"outdegree_centrality\": 0.3421052631578947, \"page_rank\": 0.019141642296221166, \"shape\": \"dot\", \"size\": 5, \"time_zone\": \"America/Los_Angeles\"}, {\"authority_centrality\": 0.04148595698241981, \"btwness_centrality\": 0.013552385520348903, \"closeness_centrality\": 0.5718462823725982, \"degree_centrality\": 0.5263157894736842, \"division\": \"research\", \"eigenvector_centrality\": 0.21237931175566266, \"group\": \"research\", \"hubs_centrality\": 0.02707816233472295, \"id\": \"Michael Lebron\", \"indegree_centrality\": 0.3157894736842105, \"job_title\": \"research assistant\", \"label\": \"Michael Lebron\", \"outdegree_centrality\": 0.21052631578947367, \"page_rank\": 0.028699711357923652, \"shape\": \"dot\", \"size\": 5, \"time_zone\": \"America/New_York\"}, {\"authority_centrality\": 0.04192996101918596, \"btwness_centrality\": 0.025923983905108725, \"closeness_centrality\": 0.5629111842105263, \"degree_centrality\": 0.6842105263157894, \"division\": NaN, \"eigenvector_centrality\": 0.21873629271779813, \"group\": NaN, \"hubs_centrality\": 0.04075802266584032, \"id\": \"Pauline Alvarado\", \"indegree_centrality\": 0.3157894736842105, \"job_title\": \"project associate\", \"label\": \"Pauline Alvarado\", \"outdegree_centrality\": 0.3684210526315789, \"page_rank\": 0.028943673148398893, \"shape\": \"dot\", \"size\": 6, \"time_zone\": \"America/Los_Angeles\"}, {\"authority_centrality\": 0.019352648623303242, \"btwness_centrality\": 0.038268476322492945, \"closeness_centrality\": 0.5221205186880244, \"degree_centrality\": 0.5, \"division\": NaN, \"eigenvector_centrality\": 0.12458220394678587, \"group\": NaN, \"hubs_centrality\": 0.025167667381848342, \"id\": \"Scarlett Ojeda Geldres\", \"indegree_centrality\": 0.21052631578947367, \"job_title\": \"finance assistant\", \"label\": \"Scarlett Ojeda Geldres\", \"outdegree_centrality\": 0.2894736842105263, \"page_rank\": 0.02795871406622763, \"shape\": \"dot\", \"size\": 5, \"time_zone\": \"America/New_York\"}, {\"authority_centrality\": 0.004667993642280174, \"btwness_centrality\": 0.0036256437572227043, \"closeness_centrality\": 0.41409558378705386, \"degree_centrality\": 0.21052631578947367, \"division\": \"center for mass violence response studies\", \"eigenvector_centrality\": 0.03545491670007159, \"group\": \"center for mass violence response studies\", \"hubs_centrality\": 0.01980088473571396, \"id\": \"Frank Straub\", \"indegree_centrality\": 0.07894736842105263, \"job_title\": \"director, center for mass violence response studies\", \"label\": \"Frank Straub\", \"outdegree_centrality\": 0.13157894736842105, \"page_rank\": 0.012815086376238594, \"shape\": \"dot\", \"size\": 2, \"time_zone\": \"America/Detroit\"}, {\"authority_centrality\": 0.01809859384877227, \"btwness_centrality\": 0.0, \"closeness_centrality\": 0.4578313253012048, \"degree_centrality\": 0.18421052631578946, \"division\": \"research\", \"eigenvector_centrality\": 0.08903580116158699, \"group\": \"research\", \"hubs_centrality\": 0.0014741121272628256, \"id\": \"Danielle Boekankamp\", \"indegree_centrality\": 0.15789473684210525, \"job_title\": \"intern\", \"label\": \"Danielle Boekankamp\", \"outdegree_centrality\": 0.02631578947368421, \"page_rank\": 0.08352550621776743, \"shape\": \"dot\", \"size\": 1, \"time_zone\": \"America/Los_Angeles\"}, {\"authority_centrality\": 0.037802361345548166, \"btwness_centrality\": 0.004172242988032461, \"closeness_centrality\": 0.4935111751982697, \"degree_centrality\": 0.47368421052631576, \"division\": \"research\", \"eigenvector_centrality\": 0.18398950922451313, \"group\": \"research\", \"hubs_centrality\": 0.024337397703407745, \"id\": \"Travis Riddle\", \"indegree_centrality\": 0.2894736842105263, \"job_title\": \"research data scientist (senior program manager)\", \"label\": \"Travis Riddle\", \"outdegree_centrality\": 0.18421052631578946, \"page_rank\": 0.02535259196971735, \"shape\": \"dot\", \"size\": 4, \"time_zone\": \"America/New_York\"}, {\"authority_centrality\": 0.012304023158148622, \"btwness_centrality\": 0.001959598012229591, \"closeness_centrality\": 0.4740304709141275, \"degree_centrality\": 0.2894736842105263, \"division\": \"international\", \"eigenvector_centrality\": 0.07309568021347727, \"group\": \"international\", \"hubs_centrality\": 0.008432881151041854, \"id\": \"Garrett Johnson\", \"indegree_centrality\": 0.18421052631578946, \"job_title\": \"project coordinator\", \"label\": \"Garrett Johnson\", \"outdegree_centrality\": 0.10526315789473684, \"page_rank\": 0.024839968858330164, \"shape\": \"dot\", \"size\": 2, \"time_zone\": \"America/New_York\"}, {\"authority_centrality\": 0.00543913822380591, \"btwness_centrality\": 0.001760620839568208, \"closeness_centrality\": 0.37140531741725447, \"degree_centrality\": 0.18421052631578946, \"division\": \"local programs\", \"eigenvector_centrality\": 0.030767880646465257, \"group\": \"local programs\", \"hubs_centrality\": 0.007986895112561813, \"id\": \"Rebecca Benson\", \"indegree_centrality\": 0.07894736842105263, \"job_title\": \"senior project associate\", \"label\": \"Rebecca Benson\", \"outdegree_centrality\": 0.10526315789473684, \"page_rank\": 0.014511107961134442, \"shape\": \"dot\", \"size\": 1, \"time_zone\": \"America/New_York\"}, {\"authority_centrality\": 0.017016616598776346, \"btwness_centrality\": 0.002560788744999271, \"closeness_centrality\": 0.4678742310321258, \"degree_centrality\": 0.2631578947368421, \"division\": \"finance \\u0026 administration\", \"eigenvector_centrality\": 0.06547113149917434, \"group\": \"finance \\u0026 administration\", \"hubs_centrality\": 0.01636991595394329, \"id\": \"Elizabeth Fontaine\", \"indegree_centrality\": 0.10526315789473684, \"job_title\": \"senior accounting manager\", \"label\": \"Elizabeth Fontaine\", \"outdegree_centrality\": 0.15789473684210525, \"page_rank\": 0.009654790845447654, \"shape\": \"dot\", \"size\": 2, \"time_zone\": \"America/New_York\"}, {\"authority_centrality\": 0.013464453095508018, \"btwness_centrality\": 0.0014756020947971412, \"closeness_centrality\": 0.4740304709141275, \"degree_centrality\": 0.23684210526315788, \"division\": \"office of the president\", \"eigenvector_centrality\": 0.05494879230647749, \"group\": \"office of the president\", \"hubs_centrality\": 0.01051238568106393, \"id\": \"Jane Mott-Palmer\", \"indegree_centrality\": 0.13157894736842105, \"job_title\": \"chief of staff\", \"label\": \"Jane Mott-Palmer\", \"outdegree_centrality\": 0.10526315789473684, \"page_rank\": 0.01397887304823213, \"shape\": \"dot\", \"size\": 2, \"time_zone\": \"America/New_York\"}, {\"authority_centrality\": 0.0077635462026735165, \"btwness_centrality\": 0.018781879966090494, \"closeness_centrality\": 0.45602931379080613, \"degree_centrality\": 0.5526315789473684, \"division\": NaN, \"eigenvector_centrality\": 0.04782272738375439, \"group\": NaN, \"hubs_centrality\": 0.049099653945345705, \"id\": \"Jim Burch\", \"indegree_centrality\": 0.07894736842105263, \"job_title\": \"president\", \"label\": \"Jim Burch\", \"outdegree_centrality\": 0.47368421052631576, \"page_rank\": 0.0104619996990802, \"shape\": \"dot\", \"size\": 5, \"time_zone\": \"America/New_York\"}, {\"authority_centrality\": 0.010210328217455357, \"btwness_centrality\": 0.0035715226504700187, \"closeness_centrality\": 0.38737973967176004, \"degree_centrality\": 0.18421052631578946, \"division\": NaN, \"eigenvector_centrality\": 0.030659866877784638, \"group\": NaN, \"hubs_centrality\": 0.009036443137679111, \"id\": \"Fern Hernberg\", \"indegree_centrality\": 0.07894736842105263, \"job_title\": NaN, \"label\": \"Fern Hernberg\", \"outdegree_centrality\": 0.10526315789473684, \"page_rank\": 0.007752284278885247, \"shape\": \"dot\", \"size\": 1, \"time_zone\": \"America/New_York\"}, {\"authority_centrality\": 0.0, \"btwness_centrality\": 0.0, \"closeness_centrality\": 0.0, \"degree_centrality\": 0.13157894736842105, \"division\": \"international\", \"eigenvector_centrality\": 2.0353192918084474e-16, \"group\": \"international\", \"hubs_centrality\": 0.009460632093416826, \"id\": \"Virgil Young\", \"indegree_centrality\": 0.0, \"job_title\": \"interim director, international division\", \"label\": \"Virgil Young\", \"outdegree_centrality\": 0.13157894736842105, \"page_rank\": 0.003846153846153847, \"shape\": \"dot\", \"size\": 1, \"time_zone\": \"America/New_York\"}]);\n",
              "        edges = new vis.DataSet([{\"arrows\": \"to\", \"from\": \"Aisha Jamil\", \"to\": \"Amanda Burstein\", \"weight\": 1, \"weight_count\": 1}, {\"arrows\": \"to\", \"from\": \"Aisha Jamil\", \"to\": \"Ben Gorban\", \"weight\": 1, \"weight_count\": 3}, {\"arrows\": \"to\", \"from\": \"Aisha Jamil\", \"to\": \"Erica Richardson\", \"weight\": 1, \"weight_count\": 5}, {\"arrows\": \"to\", \"from\": \"Aisha Jamil\", \"to\": \"Karen Amendola\", \"weight\": 1, \"weight_count\": 1}, {\"arrows\": \"to\", \"from\": \"Aisha Jamil\", \"to\": \"Kerry Yerico\", \"weight\": 1, \"weight_count\": 1}, {\"arrows\": \"to\", \"from\": \"Aisha Jamil\", \"to\": \"Lorena Singer\", \"weight\": 1, \"weight_count\": 1}, {\"arrows\": \"to\", \"from\": \"Aisha Jamil\", \"to\": \"Maria Valdovinos Olson Valdovinos\", \"weight\": 1, \"weight_count\": 3}, {\"arrows\": \"to\", \"from\": \"Aisha Jamil\", \"to\": \"Mary Kate Murphy\", \"weight\": 1, \"weight_count\": 1}, {\"arrows\": \"to\", \"from\": \"Aisha Jamil\", \"to\": \"Rick Haake\", \"weight\": 1, \"weight_count\": 1}, {\"arrows\": \"to\", \"from\": \"Aisha Jamil\", \"to\": \"Sarita Coletrane\", \"weight\": 1, \"weight_count\": 2}, {\"arrows\": \"to\", \"from\": \"Aisha Jamil\", \"to\": \"Tamara Martin\", \"weight\": 1, \"weight_count\": 1}, {\"arrows\": \"to\", \"from\": \"Aisha Jamil\", \"to\": \"Trenay Wren-Evans\", \"weight\": 1, \"weight_count\": 1}, {\"arrows\": \"to\", \"from\": \"Aisha Jamil\", \"to\": \"Yukun Yang\", \"weight\": 1, \"weight_count\": 1}, {\"arrows\": \"to\", \"from\": \"Amanda Burstein\", \"to\": \"Ben Gorban\", \"weight\": 1, \"weight_count\": 3}, {\"arrows\": \"to\", \"from\": \"Amanda Burstein\", \"to\": \"Brett Cowell\", \"weight\": 1, \"weight_count\": 3}, {\"arrows\": \"to\", \"from\": \"Amanda Burstein\", \"to\": \"Brianna Sclafani\", \"weight\": 1, \"weight_count\": 1}, {\"arrows\": \"to\", \"from\": \"Amanda Burstein\", \"to\": \"Danielle Parsons\", \"weight\": 1, \"weight_count\": 1}, {\"arrows\": \"to\", \"from\": \"Amanda Burstein\", \"to\": \"Eiryn Renouard\", \"weight\": 1, \"weight_count\": 3}, {\"arrows\": \"to\", \"from\": \"Amanda Burstein\", \"to\": \"Julia Kessler\", \"weight\": 1, \"weight_count\": 4}, {\"arrows\": \"to\", \"from\": \"Amanda Burstein\", \"to\": \"Karen Amendola\", \"weight\": 1, \"weight_count\": 1}, {\"arrows\": \"to\", \"from\": \"Amanda Burstein\", \"to\": \"Kerry Yerico\", \"weight\": 1, \"weight_count\": 4}, {\"arrows\": \"to\", \"from\": \"Amanda Burstein\", \"to\": \"Sarah Vanselow\", \"weight\": 1, \"weight_count\": 4}, {\"arrows\": \"to\", \"from\": \"Amanda Burstein\", \"to\": \"Travis Taniguchi\", \"weight\": 1, \"weight_count\": 1}, {\"arrows\": \"to\", \"from\": \"Ben Gorban\", \"to\": \"Aisha Jamil\", \"weight\": 1, \"weight_count\": 2}, {\"arrows\": \"to\", \"from\": \"Ben Gorban\", \"to\": \"Brianna Sclafani\", \"weight\": 1, \"weight_count\": 1}, {\"arrows\": \"to\", \"from\": \"Ben Gorban\", \"to\": \"Christine Johnson\", \"weight\": 1, \"weight_count\": 2}, {\"arrows\": \"to\", \"from\": \"Ben Gorban\", \"to\": \"Danielle Parsons\", \"weight\": 1, \"weight_count\": 1}, {\"arrows\": \"to\", \"from\": \"Ben Gorban\", \"to\": \"Dominique Burton\", \"weight\": 1, \"weight_count\": 2}, {\"arrows\": \"to\", \"from\": \"Ben Gorban\", \"to\": \"Heather Vovak\", \"weight\": 1, \"weight_count\": 1}, {\"arrows\": \"to\", \"from\": \"Ben Gorban\", \"to\": \"Jen Zeunik\", \"weight\": 1, \"weight_count\": 1}, {\"arrows\": \"to\", \"from\": \"Ben Gorban\", \"to\": \"Karen Amendola\", \"weight\": 1, \"weight_count\": 1}, {\"arrows\": \"to\", \"from\": \"Ben Gorban\", \"to\": \"Katherine Hoogesteyn\", \"weight\": 1, \"weight_count\": 1}, {\"arrows\": \"to\", \"from\": \"Ben Gorban\", \"to\": \"Michael Lebron\", \"weight\": 1, \"weight_count\": 2}, {\"arrows\": \"to\", \"from\": \"Ben Gorban\", \"to\": \"Pauline Alvarado\", \"weight\": 1, \"weight_count\": 1}, {\"arrows\": \"to\", \"from\": \"Ben Gorban\", \"to\": \"Sarah Vanselow\", \"weight\": 1, \"weight_count\": 1}, {\"arrows\": \"to\", \"from\": \"Ben Gorban\", \"to\": \"Scarlett Ojeda Geldres\", \"weight\": 1, \"weight_count\": 1}, {\"arrows\": \"to\", \"from\": \"Ben Gorban\", \"to\": \"Travis Taniguchi\", \"weight\": 1, \"weight_count\": 2}, {\"arrows\": \"to\", \"from\": \"Ben Gorban\", \"to\": \"Yukun Yang\", \"weight\": 1, \"weight_count\": 2}, {\"arrows\": \"to\", \"from\": \"Erica Richardson\", \"to\": \"Aisha Jamil\", \"weight\": 1, \"weight_count\": 1}, {\"arrows\": \"to\", \"from\": \"Erica Richardson\", \"to\": \"Ben Gorban\", \"weight\": 1, \"weight_count\": 1}, {\"arrows\": \"to\", \"from\": \"Erica Richardson\", \"to\": \"Danielle Parsons\", \"weight\": 1, \"weight_count\": 1}, {\"arrows\": \"to\", \"from\": \"Erica Richardson\", \"to\": \"Erica Richardson\", \"weight\": 1, \"weight_count\": 1}, {\"arrows\": \"to\", \"from\": \"Erica Richardson\", \"to\": \"Frank Straub\", \"weight\": 1, \"weight_count\": 1}, {\"arrows\": \"to\", \"from\": \"Erica Richardson\", \"to\": \"Sarita Coletrane\", \"weight\": 1, \"weight_count\": 1}, {\"arrows\": \"to\", \"from\": \"Erica Richardson\", \"to\": \"Yukun Yang\", \"weight\": 1, \"weight_count\": 1}, {\"arrows\": \"to\", \"from\": \"Karen Amendola\", \"to\": \"Aisha Jamil\", \"weight\": 1, \"weight_count\": 3}, {\"arrows\": \"to\", \"from\": \"Karen Amendola\", \"to\": \"Ben Gorban\", \"weight\": 1, \"weight_count\": 2}, {\"arrows\": \"to\", \"from\": \"Karen Amendola\", \"to\": \"Brett Cowell\", \"weight\": 1, \"weight_count\": 2}, {\"arrows\": \"to\", \"from\": \"Karen Amendola\", \"to\": \"Christine Johnson\", \"weight\": 1, \"weight_count\": 6}, {\"arrows\": \"to\", \"from\": \"Karen Amendola\", \"to\": \"Danielle Boekankamp\", \"weight\": 1, \"weight_count\": 1}, {\"arrows\": \"to\", \"from\": \"Karen Amendola\", \"to\": \"Erica Richardson\", \"weight\": 1, \"weight_count\": 1}, {\"arrows\": \"to\", \"from\": \"Karen Amendola\", \"to\": \"Heather Vovak\", \"weight\": 1, \"weight_count\": 3}, {\"arrows\": \"to\", \"from\": \"Karen Amendola\", \"to\": \"Jen Zeunik\", \"weight\": 1, \"weight_count\": 1}, {\"arrows\": \"to\", \"from\": \"Karen Amendola\", \"to\": \"Katherine Hoogesteyn\", \"weight\": 1, \"weight_count\": 2}, {\"arrows\": \"to\", \"from\": \"Karen Amendola\", \"to\": \"Kerry Yerico\", \"weight\": 1, \"weight_count\": 1}, {\"arrows\": \"to\", \"from\": \"Karen Amendola\", \"to\": \"Maria Valdovinos Olson Valdovinos\", \"weight\": 1, \"weight_count\": 5}, {\"arrows\": \"to\", \"from\": \"Karen Amendola\", \"to\": \"Michael Lebron\", \"weight\": 1, \"weight_count\": 1}, {\"arrows\": \"to\", \"from\": \"Karen Amendola\", \"to\": \"Pauline Alvarado\", \"weight\": 1, \"weight_count\": 2}, {\"arrows\": \"to\", \"from\": \"Karen Amendola\", \"to\": \"Rick Haake\", \"weight\": 1, \"weight_count\": 1}, {\"arrows\": \"to\", \"from\": \"Karen Amendola\", \"to\": \"Sarita Coletrane\", \"weight\": 1, \"weight_count\": 8}, {\"arrows\": \"to\", \"from\": \"Karen Amendola\", \"to\": \"Travis Riddle\", \"weight\": 1, \"weight_count\": 4}, {\"arrows\": \"to\", \"from\": \"Karen Amendola\", \"to\": \"Travis Taniguchi\", \"weight\": 1, \"weight_count\": 4}, {\"arrows\": \"to\", \"from\": \"Karen Amendola\", \"to\": \"Yukun Yang\", \"weight\": 1, \"weight_count\": 8}, {\"arrows\": \"to\", \"from\": \"Kerry Yerico\", \"to\": \"Aisha Jamil\", \"weight\": 1, \"weight_count\": 2}, {\"arrows\": \"to\", \"from\": \"Kerry Yerico\", \"to\": \"Ben Gorban\", \"weight\": 1, \"weight_count\": 2}, {\"arrows\": \"to\", \"from\": \"Kerry Yerico\", \"to\": \"Brett Cowell\", \"weight\": 1, \"weight_count\": 2}, {\"arrows\": \"to\", \"from\": \"Kerry Yerico\", \"to\": \"Eiryn Renouard\", \"weight\": 1, \"weight_count\": 1}, {\"arrows\": \"to\", \"from\": \"Kerry Yerico\", \"to\": \"Garrett Johnson\", \"weight\": 1, \"weight_count\": 1}, {\"arrows\": \"to\", \"from\": \"Kerry Yerico\", \"to\": \"Julia Kessler\", \"weight\": 1, \"weight_count\": 3}, {\"arrows\": \"to\", \"from\": \"Kerry Yerico\", \"to\": \"Kerry Yerico\", \"weight\": 1, \"weight_count\": 2}, {\"arrows\": \"to\", \"from\": \"Kerry Yerico\", \"to\": \"Sarah Vanselow\", \"weight\": 1, \"weight_count\": 1}, {\"arrows\": \"to\", \"from\": \"Kerry Yerico\", \"to\": \"Scarlett Ojeda Geldres\", \"weight\": 1, \"weight_count\": 1}, {\"arrows\": \"to\", \"from\": \"Lorena Singer\", \"to\": \"Aisha Jamil\", \"weight\": 1, \"weight_count\": 2}, {\"arrows\": \"to\", \"from\": \"Lorena Singer\", \"to\": \"Ben Gorban\", \"weight\": 1, \"weight_count\": 1}, {\"arrows\": \"to\", \"from\": \"Lorena Singer\", \"to\": \"Brianna Sclafani\", \"weight\": 1, \"weight_count\": 1}, {\"arrows\": \"to\", \"from\": \"Lorena Singer\", \"to\": \"Danielle Boekankamp\", \"weight\": 1, \"weight_count\": 2}, {\"arrows\": \"to\", \"from\": \"Lorena Singer\", \"to\": \"Danielle Parsons\", \"weight\": 1, \"weight_count\": 5}, {\"arrows\": \"to\", \"from\": \"Lorena Singer\", \"to\": \"Garrett Johnson\", \"weight\": 1, \"weight_count\": 6}, {\"arrows\": \"to\", \"from\": \"Lorena Singer\", \"to\": \"Lorena Singer\", \"weight\": 1, \"weight_count\": 3}, {\"arrows\": \"to\", \"from\": \"Lorena Singer\", \"to\": \"Rick Haake\", \"weight\": 1, \"weight_count\": 4}, {\"arrows\": \"to\", \"from\": \"Lorena Singer\", \"to\": \"Sarita Coletrane\", \"weight\": 1, \"weight_count\": 3}, {\"arrows\": \"to\", \"from\": \"Maria Valdovinos Olson Valdovinos\", \"to\": \"Aisha Jamil\", \"weight\": 1, \"weight_count\": 4}, {\"arrows\": \"to\", \"from\": \"Maria Valdovinos Olson Valdovinos\", \"to\": \"Ben Gorban\", \"weight\": 1, \"weight_count\": 3}, {\"arrows\": \"to\", \"from\": \"Maria Valdovinos Olson Valdovinos\", \"to\": \"Brett Cowell\", \"weight\": 1, \"weight_count\": 1}, {\"arrows\": \"to\", \"from\": \"Maria Valdovinos Olson Valdovinos\", \"to\": \"Heather Vovak\", \"weight\": 1, \"weight_count\": 2}, {\"arrows\": \"to\", \"from\": \"Maria Valdovinos Olson Valdovinos\", \"to\": \"Karen Amendola\", \"weight\": 1, \"weight_count\": 3}, {\"arrows\": \"to\", \"from\": \"Maria Valdovinos Olson Valdovinos\", \"to\": \"Katherine Hoogesteyn\", \"weight\": 1, \"weight_count\": 1}, {\"arrows\": \"to\", \"from\": \"Maria Valdovinos Olson Valdovinos\", \"to\": \"Maria Valdovinos Olson Valdovinos\", \"weight\": 1, \"weight_count\": 1}, {\"arrows\": \"to\", \"from\": \"Maria Valdovinos Olson Valdovinos\", \"to\": \"Michael Lebron\", \"weight\": 1, \"weight_count\": 1}, {\"arrows\": \"to\", \"from\": \"Maria Valdovinos Olson Valdovinos\", \"to\": \"Sarita Coletrane\", \"weight\": 1, \"weight_count\": 1}, {\"arrows\": \"to\", \"from\": \"Maria Valdovinos Olson Valdovinos\", \"to\": \"Travis Riddle\", \"weight\": 1, \"weight_count\": 1}, {\"arrows\": \"to\", \"from\": \"Maria Valdovinos Olson Valdovinos\", \"to\": \"Travis Taniguchi\", \"weight\": 1, \"weight_count\": 1}, {\"arrows\": \"to\", \"from\": \"Maria Valdovinos Olson Valdovinos\", \"to\": \"Yukun Yang\", \"weight\": 1, \"weight_count\": 1}, {\"arrows\": \"to\", \"from\": \"Mary Kate Murphy\", \"to\": \"Rebecca Benson\", \"weight\": 1, \"weight_count\": 1}, {\"arrows\": \"to\", \"from\": \"Mary Kate Murphy\", \"to\": \"Scarlett Ojeda Geldres\", \"weight\": 1, \"weight_count\": 1}, {\"arrows\": \"to\", \"from\": \"Mary Kate Murphy\", \"to\": \"Yukun Yang\", \"weight\": 1, \"weight_count\": 1}, {\"arrows\": \"to\", \"from\": \"Rick Haake\", \"to\": \"Aisha Jamil\", \"weight\": 1, \"weight_count\": 1}, {\"arrows\": \"to\", \"from\": \"Rick Haake\", \"to\": \"Danielle Parsons\", \"weight\": 1, \"weight_count\": 6}, {\"arrows\": \"to\", \"from\": \"Rick Haake\", \"to\": \"Garrett Johnson\", \"weight\": 1, \"weight_count\": 1}, {\"arrows\": \"to\", \"from\": \"Rick Haake\", \"to\": \"Lorena Singer\", \"weight\": 1, \"weight_count\": 2}, {\"arrows\": \"to\", \"from\": \"Rick Haake\", \"to\": \"Rick Haake\", \"weight\": 1, \"weight_count\": 3}, {\"arrows\": \"to\", \"from\": \"Rick Haake\", \"to\": \"Sarita Coletrane\", \"weight\": 1, \"weight_count\": 1}, {\"arrows\": \"to\", \"from\": \"Sarita Coletrane\", \"to\": \"Aisha Jamil\", \"weight\": 1, \"weight_count\": 1}, {\"arrows\": \"to\", \"from\": \"Sarita Coletrane\", \"to\": \"Ben Gorban\", \"weight\": 1, \"weight_count\": 2}, {\"arrows\": \"to\", \"from\": \"Sarita Coletrane\", \"to\": \"Brett Cowell\", \"weight\": 1, \"weight_count\": 1}, {\"arrows\": \"to\", \"from\": \"Sarita Coletrane\", \"to\": \"Christine Johnson\", \"weight\": 1, \"weight_count\": 1}, {\"arrows\": \"to\", \"from\": \"Sarita Coletrane\", \"to\": \"Danielle Parsons\", \"weight\": 1, \"weight_count\": 3}, {\"arrows\": \"to\", \"from\": \"Sarita Coletrane\", \"to\": \"Eiryn Renouard\", \"weight\": 1, \"weight_count\": 1}, {\"arrows\": \"to\", \"from\": \"Sarita Coletrane\", \"to\": \"Elizabeth Fontaine\", \"weight\": 1, \"weight_count\": 6}, {\"arrows\": \"to\", \"from\": \"Sarita Coletrane\", \"to\": \"Erica Richardson\", \"weight\": 1, \"weight_count\": 1}, {\"arrows\": \"to\", \"from\": \"Sarita Coletrane\", \"to\": \"Garrett Johnson\", \"weight\": 1, \"weight_count\": 1}, {\"arrows\": \"to\", \"from\": \"Sarita Coletrane\", \"to\": \"Jane Mott-Palmer\", \"weight\": 1, \"weight_count\": 1}, {\"arrows\": \"to\", \"from\": \"Sarita Coletrane\", \"to\": \"Jim Burch\", \"weight\": 1, \"weight_count\": 1}, {\"arrows\": \"to\", \"from\": \"Sarita Coletrane\", \"to\": \"Julia Kessler\", \"weight\": 1, \"weight_count\": 1}, {\"arrows\": \"to\", \"from\": \"Sarita Coletrane\", \"to\": \"Karen Amendola\", \"weight\": 1, \"weight_count\": 1}, {\"arrows\": \"to\", \"from\": \"Sarita Coletrane\", \"to\": \"Maria Valdovinos Olson Valdovinos\", \"weight\": 1, \"weight_count\": 1}, {\"arrows\": \"to\", \"from\": \"Sarita Coletrane\", \"to\": \"Mary Kate Murphy\", \"weight\": 1, \"weight_count\": 1}, {\"arrows\": \"to\", \"from\": \"Sarita Coletrane\", \"to\": \"Michael Lebron\", \"weight\": 1, \"weight_count\": 2}, {\"arrows\": \"to\", \"from\": \"Sarita Coletrane\", \"to\": \"Pauline Alvarado\", \"weight\": 1, \"weight_count\": 1}, {\"arrows\": \"to\", \"from\": \"Sarita Coletrane\", \"to\": \"Sarita Coletrane\", \"weight\": 1, \"weight_count\": 5}, {\"arrows\": \"to\", \"from\": \"Sarita Coletrane\", \"to\": \"Scarlett Ojeda Geldres\", \"weight\": 1, \"weight_count\": 1}, {\"arrows\": \"to\", \"from\": \"Sarita Coletrane\", \"to\": \"Trenay Wren-Evans\", \"weight\": 1, \"weight_count\": 1}, {\"arrows\": \"to\", \"from\": \"Tamara Martin\", \"to\": \"Aisha Jamil\", \"weight\": 1, \"weight_count\": 3}, {\"arrows\": \"to\", \"from\": \"Tamara Martin\", \"to\": \"Ben Gorban\", \"weight\": 1, \"weight_count\": 1}, {\"arrows\": \"to\", \"from\": \"Tamara Martin\", \"to\": \"Brett Cowell\", \"weight\": 1, \"weight_count\": 1}, {\"arrows\": \"to\", \"from\": \"Tamara Martin\", \"to\": \"Erica Richardson\", \"weight\": 1, \"weight_count\": 4}, {\"arrows\": \"to\", \"from\": \"Tamara Martin\", \"to\": \"Jane Mott-Palmer\", \"weight\": 1, \"weight_count\": 1}, {\"arrows\": \"to\", \"from\": \"Tamara Martin\", \"to\": \"Mary Kate Murphy\", \"weight\": 1, \"weight_count\": 1}, {\"arrows\": \"to\", \"from\": \"Trenay Wren-Evans\", \"to\": \"Ben Gorban\", \"weight\": 1, \"weight_count\": 1}, {\"arrows\": \"to\", \"from\": \"Trenay Wren-Evans\", \"to\": \"Erica Richardson\", \"weight\": 1, \"weight_count\": 1}, {\"arrows\": \"to\", \"from\": \"Trenay Wren-Evans\", \"to\": \"Michael Lebron\", \"weight\": 1, \"weight_count\": 1}, {\"arrows\": \"to\", \"from\": \"Trenay Wren-Evans\", \"to\": \"Pauline Alvarado\", \"weight\": 1, \"weight_count\": 2}, {\"arrows\": \"to\", \"from\": \"Trenay Wren-Evans\", \"to\": \"Sarita Coletrane\", \"weight\": 1, \"weight_count\": 1}, {\"arrows\": \"to\", \"from\": \"Trenay Wren-Evans\", \"to\": \"Travis Riddle\", \"weight\": 1, \"weight_count\": 1}, {\"arrows\": \"to\", \"from\": \"Trenay Wren-Evans\", \"to\": \"Trenay Wren-Evans\", \"weight\": 1, \"weight_count\": 1}, {\"arrows\": \"to\", \"from\": \"Yukun Yang\", \"to\": \"Aisha Jamil\", \"weight\": 1, \"weight_count\": 1}, {\"arrows\": \"to\", \"from\": \"Yukun Yang\", \"to\": \"Ben Gorban\", \"weight\": 1, \"weight_count\": 1}, {\"arrows\": \"to\", \"from\": \"Yukun Yang\", \"to\": \"Christine Johnson\", \"weight\": 1, \"weight_count\": 2}, {\"arrows\": \"to\", \"from\": \"Yukun Yang\", \"to\": \"Danielle Boekankamp\", \"weight\": 1, \"weight_count\": 1}, {\"arrows\": \"to\", \"from\": \"Yukun Yang\", \"to\": \"Dominique Burton\", \"weight\": 1, \"weight_count\": 1}, {\"arrows\": \"to\", \"from\": \"Yukun Yang\", \"to\": \"Eiryn Renouard\", \"weight\": 1, \"weight_count\": 1}, {\"arrows\": \"to\", \"from\": \"Yukun Yang\", \"to\": \"Erica Richardson\", \"weight\": 1, \"weight_count\": 2}, {\"arrows\": \"to\", \"from\": \"Yukun Yang\", \"to\": \"Heather Vovak\", \"weight\": 1, \"weight_count\": 1}, {\"arrows\": \"to\", \"from\": \"Yukun Yang\", \"to\": \"Karen Amendola\", \"weight\": 1, \"weight_count\": 1}, {\"arrows\": \"to\", \"from\": \"Yukun Yang\", \"to\": \"Maria Valdovinos Olson Valdovinos\", \"weight\": 1, \"weight_count\": 1}, {\"arrows\": \"to\", \"from\": \"Yukun Yang\", \"to\": \"Pauline Alvarado\", \"weight\": 1, \"weight_count\": 2}, {\"arrows\": \"to\", \"from\": \"Yukun Yang\", \"to\": \"Sarita Coletrane\", \"weight\": 1, \"weight_count\": 3}, {\"arrows\": \"to\", \"from\": \"Yukun Yang\", \"to\": \"Travis Riddle\", \"weight\": 1, \"weight_count\": 2}, {\"arrows\": \"to\", \"from\": \"Brett Cowell\", \"to\": \"Aisha Jamil\", \"weight\": 1, \"weight_count\": 1}, {\"arrows\": \"to\", \"from\": \"Brett Cowell\", \"to\": \"Ben Gorban\", \"weight\": 1, \"weight_count\": 2}, {\"arrows\": \"to\", \"from\": \"Brett Cowell\", \"to\": \"Christine Johnson\", \"weight\": 1, \"weight_count\": 1}, {\"arrows\": \"to\", \"from\": \"Brett Cowell\", \"to\": \"Erica Richardson\", \"weight\": 1, \"weight_count\": 1}, {\"arrows\": \"to\", \"from\": \"Brett Cowell\", \"to\": \"Julia Kessler\", \"weight\": 1, \"weight_count\": 2}, {\"arrows\": \"to\", \"from\": \"Brett Cowell\", \"to\": \"Karen Amendola\", \"weight\": 1, \"weight_count\": 2}, {\"arrows\": \"to\", \"from\": \"Brett Cowell\", \"to\": \"Kerry Yerico\", \"weight\": 1, \"weight_count\": 2}, {\"arrows\": \"to\", \"from\": \"Brett Cowell\", \"to\": \"Maria Valdovinos Olson Valdovinos\", \"weight\": 1, \"weight_count\": 1}, {\"arrows\": \"to\", \"from\": \"Brianna Sclafani\", \"to\": \"Aisha Jamil\", \"weight\": 1, \"weight_count\": 1}, {\"arrows\": \"to\", \"from\": \"Brianna Sclafani\", \"to\": \"Ben Gorban\", \"weight\": 1, \"weight_count\": 1}, {\"arrows\": \"to\", \"from\": \"Brianna Sclafani\", \"to\": \"Sarah Vanselow\", \"weight\": 1, \"weight_count\": 1}, {\"arrows\": \"to\", \"from\": \"Brianna Sclafani\", \"to\": \"Sarita Coletrane\", \"weight\": 1, \"weight_count\": 1}, {\"arrows\": \"to\", \"from\": \"Danielle Parsons\", \"to\": \"Garrett Johnson\", \"weight\": 1, \"weight_count\": 1}, {\"arrows\": \"to\", \"from\": \"Danielle Parsons\", \"to\": \"Lorena Singer\", \"weight\": 1, \"weight_count\": 1}, {\"arrows\": \"to\", \"from\": \"Danielle Parsons\", \"to\": \"Rick Haake\", \"weight\": 1, \"weight_count\": 2}, {\"arrows\": \"to\", \"from\": \"Danielle Parsons\", \"to\": \"Sarita Coletrane\", \"weight\": 1, \"weight_count\": 1}, {\"arrows\": \"to\", \"from\": \"Danielle Parsons\", \"to\": \"Scarlett Ojeda Geldres\", \"weight\": 1, \"weight_count\": 1}, {\"arrows\": \"to\", \"from\": \"Eiryn Renouard\", \"to\": \"Brianna Sclafani\", \"weight\": 1, \"weight_count\": 1}, {\"arrows\": \"to\", \"from\": \"Eiryn Renouard\", \"to\": \"Danielle Parsons\", \"weight\": 1, \"weight_count\": 1}, {\"arrows\": \"to\", \"from\": \"Eiryn Renouard\", \"to\": \"Erica Richardson\", \"weight\": 1, \"weight_count\": 1}, {\"arrows\": \"to\", \"from\": \"Eiryn Renouard\", \"to\": \"Julia Kessler\", \"weight\": 1, \"weight_count\": 3}, {\"arrows\": \"to\", \"from\": \"Eiryn Renouard\", \"to\": \"Sarah Vanselow\", \"weight\": 1, \"weight_count\": 4}, {\"arrows\": \"to\", \"from\": \"Eiryn Renouard\", \"to\": \"Sarita Coletrane\", \"weight\": 1, \"weight_count\": 1}, {\"arrows\": \"to\", \"from\": \"Julia Kessler\", \"to\": \"Ben Gorban\", \"weight\": 1, \"weight_count\": 1}, {\"arrows\": \"to\", \"from\": \"Julia Kessler\", \"to\": \"Eiryn Renouard\", \"weight\": 1, \"weight_count\": 5}, {\"arrows\": \"to\", \"from\": \"Julia Kessler\", \"to\": \"Jane Mott-Palmer\", \"weight\": 1, \"weight_count\": 1}, {\"arrows\": \"to\", \"from\": \"Julia Kessler\", \"to\": \"Kerry Yerico\", \"weight\": 1, \"weight_count\": 3}, {\"arrows\": \"to\", \"from\": \"Julia Kessler\", \"to\": \"Sarah Vanselow\", \"weight\": 1, \"weight_count\": 4}, {\"arrows\": \"to\", \"from\": \"Julia Kessler\", \"to\": \"Sarita Coletrane\", \"weight\": 1, \"weight_count\": 1}, {\"arrows\": \"to\", \"from\": \"Julia Kessler\", \"to\": \"Travis Riddle\", \"weight\": 1, \"weight_count\": 1}, {\"arrows\": \"to\", \"from\": \"Sarah Vanselow\", \"to\": \"Ben Gorban\", \"weight\": 1, \"weight_count\": 1}, {\"arrows\": \"to\", \"from\": \"Sarah Vanselow\", \"to\": \"Julia Kessler\", \"weight\": 1, \"weight_count\": 3}, {\"arrows\": \"to\", \"from\": \"Sarah Vanselow\", \"to\": \"Kerry Yerico\", \"weight\": 1, \"weight_count\": 2}, {\"arrows\": \"to\", \"from\": \"Sarah Vanselow\", \"to\": \"Sarah Vanselow\", \"weight\": 1, \"weight_count\": 1}, {\"arrows\": \"to\", \"from\": \"Travis Taniguchi\", \"to\": \"Ben Gorban\", \"weight\": 1, \"weight_count\": 2}, {\"arrows\": \"to\", \"from\": \"Travis Taniguchi\", \"to\": \"Christine Johnson\", \"weight\": 1, \"weight_count\": 2}, {\"arrows\": \"to\", \"from\": \"Travis Taniguchi\", \"to\": \"Eiryn Renouard\", \"weight\": 1, \"weight_count\": 2}, {\"arrows\": \"to\", \"from\": \"Travis Taniguchi\", \"to\": \"Heather Vovak\", \"weight\": 1, \"weight_count\": 1}, {\"arrows\": \"to\", \"from\": \"Travis Taniguchi\", \"to\": \"Jen Zeunik\", \"weight\": 1, \"weight_count\": 1}, {\"arrows\": \"to\", \"from\": \"Travis Taniguchi\", \"to\": \"Karen Amendola\", \"weight\": 1, \"weight_count\": 5}, {\"arrows\": \"to\", \"from\": \"Travis Taniguchi\", \"to\": \"Katherine Hoogesteyn\", \"weight\": 1, \"weight_count\": 4}, {\"arrows\": \"to\", \"from\": \"Travis Taniguchi\", \"to\": \"Maria Valdovinos Olson Valdovinos\", \"weight\": 1, \"weight_count\": 5}, {\"arrows\": \"to\", \"from\": \"Travis Taniguchi\", \"to\": \"Mary Kate Murphy\", \"weight\": 1, \"weight_count\": 1}, {\"arrows\": \"to\", \"from\": \"Travis Taniguchi\", \"to\": \"Michael Lebron\", \"weight\": 1, \"weight_count\": 1}, {\"arrows\": \"to\", \"from\": \"Travis Taniguchi\", \"to\": \"Sarita Coletrane\", \"weight\": 1, \"weight_count\": 1}, {\"arrows\": \"to\", \"from\": \"Travis Taniguchi\", \"to\": \"Travis Riddle\", \"weight\": 1, \"weight_count\": 2}, {\"arrows\": \"to\", \"from\": \"Travis Taniguchi\", \"to\": \"Travis Taniguchi\", \"weight\": 1, \"weight_count\": 2}, {\"arrows\": \"to\", \"from\": \"Travis Taniguchi\", \"to\": \"Yukun Yang\", \"weight\": 1, \"weight_count\": 5}, {\"arrows\": \"to\", \"from\": \"Christine Johnson\", \"to\": \"Aisha Jamil\", \"weight\": 1, \"weight_count\": 2}, {\"arrows\": \"to\", \"from\": \"Christine Johnson\", \"to\": \"Ben Gorban\", \"weight\": 1, \"weight_count\": 4}, {\"arrows\": \"to\", \"from\": \"Christine Johnson\", \"to\": \"Dominique Burton\", \"weight\": 1, \"weight_count\": 3}, {\"arrows\": \"to\", \"from\": \"Christine Johnson\", \"to\": \"Erica Richardson\", \"weight\": 1, \"weight_count\": 2}, {\"arrows\": \"to\", \"from\": \"Christine Johnson\", \"to\": \"Jen Zeunik\", \"weight\": 1, \"weight_count\": 1}, {\"arrows\": \"to\", \"from\": \"Christine Johnson\", \"to\": \"Maria Valdovinos Olson Valdovinos\", \"weight\": 1, \"weight_count\": 1}, {\"arrows\": \"to\", \"from\": \"Christine Johnson\", \"to\": \"Mary Kate Murphy\", \"weight\": 1, \"weight_count\": 2}, {\"arrows\": \"to\", \"from\": \"Christine Johnson\", \"to\": \"Michael Lebron\", \"weight\": 1, \"weight_count\": 1}, {\"arrows\": \"to\", \"from\": \"Christine Johnson\", \"to\": \"Pauline Alvarado\", \"weight\": 1, \"weight_count\": 2}, {\"arrows\": \"to\", \"from\": \"Christine Johnson\", \"to\": \"Yukun Yang\", \"weight\": 1, \"weight_count\": 1}, {\"arrows\": \"to\", \"from\": \"Dominique Burton\", \"to\": \"Ben Gorban\", \"weight\": 1, \"weight_count\": 4}, {\"arrows\": \"to\", \"from\": \"Dominique Burton\", \"to\": \"Christine Johnson\", \"weight\": 1, \"weight_count\": 2}, {\"arrows\": \"to\", \"from\": \"Dominique Burton\", \"to\": \"Erica Richardson\", \"weight\": 1, \"weight_count\": 1}, {\"arrows\": \"to\", \"from\": \"Dominique Burton\", \"to\": \"Frank Straub\", \"weight\": 1, \"weight_count\": 1}, {\"arrows\": \"to\", \"from\": \"Dominique Burton\", \"to\": \"Jen Zeunik\", \"weight\": 1, \"weight_count\": 2}, {\"arrows\": \"to\", \"from\": \"Dominique Burton\", \"to\": \"Mary Kate Murphy\", \"weight\": 1, \"weight_count\": 1}, {\"arrows\": \"to\", \"from\": \"Dominique Burton\", \"to\": \"Pauline Alvarado\", \"weight\": 1, \"weight_count\": 1}, {\"arrows\": \"to\", \"from\": \"Heather Vovak\", \"to\": \"Aisha Jamil\", \"weight\": 1, \"weight_count\": 1}, {\"arrows\": \"to\", \"from\": \"Heather Vovak\", \"to\": \"Ben Gorban\", \"weight\": 1, \"weight_count\": 1}, {\"arrows\": \"to\", \"from\": \"Heather Vovak\", \"to\": \"Brett Cowell\", \"weight\": 1, \"weight_count\": 1}, {\"arrows\": \"to\", \"from\": \"Heather Vovak\", \"to\": \"Eiryn Renouard\", \"weight\": 1, \"weight_count\": 1}, {\"arrows\": \"to\", \"from\": \"Heather Vovak\", \"to\": \"Karen Amendola\", \"weight\": 1, \"weight_count\": 1}, {\"arrows\": \"to\", \"from\": \"Heather Vovak\", \"to\": \"Maria Valdovinos Olson Valdovinos\", \"weight\": 1, \"weight_count\": 3}, {\"arrows\": \"to\", \"from\": \"Heather Vovak\", \"to\": \"Michael Lebron\", \"weight\": 1, \"weight_count\": 1}, {\"arrows\": \"to\", \"from\": \"Heather Vovak\", \"to\": \"Sarita Coletrane\", \"weight\": 1, \"weight_count\": 2}, {\"arrows\": \"to\", \"from\": \"Heather Vovak\", \"to\": \"Travis Riddle\", \"weight\": 1, \"weight_count\": 2}, {\"arrows\": \"to\", \"from\": \"Heather Vovak\", \"to\": \"Travis Taniguchi\", \"weight\": 1, \"weight_count\": 1}, {\"arrows\": \"to\", \"from\": \"Heather Vovak\", \"to\": \"Yukun Yang\", \"weight\": 1, \"weight_count\": 1}, {\"arrows\": \"to\", \"from\": \"Jen Zeunik\", \"to\": \"Aisha Jamil\", \"weight\": 1, \"weight_count\": 1}, {\"arrows\": \"to\", \"from\": \"Jen Zeunik\", \"to\": \"Ben Gorban\", \"weight\": 1, \"weight_count\": 3}, {\"arrows\": \"to\", \"from\": \"Jen Zeunik\", \"to\": \"Brianna Sclafani\", \"weight\": 1, \"weight_count\": 1}, {\"arrows\": \"to\", \"from\": \"Jen Zeunik\", \"to\": \"Christine Johnson\", \"weight\": 1, \"weight_count\": 2}, {\"arrows\": \"to\", \"from\": \"Jen Zeunik\", \"to\": \"Dominique Burton\", \"weight\": 1, \"weight_count\": 2}, {\"arrows\": \"to\", \"from\": \"Jen Zeunik\", \"to\": \"Eiryn Renouard\", \"weight\": 1, \"weight_count\": 1}, {\"arrows\": \"to\", \"from\": \"Jen Zeunik\", \"to\": \"Elizabeth Fontaine\", \"weight\": 1, \"weight_count\": 1}, {\"arrows\": \"to\", \"from\": \"Jen Zeunik\", \"to\": \"Katherine Hoogesteyn\", \"weight\": 1, \"weight_count\": 3}, {\"arrows\": \"to\", \"from\": \"Jen Zeunik\", \"to\": \"Maria Valdovinos Olson Valdovinos\", \"weight\": 1, \"weight_count\": 2}, {\"arrows\": \"to\", \"from\": \"Jen Zeunik\", \"to\": \"Mary Kate Murphy\", \"weight\": 1, \"weight_count\": 3}, {\"arrows\": \"to\", \"from\": \"Jen Zeunik\", \"to\": \"Pauline Alvarado\", \"weight\": 1, \"weight_count\": 4}, {\"arrows\": \"to\", \"from\": \"Jen Zeunik\", \"to\": \"Rebecca Benson\", \"weight\": 1, \"weight_count\": 1}, {\"arrows\": \"to\", \"from\": \"Jen Zeunik\", \"to\": \"Sarita Coletrane\", \"weight\": 1, \"weight_count\": 2}, {\"arrows\": \"to\", \"from\": \"Jen Zeunik\", \"to\": \"Travis Riddle\", \"weight\": 1, \"weight_count\": 2}, {\"arrows\": \"to\", \"from\": \"Jen Zeunik\", \"to\": \"Travis Taniguchi\", \"weight\": 1, \"weight_count\": 3}, {\"arrows\": \"to\", \"from\": \"Jen Zeunik\", \"to\": \"Yukun Yang\", \"weight\": 1, \"weight_count\": 2}, {\"arrows\": \"to\", \"from\": \"Katherine Hoogesteyn\", \"to\": \"Aisha Jamil\", \"weight\": 1, \"weight_count\": 3}, {\"arrows\": \"to\", \"from\": \"Katherine Hoogesteyn\", \"to\": \"Ben Gorban\", \"weight\": 1, \"weight_count\": 2}, {\"arrows\": \"to\", \"from\": \"Katherine Hoogesteyn\", \"to\": \"Danielle Boekankamp\", \"weight\": 1, \"weight_count\": 1}, {\"arrows\": \"to\", \"from\": \"Katherine Hoogesteyn\", \"to\": \"Elizabeth Fontaine\", \"weight\": 1, \"weight_count\": 1}, {\"arrows\": \"to\", \"from\": \"Katherine Hoogesteyn\", \"to\": \"Fern Hernberg\", \"weight\": 1, \"weight_count\": 1}, {\"arrows\": \"to\", \"from\": \"Katherine Hoogesteyn\", \"to\": \"Karen Amendola\", \"weight\": 1, \"weight_count\": 2}, {\"arrows\": \"to\", \"from\": \"Katherine Hoogesteyn\", \"to\": \"Maria Valdovinos Olson Valdovinos\", \"weight\": 1, \"weight_count\": 1}, {\"arrows\": \"to\", \"from\": \"Katherine Hoogesteyn\", \"to\": \"Michael Lebron\", \"weight\": 1, \"weight_count\": 2}, {\"arrows\": \"to\", \"from\": \"Katherine Hoogesteyn\", \"to\": \"Pauline Alvarado\", \"weight\": 1, \"weight_count\": 2}, {\"arrows\": \"to\", \"from\": \"Katherine Hoogesteyn\", \"to\": \"Sarita Coletrane\", \"weight\": 1, \"weight_count\": 3}, {\"arrows\": \"to\", \"from\": \"Katherine Hoogesteyn\", \"to\": \"Travis Riddle\", \"weight\": 1, \"weight_count\": 1}, {\"arrows\": \"to\", \"from\": \"Katherine Hoogesteyn\", \"to\": \"Travis Taniguchi\", \"weight\": 1, \"weight_count\": 2}, {\"arrows\": \"to\", \"from\": \"Katherine Hoogesteyn\", \"to\": \"Trenay Wren-Evans\", \"weight\": 1, \"weight_count\": 1}, {\"arrows\": \"to\", \"from\": \"Michael Lebron\", \"to\": \"Ben Gorban\", \"weight\": 1, \"weight_count\": 1}, {\"arrows\": \"to\", \"from\": \"Michael Lebron\", \"to\": \"Eiryn Renouard\", \"weight\": 1, \"weight_count\": 2}, {\"arrows\": \"to\", \"from\": \"Michael Lebron\", \"to\": \"Heather Vovak\", \"weight\": 1, \"weight_count\": 2}, {\"arrows\": \"to\", \"from\": \"Michael Lebron\", \"to\": \"Julia Kessler\", \"weight\": 1, \"weight_count\": 1}, {\"arrows\": \"to\", \"from\": \"Michael Lebron\", \"to\": \"Katherine Hoogesteyn\", \"weight\": 1, \"weight_count\": 2}, {\"arrows\": \"to\", \"from\": \"Michael Lebron\", \"to\": \"Maria Valdovinos Olson Valdovinos\", \"weight\": 1, \"weight_count\": 1}, {\"arrows\": \"to\", \"from\": \"Michael Lebron\", \"to\": \"Sarita Coletrane\", \"weight\": 1, \"weight_count\": 3}, {\"arrows\": \"to\", \"from\": \"Michael Lebron\", \"to\": \"Travis Taniguchi\", \"weight\": 1, \"weight_count\": 1}, {\"arrows\": \"to\", \"from\": \"Pauline Alvarado\", \"to\": \"Ben Gorban\", \"weight\": 1, \"weight_count\": 1}, {\"arrows\": \"to\", \"from\": \"Pauline Alvarado\", \"to\": \"Brianna Sclafani\", \"weight\": 1, \"weight_count\": 1}, {\"arrows\": \"to\", \"from\": \"Pauline Alvarado\", \"to\": \"Christine Johnson\", \"weight\": 1, \"weight_count\": 3}, {\"arrows\": \"to\", \"from\": \"Pauline Alvarado\", \"to\": \"Danielle Boekankamp\", \"weight\": 1, \"weight_count\": 2}, {\"arrows\": \"to\", \"from\": \"Pauline Alvarado\", \"to\": \"Dominique Burton\", \"weight\": 1, \"weight_count\": 1}, {\"arrows\": \"to\", \"from\": \"Pauline Alvarado\", \"to\": \"Erica Richardson\", \"weight\": 1, \"weight_count\": 1}, {\"arrows\": \"to\", \"from\": \"Pauline Alvarado\", \"to\": \"Jen Zeunik\", \"weight\": 1, \"weight_count\": 2}, {\"arrows\": \"to\", \"from\": \"Pauline Alvarado\", \"to\": \"Katherine Hoogesteyn\", \"weight\": 1, \"weight_count\": 1}, {\"arrows\": \"to\", \"from\": \"Pauline Alvarado\", \"to\": \"Mary Kate Murphy\", \"weight\": 1, \"weight_count\": 2}, {\"arrows\": \"to\", \"from\": \"Pauline Alvarado\", \"to\": \"Pauline Alvarado\", \"weight\": 1, \"weight_count\": 1}, {\"arrows\": \"to\", \"from\": \"Pauline Alvarado\", \"to\": \"Sarita Coletrane\", \"weight\": 1, \"weight_count\": 2}, {\"arrows\": \"to\", \"from\": \"Pauline Alvarado\", \"to\": \"Travis Riddle\", \"weight\": 1, \"weight_count\": 2}, {\"arrows\": \"to\", \"from\": \"Pauline Alvarado\", \"to\": \"Travis Taniguchi\", \"weight\": 1, \"weight_count\": 1}, {\"arrows\": \"to\", \"from\": \"Pauline Alvarado\", \"to\": \"Trenay Wren-Evans\", \"weight\": 1, \"weight_count\": 2}, {\"arrows\": \"to\", \"from\": \"Scarlett Ojeda Geldres\", \"to\": \"Aisha Jamil\", \"weight\": 1, \"weight_count\": 1}, {\"arrows\": \"to\", \"from\": \"Scarlett Ojeda Geldres\", \"to\": \"Brett Cowell\", \"weight\": 1, \"weight_count\": 1}, {\"arrows\": \"to\", \"from\": \"Scarlett Ojeda Geldres\", \"to\": \"Danielle Parsons\", \"weight\": 1, \"weight_count\": 1}, {\"arrows\": \"to\", \"from\": \"Scarlett Ojeda Geldres\", \"to\": \"Eiryn Renouard\", \"weight\": 1, \"weight_count\": 1}, {\"arrows\": \"to\", \"from\": \"Scarlett Ojeda Geldres\", \"to\": \"Fern Hernberg\", \"weight\": 1, \"weight_count\": 1}, {\"arrows\": \"to\", \"from\": \"Scarlett Ojeda Geldres\", \"to\": \"Jen Zeunik\", \"weight\": 1, \"weight_count\": 1}, {\"arrows\": \"to\", \"from\": \"Scarlett Ojeda Geldres\", \"to\": \"Jim Burch\", \"weight\": 1, \"weight_count\": 1}, {\"arrows\": \"to\", \"from\": \"Scarlett Ojeda Geldres\", \"to\": \"Mary Kate Murphy\", \"weight\": 1, \"weight_count\": 1}, {\"arrows\": \"to\", \"from\": \"Scarlett Ojeda Geldres\", \"to\": \"Sarita Coletrane\", \"weight\": 1, \"weight_count\": 4}, {\"arrows\": \"to\", \"from\": \"Scarlett Ojeda Geldres\", \"to\": \"Scarlett Ojeda Geldres\", \"weight\": 1, \"weight_count\": 4}, {\"arrows\": \"to\", \"from\": \"Scarlett Ojeda Geldres\", \"to\": \"Trenay Wren-Evans\", \"weight\": 1, \"weight_count\": 1}, {\"arrows\": \"to\", \"from\": \"Danielle Boekankamp\", \"to\": \"Danielle Boekankamp\", \"weight\": 1, \"weight_count\": 1}, {\"arrows\": \"to\", \"from\": \"Garrett Johnson\", \"to\": \"Danielle Parsons\", \"weight\": 1, \"weight_count\": 4}, {\"arrows\": \"to\", \"from\": \"Garrett Johnson\", \"to\": \"Garrett Johnson\", \"weight\": 1, \"weight_count\": 1}, {\"arrows\": \"to\", \"from\": \"Garrett Johnson\", \"to\": \"Lorena Singer\", \"weight\": 1, \"weight_count\": 2}, {\"arrows\": \"to\", \"from\": \"Garrett Johnson\", \"to\": \"Sarita Coletrane\", \"weight\": 1, \"weight_count\": 1}, {\"arrows\": \"to\", \"from\": \"Frank Straub\", \"to\": \"Ben Gorban\", \"weight\": 1, \"weight_count\": 1}, {\"arrows\": \"to\", \"from\": \"Frank Straub\", \"to\": \"Christine Johnson\", \"weight\": 1, \"weight_count\": 1}, {\"arrows\": \"to\", \"from\": \"Frank Straub\", \"to\": \"Dominique Burton\", \"weight\": 1, \"weight_count\": 1}, {\"arrows\": \"to\", \"from\": \"Frank Straub\", \"to\": \"Michael Lebron\", \"weight\": 1, \"weight_count\": 1}, {\"arrows\": \"to\", \"from\": \"Frank Straub\", \"to\": \"Sarita Coletrane\", \"weight\": 1, \"weight_count\": 2}, {\"arrows\": \"to\", \"from\": \"Elizabeth Fontaine\", \"to\": \"Christine Johnson\", \"weight\": 1, \"weight_count\": 1}, {\"arrows\": \"to\", \"from\": \"Elizabeth Fontaine\", \"to\": \"Dominique Burton\", \"weight\": 1, \"weight_count\": 1}, {\"arrows\": \"to\", \"from\": \"Elizabeth Fontaine\", \"to\": \"Erica Richardson\", \"weight\": 1, \"weight_count\": 1}, {\"arrows\": \"to\", \"from\": \"Elizabeth Fontaine\", \"to\": \"Jen Zeunik\", \"weight\": 1, \"weight_count\": 1}, {\"arrows\": \"to\", \"from\": \"Elizabeth Fontaine\", \"to\": \"Maria Valdovinos Olson Valdovinos\", \"weight\": 1, \"weight_count\": 1}, {\"arrows\": \"to\", \"from\": \"Elizabeth Fontaine\", \"to\": \"Scarlett Ojeda Geldres\", \"weight\": 1, \"weight_count\": 2}, {\"arrows\": \"to\", \"from\": \"Fern Hernberg\", \"to\": \"Ben Gorban\", \"weight\": 1, \"weight_count\": 1}, {\"arrows\": \"to\", \"from\": \"Fern Hernberg\", \"to\": \"Brett Cowell\", \"weight\": 1, \"weight_count\": 1}, {\"arrows\": \"to\", \"from\": \"Fern Hernberg\", \"to\": \"Frank Straub\", \"weight\": 1, \"weight_count\": 1}, {\"arrows\": \"to\", \"from\": \"Fern Hernberg\", \"to\": \"Jim Burch\", \"weight\": 1, \"weight_count\": 5}, {\"arrows\": \"to\", \"from\": \"Jim Burch\", \"to\": \"Aisha Jamil\", \"weight\": 1, \"weight_count\": 1}, {\"arrows\": \"to\", \"from\": \"Jim Burch\", \"to\": \"Ben Gorban\", \"weight\": 1, \"weight_count\": 1}, {\"arrows\": \"to\", \"from\": \"Jim Burch\", \"to\": \"Christine Johnson\", \"weight\": 1, \"weight_count\": 1}, {\"arrows\": \"to\", \"from\": \"Jim Burch\", \"to\": \"Dominique Burton\", \"weight\": 1, \"weight_count\": 2}, {\"arrows\": \"to\", \"from\": \"Jim Burch\", \"to\": \"Elizabeth Fontaine\", \"weight\": 1, \"weight_count\": 3}, {\"arrows\": \"to\", \"from\": \"Jim Burch\", \"to\": \"Fern Hernberg\", \"weight\": 1, \"weight_count\": 3}, {\"arrows\": \"to\", \"from\": \"Jim Burch\", \"to\": \"Jane Mott-Palmer\", \"weight\": 1, \"weight_count\": 1}, {\"arrows\": \"to\", \"from\": \"Jim Burch\", \"to\": \"Julia Kessler\", \"weight\": 1, \"weight_count\": 2}, {\"arrows\": \"to\", \"from\": \"Jim Burch\", \"to\": \"Karen Amendola\", \"weight\": 1, \"weight_count\": 1}, {\"arrows\": \"to\", \"from\": \"Jim Burch\", \"to\": \"Katherine Hoogesteyn\", \"weight\": 1, \"weight_count\": 1}, {\"arrows\": \"to\", \"from\": \"Jim Burch\", \"to\": \"Kerry Yerico\", \"weight\": 1, \"weight_count\": 2}, {\"arrows\": \"to\", \"from\": \"Jim Burch\", \"to\": \"Maria Valdovinos Olson Valdovinos\", \"weight\": 1, \"weight_count\": 1}, {\"arrows\": \"to\", \"from\": \"Jim Burch\", \"to\": \"Michael Lebron\", \"weight\": 1, \"weight_count\": 1}, {\"arrows\": \"to\", \"from\": \"Jim Burch\", \"to\": \"Pauline Alvarado\", \"weight\": 1, \"weight_count\": 1}, {\"arrows\": \"to\", \"from\": \"Jim Burch\", \"to\": \"Scarlett Ojeda Geldres\", \"weight\": 1, \"weight_count\": 1}, {\"arrows\": \"to\", \"from\": \"Jim Burch\", \"to\": \"Travis Taniguchi\", \"weight\": 1, \"weight_count\": 1}, {\"arrows\": \"to\", \"from\": \"Jim Burch\", \"to\": \"Trenay Wren-Evans\", \"weight\": 1, \"weight_count\": 2}, {\"arrows\": \"to\", \"from\": \"Jim Burch\", \"to\": \"Yukun Yang\", \"weight\": 1, \"weight_count\": 4}, {\"arrows\": \"to\", \"from\": \"Travis Riddle\", \"to\": \"Heather Vovak\", \"weight\": 1, \"weight_count\": 1}, {\"arrows\": \"to\", \"from\": \"Travis Riddle\", \"to\": \"Maria Valdovinos Olson Valdovinos\", \"weight\": 1, \"weight_count\": 1}, {\"arrows\": \"to\", \"from\": \"Travis Riddle\", \"to\": \"Michael Lebron\", \"weight\": 1, \"weight_count\": 1}, {\"arrows\": \"to\", \"from\": \"Travis Riddle\", \"to\": \"Pauline Alvarado\", \"weight\": 1, \"weight_count\": 1}, {\"arrows\": \"to\", \"from\": \"Travis Riddle\", \"to\": \"Sarita Coletrane\", \"weight\": 1, \"weight_count\": 2}, {\"arrows\": \"to\", \"from\": \"Travis Riddle\", \"to\": \"Travis Riddle\", \"weight\": 1, \"weight_count\": 1}, {\"arrows\": \"to\", \"from\": \"Travis Riddle\", \"to\": \"Yukun Yang\", \"weight\": 1, \"weight_count\": 2}, {\"arrows\": \"to\", \"from\": \"Jane Mott-Palmer\", \"to\": \"Brett Cowell\", \"weight\": 1, \"weight_count\": 2}, {\"arrows\": \"to\", \"from\": \"Jane Mott-Palmer\", \"to\": \"Erica Richardson\", \"weight\": 1, \"weight_count\": 3}, {\"arrows\": \"to\", \"from\": \"Jane Mott-Palmer\", \"to\": \"Jane Mott-Palmer\", \"weight\": 1, \"weight_count\": 1}, {\"arrows\": \"to\", \"from\": \"Jane Mott-Palmer\", \"to\": \"Maria Valdovinos Olson Valdovinos\", \"weight\": 1, \"weight_count\": 1}, {\"arrows\": \"to\", \"from\": \"Rebecca Benson\", \"to\": \"Christine Johnson\", \"weight\": 1, \"weight_count\": 1}, {\"arrows\": \"to\", \"from\": \"Rebecca Benson\", \"to\": \"Dominique Burton\", \"weight\": 1, \"weight_count\": 2}, {\"arrows\": \"to\", \"from\": \"Rebecca Benson\", \"to\": \"Jen Zeunik\", \"weight\": 1, \"weight_count\": 1}, {\"arrows\": \"to\", \"from\": \"Rebecca Benson\", \"to\": \"Rebecca Benson\", \"weight\": 1, \"weight_count\": 1}, {\"arrows\": \"to\", \"from\": \"Virgil Young\", \"to\": \"Danielle Parsons\", \"weight\": 1, \"weight_count\": 3}, {\"arrows\": \"to\", \"from\": \"Virgil Young\", \"to\": \"Garrett Johnson\", \"weight\": 1, \"weight_count\": 1}, {\"arrows\": \"to\", \"from\": \"Virgil Young\", \"to\": \"Lorena Singer\", \"weight\": 1, \"weight_count\": 1}, {\"arrows\": \"to\", \"from\": \"Virgil Young\", \"to\": \"Rick Haake\", \"weight\": 1, \"weight_count\": 2}, {\"arrows\": \"to\", \"from\": \"Virgil Young\", \"to\": \"Sarita Coletrane\", \"weight\": 1, \"weight_count\": 3}]);\n",
              "\n",
              "        // adding nodes and edges to the graph\n",
              "        data = {nodes: nodes, edges: edges};\n",
              "\n",
              "        var options = {\n",
              "    \"configure\": {\n",
              "        \"enabled\": true,\n",
              "        \"filter\": [\n",
              "            \"physics\"\n",
              "        ]\n",
              "    },\n",
              "    \"edges\": {\n",
              "        \"color\": {\n",
              "            \"inherit\": true\n",
              "        },\n",
              "        \"smooth\": {\n",
              "            \"enabled\": false,\n",
              "            \"type\": \"continuous\"\n",
              "        }\n",
              "    },\n",
              "    \"interaction\": {\n",
              "        \"dragNodes\": true,\n",
              "        \"hideEdgesOnDrag\": false,\n",
              "        \"hideNodesOnDrag\": false\n",
              "    },\n",
              "    \"physics\": {\n",
              "        \"enabled\": true,\n",
              "        \"stabilization\": {\n",
              "            \"enabled\": true,\n",
              "            \"fit\": true,\n",
              "            \"iterations\": 1000,\n",
              "            \"onlyDynamicEdges\": false,\n",
              "            \"updateInterval\": 50\n",
              "        }\n",
              "    }\n",
              "};\n",
              "        \n",
              "        \n",
              "\n",
              "        \n",
              "        // if this network requires displaying the configure window,\n",
              "        // put it in its div\n",
              "        options.configure[\"container\"] = document.getElementById(\"config\");\n",
              "        \n",
              "\n",
              "        network = new vis.Network(container, data, options);\n",
              "\t \n",
              "        \n",
              "\n",
              "\n",
              "        \n",
              "\n",
              "        return network;\n",
              "\n",
              "    }\n",
              "\n",
              "    drawGraph();\n",
              "\n",
              "</script>\n",
              "</body>\n",
              "</html>"
            ],
            "text/plain": [
              "<IPython.core.display.HTML object>"
            ]
          },
          "metadata": {
            "tags": []
          }
        }
      ]
    },
    {
      "cell_type": "code",
      "metadata": {
        "id": "VnXDmmYoYReN"
      },
      "source": [],
      "execution_count": null,
      "outputs": []
    }
  ]
}